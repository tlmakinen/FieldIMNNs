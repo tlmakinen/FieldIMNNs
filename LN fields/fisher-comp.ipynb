{
 "cells": [
  {
   "cell_type": "code",
   "execution_count": 1,
   "metadata": {},
   "outputs": [
    {
     "name": "stdout",
     "output_type": "stream",
     "text": [
      "jax version:  0.2.10\n"
     ]
    }
   ],
   "source": [
    "import jax\n",
    "print(\"jax version: \", jax.__version__)\n",
    "import jax.numpy as np\n",
    "import tensorflow_probability.substrates.jax as tfp\n",
    "tfd = tfp.distributions\n",
    "tfb = tfp.bijectors\n",
    "import matplotlib.pyplot as plt\n",
    "from scipy.linalg import toeplitz\n",
    "\n",
    "rng = jax.random.PRNGKey(2)"
   ]
  },
  {
   "cell_type": "code",
   "execution_count": 2,
   "metadata": {},
   "outputs": [],
   "source": [
    "# for model stuff\n",
    "import jax.experimental.optimizers as optimizers\n",
    "import jax.experimental.stax as stax\n",
    "from jax import jit\n",
    "\n",
    "# for imnn\n",
    "import imnn\n",
    "import imnn.lfi\n",
    "import jax\n",
    "import jax.numpy as np\n",
    "import jax_cosmo as jc\n",
    "import matplotlib.pyplot as plt\n",
    "import tensorflow_probability\n",
    "from jax.experimental import optimizers\n",
    "from jax.experimental import stax\n",
    "tfp = tensorflow_probability.substrates.jax\n",
    "rng = jax.random.PRNGKey(0)"
   ]
  },
  {
   "cell_type": "code",
   "execution_count": 3,
   "metadata": {},
   "outputs": [
    {
     "name": "stdout",
     "output_type": "stream",
     "text": [
      "gpu\n"
     ]
    }
   ],
   "source": [
    "from jax.lib import xla_bridge\n",
    "print(xla_bridge.get_backend().platform)"
   ]
  },
  {
   "cell_type": "code",
   "execution_count": 4,
   "metadata": {},
   "outputs": [],
   "source": [
    "N=20"
   ]
  },
  {
   "cell_type": "code",
   "execution_count": 5,
   "metadata": {},
   "outputs": [],
   "source": [
    "def scipy_compute_r2(N):\n",
    "    _Di = np.tile(toeplitz(np.arange(N)), (N, N))\n",
    "    _Dj = np.concatenate(\n",
    "        [np.concatenate(\n",
    "            [np.tile(np.abs(i - j),(N, N)) \n",
    "             for i in range(N)], \n",
    "            axis=0)\n",
    "         for j in range(N)],\n",
    "        axis=1)\n",
    "    _distance_squared = _Di * _Di + _Dj * _Dj\n",
    "    return _distance_squared\n",
    "\n",
    "def compute_r2(N):\n",
    "    _r2 = np.tile(np.abs(np.expand_dims(np.arange(N), 0) \n",
    "                    - np.expand_dims(np.arange(N), 1)), (N, N)) ** 2. + np.abs(np.expand_dims(np.repeat(np.arange(N), N), 0) \n",
    "                             - np.expand_dims(np.repeat(np.arange(N), N), 1)) ** 2.\n",
    "    return _r2\n",
    "\n",
    "r2 = compute_r2(N).astype(np.float32)\n",
    "\n",
    "def ξ_G(β):\n",
    "    return np.exp(\n",
    "        -np.expand_dims(r2, tuple(np.arange(β.ndim))) \n",
    "        / 4. / np.expand_dims(β, (-2, -1))**2.)\n",
    "\n",
    "def get_G_field(β):\n",
    "    pass\n",
    "\n",
    "def fill_zeros(k, value):\n",
    "    from functools import partial\n",
    "\n",
    "    def fnk(k):\n",
    "        return jax.lax.cond(np.less_equal(k, 1e-5), lambda _: value, lambda k: k+value, operand=k)\n",
    "\n",
    "    if len(k.shape) == 1:\n",
    "        return jax.vmap(fnk)(k)\n",
    "    else:\n",
    "        return jax.vmap(partial(fill_zeros, value=value))(k)\n",
    "\n",
    "\n",
    "def xi_LN(r, α, β, PixelNoise=0.01):\n",
    "\n",
    "    xi = 1/(np.power(α+1e-12,2)) * (np.exp(np.power(α,2)*np.exp(-0.25*np.power(r/β,2))) - 1)\n",
    "\n",
    "    # Add pixel noise at zero separation:\n",
    "\n",
    "    xi = fill_zeros(xi, PixelNoise**2)\n",
    "    #xi[np.where(r<1e-5)] += PixelNoise**2\n",
    "\n",
    "    return xi"
   ]
  },
  {
   "cell_type": "code",
   "execution_count": 6,
   "metadata": {},
   "outputs": [],
   "source": [
    "def dxi_LN_dalpha(r, α, β):\n",
    "\n",
    "    _deriv =  2/(α+1e-12) * np.exp(-0.25*np.power(r/β,2)) * np.exp(np.power(α,2)*np.exp(-0.25*np.power(r/β,2))) - 2/np.power(α+1e-12,3) * (np.exp(np.power(α,2)*np.exp(-0.25*np.power(r/β,2))) - 1)\n",
    "    return _deriv\n",
    "\n",
    "def dxi_LN_dbeta(r, β, α):\n",
    "\n",
    "    return (0.5*np.power(r, 2) * np.exp(np.power(α, 2) * np.exp(-0.25 * np.power(r/β,2)) - 0.25*np.power(r/β,2)))*np.power(1./β,3)"
   ]
  },
  {
   "cell_type": "code",
   "execution_count": 7,
   "metadata": {},
   "outputs": [],
   "source": [
    "θ_fid = np.array([1.0, 0.5], dtype='float32')\n",
    "\n",
    "r = np.sqrt(r2)\n",
    "Nsq=N**2"
   ]
  },
  {
   "cell_type": "code",
   "execution_count": 8,
   "metadata": {},
   "outputs": [],
   "source": [
    "def dξdβ(β):\n",
    "    return 0.5 * ((1./β)**3) * r2 * np.exp(-0.25 * r2 * (1./β)**2)\n",
    "def known_fisher(θ, Nsq):\n",
    "    α,β = θ\n",
    "    # get covariance\n",
    "    _ξ    = ξ_G(β)\n",
    "    # get derivative\n",
    "    dξ_dβ   = dξdβ(β) \n",
    "    \n",
    "    Cinv = np.linalg.inv(_ξ)        \n",
    "    \n",
    "    # fisher matrix entries\n",
    "    Faa = 2*Nsq / α**2\n",
    "    Fab = (1. / α) * np.trace(Cinv @ dξ_dβ)\n",
    "    Fba = Fab\n",
    "    Fbb = 0.5 * np.trace(Cinv @ dξ_dβ @ Cinv @ dξ_dβ)\n",
    "\n",
    "    return np.array([[Faa, Fab], [Fba, Fbb]])"
   ]
  },
  {
   "cell_type": "code",
   "execution_count": 9,
   "metadata": {},
   "outputs": [
    {
     "name": "stdout",
     "output_type": "stream",
     "text": [
      "[[ -800.      1215.2694]\n",
      " [ 1215.2694 -5815.5596]]\n",
      "3175567.2\n"
     ]
    }
   ],
   "source": [
    "f = -known_fisher(θ_fid, Nsq)\n",
    "print(f)\n",
    "\n",
    "analytic_detF = np.linalg.det(f)\n",
    "print(analytic_detF)"
   ]
  },
  {
   "cell_type": "code",
   "execution_count": 10,
   "metadata": {},
   "outputs": [],
   "source": [
    "def _f_NL(α, β):\n",
    "    return tfd.TransformedDistribution(\n",
    "      distribution=tfd.MultivariateNormalTriL(\n",
    "          loc=np.zeros((N**2,)),\n",
    "          scale_tril=np.linalg.cholesky(ξ_G(β))),\n",
    "      bijector= tfb.Chain([\n",
    "          tfb.Exp(),\n",
    "          tfb.AffineScalar(\n",
    "              #shift=-0.5 * np.expand_dims(α, -1)**2.,\n",
    "              scale=np.expand_dims(α, -1))]))\n",
    "\n",
    "def loglike(α, β, key):\n",
    "    f_NL = _f_NL(α, β)\n",
    "    return f_NL.log_prob(f_NL.sample(seed=key))\n",
    "\n",
    "@jax.jit\n",
    "def dlnLdθ(α, β, key):\n",
    "    return jax.grad(loglike, argnums=(0, 1))(α, β, key)\n",
    "\n",
    "def numeric_F(α, β, key, n_samples):\n",
    "    keys = np.array(jax.random.split(key, num=n_samples))\n",
    "    return np.cov(np.array(jax.vmap(dlnLdθ)(np.repeat(α, n_samples), np.repeat(β, n_samples), keys)), rowvar=True)\n"
   ]
  },
  {
   "cell_type": "code",
   "execution_count": 11,
   "metadata": {},
   "outputs": [
    {
     "name": "stdout",
     "output_type": "stream",
     "text": [
      "expected F:  [[1131.4911 2208.2644]\n",
      " [2208.2644 4518.899 ]]\n",
      "expected det F:  236661.88\n"
     ]
    }
   ],
   "source": [
    "rng, key = jax.random.split(rng)\n",
    "_a,_b = θ_fid\n",
    "#F_expected = #np.mean(np.array([numeric_F(np.array(_a), np.array(_b), key, 20)\n",
    "              #                  for i in range(10)\n",
    "               #                   ]), axis=0)\n",
    "\n",
    "F_expected = numeric_F(np.array(_a), np.array(_b), key, 500)\n",
    "detF_expected = np.linalg.det(F_expected)\n",
    "\n",
    "print('expected F: ', F_expected)\n",
    "print('expected det F: ', (detF_expected))"
   ]
  },
  {
   "cell_type": "code",
   "execution_count": 12,
   "metadata": {},
   "outputs": [],
   "source": [
    "def hessian_F(α, β, key, n_samples):\n",
    "    keys = jax.random.split(key, num=n_samples)\n",
    "\n",
    "    # Compile a function that computes the Hessian of the likelihood\n",
    "    hessian_loglik = jax.jit(jax.hessian(loglike, argnums=(0,1)))\n",
    "\n",
    "    # Evalauate the Hessian at fiductial cosmology to retrieve Fisher matrix\n",
    "    \n",
    "    return np.mean(np.array([hessian_loglik(α, β, k) for k in keys]), axis=0)"
   ]
  },
  {
   "cell_type": "code",
   "execution_count": 13,
   "metadata": {},
   "outputs": [],
   "source": [
    "num_f = hessian_F(_a, _b, key, 1000)"
   ]
  },
  {
   "cell_type": "code",
   "execution_count": 14,
   "metadata": {},
   "outputs": [
    {
     "data": {
      "text/plain": [
       "DeviceArray([[ 4.0000003e+02, -2.8059673e+00],\n",
       "             [-2.8059669e+00,  3.1324172e+03]], dtype=float32)"
      ]
     },
     "execution_count": 14,
     "metadata": {},
     "output_type": "execute_result"
    }
   ],
   "source": [
    "num_f"
   ]
  },
  {
   "cell_type": "code",
   "execution_count": 16,
   "metadata": {},
   "outputs": [
    {
     "data": {
      "text/plain": [
       "DeviceArray(1252959., dtype=float32)"
      ]
     },
     "execution_count": 16,
     "metadata": {},
     "output_type": "execute_result"
    }
   ],
   "source": [
    "det_num_f = np.linalg.det(num_f)\n",
    "det_num_f"
   ]
  },
  {
   "cell_type": "code",
   "execution_count": 25,
   "metadata": {},
   "outputs": [
    {
     "name": "stdout",
     "output_type": "stream",
     "text": [
      "difference from analytic F:  12.83808\n"
     ]
    }
   ],
   "source": [
    "print('difference from analytic F: ', np.abs(analytic_detF) / detF_expected)"
   ]
  },
  {
   "cell_type": "markdown",
   "metadata": {},
   "source": [
    "# define LN class"
   ]
  },
  {
   "cell_type": "code",
   "execution_count": 12,
   "metadata": {},
   "outputs": [],
   "source": [
    "# Define a log_normal field class (Florent's paper -> JAX)\n",
    "class LogNormalField:\n",
    "    @staticmethod\n",
    "    def compute_rsquared(nside):\n",
    "        \"\"\"\n",
    "        Compute the correlation function of the underlying gaussian field\n",
    "        \n",
    "        Parameters:\n",
    "            nside : int\n",
    "                Image is nside x nside pixels\n",
    "        \"\"\"\n",
    "        import jax.numpy as np\n",
    "        from scipy.linalg import toeplitz\n",
    "        \n",
    "        _Di = np.tile(toeplitz(np.arange(nside)),(nside,nside))\n",
    "        _Dj = np.concatenate(\n",
    "                            [np.concatenate(\n",
    "                                            [np.tile(np.abs(i-j),(nside,nside)) for i in range(nside)],\n",
    "                                            axis=0)\n",
    "                            for j in range(nside)],axis=1)\n",
    "        _distance_squared = _Di*_Di+_Dj*_Dj\n",
    "        \n",
    "        return _distance_squared\n",
    "\n",
    "    # The lognormal correlation function where the gaussian field has a gaussian power spectrum,\n",
    "    # and the gaussian correlation function xi_G.\n",
    "\n",
    "    @staticmethod\n",
    "    def xi_G(rsq, beta):\n",
    "        \"\"\"\n",
    "        Calculates the two-point correlation function of a gaussian field with gaussian power spectrum\n",
    "        \n",
    "        Parameters:\n",
    "        \n",
    "        rsq : float\n",
    "            separation^2\n",
    "        beta  : float\n",
    "            Gaussian smoothing width of gaussian field\n",
    "        \"\"\"\n",
    "        import jax.numpy as np\n",
    "        \n",
    "        # ADD IN SIGMA PARAM HERE\n",
    "        \n",
    "        xi = np.exp(-0.25*rsq/(beta**2))\n",
    "            \n",
    "        return xi\n",
    "    \n",
    "    @staticmethod\n",
    "    def fill_zeros(k, value):\n",
    "        from functools import partial\n",
    "        \n",
    "        def fnk(k):\n",
    "            return jax.lax.cond(np.less_equal(k, 1e-5), lambda _: 0., lambda k: k+value, operand=k)\n",
    "\n",
    "        if len(k.shape) == 1:\n",
    "            return jax.vmap(fnk)(k)\n",
    "        else:\n",
    "            return jax.vmap(partial(fill_zeros, value=value))(k)\n",
    "\n",
    "    @staticmethod\n",
    "    def xi_LN(r, beta, alpha, PixelNoise):\n",
    "        \"\"\"\n",
    "        Calculates the lognormal two-point correlation function\n",
    "        \n",
    "        Parameters:\n",
    "        \n",
    "        r : float\n",
    "            Pair separation\n",
    "        beta  : float\n",
    "            Gaussian smoothing width of underlying gaussian field\n",
    "        alpha : float\n",
    "            Nongaussianity parameter in lognormal transformation\n",
    "        PixelNoise : float\n",
    "            Standard deviation of added noise per pixel\n",
    "        \"\"\"\n",
    "        import jax.numpy as np\n",
    "        \n",
    "        xi = 1/(np.power(alpha+1e-12,2)) * (np.exp(np.power(alpha,2)*np.exp(-0.25*np.power(r/beta,2))) - 1)\n",
    "        \n",
    "        # Add pixel noise at zero separation:\n",
    "                \n",
    "        xi = self.fill_zeros(xi, PixelNoise**2)\n",
    "        #xi[np.where(r<1e-5)] += PixelNoise**2\n",
    "        \n",
    "        return xi\n",
    "    \n",
    "    @staticmethod\n",
    "    def dxi_LN_dalpha(r, beta, alpha, PixelNoise):\n",
    "        import jax.numpy as np\n",
    "        \n",
    "        return 2/(alpha+1e-12) * np.exp(-0.25*np.power(r/beta,2)) * np.exp(np.power(alpha,2)*np.exp(-0.25*np.power(r/beta,2))) - 2/np.power(alpha+1e-12,3) * (np.exp(np.power(alpha,2)*np.exp(-0.25*np.power(r/beta,2))) - 1)\n",
    "    \n",
    "    @staticmethod\n",
    "    def dxi_LN_dbeta(r, beta, alpha, PixelNoise):\n",
    "        import jax.numpy as np\n",
    "        \n",
    "        return (0.5*np.power(r,2)/np.power(beta,3)) * np.exp(-0.25*np.power(r/beta,2)) * np.exp(np.power(alpha,2)*np.exp(-0.25*np.power(r/beta,2)))\n",
    "\n",
    "\n",
    "    def __init__(self,Lside,rmax,nbin):\n",
    "        \"\"\"\n",
    "        \n",
    "        Parameters:\n",
    "            rmax : float\n",
    "                Maximum pair separation considered\n",
    "            nbin : int\n",
    "                Number of bins for shell-averaged correlation function\n",
    "        \"\"\"\n",
    "        import jax.numpy as np\n",
    "        \n",
    "        self.rmax       = rmax\n",
    "        self.nbin       = nbin\n",
    "        self.Lside      = Lside\n",
    "\n",
    "        # compute the separations and indices on a grid\n",
    "        self.rsq        = self.compute_rsquared(Lside)\n",
    "        self.r          = np.sqrt(self.rsq)\n",
    "        self.bins       = np.arange(nbin)*rmax/nbin\n",
    "        self.index      = np.digitize(self.r,self.bins)\n",
    "        self.average_r  = np.array([self.r[self.index == n].mean() for n in range(nbin) if np.sum(self.index == n)>0])\n",
    "    \n",
    "    @staticmethod\n",
    "    def G_to_LN(gaussian, alpha):\n",
    "        import jax.numpy as np\n",
    "        \n",
    "        # Make lognormal (variance of gaussian field is unity by construction)\n",
    "        # Divide by 1/alpha so that the signal-to-noise ratio is independent of alpha\n",
    "        return np.exp(alpha * gaussian) #1./alpha * (np.exp(alpha * gaussian-0.5*alpha**2)-1)\n",
    "    \n",
    "    def run_simulation(self, key, alpha, beta, PixelNoise=None):\n",
    "        \"\"\"\n",
    "        Create a lognormal field from a gaussian field with a Gaussian correlation function\n",
    "        \"\"\"\n",
    "        \n",
    "        # split keys, one for field and one for noise\n",
    "        key1 = key#,key2 = jax.random.split(key)\n",
    "        \n",
    "        Lside      = self.Lside\n",
    "        rsq        = self.rsq\n",
    "        \n",
    "        # Compute the Gaussian correlation function\n",
    "        xiG  = self.xi_G(rsq,beta)\n",
    "        \n",
    "        # Compute the Gaussian random field\n",
    "        field = (jax.random.multivariate_normal(key1, np.zeros(Lside*Lside), xiG)).reshape(Lside,Lside) \n",
    "        \n",
    "        # Make lognormal (variance of gaussian field is unity by construction)\n",
    "        field = self.G_to_LN(field, alpha)\n",
    "        \n",
    "        # Add noise\n",
    "        if PixelNoise is not None:\n",
    "            field += jax.random.normal(key2, shape=(Lside,Lside))*np.sqrt(PixelNoise)\n",
    "        \n",
    "        return field\n",
    "    \n",
    "    def pymc3_model(self, field_data, alphamin, alphamax, betamin, betamax, PixelNoise):\n",
    "        import numpy as np\n",
    "        import pymc3 as pm\n",
    "        LN_model = pm.Model()\n",
    "        \n",
    "        Lside              = self.Lside\n",
    "        rsq                = self.rsq\n",
    "        zero               = np.zeros(Lside*Lside)\n",
    "        PixelNoiseVector   = PixelNoise*np.ones(Lside*Lside)\n",
    "        InvNoiseCovariance = np.diag(1/(PixelNoiseVector**2))\n",
    "        field_data         = field_data.reshape(Lside*Lside)\n",
    "\n",
    "        with LN_model:\n",
    "            \n",
    "            # (TLM) TODO: add in μ,σ for full BHM\n",
    "\n",
    "            # Uniform priors for unknown model parameters (alpha,beta):\n",
    "\n",
    "            alpha_p   = pm.Uniform(\"alpha\", lower=alphamin, upper=alphamax)\n",
    "            beta_p    = pm.Uniform(\"beta\",  lower=betamin,  upper=betamax)\n",
    "\n",
    "            # Compute (beta-dependent) gaussian field correlation function:\n",
    "\n",
    "            xi = pm.math.exp(-0.25*rsq/(beta_p*beta_p))\n",
    "\n",
    "            # Gaussian field values are latent variables:\n",
    "            gaussian = pm.MvNormal(\"gaussian\",mu=zero,cov=xi,shape=Lside*Lside)\n",
    "\n",
    "            # Expected value of lognormal field, for given (alpha, beta, gaussian):\n",
    "\n",
    "            muLN = 1/alpha_p * (pm.math.exp(alpha_p * gaussian-0.5*alpha_p*alpha_p)-1)\n",
    "\n",
    "            # Likelihood (sampling distribution) of observations, given the mean lognormal field:\n",
    "\n",
    "            Y_obs = pm.MvNormal(\"Y_obs\", mu=muLN, tau=InvNoiseCovariance, observed=field_data)\n",
    "        \n",
    "        return LN_model\n",
    "    \n",
    "    def run_diff_simulation(self, alpha, beta, PixelNoise, step, seed):\n",
    "        \"\"\"\n",
    "        Run simulations for finite differencing\n",
    "        \"\"\"\n",
    "        import numpy as np\n",
    "        from scipy.stats import multivariate_normal\n",
    "        \n",
    "        Lside      = self.Lside\n",
    "        rsq        = self.rsq\n",
    "        \n",
    "        alphap     = alpha*(1+step)\n",
    "        alpham     = alpha*(1-step)\n",
    "        betap      = beta*(1+step)\n",
    "        betam      = beta*(1-step)\n",
    "        \n",
    "        # Compute the gaussian correlation function\n",
    "        xiG  = self.xi_G(rsq,beta)\n",
    "        xiG_betap = self.xi_G(rsq,betap)\n",
    "        xiG_betam = self.xi_G(rsq,betam)\n",
    "        \n",
    "        # Compute Gaussian random fields with the same phases\n",
    "        Gfield = multivariate_normal(mean=np.zeros(Lside*Lside), cov=xiG).rvs(random_state=seed).reshape(Lside,Lside)\n",
    "        Gfield_betap = multivariate_normal(mean=np.zeros(Lside*Lside), cov=xiG_betap).rvs(random_state=seed).reshape(Lside,Lside)\n",
    "        Gfield_betam = multivariate_normal(mean=np.zeros(Lside*Lside), cov=xiG_betam).rvs(random_state=seed).reshape(Lside,Lside)\n",
    "        \n",
    "        # Make lognormal (variance of gaussian field is unity by construction)\n",
    "        field = self.G_to_LN(Gfield, alpha)\n",
    "        field_betap = self.G_to_LN(Gfield_betap, alpha)\n",
    "        field_betam = self.G_to_LN(Gfield_betam, alpha)\n",
    "        field_alphap = self.G_to_LN(Gfield, alphap)\n",
    "        field_alpham = self.G_to_LN(Gfield, alpham)\n",
    "        \n",
    "        # Add noise\n",
    "        noise = np.random.normal(loc=0.0,scale=PixelNoise,size=(Lside,Lside))\n",
    "        field += noise\n",
    "        field_betap += noise\n",
    "        field_betam += noise\n",
    "        field_alphap += noise\n",
    "        field_alpham += noise\n",
    "        \n",
    "        return field, field_alphap, field_alpham, field_betap, field_betam\n",
    "    \n",
    "    def compute_corrfn(self,field):\n",
    "        \"\"\"\n",
    "        Compute two-point correlation function\n",
    "        \"\"\"       \n",
    "        import numpy as np\n",
    "        \n",
    "        index    = self.index\n",
    "        nbin     = self.nbin\n",
    "        \n",
    "        # compute the correlations\n",
    "        correlations = np.outer(field,field)\n",
    "        corrfn = np.array([correlations[index==n].mean() for n in range(nbin) if len(correlations[index==n])>0])\n",
    "        \n",
    "        return corrfn\n",
    "    \n",
    "    def compute_corrfn_derivatives(self, field, field_alphap, field_alpham, field_betap, field_betam, step):\n",
    "        \"\"\"\n",
    "        Compute derivatives of the two-point correlation function\n",
    "        \"\"\"\n",
    "        \n",
    "        # Compute correlation functions\n",
    "        corrfn         = self.compute_corrfn(field)\n",
    "        corrfn_dalphap = self.compute_corrfn(field_alphap)\n",
    "        corrfn_dalpham = self.compute_corrfn(field_alpham)\n",
    "        corrfn_dbetap  = self.compute_corrfn(field_betap)\n",
    "        corrfn_dbetam  = self.compute_corrfn(field_betam)\n",
    "        \n",
    "        # Compute derivatives by second-order central finite differences\n",
    "        dcorrfn_dalpha = (corrfn_dalpham - 2*corrfn + corrfn_dalphap)/(step**2)\n",
    "        dcorrfn_dbeta  = (corrfn_dbetam  - 2*corrfn + corrfn_dbetap )/(step**2)\n",
    "        \n",
    "        return dcorrfn_dalpha, dcorrfn_dbeta\n",
    "    \n",
    "    def covariance(self,fields):\n",
    "        \"\"\"\n",
    "        Compute covariance from a number of fields\n",
    "        \n",
    "        Parameter:\n",
    "            fields : int\n",
    "                lognormal field objects contributing to the covariance matrix\n",
    "        \"\"\"\n",
    "        import numpy as np\n",
    "        \n",
    "        nsims  = len(fields)\n",
    "        nbins  = self.nonzerobins\n",
    "        \n",
    "        print('Number of simulations',nsims)\n",
    "        print('Number of non-zero pair bins',nbins)\n",
    "        \n",
    "        corrfns = np.array([fields[i]['corrfn'] for i in range(nsims)])\n",
    "        meanxi = np.mean(corrfns,axis=0)\n",
    "        covxi = np.cov(corrfns.T)\n",
    "        \n",
    "        return meanxi, covxi\n",
    "    \n",
    "    # Utility properties\n",
    "    @staticmethod\n",
    "    def var_th(alpha, PixelNoise):\n",
    "        import numpy as np\n",
    "        return 1/np.power(alpha+1e-12,2)*(np.exp(alpha**2)-1)+PixelNoise**2\n",
    "    @staticmethod\n",
    "    def skew_th(alpha):\n",
    "        import numpy as np\n",
    "        return (np.exp(alpha**2)+2)*np.sqrt(np.exp(alpha**2)-1)\n",
    "    @staticmethod\n",
    "    def dskew_dalpha(alpha):\n",
    "        import numpy as np\n",
    "        return 2*alpha*np.exp(alpha**2) * ( np.sqrt(np.exp(alpha**2)-1) - 0.5*(np.exp(alpha**2)+2)/(np.sqrt(np.exp(alpha**2)-1)) )\n",
    "    @staticmethod\n",
    "    def kurtosis_th(alpha):\n",
    "        import numpy as np\n",
    "        return np.exp(4*alpha**2)+2*np.exp(3*alpha**2)+3*np.exp(2*alpha**2)-6\n",
    "    @staticmethod\n",
    "    def dkurtosis_dalpha(alpha):\n",
    "        import numpy as np\n",
    "        return 8*alpha*np.exp(4*alpha**2)+6*alpha*np.exp(3*alpha**2)+6*alpha*np.exp(2*alpha**2)\n",
    "    @staticmethod\n",
    "    def max(field):\n",
    "        import numpy as np\n",
    "        return np.max(field)\n",
    "    @staticmethod\n",
    "    def min(field):\n",
    "        import numpy as np\n",
    "        return np.min(field)\n",
    "    @staticmethod\n",
    "    def var(field):\n",
    "        import numpy as np\n",
    "        return np.var(field)\n",
    "    @staticmethod\n",
    "    def mean(field):\n",
    "        import numpy as np\n",
    "        return np.mean(field)\n",
    "    @staticmethod\n",
    "    def skew(field):\n",
    "        from scipy.stats import skew\n",
    "        return skew(field.flatten())\n",
    "    @staticmethod\n",
    "    def kurtosis(field):\n",
    "        from scipy.stats import kurtosis\n",
    "        return kurtosis(field.flatten())\n",
    "    \n",
    "    # xi has empty bins removed.  Note the number of non-empty elements\n",
    "    @property\n",
    "    def nonzerobins(self):\n",
    "        return len(self.average_r)\n",
    "    \n",
    "    @property\n",
    "    def dt(self):\n",
    "        import numpy as np\n",
    "        return np.dtype([('field', np.float, (self.Lside,self.Lside)), ('corrfn', np.float, (self.nonzerobins))])\n",
    "# end class LogNormalField\n"
   ]
  },
  {
   "cell_type": "markdown",
   "metadata": {},
   "source": [
    "# define simulator"
   ]
  },
  {
   "cell_type": "code",
   "execution_count": 13,
   "metadata": {},
   "outputs": [],
   "source": [
    "Lside       = N\n",
    "alpha       = 1.0\n",
    "beta        = 0.5\n",
    "PixelNoise  = 0.01\n",
    "\n",
    "\n",
    "# Setup for correlation function\n",
    "nbin        = 4*Lside\n",
    "ndata       = 4*Lside\n",
    "rmax        = Lside*np.sqrt(2)\n",
    "\n",
    "LN=LogNormalField(Lside,rmax,nbin)\n",
    "field = LN.run_simulation(key, 1.0, 0.5, PixelNoise=None)"
   ]
  },
  {
   "cell_type": "code",
   "execution_count": 14,
   "metadata": {},
   "outputs": [
    {
     "data": {
      "text/plain": [
       "<matplotlib.colorbar.Colorbar at 0x1553a412e910>"
      ]
     },
     "execution_count": 14,
     "metadata": {},
     "output_type": "execute_result"
    },
    {
     "data": {
      "image/png": "[encoded data removed]",
      "text/plain": [
       "<Figure size 432x288 with 2 Axes>"
      ]
     },
     "metadata": {
      "needs_background": "light"
     },
     "output_type": "display_data"
    }
   ],
   "source": [
    "plt.imshow(np.squeeze(field))\n",
    "plt.colorbar()"
   ]
  },
  {
   "cell_type": "code",
   "execution_count": 15,
   "metadata": {},
   "outputs": [],
   "source": [
    "# simulator args\n",
    "simulator_args = {'N': N, 'squeeze': False, 'pad': 2}"
   ]
  },
  {
   "cell_type": "code",
   "execution_count": 16,
   "metadata": {},
   "outputs": [],
   "source": [
    "# LN field distribution\n",
    "def _f_NL(α, β):\n",
    "    return tfd.TransformedDistribution(\n",
    "        distribution=tfd.MultivariateNormalTriL(\n",
    "            loc=np.zeros((N**2,)),\n",
    "            scale_tril=np.linalg.cholesky(ξ_G(β))),\n",
    "        bijector=tfb.Chain([\n",
    "            tfb.Scale(1. / np.expand_dims(α, (-1))), \n",
    "            tfb.Expm1(),\n",
    "            tfb.AffineScalar(\n",
    "                shift=-0.5 * np.expand_dims(α, -1)**2.,\n",
    "                scale=np.expand_dims(α, -1))]))\n",
    "\n",
    "\n",
    "# draw from the joint distribution\n",
    "def simulator(rng, n, α, β,):\n",
    "    dist = _f_NL(α, β)\n",
    "    if n is not None:\n",
    "        return dist.sample(n, seed=rng)\n",
    "    else: \n",
    "        return dist.sample(seed=rng)\n",
    "\n",
    "\n",
    "# simulator uses Florent's LN field simulator\n",
    "# wrapper for IMNN and ABC sampler\n",
    "def imnn_simulator(rng, θ, simulator_args=simulator_args):\n",
    "    \n",
    "    if isinstance(θ, tuple):\n",
    "        A, B = θ\n",
    "    else:\n",
    "        A = np.take(θ, 0, axis=-1)\n",
    "        B = np.take(θ, 1, axis=-1)\n",
    "    \n",
    "    N = simulator_args['N']\n",
    "    pad = simulator_args['pad']\n",
    "    #noise = 0.01\n",
    "    def fn(key, A, B):\n",
    "        if simulator_args['squeeze']:\n",
    "            return np.expand_dims(\n",
    "                np.pad(\n",
    "                    #simulator(key, None, A, B).reshape(N,N), \n",
    "                    LN.run_simulation(key, A, B),\n",
    "                    [pad,pad],\n",
    "                    ), \n",
    "                0)\n",
    "\n",
    "        else:\n",
    "            return (np.expand_dims(\n",
    "                        np.expand_dims(\n",
    "                            np.pad(\n",
    "                                #simulator(key, None, A, B).reshape(N,N),\n",
    "                                LN.run_simulation(key, A, B),\n",
    "                                [pad,pad]\n",
    "                                ),  \n",
    "                            0), \n",
    "                0))\n",
    "\n",
    "    if A.shape == B.shape:\n",
    "        if len(A.shape) == 0:\n",
    "            return fn(rng, A, B)\n",
    "        else:\n",
    "            keys = jax.random.split(rng, num=A.shape[0] + 1)\n",
    "            rng = keys[0]\n",
    "            keys = keys[1:]\n",
    "            return jax.vmap(\n",
    "                lambda key, A, B: imnn_simulator(key, (A,B), simulator_args=simulator_args)\n",
    "            )(keys, A, B)\n",
    "    else:\n",
    "        if len(A.shape) > 0:\n",
    "            keys = jax.random.split(rng, num=A.shape[0] + 1)\n",
    "            rng = keys[0]\n",
    "            keys = keys[1:]\n",
    "            return jax.vmap(\n",
    "                lambda key, A: imnn_simulator(key, (A,B), simulator_args=simulator_args)\n",
    "            )(keys, A)\n",
    "        elif len(B.shape) > 0:\n",
    "            keys = jax.random.split(rng, num=B.shape[0])\n",
    "            return jax.vmap(\n",
    "                lambda key, B: imnn_simulator(key, (A,B), simulator_args=simulator_args)\n",
    "            )(keys, B)\n",
    "    "
   ]
  },
  {
   "cell_type": "code",
   "execution_count": 17,
   "metadata": {},
   "outputs": [
    {
     "name": "stdout",
     "output_type": "stream",
     "text": [
      "input shape:  (1, 1, 24, 24)\n"
     ]
    }
   ],
   "source": [
    "pad = 2 #2**2\n",
    "input_shape = (1,1, N+pad*2,N+pad*2)\n",
    "print('input shape: ', input_shape)\n",
    "θ_fid = np.array([0.95, 0.55], dtype=np.float32)\n",
    "\n",
    "\n",
    "# IMNN params\n",
    "n_s = 5000\n",
    "n_d = 5000\n",
    "λ = 100.0\n",
    "ϵ = 0.1\n",
    "\n",
    "n_params = 2\n",
    "n_summaries = 2"
   ]
  },
  {
   "cell_type": "code",
   "execution_count": 18,
   "metadata": {},
   "outputs": [],
   "source": [
    "# define stax model\n",
    "from jax.nn.initializers import normal\n",
    "def InceptBlock2(filters, strides, do_5x5=True, do_3x3=True, \n",
    "                 padding=\"SAME\", W_init=None):\n",
    "    \"\"\"InceptNet convolutional striding block.\n",
    "    filters: tuple: (f1,f2,f3)\n",
    "    filters1: for conv1x1\n",
    "    filters2: for conv1x1,conv3x3\n",
    "    filters3L for conv1x1,conv5x5\"\"\"\n",
    "    \n",
    "    filters1, filters2, filters3 = filters\n",
    "    \n",
    "    conv1x1 = stax.serial(stax.Conv(filters1, (1,1), strides, padding=padding, W_init=W_init))\n",
    "    \n",
    "    filters4 = filters2\n",
    "    conv3x3 = stax.serial(stax.Conv(filters2, (1,1), strides=None, padding=padding, W_init=W_init),\n",
    "                        stax.Conv(filters4, (3,3), strides, padding=padding, W_init=W_init))\n",
    "                        \n",
    "    filters5 = filters3\n",
    "    conv5x5 = stax.serial(stax.Conv(filters3, (1,1), strides=None, padding=padding, W_init=W_init),\n",
    "                         stax.Conv(filters5, (5,5), strides, padding=padding, W_init=W_init))\n",
    "\n",
    "    maxpool = stax.serial(stax.MaxPool((3,3), padding=padding),\n",
    "                         stax.Conv(filters4, (1,1), strides, padding=padding, W_init=W_init))\n",
    "                            \n",
    "    if do_3x3:\n",
    "        if do_5x5:\n",
    "            return stax.serial(\n",
    "                  stax.FanOut(4),  # should num=3 or 2 here ?\n",
    "                  stax.parallel(conv1x1, conv3x3, conv5x5, maxpool),\n",
    "                  stax.FanInConcat(), \n",
    "                  stax.LeakyRelu)\n",
    "        else:\n",
    "            return stax.serial(\n",
    "                  stax.FanOut(3),  # should num=3 or 2 here ?\n",
    "                  stax.parallel(conv1x1, conv3x3, maxpool),\n",
    "                  stax.FanInConcat(), \n",
    "                  stax.LeakyRelu)\n",
    "            \n",
    "    else:\n",
    "        return stax.serial(\n",
    "              stax.FanOut(2),  # should num=3 or 2 here ?\n",
    "              stax.parallel(conv1x1, maxpool),\n",
    "              stax.FanInConcat(), \n",
    "              stax.LeakyRelu)\n",
    "    \n",
    "    \n",
    "def Reshape(newshape):\n",
    "    \"\"\"Layer function for a reshape layer.\"\"\"\n",
    "    init_fun = lambda rng, input_shape: (newshape,())\n",
    "    apply_fun = lambda params, inputs, **kwargs: np.reshape(inputs,newshape)\n",
    "    return init_fun, apply_fun\n",
    "\n",
    "\n",
    "from jax.nn.initializers import glorot_normal, normal, ones, zeros\n",
    "\n",
    "\n",
    "def LogLayer(a_init=ones, b_init=ones,\n",
    "              c_init=ones, d_init=ones, C=3., scalar=True):\n",
    "    \"\"\"custom layer for log-normalizing field inputs\"\"\"\n",
    "    _a_init = lambda rng,shape: a_init(rng, shape)\n",
    "    _b_init = lambda rng,shape: b_init(rng, shape)\n",
    "    _c_init = lambda rng,shape: c_init(rng, shape)\n",
    "    _d_init = lambda rng,shape: d_init(rng, shape)\n",
    "    \n",
    "    def init_fun(rng, input_shape):\n",
    "        \n",
    "        if scalar:\n",
    "            shape = ()\n",
    "        else:\n",
    "            shape = input_shape \n",
    "    \n",
    "        k1, rng = jax.random.split(rng)\n",
    "        k2, rng = jax.random.split(rng)\n",
    "        k3, rng = jax.random.split(rng)\n",
    "        k4, rng = jax.random.split(rng)\n",
    "        a,b = _a_init(k1, shape), _b_init(k2, shape)\n",
    "        c,d = _c_init(k3, shape)*C, _d_init(k4, shape)\n",
    "        return input_shape, (a,b,c,d)\n",
    "\n",
    "    def apply_fun(params, inputs, **kwargs):\n",
    "        a,b,c,d = params\n",
    "        \n",
    "        return a * np.log(np.abs(b)*inputs + c) + d\n",
    "    \n",
    "    return init_fun, apply_fun\n",
    "\n",
    "\n",
    "\n",
    "def AsinhLayer(a_init=ones, b_init=ones,\n",
    "              c_init=ones, d_init=ones, scalar=True):\n",
    "    \"\"\"custom layer for Asinh-normalizing field inputs\"\"\"\n",
    "    _a_init = lambda rng,shape: a_init(rng, shape)\n",
    "    _b_init = lambda rng,shape: b_init(rng, shape)\n",
    "    _c_init = lambda rng,shape: c_init(rng, shape)\n",
    "    _d_init = lambda rng,shape: d_init(rng, shape)\n",
    "    def init_fun(rng, input_shape):\n",
    "        if scalar:\n",
    "            shape = ()\n",
    "        else:\n",
    "            shape = input_shape \n",
    "        k1, rng = jax.random.split(rng)\n",
    "        k2, rng = jax.random.split(rng)\n",
    "        k3, rng = jax.random.split(rng)\n",
    "        k4, rng = jax.random.split(rng)\n",
    "        a,b = _a_init(k1, shape), _b_init(k2, shape)\n",
    "        c,d = _c_init(k3, shape), _d_init(k4, shape)\n",
    "        return input_shape, np.stack((a,b,c,d), 0)\n",
    "    def apply_fun(params, inputs, **kwargs):\n",
    "        a,b,c,d = params\n",
    "        return a * np.arcsinh(b*inputs + c) + d\n",
    "    return init_fun, apply_fun\n",
    "\n",
    "def ScalarLayer(C=None, c_init=ones):\n",
    "    \"\"\"Layer construction function for a reshape layer.\"\"\"\n",
    "    \n",
    "    if C is None:\n",
    "        C = 1.0\n",
    "    \n",
    "    _c_init = lambda rng,shape: c_init(rng, shape)*C\n",
    "    \n",
    "    def init_fun(rng, input_shape):\n",
    "        shape = input_shape\n",
    "        k1, rng = jax.random.split(rng)\n",
    "        constant = _c_init(k1, shape)\n",
    "        return input_shape, (constant)\n",
    "\n",
    "    def apply_fun(params, inputs, **kwargs):\n",
    "        cnst = params\n",
    "        return inputs*cnst\n",
    "    \n",
    "    \n",
    "    return init_fun, apply_fun\n",
    "\n"
   ]
  },
  {
   "cell_type": "code",
   "execution_count": 19,
   "metadata": {},
   "outputs": [],
   "source": [
    "# build model\n",
    "fs = 128\n",
    "\n",
    "model = stax.serial(\n",
    "        AsinhLayer(scalar=True),\n",
    "        InceptBlock2((fs,fs,fs), strides=(1,1)),\n",
    "        InceptBlock2((fs,fs,fs), strides=(2,2)),\n",
    "        #InceptBlock2((fs,fs,fs), strides=(1,1)),\n",
    "        InceptBlock2((fs,fs,fs), strides=(2,2)),\n",
    "        #InceptBlock2((fs,fs,fs), strides=(1,1)),\n",
    "        InceptBlock2((fs,fs,fs), strides=(2,2), do_5x5=False),\n",
    "        InceptBlock2((fs,fs,fs), strides=(1,1), do_5x5=False),\n",
    "        InceptBlock2((fs,fs,fs), strides=(3,3), do_5x5=False, do_3x3=False),\n",
    "        stax.Conv(n_summaries, (1,1), strides=(1,1), padding=\"SAME\"),\n",
    "        stax.Flatten,\n",
    "        Reshape((n_summaries,))\n",
    ")"
   ]
  },
  {
   "cell_type": "code",
   "execution_count": 20,
   "metadata": {},
   "outputs": [],
   "source": [
    "rng, initial_model_key = jax.random.split(rng)\n",
    "rng, fitting_key = jax.random.split(rng)"
   ]
  },
  {
   "cell_type": "code",
   "execution_count": 21,
   "metadata": {},
   "outputs": [],
   "source": [
    "optimiser = optimizers.adam(step_size=1e-3)"
   ]
  },
  {
   "cell_type": "code",
   "execution_count": 22,
   "metadata": {},
   "outputs": [
    {
     "name": "stdout",
     "output_type": "stream",
     "text": [
      "`simulator` provided, using SimulatorIMNN\n"
     ]
    }
   ],
   "source": [
    "rng, key = jax.random.split(rng)\n",
    "IMNN = imnn.IMNN(\n",
    "        n_s=2000,\n",
    "        n_d=2000,\n",
    "        n_params=n_params,\n",
    "        n_summaries=n_summaries,\n",
    "        input_shape=input_shape,\n",
    "        θ_fid=θ_fid,\n",
    "        model=model,\n",
    "        optimiser=optimiser,\n",
    "        key_or_state=key,\n",
    "        simulator=lambda rng, θ: imnn_simulator(\n",
    "            rng, θ, simulator_args={**simulator_args, **{\"squeeze\": False}}),\n",
    "        #host=jax.devices()[0],\n",
    "        #devices=[jax.devices()[0]],\n",
    "        #n_per_device=1000\n",
    "        )"
   ]
  },
  {
   "cell_type": "code",
   "execution_count": 29,
   "metadata": {},
   "outputs": [
    {
     "name": "stdout",
     "output_type": "stream",
     "text": [
      "CPU times: user 12min 16s, sys: 431 ms, total: 12min 16s\n",
      "Wall time: 12min 11s\n"
     ]
    }
   ],
   "source": [
    "%%time\n",
    "rng, key = jax.random.split(rng)\n",
    "IMNN.fit(λ=10., ϵ=0.1, rng=key, print_rate=None, min_iterations=1500, best=True)"
   ]
  },
  {
   "cell_type": "code",
   "execution_count": 30,
   "metadata": {},
   "outputs": [
    {
     "data": {
      "image/png": "[encoded data removed]",
      "text/plain": [
       "<Figure size 360x1080 with 4 Axes>"
      ]
     },
     "metadata": {
      "needs_background": "light"
     },
     "output_type": "display_data"
    }
   ],
   "source": [
    "ax = IMNN.plot(expected_detF=detF_expected)\n",
    "ax[0].set_yscale('log')"
   ]
  },
  {
   "cell_type": "code",
   "execution_count": 31,
   "metadata": {},
   "outputs": [
    {
     "data": {
      "text/plain": [
       "DeviceArray(0.7377033, dtype=float32)"
      ]
     },
     "execution_count": 31,
     "metadata": {},
     "output_type": "execute_result"
    }
   ],
   "source": [
    "np.linalg.det(IMNN.F) / detF_expected"
   ]
  },
  {
   "cell_type": "markdown",
   "metadata": {},
   "source": [
    "## Delfi with IMNN compression"
   ]
  },
  {
   "cell_type": "code",
   "execution_count": 32,
   "metadata": {},
   "outputs": [],
   "source": [
    "import tensorflow as tf\n",
    "import tensorflow_probability as tfp\n",
    "tfd = tfp.distributions\n",
    "tfb = tfp.bijectors\n"
   ]
  },
  {
   "cell_type": "code",
   "execution_count": 33,
   "metadata": {},
   "outputs": [],
   "source": [
    "import tensorflow_probability.substrates.jax as tfpj\n",
    "tfdj = tfpj.distributions\n",
    "tfbj = tfpj.bijectors\n",
    "\n",
    "import tensorflow.keras.backend as K"
   ]
  },
  {
   "cell_type": "code",
   "execution_count": 34,
   "metadata": {},
   "outputs": [
    {
     "data": {
      "text/plain": [
       "'2.4.1'"
      ]
     },
     "execution_count": 34,
     "metadata": {},
     "output_type": "execute_result"
    }
   ],
   "source": [
    "tf.__version__"
   ]
  },
  {
   "cell_type": "code",
   "execution_count": 35,
   "metadata": {},
   "outputs": [],
   "source": [
    "class ConditionalMaskedAutoregressiveFlow(tf.Module):\n",
    "    def __init__(self, n_dimensions=None, n_conditionals=None, n_mades=1, n_hidden=[50,50], input_order=\"random\",\n",
    "    activation=tf.keras.layers.LeakyReLU(0.01), \n",
    "    all_layers=True,\n",
    "    kernel_initializer=tf.keras.initializers.RandomNormal(mean=0.0, stddev=1e-5, seed=None), \n",
    "    bias_initializer=tf.keras.initializers.RandomNormal(mean=0.0, stddev=1e-5, seed=None),\n",
    "    kernel_regularizer=None, bias_regularizer=None, kernel_constraint=None,\n",
    "    bias_constraint=None):\n",
    "        super(ConditionalMaskedAutoregressiveFlow, self).__init__()\n",
    "        # extract init parameters\n",
    "        self.n_dimensions = n_dimensions\n",
    "        self.n_conditionals = n_conditionals\n",
    "        self.n_mades = n_mades\n",
    "        # construct the base (normal) distribution\n",
    "        self.base_distribution = tfd.MultivariateNormalDiag(loc=tf.zeros(self.n_dimensions), scale_diag=tf.ones(self.n_dimensions))\n",
    "        # put the conditional inputs to all layers, or just the first layer?\n",
    "        if all_layers == True:\n",
    "            all_layers = \"all_layers\"\n",
    "        else:\n",
    "            all_layers = \"first_layer\"\n",
    "        # construct stack of conditional MADEs\n",
    "        self.MADEs = [tfb.AutoregressiveNetwork(\n",
    "                        params=2,\n",
    "                        hidden_units=n_hidden,\n",
    "                        activation=activation,\n",
    "                        event_shape=[n_dimensions],\n",
    "                        conditional=True,\n",
    "                        conditional_event_shape=[n_conditionals],\n",
    "                        conditional_input_layers=all_layers,\n",
    "                        input_order=input_order,\n",
    "                        kernel_initializer=kernel_initializer,\n",
    "                        bias_initializer=bias_initializer,\n",
    "                        kernel_regularizer=kernel_regularizer,\n",
    "                        bias_regularizer=bias_regularizer,\n",
    "                        kernel_constraint=kernel_constraint,\n",
    "                        bias_constraint=bias_constraint,\n",
    "                        name=\"MADE_{}\".format(i)) for i in range(n_mades)]\n",
    "    # bijector for x | y (chain the conditional MADEs together)\n",
    "    def bijector(self, y):\n",
    "        # start with an empty bijector\n",
    "        MAF = tfb.Identity() \n",
    "        # pass through the MADE layers (passing conditional inputs each time)\n",
    "        for i in range(self.n_mades):\n",
    "            MAF = tfb.MaskedAutoregressiveFlow(shift_and_log_scale_fn=lambda x: self.MADEs[i](x, conditional_input=y))(MAF)\n",
    "        return MAF\n",
    "    # construct distribution P(x | y)\n",
    "    def __call__(self, y):\n",
    "        return tfd.TransformedDistribution(\n",
    "            self.base_distribution,\n",
    "            bijector=self.bijector(y))\n",
    "    # log probability ln P(x | y)\n",
    "    def log_prob(self, x, y):\n",
    "        return self.__call__(y).log_prob(x)\n",
    "    # sample n samples from P(x | y)\n",
    "    def sample(self, n, y):\n",
    "        # base samples\n",
    "        base_samples = self.base_distribution.sample(n)\n",
    "        # biject the samples\n",
    "        return self.bijector(y).forward(base_samples)"
   ]
  },
  {
   "cell_type": "code",
   "execution_count": 37,
   "metadata": {},
   "outputs": [],
   "source": [
    "num_models = 2\n",
    "cmaf_models = [ConditionalMaskedAutoregressiveFlow(n_dimensions=2, \n",
    "                                                   n_conditionals=2, n_hidden=[50,50,50]) for i in range(num_models)]\n",
    "\n",
    "cmaf_models += [ConditionalMaskedAutoregressiveFlow(n_dimensions=2, \n",
    "                                                    n_conditionals=2, n_hidden=[50,50]) for i in range(2)]"
   ]
  },
  {
   "cell_type": "code",
   "execution_count": 38,
   "metadata": {},
   "outputs": [],
   "source": [
    "maf_optimizers = [tf.keras.optimizers.Adam(learning_rate=1e-3) for i in range(len(cmaf_models))]"
   ]
  },
  {
   "cell_type": "code",
   "execution_count": 46,
   "metadata": {},
   "outputs": [],
   "source": [
    "# prior for sim draws in jax\n",
    "prior = tfpj.distributions.Blockwise(\n",
    "    [tfpj.distributions.Uniform(low=low, high=high)\n",
    "     for low, high in zip([0.4, 0.4], [1.0, 1.1])])\n",
    "prior.low = np.array([0.4, 0.4])\n",
    "prior.high = np.array([1.0, 1.1])\n",
    "\n",
    "\n",
    "\n",
    "# set up prior in non-jax tfp\n",
    "samp_prior = tfp.distributions.Blockwise(\n",
    "    [tfp.distributions.Uniform(low=low, high=high)\n",
    "     for low, high in zip([0.4, 0.4], [1.5, 1.5])])\n",
    "prior.low = np.array([0.4, 0.4])\n",
    "prior.high = np.array([1.5, 1.5])\n",
    "\n",
    "@tf.function\n",
    "def train_step(x, y):\n",
    "    _ls = []\n",
    "    for m in range(len(cmaf_models)):\n",
    "        with tf.GradientTape() as tape:\n",
    "            _l = K.mean(-cmaf_models[m].log_prob(x, y) - samp_prior.log_prob(y))\n",
    "            _ls.append(_l)\n",
    "        \n",
    "        grads = tape.gradient(_l, cmaf_models[m].trainable_variables)\n",
    "        maf_optimizers[m].apply_gradients(zip(grads, cmaf_models[m].trainable_variables))\n",
    "        #train_acc_metric.update_state(y, logits)\n",
    "    return _ls\n",
    "\n",
    "@tf.function\n",
    "def val_step(x, y):\n",
    "    _val_l = []\n",
    "    for m in range(len(cmaf_models)):\n",
    "        _val_l.append(K.mean(-cmaf_models[m].log_prob(x, y) - samp_prior.log_prob(y)))\n",
    "    return _val_l\n",
    "\n",
    "@tf.function\n",
    "def loss(x, y):\n",
    "    return K.mean(-cmaf_model.log_prob(x, y))"
   ]
  },
  {
   "cell_type": "code",
   "execution_count": 48,
   "metadata": {},
   "outputs": [],
   "source": [
    "# create dataset for this demo\n",
    "\n",
    "num_sims = 1000\n",
    "\n",
    "keys = jax.random.split(rng, num=num_sims)\n",
    "\n",
    "def get_params_summaries(key, n_samples, ϑ_samp):\n",
    "    keys = np.array(jax.random.split(key, num=n_samples))\n",
    "    sim = lambda rng, θ: simulator(\n",
    "            rng, θ, simulator_args={\n",
    "                **simulator_args, \n",
    "                **{\"squeeze\": False}})\n",
    "    d = jax.vmap(sim)(keys, ϑ_samp)\n",
    "    \n",
    "    t = IMNN.get_estimate(d)\n",
    "    \n",
    "    t1 = t.flatten()[~np.isnan(t.flatten())]\n",
    "    ϑ_samp = ϑ_samp.flatten()[~np.isnan(t.flatten())]\n",
    "    \n",
    "    # scale all summaries\n",
    "    t1 = t1.reshape((len(t1)//2, 2))\n",
    "    \n",
    "    _tstd = np.std(t1, axis=0)\n",
    "    _tmu = np.mean(t1, axis=0)\n",
    "    \n",
    "    t1 = (t1 - _tmu) / _tstd\n",
    "    \n",
    "    # return x,y; e.g. t and ϑ (conditional)\n",
    "    # learn p(x | y) = p(t | ϑ)\n",
    "    return t1, ϑ_samp.reshape(len(ϑ_samp)//2, 2), _tmu, _tstd\n",
    "\n",
    "\n",
    "def get_dataset(data, batch_size=20, buffer_size=1000, split=0.75):\n",
    "    x,y = data\n",
    "\n",
    "    # shufle data right off the bat\n",
    "    shuffle_idx = onp.random.choice(np.arange(len(x)), size=len(x))\n",
    "    x = x[shuffle_idx]\n",
    "    y = y[shuffle_idx]\n",
    "    \n",
    "    idx = int(len(x)*split)\n",
    "    x_train = x[:idx]\n",
    "    y_train = y[:idx]  \n",
    "    x_val = x[idx:]\n",
    "    y_val = y[idx:]\n",
    "\n",
    "    # Prepare the training dataset.\n",
    "    train_dataset = tf.data.Dataset.from_tensor_slices((x_train, y_train))\n",
    "    train_dataset = train_dataset.shuffle(buffer_size=buffer_size).batch(batch_size)\n",
    "\n",
    "    # Prepare the validation dataset.\n",
    "    val_dataset = tf.data.Dataset.from_tensor_slices((x_val, y_val))\n",
    "    val_dataset = val_dataset.batch(batch_size)\n",
    "    \n",
    "    return train_dataset, val_dataset\n",
    "\n",
    "def proposal_distribution(prior, MAF):\n",
    "    \"\"\"return geometric mean of proposal distribution\"\"\"\n",
    "    \n",
    "    \n",
    "    "
   ]
  },
  {
   "cell_type": "code",
   "execution_count": 126,
   "metadata": {},
   "outputs": [],
   "source": [
    "n_samples = 1000\n",
    "batch_size = 100\n",
    "buffer_size = n_samples\n",
    "key1,key2 = jax.random.split(rng)\n",
    "\n",
    "ϑ_samp = prior.sample(sample_shape=(n_samples,), seed=key1)\n",
    "ts, ϑ_samp, tmu, tstd = get_params_summaries(key2, n_samples, ϑ_samp)\n",
    "data = (ts, ϑ_samp)"
   ]
  },
  {
   "cell_type": "code",
   "execution_count": null,
   "metadata": {},
   "outputs": [],
   "source": [
    "train_dataset, val_dataset = get_dataset(data, batch_size=batch_size, buffer_size=buffer_size)"
   ]
  },
  {
   "cell_type": "code",
   "execution_count": 127,
   "metadata": {},
   "outputs": [
    {
     "name": "stderr",
     "output_type": "stream",
     "text": [
      "100%|██████████| 2000/2000 [00:24<00:00, 83.17it/s]\n"
     ]
    }
   ],
   "source": [
    "import time\n",
    "from tqdm import tqdm\n",
    "\n",
    "epochs = 2000\n",
    "\n",
    "train_losses = []\n",
    "val_losses = []\n",
    "\n",
    "\n",
    "for epoch in tqdm(range(epochs)):\n",
    "    #print(\"\\nStart of epoch %d\" % (epoch,))\n",
    "    start_time = time.time()\n",
    "\n",
    "\n",
    "#     ϑ_samp = prior.sample(sample_shape=(n_samples,), seed=key)\n",
    "#     data = get_params_summaries(key, n_samples, ϑ_samp)\n",
    "#    train_dataset, val_dataset = get_dataset(data, batch_size=100)\n",
    "\n",
    "    # shuffle training data anew every 100th epoch\n",
    "    if epoch % 100 == 0:\n",
    "        train_dataset = train_dataset.shuffle(buffer_size=buffer_size)\n",
    "\n",
    "\n",
    "    # Iterate over the batches of the dataset.\n",
    "    for step, (x_batch_train, y_batch_train) in enumerate(train_dataset):\n",
    "        loss_values = np.array(train_step(x_batch_train, y_batch_train))\n",
    "\n",
    "    train_losses.append(loss_values)\n",
    "\n",
    "\n",
    "    # Run a validation loop at the end of each epoch.\n",
    "    for x_batch_val, y_batch_val in val_dataset:\n",
    "        val_loss = np.array(val_step(x_batch_val, y_batch_val))\n",
    "\n",
    "    val_losses.append(val_loss)"
   ]
  },
  {
   "cell_type": "code",
   "execution_count": 128,
   "metadata": {},
   "outputs": [
    {
     "data": {
      "text/plain": [
       "<matplotlib.legend.Legend at 0x154b806e88e0>"
      ]
     },
     "execution_count": 128,
     "metadata": {},
     "output_type": "execute_result"
    },
    {
     "data": {
      "image/png": "[encoded data removed]",
      "text/plain": [
       "<Figure size 432x288 with 1 Axes>"
      ]
     },
     "metadata": {
      "needs_background": "light"
     },
     "output_type": "display_data"
    }
   ],
   "source": [
    "import seaborn as sns\n",
    "%matplotlib inline\n",
    "\n",
    "sns.set_theme()\n",
    "plt.figure(figsize=(8,3.5))\n",
    "plt.subplot(131)\n",
    "plt.plot(np.array(train_losses).T[0], label='train')\n",
    "plt.plot(np.array(val_losses).T[0], label='val')\n",
    "plt.ylabel(r'$p(t\\ |\\ \\vartheta, w)$')\n",
    "\n",
    "plt.subplot(132)\n",
    "plt.plot(np.array(train_losses).T[1], label='train')\n",
    "plt.plot(np.array(val_losses).T[1], label='val')\n",
    "plt.ylabel(r'$p(t\\ |\\ \\vartheta, w)$')\n",
    "\n",
    "plt.subplot(133)\n",
    "plt.plot(np.array(train_losses).T[4], label='train')\n",
    "plt.plot(np.array(val_losses).T[4], label='val')\n",
    "plt.ylabel(r'$p(t\\ |\\ \\vartheta, w)$')\n",
    "plt.legend()\n",
    "\n",
    "plt.tight_layout()\n",
    "plt.show()"
   ]
  },
  {
   "cell_type": "code",
   "execution_count": 129,
   "metadata": {},
   "outputs": [
    {
     "data": {
      "text/plain": [
       "<matplotlib.colorbar.Colorbar at 0x154b801e2b20>"
      ]
     },
     "execution_count": 129,
     "metadata": {},
     "output_type": "execute_result"
    },
    {
     "data": {
      "image/png": "[encoded data removed]",
      "text/plain": [
       "<Figure size 432x288 with 2 Axes>"
      ]
     },
     "metadata": {
      "needs_background": "light"
     },
     "output_type": "display_data"
    }
   ],
   "source": [
    "# create target data and summaries\n",
    "key, rng = jax.random.split(rng)\n",
    "θ_target = np.array([0.8, 0.6])\n",
    "δ_target = np.expand_dims(imnn_simulator(key, θ_target), 0)\n",
    "\n",
    "estimates = IMNN.get_estimate(δ_target)\n",
    "\n",
    "plt.imshow(np.squeeze(δ_target))\n",
    "plt.colorbar()"
   ]
  },
  {
   "cell_type": "code",
   "execution_count": null,
   "metadata": {},
   "outputs": [],
   "source": [
    "ABC = imnn.lfi.ApproximateBayesianComputation(\n",
    "    target_data=np.expand_dims(δ_target, (0, 1, 2)),\n",
    "    prior=prior,\n",
    "    simulator=lambda rng, θ: imnn_simulator(rng, θ, simulator_args={**simulator_args, **{'squeeze':False}}),\n",
    "    compressor=IMNN.get_estimate,\n",
    "    gridsize=100, \n",
    "    F=np.expand_dims(IMNN.F, 0))"
   ]
  },
  {
   "cell_type": "code",
   "execution_count": 130,
   "metadata": {},
   "outputs": [],
   "source": [
    "# get summaries for observed data from IMNN\n",
    "# δ_target is the 128x128 simulation\n",
    "estimates = IMNN.get_estimate(np.expand_dims(δ_target, (0, 1, 2)))\n",
    "\n",
    "_estimates = (estimates - tmu) / tstd\n",
    "\n",
    "\n",
    "# set up prior in non-jax tfp\n",
    "samp_prior = tfp.distributions.Blockwise(\n",
    "    [tfp.distributions.Uniform(low=low, high=high)\n",
    "     for low, high in zip([0.1, 0.1], [1.25, 1.25])])\n",
    "prior.low = np.array([0.1, 0.1])\n",
    "prior.high = np.array([1.25, 1.25])\n",
    "\n",
    "# define cmaf model log prob with prior defined above\n",
    "@tf.function\n",
    "def my_log_prob(y, x=_estimates):\n",
    "    \n",
    "    # here all cmafs are trained to draw from p(x|y) <=> p(t|ϑ)\n",
    "    # take the mean of the data likelihood p(x|y) over all cmafs\n",
    "    _like = cmaf_models[2].log_prob(x,y)\n",
    "\n",
    "    _prior = samp_prior.log_prob(y)\n",
    "    \n",
    "    return _like + _prior\n",
    "\n",
    "\n",
    "\n",
    "# sample using affine\n",
    "n_steps = 2000\n",
    "n_walkers = 500\n",
    "burnin_steps = 1800\n",
    "n_params = 2\n",
    "\n",
    "# initialize walkers...\n",
    "walkers1 = tf.random.normal([n_walkers, 2], 0.5, 0.5)\n",
    "walkers2 = tf.random.normal([n_walkers, 2], 0.5, 0.5)\n",
    "\n",
    "# walkers1 = tf.random.uniform([n_walkers, 2], 0.1, 1.25)\n",
    "# walkers2 = tf.random.uniform([n_walkers, 2], 0.1, 1.25)\n",
    "\n",
    "chain = affine_sample(my_log_prob, n_params, n_walkers, n_steps, walkers1, walkers2)\n",
    "\n",
    "skip = 4\n",
    "\n",
    "post = np.stack([chain.numpy()[burnin_steps::skip,:,0].flatten(), chain.numpy()[burnin_steps::skip,:,1].flatten()], axis=-1)\n",
    "\n",
    "margs = ABC.get_marginals(accepted_parameters = [np.array(post)], smoothing=None, gridsize=400)\n",
    "\n",
    "\n",
    "MAF = imnn.lfi.LikelihoodFreeInference(\n",
    "    prior=prior,\n",
    "    gridsize=100)\n",
    "\n",
    "\n",
    "MAF.n_targets=2\n",
    "MAF.put_marginals(\n",
    "                margs[1][0]);\n",
    "\n",
    "MAF.marginal_plot(\n",
    "    known=θ_target,          \n",
    "    label=\"Delfi estimate\",           \n",
    "    axis_labels=[\"A\", \"B\"]);"
   ]
  },
  {
   "cell_type": "code",
   "execution_count": 143,
   "metadata": {},
   "outputs": [],
   "source": [
    "num_points = 1000\n",
    "x1 = np.linspace(prior.low[1], prior.high[1], num=num_points)\n",
    "x2 = np.linspace(prior.low[0], prior.high[1], num=num_points)\n",
    "p_prior = prior.prob(np.stack([x1, x2], axis=-1));\n",
    "\n",
    "post = cmaf_model.sample((num_points,), estimates) #* 0.5102041"
   ]
  },
  {
   "cell_type": "code",
   "execution_count": 144,
   "metadata": {},
   "outputs": [
    {
     "data": {
      "text/plain": [
       "<matplotlib.lines.Line2D at 0x154b551168b0>"
      ]
     },
     "execution_count": 144,
     "metadata": {},
     "output_type": "execute_result"
    },
    {
     "data": {
      "image/png": "[encoded data removed]",
      "text/plain": [
       "<Figure size 432x288 with 1 Axes>"
      ]
     },
     "metadata": {
      "needs_background": "light"
     },
     "output_type": "display_data"
    }
   ],
   "source": [
    "plt.scatter(post[:, 0], post[:, 1])\n",
    "plt.axvline(θ_target[0], color='k')\n",
    "plt.axhline(θ_target[1], color='k')"
   ]
  },
  {
   "cell_type": "code",
   "execution_count": 61,
   "metadata": {},
   "outputs": [
    {
     "data": {
      "text/plain": [
       "<__main__.ConditionalMaskedAutoregressiveFlow at 0x155340214370>"
      ]
     },
     "execution_count": 61,
     "metadata": {},
     "output_type": "execute_result"
    }
   ],
   "source": [
    "cmaf_model.log_pdf()"
   ]
  },
  {
   "cell_type": "code",
   "execution_count": null,
   "metadata": {},
   "outputs": [],
   "source": [
    "def bayes_acquisition(ϑ, models): \n",
    "    _loss = np.array([m.log_prob(x, y) for m in models])\n",
    "    return "
   ]
  },
  {
   "cell_type": "code",
   "execution_count": null,
   "metadata": {},
   "outputs": [],
   "source": [
    "# Bayesian optimization acquisition function\n",
    "def acquisition(self, theta):\n",
    "\n",
    "    # Compute log_posteriors\n",
    "    Ls = np.array([self.log_posterior_individual(i, theta) for i in range(self.n_ndes)])\n",
    "\n",
    "    # Check whether prior is zero or not\n",
    "    return self.log_posterior_stacked(theta)*np.sqrt(np.average((Ls - np.average(Ls, weights = self.stacking_weights, axis=0))**2, weights=self.stacking_weights, axis=0))\n",
    "\n",
    "# Bayesian optimization training\n",
    "def bayesian_optimization_training(self, simulator, compressor, n_batch, n_populations, n_optimizations = 10, \\\n",
    "                                   simulator_args = None, compressor_args = None, plot = False, batch_size = 100, \\\n",
    "                                   validation_split = 0.1, epochs = 300, patience = 20, seed_generator = None, \\\n",
    "                                   save_intermediate_posteriors = False, sub_batch = 1):\n",
    "\n",
    "    # Loop over n_populations\n",
    "    for i in range(n_populations):\n",
    "\n",
    "        # Find acquisition point...\n",
    "        print('Finding optimal acquisition point...')\n",
    "        A_optimal = 0\n",
    "        theta_optimal = self.theta_fiducial\n",
    "        for i in range(n_optimizations):\n",
    "            res = optimization.basinhopping(lambda x: -self.acquisition(x), x0=self.theta_fiducial)\n",
    "            if res.fun < A_optimal:\n",
    "                A_optimal = res.fun\n",
    "                theta_optimal = res.x\n",
    "\n",
    "        # Array of parameters to run simulations\n",
    "        ps = np.array([theta_optimal for k in range(n_batch)])\n",
    "\n",
    "        # Run a small batch of simulations at the acquisition point\n",
    "        xs_batch, ps_batch = self.run_simulation_batch(n_batch, ps, simulator, compressor, simulator_args, compressor_args, seed_generator = seed_generator, sub_batch = sub_batch)\n"
   ]
  },
  {
   "cell_type": "code",
   "execution_count": 51,
   "metadata": {},
   "outputs": [
    {
     "data": {
      "text/plain": [
       "<tf.Tensor: shape=(10, 2), dtype=float32, numpy=\n",
       "array([[ 5.8776188e-01,  3.1739225e+00],\n",
       "       [ 6.4748621e-01,  1.0805858e-01],\n",
       "       [ 4.4413060e-01, -2.7361788e+01],\n",
       "       [ 4.8591095e-01,  9.7765744e-01],\n",
       "       [ 1.6044572e-01, -3.9617339e-01],\n",
       "       [ 6.9055986e-01,  1.6555328e+00],\n",
       "       [ 1.3844267e+00,  8.4291852e-01],\n",
       "       [ 1.1751686e+00,  4.5868158e+00],\n",
       "       [ 1.7041743e-01, -3.0075204e-01],\n",
       "       [ 3.4145665e-01,  1.8034231e-02]], dtype=float32)>"
      ]
     },
     "execution_count": 51,
     "metadata": {},
     "output_type": "execute_result"
    }
   ],
   "source": [
    "ϑ_samp = prior.sample((10,), seed=key)\n",
    "cmaf_model.sample(10, ϑ_samp)"
   ]
  },
  {
   "cell_type": "code",
   "execution_count": null,
   "metadata": {},
   "outputs": [],
   "source": [
    "# can we define a jax-trainable flow with "
   ]
  },
  {
   "cell_type": "code",
   "execution_count": 35,
   "metadata": {
    "collapsed": true,
    "jupyter": {
     "outputs_hidden": true
    }
   },
   "outputs": [
    {
     "name": "stdout",
     "output_type": "stream",
     "text": [
      "Collecting jax-flows\n",
      "  Downloading jax_flows-0.0.1-py3-none-any.whl (15 kB)\n",
      "Requirement already satisfied: numpy in /mnt/home/tmakinen/anaconda3/envs/pyjax9/lib/python3.8/site-packages (from jax-flows) (1.19.5)\n",
      "Requirement already satisfied: scipy in /mnt/home/tmakinen/anaconda3/envs/pyjax9/lib/python3.8/site-packages (from jax-flows) (1.6.2)\n",
      "Requirement already satisfied: jaxlib in /mnt/home/tmakinen/anaconda3/envs/pyjax9/lib/python3.8/site-packages (from jax-flows) (0.1.62+cuda101)\n",
      "Collecting sklearn\n",
      "  Downloading sklearn-0.0.tar.gz (1.1 kB)\n",
      "Requirement already satisfied: jax in /mnt/home/tmakinen/anaconda3/envs/pyjax9/lib/python3.8/site-packages (from jax-flows) (0.2.10)\n",
      "Requirement already satisfied: absl-py in /mnt/home/tmakinen/anaconda3/envs/pyjax9/lib/python3.8/site-packages (from jax->jax-flows) (0.12.0)\n",
      "Requirement already satisfied: opt-einsum in /mnt/home/tmakinen/anaconda3/envs/pyjax9/lib/python3.8/site-packages (from jax->jax-flows) (3.3.0)\n",
      "Requirement already satisfied: six in /mnt/home/tmakinen/anaconda3/envs/pyjax9/lib/python3.8/site-packages (from absl-py->jax->jax-flows) (1.15.0)\n",
      "Requirement already satisfied: flatbuffers in /mnt/home/tmakinen/anaconda3/envs/pyjax9/lib/python3.8/site-packages (from jaxlib->jax-flows) (1.12)\n",
      "Collecting scikit-learn\n",
      "  Downloading scikit_learn-0.24.2-cp38-cp38-manylinux2010_x86_64.whl (24.9 MB)\n",
      "\u001b[K     |████████████████████████████████| 24.9 MB 52.0 MB/s eta 0:00:01\n",
      "\u001b[?25hCollecting joblib>=0.11\n",
      "  Downloading joblib-1.0.1-py3-none-any.whl (303 kB)\n",
      "\u001b[K     |████████████████████████████████| 303 kB 98.5 MB/s eta 0:00:01\n",
      "\u001b[?25hCollecting threadpoolctl>=2.0.0\n",
      "  Downloading threadpoolctl-2.1.0-py3-none-any.whl (12 kB)\n",
      "Building wheels for collected packages: sklearn\n",
      "  Building wheel for sklearn (setup.py) ... \u001b[?25ldone\n",
      "\u001b[?25h  Created wheel for sklearn: filename=sklearn-0.0-py2.py3-none-any.whl size=1316 sha256=9dc92c9f161073da46e463bd5fb37455ec3ce35c4e73c2da72822c8aa2a31633\n",
      "  Stored in directory: /mnt/home/tmakinen/.cache/pip/wheels/22/0b/40/fd3f795caaa1fb4c6cb738bc1f56100be1e57da95849bfc897\n",
      "Successfully built sklearn\n",
      "Installing collected packages: threadpoolctl, joblib, scikit-learn, sklearn, jax-flows\n",
      "Successfully installed jax-flows-0.0.1 joblib-1.0.1 scikit-learn-0.24.2 sklearn-0.0 threadpoolctl-2.1.0\n"
     ]
    }
   ],
   "source": [
    "!python -m pip install jax-flows"
   ]
  },
  {
   "cell_type": "code",
   "execution_count": 36,
   "metadata": {},
   "outputs": [],
   "source": [
    "# do jax-flows example:"
   ]
  },
  {
   "cell_type": "code",
   "execution_count": null,
   "metadata": {},
   "outputs": [],
   "source": [
    "# 1) draw ϑ from proposal distribution (use Gaussian approx.)\n",
    "# 2) simulate d from simulator(ϑ) and then transform f:d->x summaries\n",
    "# 3) permute "
   ]
  },
  {
   "cell_type": "code",
   "execution_count": 133,
   "metadata": {},
   "outputs": [],
   "source": [
    "import matplotlib.pyplot as plt\n",
    "from sklearn import datasets, preprocessing\n",
    "from IPython.display import clear_output\n",
    "import jax.numpy as np\n",
    "\n",
    "%matplotlib inline"
   ]
  },
  {
   "cell_type": "code",
   "execution_count": 134,
   "metadata": {},
   "outputs": [
    {
     "data": {
      "text/plain": [
       "<matplotlib.collections.QuadMesh at 0x154b74b7b880>"
      ]
     },
     "execution_count": 134,
     "metadata": {},
     "output_type": "execute_result"
    },
    {
     "data": {
      "image/png": "[encoded data removed]",
      "text/plain": [
       "<Figure size 432x288 with 1 Axes>"
      ]
     },
     "metadata": {
      "needs_background": "light"
     },
     "output_type": "display_data"
    }
   ],
   "source": [
    "n_samples = 10000\n",
    "plot_range = [(-2, 2), (-2, 2)]\n",
    "n_bins = 100\n",
    "\n",
    "scaler = preprocessing.StandardScaler()\n",
    "X, _ = datasets.make_moons(n_samples=n_samples, noise=.05)\n",
    "X = scaler.fit_transform(X)\n",
    "plt.hist2d(X[:, 0], X[:, 1], bins=n_bins, range=plot_range)[-1]"
   ]
  },
  {
   "cell_type": "code",
   "execution_count": 135,
   "metadata": {},
   "outputs": [],
   "source": [
    "# get parameters from proposal distribution"
   ]
  },
  {
   "cell_type": "code",
   "execution_count": 118,
   "metadata": {},
   "outputs": [],
   "source": [
    "prior = tfp.distributions.Blockwise(\n",
    "    [tfp.distributions.Uniform(low=low, high=high)\n",
    "     for low, high in zip([0.1, 0.1], [1.5, 1.5])])\n",
    "prior.low = np.array([0., 0.])\n",
    "prior.high = np.array([1.5, 1.5])"
   ]
  },
  {
   "cell_type": "code",
   "execution_count": 119,
   "metadata": {},
   "outputs": [],
   "source": [
    "num_sims = 1000\n",
    "ϑ_samp = prior.sample(sample_shape=(num_sims,), seed=key)\n",
    "\n",
    "keys = jax.random.split(rng, num=num_sims)\n",
    "\n",
    "\n",
    "def get_sims(key, n_samples):\n",
    "    ϑ_samp = prior.sample(sample_shape=(n_samples,), seed=key)\n",
    "    keys = np.array(jax.random.split(key, num=n_samples))\n",
    "    return jax.vmap(imnn_simulator)(keys, ϑ_samp)\n",
    "\n",
    "d = get_sims(rng, 100)\n",
    "\n",
    "IMNN.get_estimate(d)"
   ]
  },
  {
   "cell_type": "code",
   "execution_count": 120,
   "metadata": {},
   "outputs": [],
   "source": [
    "def get_sims(key, n_samples):\n",
    "    ϑ_samp = prior.sample(sample_shape=(n_samples,), seed=key)\n",
    "    keys = np.array(jax.random.split(key, num=n_samples))\n",
    "    return jax.vmap(imnn_simulator)(keys, ϑ_samp)"
   ]
  },
  {
   "cell_type": "code",
   "execution_count": 123,
   "metadata": {},
   "outputs": [],
   "source": [
    "d = get_sims(rng, 100)"
   ]
  },
  {
   "cell_type": "code",
   "execution_count": 124,
   "metadata": {},
   "outputs": [
    {
     "data": {
      "text/plain": [
       "DeviceArray([[ 0.51942074,  0.40817437],\n",
       "             [ 1.1372175 ,  0.8241704 ],\n",
       "             [ 0.49381173,  0.74707884],\n",
       "             [ 0.8494258 ,  0.72548425],\n",
       "             [ 0.5716963 ,  0.6939466 ],\n",
       "             [        nan,         nan],\n",
       "             [ 1.0140868 ,  0.19848028],\n",
       "             [        nan,         nan],\n",
       "             [        nan,         nan],\n",
       "             [ 0.88995755,  0.6025703 ],\n",
       "             [ 0.79054946,  0.67137665],\n",
       "             [        nan,         nan],\n",
       "             [        nan,         nan],\n",
       "             [ 0.62849534,  0.31345916],\n",
       "             [ 0.42955083,  0.43347234],\n",
       "             [        nan,         nan],\n",
       "             [        nan,         nan],\n",
       "             [ 1.1786678 ,  0.34587646],\n",
       "             [ 0.2570203 ,  0.62342757],\n",
       "             [ 1.1610155 ,  0.7050915 ],\n",
       "             [ 0.24152464,  0.6073433 ],\n",
       "             [ 1.102466  ,  0.8403519 ],\n",
       "             [ 0.40964496,  0.6770237 ],\n",
       "             [        nan,         nan],\n",
       "             [ 0.2529899 ,  0.6087576 ],\n",
       "             [ 0.5854101 ,  0.66699034],\n",
       "             [ 0.5864495 ,  0.6878778 ],\n",
       "             [        nan,         nan],\n",
       "             [ 1.5988495 ,  0.346882  ],\n",
       "             [        nan,         nan],\n",
       "             [        nan,         nan],\n",
       "             [        nan,         nan],\n",
       "             [ 1.4616114 ,  1.0260582 ],\n",
       "             [ 1.40047   , -0.03221077],\n",
       "             [ 0.8683906 ,  0.6402011 ],\n",
       "             [        nan,         nan],\n",
       "             [        nan,         nan],\n",
       "             [ 0.7319192 ,  0.7190832 ],\n",
       "             [ 0.5851483 ,  0.6190345 ],\n",
       "             [ 0.66385806,  0.7048484 ],\n",
       "             [ 0.7180785 ,  0.69925064],\n",
       "             [ 0.25281554,  0.62702537],\n",
       "             [ 0.6222215 ,  0.5625905 ],\n",
       "             [        nan,         nan],\n",
       "             [        nan,         nan],\n",
       "             [ 0.6027669 ,  0.68373483],\n",
       "             [        nan,         nan],\n",
       "             [ 1.3153836 ,  0.35865718],\n",
       "             [        nan,         nan],\n",
       "             [ 0.37087095,  0.5440071 ],\n",
       "             [        nan,         nan],\n",
       "             [ 0.63312244,  0.25257498],\n",
       "             [ 0.22243768,  0.62329453],\n",
       "             [ 0.46014574,  0.50031185],\n",
       "             [        nan,         nan],\n",
       "             [ 0.8376187 ,  0.60285246],\n",
       "             [        nan,         nan],\n",
       "             [        nan,         nan],\n",
       "             [ 0.4390219 ,  0.62341285],\n",
       "             [ 1.3750714 ,  0.80466515],\n",
       "             [ 1.215066  ,  0.8808091 ],\n",
       "             [ 1.4341336 ,  0.6719234 ],\n",
       "             [ 0.48373127,  0.69249845],\n",
       "             [ 1.0379311 ,  0.69247705],\n",
       "             [ 0.25586677,  0.641634  ],\n",
       "             [ 1.1366602 ,  0.27008447],\n",
       "             [ 0.21338564,  0.57967526],\n",
       "             [ 0.6606308 ,  0.69828117],\n",
       "             [ 0.9715418 ,  0.7572585 ],\n",
       "             [        nan,         nan],\n",
       "             [ 1.1584958 ,  0.18517858],\n",
       "             [ 0.7795072 ,  0.21196392],\n",
       "             [        nan,         nan],\n",
       "             [        nan,         nan],\n",
       "             [ 1.2227061 ,  0.78959054],\n",
       "             [        nan,         nan],\n",
       "             [ 1.09006   ,  0.52745193],\n",
       "             [        nan,         nan],\n",
       "             [ 0.66785765,  0.34082085],\n",
       "             [ 0.56830364,  0.6394555 ],\n",
       "             [ 0.9750161 ,  0.2987638 ],\n",
       "             [ 0.39693052,  0.56060684],\n",
       "             [ 0.5093839 ,  0.63794863],\n",
       "             [ 0.37305218,  0.45413345],\n",
       "             [ 0.33934456,  0.5440194 ],\n",
       "             [        nan,         nan],\n",
       "             [ 0.7382698 ,  0.80243564],\n",
       "             [ 0.8082857 ,  0.70842195],\n",
       "             [ 1.4843166 ,  0.08779269],\n",
       "             [        nan,         nan],\n",
       "             [        nan,         nan],\n",
       "             [ 0.3360551 ,  0.52658415],\n",
       "             [ 1.0607142 ,  0.6196373 ],\n",
       "             [ 1.7703953 ,  0.9520924 ],\n",
       "             [ 0.3900184 ,  0.4444567 ],\n",
       "             [ 0.42542386,  0.5599532 ],\n",
       "             [        nan,         nan],\n",
       "             [        nan,         nan],\n",
       "             [        nan,         nan],\n",
       "             [ 0.20433879,  0.578054  ]], dtype=float32)"
      ]
     },
     "execution_count": 124,
     "metadata": {},
     "output_type": "execute_result"
    }
   ],
   "source": [
    "IMNN.get_estimate(d)"
   ]
  },
  {
   "cell_type": "code",
   "execution_count": null,
   "metadata": {},
   "outputs": [],
   "source": [
    "keys = np.array(jax.random.split(key, num=n_samples))\n",
    "    return np.cov(np.array(jax.vmap(dlnLdθ)(np.repeat(α, n_samples), np.repeat(β, n_samples), keys)), rowvar=True)"
   ]
  },
  {
   "cell_type": "code",
   "execution_count": 102,
   "metadata": {},
   "outputs": [],
   "source": []
  },
  {
   "cell_type": "code",
   "execution_count": 136,
   "metadata": {},
   "outputs": [],
   "source": [
    "import flows\n",
    "\n",
    "from jax import grad, jit, random\n",
    "from jax.experimental import stax, optimizers"
   ]
  },
  {
   "cell_type": "code",
   "execution_count": 137,
   "metadata": {},
   "outputs": [],
   "source": [
    "rng, flow_rng = random.split(random.PRNGKey(0))\n",
    "input_dim = X.shape[1]\n",
    "num_epochs, batch_size = 300, 100"
   ]
  },
  {
   "cell_type": "code",
   "execution_count": 138,
   "metadata": {},
   "outputs": [],
   "source": [
    "def get_masks(input_dim, hidden_dim=64, num_hidden=1):\n",
    "    masks = []\n",
    "    input_degrees = np.arange(input_dim)\n",
    "    degrees = [input_degrees]\n",
    "\n",
    "    for n_h in range(num_hidden + 1):\n",
    "        degrees += [np.arange(hidden_dim) % (input_dim - 1)]\n",
    "    degrees += [input_degrees % input_dim - 1]\n",
    "\n",
    "    for (d0, d1) in zip(degrees[:-1], degrees[1:]):\n",
    "        masks += [np.transpose(np.expand_dims(d1, -1) >= np.expand_dims(d0, 0)).astype(np.float32)]\n",
    "    return masks\n",
    "\n",
    "def masked_transform(rng, input_dim):\n",
    "    masks = get_masks(input_dim, hidden_dim=64, num_hidden=1)\n",
    "    act = stax.LeakyRelu\n",
    "    init_fun, apply_fun = stax.serial(\n",
    "        flows.MaskedDense(masks[0]),\n",
    "        act,\n",
    "        flows.MaskedDense(masks[1]),\n",
    "        act,\n",
    "        flows.MaskedDense(masks[2].tile(2)),\n",
    "    )\n",
    "    _, params = init_fun(rng, (input_dim,))\n",
    "    return params, apply_fun\n",
    "\n",
    "init_fun = flows.Flow(\n",
    "    flows.Serial(*(flows.MADE(masked_transform), flows.Reverse()) * 5),\n",
    "    flows.Normal(),\n",
    ")\n",
    "\n",
    "params, log_pdf, sample = init_fun(flow_rng, input_dim)"
   ]
  },
  {
   "cell_type": "code",
   "execution_count": 139,
   "metadata": {},
   "outputs": [],
   "source": [
    "opt_init, opt_update, get_params = optimizers.adam(step_size=1e-4)\n",
    "opt_state = opt_init(params)"
   ]
  },
  {
   "cell_type": "code",
   "execution_count": 140,
   "metadata": {},
   "outputs": [],
   "source": [
    "from tqdm.notebook import trange\n",
    "import itertools\n",
    "import numpy.random as npr"
   ]
  },
  {
   "cell_type": "code",
   "execution_count": 141,
   "metadata": {},
   "outputs": [],
   "source": [
    "def loss(params, inputs):\n",
    "    return -log_pdf(params, inputs).mean()\n",
    "\n",
    "@jit\n",
    "def step(i, opt_state, inputs):\n",
    "    params = get_params(opt_state)\n",
    "    gradients = grad(loss)(params, inputs)\n",
    "    return opt_update(i, gradients, opt_state)"
   ]
  },
  {
   "cell_type": "code",
   "execution_count": 142,
   "metadata": {},
   "outputs": [
    {
     "data": {
      "image/png": "[encoded data removed]",
      "text/plain": [
       "<Figure size 432x288 with 1 Axes>"
      ]
     },
     "metadata": {
      "needs_background": "light"
     },
     "output_type": "display_data"
    }
   ],
   "source": [
    "itercount = itertools.count()\n",
    "\n",
    "for epoch in range(num_epochs):\n",
    "    clear_output(wait=True) # Clear plotting\n",
    "\n",
    "    permute_rng, rng = random.split(rng)\n",
    "    \n",
    "    # permute existing X dataset\n",
    "    X = random.permutation(permute_rng, X)\n",
    "    for batch_index in range(0, len(X), batch_size):\n",
    "        opt_state = step(next(itercount), opt_state, X[batch_index:batch_index+batch_size])\n",
    "     \n",
    "    params = get_params(opt_state)\n",
    "    sample_rng, rng = random.split(rng)\n",
    "    X_syn = sample(rng, params, X.shape[0])\n",
    "    \n",
    "    # plot the learned distribution over time\n",
    "    plt.hist2d(X_syn[:, 0], X_syn[:, 1], bins=n_bins, range=plot_range)\n",
    "    plt.show()\n",
    "\n",
    "params = get_params(opt_state)"
   ]
  },
  {
   "cell_type": "code",
   "execution_count": 88,
   "metadata": {},
   "outputs": [
    {
     "ename": "AttributeError",
     "evalue": "module 'jax.random' has no attribute 'n'",
     "output_type": "error",
     "traceback": [
      "\u001b[0;31m---------------------------------------------------------------------------\u001b[0m",
      "\u001b[0;31mAttributeError\u001b[0m                            Traceback (most recent call last)",
      "\u001b[0;32m<ipython-input-88-064538cb6933>\u001b[0m in \u001b[0;36m<module>\u001b[0;34m\u001b[0m\n\u001b[1;32m      7\u001b[0m \u001b[0;34m\u001b[0m\u001b[0m\n\u001b[1;32m      8\u001b[0m     \u001b[0;31m# draw θ from proposal distribution\u001b[0m\u001b[0;34m\u001b[0m\u001b[0;34m\u001b[0m\u001b[0;34m\u001b[0m\u001b[0m\n\u001b[0;32m----> 9\u001b[0;31m     \u001b[0mθ\u001b[0m \u001b[0;34m=\u001b[0m \u001b[0mjax\u001b[0m\u001b[0;34m.\u001b[0m\u001b[0mrandom\u001b[0m\u001b[0;34m.\u001b[0m\u001b[0mn\u001b[0m\u001b[0;34m\u001b[0m\u001b[0;34m\u001b[0m\u001b[0m\n\u001b[0m\u001b[1;32m     10\u001b[0m \u001b[0;34m\u001b[0m\u001b[0m\n\u001b[1;32m     11\u001b[0m \u001b[0;34m\u001b[0m\u001b[0m\n",
      "\u001b[0;31mAttributeError\u001b[0m: module 'jax.random' has no attribute 'n'"
     ]
    }
   ],
   "source": [
    "itercount = itertools.count()\n",
    "\n",
    "# do one training round\n",
    "\n",
    "for epoch in range(num_epochs):\n",
    "    clear_output(wait=True) # Clear plotting\n",
    "\n",
    "    permute_rng, rng = random.split(rng)\n",
    "    \n",
    "    # draw θ from proposal distribution\n",
    "    θ = jax.random.n\n",
    "    \n",
    "    \n",
    "    X = random.permutation(permute_rng, X)\n",
    "    for batch_index in range(0, len(X), batch_size):\n",
    "        opt_state = step(next(itercount), opt_state, X[batch_index:batch_index+batch_size])\n",
    "     \n",
    "    params = get_params(opt_state)\n",
    "    sample_rng, rng = random.split(rng)\n",
    "    X_syn = sample(rng, params, X.shape[0])\n",
    "    \n",
    "    # plot the learned distribution over time\n",
    "    plt.hist2d(X_syn[:, 0], X_syn[:, 1], bins=n_bins, range=plot_range)\n",
    "    plt.show()\n",
    "\n",
    "params = get_params(opt_state)"
   ]
  },
  {
   "cell_type": "code",
   "execution_count": null,
   "metadata": {},
   "outputs": [],
   "source": []
  }
 ],
 "metadata": {
  "kernelspec": {
   "display_name": "pyjax9",
   "language": "python",
   "name": "pyjax9"
  },
  "language_info": {
   "codemirror_mode": {
    "name": "ipython",
    "version": 3
   },
   "file_extension": ".py",
   "mimetype": "text/x-python",
   "name": "python",
   "nbconvert_exporter": "python",
   "pygments_lexer": "ipython3",
   "version": "3.8.8"
  }
 },
 "nbformat": 4,
 "nbformat_minor": 4
}
