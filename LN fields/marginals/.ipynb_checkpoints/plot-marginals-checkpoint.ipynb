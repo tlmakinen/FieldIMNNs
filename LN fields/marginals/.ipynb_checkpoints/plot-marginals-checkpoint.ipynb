{
 "cells": [
  {
   "cell_type": "code",
   "execution_count": 1,
   "metadata": {},
   "outputs": [],
   "source": [
    "import numpy as np\n",
    "import matplotlib.pyplot as plt\n",
    "from mpl_toolkits.axes_grid1.axes_divider import make_axes_locatable"
   ]
  },
  {
   "cell_type": "code",
   "execution_count": 2,
   "metadata": {},
   "outputs": [],
   "source": [
    "dataid=1"
   ]
  },
  {
   "cell_type": "code",
   "execution_count": 3,
   "metadata": {},
   "outputs": [],
   "source": [
    "# get comparison to true posterior\n",
    "# prior = uniform([0., 0.2], [2., 0.8])\n",
    "# load marginals from Tom's code\n",
    "size = 250\n",
    "marginal = np.load('./marginal_field_%d_20x20_field.npy'%(dataid))\n",
    "arr = marginal[~np.isnan(marginal)]\n",
    "inds = np.argsort(arr)[::-1]\n",
    "cdf = np.cumsum(arr[inds] / arr.sum())\n",
    "levels = [arr[inds[np.argmin(np.abs(i - cdf))]] for i in [0.99, 0.95, 0.68, 0.]]\n"
   ]
  },
  {
   "cell_type": "code",
   "execution_count": 4,
   "metadata": {},
   "outputs": [],
   "source": [
    "# pull in abc marginals\n",
    "abc_marginal = np.load('abc_marginal_field_%d.npy'%(dataid))\n",
    "distances = np.load('abc_distances.npy')\n",
    "\n",
    "abc_ranges = np.load('./abc_ranges.npy')\n",
    "abc_2d_marginal = np.load('./abc_2d_marginal_field_1.npy')\n",
    "abc_levels = np.load('./abc_2d_marginal_field_levels_1.npy')\n",
    "\n",
    "\n",
    "# pull in maf marginals\n",
    "\n",
    "maf_ranges = abc_ranges#= np.load('./maf_1_ranges.npy')\n",
    "maf_2d_marginal = np.load('./maf_1_2d_marginal_field_1.npy')\n",
    "maf_levels = np.load('./maf_1_2d_marginal_field_levels_1.npy')"
   ]
  },
  {
   "cell_type": "code",
   "execution_count": 5,
   "metadata": {},
   "outputs": [
    {
     "data": {
      "text/plain": [
       "array([ 1.5741762,  4.5273166, 19.432096 ], dtype=float32)"
      ]
     },
     "execution_count": 5,
     "metadata": {},
     "output_type": "execute_result"
    }
   ],
   "source": [
    "abc_levels"
   ]
  },
  {
   "cell_type": "code",
   "execution_count": 16,
   "metadata": {},
   "outputs": [
    {
     "name": "stderr",
     "output_type": "stream",
     "text": [
      "/Users/lucas/anaconda3/envs/21cm/lib/python3.7/site-packages/ipykernel_launcher.py:22: UserWarning: The following kwargs were not used by contour: 'label'\n",
      "/Users/lucas/anaconda3/envs/21cm/lib/python3.7/site-packages/ipykernel_launcher.py:34: UserWarning: The following kwargs were not used by contour: 'label'\n"
     ]
    },
    {
     "data": {
      "image/png": "[encoded data removed]",
      "text/plain": [
       "<Figure size 504x504 with 1 Axes>"
      ]
     },
     "metadata": {
      "needs_background": "light"
     },
     "output_type": "display_data"
    }
   ],
   "source": [
    "row=1\n",
    "column=0\n",
    "\n",
    "plt.figure(figsize=(7, 7))\n",
    "\n",
    "# ABC estimate\n",
    "# plt.contour(abc_ranges[column], abc_ranges[row], abc_2d_marginal.T, levels=abc_levels,\n",
    "#                 cmap='viridis')\n",
    "\n",
    "# cs = plt.contourf(abc_ranges[column], abc_ranges[row], abc_2d_marginal.T, levels=abc_levels,\n",
    "#                 cmap='viridis', label='ABC with IMNN')\n",
    "\n",
    "# proxy2 = [plt.Rectangle((0,0),1,1,fc = pc.get_facecolor()[0]) \n",
    "#     for pc in cs.collections]\n",
    "\n",
    "\n",
    "# # delfi estimate\n",
    "# plt.contour(maf_ranges[column], maf_ranges[row], maf_2d_marginal.T, levels=maf_levels,\n",
    "#                 cmap='viridis')\n",
    "\n",
    "cs = plt.contourf(abc_ranges[column], abc_ranges[row], abc_2d_marginal.T, levels=abc_levels,\n",
    "                cmap='magma', label='ABC with IMNN')\n",
    "\n",
    "proxy2 = [plt.Rectangle((0,0),1,1,fc = pc.get_facecolor()[0]) \n",
    "    for pc in cs.collections]\n",
    "\n",
    "\n",
    "# BHM solution\n",
    "cs = plt.contourf(np.linspace(0., 2., size), np.linspace(0.2, 0.8, size), marginal, levels=levels, cmap=\"Purples\")\n",
    "\n",
    "proxy1 = [plt.Rectangle((0,0),1,1,fc = pc.get_facecolor()[0]) \n",
    "    for pc in cs.collections]\n",
    "\n",
    "plt.contour(np.linspace(0., 2., size), np.linspace(0.2, 0.8, size), marginal, levels=levels, label='BHM')\n",
    "\n",
    "# legend\n",
    "\n",
    "\n",
    "proxies = [proxy2[1], proxy1[2]]\n",
    "\n",
    "\n",
    "plt.legend(proxies, [\"ABC with IMNN\", \"BHM\"])\n",
    "\n",
    "\n",
    "# plt.scatter(abc_marginal.T[0], abc_marginal.T[1], s=30, alpha=0.6,\n",
    "#                 c=np.log(distances), cmap='viridis', edgecolors=None, linewidths=0, marker='.')\n",
    "\n",
    "\n",
    "plt.xlabel(\"α\")\n",
    "plt.ylabel(\"β\")\n",
    "plt.ylim(0.3, 0.7)\n",
    "plt.xlim(0.25, 1.5)\n",
    "plt.axvline(1.0, linestyle=\"dashed\", color=\"black\")\n",
    "plt.axhline(0.5, linestyle=\"dashed\", color=\"black\");\n",
    "\n",
    "# plt.axvline(0.95, linestyle=\"dashed\", color=\"gray\")\n",
    "# plt.axhline(0.55, linestyle=\"dashed\", color=\"gray\");\n",
    "#plt.legend()\n",
    "plt.savefig(\"/Users/lucas/repositories/FieldIMNNs/plots/IMNNxDelfi_vs_BHM_field_%d.png\"%(dataid), bbox_inches=\"tight\", transparent=True)"
   ]
  },
  {
   "cell_type": "code",
   "execution_count": 17,
   "metadata": {},
   "outputs": [
    {
     "name": "stdout",
     "output_type": "stream",
     "text": [
      "Cloning into 'correlations_vs_field'...\n",
      "remote: Enumerating objects: 124, done.\u001b[K\n",
      "remote: Counting objects: 100% (83/83), done.\u001b[K\n",
      "remote: Compressing objects: 100% (63/63), done.\u001b[K\n",
      "remote: Total 124 (delta 26), reused 70 (delta 20), pack-reused 41\u001b[K\n",
      "Receiving objects: 100% (124/124), 49.68 MiB | 4.23 MiB/s, done.\n",
      "Resolving deltas: 100% (28/28), done.\n"
     ]
    }
   ],
   "source": [
    "!git clone https://github.com/florent-leclercq/correlations_vs_field.git"
   ]
  },
  {
   "cell_type": "code",
   "execution_count": 21,
   "metadata": {},
   "outputs": [],
   "source": [
    "N=20"
   ]
  },
  {
   "cell_type": "code",
   "execution_count": 22,
   "metadata": {},
   "outputs": [],
   "source": [
    "target = dict(\n",
    "    f_NL=None,\n",
    "    α=np.array(1.0),\n",
    "    β=np.array(0.5))\n",
    "\n",
    "dat = np.load(\"./correlations_vs_field/data/Sims20_05_10_80_80_500_80_1_123456.npy\")\n",
    "target['f_NL'] = dat[dataid]['field'].flatten()"
   ]
  },
  {
   "cell_type": "code",
   "execution_count": 23,
   "metadata": {},
   "outputs": [
    {
     "data": {
      "text/plain": [
       "<matplotlib.colorbar.Colorbar at 0x7fef7996bf10>"
      ]
     },
     "execution_count": 23,
     "metadata": {},
     "output_type": "execute_result"
    },
    {
     "data": {
      "image/png": "[encoded data removed]",
      "text/plain": [
       "<Figure size 432x288 with 2 Axes>"
      ]
     },
     "metadata": {
      "needs_background": "light"
     },
     "output_type": "display_data"
    }
   ],
   "source": [
    "plt.imshow(target[\"f_NL\"].reshape((N, N)))\n",
    "plt.colorbar()"
   ]
  },
  {
   "cell_type": "code",
   "execution_count": 6,
   "metadata": {},
   "outputs": [
    {
     "data": {
      "text/plain": [
       "<matplotlib.collections.PathCollection at 0x1553f406bbe0>"
      ]
     },
     "execution_count": 6,
     "metadata": {},
     "output_type": "execute_result"
    },
    {
     "data": {
      "image/png": "[encoded data removed]",
      "text/plain": [
       "<Figure size 432x288 with 1 Axes>"
      ]
     },
     "metadata": {
      "needs_background": "light"
     },
     "output_type": "display_data"
    }
   ],
   "source": [
    "plt.scatter(abc_marginal[0], abc_marginal[1])"
   ]
  },
  {
   "cell_type": "code",
   "execution_count": 13,
   "metadata": {},
   "outputs": [
    {
     "data": {
      "text/plain": [
       "(1026, 2)"
      ]
     },
     "execution_count": 13,
     "metadata": {},
     "output_type": "execute_result"
    }
   ],
   "source": [
    "abc_marginal.shape"
   ]
  },
  {
   "cell_type": "code",
   "execution_count": null,
   "metadata": {},
   "outputs": [],
   "source": []
  }
 ],
 "metadata": {
  "kernelspec": {
   "display_name": "Python 3",
   "language": "python",
   "name": "python3"
  },
  "language_info": {
   "codemirror_mode": {
    "name": "ipython",
    "version": 3
   },
   "file_extension": ".py",
   "mimetype": "text/x-python",
   "name": "python",
   "nbconvert_exporter": "python",
   "pygments_lexer": "ipython3",
   "version": "3.7.6"
  }
 },
 "nbformat": 4,
 "nbformat_minor": 4
}
