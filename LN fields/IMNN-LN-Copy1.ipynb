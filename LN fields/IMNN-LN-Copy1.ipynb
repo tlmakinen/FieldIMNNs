{
 "cells": [
  {
   "cell_type": "code",
   "execution_count": 1,
   "metadata": {},
   "outputs": [],
   "source": [
    "!XLA_FLAGS=--xla_gpu_cuda_data_dir=/cm/shared/sw/pkg/devel/cuda/10.1.243_418.87.00"
   ]
  },
  {
   "cell_type": "code",
   "execution_count": 2,
   "metadata": {},
   "outputs": [
    {
     "name": "stdout",
     "output_type": "stream",
     "text": [
      "jax version:  0.2.10\n"
     ]
    }
   ],
   "source": [
    "import jax\n",
    "print(\"jax version: \", jax.__version__)\n",
    "import jax.numpy as np\n",
    "import tensorflow_probability.substrates.jax as tfp\n",
    "tfd = tfp.distributions\n",
    "tfb = tfp.bijectors\n",
    "import matplotlib.pyplot as plt\n",
    "from scipy.linalg import toeplitz\n",
    "\n",
    "rng = jax.random.PRNGKey(2)"
   ]
  },
  {
   "cell_type": "code",
   "execution_count": 40,
   "metadata": {
    "jupyter": {
     "source_hidden": true
    }
   },
   "outputs": [
    {
     "name": "stdout",
     "output_type": "stream",
     "text": [
      "/mnt/home/tmakinen/repositories/scratch/devinstall/imnn\n"
     ]
    }
   ],
   "source": [
    "cd ~/repositories/scratch/devinstall/imnn"
   ]
  },
  {
   "cell_type": "code",
   "execution_count": 41,
   "metadata": {
    "jupyter": {
     "source_hidden": true
    }
   },
   "outputs": [
    {
     "name": "stdout",
     "output_type": "stream",
     "text": [
      "M\timnn/imnn/_aggregated_imnn.py\n",
      "Already on 'dev'\n"
     ]
    }
   ],
   "source": [
    "!git checkout dev"
   ]
  },
  {
   "cell_type": "code",
   "execution_count": 7,
   "metadata": {
    "collapsed": true,
    "jupyter": {
     "outputs_hidden": true,
     "source_hidden": true
    }
   },
   "outputs": [
    {
     "name": "stdout",
     "output_type": "stream",
     "text": [
      "Updating a7d02f9..ac3f2a3\n",
      "Fast-forward\n",
      " Jenkinsfile                                        |   23 +-\n",
      " README.rst                                         |  628 -------\n",
      " clear_test_files.sh                                |    3 +\n",
      " docs/index.rst                                     |    1 +\n",
      " docs/pages/examples.rst                            |    7 +\n",
      " .../AggregatedGradientIMNN.rst                     |  225 +++\n",
      " .../AggregatedGradientIMNN/output_28_0.png         |  Bin 0 -> 45851 bytes\n",
      " .../AggregatedNumericalGradientIMNN.rst            |  231 +++\n",
      " .../output_26_0.png                                |  Bin 0 -> 45573 bytes\n",
      " .../AggregatedSimulatorIMNN.rst                    |  189 ++\n",
      " .../AggregatedSimulatorIMNN/output_23_0.png        |  Bin 0 -> 59212 bytes\n",
      " .../DatasetNumericalGradientIMNN.rst               |  516 ++++++\n",
      " .../DatasetNumericalGradientIMNN/output_31_0.png   |  Bin 0 -> 47691 bytes\n",
      " docs/pages/examples/GradientIMNN/GradientIMNN.rst  |  210 +++\n",
      " docs/pages/examples/GradientIMNN/output_26_0.png   |  Bin 0 -> 47334 bytes\n",
      " .../NumericalGradientIMNN.rst                      |  216 +++\n",
      " .../examples/NumericalGradientIMNN/output_24_0.png |  Bin 0 -> 44255 bytes\n",
      " .../pages/examples/SimulatorIMNN/SimulatorIMNN.rst |  176 ++\n",
      " docs/pages/examples/SimulatorIMNN/output_21_0.png  |  Bin 0 -> 57785 bytes\n",
      " docs/pages/modules.rst                             |    6 +\n",
      " docs/pages/tf.data.Datasets.rst                    |   20 +\n",
      " examples/AggregatedGradientIMNN.ipynb              |  350 ++++\n",
      " examples/AggregatedNumericalGradientIMNN.ipynb     |  343 ++++\n",
      " examples/AggregatedSimulatorIMNN.ipynb             |  294 ++++\n",
      " examples/DatasetNumericalGradientIMNN.ipynb        |  628 +++++++\n",
      " examples/GradientIMNN.ipynb                        |  340 ++++\n",
      " examples/IMNN - JAX.ipynb                          | 1838 --------------------\n",
      " examples/IMNN - TFRecords.ipynb                    |  797 ---------\n",
      " examples/IMNN - data in memory.ipynb               |  789 ---------\n",
      " examples/IMNN - dual loading.ipynb                 |  887 ----------\n",
      " examples/IMNN - function loading.ipynb             |  813 ---------\n",
      " examples/IMNN - map_fn.ipynb                       |  833 ---------\n",
      " ...nd variance inference of multiple targets.ipynb |  768 --------\n",
      " examples/LFI - Mean and variance inference.ipynb   |  775 ---------\n",
      " ... - Variance inference of multiple targets.ipynb |  790 ---------\n",
      " examples/LFI - Variance inference.ipynb            |  759 --------\n",
      " examples/NumericalGradientIMNN.ipynb               |  326 ++++\n",
      " examples/SimulatorIMNN.ipynb                       |  285 +++\n",
      " examples/TFRecords.ipynb                           |  124 --\n",
      " examples/data/README.rst                           |    0\n",
      " examples/data/tfrecords/README.rst                 |    0\n",
      " examples/make_data.py                              |  364 ----\n",
      " examples/model/README.rst                          |    0\n",
      " examples/simulator.py                              |   59 -\n",
      " imnn/__init__.py                                   |    7 +-\n",
      " imnn/imnn/__init__.py                              |    5 +-\n",
      " imnn/imnn/_aggregated_imnn.py                      | 1059 ++++++-----\n",
      " imnn/imnn/_imnn.py                                 |  861 ++++-----\n",
      " imnn/imnn/_imnn_test.py                            |    5 +-\n",
      " imnn/imnn/_tensorflow_imnn.py                      |  286 ---\n",
      " imnn/imnn/_tensorflow_imnn_test.py                 |   47 -\n",
      " imnn/imnn/aggregated_gradient_imnn.py              |  654 ++++++-\n",
      " imnn/imnn/aggregated_gradient_imnn_test.py         |    9 +-\n",
      " imnn/imnn/aggregated_numerical_gradient_imnn.py    |  602 ++++++-\n",
      " .../aggregated_numerical_gradient_imnn_test.py     |    9 +-\n",
      " imnn/imnn/aggregated_simulator_imnn.py             |  465 ++++-\n",
      " imnn/imnn/aggregated_simulator_imnn_test.py        |   20 +-\n",
      " imnn/imnn/dataset_numerical_gradient_imnn.py       |  657 +++++++\n",
      " imnn/imnn/gradient_imnn.py                         |  198 ++-\n",
      " imnn/imnn/imnn_test.py                             |  195 ---\n",
      " imnn/imnn/noise_numerical_gradient_imnn.py         |   95 -\n",
      " imnn/imnn/noise_numerical_gradient_imnn_test.py    |   61 -\n",
      " imnn/imnn/numerical_gradient_imnn.py               |   74 +-\n",
      " imnn/imnn/numerical_gradient_imnn_test.py          |    2 +-\n",
      " imnn/imnn/simulator_imnn.py                        |    1 -\n",
      " imnn/imnn/simulator_imnn_test.py                   |    5 +-\n",
      " imnn/imnn/tensorflow_gradient_imnn.py              |  125 --\n",
      " imnn/imnn/tensorflow_numerical_gradient_imnn.py    |  189 --\n",
      " .../tensorflow_numerical_gradient_imnn_test.py     |   53 -\n",
      " imnn/utils/__init__.py                             |    4 +-\n",
      " imnn/utils/progress_bar.py                         |    1 -\n",
      " imnn/utils/tfrecords.py                            |  192 ++\n",
      " imnn/utils/utils.py                                |   94 +-\n",
      " setup.py                                           |   12 +-\n",
      " test/aggregated_defaults.py                        |   37 +-\n",
      " test/defaults.py                                   |   39 +-\n",
      " 76 files changed, 8126 insertions(+), 12550 deletions(-)\n",
      " delete mode 100644 README.rst\n",
      " create mode 100644 clear_test_files.sh\n",
      " create mode 100644 docs/pages/examples/AggregatedGradientIMNN/AggregatedGradientIMNN.rst\n",
      " create mode 100644 docs/pages/examples/AggregatedGradientIMNN/output_28_0.png\n",
      " create mode 100644 docs/pages/examples/AggregatedNumericalGradientIMNN/AggregatedNumericalGradientIMNN.rst\n",
      " create mode 100644 docs/pages/examples/AggregatedNumericalGradientIMNN/output_26_0.png\n",
      " create mode 100644 docs/pages/examples/AggregatedSimulatorIMNN/AggregatedSimulatorIMNN.rst\n",
      " create mode 100644 docs/pages/examples/AggregatedSimulatorIMNN/output_23_0.png\n",
      " create mode 100644 docs/pages/examples/DatasetNumericalGradientIMNN/DatasetNumericalGradientIMNN.rst\n",
      " create mode 100644 docs/pages/examples/DatasetNumericalGradientIMNN/output_31_0.png\n",
      " create mode 100644 docs/pages/examples/GradientIMNN/GradientIMNN.rst\n",
      " create mode 100644 docs/pages/examples/GradientIMNN/output_26_0.png\n",
      " create mode 100644 docs/pages/examples/NumericalGradientIMNN/NumericalGradientIMNN.rst\n",
      " create mode 100644 docs/pages/examples/NumericalGradientIMNN/output_24_0.png\n",
      " create mode 100644 docs/pages/examples/SimulatorIMNN/SimulatorIMNN.rst\n",
      " create mode 100644 docs/pages/examples/SimulatorIMNN/output_21_0.png\n",
      " create mode 100644 docs/pages/tf.data.Datasets.rst\n",
      " create mode 100644 examples/AggregatedGradientIMNN.ipynb\n",
      " create mode 100644 examples/AggregatedNumericalGradientIMNN.ipynb\n",
      " create mode 100644 examples/AggregatedSimulatorIMNN.ipynb\n",
      " create mode 100644 examples/DatasetNumericalGradientIMNN.ipynb\n",
      " create mode 100644 examples/GradientIMNN.ipynb\n",
      " delete mode 100644 examples/IMNN - JAX.ipynb\n",
      " delete mode 100644 examples/IMNN - TFRecords.ipynb\n",
      " delete mode 100644 examples/IMNN - data in memory.ipynb\n",
      " delete mode 100644 examples/IMNN - dual loading.ipynb\n",
      " delete mode 100644 examples/IMNN - function loading.ipynb\n",
      " delete mode 100644 examples/IMNN - map_fn.ipynb\n",
      " delete mode 100644 examples/LFI - Mean and variance inference of multiple targets.ipynb\n",
      " delete mode 100644 examples/LFI - Mean and variance inference.ipynb\n",
      " delete mode 100644 examples/LFI - Variance inference of multiple targets.ipynb\n",
      " delete mode 100644 examples/LFI - Variance inference.ipynb\n",
      " create mode 100644 examples/NumericalGradientIMNN.ipynb\n",
      " create mode 100644 examples/SimulatorIMNN.ipynb\n",
      " delete mode 100644 examples/TFRecords.ipynb\n",
      " delete mode 100644 examples/data/README.rst\n",
      " delete mode 100644 examples/data/tfrecords/README.rst\n",
      " delete mode 100644 examples/make_data.py\n",
      " delete mode 100644 examples/model/README.rst\n",
      " delete mode 100644 examples/simulator.py\n",
      " delete mode 100644 imnn/imnn/_tensorflow_imnn.py\n",
      " delete mode 100644 imnn/imnn/_tensorflow_imnn_test.py\n",
      " create mode 100644 imnn/imnn/dataset_numerical_gradient_imnn.py\n",
      " delete mode 100644 imnn/imnn/imnn_test.py\n",
      " delete mode 100644 imnn/imnn/noise_numerical_gradient_imnn.py\n",
      " delete mode 100644 imnn/imnn/noise_numerical_gradient_imnn_test.py\n",
      " delete mode 100644 imnn/imnn/tensorflow_gradient_imnn.py\n",
      " delete mode 100644 imnn/imnn/tensorflow_numerical_gradient_imnn.py\n",
      " delete mode 100644 imnn/imnn/tensorflow_numerical_gradient_imnn_test.py\n",
      " create mode 100644 imnn/utils/tfrecords.py\n"
     ]
    }
   ],
   "source": [
    "!git pull"
   ]
  },
  {
   "cell_type": "code",
   "execution_count": 42,
   "metadata": {
    "collapsed": true,
    "jupyter": {
     "outputs_hidden": true,
     "source_hidden": true
    }
   },
   "outputs": [
    {
     "name": "stdout",
     "output_type": "stream",
     "text": [
      "Obtaining file:///mnt/home/tmakinen/repositories/scratch/devinstall/imnn\n",
      "Requirement already satisfied: jax>=0.2.10 in /mnt/home/tmakinen/anaconda3/envs/pyjax9/lib/python3.8/site-packages (from IMNN==0.3.dev0) (0.2.10)\n",
      "Requirement already satisfied: tensorflow>=2.1.0 in /mnt/home/tmakinen/anaconda3/envs/pyjax9/lib/python3.8/site-packages (from IMNN==0.3.dev0) (2.4.1)\n",
      "Requirement already satisfied: tqdm>=4.48.2 in /mnt/home/tmakinen/anaconda3/envs/pyjax9/lib/python3.8/site-packages/tqdm-4.59.0-py3.8.egg (from IMNN==0.3.dev0) (4.59.0)\n",
      "Requirement already satisfied: tensorflow_probability in /mnt/home/tmakinen/anaconda3/envs/pyjax9/lib/python3.8/site-packages/tensorflow_probability-0.12.1-py3.8.egg (from IMNN==0.3.dev0) (0.12.1)\n",
      "Requirement already satisfied: numpy in /mnt/home/tmakinen/anaconda3/envs/pyjax9/lib/python3.8/site-packages (from IMNN==0.3.dev0) (1.19.5)\n",
      "Requirement already satisfied: scipy in /mnt/home/tmakinen/anaconda3/envs/pyjax9/lib/python3.8/site-packages (from IMNN==0.3.dev0) (1.6.2)\n",
      "Requirement already satisfied: matplotlib in /mnt/home/tmakinen/anaconda3/envs/pyjax9/lib/python3.8/site-packages/matplotlib-3.4.1-py3.8-linux-x86_64.egg (from IMNN==0.3.dev0) (3.4.1)\n",
      "Requirement already satisfied: absl-py in /mnt/home/tmakinen/anaconda3/envs/pyjax9/lib/python3.8/site-packages (from jax>=0.2.10->IMNN==0.3.dev0) (0.12.0)\n",
      "Requirement already satisfied: opt-einsum in /mnt/home/tmakinen/anaconda3/envs/pyjax9/lib/python3.8/site-packages (from jax>=0.2.10->IMNN==0.3.dev0) (3.3.0)\n",
      "Requirement already satisfied: tensorboard~=2.4 in /mnt/home/tmakinen/anaconda3/envs/pyjax9/lib/python3.8/site-packages (from tensorflow>=2.1.0->IMNN==0.3.dev0) (2.4.1)\n",
      "Requirement already satisfied: typing-extensions~=3.7.4 in /mnt/home/tmakinen/anaconda3/envs/pyjax9/lib/python3.8/site-packages (from tensorflow>=2.1.0->IMNN==0.3.dev0) (3.7.4.3)\n",
      "Requirement already satisfied: wheel~=0.35 in /mnt/home/tmakinen/anaconda3/envs/pyjax9/lib/python3.8/site-packages (from tensorflow>=2.1.0->IMNN==0.3.dev0) (0.36.2)\n",
      "Requirement already satisfied: termcolor~=1.1.0 in /mnt/home/tmakinen/anaconda3/envs/pyjax9/lib/python3.8/site-packages (from tensorflow>=2.1.0->IMNN==0.3.dev0) (1.1.0)\n",
      "Requirement already satisfied: six~=1.15.0 in /mnt/home/tmakinen/anaconda3/envs/pyjax9/lib/python3.8/site-packages (from tensorflow>=2.1.0->IMNN==0.3.dev0) (1.15.0)\n",
      "Requirement already satisfied: google-pasta~=0.2 in /mnt/home/tmakinen/anaconda3/envs/pyjax9/lib/python3.8/site-packages (from tensorflow>=2.1.0->IMNN==0.3.dev0) (0.2.0)\n",
      "Requirement already satisfied: tensorflow-estimator<2.5.0,>=2.4.0 in /mnt/home/tmakinen/anaconda3/envs/pyjax9/lib/python3.8/site-packages (from tensorflow>=2.1.0->IMNN==0.3.dev0) (2.4.0)\n",
      "Requirement already satisfied: wrapt~=1.12.1 in /mnt/home/tmakinen/anaconda3/envs/pyjax9/lib/python3.8/site-packages (from tensorflow>=2.1.0->IMNN==0.3.dev0) (1.12.1)\n",
      "Requirement already satisfied: astunparse~=1.6.3 in /mnt/home/tmakinen/anaconda3/envs/pyjax9/lib/python3.8/site-packages (from tensorflow>=2.1.0->IMNN==0.3.dev0) (1.6.3)\n",
      "Requirement already satisfied: gast==0.3.3 in /mnt/home/tmakinen/anaconda3/envs/pyjax9/lib/python3.8/site-packages (from tensorflow>=2.1.0->IMNN==0.3.dev0) (0.3.3)\n",
      "Requirement already satisfied: flatbuffers~=1.12.0 in /mnt/home/tmakinen/anaconda3/envs/pyjax9/lib/python3.8/site-packages (from tensorflow>=2.1.0->IMNN==0.3.dev0) (1.12)\n",
      "Requirement already satisfied: h5py~=2.10.0 in /mnt/home/tmakinen/anaconda3/envs/pyjax9/lib/python3.8/site-packages (from tensorflow>=2.1.0->IMNN==0.3.dev0) (2.10.0)\n",
      "Requirement already satisfied: protobuf>=3.9.2 in /mnt/home/tmakinen/anaconda3/envs/pyjax9/lib/python3.8/site-packages (from tensorflow>=2.1.0->IMNN==0.3.dev0) (3.15.6)\n",
      "Requirement already satisfied: grpcio~=1.32.0 in /mnt/home/tmakinen/anaconda3/envs/pyjax9/lib/python3.8/site-packages (from tensorflow>=2.1.0->IMNN==0.3.dev0) (1.32.0)\n",
      "Requirement already satisfied: keras-preprocessing~=1.1.2 in /mnt/home/tmakinen/anaconda3/envs/pyjax9/lib/python3.8/site-packages (from tensorflow>=2.1.0->IMNN==0.3.dev0) (1.1.2)\n",
      "Requirement already satisfied: google-auth-oauthlib<0.5,>=0.4.1 in /mnt/home/tmakinen/anaconda3/envs/pyjax9/lib/python3.8/site-packages (from tensorboard~=2.4->tensorflow>=2.1.0->IMNN==0.3.dev0) (0.4.4)\n",
      "Requirement already satisfied: google-auth<2,>=1.6.3 in /mnt/home/tmakinen/anaconda3/envs/pyjax9/lib/python3.8/site-packages (from tensorboard~=2.4->tensorflow>=2.1.0->IMNN==0.3.dev0) (1.28.0)\n",
      "Requirement already satisfied: markdown>=2.6.8 in /mnt/home/tmakinen/anaconda3/envs/pyjax9/lib/python3.8/site-packages (from tensorboard~=2.4->tensorflow>=2.1.0->IMNN==0.3.dev0) (3.3.4)\n",
      "Requirement already satisfied: werkzeug>=0.11.15 in /mnt/home/tmakinen/anaconda3/envs/pyjax9/lib/python3.8/site-packages (from tensorboard~=2.4->tensorflow>=2.1.0->IMNN==0.3.dev0) (1.0.1)\n",
      "Requirement already satisfied: setuptools>=41.0.0 in /mnt/home/tmakinen/anaconda3/envs/pyjax9/lib/python3.8/site-packages (from tensorboard~=2.4->tensorflow>=2.1.0->IMNN==0.3.dev0) (54.2.0)\n",
      "Requirement already satisfied: tensorboard-plugin-wit>=1.6.0 in /mnt/home/tmakinen/anaconda3/envs/pyjax9/lib/python3.8/site-packages (from tensorboard~=2.4->tensorflow>=2.1.0->IMNN==0.3.dev0) (1.8.0)\n",
      "Requirement already satisfied: requests<3,>=2.21.0 in /mnt/home/tmakinen/anaconda3/envs/pyjax9/lib/python3.8/site-packages (from tensorboard~=2.4->tensorflow>=2.1.0->IMNN==0.3.dev0) (2.25.1)\n",
      "Requirement already satisfied: cachetools<5.0,>=2.0.0 in /mnt/home/tmakinen/anaconda3/envs/pyjax9/lib/python3.8/site-packages (from google-auth<2,>=1.6.3->tensorboard~=2.4->tensorflow>=2.1.0->IMNN==0.3.dev0) (4.2.1)\n",
      "Requirement already satisfied: rsa<5,>=3.1.4 in /mnt/home/tmakinen/anaconda3/envs/pyjax9/lib/python3.8/site-packages (from google-auth<2,>=1.6.3->tensorboard~=2.4->tensorflow>=2.1.0->IMNN==0.3.dev0) (4.7.2)\n",
      "Requirement already satisfied: pyasn1-modules>=0.2.1 in /mnt/home/tmakinen/anaconda3/envs/pyjax9/lib/python3.8/site-packages (from google-auth<2,>=1.6.3->tensorboard~=2.4->tensorflow>=2.1.0->IMNN==0.3.dev0) (0.2.8)\n",
      "Requirement already satisfied: requests-oauthlib>=0.7.0 in /mnt/home/tmakinen/anaconda3/envs/pyjax9/lib/python3.8/site-packages (from google-auth-oauthlib<0.5,>=0.4.1->tensorboard~=2.4->tensorflow>=2.1.0->IMNN==0.3.dev0) (1.3.0)\n",
      "Requirement already satisfied: pyasn1<0.5.0,>=0.4.6 in /mnt/home/tmakinen/anaconda3/envs/pyjax9/lib/python3.8/site-packages (from pyasn1-modules>=0.2.1->google-auth<2,>=1.6.3->tensorboard~=2.4->tensorflow>=2.1.0->IMNN==0.3.dev0) (0.4.8)\n",
      "Requirement already satisfied: idna<3,>=2.5 in /mnt/home/tmakinen/anaconda3/envs/pyjax9/lib/python3.8/site-packages (from requests<3,>=2.21.0->tensorboard~=2.4->tensorflow>=2.1.0->IMNN==0.3.dev0) (2.10)\n",
      "Requirement already satisfied: certifi>=2017.4.17 in /mnt/home/tmakinen/anaconda3/envs/pyjax9/lib/python3.8/site-packages (from requests<3,>=2.21.0->tensorboard~=2.4->tensorflow>=2.1.0->IMNN==0.3.dev0) (2020.12.5)\n",
      "Requirement already satisfied: chardet<5,>=3.0.2 in /mnt/home/tmakinen/anaconda3/envs/pyjax9/lib/python3.8/site-packages (from requests<3,>=2.21.0->tensorboard~=2.4->tensorflow>=2.1.0->IMNN==0.3.dev0) (4.0.0)\n",
      "Requirement already satisfied: urllib3<1.27,>=1.21.1 in /mnt/home/tmakinen/anaconda3/envs/pyjax9/lib/python3.8/site-packages (from requests<3,>=2.21.0->tensorboard~=2.4->tensorflow>=2.1.0->IMNN==0.3.dev0) (1.26.4)\n",
      "Requirement already satisfied: oauthlib>=3.0.0 in /mnt/home/tmakinen/anaconda3/envs/pyjax9/lib/python3.8/site-packages (from requests-oauthlib>=0.7.0->google-auth-oauthlib<0.5,>=0.4.1->tensorboard~=2.4->tensorflow>=2.1.0->IMNN==0.3.dev0) (3.1.0)\n",
      "Requirement already satisfied: cycler>=0.10 in /mnt/home/tmakinen/anaconda3/envs/pyjax9/lib/python3.8/site-packages/cycler-0.10.0-py3.8.egg (from matplotlib->IMNN==0.3.dev0) (0.10.0)\n",
      "Requirement already satisfied: kiwisolver>=1.0.1 in /mnt/home/tmakinen/anaconda3/envs/pyjax9/lib/python3.8/site-packages/kiwisolver-1.3.1-py3.8-linux-x86_64.egg (from matplotlib->IMNN==0.3.dev0) (1.3.1)\n",
      "Requirement already satisfied: pillow>=6.2.0 in /mnt/home/tmakinen/anaconda3/envs/pyjax9/lib/python3.8/site-packages/Pillow-8.1.2-py3.8-linux-x86_64.egg (from matplotlib->IMNN==0.3.dev0) (8.1.2)\n",
      "Requirement already satisfied: pyparsing>=2.2.1 in /mnt/home/tmakinen/anaconda3/envs/pyjax9/lib/python3.8/site-packages (from matplotlib->IMNN==0.3.dev0) (2.4.7)\n",
      "Requirement already satisfied: python-dateutil>=2.7 in /mnt/home/tmakinen/anaconda3/envs/pyjax9/lib/python3.8/site-packages (from matplotlib->IMNN==0.3.dev0) (2.8.1)\n",
      "Requirement already satisfied: cloudpickle>=1.3 in /mnt/home/tmakinen/anaconda3/envs/pyjax9/lib/python3.8/site-packages/cloudpickle-1.6.0-py3.8.egg (from tensorflow_probability->IMNN==0.3.dev0) (1.6.0)\n",
      "Requirement already satisfied: decorator in /mnt/home/tmakinen/anaconda3/envs/pyjax9/lib/python3.8/site-packages (from tensorflow_probability->IMNN==0.3.dev0) (4.4.2)\n",
      "Requirement already satisfied: dm-tree in /mnt/home/tmakinen/anaconda3/envs/pyjax9/lib/python3.8/site-packages/dm_tree-0.1.5-py3.8-linux-x86_64.egg (from tensorflow_probability->IMNN==0.3.dev0) (0.1.5)\n",
      "Installing collected packages: IMNN\n",
      "  Attempting uninstall: IMNN\n",
      "    Found existing installation: IMNN 0.3.dev0\n",
      "    Uninstalling IMNN-0.3.dev0:\n",
      "      Successfully uninstalled IMNN-0.3.dev0\n",
      "  Running setup.py develop for IMNN\n",
      "Successfully installed IMNN\n"
     ]
    }
   ],
   "source": [
    "!python -m pip install -e ."
   ]
  },
  {
   "cell_type": "code",
   "execution_count": 3,
   "metadata": {},
   "outputs": [
    {
     "name": "stdout",
     "output_type": "stream",
     "text": [
      "0.12.1\n"
     ]
    }
   ],
   "source": [
    "print(tfp.__version__)"
   ]
  },
  {
   "cell_type": "code",
   "execution_count": 4,
   "metadata": {},
   "outputs": [
    {
     "name": "stdout",
     "output_type": "stream",
     "text": [
      "gpu\n"
     ]
    }
   ],
   "source": [
    "from jax.lib import xla_bridge\n",
    "print(xla_bridge.get_backend().platform)"
   ]
  },
  {
   "cell_type": "code",
   "execution_count": 5,
   "metadata": {},
   "outputs": [],
   "source": [
    "import IMNN.experimental.jax.lfi"
   ]
  },
  {
   "cell_type": "code",
   "execution_count": 6,
   "metadata": {},
   "outputs": [
    {
     "name": "stdout",
     "output_type": "stream",
     "text": [
      "IMNN version:  0.3dev\n"
     ]
    }
   ],
   "source": [
    "# for model stuff\n",
    "import jax.experimental.optimizers as optimizers\n",
    "import jax.experimental.stax as stax\n",
    "from jax import jit\n",
    "\n",
    "# for imnn\n",
    "import imnn\n",
    "print(\"IMNN version: \", imnn.__version__)\n",
    "\n",
    "from imnn.imnn import (\n",
    "    AggregatedGradientIMNN,\n",
    "    AggregatedNumericalGradientIMNN,\n",
    "    AggregatedSimulatorIMNN,\n",
    "    GradientIMNN,\n",
    "    NumericalGradientIMNN,\n",
    "    SimulatorIMNN,\n",
    ")\n",
    "from imnn.lfi import (\n",
    "    ApproximateBayesianComputation,\n",
    "    GaussianApproximation,\n",
    ")\n",
    "from imnn.utils import value_and_jacrev, value_and_jacfwd\n",
    "\n",
    "rng = jax.random.PRNGKey(0)"
   ]
  },
  {
   "cell_type": "code",
   "execution_count": 7,
   "metadata": {},
   "outputs": [],
   "source": [
    "N = 20"
   ]
  },
  {
   "cell_type": "code",
   "execution_count": 8,
   "metadata": {},
   "outputs": [],
   "source": [
    "def scipy_compute_r2(N):\n",
    "    _Di = np.tile(toeplitz(np.arange(N)), (N, N))\n",
    "    _Dj = np.concatenate(\n",
    "        [np.concatenate(\n",
    "            [np.tile(np.abs(i - j),(N, N)) \n",
    "             for i in range(N)], \n",
    "            axis=0)\n",
    "         for j in range(N)],\n",
    "        axis=1)\n",
    "    _distance_squared = _Di * _Di + _Dj * _Dj\n",
    "    return _distance_squared\n",
    "\n",
    "def compute_r2(N):\n",
    "    _r2 = np.tile(np.abs(np.expand_dims(np.arange(N), 0) \n",
    "                    - np.expand_dims(np.arange(N), 1)), (N, N)) ** 2. + np.abs(np.expand_dims(np.repeat(np.arange(N), N), 0) \n",
    "                             - np.expand_dims(np.repeat(np.arange(N), N), 1)) ** 2.\n",
    "    return _r2\n",
    "\n",
    "r2 = compute_r2(N).astype(np.float32)\n",
    "\n",
    "def ξ_G(β):\n",
    "    return np.exp(\n",
    "        -np.expand_dims(r2, tuple(np.arange(β.ndim))) \n",
    "        / 4. / np.expand_dims(β, (-2, -1))**2.)\n",
    "\n",
    "def get_G_field(β):\n",
    "    pass\n",
    "\n",
    "def fill_zeros(k, value):\n",
    "    from functools import partial\n",
    "\n",
    "    def fnk(k):\n",
    "        return jax.lax.cond(np.less_equal(k, 1e-5), lambda _: value, lambda k: k+value, operand=k)\n",
    "\n",
    "    if len(k.shape) == 1:\n",
    "        return jax.vmap(fnk)(k)\n",
    "    else:\n",
    "        return jax.vmap(partial(fill_zeros, value=value))(k)\n",
    "\n",
    "\n",
    "def xi_LN(r, α, β, PixelNoise=0.01):\n",
    "\n",
    "    xi = 1/(np.power(α+1e-12,2)) * (np.exp(np.power(α,2)*np.exp(-0.25*np.power(r/β,2))) - 1)\n",
    "\n",
    "    # Add pixel noise at zero separation:\n",
    "\n",
    "    xi = fill_zeros(xi, PixelNoise**2)\n",
    "    #xi[np.where(r<1e-5)] += PixelNoise**2\n",
    "\n",
    "    return xi"
   ]
  },
  {
   "cell_type": "code",
   "execution_count": 9,
   "metadata": {},
   "outputs": [],
   "source": [
    "# derivatives of corr function"
   ]
  },
  {
   "cell_type": "code",
   "execution_count": 10,
   "metadata": {},
   "outputs": [],
   "source": [
    "def dxi_LN_dalpha(r, α, β):\n",
    "\n",
    "    _deriv =  2/(α+1e-12) * np.exp(-0.25*np.power(r/β,2)) * np.exp(np.power(α,2)*np.exp(-0.25*np.power(r/β,2))) - 2/np.power(α+1e-12,3) * (np.exp(np.power(α,2)*np.exp(-0.25*np.power(r/β,2))) - 1)\n",
    "    return _deriv\n",
    "\n",
    "def dxi_LN_dbeta(r, β, α):\n",
    "\n",
    "    return (0.5*np.power(r, 2) * np.exp(np.power(α, 2) * np.exp(-0.25 * np.power(r/β,2)) - 0.25*np.power(r/β,2)))*np.power(1./β,3)"
   ]
  },
  {
   "cell_type": "code",
   "execution_count": 11,
   "metadata": {},
   "outputs": [],
   "source": [
    "def _f_NL(_α, _β):\n",
    "      return tfd.JointDistributionNamed(\n",
    "        dict(α = tfd.Uniform(low=0.0, high=2.0), β = tfd.Uniform(low=0.2, high=0.8),\n",
    "             f_NL = tfd.TransformedDistribution(\n",
    "               distribution=tfd.MultivariateNormalTriL(loc=np.zeros((N**2,)),\n",
    "                 scale_tril=np.linalg.cholesky(ξ_G(_β))),\n",
    "               bijector=tfb.Chain([tfb.Scale(1. / np.expand_dims(_α, (-1))), tfb.Expm1(),\n",
    "                                   tfb.AffineScalar(shift=-0.5 * np.expand_dims(_α, -1)**2.,\n",
    "                                                    scale=np.expand_dims(_α, -1))]))))"
   ]
  },
  {
   "cell_type": "code",
   "execution_count": 12,
   "metadata": {},
   "outputs": [],
   "source": [
    "def simulator1(rng, n, \n",
    "        α, β, μ=np.zeros((N**2,), dtype=np.float32), \n",
    "        σ=np.ones((N**2 * (N**2 + 1) // 2,), dtype=np.float32)):\n",
    "    dist = _f_NL(α, β)\n",
    "    if n is not None:\n",
    "        return dist.sample(n, seed=rng)\n",
    "    else: \n",
    "        return dist.sample(seed=rng)"
   ]
  },
  {
   "cell_type": "code",
   "execution_count": 13,
   "metadata": {},
   "outputs": [],
   "source": [
    "f_NL = tfd.JointDistributionNamed(\n",
    "    dict(\n",
    "        α = tfd.Uniform(low=np.float32(0.), high=np.float32(2.)),\n",
    "        β = tfd.Uniform(low=np.float32(0.2), high=np.float32(0.8)),\n",
    "        μ = tfd.Normal(\n",
    "            loc=np.zeros((N**2,), dtype=np.float32), \n",
    "            scale=np.ones((N**2,), dtype=np.float32)),                 \n",
    "        σ = tfp.distributions.Uniform(\n",
    "            low=np.zeros((N**2 * (N**2 + 1) // 2,), dtype=np.float32), \n",
    "            high=np.ones((N**2 * (N**2 + 1) // 2,), dtype=np.float32)),\n",
    "        f_NL = lambda α, β, μ, σ: tfd.TransformedDistribution(\n",
    "            #distribution=tfd.TransformedDistribution(\n",
    "                distribution=tfd.MultivariateNormalTriL(\n",
    "                    loc=μ, \n",
    "                    scale_tril=tfp.math.fill_triangular(σ) \n",
    "                        * np.linalg.cholesky(ξ_G(β))),\n",
    "                #bijector=tfb.Reshape((N, N))),\n",
    "#             bijector=tfb.Chain([\n",
    "#                 tfb.Scale(np.expand_dims(α, (-1))),\n",
    "#                 tfb.Shift(-np.float32(0.5) * np.expand_dims(α, (-1))**np.float32(2.)),\n",
    "#                 tfb.Exp(),\n",
    "#                 tfb.Shift(-np.float32(1.)),\n",
    "#                 tfb.Scale(np.float32(1.) / np.expand_dims(α, (-1)))]\n",
    "#                 ))))\n",
    "        bijector=tfb.Chain([\n",
    "                    tfb.Scale(np.float32(1.) / np.expand_dims(α, (-1))),\n",
    "                    tfb.Expm1(),\n",
    "                    tfb.AffineScalar(shift=-np.float32(0.5) * np.expand_dims(α, -1)**np.float32(2.), scale=np.expand_dims(α, -1))]))))"
   ]
  },
  {
   "cell_type": "code",
   "execution_count": 14,
   "metadata": {},
   "outputs": [
    {
     "data": {
      "text/plain": [
       "<matplotlib.colorbar.Colorbar at 0x1553ac0b65b0>"
      ]
     },
     "execution_count": 14,
     "metadata": {},
     "output_type": "execute_result"
    },
    {
     "data": {
      "image/png": "[encoded data removed]",
      "text/plain": [
       "<Figure size 720x288 with 11 Axes>"
      ]
     },
     "metadata": {
      "needs_background": "light"
     },
     "output_type": "display_data"
    }
   ],
   "source": [
    "rng, key = jax.random.split(rng)\n",
    "f_NLs = f_NL.sample(10, seed=key)[\"f_NL\"].reshape((10, N, N))\n",
    "fig, ax = plt.subplots(2, 5, figsize=(10, 4))\n",
    "plt.subplots_adjust(wspace=0, hspace=0)\n",
    "for i in range(2):\n",
    "    for j in range(5):\n",
    "        a = ax[i, j].imshow(f_NLs[j + i * 5])\n",
    "        ax[i, j].set(xticks=[], yticks=[])\n",
    "plt.colorbar(a)"
   ]
  },
  {
   "cell_type": "markdown",
   "metadata": {},
   "source": [
    "# set up IMNN for problem"
   ]
  },
  {
   "cell_type": "code",
   "execution_count": 15,
   "metadata": {},
   "outputs": [
    {
     "name": "stdout",
     "output_type": "stream",
     "text": [
      "input shape:  (1, 1, 24, 24)\n"
     ]
    }
   ],
   "source": [
    "pad = 2 #2**2\n",
    "input_shape = (1,1, N+pad*2,N+pad*2)\n",
    "print('input shape: ', input_shape)\n",
    "θ_fid = np.array([0.95, 0.55], dtype=np.float32)\n",
    "# IMNN params\n",
    "n_s = 5000\n",
    "n_d = 5000\n",
    "λ = 100.0\n",
    "ϵ = 0.1\n",
    "\n",
    "n_params = 2\n",
    "n_summaries = 2"
   ]
  },
  {
   "cell_type": "markdown",
   "metadata": {},
   "source": [
    "### compute known Fisher at fiducial "
   ]
  },
  {
   "cell_type": "code",
   "execution_count": 16,
   "metadata": {},
   "outputs": [],
   "source": [
    "Nsq = N**2\n",
    "r = np.sqrt(r2)#[:Nsq//2, :Nsq//2]\n",
    "\n",
    "\n",
    "def known_fisher(r, θ):\n",
    "    α,β = θ\n",
    "    \n",
    "    # extract diagonal from matrix\n",
    "    ξ_LN    = np.diag(xi_LN(r, α, β, PixelNoise=0.))\n",
    "    # get derivatives\n",
    "    dξ_dα   = dxi_LN_dalpha(r, α, β)\n",
    "    dξ_dβ   = dxi_LN_dbeta(r, α, β)\n",
    "    \n",
    "\n",
    "    # reassign to a diagnonal matrix with zeros on off-diag\n",
    "    Cinv = np.diag(1. / ξ_LN)          \n",
    "    Ca =  (dξ_dα)           # C_{,A}\n",
    "    Cb =  (dξ_dβ)           # C_{,B}\n",
    "    \n",
    "    # fisher matrix entries\n",
    "    Faa = 0.5 * np.trace((Ca @ Cinv @ Ca @ Cinv))\n",
    "    Fab = 0.5 * np.trace((Ca @ Cinv @ Cb @ Cinv))\n",
    "    Fba = 0.5 * np.trace((Cb @ Cinv @ Ca @ Cinv))\n",
    "    Fbb = 0.5 * np.trace((Cb @ Cinv @ Cb @ Cinv))\n",
    "\n",
    "    return np.array([[Faa, Fab], [Fba, Fbb]])"
   ]
  },
  {
   "cell_type": "code",
   "execution_count": 17,
   "metadata": {},
   "outputs": [
    {
     "name": "stdout",
     "output_type": "stream",
     "text": [
      "[[254.7555   47.02849]\n",
      " [ 47.02849 998.3765 ]]\n",
      "252130.06\n"
     ]
    }
   ],
   "source": [
    "f = known_fisher(r, θ_fid)\n",
    "print(f)\n",
    "\n",
    "analytic_detF = np.linalg.det(f)\n",
    "print(analytic_detF)"
   ]
  },
  {
   "cell_type": "markdown",
   "metadata": {},
   "source": [
    "## compute numerical fisher from distribution"
   ]
  },
  {
   "cell_type": "code",
   "execution_count": 18,
   "metadata": {},
   "outputs": [],
   "source": [
    "def _f_NL(α, β):\n",
    "    return tfd.TransformedDistribution(\n",
    "        distribution=tfd.MultivariateNormalTriL(\n",
    "            loc=np.zeros((N**2,)),\n",
    "            scale_tril=np.linalg.cholesky(ξ_G(β))),\n",
    "        bijector=tfb.Chain([\n",
    "            tfb.Scale(1. / np.expand_dims(α, (-1))), \n",
    "            tfb.Expm1(),\n",
    "            tfb.AffineScalar(\n",
    "                shift=-0.5 * np.expand_dims(α, -1)**2.,\n",
    "                scale=np.expand_dims(α, -1))]))\n",
    "\n",
    "def score(α, β, key):\n",
    "    f_NL = _f_NL(α, β)\n",
    "    return f_NL.log_prob(f_NL.sample(seed=key))\n",
    "\n",
    "@jax.jit\n",
    "def dlnLdθ(α, β, key):\n",
    "    return jax.grad(score, argnums=(0, 1))(α, β, key)\n",
    "\n",
    "def numeric_F(α, β, key, n_samples):\n",
    "    keys = np.array(jax.random.split(key, num=n_samples))\n",
    "    return np.cov(np.array(jax.vmap(dlnLdθ)(np.repeat(α, n_samples), np.repeat(β, n_samples), keys)))\n"
   ]
  },
  {
   "cell_type": "code",
   "execution_count": 19,
   "metadata": {},
   "outputs": [
    {
     "name": "stdout",
     "output_type": "stream",
     "text": [
      "expected F:  [[1497.5089 2342.6594]\n",
      " [2342.6594 3841.5532]]\n",
      "expected det F:  264707.22\n",
      "% difference from analytic F:  0.047513463\n"
     ]
    }
   ],
   "source": [
    "rng, key = jax.random.split(rng)\n",
    "F_expected = numeric_F(np.array(.95), np.array(0.55), key, 50)\n",
    "detF_expected = np.linalg.det(F_expected)\n",
    "\n",
    "print('expected F: ', F_expected)\n",
    "print('expected det F: ', detF_expected)\n",
    "\n",
    "print('% difference from analytic F: ', np.abs(detF_expected - analytic_detF) / detF_expected)"
   ]
  },
  {
   "cell_type": "markdown",
   "metadata": {},
   "source": [
    "### simulator for IMNN"
   ]
  },
  {
   "cell_type": "code",
   "execution_count": 20,
   "metadata": {
    "jupyter": {
     "source_hidden": true
    }
   },
   "outputs": [],
   "source": [
    "# Define a log_normal field class (Florent's paper -> JAX)\n",
    "class LogNormalField:\n",
    "    @staticmethod\n",
    "    def compute_rsquared(nside):\n",
    "        \"\"\"\n",
    "        Compute the correlation function of the underlying gaussian field\n",
    "        \n",
    "        Parameters:\n",
    "            nside : int\n",
    "                Image is nside x nside pixels\n",
    "        \"\"\"\n",
    "        import jax.numpy as np\n",
    "        from scipy.linalg import toeplitz\n",
    "        \n",
    "        _Di = np.tile(toeplitz(np.arange(nside)),(nside,nside))\n",
    "        _Dj = np.concatenate(\n",
    "                            [np.concatenate(\n",
    "                                            [np.tile(np.abs(i-j),(nside,nside)) for i in range(nside)],\n",
    "                                            axis=0)\n",
    "                            for j in range(nside)],axis=1)\n",
    "        _distance_squared = _Di*_Di+_Dj*_Dj\n",
    "        \n",
    "        return _distance_squared\n",
    "\n",
    "    # The lognormal correlation function where the gaussian field has a gaussian power spectrum,\n",
    "    # and the gaussian correlation function xi_G.\n",
    "\n",
    "    @staticmethod\n",
    "    def xi_G(rsq, beta):\n",
    "        \"\"\"\n",
    "        Calculates the two-point correlation function of a gaussian field with gaussian power spectrum\n",
    "        \n",
    "        Parameters:\n",
    "        \n",
    "        rsq : float\n",
    "            separation^2\n",
    "        beta  : float\n",
    "            Gaussian smoothing width of gaussian field\n",
    "        \"\"\"\n",
    "        import jax.numpy as np\n",
    "        \n",
    "        # ADD IN SIGMA PARAM HERE\n",
    "        \n",
    "        xi = np.exp(-0.25*rsq/(beta**2))\n",
    "            \n",
    "        return xi\n",
    "    \n",
    "    @staticmethod\n",
    "    def fill_zeros(k, value):\n",
    "        from functools import partial\n",
    "        \n",
    "        def fnk(k):\n",
    "            return jax.lax.cond(np.less_equal(k, 1e-5), lambda _: 0., lambda k: k+value, operand=k)\n",
    "\n",
    "        if len(k.shape) == 1:\n",
    "            return jax.vmap(fnk)(k)\n",
    "        else:\n",
    "            return jax.vmap(partial(fill_zeros, value=value))(k)\n",
    "\n",
    "    @staticmethod\n",
    "    def xi_LN(r, beta, alpha, PixelNoise):\n",
    "        \"\"\"\n",
    "        Calculates the lognormal two-point correlation function\n",
    "        \n",
    "        Parameters:\n",
    "        \n",
    "        r : float\n",
    "            Pair separation\n",
    "        beta  : float\n",
    "            Gaussian smoothing width of underlying gaussian field\n",
    "        alpha : float\n",
    "            Nongaussianity parameter in lognormal transformation\n",
    "        PixelNoise : float\n",
    "            Standard deviation of added noise per pixel\n",
    "        \"\"\"\n",
    "        import jax.numpy as np\n",
    "        \n",
    "        xi = 1/(np.power(alpha+1e-12,2)) * (np.exp(np.power(alpha,2)*np.exp(-0.25*np.power(r/beta,2))) - 1)\n",
    "        \n",
    "        # Add pixel noise at zero separation:\n",
    "                \n",
    "        xi = self.fill_zeros(xi, PixelNoise**2)\n",
    "        #xi[np.where(r<1e-5)] += PixelNoise**2\n",
    "        \n",
    "        return xi\n",
    "    \n",
    "    @staticmethod\n",
    "    def dxi_LN_dalpha(r, beta, alpha, PixelNoise):\n",
    "        import jax.numpy as np\n",
    "        \n",
    "        return 2/(alpha+1e-12) * np.exp(-0.25*np.power(r/beta,2)) * np.exp(np.power(alpha,2)*np.exp(-0.25*np.power(r/beta,2))) - 2/np.power(alpha+1e-12,3) * (np.exp(np.power(alpha,2)*np.exp(-0.25*np.power(r/beta,2))) - 1)\n",
    "    \n",
    "    @staticmethod\n",
    "    def dxi_LN_dbeta(r, beta, alpha, PixelNoise):\n",
    "        import jax.numpy as np\n",
    "        \n",
    "        return (0.5*np.power(r,2)/np.power(beta,3)) * np.exp(-0.25*np.power(r/beta,2)) * np.exp(np.power(alpha,2)*np.exp(-0.25*np.power(r/beta,2)))\n",
    "\n",
    "\n",
    "    def __init__(self,Lside,rmax,nbin):\n",
    "        \"\"\"\n",
    "        \n",
    "        Parameters:\n",
    "            rmax : float\n",
    "                Maximum pair separation considered\n",
    "            nbin : int\n",
    "                Number of bins for shell-averaged correlation function\n",
    "        \"\"\"\n",
    "        import jax.numpy as np\n",
    "        \n",
    "        self.rmax       = rmax\n",
    "        self.nbin       = nbin\n",
    "        self.Lside      = Lside\n",
    "\n",
    "        # compute the separations and indices on a grid\n",
    "        self.rsq        = self.compute_rsquared(Lside)\n",
    "        self.r          = np.sqrt(self.rsq)\n",
    "        self.bins       = np.arange(nbin)*rmax/nbin\n",
    "        self.index      = np.digitize(self.r,self.bins)\n",
    "        self.average_r  = np.array([self.r[self.index == n].mean() for n in range(nbin) if np.sum(self.index == n)>0])\n",
    "    \n",
    "    @staticmethod\n",
    "    def G_to_LN(gaussian, alpha):\n",
    "        import jax.numpy as np\n",
    "        \n",
    "        # Make lognormal (variance of gaussian field is unity by construction)\n",
    "        # Divide by 1/alpha so that the signal-to-noise ratio is independent of alpha\n",
    "        return 1./alpha * (np.exp(alpha * gaussian-0.5*alpha**2)-1)\n",
    "    \n",
    "    def run_simulation(self, key, alpha, beta, PixelNoise=None):\n",
    "        \"\"\"\n",
    "        Create a lognormal field from a gaussian field with a Gaussian correlation function\n",
    "        \"\"\"\n",
    "        \n",
    "        # split keys, one for field and one for noise\n",
    "        key1,key2 = jax.random.split(key)\n",
    "        \n",
    "        Lside      = self.Lside\n",
    "        rsq        = self.rsq\n",
    "        \n",
    "        # Compute the Gaussian correlation function\n",
    "        xiG  = self.xi_G(rsq,beta)\n",
    "        \n",
    "        # Compute the Gaussian random field\n",
    "        field = (jax.random.multivariate_normal(key1, np.zeros(Lside*Lside), xiG)).reshape(Lside,Lside) \n",
    "        \n",
    "        # Make lognormal (variance of gaussian field is unity by construction)\n",
    "        field = self.G_to_LN(field, alpha)\n",
    "        \n",
    "        # Add noise\n",
    "        if PixelNoise is not None:\n",
    "            field += jax.random.normal(key2, shape=(Lside,Lside))*np.sqrt(PixelNoise)\n",
    "        \n",
    "        return field\n",
    "    \n",
    "    def pymc3_model(self, field_data, alphamin, alphamax, betamin, betamax, PixelNoise):\n",
    "        import numpy as np\n",
    "        import pymc3 as pm\n",
    "        LN_model = pm.Model()\n",
    "        \n",
    "        Lside              = self.Lside\n",
    "        rsq                = self.rsq\n",
    "        zero               = np.zeros(Lside*Lside)\n",
    "        PixelNoiseVector   = PixelNoise*np.ones(Lside*Lside)\n",
    "        InvNoiseCovariance = np.diag(1/(PixelNoiseVector**2))\n",
    "        field_data         = field_data.reshape(Lside*Lside)\n",
    "\n",
    "        with LN_model:\n",
    "            \n",
    "            # (TLM) TODO: add in μ,σ for full BHM\n",
    "\n",
    "            # Uniform priors for unknown model parameters (alpha,beta):\n",
    "\n",
    "            alpha_p   = pm.Uniform(\"alpha\", lower=alphamin, upper=alphamax)\n",
    "            beta_p    = pm.Uniform(\"beta\",  lower=betamin,  upper=betamax)\n",
    "\n",
    "            # Compute (beta-dependent) gaussian field correlation function:\n",
    "\n",
    "            xi = pm.math.exp(-0.25*rsq/(beta_p*beta_p))\n",
    "\n",
    "            # Gaussian field values are latent variables:\n",
    "            gaussian = pm.MvNormal(\"gaussian\",mu=zero,cov=xi,shape=Lside*Lside)\n",
    "\n",
    "            # Expected value of lognormal field, for given (alpha, beta, gaussian):\n",
    "\n",
    "            muLN = 1/alpha_p * (pm.math.exp(alpha_p * gaussian-0.5*alpha_p*alpha_p)-1)\n",
    "\n",
    "            # Likelihood (sampling distribution) of observations, given the mean lognormal field:\n",
    "\n",
    "            Y_obs = pm.MvNormal(\"Y_obs\", mu=muLN, tau=InvNoiseCovariance, observed=field_data)\n",
    "        \n",
    "        return LN_model\n",
    "    \n",
    "    def run_diff_simulation(self, alpha, beta, PixelNoise, step, seed):\n",
    "        \"\"\"\n",
    "        Run simulations for finite differencing\n",
    "        \"\"\"\n",
    "        import numpy as np\n",
    "        from scipy.stats import multivariate_normal\n",
    "        \n",
    "        Lside      = self.Lside\n",
    "        rsq        = self.rsq\n",
    "        \n",
    "        alphap     = alpha*(1+step)\n",
    "        alpham     = alpha*(1-step)\n",
    "        betap      = beta*(1+step)\n",
    "        betam      = beta*(1-step)\n",
    "        \n",
    "        # Compute the gaussian correlation function\n",
    "        xiG  = self.xi_G(rsq,beta)\n",
    "        xiG_betap = self.xi_G(rsq,betap)\n",
    "        xiG_betam = self.xi_G(rsq,betam)\n",
    "        \n",
    "        # Compute Gaussian random fields with the same phases\n",
    "        Gfield = multivariate_normal(mean=np.zeros(Lside*Lside), cov=xiG).rvs(random_state=seed).reshape(Lside,Lside)\n",
    "        Gfield_betap = multivariate_normal(mean=np.zeros(Lside*Lside), cov=xiG_betap).rvs(random_state=seed).reshape(Lside,Lside)\n",
    "        Gfield_betam = multivariate_normal(mean=np.zeros(Lside*Lside), cov=xiG_betam).rvs(random_state=seed).reshape(Lside,Lside)\n",
    "        \n",
    "        # Make lognormal (variance of gaussian field is unity by construction)\n",
    "        field = self.G_to_LN(Gfield, alpha)\n",
    "        field_betap = self.G_to_LN(Gfield_betap, alpha)\n",
    "        field_betam = self.G_to_LN(Gfield_betam, alpha)\n",
    "        field_alphap = self.G_to_LN(Gfield, alphap)\n",
    "        field_alpham = self.G_to_LN(Gfield, alpham)\n",
    "        \n",
    "        # Add noise\n",
    "        noise = np.random.normal(loc=0.0,scale=PixelNoise,size=(Lside,Lside))\n",
    "        field += noise\n",
    "        field_betap += noise\n",
    "        field_betam += noise\n",
    "        field_alphap += noise\n",
    "        field_alpham += noise\n",
    "        \n",
    "        return field, field_alphap, field_alpham, field_betap, field_betam\n",
    "    \n",
    "    def compute_corrfn(self,field):\n",
    "        \"\"\"\n",
    "        Compute two-point correlation function\n",
    "        \"\"\"       \n",
    "        import numpy as np\n",
    "        \n",
    "        index    = self.index\n",
    "        nbin     = self.nbin\n",
    "        \n",
    "        # compute the correlations\n",
    "        correlations = np.outer(field,field)\n",
    "        corrfn = np.array([correlations[index==n].mean() for n in range(nbin) if len(correlations[index==n])>0])\n",
    "        \n",
    "        return corrfn\n",
    "    \n",
    "    def compute_corrfn_derivatives(self, field, field_alphap, field_alpham, field_betap, field_betam, step):\n",
    "        \"\"\"\n",
    "        Compute derivatives of the two-point correlation function\n",
    "        \"\"\"\n",
    "        \n",
    "        # Compute correlation functions\n",
    "        corrfn         = self.compute_corrfn(field)\n",
    "        corrfn_dalphap = self.compute_corrfn(field_alphap)\n",
    "        corrfn_dalpham = self.compute_corrfn(field_alpham)\n",
    "        corrfn_dbetap  = self.compute_corrfn(field_betap)\n",
    "        corrfn_dbetam  = self.compute_corrfn(field_betam)\n",
    "        \n",
    "        # Compute derivatives by second-order central finite differences\n",
    "        dcorrfn_dalpha = (corrfn_dalpham - 2*corrfn + corrfn_dalphap)/(step**2)\n",
    "        dcorrfn_dbeta  = (corrfn_dbetam  - 2*corrfn + corrfn_dbetap )/(step**2)\n",
    "        \n",
    "        return dcorrfn_dalpha, dcorrfn_dbeta\n",
    "    \n",
    "    def covariance(self,fields):\n",
    "        \"\"\"\n",
    "        Compute covariance from a number of fields\n",
    "        \n",
    "        Parameter:\n",
    "            fields : int\n",
    "                lognormal field objects contributing to the covariance matrix\n",
    "        \"\"\"\n",
    "        import numpy as np\n",
    "        \n",
    "        nsims  = len(fields)\n",
    "        nbins  = self.nonzerobins\n",
    "        \n",
    "        print('Number of simulations',nsims)\n",
    "        print('Number of non-zero pair bins',nbins)\n",
    "        \n",
    "        corrfns = np.array([fields[i]['corrfn'] for i in range(nsims)])\n",
    "        meanxi = np.mean(corrfns,axis=0)\n",
    "        covxi = np.cov(corrfns.T)\n",
    "        \n",
    "        return meanxi, covxi\n",
    "    \n",
    "    # Utility properties\n",
    "    @staticmethod\n",
    "    def var_th(alpha, PixelNoise):\n",
    "        import numpy as np\n",
    "        return 1/np.power(alpha+1e-12,2)*(np.exp(alpha**2)-1)+PixelNoise**2\n",
    "    @staticmethod\n",
    "    def skew_th(alpha):\n",
    "        import numpy as np\n",
    "        return (np.exp(alpha**2)+2)*np.sqrt(np.exp(alpha**2)-1)\n",
    "    @staticmethod\n",
    "    def dskew_dalpha(alpha):\n",
    "        import numpy as np\n",
    "        return 2*alpha*np.exp(alpha**2) * ( np.sqrt(np.exp(alpha**2)-1) - 0.5*(np.exp(alpha**2)+2)/(np.sqrt(np.exp(alpha**2)-1)) )\n",
    "    @staticmethod\n",
    "    def kurtosis_th(alpha):\n",
    "        import numpy as np\n",
    "        return np.exp(4*alpha**2)+2*np.exp(3*alpha**2)+3*np.exp(2*alpha**2)-6\n",
    "    @staticmethod\n",
    "    def dkurtosis_dalpha(alpha):\n",
    "        import numpy as np\n",
    "        return 8*alpha*np.exp(4*alpha**2)+6*alpha*np.exp(3*alpha**2)+6*alpha*np.exp(2*alpha**2)\n",
    "    @staticmethod\n",
    "    def max(field):\n",
    "        import numpy as np\n",
    "        return np.max(field)\n",
    "    @staticmethod\n",
    "    def min(field):\n",
    "        import numpy as np\n",
    "        return np.min(field)\n",
    "    @staticmethod\n",
    "    def var(field):\n",
    "        import numpy as np\n",
    "        return np.var(field)\n",
    "    @staticmethod\n",
    "    def mean(field):\n",
    "        import numpy as np\n",
    "        return np.mean(field)\n",
    "    @staticmethod\n",
    "    def skew(field):\n",
    "        from scipy.stats import skew\n",
    "        return skew(field.flatten())\n",
    "    @staticmethod\n",
    "    def kurtosis(field):\n",
    "        from scipy.stats import kurtosis\n",
    "        return kurtosis(field.flatten())\n",
    "    \n",
    "    # xi has empty bins removed.  Note the number of non-empty elements\n",
    "    @property\n",
    "    def nonzerobins(self):\n",
    "        return len(self.average_r)\n",
    "    \n",
    "    @property\n",
    "    def dt(self):\n",
    "        import numpy as np\n",
    "        return np.dtype([('field', np.float, (self.Lside,self.Lside)), ('corrfn', np.float, (self.nonzerobins))])\n",
    "# end class LogNormalField\n"
   ]
  },
  {
   "cell_type": "code",
   "execution_count": 21,
   "metadata": {},
   "outputs": [],
   "source": [
    "#from libLNjax import LogNormalField\n",
    "\n",
    "Lside       = N\n",
    "alpha       = 1.0\n",
    "beta        = 0.5\n",
    "PixelNoise  = 0.01\n",
    "\n",
    "# Setup for correlation function\n",
    "nbin        = 4*Lside\n",
    "ndata       = 4*Lside\n",
    "rmax        = Lside*np.sqrt(2)\n",
    "\n",
    "LN=LogNormalField(Lside,rmax,nbin)\n",
    "field = LN.run_simulation(key, 1.0, 0.5, PixelNoise=None)"
   ]
  },
  {
   "cell_type": "code",
   "execution_count": 22,
   "metadata": {},
   "outputs": [],
   "source": [
    "# LN field distribution\n",
    "def _f_NL(α, β):\n",
    "    return tfd.TransformedDistribution(\n",
    "        distribution=tfd.MultivariateNormalTriL(\n",
    "            loc=np.zeros((N**2,)),\n",
    "            scale_tril=np.linalg.cholesky(ξ_G(β))),\n",
    "        bijector=tfb.Chain([\n",
    "            tfb.Scale(1. / np.expand_dims(α, (-1))), \n",
    "            tfb.Expm1(),\n",
    "            tfb.AffineScalar(\n",
    "                shift=-0.5 * np.expand_dims(α, -1)**2.,\n",
    "                scale=np.expand_dims(α, -1))]))\n",
    "\n",
    "\n",
    "# draw from the joint distribution\n",
    "def simulator(rng, n, α, β,):\n",
    "    dist = _f_NL(α, β)\n",
    "    if n is not None:\n",
    "        return dist.sample(n, seed=rng)\n",
    "    else: \n",
    "        return dist.sample(seed=rng)\n",
    "\n",
    "# simulator args\n",
    "simulator_args = {'N': N, 'squeeze': False, 'pad': pad}\n",
    "\n",
    "# simulator uses Florent's LN field simulator\n",
    "# wrapper for IMNN and ABC sampler\n",
    "def imnn_simulator(rng, θ, simulator_args=simulator_args):\n",
    "    A,B = θ\n",
    "    N = simulator_args['N']\n",
    "    pad = simulator_args['pad']\n",
    "    #noise = 0.01\n",
    "    def fn(key, A, B):\n",
    "        if simulator_args['squeeze']:\n",
    "            return np.expand_dims(\n",
    "                np.pad(\n",
    "                    #simulator(key, None, A, B).reshape(N,N), \n",
    "                    LN.run_simulation(key, A, B),\n",
    "                    [pad,pad],\n",
    "                    ), \n",
    "                0)\n",
    "\n",
    "        else:\n",
    "            return (np.expand_dims(\n",
    "                        np.expand_dims(\n",
    "                            np.pad(\n",
    "                                #simulator(key, None, A, B).reshape(N,N),\n",
    "                                LN.run_simulation(key, A, B),\n",
    "                                [pad,pad], \n",
    "                                ),  \n",
    "                            0), \n",
    "                0))\n",
    "\n",
    "    if A.shape == B.shape:\n",
    "        if len(A.shape) == 0:\n",
    "            return fn(rng, A, B)\n",
    "        else:\n",
    "            keys = jax.random.split(rng, num=A.shape[0] + 1)\n",
    "            rng = keys[0]\n",
    "            keys = keys[1:]\n",
    "            return jax.vmap(\n",
    "                lambda key, A, B: imnn_simulator(key, (A,B), simulator_args=simulator_args)\n",
    "            )(keys, A, B)\n",
    "    else:\n",
    "        if len(A.shape) > 0:\n",
    "            keys = jax.random.split(rng, num=A.shape[0] + 1)\n",
    "            rng = keys[0]\n",
    "            keys = keys[1:]\n",
    "            return jax.vmap(\n",
    "                lambda key, A: imnn_simulator(key, (A,B), simulator_args=simulator_args)\n",
    "            )(keys, A)\n",
    "        elif len(B.shape) > 0:\n",
    "            keys = jax.random.split(rng, num=B.shape[0])\n",
    "            return jax.vmap(\n",
    "                lambda key, B: imnn_simulator(key, (A,B), simulator_args=simulator_args)\n",
    "            )(keys, B)\n",
    "    "
   ]
  },
  {
   "cell_type": "code",
   "execution_count": 23,
   "metadata": {},
   "outputs": [],
   "source": [
    "def simulator_gradient(rng, θ, simulator_args=simulator_args):\n",
    "    return value_and_jacrev(imnn_simulator, argnums=1, allow_int=True, holomorphic=True)(rng, θ, simulator_args=simulator_args)"
   ]
  },
  {
   "cell_type": "code",
   "execution_count": 24,
   "metadata": {},
   "outputs": [],
   "source": [
    "# define stax model\n",
    "from jax.nn.initializers import normal\n",
    "def InceptBlock2(filters, strides, do_5x5=True, do_3x3=True, \n",
    "                 padding=\"SAME\", W_init=None):\n",
    "    \"\"\"InceptNet convolutional striding block.\n",
    "    filters: tuple: (f1,f2,f3)\n",
    "    filters1: for conv1x1\n",
    "    filters2: for conv1x1,conv3x3\n",
    "    filters3L for conv1x1,conv5x5\"\"\"\n",
    "    \n",
    "    filters1, filters2, filters3 = filters\n",
    "    \n",
    "    conv1x1 = stax.serial(stax.Conv(filters1, (1,1), strides, padding=padding, W_init=W_init))\n",
    "    \n",
    "    filters4 = filters2\n",
    "    conv3x3 = stax.serial(stax.Conv(filters2, (1,1), strides=None, padding=padding, W_init=W_init),\n",
    "                        stax.Conv(filters4, (3,3), strides, padding=padding, W_init=W_init))\n",
    "                        \n",
    "    filters5 = filters3\n",
    "    conv5x5 = stax.serial(stax.Conv(filters3, (1,1), strides=None, padding=padding, W_init=W_init),\n",
    "                         stax.Conv(filters5, (5,5), strides, padding=padding, W_init=W_init))\n",
    "\n",
    "    maxpool = stax.serial(stax.MaxPool((3,3), padding=padding),\n",
    "                         stax.Conv(filters4, (1,1), strides, padding=padding, W_init=W_init))\n",
    "                            \n",
    "    if do_3x3:\n",
    "        if do_5x5:\n",
    "            return stax.serial(\n",
    "                  stax.FanOut(4),  # should num=3 or 2 here ?\n",
    "                  stax.parallel(conv1x1, conv3x3, conv5x5, maxpool),\n",
    "                  stax.FanInConcat(), \n",
    "                  stax.LeakyRelu)\n",
    "        else:\n",
    "            return stax.serial(\n",
    "                  stax.FanOut(3),  # should num=3 or 2 here ?\n",
    "                  stax.parallel(conv1x1, conv3x3, maxpool),\n",
    "                  stax.FanInConcat(), \n",
    "                  stax.LeakyRelu)\n",
    "            \n",
    "    else:\n",
    "        return stax.serial(\n",
    "              stax.FanOut(2),  # should num=3 or 2 here ?\n",
    "              stax.parallel(conv1x1, maxpool),\n",
    "              stax.FanInConcat(), \n",
    "              stax.LeakyRelu)\n",
    "    \n",
    "    \n",
    "def Reshape(newshape):\n",
    "    \"\"\"Layer function for a reshape layer.\"\"\"\n",
    "    init_fun = lambda rng, input_shape: (newshape,())\n",
    "    apply_fun = lambda params, inputs, **kwargs: np.reshape(inputs,newshape)\n",
    "    return init_fun, apply_fun\n",
    "\n",
    "\n",
    "from jax.nn.initializers import glorot_normal, normal, ones, zeros\n",
    "\n",
    "\n",
    "def LogLayer(a_init=ones, b_init=ones,\n",
    "              c_init=ones, d_init=ones, C=3., scalar=True):\n",
    "    \"\"\"custom layer for log-normalizing field inputs\"\"\"\n",
    "    _a_init = lambda rng,shape: a_init(rng, shape)\n",
    "    _b_init = lambda rng,shape: b_init(rng, shape)\n",
    "    _c_init = lambda rng,shape: c_init(rng, shape)\n",
    "    _d_init = lambda rng,shape: d_init(rng, shape)\n",
    "    \n",
    "    def init_fun(rng, input_shape):\n",
    "        \n",
    "        if scalar:\n",
    "            shape = ()\n",
    "        else:\n",
    "            shape = input_shape \n",
    "    \n",
    "        k1, rng = jax.random.split(rng)\n",
    "        k2, rng = jax.random.split(rng)\n",
    "        k3, rng = jax.random.split(rng)\n",
    "        k4, rng = jax.random.split(rng)\n",
    "        a,b = _a_init(k1, shape), _b_init(k2, shape)\n",
    "        c,d = _c_init(k3, shape)*C, _d_init(k4, shape)\n",
    "        return input_shape, (a,b,c,d)\n",
    "\n",
    "    def apply_fun(params, inputs, **kwargs):\n",
    "        a,b,c,d = params\n",
    "        \n",
    "        return a * np.log(np.abs(b)*inputs + c) + d\n",
    "    \n",
    "    return init_fun, apply_fun\n",
    "\n",
    "\n",
    "\n",
    "def AsinhLayer(a_init=ones, b_init=ones,\n",
    "              c_init=ones, d_init=ones, scalar=True):\n",
    "    \"\"\"custom layer for Asinh-normalizing field inputs\"\"\"\n",
    "    _a_init = lambda rng,shape: a_init(rng, shape)\n",
    "    _b_init = lambda rng,shape: b_init(rng, shape)\n",
    "    _c_init = lambda rng,shape: c_init(rng, shape)\n",
    "    _d_init = lambda rng,shape: d_init(rng, shape)\n",
    "    def init_fun(rng, input_shape):\n",
    "        if scalar:\n",
    "            shape = ()\n",
    "        else:\n",
    "            shape = input_shape \n",
    "        k1, rng = jax.random.split(rng)\n",
    "        k2, rng = jax.random.split(rng)\n",
    "        k3, rng = jax.random.split(rng)\n",
    "        k4, rng = jax.random.split(rng)\n",
    "        a,b = _a_init(k1, shape), _b_init(k2, shape)\n",
    "        c,d = _c_init(k3, shape), _d_init(k4, shape)\n",
    "        return input_shape, np.stack((a,b,c,d), 0)\n",
    "    def apply_fun(params, inputs, **kwargs):\n",
    "        a,b,c,d = params\n",
    "        return a * np.arcsinh(b*inputs + c) + d\n",
    "    return init_fun, apply_fun\n",
    "\n",
    "def ScalarLayer(C=None, c_init=ones):\n",
    "    \"\"\"Layer construction function for a reshape layer.\"\"\"\n",
    "    \n",
    "    if C is None:\n",
    "        C = 1.0\n",
    "    \n",
    "    _c_init = lambda rng,shape: c_init(rng, shape)*C\n",
    "    \n",
    "    def init_fun(rng, input_shape):\n",
    "        shape = input_shape\n",
    "        k1, rng = jax.random.split(rng)\n",
    "        constant = _c_init(k1, shape)\n",
    "        return input_shape, (constant)\n",
    "\n",
    "    def apply_fun(params, inputs, **kwargs):\n",
    "        cnst = params\n",
    "        return inputs*cnst\n",
    "    \n",
    "    \n",
    "    return init_fun, apply_fun\n",
    "\n"
   ]
  },
  {
   "cell_type": "code",
   "execution_count": 102,
   "metadata": {
    "jupyter": {
     "source_hidden": true
    }
   },
   "outputs": [],
   "source": [
    "# try resnet model \n",
    "def ConvBlock(kernel_size, filters, strides):\n",
    "    \"\"\"ResNet convolutional striding block.\"\"\"\n",
    "    ks = kernel_size\n",
    "    filters1, filters2, filters3 = filters\n",
    "    main = stax.serial(\n",
    "      stax.Conv(filters1, (1, 1), strides),\n",
    "      stax.BatchNorm(), stax.Relu,\n",
    "      stax.Conv(filters2, (ks, ks), padding='SAME'),\n",
    "      stax.BatchNorm(), stax.Relu,\n",
    "      stax.Conv(filters3, (1, 1)), stax.BatchNorm())\n",
    "    shortcut = stax.serial(\n",
    "      stax.Conv(filters3, (1, 1), strides),\n",
    "      stax.BatchNorm())\n",
    "    return stax.serial(\n",
    "      stax.FanOut(2),\n",
    "      stax.parallel(main, shortcut),\n",
    "      stax.FanInSum, stax.Relu)\n",
    "\n",
    "def IdentityBlock(kernel_size, filters):\n",
    "    \"\"\"ResNet identical size block.\"\"\"\n",
    "    ks = kernel_size\n",
    "    filters1, filters2 = filters\n",
    "    def MakeMain(input_shape):\n",
    "        # the number of output channels depends on the number of input channels\n",
    "        return stax.serial(\n",
    "            stax.Conv(filters1, (1, 1)),\n",
    "            stax.BatchNorm(), stax.Relu,\n",
    "            stax.Conv(filters2, (ks, ks), padding='SAME'),\n",
    "            stax.BatchNorm(), stax.Relu,\n",
    "            stax.Conv(input_shape[3], (1, 1)), stax.BatchNorm())\n",
    "    \n",
    "    main = stax.shape_dependent(MakeMain)\n",
    "    return stax.serial(\n",
    "      stax.FanOut(2),\n",
    "      stax.parallel(main, stax.Identity),\n",
    "      stax.FanInSum, stax.Relu)\n"
   ]
  },
  {
   "cell_type": "code",
   "execution_count": 25,
   "metadata": {},
   "outputs": [],
   "source": [
    "# build model\n",
    "fs = 128\n",
    "\n",
    "incept_model = stax.serial(\n",
    "        AsinhLayer(scalar=True),\n",
    "        InceptBlock2((fs,fs,fs), strides=(1,1)),\n",
    "        InceptBlock2((fs,fs,fs), strides=(2,2)),\n",
    "        #InceptBlock2((fs,fs,fs), strides=(1,1)),\n",
    "        InceptBlock2((fs,fs,fs), strides=(2,2)),\n",
    "        #InceptBlock2((fs,fs,fs), strides=(1,1)),\n",
    "        InceptBlock2((fs,fs,fs), strides=(2,2), do_5x5=False),\n",
    "        InceptBlock2((fs,fs,fs), strides=(1,1), do_5x5=False),\n",
    "        InceptBlock2((fs,fs,fs), strides=(3,3), do_5x5=False, do_3x3=False),\n",
    "        stax.Conv(n_summaries, (1,1), strides=(1,1), padding=\"SAME\"),\n",
    "        stax.Flatten,\n",
    "        Reshape((n_summaries,))\n",
    ")"
   ]
  },
  {
   "cell_type": "code",
   "execution_count": 26,
   "metadata": {},
   "outputs": [],
   "source": [
    "rng, initial_model_key = jax.random.split(rng)\n",
    "rng, fitting_key = jax.random.split(rng)"
   ]
  },
  {
   "cell_type": "code",
   "execution_count": 27,
   "metadata": {},
   "outputs": [],
   "source": [
    "optimiser = optimizers.adam(step_size=1e-3)"
   ]
  },
  {
   "cell_type": "code",
   "execution_count": 28,
   "metadata": {},
   "outputs": [],
   "source": [
    "IMNN = AggregatedSimulatorIMNN(\n",
    "        n_s=5000,\n",
    "        n_d=5000,\n",
    "        n_params=n_params,\n",
    "        n_summaries=n_summaries,\n",
    "        input_shape=input_shape,\n",
    "        θ_fid=np.array([0.95, 0.55], dtype=np.float32),\n",
    "        model=incept_model,\n",
    "        optimiser=optimiser,\n",
    "        key_or_state=initial_model_key,\n",
    "        simulator=lambda rng, θ: imnn_simulator(rng, θ, simulator_args=simulator_args),\n",
    "        host=jax.devices()[0],\n",
    "        devices=[jax.devices()[0]],\n",
    "        n_per_device=1000\n",
    "        )"
   ]
  },
  {
   "cell_type": "code",
   "execution_count": 29,
   "metadata": {},
   "outputs": [],
   "source": [
    "IMNN_rngs = 1 * [fitting_key] #+ 12 * [None]\n",
    "labels = [\n",
    "    \"Simulator, InceptNet\\n\"\n",
    "]"
   ]
  },
  {
   "cell_type": "code",
   "execution_count": 30,
   "metadata": {},
   "outputs": [
    {
     "ename": "RuntimeError",
     "evalue": "Resource exhausted: Out of memory while trying to allocate 1296777216 bytes.",
     "output_type": "error",
     "traceback": [
      "\u001b[0;31m---------------------------------------------------------------------------\u001b[0m",
      "\u001b[0;31mFilteredStackTrace\u001b[0m                        Traceback (most recent call last)",
      "\u001b[0;32m<timed exec>\u001b[0m in \u001b[0;36m<module>\u001b[0;34m\u001b[0m\n",
      "\u001b[0;32m~/repositories/scratch/devinstall/imnn/imnn/imnn/_aggregated_imnn.py\u001b[0m in \u001b[0;36mfit\u001b[0;34m(self, λ, ε, rng, patience, min_iterations, max_iterations, print_rate, best)\u001b[0m\n\u001b[1;32m    484\u001b[0m                 rng, state)\n\u001b[0;32m--> 485\u001b[0;31m             summaries, summary_derivatives = self.get_summaries(\n\u001b[0m\u001b[1;32m    486\u001b[0m                 w=w, key=training_key)\n",
      "\u001b[0;32m~/repositories/scratch/devinstall/imnn/imnn/imnn/aggregated_simulator_imnn.py\u001b[0m in \u001b[0;36mget_summaries\u001b[0;34m(self, w, key, validate)\u001b[0m\n\u001b[1;32m    386\u001b[0m                     main)):\n\u001b[0;32m--> 387\u001b[0;31m                 \u001b[0m_x\u001b[0m\u001b[0;34m,\u001b[0m \u001b[0m_dx_dθ\u001b[0m \u001b[0;34m=\u001b[0m \u001b[0mfn\u001b[0m\u001b[0;34m(\u001b[0m\u001b[0mdataset\u001b[0m\u001b[0;34m[\u001b[0m\u001b[0mi\u001b[0m\u001b[0;34m]\u001b[0m\u001b[0;34m,\u001b[0m \u001b[0mw\u001b[0m\u001b[0;34m)\u001b[0m\u001b[0;34m\u001b[0m\u001b[0;34m\u001b[0m\u001b[0m\n\u001b[0m\u001b[1;32m    388\u001b[0m                 \u001b[0mx\u001b[0m\u001b[0;34m[\u001b[0m\u001b[0mj\u001b[0m\u001b[0;34m]\u001b[0m \u001b[0;34m=\u001b[0m \u001b[0mjax\u001b[0m\u001b[0;34m.\u001b[0m\u001b[0mops\u001b[0m\u001b[0;34m.\u001b[0m\u001b[0mindex_update\u001b[0m\u001b[0;34m(\u001b[0m\u001b[0mx\u001b[0m\u001b[0;34m[\u001b[0m\u001b[0mj\u001b[0m\u001b[0;34m]\u001b[0m\u001b[0;34m,\u001b[0m \u001b[0mjax\u001b[0m\u001b[0;34m.\u001b[0m\u001b[0mops\u001b[0m\u001b[0;34m.\u001b[0m\u001b[0mindex\u001b[0m\u001b[0;34m[\u001b[0m\u001b[0mi\u001b[0m\u001b[0;34m]\u001b[0m\u001b[0;34m,\u001b[0m \u001b[0m_x\u001b[0m\u001b[0;34m)\u001b[0m\u001b[0;34m\u001b[0m\u001b[0;34m\u001b[0m\u001b[0m\n",
      "\u001b[0;31mFilteredStackTrace\u001b[0m: RuntimeError: Resource exhausted: Out of memory while trying to allocate 1296777216 bytes.\n\nThe stack trace above excludes JAX-internal frames.\nThe following is the original exception that occurred, unmodified.\n\n--------------------",
      "\nThe above exception was the direct cause of the following exception:\n",
      "\u001b[0;31mRuntimeError\u001b[0m                              Traceback (most recent call last)",
      "\u001b[0;32m<timed exec>\u001b[0m in \u001b[0;36m<module>\u001b[0;34m\u001b[0m\n",
      "\u001b[0;32m~/repositories/scratch/devinstall/imnn/imnn/imnn/_aggregated_imnn.py\u001b[0m in \u001b[0;36mfit\u001b[0;34m(self, λ, ε, rng, patience, min_iterations, max_iterations, print_rate, best)\u001b[0m\n\u001b[1;32m    483\u001b[0m             rng, training_key, validation_key, w = get_keys_and_params(\n\u001b[1;32m    484\u001b[0m                 rng, state)\n\u001b[0;32m--> 485\u001b[0;31m             summaries, summary_derivatives = self.get_summaries(\n\u001b[0m\u001b[1;32m    486\u001b[0m                 w=w, key=training_key)\n\u001b[1;32m    487\u001b[0m             \u001b[0mdΛ_dx\u001b[0m\u001b[0;34m,\u001b[0m \u001b[0mresults\u001b[0m \u001b[0;34m=\u001b[0m \u001b[0mcalculate_loss\u001b[0m\u001b[0;34m(\u001b[0m\u001b[0msummaries\u001b[0m\u001b[0;34m,\u001b[0m \u001b[0msummary_derivatives\u001b[0m\u001b[0;34m)\u001b[0m\u001b[0;34m\u001b[0m\u001b[0;34m\u001b[0m\u001b[0m\n",
      "\u001b[0;32m~/repositories/scratch/devinstall/imnn/imnn/imnn/aggregated_simulator_imnn.py\u001b[0m in \u001b[0;36mget_summaries\u001b[0;34m(self, w, key, validate)\u001b[0m\n\u001b[1;32m    385\u001b[0m                     \u001b[0mself\u001b[0m\u001b[0;34m.\u001b[0m\u001b[0mbatch_summaries_with_derivatives\u001b[0m\u001b[0;34m,\u001b[0m\u001b[0;34m\u001b[0m\u001b[0;34m\u001b[0m\u001b[0m\n\u001b[1;32m    386\u001b[0m                     main)):\n\u001b[0;32m--> 387\u001b[0;31m                 \u001b[0m_x\u001b[0m\u001b[0;34m,\u001b[0m \u001b[0m_dx_dθ\u001b[0m \u001b[0;34m=\u001b[0m \u001b[0mfn\u001b[0m\u001b[0;34m(\u001b[0m\u001b[0mdataset\u001b[0m\u001b[0;34m[\u001b[0m\u001b[0mi\u001b[0m\u001b[0;34m]\u001b[0m\u001b[0;34m,\u001b[0m \u001b[0mw\u001b[0m\u001b[0;34m)\u001b[0m\u001b[0;34m\u001b[0m\u001b[0;34m\u001b[0m\u001b[0m\n\u001b[0m\u001b[1;32m    388\u001b[0m                 \u001b[0mx\u001b[0m\u001b[0;34m[\u001b[0m\u001b[0mj\u001b[0m\u001b[0;34m]\u001b[0m \u001b[0;34m=\u001b[0m \u001b[0mjax\u001b[0m\u001b[0;34m.\u001b[0m\u001b[0mops\u001b[0m\u001b[0;34m.\u001b[0m\u001b[0mindex_update\u001b[0m\u001b[0;34m(\u001b[0m\u001b[0mx\u001b[0m\u001b[0;34m[\u001b[0m\u001b[0mj\u001b[0m\u001b[0;34m]\u001b[0m\u001b[0;34m,\u001b[0m \u001b[0mjax\u001b[0m\u001b[0;34m.\u001b[0m\u001b[0mops\u001b[0m\u001b[0;34m.\u001b[0m\u001b[0mindex\u001b[0m\u001b[0;34m[\u001b[0m\u001b[0mi\u001b[0m\u001b[0;34m]\u001b[0m\u001b[0;34m,\u001b[0m \u001b[0m_x\u001b[0m\u001b[0;34m)\u001b[0m\u001b[0;34m\u001b[0m\u001b[0;34m\u001b[0m\u001b[0m\n\u001b[1;32m    389\u001b[0m                 dx_dθ[j] = jax.ops.index_update(\n",
      "\u001b[0;32m~/anaconda3/envs/pyjax9/lib/python3.8/site-packages/jax/_src/traceback_util.py\u001b[0m in \u001b[0;36mreraise_with_filtered_traceback\u001b[0;34m(*args, **kwargs)\u001b[0m\n\u001b[1;32m    137\u001b[0m   \u001b[0;32mdef\u001b[0m \u001b[0mreraise_with_filtered_traceback\u001b[0m\u001b[0;34m(\u001b[0m\u001b[0;34m*\u001b[0m\u001b[0margs\u001b[0m\u001b[0;34m,\u001b[0m \u001b[0;34m**\u001b[0m\u001b[0mkwargs\u001b[0m\u001b[0;34m)\u001b[0m\u001b[0;34m:\u001b[0m\u001b[0;34m\u001b[0m\u001b[0;34m\u001b[0m\u001b[0m\n\u001b[1;32m    138\u001b[0m     \u001b[0;32mtry\u001b[0m\u001b[0;34m:\u001b[0m\u001b[0;34m\u001b[0m\u001b[0;34m\u001b[0m\u001b[0m\n\u001b[0;32m--> 139\u001b[0;31m       \u001b[0;32mreturn\u001b[0m \u001b[0mfun\u001b[0m\u001b[0;34m(\u001b[0m\u001b[0;34m*\u001b[0m\u001b[0margs\u001b[0m\u001b[0;34m,\u001b[0m \u001b[0;34m**\u001b[0m\u001b[0mkwargs\u001b[0m\u001b[0;34m)\u001b[0m\u001b[0;34m\u001b[0m\u001b[0;34m\u001b[0m\u001b[0m\n\u001b[0m\u001b[1;32m    140\u001b[0m     \u001b[0;32mexcept\u001b[0m \u001b[0mException\u001b[0m \u001b[0;32mas\u001b[0m \u001b[0me\u001b[0m\u001b[0;34m:\u001b[0m\u001b[0;34m\u001b[0m\u001b[0;34m\u001b[0m\u001b[0m\n\u001b[1;32m    141\u001b[0m       \u001b[0;32mif\u001b[0m \u001b[0;32mnot\u001b[0m \u001b[0mis_under_reraiser\u001b[0m\u001b[0;34m(\u001b[0m\u001b[0me\u001b[0m\u001b[0;34m)\u001b[0m\u001b[0;34m:\u001b[0m\u001b[0;34m\u001b[0m\u001b[0;34m\u001b[0m\u001b[0m\n",
      "\u001b[0;32m~/anaconda3/envs/pyjax9/lib/python3.8/site-packages/jax/api.py\u001b[0m in \u001b[0;36mf_jitted\u001b[0;34m(*args, **kwargs)\u001b[0m\n\u001b[1;32m    414\u001b[0m       \u001b[0;32mreturn\u001b[0m \u001b[0mcpp_jitted_f\u001b[0m\u001b[0;34m(\u001b[0m\u001b[0;34m*\u001b[0m\u001b[0margs\u001b[0m\u001b[0;34m,\u001b[0m \u001b[0;34m**\u001b[0m\u001b[0mkwargs\u001b[0m\u001b[0;34m)\u001b[0m\u001b[0;34m\u001b[0m\u001b[0;34m\u001b[0m\u001b[0m\n\u001b[1;32m    415\u001b[0m     \u001b[0;32melse\u001b[0m\u001b[0;34m:\u001b[0m\u001b[0;34m\u001b[0m\u001b[0;34m\u001b[0m\u001b[0m\n\u001b[0;32m--> 416\u001b[0;31m       \u001b[0;32mreturn\u001b[0m \u001b[0mcpp_jitted_f\u001b[0m\u001b[0;34m(\u001b[0m\u001b[0mcontext\u001b[0m\u001b[0;34m,\u001b[0m \u001b[0;34m*\u001b[0m\u001b[0margs\u001b[0m\u001b[0;34m,\u001b[0m \u001b[0;34m**\u001b[0m\u001b[0mkwargs\u001b[0m\u001b[0;34m)\u001b[0m\u001b[0;34m\u001b[0m\u001b[0;34m\u001b[0m\u001b[0m\n\u001b[0m\u001b[1;32m    417\u001b[0m   \u001b[0mf_jitted\u001b[0m\u001b[0;34m.\u001b[0m\u001b[0m_cpp_jitted_f\u001b[0m \u001b[0;34m=\u001b[0m \u001b[0mcpp_jitted_f\u001b[0m\u001b[0;34m\u001b[0m\u001b[0;34m\u001b[0m\u001b[0m\n\u001b[1;32m    418\u001b[0m \u001b[0;34m\u001b[0m\u001b[0m\n",
      "\u001b[0;32m~/anaconda3/envs/pyjax9/lib/python3.8/site-packages/jax/api.py\u001b[0m in \u001b[0;36mcache_miss\u001b[0;34m(_, *args, **kwargs)\u001b[0m\n\u001b[1;32m    295\u001b[0m       \u001b[0m_check_arg\u001b[0m\u001b[0;34m(\u001b[0m\u001b[0marg\u001b[0m\u001b[0;34m)\u001b[0m\u001b[0;34m\u001b[0m\u001b[0;34m\u001b[0m\u001b[0m\n\u001b[1;32m    296\u001b[0m     \u001b[0mflat_fun\u001b[0m\u001b[0;34m,\u001b[0m \u001b[0mout_tree\u001b[0m \u001b[0;34m=\u001b[0m \u001b[0mflatten_fun\u001b[0m\u001b[0;34m(\u001b[0m\u001b[0mf\u001b[0m\u001b[0;34m,\u001b[0m \u001b[0min_tree\u001b[0m\u001b[0;34m)\u001b[0m\u001b[0;34m\u001b[0m\u001b[0;34m\u001b[0m\u001b[0m\n\u001b[0;32m--> 297\u001b[0;31m     out_flat = xla.xla_call(\n\u001b[0m\u001b[1;32m    298\u001b[0m         \u001b[0mflat_fun\u001b[0m\u001b[0;34m,\u001b[0m\u001b[0;34m\u001b[0m\u001b[0;34m\u001b[0m\u001b[0m\n\u001b[1;32m    299\u001b[0m         \u001b[0;34m*\u001b[0m\u001b[0margs_flat\u001b[0m\u001b[0;34m,\u001b[0m\u001b[0;34m\u001b[0m\u001b[0;34m\u001b[0m\u001b[0m\n",
      "\u001b[0;32m~/anaconda3/envs/pyjax9/lib/python3.8/site-packages/jax/core.py\u001b[0m in \u001b[0;36mbind\u001b[0;34m(self, fun, *args, **params)\u001b[0m\n\u001b[1;32m   1392\u001b[0m \u001b[0;34m\u001b[0m\u001b[0m\n\u001b[1;32m   1393\u001b[0m   \u001b[0;32mdef\u001b[0m \u001b[0mbind\u001b[0m\u001b[0;34m(\u001b[0m\u001b[0mself\u001b[0m\u001b[0;34m,\u001b[0m \u001b[0mfun\u001b[0m\u001b[0;34m,\u001b[0m \u001b[0;34m*\u001b[0m\u001b[0margs\u001b[0m\u001b[0;34m,\u001b[0m \u001b[0;34m**\u001b[0m\u001b[0mparams\u001b[0m\u001b[0;34m)\u001b[0m\u001b[0;34m:\u001b[0m\u001b[0;34m\u001b[0m\u001b[0;34m\u001b[0m\u001b[0m\n\u001b[0;32m-> 1394\u001b[0;31m     \u001b[0;32mreturn\u001b[0m \u001b[0mcall_bind\u001b[0m\u001b[0;34m(\u001b[0m\u001b[0mself\u001b[0m\u001b[0;34m,\u001b[0m \u001b[0mfun\u001b[0m\u001b[0;34m,\u001b[0m \u001b[0;34m*\u001b[0m\u001b[0margs\u001b[0m\u001b[0;34m,\u001b[0m \u001b[0;34m**\u001b[0m\u001b[0mparams\u001b[0m\u001b[0;34m)\u001b[0m\u001b[0;34m\u001b[0m\u001b[0;34m\u001b[0m\u001b[0m\n\u001b[0m\u001b[1;32m   1395\u001b[0m \u001b[0;34m\u001b[0m\u001b[0m\n\u001b[1;32m   1396\u001b[0m   \u001b[0;32mdef\u001b[0m \u001b[0mprocess\u001b[0m\u001b[0;34m(\u001b[0m\u001b[0mself\u001b[0m\u001b[0;34m,\u001b[0m \u001b[0mtrace\u001b[0m\u001b[0;34m,\u001b[0m \u001b[0mfun\u001b[0m\u001b[0;34m,\u001b[0m \u001b[0mtracers\u001b[0m\u001b[0;34m,\u001b[0m \u001b[0mparams\u001b[0m\u001b[0;34m)\u001b[0m\u001b[0;34m:\u001b[0m\u001b[0;34m\u001b[0m\u001b[0;34m\u001b[0m\u001b[0m\n",
      "\u001b[0;32m~/anaconda3/envs/pyjax9/lib/python3.8/site-packages/jax/core.py\u001b[0m in \u001b[0;36mcall_bind\u001b[0;34m(primitive, fun, *args, **params)\u001b[0m\n\u001b[1;32m   1383\u001b[0m   \u001b[0mtracers\u001b[0m \u001b[0;34m=\u001b[0m \u001b[0mmap\u001b[0m\u001b[0;34m(\u001b[0m\u001b[0mtop_trace\u001b[0m\u001b[0;34m.\u001b[0m\u001b[0mfull_raise\u001b[0m\u001b[0;34m,\u001b[0m \u001b[0margs\u001b[0m\u001b[0;34m)\u001b[0m\u001b[0;34m\u001b[0m\u001b[0;34m\u001b[0m\u001b[0m\n\u001b[1;32m   1384\u001b[0m   \u001b[0;32mwith\u001b[0m \u001b[0mmaybe_new_sublevel\u001b[0m\u001b[0;34m(\u001b[0m\u001b[0mtop_trace\u001b[0m\u001b[0;34m)\u001b[0m\u001b[0;34m:\u001b[0m\u001b[0;34m\u001b[0m\u001b[0;34m\u001b[0m\u001b[0m\n\u001b[0;32m-> 1385\u001b[0;31m     \u001b[0mouts\u001b[0m \u001b[0;34m=\u001b[0m \u001b[0mprimitive\u001b[0m\u001b[0;34m.\u001b[0m\u001b[0mprocess\u001b[0m\u001b[0;34m(\u001b[0m\u001b[0mtop_trace\u001b[0m\u001b[0;34m,\u001b[0m \u001b[0mfun\u001b[0m\u001b[0;34m,\u001b[0m \u001b[0mtracers\u001b[0m\u001b[0;34m,\u001b[0m \u001b[0mparams\u001b[0m\u001b[0;34m)\u001b[0m\u001b[0;34m\u001b[0m\u001b[0;34m\u001b[0m\u001b[0m\n\u001b[0m\u001b[1;32m   1386\u001b[0m   \u001b[0;32mreturn\u001b[0m \u001b[0mmap\u001b[0m\u001b[0;34m(\u001b[0m\u001b[0mfull_lower\u001b[0m\u001b[0;34m,\u001b[0m \u001b[0mapply_todos\u001b[0m\u001b[0;34m(\u001b[0m\u001b[0menv_trace_todo\u001b[0m\u001b[0;34m(\u001b[0m\u001b[0;34m)\u001b[0m\u001b[0;34m,\u001b[0m \u001b[0mouts\u001b[0m\u001b[0;34m)\u001b[0m\u001b[0;34m)\u001b[0m\u001b[0;34m\u001b[0m\u001b[0;34m\u001b[0m\u001b[0m\n\u001b[1;32m   1387\u001b[0m \u001b[0;34m\u001b[0m\u001b[0m\n",
      "\u001b[0;32m~/anaconda3/envs/pyjax9/lib/python3.8/site-packages/jax/core.py\u001b[0m in \u001b[0;36mprocess\u001b[0;34m(self, trace, fun, tracers, params)\u001b[0m\n\u001b[1;32m   1395\u001b[0m \u001b[0;34m\u001b[0m\u001b[0m\n\u001b[1;32m   1396\u001b[0m   \u001b[0;32mdef\u001b[0m \u001b[0mprocess\u001b[0m\u001b[0;34m(\u001b[0m\u001b[0mself\u001b[0m\u001b[0;34m,\u001b[0m \u001b[0mtrace\u001b[0m\u001b[0;34m,\u001b[0m \u001b[0mfun\u001b[0m\u001b[0;34m,\u001b[0m \u001b[0mtracers\u001b[0m\u001b[0;34m,\u001b[0m \u001b[0mparams\u001b[0m\u001b[0;34m)\u001b[0m\u001b[0;34m:\u001b[0m\u001b[0;34m\u001b[0m\u001b[0;34m\u001b[0m\u001b[0m\n\u001b[0;32m-> 1397\u001b[0;31m     \u001b[0;32mreturn\u001b[0m \u001b[0mtrace\u001b[0m\u001b[0;34m.\u001b[0m\u001b[0mprocess_call\u001b[0m\u001b[0;34m(\u001b[0m\u001b[0mself\u001b[0m\u001b[0;34m,\u001b[0m \u001b[0mfun\u001b[0m\u001b[0;34m,\u001b[0m \u001b[0mtracers\u001b[0m\u001b[0;34m,\u001b[0m \u001b[0mparams\u001b[0m\u001b[0;34m)\u001b[0m\u001b[0;34m\u001b[0m\u001b[0;34m\u001b[0m\u001b[0m\n\u001b[0m\u001b[1;32m   1398\u001b[0m \u001b[0;34m\u001b[0m\u001b[0m\n\u001b[1;32m   1399\u001b[0m   \u001b[0;32mdef\u001b[0m \u001b[0mpost_process\u001b[0m\u001b[0;34m(\u001b[0m\u001b[0mself\u001b[0m\u001b[0;34m,\u001b[0m \u001b[0mtrace\u001b[0m\u001b[0;34m,\u001b[0m \u001b[0mout_tracers\u001b[0m\u001b[0;34m,\u001b[0m \u001b[0mparams\u001b[0m\u001b[0;34m)\u001b[0m\u001b[0;34m:\u001b[0m\u001b[0;34m\u001b[0m\u001b[0;34m\u001b[0m\u001b[0m\n",
      "\u001b[0;32m~/anaconda3/envs/pyjax9/lib/python3.8/site-packages/jax/core.py\u001b[0m in \u001b[0;36mprocess_call\u001b[0;34m(self, primitive, f, tracers, params)\u001b[0m\n\u001b[1;32m    623\u001b[0m \u001b[0;34m\u001b[0m\u001b[0m\n\u001b[1;32m    624\u001b[0m   \u001b[0;32mdef\u001b[0m \u001b[0mprocess_call\u001b[0m\u001b[0;34m(\u001b[0m\u001b[0mself\u001b[0m\u001b[0;34m,\u001b[0m \u001b[0mprimitive\u001b[0m\u001b[0;34m,\u001b[0m \u001b[0mf\u001b[0m\u001b[0;34m,\u001b[0m \u001b[0mtracers\u001b[0m\u001b[0;34m,\u001b[0m \u001b[0mparams\u001b[0m\u001b[0;34m)\u001b[0m\u001b[0;34m:\u001b[0m\u001b[0;34m\u001b[0m\u001b[0;34m\u001b[0m\u001b[0m\n\u001b[0;32m--> 625\u001b[0;31m     \u001b[0;32mreturn\u001b[0m \u001b[0mprimitive\u001b[0m\u001b[0;34m.\u001b[0m\u001b[0mimpl\u001b[0m\u001b[0;34m(\u001b[0m\u001b[0mf\u001b[0m\u001b[0;34m,\u001b[0m \u001b[0;34m*\u001b[0m\u001b[0mtracers\u001b[0m\u001b[0;34m,\u001b[0m \u001b[0;34m**\u001b[0m\u001b[0mparams\u001b[0m\u001b[0;34m)\u001b[0m\u001b[0;34m\u001b[0m\u001b[0;34m\u001b[0m\u001b[0m\n\u001b[0m\u001b[1;32m    626\u001b[0m   \u001b[0mprocess_map\u001b[0m \u001b[0;34m=\u001b[0m \u001b[0mprocess_call\u001b[0m\u001b[0;34m\u001b[0m\u001b[0;34m\u001b[0m\u001b[0m\n\u001b[1;32m    627\u001b[0m \u001b[0;34m\u001b[0m\u001b[0m\n",
      "\u001b[0;32m~/anaconda3/envs/pyjax9/lib/python3.8/site-packages/jax/interpreters/xla.py\u001b[0m in \u001b[0;36m_xla_call_impl\u001b[0;34m(fun, device, backend, name, donated_invars, *args)\u001b[0m\n\u001b[1;32m    584\u001b[0m \u001b[0;34m\u001b[0m\u001b[0m\n\u001b[1;32m    585\u001b[0m \u001b[0;32mdef\u001b[0m \u001b[0m_xla_call_impl\u001b[0m\u001b[0;34m(\u001b[0m\u001b[0mfun\u001b[0m\u001b[0;34m:\u001b[0m \u001b[0mlu\u001b[0m\u001b[0;34m.\u001b[0m\u001b[0mWrappedFun\u001b[0m\u001b[0;34m,\u001b[0m \u001b[0;34m*\u001b[0m\u001b[0margs\u001b[0m\u001b[0;34m,\u001b[0m \u001b[0mdevice\u001b[0m\u001b[0;34m,\u001b[0m \u001b[0mbackend\u001b[0m\u001b[0;34m,\u001b[0m \u001b[0mname\u001b[0m\u001b[0;34m,\u001b[0m \u001b[0mdonated_invars\u001b[0m\u001b[0;34m)\u001b[0m\u001b[0;34m:\u001b[0m\u001b[0;34m\u001b[0m\u001b[0;34m\u001b[0m\u001b[0m\n\u001b[0;32m--> 586\u001b[0;31m   compiled_fun = _xla_callable(fun, device, backend, name, donated_invars,\n\u001b[0m\u001b[1;32m    587\u001b[0m                                *unsafe_map(arg_spec, args))\n\u001b[1;32m    588\u001b[0m   \u001b[0;32mtry\u001b[0m\u001b[0;34m:\u001b[0m\u001b[0;34m\u001b[0m\u001b[0;34m\u001b[0m\u001b[0m\n",
      "\u001b[0;32m~/anaconda3/envs/pyjax9/lib/python3.8/site-packages/jax/linear_util.py\u001b[0m in \u001b[0;36mmemoized_fun\u001b[0;34m(fun, *args)\u001b[0m\n\u001b[1;32m    258\u001b[0m       \u001b[0mfun\u001b[0m\u001b[0;34m.\u001b[0m\u001b[0mpopulate_stores\u001b[0m\u001b[0;34m(\u001b[0m\u001b[0mstores\u001b[0m\u001b[0;34m)\u001b[0m\u001b[0;34m\u001b[0m\u001b[0;34m\u001b[0m\u001b[0m\n\u001b[1;32m    259\u001b[0m     \u001b[0;32melse\u001b[0m\u001b[0;34m:\u001b[0m\u001b[0;34m\u001b[0m\u001b[0;34m\u001b[0m\u001b[0m\n\u001b[0;32m--> 260\u001b[0;31m       \u001b[0mans\u001b[0m \u001b[0;34m=\u001b[0m \u001b[0mcall\u001b[0m\u001b[0;34m(\u001b[0m\u001b[0mfun\u001b[0m\u001b[0;34m,\u001b[0m \u001b[0;34m*\u001b[0m\u001b[0margs\u001b[0m\u001b[0;34m)\u001b[0m\u001b[0;34m\u001b[0m\u001b[0;34m\u001b[0m\u001b[0m\n\u001b[0m\u001b[1;32m    261\u001b[0m       \u001b[0mcache\u001b[0m\u001b[0;34m[\u001b[0m\u001b[0mkey\u001b[0m\u001b[0;34m]\u001b[0m \u001b[0;34m=\u001b[0m \u001b[0;34m(\u001b[0m\u001b[0mans\u001b[0m\u001b[0;34m,\u001b[0m \u001b[0mfun\u001b[0m\u001b[0;34m.\u001b[0m\u001b[0mstores\u001b[0m\u001b[0;34m)\u001b[0m\u001b[0;34m\u001b[0m\u001b[0;34m\u001b[0m\u001b[0m\n\u001b[1;32m    262\u001b[0m \u001b[0;34m\u001b[0m\u001b[0m\n",
      "\u001b[0;32m~/anaconda3/envs/pyjax9/lib/python3.8/site-packages/jax/interpreters/xla.py\u001b[0m in \u001b[0;36m_xla_callable\u001b[0;34m(fun, device, backend, name, donated_invars, *arg_specs)\u001b[0m\n\u001b[1;32m    732\u001b[0m       device_assignment=(device.id,) if device else None)\n\u001b[1;32m    733\u001b[0m   \u001b[0moptions\u001b[0m\u001b[0;34m.\u001b[0m\u001b[0mparameter_is_tupled_arguments\u001b[0m \u001b[0;34m=\u001b[0m \u001b[0mtuple_args\u001b[0m\u001b[0;34m\u001b[0m\u001b[0;34m\u001b[0m\u001b[0m\n\u001b[0;32m--> 734\u001b[0;31m   \u001b[0mcompiled\u001b[0m \u001b[0;34m=\u001b[0m \u001b[0mbackend_compile\u001b[0m\u001b[0;34m(\u001b[0m\u001b[0mbackend\u001b[0m\u001b[0;34m,\u001b[0m \u001b[0mbuilt\u001b[0m\u001b[0;34m,\u001b[0m \u001b[0moptions\u001b[0m\u001b[0;34m)\u001b[0m\u001b[0;34m\u001b[0m\u001b[0;34m\u001b[0m\u001b[0m\n\u001b[0m\u001b[1;32m    735\u001b[0m   \u001b[0;32mif\u001b[0m \u001b[0mnreps\u001b[0m \u001b[0;34m==\u001b[0m \u001b[0;36m1\u001b[0m\u001b[0;34m:\u001b[0m\u001b[0;34m\u001b[0m\u001b[0;34m\u001b[0m\u001b[0m\n\u001b[1;32m    736\u001b[0m     \u001b[0;32mreturn\u001b[0m \u001b[0mpartial\u001b[0m\u001b[0;34m(\u001b[0m\u001b[0m_execute_compiled\u001b[0m\u001b[0;34m,\u001b[0m \u001b[0mcompiled\u001b[0m\u001b[0;34m,\u001b[0m \u001b[0mout_avals\u001b[0m\u001b[0;34m,\u001b[0m \u001b[0mresult_handlers\u001b[0m\u001b[0;34m)\u001b[0m\u001b[0;34m\u001b[0m\u001b[0;34m\u001b[0m\u001b[0m\n",
      "\u001b[0;32m~/anaconda3/envs/pyjax9/lib/python3.8/site-packages/jax/interpreters/xla.py\u001b[0m in \u001b[0;36mbackend_compile\u001b[0;34m(backend, built_c, options)\u001b[0m\n\u001b[1;32m    353\u001b[0m   \u001b[0;31m# we use a separate function call to ensure that XLA compilation appears\u001b[0m\u001b[0;34m\u001b[0m\u001b[0;34m\u001b[0m\u001b[0;34m\u001b[0m\u001b[0m\n\u001b[1;32m    354\u001b[0m   \u001b[0;31m# separately in Python profiling results\u001b[0m\u001b[0;34m\u001b[0m\u001b[0;34m\u001b[0m\u001b[0;34m\u001b[0m\u001b[0m\n\u001b[0;32m--> 355\u001b[0;31m   \u001b[0;32mreturn\u001b[0m \u001b[0mbackend\u001b[0m\u001b[0;34m.\u001b[0m\u001b[0mcompile\u001b[0m\u001b[0;34m(\u001b[0m\u001b[0mbuilt_c\u001b[0m\u001b[0;34m,\u001b[0m \u001b[0mcompile_options\u001b[0m\u001b[0;34m=\u001b[0m\u001b[0moptions\u001b[0m\u001b[0;34m)\u001b[0m\u001b[0;34m\u001b[0m\u001b[0;34m\u001b[0m\u001b[0m\n\u001b[0m\u001b[1;32m    356\u001b[0m \u001b[0;34m\u001b[0m\u001b[0m\n\u001b[1;32m    357\u001b[0m \u001b[0;32mdef\u001b[0m \u001b[0m_execute_compiled_primitive\u001b[0m\u001b[0;34m(\u001b[0m\u001b[0mprim\u001b[0m\u001b[0;34m,\u001b[0m \u001b[0mcompiled\u001b[0m\u001b[0;34m,\u001b[0m \u001b[0mresult_handler\u001b[0m\u001b[0;34m,\u001b[0m \u001b[0;34m*\u001b[0m\u001b[0margs\u001b[0m\u001b[0;34m)\u001b[0m\u001b[0;34m:\u001b[0m\u001b[0;34m\u001b[0m\u001b[0;34m\u001b[0m\u001b[0m\n",
      "\u001b[0;31mRuntimeError\u001b[0m: Resource exhausted: Out of memory while trying to allocate 1296777216 bytes."
     ]
    }
   ],
   "source": [
    "%%time\n",
    "for i in range(1):\n",
    "    rng,fit_rng = jax.random.split(rng)\n",
    "    IMNN.fit(λ=10., ϵ=ϵ, rng=fit_rng, min_iterations=500) #for IMNN, IMNN_rng in zip(IMNNs, IMNN_rngs);\n",
    "    "
   ]
  },
  {
   "cell_type": "code",
   "execution_count": 262,
   "metadata": {},
   "outputs": [
    {
     "data": {
      "text/plain": [
       "DeviceArray(155885.75, dtype=float32)"
      ]
     },
     "execution_count": 262,
     "metadata": {},
     "output_type": "execute_result"
    }
   ],
   "source": [
    "np.linalg.det(IMNN.F)"
   ]
  },
  {
   "cell_type": "code",
   "execution_count": 264,
   "metadata": {},
   "outputs": [
    {
     "data": {
      "image/png": "[encoded data removed]",
      "text/plain": [
       "<Figure size 386.64x238.957 with 1 Axes>"
      ]
     },
     "metadata": {},
     "output_type": "display_data"
    }
   ],
   "source": [
    "plt.plot(IMNN.history['detF'][:])\n",
    "plt.plot(np.ones(len(IMNN.history['detF'][:]))*detF_expected, c='k', linestyle='--')\n",
    "plt.ylim(1e-2, 5e12)\n",
    "plt.ylabel(r'$\\det \\textbf{F}$')\n",
    "plt.xlabel('number of epochs')\n",
    "plt.yscale('log')\n",
    "plt.tight_layout()\n",
    "#plt.savefig('/mnt/home/tmakinen/repositories/field-plots/LN-training-20x20.png', dpi=400)"
   ]
  },
  {
   "cell_type": "code",
   "execution_count": 259,
   "metadata": {},
   "outputs": [
    {
     "data": {
      "image/png": "[encoded data removed]",
      "text/plain": [
       "<Figure size 386.64x238.957 with 1 Axes>"
      ]
     },
     "metadata": {},
     "output_type": "display_data"
    }
   ],
   "source": [
    "plt.plot(IMNN.history['detC'][:])\n",
    "#plt.plot(np.ones(len(IMNN.history['detC'][:]))*detF_expected, c='k', linestyle='--')\n",
    "#plt.ylim(1e-2, 5e12)\n",
    "plt.ylabel(r'$\\det \\textbf{C}$')\n",
    "plt.xlabel('number of epochs')\n",
    "plt.yscale('log')\n",
    "plt.tight_layout()\n",
    "#plt.savefig('/mnt/home/tmakinen/repositories/field-plots/LN-training-20x20.png', dpi=400)"
   ]
  },
  {
   "cell_type": "code",
   "execution_count": 265,
   "metadata": {},
   "outputs": [
    {
     "name": "stdout",
     "output_type": "stream",
     "text": [
      "detF_pred:  264706.2\n",
      "detF_IMNN:  155885.75\n",
      "detF_IMNN / detF_pred :  0.58890104\n"
     ]
    }
   ],
   "source": [
    "detf_imnn = np.linalg.det(IMNN.F)\n",
    "print('detF_pred: ', detF_expected)\n",
    "print('detF_IMNN: ', detf_imnn)\n",
    "print('detF_IMNN / detF_pred : ', detf_imnn / detF_expected)"
   ]
  },
  {
   "cell_type": "markdown",
   "metadata": {},
   "source": [
    "### using IMNN, create sampler that goes $f: \\textbf{d} \\mapsto \\textbf{x}$\n",
    "(outputs summaries via `get_estimate`)"
   ]
  },
  {
   "cell_type": "code",
   "execution_count": 266,
   "metadata": {},
   "outputs": [],
   "source": [
    "@jit #partial(jax.jit, static_argnums=0)\n",
    "def get_estimate(d):\n",
    "    if len(d.shape) == 1:\n",
    "        return IMNN.θ_fid + np.einsum(\n",
    "            \"ij,kj,kl,l->i\",\n",
    "            IMNN.invF,\n",
    "            IMNN.dμ_dθ,\n",
    "            IMNN.invC,\n",
    "            IMNN.model(IMNN.best_w, d, rng=rng) - IMNN.μ)\n",
    "    else:\n",
    "        return IMNN.θ_fid + np.einsum(\n",
    "            \"ij,kj,kl,ml->mi\",\n",
    "            IMNN.invF,\n",
    "            IMNN.dμ_dθ,\n",
    "            IMNN.invC,\n",
    "            IMNN.model(IMNN.w, d, rng=rng) - IMNN.μ)\n"
   ]
  },
  {
   "cell_type": "markdown",
   "metadata": {},
   "source": [
    "### obtain target data from Florent's sims"
   ]
  },
  {
   "cell_type": "code",
   "execution_count": 267,
   "metadata": {},
   "outputs": [
    {
     "name": "stdout",
     "output_type": "stream",
     "text": [
      "/mnt/home/tmakinen/repositories/FieldIMNNs/fields\n"
     ]
    }
   ],
   "source": [
    "cd ~/repositories/FieldIMNNs/fields"
   ]
  },
  {
   "cell_type": "code",
   "execution_count": 268,
   "metadata": {},
   "outputs": [],
   "source": [
    "dataid = 1 # for florent's sims as target data"
   ]
  },
  {
   "cell_type": "code",
   "execution_count": 269,
   "metadata": {},
   "outputs": [],
   "source": [
    "rng, key = jax.random.split(rng)\n",
    "target = dict(\n",
    "    f_NL=None,\n",
    "    α=np.array(1.0),\n",
    "    β=np.array(0.5))\n",
    "\n",
    "dat = np.load(\"correlations_vs_field/data/Sims20_05_10_80_80_500_80_1_123456.npy\")\n",
    "target['f_NL'] = dat[dataid]['field'].flatten()"
   ]
  },
  {
   "cell_type": "code",
   "execution_count": 270,
   "metadata": {},
   "outputs": [
    {
     "data": {
      "text/plain": [
       "<matplotlib.colorbar.Colorbar at 0x154b59aa2040>"
      ]
     },
     "execution_count": 270,
     "metadata": {},
     "output_type": "execute_result"
    },
    {
     "data": {
      "image/png": "[encoded data removed]",
      "text/plain": [
       "<Figure size 386.64x238.957 with 2 Axes>"
      ]
     },
     "metadata": {},
     "output_type": "display_data"
    }
   ],
   "source": [
    "plt.imshow(target[\"f_NL\"].reshape((N, N)))\n",
    "plt.colorbar()"
   ]
  },
  {
   "cell_type": "code",
   "execution_count": 275,
   "metadata": {},
   "outputs": [],
   "source": [
    "# put data in the proper shape for IMNN \n",
    "target_data = np.expand_dims(np.expand_dims(np.expand_dims(np.pad(target[\"f_NL\"].reshape((N, N)), [2,2]), 0), 0), 0)\n",
    "estimates = IMNN.get_estimate(target_data)"
   ]
  },
  {
   "cell_type": "markdown",
   "metadata": {},
   "source": [
    "# prior"
   ]
  },
  {
   "cell_type": "code",
   "execution_count": 276,
   "metadata": {},
   "outputs": [],
   "source": [
    "class uniform:\n",
    "    def __init__(self, low, high):\n",
    "        self.low = np.array(low)\n",
    "        self.high = np.array(high)\n",
    "        self.event_shape = [[] for i in range(self.low.shape[0])]\n",
    "    def sample(self, n=None, seed=None):\n",
    "        if n is None:\n",
    "            n = 1\n",
    "        keys = np.array(jax.random.split(\n",
    "            seed, \n",
    "            num=len(self.event_shape)))\n",
    "        return jax.vmap(\n",
    "            lambda key, low, high : jax.random.uniform(\n",
    "                key, \n",
    "                shape=(n,), \n",
    "                minval=low, \n",
    "                maxval=high))(\n",
    "            keys, self.low, self.high)\n",
    "\n",
    "prior = uniform([0., 0.2], [2., 0.8])"
   ]
  },
  {
   "cell_type": "markdown",
   "metadata": {},
   "source": [
    "# ABC sampler"
   ]
  },
  {
   "cell_type": "code",
   "execution_count": 277,
   "metadata": {},
   "outputs": [],
   "source": [
    "GAs = [GaussianApproximation(IMNN.get_estimate(target_data), IMNN.invF, prior)]"
   ]
  },
  {
   "cell_type": "code",
   "execution_count": 278,
   "metadata": {},
   "outputs": [
    {
     "data": {
      "text/plain": [
       "DeviceArray([0.95, 0.55], dtype=float32)"
      ]
     },
     "execution_count": 278,
     "metadata": {},
     "output_type": "execute_result"
    }
   ],
   "source": [
    "θ_fid"
   ]
  },
  {
   "cell_type": "code",
   "execution_count": 279,
   "metadata": {},
   "outputs": [
    {
     "data": {
      "image/png": "[encoded data removed]",
      "text/plain": [
       "<Figure size 720x720 with 4 Axes>"
      ]
     },
     "metadata": {
      "needs_background": "light"
     },
     "output_type": "display_data"
    }
   ],
   "source": [
    "%matplotlib inline\n",
    "for i, (GA, label) in enumerate(zip(GAs, labels)):\n",
    "    if i == 0:\n",
    "        ax = GA.marginal_plot(\n",
    "            axis_labels=[r\"$\\alpha$\", r\"$\\beta$\"], label='on-the-fly IMNN', colours=\"C{}\".format(i)\n",
    "        )\n",
    "    else:\n",
    "        GA.marginal_plot(ax=ax, label=label, colours=\"C{}\".format(i), ncol=8)"
   ]
  },
  {
   "cell_type": "code",
   "execution_count": 280,
   "metadata": {},
   "outputs": [],
   "source": [
    "ABC = ApproximateBayesianComputation(\n",
    "        target_data, prior, \n",
    "     lambda A,B : imnn_simulator(A,B, simulator_args={**simulator_args, **{'squeeze':False}}), \n",
    "                                       IMNN.get_estimate, F=IMNN.F, gridsize=50\n",
    "    )"
   ]
  },
  {
   "cell_type": "code",
   "execution_count": 281,
   "metadata": {},
   "outputs": [
    {
     "data": {
      "text/plain": [
       "(1, 24, 24)"
      ]
     },
     "execution_count": 281,
     "metadata": {},
     "output_type": "execute_result"
    }
   ],
   "source": [
    "imnn_simulator(key, θ_fid, simulator_args={**simulator_args, **{'squeeze':True}}).shape"
   ]
  },
  {
   "cell_type": "code",
   "execution_count": 282,
   "metadata": {},
   "outputs": [
    {
     "name": "stdout",
     "output_type": "stream",
     "text": [
      "316 accepted in last  20000 iterations  (20000000 simulations done).\n",
      "CPU times: user 9min, sys: 2.77 s, total: 9min 3s\n",
      "Wall time: 9min 7s\n"
     ]
    },
    {
     "data": {
      "text/plain": [
       "(<imnn.utils.container.container at 0x154b59a815e0>,\n",
       " <imnn.utils.container.container at 0x154b59b358b0>,\n",
       " <imnn.utils.container.container at 0x154b784fc0a0>)"
      ]
     },
     "execution_count": 282,
     "metadata": {},
     "output_type": "execute_result"
    }
   ],
   "source": [
    "%%time\n",
    "rng,abc_key = jax.random.split(rng)\n",
    "ABC(rng=abc_key,\n",
    "        n_samples=int(1e3),\n",
    "        min_accepted=15000,\n",
    "        max_iterations=20000,\n",
    "        ϵ=0.05,\n",
    "        smoothing=0.);"
   ]
  },
  {
   "cell_type": "code",
   "execution_count": 283,
   "metadata": {},
   "outputs": [],
   "source": [
    "np.save('./marginals/abc_marginal_field_%d'%(dataid), ABC.parameters.accepted[0])"
   ]
  },
  {
   "cell_type": "code",
   "execution_count": 285,
   "metadata": {},
   "outputs": [
    {
     "data": {
      "text/plain": [
       "array([[<AxesSubplot:>, <AxesSubplot:>],\n",
       "       [<AxesSubplot:>, <AxesSubplot:>]], dtype=object)"
      ]
     },
     "execution_count": 285,
     "metadata": {},
     "output_type": "execute_result"
    },
    {
     "data": {
      "image/png": "[encoded data removed]",
      "text/plain": [
       "<Figure size 720x720 with 4 Axes>"
      ]
     },
     "metadata": {
      "needs_background": "light"
     },
     "output_type": "display_data"
    }
   ],
   "source": [
    "ax = ABC.scatter_plot()\n",
    "GA.marginal_plot(ax=ax)"
   ]
  },
  {
   "cell_type": "code",
   "execution_count": 157,
   "metadata": {},
   "outputs": [
    {
     "data": {
      "text/plain": [
       "1"
      ]
     },
     "execution_count": 157,
     "metadata": {},
     "output_type": "execute_result"
    }
   ],
   "source": [
    "dataid"
   ]
  },
  {
   "cell_type": "code",
   "execution_count": 123,
   "metadata": {},
   "outputs": [],
   "source": [
    "# get comparison to true posterior\n",
    "# prior = uniform([0., 0.2], [2., 0.8])\n",
    "# load marginals from Tom's code\n",
    "size = 250\n",
    "marginal = np.load('./marginals/marginal_field_%d_20x20_field.npy'%(dataid))\n",
    "arr = marginal[~np.isnan(marginal)]\n",
    "inds = np.argsort(arr)[::-1]\n",
    "cdf = np.cumsum(arr[inds] / arr.sum())\n",
    "levels = [arr[inds[np.argmin(np.abs(i - cdf))]] for i in [0.99, 0.95, 0.68, 0.]]\n"
   ]
  },
  {
   "cell_type": "code",
   "execution_count": 128,
   "metadata": {},
   "outputs": [
    {
     "data": {
      "text/plain": [
       "array([[nan,  0.,  0., ..., nan, nan, nan],\n",
       "       [nan,  0.,  0., ..., nan, nan, nan],\n",
       "       [nan,  0.,  0., ..., nan, nan, nan],\n",
       "       ...,\n",
       "       [nan,  0.,  0., ..., nan, nan, nan],\n",
       "       [nan,  0.,  0., ..., nan, nan, nan],\n",
       "       [nan,  0.,  0., ..., nan, nan, nan]])"
      ]
     },
     "execution_count": 128,
     "metadata": {},
     "output_type": "execute_result"
    }
   ],
   "source": [
    "marginal"
   ]
  },
  {
   "cell_type": "code",
   "execution_count": 124,
   "metadata": {
    "collapsed": true,
    "jupyter": {
     "outputs_hidden": true
    }
   },
   "outputs": [
    {
     "ename": "ValueError",
     "evalue": "Contour levels must be increasing",
     "output_type": "error",
     "traceback": [
      "\u001b[0;31m---------------------------------------------------------------------------\u001b[0m",
      "\u001b[0;31mValueError\u001b[0m                                Traceback (most recent call last)",
      "\u001b[0;32m<ipython-input-124-31cc1a396e5f>\u001b[0m in \u001b[0;36m<module>\u001b[0;34m\u001b[0m\n\u001b[1;32m      1\u001b[0m \u001b[0mplt\u001b[0m\u001b[0;34m.\u001b[0m\u001b[0mfigure\u001b[0m\u001b[0;34m(\u001b[0m\u001b[0mfigsize\u001b[0m\u001b[0;34m=\u001b[0m\u001b[0;34m(\u001b[0m\u001b[0;36m10\u001b[0m\u001b[0;34m,\u001b[0m \u001b[0;36m10\u001b[0m\u001b[0;34m)\u001b[0m\u001b[0;34m)\u001b[0m\u001b[0;34m\u001b[0m\u001b[0;34m\u001b[0m\u001b[0m\n\u001b[0;32m----> 2\u001b[0;31m \u001b[0mplt\u001b[0m\u001b[0;34m.\u001b[0m\u001b[0mcontourf\u001b[0m\u001b[0;34m(\u001b[0m\u001b[0mnp\u001b[0m\u001b[0;34m.\u001b[0m\u001b[0mlinspace\u001b[0m\u001b[0;34m(\u001b[0m\u001b[0;36m0.\u001b[0m\u001b[0;34m,\u001b[0m \u001b[0;36m2.\u001b[0m\u001b[0;34m,\u001b[0m \u001b[0msize\u001b[0m\u001b[0;34m)\u001b[0m\u001b[0;34m,\u001b[0m \u001b[0mnp\u001b[0m\u001b[0;34m.\u001b[0m\u001b[0mlinspace\u001b[0m\u001b[0;34m(\u001b[0m\u001b[0;36m0.2\u001b[0m\u001b[0;34m,\u001b[0m \u001b[0;36m0.8\u001b[0m\u001b[0;34m,\u001b[0m \u001b[0msize\u001b[0m\u001b[0;34m)\u001b[0m\u001b[0;34m,\u001b[0m \u001b[0mmarginal\u001b[0m\u001b[0;34m.\u001b[0m\u001b[0mT\u001b[0m\u001b[0;34m,\u001b[0m \u001b[0mlevels\u001b[0m\u001b[0;34m=\u001b[0m\u001b[0mlevels\u001b[0m\u001b[0;34m,\u001b[0m \u001b[0mcmap\u001b[0m\u001b[0;34m=\u001b[0m\u001b[0;34m\"Purples\"\u001b[0m\u001b[0;34m)\u001b[0m\u001b[0;34m\u001b[0m\u001b[0;34m\u001b[0m\u001b[0m\n\u001b[0m\u001b[1;32m      3\u001b[0m \u001b[0mplt\u001b[0m\u001b[0;34m.\u001b[0m\u001b[0mcontour\u001b[0m\u001b[0;34m(\u001b[0m\u001b[0mnp\u001b[0m\u001b[0;34m.\u001b[0m\u001b[0mlinspace\u001b[0m\u001b[0;34m(\u001b[0m\u001b[0;36m0.\u001b[0m\u001b[0;34m,\u001b[0m \u001b[0;36m2.\u001b[0m\u001b[0;34m,\u001b[0m \u001b[0msize\u001b[0m\u001b[0;34m)\u001b[0m\u001b[0;34m,\u001b[0m \u001b[0mnp\u001b[0m\u001b[0;34m.\u001b[0m\u001b[0mlinspace\u001b[0m\u001b[0;34m(\u001b[0m\u001b[0;36m0.2\u001b[0m\u001b[0;34m,\u001b[0m \u001b[0;36m0.8\u001b[0m\u001b[0;34m,\u001b[0m \u001b[0msize\u001b[0m\u001b[0;34m)\u001b[0m\u001b[0;34m,\u001b[0m \u001b[0mmarginal\u001b[0m\u001b[0;34m.\u001b[0m\u001b[0mT\u001b[0m\u001b[0;34m,\u001b[0m \u001b[0mlevels\u001b[0m\u001b[0;34m=\u001b[0m\u001b[0mlevels\u001b[0m\u001b[0;34m,\u001b[0m \u001b[0mlabel\u001b[0m\u001b[0;34m=\u001b[0m\u001b[0;34m'DA'\u001b[0m\u001b[0;34m)\u001b[0m\u001b[0;34m\u001b[0m\u001b[0;34m\u001b[0m\u001b[0m\n\u001b[1;32m      4\u001b[0m \u001b[0mplt\u001b[0m\u001b[0;34m.\u001b[0m\u001b[0mscatter\u001b[0m\u001b[0;34m(\u001b[0m\u001b[0mABC\u001b[0m\u001b[0;34m.\u001b[0m\u001b[0mparameters\u001b[0m\u001b[0;34m.\u001b[0m\u001b[0maccepted\u001b[0m\u001b[0;34m[\u001b[0m\u001b[0;36m0\u001b[0m\u001b[0;34m]\u001b[0m\u001b[0;34m,\u001b[0m \u001b[0mABC\u001b[0m\u001b[0;34m.\u001b[0m\u001b[0mparameters\u001b[0m\u001b[0;34m.\u001b[0m\u001b[0maccepted\u001b[0m\u001b[0;34m[\u001b[0m\u001b[0;36m1\u001b[0m\u001b[0;34m]\u001b[0m\u001b[0;34m)\u001b[0m\u001b[0;34m\u001b[0m\u001b[0;34m\u001b[0m\u001b[0m\n\u001b[1;32m      5\u001b[0m \u001b[0mplt\u001b[0m\u001b[0;34m.\u001b[0m\u001b[0mxlabel\u001b[0m\u001b[0;34m(\u001b[0m\u001b[0;34m\"α\"\u001b[0m\u001b[0;34m)\u001b[0m\u001b[0;34m\u001b[0m\u001b[0;34m\u001b[0m\u001b[0m\n",
      "\u001b[0;32m~/anaconda3/envs/pyjax9/lib/python3.8/site-packages/matplotlib-3.4.1-py3.8-linux-x86_64.egg/matplotlib/pyplot.py\u001b[0m in \u001b[0;36mcontourf\u001b[0;34m(data, *args, **kwargs)\u001b[0m\n\u001b[1;32m   2712\u001b[0m \u001b[0;34m@\u001b[0m\u001b[0m_copy_docstring_and_deprecators\u001b[0m\u001b[0;34m(\u001b[0m\u001b[0mAxes\u001b[0m\u001b[0;34m.\u001b[0m\u001b[0mcontourf\u001b[0m\u001b[0;34m)\u001b[0m\u001b[0;34m\u001b[0m\u001b[0;34m\u001b[0m\u001b[0m\n\u001b[1;32m   2713\u001b[0m \u001b[0;32mdef\u001b[0m \u001b[0mcontourf\u001b[0m\u001b[0;34m(\u001b[0m\u001b[0;34m*\u001b[0m\u001b[0margs\u001b[0m\u001b[0;34m,\u001b[0m \u001b[0mdata\u001b[0m\u001b[0;34m=\u001b[0m\u001b[0;32mNone\u001b[0m\u001b[0;34m,\u001b[0m \u001b[0;34m**\u001b[0m\u001b[0mkwargs\u001b[0m\u001b[0;34m)\u001b[0m\u001b[0;34m:\u001b[0m\u001b[0;34m\u001b[0m\u001b[0;34m\u001b[0m\u001b[0m\n\u001b[0;32m-> 2714\u001b[0;31m     __ret = gca().contourf(\n\u001b[0m\u001b[1;32m   2715\u001b[0m         \u001b[0;34m*\u001b[0m\u001b[0margs\u001b[0m\u001b[0;34m,\u001b[0m \u001b[0;34m**\u001b[0m\u001b[0;34m(\u001b[0m\u001b[0;34m{\u001b[0m\u001b[0;34m\"data\"\u001b[0m\u001b[0;34m:\u001b[0m \u001b[0mdata\u001b[0m\u001b[0;34m}\u001b[0m \u001b[0;32mif\u001b[0m \u001b[0mdata\u001b[0m \u001b[0;32mis\u001b[0m \u001b[0;32mnot\u001b[0m \u001b[0;32mNone\u001b[0m \u001b[0;32melse\u001b[0m \u001b[0;34m{\u001b[0m\u001b[0;34m}\u001b[0m\u001b[0;34m)\u001b[0m\u001b[0;34m,\u001b[0m\u001b[0;34m\u001b[0m\u001b[0;34m\u001b[0m\u001b[0m\n\u001b[1;32m   2716\u001b[0m         **kwargs)\n",
      "\u001b[0;32m~/anaconda3/envs/pyjax9/lib/python3.8/site-packages/matplotlib-3.4.1-py3.8-linux-x86_64.egg/matplotlib/__init__.py\u001b[0m in \u001b[0;36minner\u001b[0;34m(ax, data, *args, **kwargs)\u001b[0m\n\u001b[1;32m   1350\u001b[0m     \u001b[0;32mdef\u001b[0m \u001b[0minner\u001b[0m\u001b[0;34m(\u001b[0m\u001b[0max\u001b[0m\u001b[0;34m,\u001b[0m \u001b[0;34m*\u001b[0m\u001b[0margs\u001b[0m\u001b[0;34m,\u001b[0m \u001b[0mdata\u001b[0m\u001b[0;34m=\u001b[0m\u001b[0;32mNone\u001b[0m\u001b[0;34m,\u001b[0m \u001b[0;34m**\u001b[0m\u001b[0mkwargs\u001b[0m\u001b[0;34m)\u001b[0m\u001b[0;34m:\u001b[0m\u001b[0;34m\u001b[0m\u001b[0;34m\u001b[0m\u001b[0m\n\u001b[1;32m   1351\u001b[0m         \u001b[0;32mif\u001b[0m \u001b[0mdata\u001b[0m \u001b[0;32mis\u001b[0m \u001b[0;32mNone\u001b[0m\u001b[0;34m:\u001b[0m\u001b[0;34m\u001b[0m\u001b[0;34m\u001b[0m\u001b[0m\n\u001b[0;32m-> 1352\u001b[0;31m             \u001b[0;32mreturn\u001b[0m \u001b[0mfunc\u001b[0m\u001b[0;34m(\u001b[0m\u001b[0max\u001b[0m\u001b[0;34m,\u001b[0m \u001b[0;34m*\u001b[0m\u001b[0mmap\u001b[0m\u001b[0;34m(\u001b[0m\u001b[0msanitize_sequence\u001b[0m\u001b[0;34m,\u001b[0m \u001b[0margs\u001b[0m\u001b[0;34m)\u001b[0m\u001b[0;34m,\u001b[0m \u001b[0;34m**\u001b[0m\u001b[0mkwargs\u001b[0m\u001b[0;34m)\u001b[0m\u001b[0;34m\u001b[0m\u001b[0;34m\u001b[0m\u001b[0m\n\u001b[0m\u001b[1;32m   1353\u001b[0m \u001b[0;34m\u001b[0m\u001b[0m\n\u001b[1;32m   1354\u001b[0m         \u001b[0mbound\u001b[0m \u001b[0;34m=\u001b[0m \u001b[0mnew_sig\u001b[0m\u001b[0;34m.\u001b[0m\u001b[0mbind\u001b[0m\u001b[0;34m(\u001b[0m\u001b[0max\u001b[0m\u001b[0;34m,\u001b[0m \u001b[0;34m*\u001b[0m\u001b[0margs\u001b[0m\u001b[0;34m,\u001b[0m \u001b[0;34m**\u001b[0m\u001b[0mkwargs\u001b[0m\u001b[0;34m)\u001b[0m\u001b[0;34m\u001b[0m\u001b[0;34m\u001b[0m\u001b[0m\n",
      "\u001b[0;32m~/anaconda3/envs/pyjax9/lib/python3.8/site-packages/matplotlib-3.4.1-py3.8-linux-x86_64.egg/matplotlib/axes/_axes.py\u001b[0m in \u001b[0;36mcontourf\u001b[0;34m(self, *args, **kwargs)\u001b[0m\n\u001b[1;32m   6411\u001b[0m     \u001b[0;32mdef\u001b[0m \u001b[0mcontourf\u001b[0m\u001b[0;34m(\u001b[0m\u001b[0mself\u001b[0m\u001b[0;34m,\u001b[0m \u001b[0;34m*\u001b[0m\u001b[0margs\u001b[0m\u001b[0;34m,\u001b[0m \u001b[0;34m**\u001b[0m\u001b[0mkwargs\u001b[0m\u001b[0;34m)\u001b[0m\u001b[0;34m:\u001b[0m\u001b[0;34m\u001b[0m\u001b[0;34m\u001b[0m\u001b[0m\n\u001b[1;32m   6412\u001b[0m         \u001b[0mkwargs\u001b[0m\u001b[0;34m[\u001b[0m\u001b[0;34m'filled'\u001b[0m\u001b[0;34m]\u001b[0m \u001b[0;34m=\u001b[0m \u001b[0;32mTrue\u001b[0m\u001b[0;34m\u001b[0m\u001b[0;34m\u001b[0m\u001b[0m\n\u001b[0;32m-> 6413\u001b[0;31m         \u001b[0mcontours\u001b[0m \u001b[0;34m=\u001b[0m \u001b[0mmcontour\u001b[0m\u001b[0;34m.\u001b[0m\u001b[0mQuadContourSet\u001b[0m\u001b[0;34m(\u001b[0m\u001b[0mself\u001b[0m\u001b[0;34m,\u001b[0m \u001b[0;34m*\u001b[0m\u001b[0margs\u001b[0m\u001b[0;34m,\u001b[0m \u001b[0;34m**\u001b[0m\u001b[0mkwargs\u001b[0m\u001b[0;34m)\u001b[0m\u001b[0;34m\u001b[0m\u001b[0;34m\u001b[0m\u001b[0m\n\u001b[0m\u001b[1;32m   6414\u001b[0m         \u001b[0mself\u001b[0m\u001b[0;34m.\u001b[0m\u001b[0m_request_autoscale_view\u001b[0m\u001b[0;34m(\u001b[0m\u001b[0;34m)\u001b[0m\u001b[0;34m\u001b[0m\u001b[0;34m\u001b[0m\u001b[0m\n\u001b[1;32m   6415\u001b[0m         \u001b[0;32mreturn\u001b[0m \u001b[0mcontours\u001b[0m\u001b[0;34m\u001b[0m\u001b[0;34m\u001b[0m\u001b[0m\n",
      "\u001b[0;32m~/anaconda3/envs/pyjax9/lib/python3.8/site-packages/matplotlib-3.4.1-py3.8-linux-x86_64.egg/matplotlib/contour.py\u001b[0m in \u001b[0;36m__init__\u001b[0;34m(self, ax, levels, filled, linewidths, linestyles, hatches, alpha, origin, extent, cmap, colors, norm, vmin, vmax, extend, antialiased, nchunk, locator, transform, *args, **kwargs)\u001b[0m\n\u001b[1;32m    775\u001b[0m         \u001b[0mself\u001b[0m\u001b[0;34m.\u001b[0m\u001b[0m_transform\u001b[0m \u001b[0;34m=\u001b[0m \u001b[0mtransform\u001b[0m\u001b[0;34m\u001b[0m\u001b[0;34m\u001b[0m\u001b[0m\n\u001b[1;32m    776\u001b[0m \u001b[0;34m\u001b[0m\u001b[0m\n\u001b[0;32m--> 777\u001b[0;31m         \u001b[0mkwargs\u001b[0m \u001b[0;34m=\u001b[0m \u001b[0mself\u001b[0m\u001b[0;34m.\u001b[0m\u001b[0m_process_args\u001b[0m\u001b[0;34m(\u001b[0m\u001b[0;34m*\u001b[0m\u001b[0margs\u001b[0m\u001b[0;34m,\u001b[0m \u001b[0;34m**\u001b[0m\u001b[0mkwargs\u001b[0m\u001b[0;34m)\u001b[0m\u001b[0;34m\u001b[0m\u001b[0;34m\u001b[0m\u001b[0m\n\u001b[0m\u001b[1;32m    778\u001b[0m         \u001b[0mself\u001b[0m\u001b[0;34m.\u001b[0m\u001b[0m_process_levels\u001b[0m\u001b[0;34m(\u001b[0m\u001b[0;34m)\u001b[0m\u001b[0;34m\u001b[0m\u001b[0;34m\u001b[0m\u001b[0m\n\u001b[1;32m    779\u001b[0m \u001b[0;34m\u001b[0m\u001b[0m\n",
      "\u001b[0;32m~/anaconda3/envs/pyjax9/lib/python3.8/site-packages/matplotlib-3.4.1-py3.8-linux-x86_64.egg/matplotlib/contour.py\u001b[0m in \u001b[0;36m_process_args\u001b[0;34m(self, corner_mask, *args, **kwargs)\u001b[0m\n\u001b[1;32m   1364\u001b[0m             \u001b[0mself\u001b[0m\u001b[0;34m.\u001b[0m\u001b[0m_corner_mask\u001b[0m \u001b[0;34m=\u001b[0m \u001b[0mcorner_mask\u001b[0m\u001b[0;34m\u001b[0m\u001b[0;34m\u001b[0m\u001b[0m\n\u001b[1;32m   1365\u001b[0m \u001b[0;34m\u001b[0m\u001b[0m\n\u001b[0;32m-> 1366\u001b[0;31m             \u001b[0mx\u001b[0m\u001b[0;34m,\u001b[0m \u001b[0my\u001b[0m\u001b[0;34m,\u001b[0m \u001b[0mz\u001b[0m \u001b[0;34m=\u001b[0m \u001b[0mself\u001b[0m\u001b[0;34m.\u001b[0m\u001b[0m_contour_args\u001b[0m\u001b[0;34m(\u001b[0m\u001b[0margs\u001b[0m\u001b[0;34m,\u001b[0m \u001b[0mkwargs\u001b[0m\u001b[0;34m)\u001b[0m\u001b[0;34m\u001b[0m\u001b[0;34m\u001b[0m\u001b[0m\n\u001b[0m\u001b[1;32m   1367\u001b[0m \u001b[0;34m\u001b[0m\u001b[0m\n\u001b[1;32m   1368\u001b[0m             \u001b[0m_mask\u001b[0m \u001b[0;34m=\u001b[0m \u001b[0mma\u001b[0m\u001b[0;34m.\u001b[0m\u001b[0mgetmask\u001b[0m\u001b[0;34m(\u001b[0m\u001b[0mz\u001b[0m\u001b[0;34m)\u001b[0m\u001b[0;34m\u001b[0m\u001b[0;34m\u001b[0m\u001b[0m\n",
      "\u001b[0;32m~/anaconda3/envs/pyjax9/lib/python3.8/site-packages/matplotlib-3.4.1-py3.8-linux-x86_64.egg/matplotlib/contour.py\u001b[0m in \u001b[0;36m_contour_args\u001b[0;34m(self, args, kwargs)\u001b[0m\n\u001b[1;32m   1434\u001b[0m             \u001b[0m_api\u001b[0m\u001b[0;34m.\u001b[0m\u001b[0mwarn_external\u001b[0m\u001b[0;34m(\u001b[0m\u001b[0;34m'Log scale: values of z <= 0 have been masked'\u001b[0m\u001b[0;34m)\u001b[0m\u001b[0;34m\u001b[0m\u001b[0;34m\u001b[0m\u001b[0m\n\u001b[1;32m   1435\u001b[0m             \u001b[0mself\u001b[0m\u001b[0;34m.\u001b[0m\u001b[0mzmin\u001b[0m \u001b[0;34m=\u001b[0m \u001b[0mfloat\u001b[0m\u001b[0;34m(\u001b[0m\u001b[0mz\u001b[0m\u001b[0;34m.\u001b[0m\u001b[0mmin\u001b[0m\u001b[0;34m(\u001b[0m\u001b[0;34m)\u001b[0m\u001b[0;34m)\u001b[0m\u001b[0;34m\u001b[0m\u001b[0;34m\u001b[0m\u001b[0m\n\u001b[0;32m-> 1436\u001b[0;31m         \u001b[0mself\u001b[0m\u001b[0;34m.\u001b[0m\u001b[0m_process_contour_level_args\u001b[0m\u001b[0;34m(\u001b[0m\u001b[0margs\u001b[0m\u001b[0;34m)\u001b[0m\u001b[0;34m\u001b[0m\u001b[0;34m\u001b[0m\u001b[0m\n\u001b[0m\u001b[1;32m   1437\u001b[0m         \u001b[0;32mreturn\u001b[0m \u001b[0;34m(\u001b[0m\u001b[0mx\u001b[0m\u001b[0;34m,\u001b[0m \u001b[0my\u001b[0m\u001b[0;34m,\u001b[0m \u001b[0mz\u001b[0m\u001b[0;34m)\u001b[0m\u001b[0;34m\u001b[0m\u001b[0;34m\u001b[0m\u001b[0m\n\u001b[1;32m   1438\u001b[0m \u001b[0;34m\u001b[0m\u001b[0m\n",
      "\u001b[0;32m~/anaconda3/envs/pyjax9/lib/python3.8/site-packages/matplotlib-3.4.1-py3.8-linux-x86_64.egg/matplotlib/contour.py\u001b[0m in \u001b[0;36m_process_contour_level_args\u001b[0;34m(self, args)\u001b[0m\n\u001b[1;32m   1117\u001b[0m \u001b[0;34m\u001b[0m\u001b[0m\n\u001b[1;32m   1118\u001b[0m         \u001b[0;32mif\u001b[0m \u001b[0mlen\u001b[0m\u001b[0;34m(\u001b[0m\u001b[0mself\u001b[0m\u001b[0;34m.\u001b[0m\u001b[0mlevels\u001b[0m\u001b[0;34m)\u001b[0m \u001b[0;34m>\u001b[0m \u001b[0;36m1\u001b[0m \u001b[0;32mand\u001b[0m \u001b[0mnp\u001b[0m\u001b[0;34m.\u001b[0m\u001b[0mmin\u001b[0m\u001b[0;34m(\u001b[0m\u001b[0mnp\u001b[0m\u001b[0;34m.\u001b[0m\u001b[0mdiff\u001b[0m\u001b[0;34m(\u001b[0m\u001b[0mself\u001b[0m\u001b[0;34m.\u001b[0m\u001b[0mlevels\u001b[0m\u001b[0;34m)\u001b[0m\u001b[0;34m)\u001b[0m \u001b[0;34m<=\u001b[0m \u001b[0;36m0.0\u001b[0m\u001b[0;34m:\u001b[0m\u001b[0;34m\u001b[0m\u001b[0;34m\u001b[0m\u001b[0m\n\u001b[0;32m-> 1119\u001b[0;31m             \u001b[0;32mraise\u001b[0m \u001b[0mValueError\u001b[0m\u001b[0;34m(\u001b[0m\u001b[0;34m\"Contour levels must be increasing\"\u001b[0m\u001b[0;34m)\u001b[0m\u001b[0;34m\u001b[0m\u001b[0;34m\u001b[0m\u001b[0m\n\u001b[0m\u001b[1;32m   1120\u001b[0m \u001b[0;34m\u001b[0m\u001b[0m\n\u001b[1;32m   1121\u001b[0m     \u001b[0;32mdef\u001b[0m \u001b[0m_process_levels\u001b[0m\u001b[0;34m(\u001b[0m\u001b[0mself\u001b[0m\u001b[0;34m)\u001b[0m\u001b[0;34m:\u001b[0m\u001b[0;34m\u001b[0m\u001b[0;34m\u001b[0m\u001b[0m\n",
      "\u001b[0;31mValueError\u001b[0m: Contour levels must be increasing"
     ]
    },
    {
     "data": {
      "image/png": "[encoded data removed]",
      "text/plain": [
       "<Figure size 720x720 with 1 Axes>"
      ]
     },
     "metadata": {
      "needs_background": "light"
     },
     "output_type": "display_data"
    }
   ],
   "source": [
    "plt.figure(figsize=(10, 10))\n",
    "plt.contourf(np.linspace(0., 2., size), np.linspace(0.2, 0.8, size), marginal.T, levels=levels, cmap=\"Purples\")\n",
    "plt.contour(np.linspace(0., 2., size), np.linspace(0.2, 0.8, size), marginal.T, levels=levels, label='DA')\n",
    "plt.scatter(ABC.parameters.accepted[0], ABC.parameters.accepted[1])\n",
    "plt.xlabel(\"α\")\n",
    "plt.ylabel(\"β\")\n",
    "plt.ylim(0.4, 0.6)\n",
    "plt.xlim(0.5, 1.5)\n",
    "plt.axvline(target[\"α\"], linestyle=\"dashed\", color=\"black\")\n",
    "plt.axhline(target[\"β\"], linestyle=\"dashed\", color=\"black\");\n",
    "#plt.savefig(\"IMNN_vs_BHM_field_%d.svg\"%(dataid), bbox_inches=\"tight\", transparent=True)"
   ]
  },
  {
   "cell_type": "code",
   "execution_count": 393,
   "metadata": {},
   "outputs": [
    {
     "data": {
      "text/plain": [
       "(400,)"
      ]
     },
     "execution_count": 393,
     "metadata": {},
     "output_type": "execute_result"
    }
   ],
   "source": [
    "target['f_NL'].shape"
   ]
  },
  {
   "cell_type": "code",
   "execution_count": 287,
   "metadata": {},
   "outputs": [
    {
     "data": {
      "image/png": "[encoded data removed]",
      "text/plain": [
       "<Figure size 485.28x485.28 with 4 Axes>"
      ]
     },
     "metadata": {
      "needs_background": "light"
     },
     "output_type": "display_data"
    }
   ],
   "source": [
    "%matplotlib inline\n",
    "#plt.style.use('default')\n",
    "new_colors = [ '#2c0342', '#286d87', '#4fb49d', '#9af486']\n",
    "fig,ax = plt.subplots(nrows=2, ncols=2, figsize=(3.37*2, 3.37*2))\n",
    "latexify(fig_width=3.37, fig_height=3.37)\n",
    "\n",
    "ABC.scatter_plot(ax=ax,\n",
    "                      colours=new_colors[0], \n",
    "                      axis_labels=[r\"$\\alpha$\", r\"$\\beta$\"], \n",
    "                      s=8,\n",
    "                      label='ABC estimate')\n",
    "# ABC.marginal_plot(ax=ax,\n",
    "#             axis_labels=[r\"$A$\", r\"$B$\"], colours='green',\n",
    "#             label='ABC marginal plot')\n",
    "\n",
    "\n",
    "GAs[0].marginal_plot(ax=ax, colours=new_colors[2], axis_labels=[r\"$\\alpha$\", r\"$\\beta$\"], label=\"GA\", ncol=1)\n",
    "ax[0,1].imshow(np.squeeze(target_data[0, 0]))\n",
    "\n",
    "#ax[0,1].set_title(r'$\\theta_{\\rm target} = A,B = (%.2f,%.2f)$'%(θ_target[0], θ_target[1]))\n",
    "\n",
    "ax[0,0].axvline(target['α'], linestyle='--', c='k')\n",
    "ax[1,0].axvline(target['α'], linestyle='--', c='k')\n",
    "ax[1,0].axhline(target['β'], linestyle='--', c='k')\n",
    "ax[1,1].axhline(target['β'], linestyle='--', c='k', label=r'$\\theta_{\\rm target}$')\n",
    "\n",
    "ax[1,0].set_xlabel(r'$\\alpha$')\n",
    "ax[1,0].set_ylabel(r'$\\beta$')\n",
    "\n",
    "ax[0,0].axvline(θ_fid[0], linestyle='--', c='k', alpha=0.4)\n",
    "#ax[1,0].contourf(A_range, B_range, L1.reshape((size, size)))\n",
    "#ax[0, 0].plot(A_range, np.real(loglikeA), color='g', label='loglikeA')\n",
    "\n",
    "ax[1,0].axvline(θ_fid[0], linestyle='--', c='k', alpha=0.4)\n",
    "ax[1,0].axhline(θ_fid[1], linestyle='--', c='k', alpha=0.4)\n",
    "ax[1,1].axhline(θ_fid[1], linestyle='--', c='k', alpha=0.4, label=r'$\\theta_{\\rm fid}$')\n",
    "\n",
    "ax[1,1].legend(framealpha=0.)\n",
    "\n",
    "\n",
    "# add in the likelihood estimate\n",
    "# ax[0, 0].plot(A_range, likelihoodA, color='#FF8D33', label=None)\n",
    "# ax[0, 1].axis(\"off\")\n",
    "# ax[1, 0].contour(A_range, B_range, np.real(likelihood), levels=value, colors='#FF8D33')\n",
    "# ax[1, 1].plot(likelihoodB, B_range, color='#FF8D33', label='loglike')\n",
    "\n",
    "ax[0,0].legend(framealpha=0.)\n",
    "\n",
    "#plt.savefig('/mnt/home/tmakinen/repositories/field-plots/LN-20x20-contours.png', dpi=400)\n",
    "#plt.subplots_adjust(wspace=0, hspace=0)\n",
    "plt.show()"
   ]
  },
  {
   "cell_type": "code",
   "execution_count": null,
   "metadata": {},
   "outputs": [],
   "source": [
    "def ConditionalMaskedAutoregressiveFlow(\n",
    "    n_parameters, n_data, n_mades=1, n_hidden=[50,50], input_order=\"random\",\n",
    "    activation=tf.keras.layers.LeakyReLU(0.01), all_layers=True,\n",
    "    kernel_initializer=tf.keras.initializers.RandomNormal(mean=0.0, stddev=1e-5, seed=None), bias_initializer='zeros',\n",
    "    kernel_regularizer=None, bias_regularizer=None, kernel_constraint=None,\n",
    "    bias_constraint=None):\n",
    "    \"\"\"\n",
    "    Conditional Masked Autoregressive Flow.\n",
    "    \"\"\"\n",
    "    if all_layers == True:\n",
    "        all_layers = \"all_layers\"\n",
    "    else:\n",
    "        all_layers = \"first_layer\"\n",
    "    # construct stack of MADEs\n",
    "    MADEs = [tfb.MaskedAutoregressiveFlow(\n",
    "                shift_and_log_scale_fn=tfb.AutoregressiveNetwork(\n",
    "                    params=2,\n",
    "                    hidden_units=n_hidden,\n",
    "                    activation=activation,\n",
    "                    event_shape=[n_data],\n",
    "                    conditional=True,\n",
    "                    conditional_event_shape=[n_parameters],\n",
    "                    conditional_input_layers=all_layers,\n",
    "                    input_order=input_order,\n",
    "                    kernel_initializer=kernel_initializer,\n",
    "                    bias_initializer=bias_initializer,\n",
    "                    kernel_regularizer=kernel_regularizer,\n",
    "                    bias_regularizer=bias_regularizer,\n",
    "                    kernel_constraint=kernel_constraint,\n",
    "                    bias_constraint=bias_constraint),\n",
    "                name=\"MADE_{}\".format(i))\n",
    "             for i in range(n_mades)]\n",
    "    bijector = tfb.Chain(MADEs)\n",
    "    distribution = tfd.TransformedDistribution(\n",
    "        distribution=tfd.Normal(loc=0., scale=1.),\n",
    "        bijector=bijector,\n",
    "        event_shape=[n_data])\n",
    "    put_conditional = lambda conditional : dict(\n",
    "        zip([\"MADE_{}\".format(i) for i in range(n_mades)], \n",
    "            [{\"conditional_input\": tf.convert_to_tensor(conditional, dtype=tf.float32)} for i in range(n_mades)]))\n",
    "    distribution.conditional_log_prob = lambda a, conditional : distribution.log_prob(a, bijector_kwargs=put_conditional(conditional))\n",
    "    distribution.conditional_prob = lambda a, conditional : distribution.prob(a, bijector_kwargs=put_conditional(conditional))\n",
    "    distribution.conditional_sample = lambda a, conditional : distribution.sample(a, bijector_kwargs=put_conditional(conditional))\n",
    "    _ = distribution.conditional_log_prob(np.random.normal(0, 1, (1, n_data)),\n",
    "                                          conditional=np.random.normal(0, 1, (1, n_parameters)))\n",
    "    return distribution"
   ]
  },
  {
   "cell_type": "code",
   "execution_count": null,
   "metadata": {},
   "outputs": [],
   "source": [
    "distribution.log_prob(target, bijector_kwargs=put_conditional(parameters))"
   ]
  }
 ],
 "metadata": {
  "kernelspec": {
   "display_name": "pyjax9",
   "language": "python",
   "name": "pyjax9"
  },
  "language_info": {
   "codemirror_mode": {
    "name": "ipython",
    "version": 3
   },
   "file_extension": ".py",
   "mimetype": "text/x-python",
   "name": "python",
   "nbconvert_exporter": "python",
   "pygments_lexer": "ipython3",
   "version": "3.8.8"
  }
 },
 "nbformat": 4,
 "nbformat_minor": 4
}
