{
  "nbformat": 4,
  "nbformat_minor": 0,
  "metadata": {
    "accelerator": "GPU",
    "colab": {
      "name": "LN x MAF.ipynb",
      "provenance": [],
      "collapsed_sections": []
    },
    "kernelspec": {
      "display_name": "Python 3",
      "name": "python3"
    },
    "language_info": {
      "name": "python"
    }
  },
  "cells": [
    {
      "cell_type": "code",
      "metadata": {
        "colab": {
          "base_uri": "https://localhost:8080/"
        },
        "id": "VZHbTkz02avs",
        "outputId": "9dd718b6-b425-415e-be99-5886c7555159"
      },
      "source": [
        "!pip install -q jax==0.2.11 #jaxlib==0.1.64"
      ],
      "execution_count": null,
      "outputs": [
        {
          "output_type": "stream",
          "text": [
            "\u001b[?25l\r\u001b[K     |▌                               | 10kB 18.3MB/s eta 0:00:01\r\u001b[K     |█                               | 20kB 15.1MB/s eta 0:00:01\r\u001b[K     |█▋                              | 30kB 10.2MB/s eta 0:00:01\r\u001b[K     |██▏                             | 40kB 8.4MB/s eta 0:00:01\r\u001b[K     |██▊                             | 51kB 4.4MB/s eta 0:00:01\r\u001b[K     |███▎                            | 61kB 4.9MB/s eta 0:00:01\r\u001b[K     |███▉                            | 71kB 5.1MB/s eta 0:00:01\r\u001b[K     |████▍                           | 81kB 5.4MB/s eta 0:00:01\r\u001b[K     |█████                           | 92kB 5.5MB/s eta 0:00:01\r\u001b[K     |█████▌                          | 102kB 4.2MB/s eta 0:00:01\r\u001b[K     |██████                          | 112kB 4.2MB/s eta 0:00:01\r\u001b[K     |██████▋                         | 122kB 4.2MB/s eta 0:00:01\r\u001b[K     |███████▏                        | 133kB 4.2MB/s eta 0:00:01\r\u001b[K     |███████▊                        | 143kB 4.2MB/s eta 0:00:01\r\u001b[K     |████████▎                       | 153kB 4.2MB/s eta 0:00:01\r\u001b[K     |████████▉                       | 163kB 4.2MB/s eta 0:00:01\r\u001b[K     |█████████▎                      | 174kB 4.2MB/s eta 0:00:01\r\u001b[K     |█████████▉                      | 184kB 4.2MB/s eta 0:00:01\r\u001b[K     |██████████▍                     | 194kB 4.2MB/s eta 0:00:01\r\u001b[K     |███████████                     | 204kB 4.2MB/s eta 0:00:01\r\u001b[K     |███████████▌                    | 215kB 4.2MB/s eta 0:00:01\r\u001b[K     |████████████                    | 225kB 4.2MB/s eta 0:00:01\r\u001b[K     |████████████▋                   | 235kB 4.2MB/s eta 0:00:01\r\u001b[K     |█████████████▏                  | 245kB 4.2MB/s eta 0:00:01\r\u001b[K     |█████████████▊                  | 256kB 4.2MB/s eta 0:00:01\r\u001b[K     |██████████████▎                 | 266kB 4.2MB/s eta 0:00:01\r\u001b[K     |██████████████▉                 | 276kB 4.2MB/s eta 0:00:01\r\u001b[K     |███████████████▍                | 286kB 4.2MB/s eta 0:00:01\r\u001b[K     |████████████████                | 296kB 4.2MB/s eta 0:00:01\r\u001b[K     |████████████████▌               | 307kB 4.2MB/s eta 0:00:01\r\u001b[K     |█████████████████               | 317kB 4.2MB/s eta 0:00:01\r\u001b[K     |█████████████████▋              | 327kB 4.2MB/s eta 0:00:01\r\u001b[K     |██████████████████▏             | 337kB 4.2MB/s eta 0:00:01\r\u001b[K     |██████████████████▋             | 348kB 4.2MB/s eta 0:00:01\r\u001b[K     |███████████████████▏            | 358kB 4.2MB/s eta 0:00:01\r\u001b[K     |███████████████████▊            | 368kB 4.2MB/s eta 0:00:01\r\u001b[K     |████████████████████▎           | 378kB 4.2MB/s eta 0:00:01\r\u001b[K     |████████████████████▉           | 389kB 4.2MB/s eta 0:00:01\r\u001b[K     |█████████████████████▍          | 399kB 4.2MB/s eta 0:00:01\r\u001b[K     |██████████████████████          | 409kB 4.2MB/s eta 0:00:01\r\u001b[K     |██████████████████████▌         | 419kB 4.2MB/s eta 0:00:01\r\u001b[K     |███████████████████████         | 430kB 4.2MB/s eta 0:00:01\r\u001b[K     |███████████████████████▋        | 440kB 4.2MB/s eta 0:00:01\r\u001b[K     |████████████████████████▏       | 450kB 4.2MB/s eta 0:00:01\r\u001b[K     |████████████████████████▊       | 460kB 4.2MB/s eta 0:00:01\r\u001b[K     |█████████████████████████▎      | 471kB 4.2MB/s eta 0:00:01\r\u001b[K     |█████████████████████████▉      | 481kB 4.2MB/s eta 0:00:01\r\u001b[K     |██████████████████████████▍     | 491kB 4.2MB/s eta 0:00:01\r\u001b[K     |███████████████████████████     | 501kB 4.2MB/s eta 0:00:01\r\u001b[K     |███████████████████████████▌    | 512kB 4.2MB/s eta 0:00:01\r\u001b[K     |████████████████████████████    | 522kB 4.2MB/s eta 0:00:01\r\u001b[K     |████████████████████████████▌   | 532kB 4.2MB/s eta 0:00:01\r\u001b[K     |█████████████████████████████   | 542kB 4.2MB/s eta 0:00:01\r\u001b[K     |█████████████████████████████▋  | 552kB 4.2MB/s eta 0:00:01\r\u001b[K     |██████████████████████████████▏ | 563kB 4.2MB/s eta 0:00:01\r\u001b[K     |██████████████████████████████▊ | 573kB 4.2MB/s eta 0:00:01\r\u001b[K     |███████████████████████████████▎| 583kB 4.2MB/s eta 0:00:01\r\u001b[K     |███████████████████████████████▉| 593kB 4.2MB/s eta 0:00:01\r\u001b[K     |████████████████████████████████| 604kB 4.2MB/s \n",
            "\u001b[?25h  Building wheel for jax (setup.py) ... \u001b[?25l\u001b[?25hdone\n"
          ],
          "name": "stdout"
        }
      ]
    },
    {
      "cell_type": "code",
      "metadata": {
        "id": "DUih31NE0zDC"
      },
      "source": [
        "import jax.numpy as np\n",
        "from jax import grad, jit, vmap\n",
        "from jax import random"
      ],
      "execution_count": null,
      "outputs": []
    },
    {
      "cell_type": "code",
      "metadata": {
        "id": "I0JCnMcH0Wr5"
      },
      "source": [
        "# for model stuff\n",
        "import jax.experimental.optimizers as optimizers\n",
        "import jax.experimental.stax as stax\n",
        "from jax import jit\n",
        "\n",
        "import jax\n",
        "import jax.numpy as np"
      ],
      "execution_count": null,
      "outputs": []
    },
    {
      "cell_type": "code",
      "metadata": {
        "colab": {
          "base_uri": "https://localhost:8080/"
        },
        "id": "eFZmBWTn25Oo",
        "outputId": "83b7d76b-9d2d-4a3c-dfbf-b52f3846697d"
      },
      "source": [
        "from jax.lib import xla_bridge\n",
        "print(xla_bridge.get_backend().platform)"
      ],
      "execution_count": null,
      "outputs": [
        {
          "output_type": "stream",
          "text": [
            "gpu\n"
          ],
          "name": "stdout"
        }
      ]
    },
    {
      "cell_type": "code",
      "metadata": {
        "colab": {
          "base_uri": "https://localhost:8080/"
        },
        "id": "nAIp0H_6wThn",
        "outputId": "3c33988d-ebba-4651-ebc7-959b5caba899"
      },
      "source": [
        "!pip install -q IMNN "
      ],
      "execution_count": null,
      "outputs": [
        {
          "output_type": "stream",
          "text": [
            "\u001b[K     |████████████████████████████████| 133kB 4.4MB/s \n",
            "\u001b[K     |████████████████████████████████| 81kB 5.5MB/s \n",
            "\u001b[?25h"
          ],
          "name": "stdout"
        }
      ]
    },
    {
      "cell_type": "code",
      "metadata": {
        "id": "InFRpQSDySqL"
      },
      "source": [
        "pip uninstall tensorflow -y -q"
      ],
      "execution_count": null,
      "outputs": []
    },
    {
      "cell_type": "code",
      "metadata": {
        "id": "1fLPww3myaKH"
      },
      "source": [
        "pip install -Uq tfp-nightly[jax] > /dev/null"
      ],
      "execution_count": null,
      "outputs": []
    },
    {
      "cell_type": "code",
      "metadata": {
        "colab": {
          "base_uri": "https://localhost:8080/"
        },
        "id": "vZYfqEP1z37c",
        "outputId": "8f21765c-03c2-412f-8555-9ffb5c4133b9"
      },
      "source": [
        "pip install -q tensorflow"
      ],
      "execution_count": null,
      "outputs": [
        {
          "output_type": "stream",
          "text": [
            "\u001b[K     |████████████████████████████████| 454.3MB 31kB/s \n",
            "\u001b[?25h"
          ],
          "name": "stdout"
        }
      ]
    },
    {
      "cell_type": "code",
      "metadata": {
        "colab": {
          "base_uri": "https://localhost:8080/"
        },
        "id": "OnuRhAG4xVWv",
        "outputId": "48c7f006-5dcd-489d-aca7-b2f5773e2460"
      },
      "source": [
        "pip install -q jax-cosmo"
      ],
      "execution_count": null,
      "outputs": [
        {
          "output_type": "stream",
          "text": [
            "\u001b[?25l\r\u001b[K     |█▏                              | 10kB 17.9MB/s eta 0:00:01\r\u001b[K     |██▎                             | 20kB 13.1MB/s eta 0:00:01\r\u001b[K     |███▌                            | 30kB 7.0MB/s eta 0:00:01\r\u001b[K     |████▋                           | 40kB 6.4MB/s eta 0:00:01\r\u001b[K     |█████▉                          | 51kB 4.6MB/s eta 0:00:01\r\u001b[K     |███████                         | 61kB 5.1MB/s eta 0:00:01\r\u001b[K     |████████▏                       | 71kB 5.4MB/s eta 0:00:01\r\u001b[K     |█████████▎                      | 81kB 5.5MB/s eta 0:00:01\r\u001b[K     |██████████▌                     | 92kB 5.3MB/s eta 0:00:01\r\u001b[K     |███████████▋                    | 102kB 4.4MB/s eta 0:00:01\r\u001b[K     |████████████▉                   | 112kB 4.4MB/s eta 0:00:01\r\u001b[K     |██████████████                  | 122kB 4.4MB/s eta 0:00:01\r\u001b[K     |███████████████                 | 133kB 4.4MB/s eta 0:00:01\r\u001b[K     |████████████████▎               | 143kB 4.4MB/s eta 0:00:01\r\u001b[K     |█████████████████▍              | 153kB 4.4MB/s eta 0:00:01\r\u001b[K     |██████████████████▋             | 163kB 4.4MB/s eta 0:00:01\r\u001b[K     |███████████████████▊            | 174kB 4.4MB/s eta 0:00:01\r\u001b[K     |█████████████████████           | 184kB 4.4MB/s eta 0:00:01\r\u001b[K     |██████████████████████          | 194kB 4.4MB/s eta 0:00:01\r\u001b[K     |███████████████████████▎        | 204kB 4.4MB/s eta 0:00:01\r\u001b[K     |████████████████████████▍       | 215kB 4.4MB/s eta 0:00:01\r\u001b[K     |█████████████████████████▋      | 225kB 4.4MB/s eta 0:00:01\r\u001b[K     |██████████████████████████▊     | 235kB 4.4MB/s eta 0:00:01\r\u001b[K     |████████████████████████████    | 245kB 4.4MB/s eta 0:00:01\r\u001b[K     |█████████████████████████████   | 256kB 4.4MB/s eta 0:00:01\r\u001b[K     |██████████████████████████████▏ | 266kB 4.4MB/s eta 0:00:01\r\u001b[K     |███████████████████████████████▍| 276kB 4.4MB/s eta 0:00:01\r\u001b[K     |████████████████████████████████| 286kB 4.4MB/s \n",
            "\u001b[?25h  Building wheel for jax-cosmo (setup.py) ... \u001b[?25l\u001b[?25hdone\n"
          ],
          "name": "stdout"
        }
      ]
    },
    {
      "cell_type": "code",
      "metadata": {
        "colab": {
          "base_uri": "https://localhost:8080/"
        },
        "id": "8Z--dtsUwSG2",
        "outputId": "aac45ed2-cc01-4e03-e7d4-0efab70befdc"
      },
      "source": [
        "import jax\n",
        "print(\"jax version: \", jax.__version__)\n",
        "import jax.numpy as np\n",
        "import tensorflow_probability.substrates.jax as tfp\n",
        "tfd = tfp.distributions\n",
        "tfb = tfp.bijectors\n",
        "import matplotlib.pyplot as plt\n",
        "from scipy.linalg import toeplitz\n",
        "\n",
        "rng = jax.random.PRNGKey(2)\n",
        "\n",
        "import seaborn as sns\n",
        "sns.set()"
      ],
      "execution_count": null,
      "outputs": [
        {
          "output_type": "stream",
          "text": [
            "jax version:  0.2.11\n"
          ],
          "name": "stdout"
        }
      ]
    },
    {
      "cell_type": "code",
      "metadata": {
        "id": "xHs7HoqswSG4"
      },
      "source": [
        "# for model stuff\n",
        "import jax.experimental.optimizers as optimizers\n",
        "import jax.experimental.stax as stax\n",
        "from jax import jit\n",
        "\n",
        "# for imnn\n",
        "import imnn\n",
        "import imnn.lfi\n",
        "\n",
        "#import jax_cosmo as jc\n",
        "import matplotlib.pyplot as plt\n",
        "import tensorflow_probability\n",
        "tfp = tensorflow_probability.substrates.jax\n",
        "rng = jax.random.PRNGKey(0)"
      ],
      "execution_count": null,
      "outputs": []
    },
    {
      "cell_type": "code",
      "metadata": {
        "colab": {
          "base_uri": "https://localhost:8080/"
        },
        "id": "ktD52aUgwSG4",
        "outputId": "d84c1620-664a-4a83-ca52-6d3683dcb88d"
      },
      "source": [
        "from jax.lib import xla_bridge\n",
        "print(xla_bridge.get_backend().platform)"
      ],
      "execution_count": null,
      "outputs": [
        {
          "output_type": "stream",
          "text": [
            "gpu\n"
          ],
          "name": "stdout"
        }
      ]
    },
    {
      "cell_type": "code",
      "metadata": {
        "id": "39wEfDPGwSG5"
      },
      "source": [
        "N=20"
      ],
      "execution_count": null,
      "outputs": []
    },
    {
      "cell_type": "code",
      "metadata": {
        "id": "yleMwl6dwSG5"
      },
      "source": [
        "def scipy_compute_r2(N):\n",
        "    _Di = np.tile(toeplitz(np.arange(N)), (N, N))\n",
        "    _Dj = np.concatenate(\n",
        "        [np.concatenate(\n",
        "            [np.tile(np.abs(i - j),(N, N)) \n",
        "             for i in range(N)], \n",
        "            axis=0)\n",
        "         for j in range(N)],\n",
        "        axis=1)\n",
        "    _distance_squared = _Di * _Di + _Dj * _Dj\n",
        "    return _distance_squared\n",
        "\n",
        "def compute_r2(N):\n",
        "    _r2 = np.tile(np.abs(np.expand_dims(np.arange(N), 0) \n",
        "                    - np.expand_dims(np.arange(N), 1)), (N, N)) ** 2. + np.abs(np.expand_dims(np.repeat(np.arange(N), N), 0) \n",
        "                             - np.expand_dims(np.repeat(np.arange(N), N), 1)) ** 2.\n",
        "    return _r2\n",
        "\n",
        "r2 = compute_r2(N).astype(np.float32)\n",
        "\n",
        "def ξ_G(β):\n",
        "    return np.exp(\n",
        "        -np.expand_dims(r2, tuple(np.arange(β.ndim))) \n",
        "        / 4. / np.expand_dims(β, (-2, -1))**2.)\n",
        "\n",
        "def get_G_field(β):\n",
        "    pass\n",
        "\n",
        "def fill_zeros(k, value):\n",
        "    from functools import partial\n",
        "\n",
        "    def fnk(k):\n",
        "        return jax.lax.cond(np.less_equal(k, 1e-5), lambda _: value, lambda k: k+value, operand=k)\n",
        "\n",
        "    if len(k.shape) == 1:\n",
        "        return jax.vmap(fnk)(k)\n",
        "    else:\n",
        "        return jax.vmap(partial(fill_zeros, value=value))(k)\n",
        "\n",
        "\n",
        "def xi_LN(r, α, β, PixelNoise=0.01):\n",
        "\n",
        "    xi = 1/(np.power(α+1e-12,2)) * (np.exp(np.power(α,2)*np.exp(-0.25*np.power(r/β,2))) - 1)\n",
        "\n",
        "    # Add pixel noise at zero separation:\n",
        "\n",
        "    xi = fill_zeros(xi, PixelNoise**2)\n",
        "    #xi[np.where(r<1e-5)] += PixelNoise**2\n",
        "\n",
        "    return xi"
      ],
      "execution_count": null,
      "outputs": []
    },
    {
      "cell_type": "code",
      "metadata": {
        "id": "WkCmFasvwSG6"
      },
      "source": [
        "def dxi_LN_dalpha(r, α, β):\n",
        "\n",
        "    _deriv =  2/(α+1e-12) * np.exp(-0.25*np.power(r/β,2)) * np.exp(np.power(α,2)*np.exp(-0.25*np.power(r/β,2))) - 2/np.power(α+1e-12,3) * (np.exp(np.power(α,2)*np.exp(-0.25*np.power(r/β,2))) - 1)\n",
        "    return _deriv\n",
        "\n",
        "def dxi_LN_dbeta(r, β, α):\n",
        "\n",
        "    return (0.5*np.power(r, 2) * np.exp(np.power(α, 2) * np.exp(-0.25 * np.power(r/β,2)) - 0.25*np.power(r/β,2)))*np.power(1./β,3)"
      ],
      "execution_count": null,
      "outputs": []
    },
    {
      "cell_type": "code",
      "metadata": {
        "id": "VwGYy3ubwSG6"
      },
      "source": [
        "θ_fid = np.array([1.0, 0.5], dtype='float32')\n",
        "\n",
        "r = np.sqrt(r2)\n",
        "Nsq=N**2"
      ],
      "execution_count": null,
      "outputs": []
    },
    {
      "cell_type": "code",
      "metadata": {
        "id": "3DsEGtxPwSG6"
      },
      "source": [
        "def dξdβ(β):\n",
        "    return 0.5 * r2 *(1./β**3)* np.exp(-0.25 * r2 * (1/β)**2)\n",
        "def known_fisher(θ, Nsq):\n",
        "    α,β = θ\n",
        "    # get covariance\n",
        "    _ξ    = ξ_G(β)\n",
        "    # get derivative\n",
        "    dξ_dβ   = dξdβ(β) \n",
        "    \n",
        "    Cinv = np.linalg.inv(_ξ)        \n",
        "    \n",
        "    # fisher matrix entries\n",
        "    Faa = 2*Nsq / α**2\n",
        "    Fab = (1. / α) * np.trace(Cinv @ dξ_dβ)\n",
        "    Fba = Fab\n",
        "    Fbb = 0.5 * np.trace(Cinv @ dξ_dβ @ Cinv  @ dξ_dβ)\n",
        "\n",
        "    return np.array([[Faa, Fab], [Fba, Fbb]])"
      ],
      "execution_count": null,
      "outputs": []
    },
    {
      "cell_type": "code",
      "metadata": {
        "colab": {
          "base_uri": "https://localhost:8080/"
        },
        "id": "xybYyRTxwSG7",
        "outputId": "700d079d-0de9-419d-8e19-03a4208604ee"
      },
      "source": [
        "f = - known_fisher(θ_fid, Nsq)\n",
        "print(f)\n",
        "\n",
        "analytic_detF = np.linalg.det(f)\n",
        "print(analytic_detF)"
      ],
      "execution_count": null,
      "outputs": [
        {
          "output_type": "stream",
          "text": [
            "[[ -800.      1215.2701]\n",
            " [ 1215.2701 -5815.5664]]\n",
            "3175573.2\n"
          ],
          "name": "stdout"
        }
      ]
    },
    {
      "cell_type": "code",
      "metadata": {
        "id": "kero_r95wSG7"
      },
      "source": [
        "def _f_NL(α, β):\n",
        "    return tfd.TransformedDistribution(\n",
        "      distribution=tfd.MultivariateNormalTriL(\n",
        "          loc=np.zeros((N**2,)),\n",
        "          scale_tril=np.linalg.cholesky(ξ_G(β))),\n",
        "      bijector= tfb.Chain([\n",
        "#           tfb.Exp(),\n",
        "#           tfb.AffineScalar(\n",
        "#               shift=-0.5 * np.expand_dims(α, -1)**2.,\n",
        "#               scale=np.expand_dims(α, -1))]))\n",
        "                tfb.Scale(1. / np.expand_dims(α, (-1))), \n",
        "                tfb.Expm1(),\n",
        "                tfb.AffineScalar(\n",
        "                shift=-0.5 * np.expand_dims(α, -1)**2.,\n",
        "                scale=np.expand_dims(α, -1))]))\n",
        "          \n",
        "\n",
        "def loglike(α, β, key):\n",
        "    f_NL = _f_NL(α, β)\n",
        "    return f_NL.log_prob(f_NL.sample(seed=key))\n",
        "\n",
        "@jax.jit\n",
        "def dlnLdθ(α, β, key):\n",
        "    return jax.grad(loglike, argnums=(0, 1))(α, β, key)\n",
        "\n",
        "def numeric_F(α, β, key, n_samples):\n",
        "    keys = np.array(jax.random.split(key, num=n_samples))\n",
        "    return np.cov(np.array(jax.vmap(dlnLdθ)(np.repeat(α, n_samples), np.repeat(β, n_samples), keys)), rowvar=True)\n"
      ],
      "execution_count": null,
      "outputs": []
    },
    {
      "cell_type": "code",
      "metadata": {
        "colab": {
          "base_uri": "https://localhost:8080/"
        },
        "id": "OjBkQSXywSG7",
        "outputId": "efcb4b5c-eb2e-4302-fa09-a78722320349"
      },
      "source": [
        "rng, key = jax.random.split(rng)\n",
        "_a,_b = θ_fid\n",
        "#F_expected = #np.mean(np.array([numeric_F(np.array(_a), np.array(_b), key, 20)\n",
        "              #                  for i in range(10)\n",
        "               #                   ]), axis=0)\n",
        "\n",
        "F_expected = numeric_F(np.array(_a), np.array(_b), key, 500)\n",
        "detF_expected = np.linalg.det(F_expected)\n",
        "\n",
        "print('expected F: ', F_expected)\n",
        "print('expected det F: ', (detF_expected))"
      ],
      "execution_count": null,
      "outputs": [
        {
          "output_type": "stream",
          "text": [
            "expected F:  [[1131.4912 2208.265 ]\n",
            " [2208.265  4518.899 ]]\n",
            "expected det F:  236660.53\n"
          ],
          "name": "stdout"
        }
      ]
    },
    {
      "cell_type": "code",
      "metadata": {
        "id": "7WPJAfj5wSG8"
      },
      "source": [
        "keys = jax.random.split(rng, num=1000)\n",
        "\n",
        "# Compile a function that computes the Hessian of the likelihood\n",
        "hessian_loglik = jax.jit(jax.hessian(loglike, argnums=(0,1)))\n",
        "\n",
        "# Evalauate the Hessian at fiductial cosmology to retrieve Fisher matrix\n",
        "# This is a bit slow at first....\n",
        "num_f = np.mean(np.array([-np.array(hessian_loglik(_a,_b, k)) for k in keys]), axis=0)"
      ],
      "execution_count": null,
      "outputs": []
    },
    {
      "cell_type": "markdown",
      "metadata": {
        "id": "LKaOrojmwSG8"
      },
      "source": [
        "# define LN class"
      ]
    },
    {
      "cell_type": "code",
      "metadata": {
        "id": "l21ejNnqwSG9"
      },
      "source": [
        "# Define a log_normal field class (Florent's paper -> JAX)\n",
        "class LogNormalField:\n",
        "    @staticmethod\n",
        "    def compute_rsquared(nside):\n",
        "        \"\"\"\n",
        "        Compute the correlation function of the underlying gaussian field\n",
        "        \n",
        "        Parameters:\n",
        "            nside : int\n",
        "                Image is nside x nside pixels\n",
        "        \"\"\"\n",
        "        import jax.numpy as np\n",
        "        from scipy.linalg import toeplitz\n",
        "        \n",
        "        _Di = np.tile(toeplitz(np.arange(nside)),(nside,nside))\n",
        "        _Dj = np.concatenate(\n",
        "                            [np.concatenate(\n",
        "                                            [np.tile(np.abs(i-j),(nside,nside)) for i in range(nside)],\n",
        "                                            axis=0)\n",
        "                            for j in range(nside)],axis=1)\n",
        "        _distance_squared = _Di*_Di+_Dj*_Dj\n",
        "        \n",
        "        return _distance_squared\n",
        "\n",
        "    # The lognormal correlation function where the gaussian field has a gaussian power spectrum,\n",
        "    # and the gaussian correlation function xi_G.\n",
        "\n",
        "    @staticmethod\n",
        "    def xi_G(rsq, beta):\n",
        "        \"\"\"\n",
        "        Calculates the two-point correlation function of a gaussian field with gaussian power spectrum\n",
        "        \n",
        "        Parameters:\n",
        "        \n",
        "        rsq : float\n",
        "            separation^2\n",
        "        beta  : float\n",
        "            Gaussian smoothing width of gaussian field\n",
        "        \"\"\"\n",
        "        import jax.numpy as np\n",
        "        \n",
        "        # ADD IN SIGMA PARAM HERE\n",
        "        \n",
        "        xi = np.exp(-0.25*rsq/(beta**2))\n",
        "            \n",
        "        return xi\n",
        "    \n",
        "    @staticmethod\n",
        "    def fill_zeros(k, value):\n",
        "        from functools import partial\n",
        "        \n",
        "        def fnk(k):\n",
        "            return jax.lax.cond(np.less_equal(k, 1e-5), lambda _: 0., lambda k: k+value, operand=k)\n",
        "\n",
        "        if len(k.shape) == 1:\n",
        "            return jax.vmap(fnk)(k)\n",
        "        else:\n",
        "            return jax.vmap(partial(fill_zeros, value=value))(k)\n",
        "\n",
        "    @staticmethod\n",
        "    def xi_LN(r, beta, alpha, PixelNoise):\n",
        "        \"\"\"\n",
        "        Calculates the lognormal two-point correlation function\n",
        "        \n",
        "        Parameters:\n",
        "        \n",
        "        r : float\n",
        "            Pair separation\n",
        "        beta  : float\n",
        "            Gaussian smoothing width of underlying gaussian field\n",
        "        alpha : float\n",
        "            Nongaussianity parameter in lognormal transformation\n",
        "        PixelNoise : float\n",
        "            Standard deviation of added noise per pixel\n",
        "        \"\"\"\n",
        "        import jax.numpy as np\n",
        "        \n",
        "        xi = 1/(np.power(alpha+1e-12,2)) * (np.exp(np.power(alpha,2)*np.exp(-0.25*np.power(r/beta,2))) - 1)\n",
        "        \n",
        "        # Add pixel noise at zero separation:\n",
        "                \n",
        "        xi = self.fill_zeros(xi, PixelNoise**2)\n",
        "        #xi[np.where(r<1e-5)] += PixelNoise**2\n",
        "        \n",
        "        return xi\n",
        "    \n",
        "    @staticmethod\n",
        "    def dxi_LN_dalpha(r, beta, alpha, PixelNoise):\n",
        "        import jax.numpy as np\n",
        "        \n",
        "        return 2/(alpha+1e-12) * np.exp(-0.25*np.power(r/beta,2)) * np.exp(np.power(alpha,2)*np.exp(-0.25*np.power(r/beta,2))) - 2/np.power(alpha+1e-12,3) * (np.exp(np.power(alpha,2)*np.exp(-0.25*np.power(r/beta,2))) - 1)\n",
        "    \n",
        "    @staticmethod\n",
        "    def dxi_LN_dbeta(r, beta, alpha, PixelNoise):\n",
        "        import jax.numpy as np\n",
        "        \n",
        "        return (0.5*np.power(r,2)/np.power(beta,3)) * np.exp(-0.25*np.power(r/beta,2)) * np.exp(np.power(alpha,2)*np.exp(-0.25*np.power(r/beta,2)))\n",
        "\n",
        "\n",
        "    def __init__(self,Lside,rmax,nbin):\n",
        "        \"\"\"\n",
        "        \n",
        "        Parameters:\n",
        "            rmax : float\n",
        "                Maximum pair separation considered\n",
        "            nbin : int\n",
        "                Number of bins for shell-averaged correlation function\n",
        "        \"\"\"\n",
        "        import jax.numpy as np\n",
        "        \n",
        "        self.rmax       = rmax\n",
        "        self.nbin       = nbin\n",
        "        self.Lside      = Lside\n",
        "\n",
        "        # compute the separations and indices on a grid\n",
        "        self.rsq        = self.compute_rsquared(Lside)\n",
        "        self.r          = np.sqrt(self.rsq)\n",
        "        self.bins       = np.arange(nbin)*rmax/nbin\n",
        "        self.index      = np.digitize(self.r,self.bins)\n",
        "        self.average_r  = np.array([self.r[self.index == n].mean() for n in range(nbin) if np.sum(self.index == n)>0])\n",
        "    \n",
        "    @staticmethod\n",
        "    def G_to_LN(gaussian, alpha):\n",
        "        import jax.numpy as np\n",
        "        \n",
        "        # Make lognormal (variance of gaussian field is unity by construction)\n",
        "        # Divide by 1/alpha so that the signal-to-noise ratio is independent of alpha\n",
        "        return 1./alpha * (np.exp(alpha * gaussian-0.5*alpha**2)-1)\n",
        "    \n",
        "    def run_simulation(self, key, alpha, beta, PixelNoise=None):\n",
        "        \"\"\"\n",
        "        Create a lognormal field from a gaussian field with a Gaussian correlation function\n",
        "        \"\"\"\n",
        "        \n",
        "        # split keys, one for field and one for noise\n",
        "        key1,key2 = jax.random.split(key)\n",
        "        \n",
        "        Lside      = self.Lside\n",
        "        rsq        = self.rsq\n",
        "        \n",
        "        # Compute the Gaussian correlation function\n",
        "        xiG  = self.xi_G(rsq,beta)\n",
        "        \n",
        "        # Compute the Gaussian random field\n",
        "        field = (jax.random.multivariate_normal(key1, np.zeros(Lside*Lside), xiG)).reshape(Lside,Lside) \n",
        "        \n",
        "        # Make lognormal (variance of gaussian field is unity by construction)\n",
        "        field = self.G_to_LN(field, alpha)\n",
        "        \n",
        "        # Add noise\n",
        "        if PixelNoise is not None:\n",
        "            field += jax.random.normal(key2, shape=(Lside,Lside))*np.sqrt(PixelNoise)\n",
        "        \n",
        "        return field\n",
        "    \n",
        "    def pymc3_model(self, field_data, alphamin, alphamax, betamin, betamax, PixelNoise):\n",
        "        import numpy as np\n",
        "        import pymc3 as pm\n",
        "        LN_model = pm.Model()\n",
        "        \n",
        "        Lside              = self.Lside\n",
        "        rsq                = self.rsq\n",
        "        zero               = np.zeros(Lside*Lside)\n",
        "        PixelNoiseVector   = PixelNoise*np.ones(Lside*Lside)\n",
        "        InvNoiseCovariance = np.diag(1/(PixelNoiseVector**2))\n",
        "        field_data         = field_data.reshape(Lside*Lside)\n",
        "\n",
        "        with LN_model:\n",
        "            \n",
        "            # (TLM) TODO: add in μ,σ for full BHM\n",
        "\n",
        "            # Uniform priors for unknown model parameters (alpha,beta):\n",
        "\n",
        "            alpha_p   = pm.Uniform(\"alpha\", lower=alphamin, upper=alphamax)\n",
        "            beta_p    = pm.Uniform(\"beta\",  lower=betamin,  upper=betamax)\n",
        "\n",
        "            # Compute (beta-dependent) gaussian field correlation function:\n",
        "\n",
        "            xi = pm.math.exp(-0.25*rsq/(beta_p*beta_p))\n",
        "\n",
        "            # Gaussian field values are latent variables:\n",
        "            gaussian = pm.MvNormal(\"gaussian\",mu=zero,cov=xi,shape=Lside*Lside)\n",
        "\n",
        "            # Expected value of lognormal field, for given (alpha, beta, gaussian):\n",
        "\n",
        "            muLN = 1/alpha_p * (pm.math.exp(alpha_p * gaussian-0.5*alpha_p*alpha_p)-1)\n",
        "\n",
        "            # Likelihood (sampling distribution) of observations, given the mean lognormal field:\n",
        "\n",
        "            Y_obs = pm.MvNormal(\"Y_obs\", mu=muLN, tau=InvNoiseCovariance, observed=field_data)\n",
        "        \n",
        "        return LN_model\n",
        "    \n",
        "    def run_diff_simulation(self, alpha, beta, PixelNoise, step, seed):\n",
        "        \"\"\"\n",
        "        Run simulations for finite differencing\n",
        "        \"\"\"\n",
        "        import numpy as np\n",
        "        from scipy.stats import multivariate_normal\n",
        "        \n",
        "        Lside      = self.Lside\n",
        "        rsq        = self.rsq\n",
        "        \n",
        "        alphap     = alpha*(1+step)\n",
        "        alpham     = alpha*(1-step)\n",
        "        betap      = beta*(1+step)\n",
        "        betam      = beta*(1-step)\n",
        "        \n",
        "        # Compute the gaussian correlation function\n",
        "        xiG  = self.xi_G(rsq,beta)\n",
        "        xiG_betap = self.xi_G(rsq,betap)\n",
        "        xiG_betam = self.xi_G(rsq,betam)\n",
        "        \n",
        "        # Compute Gaussian random fields with the same phases\n",
        "        Gfield = multivariate_normal(mean=np.zeros(Lside*Lside), cov=xiG).rvs(random_state=seed).reshape(Lside,Lside)\n",
        "        Gfield_betap = multivariate_normal(mean=np.zeros(Lside*Lside), cov=xiG_betap).rvs(random_state=seed).reshape(Lside,Lside)\n",
        "        Gfield_betam = multivariate_normal(mean=np.zeros(Lside*Lside), cov=xiG_betam).rvs(random_state=seed).reshape(Lside,Lside)\n",
        "        \n",
        "        # Make lognormal (variance of gaussian field is unity by construction)\n",
        "        field = self.G_to_LN(Gfield, alpha)\n",
        "        field_betap = self.G_to_LN(Gfield_betap, alpha)\n",
        "        field_betam = self.G_to_LN(Gfield_betam, alpha)\n",
        "        field_alphap = self.G_to_LN(Gfield, alphap)\n",
        "        field_alpham = self.G_to_LN(Gfield, alpham)\n",
        "        \n",
        "        # Add noise\n",
        "        noise = np.random.normal(loc=0.0,scale=PixelNoise,size=(Lside,Lside))\n",
        "        field += noise\n",
        "        field_betap += noise\n",
        "        field_betam += noise\n",
        "        field_alphap += noise\n",
        "        field_alpham += noise\n",
        "        \n",
        "        return field, field_alphap, field_alpham, field_betap, field_betam\n",
        "    \n",
        "    def compute_corrfn(self,field):\n",
        "        \"\"\"\n",
        "        Compute two-point correlation function\n",
        "        \"\"\"       \n",
        "        import numpy as np\n",
        "        \n",
        "        index    = self.index\n",
        "        nbin     = self.nbin\n",
        "        \n",
        "        # compute the correlations\n",
        "        correlations = np.outer(field,field)\n",
        "        corrfn = np.array([correlations[index==n].mean() for n in range(nbin) if len(correlations[index==n])>0])\n",
        "        \n",
        "        return corrfn\n",
        "    \n",
        "    def compute_corrfn_derivatives(self, field, field_alphap, field_alpham, field_betap, field_betam, step):\n",
        "        \"\"\"\n",
        "        Compute derivatives of the two-point correlation function\n",
        "        \"\"\"\n",
        "        \n",
        "        # Compute correlation functions\n",
        "        corrfn         = self.compute_corrfn(field)\n",
        "        corrfn_dalphap = self.compute_corrfn(field_alphap)\n",
        "        corrfn_dalpham = self.compute_corrfn(field_alpham)\n",
        "        corrfn_dbetap  = self.compute_corrfn(field_betap)\n",
        "        corrfn_dbetam  = self.compute_corrfn(field_betam)\n",
        "        \n",
        "        # Compute derivatives by second-order central finite differences\n",
        "        dcorrfn_dalpha = (corrfn_dalpham - 2*corrfn + corrfn_dalphap)/(step**2)\n",
        "        dcorrfn_dbeta  = (corrfn_dbetam  - 2*corrfn + corrfn_dbetap )/(step**2)\n",
        "        \n",
        "        return dcorrfn_dalpha, dcorrfn_dbeta\n",
        "    \n",
        "    def covariance(self,fields):\n",
        "        \"\"\"\n",
        "        Compute covariance from a number of fields\n",
        "        \n",
        "        Parameter:\n",
        "            fields : int\n",
        "                lognormal field objects contributing to the covariance matrix\n",
        "        \"\"\"\n",
        "        import numpy as np\n",
        "        \n",
        "        nsims  = len(fields)\n",
        "        nbins  = self.nonzerobins\n",
        "        \n",
        "        print('Number of simulations',nsims)\n",
        "        print('Number of non-zero pair bins',nbins)\n",
        "        \n",
        "        corrfns = np.array([fields[i]['corrfn'] for i in range(nsims)])\n",
        "        meanxi = np.mean(corrfns,axis=0)\n",
        "        covxi = np.cov(corrfns.T)\n",
        "        \n",
        "        return meanxi, covxi\n",
        "    \n",
        "    # Utility properties\n",
        "    @staticmethod\n",
        "    def var_th(alpha, PixelNoise):\n",
        "        import numpy as np\n",
        "        return 1/np.power(alpha+1e-12,2)*(np.exp(alpha**2)-1)+PixelNoise**2\n",
        "    @staticmethod\n",
        "    def skew_th(alpha):\n",
        "        import numpy as np\n",
        "        return (np.exp(alpha**2)+2)*np.sqrt(np.exp(alpha**2)-1)\n",
        "    @staticmethod\n",
        "    def dskew_dalpha(alpha):\n",
        "        import numpy as np\n",
        "        return 2*alpha*np.exp(alpha**2) * ( np.sqrt(np.exp(alpha**2)-1) - 0.5*(np.exp(alpha**2)+2)/(np.sqrt(np.exp(alpha**2)-1)) )\n",
        "    @staticmethod\n",
        "    def kurtosis_th(alpha):\n",
        "        import numpy as np\n",
        "        return np.exp(4*alpha**2)+2*np.exp(3*alpha**2)+3*np.exp(2*alpha**2)-6\n",
        "    @staticmethod\n",
        "    def dkurtosis_dalpha(alpha):\n",
        "        import numpy as np\n",
        "        return 8*alpha*np.exp(4*alpha**2)+6*alpha*np.exp(3*alpha**2)+6*alpha*np.exp(2*alpha**2)\n",
        "    @staticmethod\n",
        "    def max(field):\n",
        "        import numpy as np\n",
        "        return np.max(field)\n",
        "    @staticmethod\n",
        "    def min(field):\n",
        "        import numpy as np\n",
        "        return np.min(field)\n",
        "    @staticmethod\n",
        "    def var(field):\n",
        "        import numpy as np\n",
        "        return np.var(field)\n",
        "    @staticmethod\n",
        "    def mean(field):\n",
        "        import numpy as np\n",
        "        return np.mean(field)\n",
        "    @staticmethod\n",
        "    def skew(field):\n",
        "        from scipy.stats import skew\n",
        "        return skew(field.flatten())\n",
        "    @staticmethod\n",
        "    def kurtosis(field):\n",
        "        from scipy.stats import kurtosis\n",
        "        return kurtosis(field.flatten())\n",
        "    \n",
        "    # xi has empty bins removed.  Note the number of non-empty elements\n",
        "    @property\n",
        "    def nonzerobins(self):\n",
        "        return len(self.average_r)\n",
        "    \n",
        "    @property\n",
        "    def dt(self):\n",
        "        import numpy as np\n",
        "        return np.dtype([('field', np.float, (self.Lside,self.Lside)), ('corrfn', np.float, (self.nonzerobins))])\n",
        "# end class LogNormalField\n"
      ],
      "execution_count": null,
      "outputs": []
    },
    {
      "cell_type": "markdown",
      "metadata": {
        "id": "4s6xcWcpwSHA"
      },
      "source": [
        "# define simulator"
      ]
    },
    {
      "cell_type": "code",
      "metadata": {
        "id": "UPA7mDHPwSHC"
      },
      "source": [
        "Lside       = N\n",
        "alpha       = 1.0\n",
        "beta        = 0.5\n",
        "PixelNoise  = 0.01\n",
        "\n",
        "\n",
        "# Setup for correlation function\n",
        "nbin        = 4*Lside\n",
        "ndata       = 4*Lside\n",
        "rmax        = Lside*np.sqrt(2)\n",
        "\n",
        "LN=LogNormalField(Lside,rmax,nbin)\n",
        "field = LN.run_simulation(key, 1.0, 0.5, PixelNoise=None)"
      ],
      "execution_count": null,
      "outputs": []
    },
    {
      "cell_type": "code",
      "metadata": {
        "colab": {
          "base_uri": "https://localhost:8080/",
          "height": 286
        },
        "id": "svhQVhg4wSHC",
        "outputId": "6bdea073-05ed-4475-fad3-acdf260fe439"
      },
      "source": [
        "plt.imshow(np.squeeze(field))\n",
        "plt.colorbar()"
      ],
      "execution_count": null,
      "outputs": [
        {
          "output_type": "execute_result",
          "data": {
            "text/plain": [
              "<matplotlib.colorbar.Colorbar at 0x7ff66007c9d0>"
            ]
          },
          "metadata": {
            "tags": []
          },
          "execution_count": 24
        },
        {
          "output_type": "display_data",
          "data": {
            "image/png": "[encoded data removed]",
            "text/plain": [
              "<Figure size 432x288 with 2 Axes>"
            ]
          },
          "metadata": {
            "tags": []
          }
        }
      ]
    },
    {
      "cell_type": "code",
      "metadata": {
        "id": "dXIa2ReswSHC"
      },
      "source": [
        "# simulator args\n",
        "simulator_args = {'N': N, 'squeeze': False, 'pad': 2 }"
      ],
      "execution_count": null,
      "outputs": []
    },
    {
      "cell_type": "code",
      "metadata": {
        "id": "VLR9vctfsQdO"
      },
      "source": [
        "# LN field distribution\n",
        "def _f_NL(α, β):\n",
        "    return tfd.TransformedDistribution(\n",
        "        distribution=tfd.MultivariateNormalTriL(\n",
        "            loc=np.zeros((N**2,)),\n",
        "            scale_tril=np.linalg.cholesky(ξ_G(β))),\n",
        "        bijector=tfb.Chain([\n",
        "            tfb.Scale(1. / np.expand_dims(α, (-1))), \n",
        "            tfb.Expm1(),\n",
        "            tfb.AffineScalar(\n",
        "                shift=-0.5 * np.expand_dims(α, -1)**2.,\n",
        "                scale=np.expand_dims(α, -1))]))\n",
        "\n",
        "\n",
        "# draw from the joint distribution\n",
        "def simulator(rng, n, α, β,):\n",
        "    dist = _f_NL(α, β)\n",
        "    if n is not None:\n",
        "        return dist.sample(n, seed=rng)\n",
        "    else: \n",
        "        return dist.sample(seed=rng)\n",
        "\n",
        "\n",
        "# simulator uses Florent's LN field simulator\n",
        "# wrapper for IMNN and ABC sampler\n",
        "def imnn_simulator(rng, θ, simulator_args=simulator_args):\n",
        "    A,B = θ\n",
        "    N = simulator_args['N']\n",
        "    pad = simulator_args['pad']\n",
        "    #noise = 0.01\n",
        "    def fn(key, A, B):\n",
        "        if simulator_args['squeeze']:\n",
        "            return np.expand_dims(\n",
        "                np.pad(\n",
        "                    #simulator(key, None, A, B).reshape(N,N), \n",
        "                    LN.run_simulation(key, A, B),\n",
        "                    [pad,pad],\n",
        "                    ), \n",
        "                0)\n",
        "\n",
        "        else:\n",
        "            return (np.expand_dims(\n",
        "                        np.expand_dims(\n",
        "                            np.pad(\n",
        "                                #simulator(key, None, A, B).reshape(N,N),\n",
        "                                LN.run_simulation(key, A, B),\n",
        "                                [pad,pad]\n",
        "                                ),  \n",
        "                            0), \n",
        "                0))\n",
        "\n",
        "    if A.shape == B.shape:\n",
        "        if len(A.shape) == 0:\n",
        "            return fn(rng, A, B)\n",
        "        else:\n",
        "            keys = jax.random.split(rng, num=A.shape[0] + 1)\n",
        "            rng = keys[0]\n",
        "            keys = keys[1:]\n",
        "            return jax.vmap(\n",
        "                lambda key, A, B: imnn_simulator(key, (A,B), simulator_args=simulator_args)\n",
        "            )(keys, A, B)\n",
        "    else:\n",
        "        if len(A.shape) > 0:\n",
        "            keys = jax.random.split(rng, num=A.shape[0] + 1)\n",
        "            rng = keys[0]\n",
        "            keys = keys[1:]\n",
        "            return jax.vmap(\n",
        "                lambda key, A: imnn_simulator(key, (A,B), simulator_args=simulator_args)\n",
        "            )(keys, A)\n",
        "        elif len(B.shape) > 0:\n",
        "            keys = jax.random.split(rng, num=B.shape[0])\n",
        "            return jax.vmap(\n",
        "                lambda key, B: imnn_simulator(key, (A,B), simulator_args=simulator_args)\n",
        "            )(keys, B)\n",
        "    "
      ],
      "execution_count": null,
      "outputs": []
    },
    {
      "cell_type": "code",
      "metadata": {
        "colab": {
          "base_uri": "https://localhost:8080/"
        },
        "id": "zGvWoyO4wSHD",
        "outputId": "e0f278f3-7d6f-4cef-993a-b2f20c182b23"
      },
      "source": [
        "pad = 2 #2**2\n",
        "input_shape = (1,1, N+pad*2,N+pad*2)\n",
        "print('input shape: ', input_shape)\n",
        "θ_fid = np.array([0.95, 0.55], dtype=np.float32)\n",
        "\n",
        "\n",
        "# IMNN params\n",
        "n_s = 5000\n",
        "n_d = 5000\n",
        "λ = 100.0\n",
        "ϵ = 0.1\n",
        "\n",
        "n_params = 2\n",
        "n_summaries = 2"
      ],
      "execution_count": null,
      "outputs": [
        {
          "output_type": "stream",
          "text": [
            "input shape:  (1, 1, 24, 24)\n"
          ],
          "name": "stdout"
        }
      ]
    },
    {
      "cell_type": "markdown",
      "metadata": {
        "id": "pfFcLbEq7me5"
      },
      "source": [
        "# nn model stuff"
      ]
    },
    {
      "cell_type": "code",
      "metadata": {
        "id": "FZWOVg-swSHD"
      },
      "source": [
        "# define stax model\n",
        "from jax.nn.initializers import normal\n",
        "def InceptBlock2(filters, strides, do_5x5=True, do_3x3=True, \n",
        "                 padding=\"SAME\", W_init=None):\n",
        "    \"\"\"InceptNet convolutional striding block.\n",
        "    filters: tuple: (f1,f2,f3)\n",
        "    filters1: for conv1x1\n",
        "    filters2: for conv1x1,conv3x3\n",
        "    filters3L for conv1x1,conv5x5\"\"\"\n",
        "    \n",
        "    filters1, filters2, filters3 = filters\n",
        "    \n",
        "    conv1x1 = stax.serial(stax.Conv(filters1, (1,1), strides, padding=padding, W_init=W_init))\n",
        "    \n",
        "    filters4 = filters2\n",
        "    conv3x3 = stax.serial(stax.Conv(filters2, (1,1), strides=None, padding=padding, W_init=W_init),\n",
        "                        stax.Conv(filters4, (3,3), strides, padding=padding, W_init=W_init))\n",
        "                        \n",
        "    filters5 = filters3\n",
        "    conv5x5 = stax.serial(stax.Conv(filters3, (1,1), strides=None, padding=padding, W_init=W_init),\n",
        "                         stax.Conv(filters5, (5,5), strides, padding=padding, W_init=W_init))\n",
        "\n",
        "    maxpool = stax.serial(stax.MaxPool((3,3), padding=padding),\n",
        "                         stax.Conv(filters4, (1,1), strides, padding=padding, W_init=W_init))\n",
        "                            \n",
        "    if do_3x3:\n",
        "        if do_5x5:\n",
        "            return stax.serial(\n",
        "                  stax.FanOut(4),  # should num=3 or 2 here ?\n",
        "                  stax.parallel(conv1x1, conv3x3, conv5x5, maxpool),\n",
        "                  stax.FanInConcat(), \n",
        "                  stax.LeakyRelu)\n",
        "        else:\n",
        "            return stax.serial(\n",
        "                  stax.FanOut(3),  # should num=3 or 2 here ?\n",
        "                  stax.parallel(conv1x1, conv3x3, maxpool),\n",
        "                  stax.FanInConcat(), \n",
        "                  stax.LeakyRelu)\n",
        "            \n",
        "    else:\n",
        "        return stax.serial(\n",
        "              stax.FanOut(2),  # should num=3 or 2 here ?\n",
        "              stax.parallel(conv1x1, maxpool),\n",
        "              stax.FanInConcat(), \n",
        "              stax.LeakyRelu)\n",
        "    \n",
        "    \n",
        "def Reshape(newshape):\n",
        "    \"\"\"Layer function for a reshape layer.\"\"\"\n",
        "    init_fun = lambda rng, input_shape: (newshape,())\n",
        "    apply_fun = lambda params, inputs, **kwargs: np.reshape(inputs,newshape)\n",
        "    return init_fun, apply_fun\n",
        "\n",
        "\n",
        "from jax.nn.initializers import glorot_normal, normal, ones, zeros\n",
        "\n",
        "\n",
        "def LogLayer(a_init=ones, b_init=ones,\n",
        "              c_init=ones, d_init=ones, C=3., scalar=True):\n",
        "    \"\"\"custom layer for log-normalizing field inputs\"\"\"\n",
        "    _a_init = lambda rng,shape: a_init(rng, shape)\n",
        "    _b_init = lambda rng,shape: b_init(rng, shape)\n",
        "    _c_init = lambda rng,shape: c_init(rng, shape)\n",
        "    _d_init = lambda rng,shape: d_init(rng, shape)\n",
        "    \n",
        "    def init_fun(rng, input_shape):\n",
        "        \n",
        "        if scalar:\n",
        "            shape = ()\n",
        "        else:\n",
        "            shape = input_shape \n",
        "    \n",
        "        k1, rng = jax.random.split(rng)\n",
        "        k2, rng = jax.random.split(rng)\n",
        "        k3, rng = jax.random.split(rng)\n",
        "        k4, rng = jax.random.split(rng)\n",
        "        a,b = _a_init(k1, shape), _b_init(k2, shape)\n",
        "        c,d = _c_init(k3, shape)*C, _d_init(k4, shape)\n",
        "        return input_shape, (a,b,c,d)\n",
        "\n",
        "    def apply_fun(params, inputs, **kwargs):\n",
        "        a,b,c,d = params\n",
        "        \n",
        "        return a * np.log(np.abs(b)*inputs + c) + d\n",
        "    \n",
        "    return init_fun, apply_fun\n",
        "\n",
        "\n",
        "\n",
        "def AsinhLayer(a_init=ones, b_init=ones,\n",
        "              c_init=ones, d_init=ones, scalar=True):\n",
        "    \"\"\"custom layer for Asinh-normalizing field inputs\"\"\"\n",
        "    _a_init = lambda rng,shape: a_init(rng, shape)\n",
        "    _b_init = lambda rng,shape: b_init(rng, shape)\n",
        "    _c_init = lambda rng,shape: c_init(rng, shape)\n",
        "    _d_init = lambda rng,shape: d_init(rng, shape)\n",
        "    def init_fun(rng, input_shape):\n",
        "        if scalar:\n",
        "            shape = ()\n",
        "        else:\n",
        "            shape = input_shape \n",
        "        k1, rng = jax.random.split(rng)\n",
        "        k2, rng = jax.random.split(rng)\n",
        "        k3, rng = jax.random.split(rng)\n",
        "        k4, rng = jax.random.split(rng)\n",
        "        a,b = _a_init(k1, shape), _b_init(k2, shape)\n",
        "        c,d = _c_init(k3, shape), _d_init(k4, shape)\n",
        "        return input_shape, np.stack((a,b,c,d), 0)\n",
        "    def apply_fun(params, inputs, **kwargs):\n",
        "        a,b,c,d = params\n",
        "        return a * np.arcsinh(b*inputs + c) + d\n",
        "    return init_fun, apply_fun\n",
        "\n",
        "def ScalarLayer(C=None, c_init=ones):\n",
        "    \"\"\"Layer construction function for a reshape layer.\"\"\"\n",
        "    \n",
        "    if C is None:\n",
        "        C = 1.0\n",
        "    \n",
        "    _c_init = lambda rng,shape: c_init(rng, shape)*C\n",
        "    \n",
        "    def init_fun(rng, input_shape):\n",
        "        shape = input_shape\n",
        "        k1, rng = jax.random.split(rng)\n",
        "        constant = _c_init(k1, shape)\n",
        "        return input_shape, (constant)\n",
        "\n",
        "    def apply_fun(params, inputs, **kwargs):\n",
        "        cnst = params\n",
        "        return inputs*cnst\n",
        "    \n",
        "    \n",
        "    return init_fun, apply_fun\n",
        "\n"
      ],
      "execution_count": null,
      "outputs": []
    },
    {
      "cell_type": "markdown",
      "metadata": {
        "id": "ZvEbn2rw7qR8"
      },
      "source": [
        "# build model"
      ]
    },
    {
      "cell_type": "code",
      "metadata": {
        "id": "AvoGSWPzwSHE"
      },
      "source": [
        "# build model\n",
        "# build model\n",
        "fs = 128\n",
        "\n",
        "model = stax.serial(\n",
        "        AsinhLayer(scalar=True),\n",
        "        InceptBlock2((fs,fs,fs), strides=(1,1)),\n",
        "        InceptBlock2((fs,fs,fs), strides=(2,2)),\n",
        "        #InceptBlock2((fs,fs,fs), strides=(1,1)),\n",
        "        InceptBlock2((fs,fs,fs), strides=(2,2)),\n",
        "        #InceptBlock2((fs,fs,fs), strides=(1,1)),\n",
        "        InceptBlock2((fs,fs,fs), strides=(2,2), do_5x5=False),\n",
        "        #InceptBlock2((fs,fs,fs), strides=(1,1), do_5x5=False),\n",
        "        InceptBlock2((fs,fs,fs), strides=(3,3), do_5x5=False, do_3x3=False),  # add in dense layers here ?\n",
        "        stax.Dense(50),\n",
        "        stax.LeakyRelu,\n",
        "        stax.Dense(50),\n",
        "        stax.LeakyRelu,\n",
        "        stax.Dense(n_summaries),\n",
        "        #stax.Conv(n_summaries, (1,1), strides=(1,1), padding=\"SAME\"),\n",
        "        stax.Flatten,\n",
        "        Reshape((n_summaries,))\n",
        ")\n",
        "\n",
        "\n",
        "\n",
        "# # build model\n",
        "# fs = 150\n",
        "\n",
        "# model = stax.serial(\n",
        "#         AsinhLayer(scalar=True),\n",
        "#         # stax.Flatten,\n",
        "#         # stax.Dense(400),\n",
        "#         # stax.LeakyRelu,\n",
        "#         # stax.Dense(400),\n",
        "#         # stax.LeakyRelu,\n",
        "#         # Reshape((1,1,20,20)),\n",
        "#         #InceptBlock2((fs,fs,fs), strides=(1,1)),\n",
        "#         InceptBlock2((fs,fs,fs), strides=(2,2)),\n",
        "#         InceptBlock2((fs,fs,fs), strides=(2,2)),\n",
        "#         InceptBlock2((fs,fs,fs), strides=(5,5), do_5x5=False),\n",
        "#         #InceptBlock2((fs,fs,fs), strides=(2,2), do_5x5=False),\n",
        "#         #InceptBlock2((fs,fs,fs), strides=(3,3), do_5x5=False, do_3x3=False),  # add in dense layers here ?\n",
        "#         stax.Flatten,\n",
        "#         stax.Dense(fs),\n",
        "#         stax.LeakyRelu,\n",
        "#         stax.Dense(fs),\n",
        "#         stax.LeakyRelu,\n",
        "#         stax.Dense(n_summaries),\n",
        "#         stax.Flatten,\n",
        "#         Reshape((n_summaries,))\n",
        "# )"
      ],
      "execution_count": null,
      "outputs": []
    },
    {
      "cell_type": "code",
      "metadata": {
        "id": "wUadYA-LwSHE"
      },
      "source": [
        "rng, initial_model_key = jax.random.split(rng)\n",
        "rng, fitting_key = jax.random.split(rng)"
      ],
      "execution_count": null,
      "outputs": []
    },
    {
      "cell_type": "code",
      "metadata": {
        "id": "8uvCwAekwSHE"
      },
      "source": [
        "optimiser = optimizers.adam(step_size=1e-3)"
      ],
      "execution_count": null,
      "outputs": []
    },
    {
      "cell_type": "code",
      "metadata": {
        "id": "KMGog4cTREIe"
      },
      "source": [
        "# adam w learn rate decay\n",
        "batch_size = 1\n",
        "num_batches = 2000\n",
        "\n",
        "optimiser = optimizers.adam(\n",
        "    lambda t: np.select([t < batch_size*(num_batches//3),\n",
        "                          t < batch_size*(2*num_batches//3),\n",
        "                          t > batch_size*(2*num_batches//3)],\n",
        "                         [1e-3, 3e-4, 1e-4]))"
      ],
      "execution_count": null,
      "outputs": []
    },
    {
      "cell_type": "code",
      "metadata": {
        "colab": {
          "base_uri": "https://localhost:8080/"
        },
        "id": "OXj1RDt9wSHE",
        "outputId": "16f159ca-8840-465a-ef2b-01917799cc65"
      },
      "source": [
        "rng, key = jax.random.split(rng)\n",
        "IMNN = imnn.IMNN(\n",
        "        n_s=2000,\n",
        "        n_d=2000,\n",
        "        n_params=n_params,\n",
        "        n_summaries=n_summaries,\n",
        "        input_shape=input_shape,\n",
        "        θ_fid=θ_fid,\n",
        "        model=model,\n",
        "        optimiser=optimiser,\n",
        "        key_or_state=key,\n",
        "        simulator=lambda rng, θ: imnn_simulator(\n",
        "            rng, θ, simulator_args={**simulator_args, **{\"squeeze\": False}}),\n",
        "        #host=jax.devices()[0],\n",
        "        #devices=[jax.devices()[0]],\n",
        "        #n_per_device=1000\n",
        "        )"
      ],
      "execution_count": null,
      "outputs": [
        {
          "output_type": "stream",
          "text": [
            "`simulator` provided, using SimulatorIMNN\n"
          ],
          "name": "stdout"
        }
      ]
    },
    {
      "cell_type": "code",
      "metadata": {
        "id": "zT6qBb7OwSHF",
        "colab": {
          "base_uri": "https://localhost:8080/"
        },
        "outputId": "71227cd5-1cd3-4757-de23-e8b659aafe69"
      },
      "source": [
        "%%time\n",
        "rng, key = jax.random.split(rng)\n",
        "IMNN.fit(λ=10., ϵ=0.1, rng=key, print_rate=None, min_iterations=7000, best=True)"
      ],
      "execution_count": null,
      "outputs": [
        {
          "output_type": "stream",
          "text": [
            "CPU times: user 3h 21min 40s, sys: 9.5 s, total: 3h 21min 50s\n",
            "Wall time: 3h 20min 53s\n"
          ],
          "name": "stdout"
        }
      ]
    },
    {
      "cell_type": "markdown",
      "metadata": {
        "id": "jQy5VG1-jPKK"
      },
      "source": [
        ""
      ]
    },
    {
      "cell_type": "code",
      "metadata": {
        "id": "Q6KagFISZag7"
      },
      "source": [
        ""
      ],
      "execution_count": null,
      "outputs": []
    },
    {
      "cell_type": "code",
      "metadata": {
        "colab": {
          "base_uri": "https://localhost:8080/",
          "height": 883
        },
        "id": "fGfwLHvWwSHF",
        "outputId": "a5248358-1a78-4054-a2ae-d6c6524e1c11"
      },
      "source": [
        "ax = IMNN.plot(expected_detF=detF_expected)\n",
        "ax[0].set_yscale('log')"
      ],
      "execution_count": null,
      "outputs": [
        {
          "output_type": "display_data",
          "data": {
            "image/png": "[encoded data removed]",
            "text/plain": [
              "<Figure size 360x1080 with 4 Axes>"
            ]
          },
          "metadata": {
            "tags": []
          }
        }
      ]
    },
    {
      "cell_type": "code",
      "metadata": {
        "id": "DZuaYdFR3VXH"
      },
      "source": [
        "import cloudpickle as pickle\n",
        "import os\n",
        "\n",
        "def save_weights(IMNN, folder_name='./model', weights='final'):\n",
        "    \n",
        "    # create output directory\n",
        "    if not os.path.exists(folder_name): \n",
        "        os.mkdir(folder_name)\n",
        "    \n",
        "    def pckl_me(obj, path):\n",
        "        with open(path, 'wb') as file_pi:\n",
        "            pickle.dump(obj, file_pi)\n",
        "        file_pi.close()\n",
        "        \n",
        "    # save IMNN (optimiser) state:\n",
        "    savestate = jax.experimental.optimizers.unpack_optimizer_state(IMNN.state)\n",
        "    pckl_me(savestate, os.path.join(folder_name, 'IMNN_state'))\n",
        "    \n",
        "    # save weights\n",
        "    if weights == 'final':\n",
        "        np.save(os.path.join(folder_name, 'final_w'), IMNN.final_w)\n",
        "    \n",
        "    else:\n",
        "        np.save(os.path.join(folder_name, 'best_w'), IMNN.best_w)\n",
        "        \n",
        "    # save initial weights\n",
        "    np.save(os.path.join(folder_name, 'initial_w'), IMNN.initial_w)\n",
        "        \n",
        "    # save training history\n",
        "    pckl_me(IMNN.history, os.path.join(folder_name, 'history'))\n",
        "    \n",
        "    # save important attributes as a dict\n",
        "    imnn_attributes = {\n",
        "        'n_s': IMNN.n_s,\n",
        "        'n_d': IMNN.n_d,\n",
        "        'input_shape': IMNN.input_shape,\n",
        "        'n_params' : IMNN.n_params,            \n",
        "        'n_summaries': IMNN.n_summaries,\n",
        "        'θ_fid': IMNN.θ_fid,\n",
        "        'F': IMNN.F,   \n",
        "        'invF': IMNN.invF,\n",
        "        'C': IMNN.C,\n",
        "        'invC': IMNN.invC,\n",
        "        'validate': IMNN.validate,\n",
        "        'simulate': IMNN.simulate,\n",
        "        \n",
        "    }\n",
        "    \n",
        "    pckl_me(imnn_attributes, os.path.join(folder_name, 'IMNN_attributes'))\n",
        "    \n",
        "    print('saved weights and attributes to the file ', folder_name)\n",
        "    \n",
        "    \n",
        "def load_weights(IMNN, folder_name='./model', weights='final', load_attributes=True):\n",
        "    \n",
        "    \n",
        "    def unpckl_me(path):\n",
        "        file = open(path, 'rb')\n",
        "        return pickle.load(file)\n",
        "    \n",
        "    # load and assign weights\n",
        "    if weights=='final':\n",
        "        weights = np.load(os.path.join(folder_name, 'final_w.npy'),  allow_pickle=True)\n",
        "        IMNN.final_w = weights\n",
        "    else:\n",
        "        weights = np.load(os.path.join(folder_name, 'best_w.npy'),  allow_pickle=True)\n",
        "        IMNN.best_w = weights\n",
        "        \n",
        "    # re-pack and load the optimiser state\n",
        "    loadstate = unpckl_me(os.path.join(folder_name, 'IMNN_state'))\n",
        "    IMNN.state = jax.experimental.optimizers.pack_optimizer_state(loadstate)\n",
        "    \n",
        "    \n",
        "    # load history\n",
        "    IMNN.history = unpckl_me(os.path.join(folder_name, 'history'))\n",
        "    \n",
        "    # load important attributes\n",
        "    if load_attributes:\n",
        "        IMNN.intial_w =  np.load(os.path.join(folder_name, 'initial_w.npy'), allow_pickle=True)\n",
        "        attributes = unpckl_me(os.path.join(folder_name, 'IMNN_attributes'))\n",
        "        IMNN.θ_fid = attributes['θ_fid']\n",
        "        IMNN.n_s = attributes['n_s']\n",
        "        IMNN.n_d = attributes['n_d']\n",
        "        IMNN.input_shape = attributes['input_shape']\n",
        "        IMNN.F = attributes['F']\n",
        "        IMNN.invF = attributes['invF']\n",
        "        IMNN.C = attributes['C']\n",
        "        IMNN.invC = attributes['invC']\n",
        "        \n",
        "    print('loaded IMNN with these attributes: ', attributes)\n",
        "    "
      ],
      "execution_count": null,
      "outputs": []
    },
    {
      "cell_type": "code",
      "metadata": {
        "colab": {
          "base_uri": "https://localhost:8080/"
        },
        "id": "WFB-OisA3wIy",
        "outputId": "e9c1dd40-d49a-4675-dc9d-b3a5f307a0c9"
      },
      "source": [
        "save_weights(IMNN, folder_name='./big-LN-incept', weights='best')"
      ],
      "execution_count": null,
      "outputs": [
        {
          "output_type": "stream",
          "text": [
            "saved weights and attributes to the file  ./big-LN-incept\n"
          ],
          "name": "stdout"
        },
        {
          "output_type": "stream",
          "text": [
            "/usr/local/lib/python3.7/dist-packages/numpy/core/_asarray.py:136: VisibleDeprecationWarning: Creating an ndarray from ragged nested sequences (which is a list-or-tuple of lists-or-tuples-or ndarrays with different lengths or shapes) is deprecated. If you meant to do this, you must specify 'dtype=object' when creating the ndarray\n",
            "  return array(a, dtype, copy=False, order=order, subok=True)\n"
          ],
          "name": "stderr"
        }
      ]
    },
    {
      "cell_type": "code",
      "metadata": {
        "colab": {
          "base_uri": "https://localhost:8080/",
          "height": 153
        },
        "id": "5NyoLX1F9xlJ",
        "outputId": "32e8c8db-4c37-4def-c043-b0f8adef5f10"
      },
      "source": [
        "!zip -r /content/big-LN-incept.zip /content/big-LN-incept\n",
        "\n",
        "from google.colab import files\n",
        "files.download(\"/content/big-LN-incept.zip\")"
      ],
      "execution_count": null,
      "outputs": [
        {
          "output_type": "stream",
          "text": [
            "  adding: content/big-LN-incept/ (stored 0%)\n",
            "  adding: content/big-LN-incept/final_w.npy (deflated 7%)\n",
            "  adding: content/big-LN-incept/best_w.npy (deflated 7%)\n",
            "  adding: content/big-LN-incept/IMNN_attributes (deflated 30%)\n",
            "  adding: content/big-LN-incept/history (deflated 13%)\n",
            "  adding: content/big-LN-incept/IMNN_state (deflated 38%)\n",
            "  adding: content/big-LN-incept/initial_w.npy (deflated 8%)\n"
          ],
          "name": "stdout"
        },
        {
          "output_type": "display_data",
          "data": {
            "application/javascript": [
              "\n",
              "    async function download(id, filename, size) {\n",
              "      if (!google.colab.kernel.accessAllowed) {\n",
              "        return;\n",
              "      }\n",
              "      const div = document.createElement('div');\n",
              "      const label = document.createElement('label');\n",
              "      label.textContent = `Downloading \"${filename}\": `;\n",
              "      div.appendChild(label);\n",
              "      const progress = document.createElement('progress');\n",
              "      progress.max = size;\n",
              "      div.appendChild(progress);\n",
              "      document.body.appendChild(div);\n",
              "\n",
              "      const buffers = [];\n",
              "      let downloaded = 0;\n",
              "\n",
              "      const channel = await google.colab.kernel.comms.open(id);\n",
              "      // Send a message to notify the kernel that we're ready.\n",
              "      channel.send({})\n",
              "\n",
              "      for await (const message of channel.messages) {\n",
              "        // Send a message to notify the kernel that we're ready.\n",
              "        channel.send({})\n",
              "        if (message.buffers) {\n",
              "          for (const buffer of message.buffers) {\n",
              "            buffers.push(buffer);\n",
              "            downloaded += buffer.byteLength;\n",
              "            progress.value = downloaded;\n",
              "          }\n",
              "        }\n",
              "      }\n",
              "      const blob = new Blob(buffers, {type: 'application/binary'});\n",
              "      const a = document.createElement('a');\n",
              "      a.href = window.URL.createObjectURL(blob);\n",
              "      a.download = filename;\n",
              "      div.appendChild(a);\n",
              "      a.click();\n",
              "      div.remove();\n",
              "    }\n",
              "  "
            ],
            "text/plain": [
              "<IPython.core.display.Javascript object>"
            ]
          },
          "metadata": {
            "tags": []
          }
        },
        {
          "output_type": "display_data",
          "data": {
            "application/javascript": [
              "download(\"download_bff24896-13bf-4a36-8299-e22297d28eac\", \"big-LN-incept.zip\", 49598856)"
            ],
            "text/plain": [
              "<IPython.core.display.Javascript object>"
            ]
          },
          "metadata": {
            "tags": []
          }
        }
      ]
    },
    {
      "cell_type": "code",
      "metadata": {
        "colab": {
          "base_uri": "https://localhost:8080/"
        },
        "id": "ZrOZaFBowSHF",
        "outputId": "e626ceb7-9b63-4bd0-c257-48d80818137d"
      },
      "source": [
        "np.linalg.det(IMNN.F) / detF_expected"
      ],
      "execution_count": null,
      "outputs": [
        {
          "output_type": "execute_result",
          "data": {
            "text/plain": [
              "DeviceArray(0.692845, dtype=float32)"
            ]
          },
          "metadata": {
            "tags": []
          },
          "execution_count": 38
        }
      ]
    },
    {
      "cell_type": "markdown",
      "metadata": {
        "id": "bvVVb_M1wSHF"
      },
      "source": [
        "# obtain target data from Florent's analysis"
      ]
    },
    {
      "cell_type": "code",
      "metadata": {
        "id": "Picx_SVQ4AcM"
      },
      "source": [
        "!git clone https://github.com/florent-leclercq/correlations_vs_field.git"
      ],
      "execution_count": null,
      "outputs": []
    },
    {
      "cell_type": "code",
      "metadata": {
        "id": "wkAASh6bwSHF"
      },
      "source": [
        "dataid = 1 # for florent's sims as target data"
      ],
      "execution_count": null,
      "outputs": []
    },
    {
      "cell_type": "code",
      "metadata": {
        "id": "8JeG2PPHwSHG"
      },
      "source": [
        "rng, key = jax.random.split(rng)\n",
        "target = dict(\n",
        "    f_NL=None,\n",
        "    α=np.array(1.0),\n",
        "    β=np.array(0.5))\n",
        "\n",
        "dat = np.load(\"./correlations_vs_field/data/Sims20_05_10_80_80_500_80_1_123456.npy\")\n",
        "target['f_NL'] = dat[dataid]['field'].flatten()"
      ],
      "execution_count": null,
      "outputs": []
    },
    {
      "cell_type": "code",
      "metadata": {
        "id": "yh64L3KLwSHG",
        "outputId": "fe45343e-2ca8-4c0d-c3da-f210daf72a3f"
      },
      "source": [
        "plt.imshow(target[\"f_NL\"].reshape((N, N)))\n",
        "plt.colorbar()"
      ],
      "execution_count": null,
      "outputs": [
        {
          "output_type": "execute_result",
          "data": {
            "text/plain": [
              "<matplotlib.colorbar.Colorbar at 0x154f389681f0>"
            ]
          },
          "metadata": {
            "tags": []
          },
          "execution_count": 51
        },
        {
          "output_type": "display_data",
          "data": {
            "image/png": "[encoded data removed]",
            "text/plain": [
              "<Figure size 432x288 with 2 Axes>"
            ]
          },
          "metadata": {
            "tags": []
          }
        }
      ]
    },
    {
      "cell_type": "code",
      "metadata": {
        "id": "nrSmf7oEwSHG",
        "outputId": "e0c7b386-d9b1-4aa8-8b5b-ae6c11728c95"
      },
      "source": [
        "target['f_NL'].shape"
      ],
      "execution_count": null,
      "outputs": [
        {
          "output_type": "execute_result",
          "data": {
            "text/plain": [
              "(400,)"
            ]
          },
          "metadata": {
            "tags": []
          },
          "execution_count": 52
        }
      ]
    },
    {
      "cell_type": "code",
      "metadata": {
        "id": "lEyZg_JCwSHG"
      },
      "source": [
        "# put data in the proper shape for IMNN \n",
        "θ_target = np.array([1.0, 0.5])\n",
        "δ_target = np.expand_dims(np.expand_dims(np.expand_dims(np.pad(target[\"f_NL\"].reshape((N, N)), [2,2]), 0), 0),0)\n",
        "estimates = IMNN.get_estimate(target_data)"
      ],
      "execution_count": null,
      "outputs": []
    },
    {
      "cell_type": "markdown",
      "metadata": {
        "id": "CwsHioZhwSHG"
      },
      "source": [
        "# priors"
      ]
    },
    {
      "cell_type": "code",
      "metadata": {
        "id": "H3TUatT4wSHH"
      },
      "source": [
        "import tensorflow as tf\n",
        "import tensorflow_probability as tfp\n",
        "tfd = tfp.distributions\n",
        "tfb = tfp.bijectors\n",
        "\n",
        "import tensorflow_probability.substrates.jax as tfpj\n",
        "tfdj = tfpj.distributions\n",
        "tfbj = tfpj.bijectors\n",
        "\n",
        "import tensorflow.keras.backend as K"
      ],
      "execution_count": null,
      "outputs": []
    },
    {
      "cell_type": "code",
      "metadata": {
        "id": "o40nejFLwSHH"
      },
      "source": [
        "# prior for sim draws in jax\n",
        "prior = tfpj.distributions.Blockwise(\n",
        "    [tfpj.distributions.Uniform(low=low, high=high)\n",
        "     for low, high in zip([0.4, 0.2], [1.5, 0.8])])\n",
        "prior.low = np.array([0.4, 0.2])\n",
        "prior.high = np.array([1.5, 0.8])\n",
        "\n",
        "\n",
        "\n",
        "# set up prior in non-jax tfp\n",
        "samp_prior = tfp.distributions.Blockwise(\n",
        "    [tfp.distributions.Uniform(low=low, high=high)\n",
        "     for low, high in zip([0.4, 0.2], [1.5, 0.8])])\n",
        "prior.low = np.array([0.4, 0.2])\n",
        "prior.high = np.array([1.5, 0.8])"
      ],
      "execution_count": null,
      "outputs": []
    },
    {
      "cell_type": "code",
      "metadata": {
        "id": "IJlx5c4DwSHH"
      },
      "source": [
        "GA = imnn.lfi.GaussianApproximation(\n",
        "    parameter_estimates=estimates, \n",
        "    invF=np.expand_dims(np.linalg.inv(IMNN.F), 0), \n",
        "    prior=prior, \n",
        "    gridsize=100)"
      ],
      "execution_count": null,
      "outputs": []
    },
    {
      "cell_type": "markdown",
      "metadata": {
        "id": "pAKcDObUwSHH"
      },
      "source": [
        "### initialize ABC"
      ]
    },
    {
      "cell_type": "code",
      "metadata": {
        "id": "ZP62ymTXwSHH"
      },
      "source": [
        "ABC = imnn.lfi.ApproximateBayesianComputation(\n",
        "    target_data=target_data,\n",
        "    prior=prior,\n",
        "    simulator=lambda rng, θ : imnn_simulator(rng, θ, simulator_args={**simulator_args, **{'squeeze':False}}),\n",
        "    compressor=IMNN.get_estimate,\n",
        "    gridsize=100, \n",
        "    F=np.expand_dims(IMNN.F, 0))"
      ],
      "execution_count": null,
      "outputs": []
    },
    {
      "cell_type": "code",
      "metadata": {
        "id": "inys3BUGwSHH"
      },
      "source": [
        "from tqdm import trange\n",
        "import numpy as onp\n",
        "\n",
        "def affine_sample(log_prob, n_params, n_walkers, n_steps, walkers1, walkers2):\n",
        "    \n",
        "    # initialize current state\n",
        "    current_state1 = tf.Variable(walkers1)\n",
        "    current_state2 = tf.Variable(walkers2)\n",
        "    \n",
        "\n",
        "    # initial target log prob for the walkers (and set any nans to -inf)...\n",
        "    logp_current1 = log_prob(current_state1)\n",
        "    logp_current2 = log_prob(current_state2)\n",
        "    logp_current1 = tf.where(tf.math.is_nan(logp_current1), tf.ones_like(logp_current1)*tf.math.log(0.), logp_current1)\n",
        "    logp_current2 = tf.where(tf.math.is_nan(logp_current2), tf.ones_like(logp_current2)*tf.math.log(0.), logp_current2)\n",
        "\n",
        "    # holder for the whole chain\n",
        "    chain = [tf.concat([current_state1, current_state2], axis=0)]\n",
        "    \n",
        "    # MCMC loop\n",
        "    with trange(1, n_steps) as t:\n",
        "        for epoch in t:\n",
        "\n",
        "            # first set of walkers:\n",
        "\n",
        "            # proposals\n",
        "            partners1 = tf.gather(current_state2, onp.random.randint(0, n_walkers, n_walkers))\n",
        "            z1 = 0.5*(tf.random.uniform([n_walkers], minval=0, maxval=1)+1)**2\n",
        "            proposed_state1 = partners1 + tf.transpose(z1*tf.transpose(current_state1 - partners1))\n",
        "            \n",
        "\n",
        "            # target log prob at proposed points\n",
        "            logp_proposed1 = log_prob(proposed_state1)\n",
        "            logp_proposed1 = tf.where(tf.math.is_nan(logp_proposed1), tf.ones_like(logp_proposed1)*tf.math.log(0.), logp_proposed1)\n",
        "\n",
        "            # acceptance probability\n",
        "            p_accept1 = tf.math.minimum(tf.ones(n_walkers), z1**(n_params-1)*tf.exp(logp_proposed1 - logp_current1) )\n",
        "\n",
        "            # accept or not\n",
        "            accept1_ = (tf.random.uniform([n_walkers], minval=0, maxval=1) <= p_accept1)\n",
        "            accept1 = tf.cast(accept1_, tf.float32)\n",
        "\n",
        "            # update the state\n",
        "            current_state1 = tf.transpose( tf.transpose(current_state1)*(1-accept1) + tf.transpose(proposed_state1)*accept1)\n",
        "            logp_current1 = tf.where(accept1_, logp_proposed1, logp_current1)\n",
        "\n",
        "            # second set of walkers:\n",
        "\n",
        "            # proposals\n",
        "            partners2 = tf.gather(current_state1, onp.random.randint(0, n_walkers, n_walkers))\n",
        "            z2 = 0.5*(tf.random.uniform([n_walkers], minval=0, maxval=1)+1)**2\n",
        "            proposed_state2 = partners2 + tf.transpose(z2*tf.transpose(current_state2 - partners2))\n",
        "\n",
        "            # target log prob at proposed points\n",
        "            logp_proposed2 = log_prob(proposed_state2)\n",
        "            logp_proposed2 = tf.where(tf.math.is_nan(logp_proposed2), tf.ones_like(logp_proposed2)*tf.math.log(0.), logp_proposed2)\n",
        "\n",
        "            # acceptance probability\n",
        "            p_accept2 = tf.math.minimum(tf.ones(n_walkers), z2**(n_params-1)*tf.exp(logp_proposed2 - logp_current2) )\n",
        "\n",
        "            # accept or not\n",
        "            accept2_ = (tf.random.uniform([n_walkers], minval=0, maxval=1) <= p_accept2)\n",
        "            accept2 = tf.cast(accept2_, tf.float32)\n",
        "\n",
        "            # update the state\n",
        "            current_state2 = tf.transpose( tf.transpose(current_state2)*(1-accept2) + tf.transpose(proposed_state2)*accept2)\n",
        "            logp_current2 = tf.where(accept2_, logp_proposed2, logp_current2)\n",
        "\n",
        "            # append to chain\n",
        "            chain.append(tf.concat([current_state1, current_state2], axis=0))\n",
        "\n",
        "    # stack up the chain\n",
        "    chain = tf.stack(chain, axis=0)\n",
        "    \n",
        "    return chain\n"
      ],
      "execution_count": null,
      "outputs": []
    },
    {
      "cell_type": "code",
      "metadata": {
        "id": "m8Uk8VupwSHI"
      },
      "source": [
        "class ConditionalMaskedAutoregressiveFlow(tf.Module):\n",
        "    def __init__(self, n_dimensions=None, n_conditionals=None, n_mades=1, n_hidden=[50,50], input_order=\"random\",\n",
        "    activation=tf.keras.layers.LeakyReLU(0.01), \n",
        "    all_layers=True,\n",
        "    kernel_initializer=tf.keras.initializers.RandomNormal(mean=0.0, stddev=1e-5, seed=None), \n",
        "    bias_initializer=tf.keras.initializers.RandomNormal(mean=0.0, stddev=1e-5, seed=None),\n",
        "    kernel_regularizer=None, bias_regularizer=None, kernel_constraint=None,\n",
        "    bias_constraint=None):\n",
        "        super(ConditionalMaskedAutoregressiveFlow, self).__init__()\n",
        "        # extract init parameters\n",
        "        self.n_dimensions = n_dimensions\n",
        "        self.n_conditionals = n_conditionals\n",
        "        self.n_mades = n_mades\n",
        "        # construct the base (normal) distribution\n",
        "        self.base_distribution = tfd.MultivariateNormalDiag(loc=tf.zeros(self.n_dimensions), scale_diag=tf.ones(self.n_dimensions))\n",
        "        # put the conditional inputs to all layers, or just the first layer?\n",
        "        if all_layers == True:\n",
        "            all_layers = \"all_layers\"\n",
        "        else:\n",
        "            all_layers = \"first_layer\"\n",
        "        # construct stack of conditional MADEs\n",
        "        self.MADEs = [tfb.AutoregressiveNetwork(\n",
        "                        params=2,\n",
        "                        hidden_units=n_hidden,\n",
        "                        activation=activation,\n",
        "                        event_shape=[n_dimensions],\n",
        "                        conditional=True,\n",
        "                        conditional_event_shape=[n_conditionals],\n",
        "                        conditional_input_layers=all_layers,\n",
        "                        input_order=input_order,\n",
        "                        kernel_initializer=kernel_initializer,\n",
        "                        bias_initializer=bias_initializer,\n",
        "                        kernel_regularizer=kernel_regularizer,\n",
        "                        bias_regularizer=bias_regularizer,\n",
        "                        kernel_constraint=kernel_constraint,\n",
        "                        bias_constraint=bias_constraint,\n",
        "                        name=\"MADE_{}\".format(i)) for i in range(n_mades)]\n",
        "    # bijector for x | y (chain the conditional MADEs together)\n",
        "    def bijector(self, y):\n",
        "        # start with an empty bijector\n",
        "        MAF = tfb.Identity() \n",
        "        # pass through the MADE layers (passing conditional inputs each time)\n",
        "        for i in range(self.n_mades):\n",
        "            MAF = tfb.MaskedAutoregressiveFlow(shift_and_log_scale_fn=lambda x: self.MADEs[i](x, conditional_input=y))(MAF)\n",
        "        return MAF\n",
        "    # construct distribution P(x | y)\n",
        "    def __call__(self, y):\n",
        "        return tfd.TransformedDistribution(\n",
        "            self.base_distribution,\n",
        "            bijector=self.bijector(y))\n",
        "    # log probability ln P(x | y)\n",
        "    def log_prob(self, x, y):\n",
        "        return self.__call__(y).log_prob(x)\n",
        "    # sample n samples from P(x | y)\n",
        "    def sample(self, n, y):\n",
        "        # base samples\n",
        "        base_samples = self.base_distribution.sample(n)\n",
        "        # biject the samples\n",
        "        return self.bijector(y).forward(base_samples)"
      ],
      "execution_count": null,
      "outputs": []
    },
    {
      "cell_type": "code",
      "metadata": {
        "id": "G71X1g9wwSHI"
      },
      "source": [
        "num_models = 2\n",
        "cmaf_models = [ConditionalMaskedAutoregressiveFlow(n_dimensions=2, \n",
        "                                                   n_conditionals=2, n_hidden=[50,50,50]) for i in range(num_models)]\n",
        "\n",
        "cmaf_models += [ConditionalMaskedAutoregressiveFlow(n_dimensions=2, \n",
        "                                                    n_conditionals=2, n_hidden=[50,50]) for i in range(2)]"
      ],
      "execution_count": null,
      "outputs": []
    },
    {
      "cell_type": "code",
      "metadata": {
        "id": "JU50wJLlwSHI"
      },
      "source": [
        "maf_optimizers = [tf.keras.optimizers.Adam(learning_rate=1e-3) for i in range(len(cmaf_models))]"
      ],
      "execution_count": null,
      "outputs": []
    },
    {
      "cell_type": "code",
      "metadata": {
        "id": "ATdGEmqLwSHI"
      },
      "source": [
        "@tf.function\n",
        "def train_step(x, y):\n",
        "    _ls = []\n",
        "    for m in range(len(cmaf_models)):\n",
        "        with tf.GradientTape() as tape:\n",
        "            _l = K.mean(-cmaf_models[m].log_prob(x, y) - samp_prior.log_prob(y))\n",
        "            _ls.append(_l)\n",
        "        \n",
        "        grads = tape.gradient(_l, cmaf_models[m].trainable_variables)\n",
        "        maf_optimizers[m].apply_gradients(zip(grads, cmaf_models[m].trainable_variables))\n",
        "        #train_acc_metric.update_state(y, logits)\n",
        "    return _ls\n",
        "\n",
        "@tf.function\n",
        "def val_step(x, y):\n",
        "    _val_l = []\n",
        "    for m in range(len(cmaf_models)):\n",
        "        _val_l.append(K.mean(-cmaf_models[m].log_prob(x, y) - samp_prior.log_prob(y)))\n",
        "    return _val_l\n",
        "\n",
        "@tf.function\n",
        "def loss(x, y):\n",
        "    return K.mean(-cmaf_model.log_prob(x, y))"
      ],
      "execution_count": null,
      "outputs": []
    },
    {
      "cell_type": "code",
      "metadata": {
        "id": "LiBirh8wwSHI"
      },
      "source": [
        "# create dataset for this demo\n",
        "\n",
        "num_sims = 1000\n",
        "\n",
        "keys = jax.random.split(rng, num=num_sims)\n",
        "\n",
        "def get_params_summaries(key, n_samples, ϑ_samp):\n",
        "    keys = np.array(jax.random.split(key, num=n_samples))\n",
        "    sim = lambda rng, θ: imnn_simulator(\n",
        "            rng, θ, simulator_args={\n",
        "                **simulator_args, \n",
        "                **{\"squeeze\": False}})\n",
        "    d = jax.vmap(sim)(keys, ϑ_samp)\n",
        "    \n",
        "    t = IMNN.get_estimate(d)\n",
        "    \n",
        "    t1 = t.flatten()[~np.isnan(t.flatten())]\n",
        "    ϑ_samp = ϑ_samp.flatten()[~np.isnan(t.flatten())]\n",
        "    \n",
        "    # scale all summaries\n",
        "    t1 = t1.reshape((len(t1)//2, 2))\n",
        "    \n",
        "    #_tstd = np.std(t1, axis=0)\n",
        "    #_tmu = np.mean(t1, axis=0)\n",
        "    \n",
        "    #t1 = (t1 - _tmu) / _tstd\n",
        "    \n",
        "    # return x,y; e.g. t and ϑ (conditional)\n",
        "    # learn p(x | y) = p(t | ϑ)\n",
        "    return t1, ϑ_samp.reshape(len(ϑ_samp)//2, 2) #, _tmu, _tstd\n",
        "\n",
        "\n",
        "def get_dataset(data, batch_size=20, buffer_size=1000, split=0.75):\n",
        "    x,y = data\n",
        "\n",
        "\n",
        "    idx = int(len(x)*split)\n",
        "    x_train = x[:idx]\n",
        "    y_train = y[:idx]  \n",
        "    x_val = x[idx:]\n",
        "    y_val = y[idx:]\n",
        "\n",
        "    # Prepare the training dataset.\n",
        "    train_dataset = tf.data.Dataset.from_tensor_slices((x_train, y_train))\n",
        "    train_dataset = train_dataset.shuffle(buffer_size=buffer_size).batch(batch_size)\n",
        "\n",
        "    # Prepare the validation dataset.\n",
        "    val_dataset = tf.data.Dataset.from_tensor_slices((x_val, y_val))\n",
        "    val_dataset = val_dataset.batch(batch_size)\n",
        "    \n",
        "    return train_dataset, val_dataset\n",
        "\n",
        "def proposal_distribution(prior, MAF):\n",
        "    \"\"\"return geometric mean of proposal distribution\"\"\"\n",
        "    \n",
        "    \n",
        "    "
      ],
      "execution_count": null,
      "outputs": []
    },
    {
      "cell_type": "code",
      "metadata": {
        "id": "kC-ypJO7wSHJ"
      },
      "source": [
        "n_samples = 1000\n",
        "batch_size = 100\n",
        "buffer_size = n_samples\n",
        "key1,key2 = jax.random.split(rng)\n",
        "\n",
        "ϑ_samp = prior.sample(sample_shape=(n_samples,), seed=key1)\n",
        "ts, ϑ_samp = get_params_summaries(key2, n_samples, ϑ_samp)\n",
        "data = (ts, ϑ_samp)"
      ],
      "execution_count": null,
      "outputs": []
    },
    {
      "cell_type": "code",
      "metadata": {
        "id": "Hzu4v4NQwSHJ"
      },
      "source": [
        "train_dataset, val_dataset = get_dataset(data, batch_size=batch_size, buffer_size=buffer_size)"
      ],
      "execution_count": null,
      "outputs": []
    },
    {
      "cell_type": "code",
      "metadata": {
        "id": "XBxsvMTDwSHJ",
        "outputId": "79cf1aaa-5015-4e5d-b13d-0ccb64b3da87"
      },
      "source": [
        "import time\n",
        "from tqdm import tqdm\n",
        "\n",
        "epochs = 2000\n",
        "\n",
        "train_losses = []\n",
        "val_losses = []\n",
        "\n",
        "\n",
        "for epoch in tqdm(range(epochs)):\n",
        "    #print(\"\\nStart of epoch %d\" % (epoch,))\n",
        "    start_time = time.time()\n",
        "\n",
        "\n",
        "    # shuffle training data anew every 100th epoch\n",
        "    if epoch % 100 == 0:\n",
        "        train_dataset = train_dataset.shuffle(buffer_size=buffer_size)\n",
        "\n",
        "\n",
        "    # Iterate over the batches of the dataset.\n",
        "    for step, (x_batch_train, y_batch_train) in enumerate(train_dataset):\n",
        "        loss_values = np.array(train_step(x_batch_train, y_batch_train))\n",
        "\n",
        "    train_losses.append(loss_values)\n",
        "\n",
        "\n",
        "    # Run a validation loop at the end of each epoch.\n",
        "    for x_batch_val, y_batch_val in val_dataset:\n",
        "        val_loss = np.array(val_step(x_batch_val, y_batch_val))\n",
        "\n",
        "    val_losses.append(val_loss)"
      ],
      "execution_count": null,
      "outputs": [
        {
          "output_type": "stream",
          "text": [
            "100%|██████████| 2000/2000 [00:57<00:00, 34.70it/s]\n"
          ],
          "name": "stderr"
        }
      ]
    },
    {
      "cell_type": "code",
      "metadata": {
        "id": "e1GRqVT1wSHJ",
        "outputId": "accc85e5-7219-4a6f-e101-2c537bc37154"
      },
      "source": [
        "import seaborn as sns\n",
        "%matplotlib inline\n",
        "\n",
        "sns.set_theme()\n",
        "plt.figure(figsize=(8,3.5))\n",
        "plt.subplot(131)\n",
        "plt.plot(np.array(train_losses).T[0], label='train')\n",
        "plt.plot(np.array(val_losses).T[0], label='val')\n",
        "plt.ylabel(r'$p(t\\ |\\ \\vartheta, w)$')\n",
        "\n",
        "plt.subplot(132)\n",
        "plt.plot(np.array(train_losses).T[1], label='train')\n",
        "plt.plot(np.array(val_losses).T[1], label='val')\n",
        "plt.ylabel(r'$p(t\\ |\\ \\vartheta, w)$')\n",
        "\n",
        "plt.subplot(133)\n",
        "plt.plot(np.array(train_losses).T[4], label='train')\n",
        "plt.plot(np.array(val_losses).T[4], label='val')\n",
        "plt.ylabel(r'$p(t\\ |\\ \\vartheta, w)$')\n",
        "plt.legend()\n",
        "\n",
        "plt.tight_layout()\n",
        "plt.show()"
      ],
      "execution_count": null,
      "outputs": [
        {
          "output_type": "display_data",
          "data": {
            "image/png": "[encoded data removed]",
            "text/plain": [
              "<Figure size 576x252 with 3 Axes>"
            ]
          },
          "metadata": {
            "tags": []
          }
        }
      ]
    },
    {
      "cell_type": "code",
      "metadata": {
        "id": "ovvDwJg2wSHJ",
        "outputId": "f2b2119a-b038-4c1e-f608-fc388e46f286"
      },
      "source": [
        "# get summaries for observed data from IMNN\n",
        "# δ_target is the 20x20 simulation\n",
        "estimates = IMNN.get_estimate(δ_target)#IMNN.get_estimate(np.expand_dims(δ_target, (0, 1, 2)))\n",
        "\n",
        "\n",
        "# define cmaf model log prob with prior defined above\n",
        "@tf.function\n",
        "def my_log_prob(y, x=estimates):\n",
        "    \n",
        "    # here all cmafs are trained to draw from p(x|y) <=> p(t|ϑ)\n",
        "    # take the mean of the data likelihood p(x|y) over all cmafs\n",
        "    _like = cmaf_models[0].log_prob(x,y)\n",
        "\n",
        "    _prior = samp_prior.log_prob(x)\n",
        "    \n",
        "    return _like + _prior\n",
        "\n",
        "\n",
        "\n",
        "# sample using affine\n",
        "n_steps = 2000\n",
        "n_walkers = 500\n",
        "burnin_steps = 1800\n",
        "n_params = 2\n",
        "\n",
        "# initialize walkers...\n",
        "walkers1 = tf.random.normal([n_walkers, 2], 0.5, 0.5)\n",
        "walkers2 = tf.random.normal([n_walkers, 2], 0.5, 0.5)\n",
        "\n",
        "# walkers1 = tf.random.uniform([n_walkers, 2], 0.1, 1.25)\n",
        "# walkers2 = tf.random.uniform([n_walkers, 2], 0.1, 1.25)\n",
        "\n",
        "chain = affine_sample(my_log_prob, n_params, n_walkers, n_steps, walkers1, walkers2)\n",
        "\n",
        "skip = 4\n",
        "\n",
        "post = np.stack([chain.numpy()[burnin_steps::skip,:,0].flatten(), chain.numpy()[burnin_steps::skip,:,1].flatten()], axis=-1)\n",
        "\n",
        "# make ABC object for the marginal plot\n",
        "_ABC = imnn.lfi.ApproximateBayesianComputation(\n",
        "    target_data=δ_target,\n",
        "    prior=prior,\n",
        "    simulator=lambda rng, θ: simulator(rng, θ, simulator_args={**simulator_args, **{'squeeze':False}}),\n",
        "    compressor=IMNN.get_estimate,\n",
        "    gridsize=100, \n",
        "    F=np.expand_dims(IMNN.F, 0))\n",
        "\n",
        "margs = _ABC.get_marginals(accepted_parameters = [np.array(post)], smoothing=None, gridsize=400)\n",
        "\n",
        "\n",
        "MAF = imnn.lfi.LikelihoodFreeInference(\n",
        "    prior=prior,\n",
        "    gridsize=100)\n",
        "\n",
        "\n",
        "MAF.n_targets=2\n",
        "MAF.put_marginals(\n",
        "                margs[1][0]);\n",
        "\n",
        "MAF.marginal_plot(\n",
        "    known=θ_target,          \n",
        "    label=\"Delfi estimate\",           \n",
        "    axis_labels=[\"A\", \"B\"]);"
      ],
      "execution_count": null,
      "outputs": [
        {
          "output_type": "stream",
          "text": [
            "100%|██████████| 1999/1999 [00:06<00:00, 295.60it/s]\n"
          ],
          "name": "stderr"
        },
        {
          "output_type": "display_data",
          "data": {
            "image/png": "[encoded data removed]",
            "text/plain": [
              "<Figure size 720x720 with 4 Axes>"
            ]
          },
          "metadata": {
            "tags": []
          }
        }
      ]
    },
    {
      "cell_type": "markdown",
      "metadata": {
        "id": "B8itF1CdwSHK"
      },
      "source": [
        "# next sample from maf post and re-train"
      ]
    },
    {
      "cell_type": "code",
      "metadata": {
        "id": "2Nl0qw32wSHK"
      },
      "source": [
        "n_samples = 1000\n",
        "key1,key2 = jax.random.split(rng)\n",
        "\n",
        "idx = np.arange(len(post))\n",
        "ϑ_samp = post[45000:][onp.random.choice(idx, size=n_samples)]\n",
        "\n",
        "# ensure not < 0\n",
        "idx = np.where(ϑ_samp > 0)[0]\n",
        "ϑ_samp = ϑ_samp[idx]\n",
        "n_samples = len(ϑ_samp)\n",
        "\n",
        "ts, ϑ_samp = get_params_summaries(key2, n_samples, ϑ_samp)\n",
        "\n",
        "new_data = (ts, ϑ_samp)\n",
        "\n",
        "# this should shuffle the dataset \n",
        "new_train_dataset, new_val_dataset = get_dataset(new_data, batch_size=batch_size, buffer_size=len(new_data[0]))\n",
        "\n",
        "# concatenate datasets\n",
        "train_dataset = train_dataset.concatenate(new_train_dataset)\n",
        "#val_dataset = val_dataset.concatenate(new_val_dataset)"
      ],
      "execution_count": null,
      "outputs": []
    },
    {
      "cell_type": "code",
      "metadata": {
        "id": "8v7zkDY1wSHK",
        "outputId": "6fb4f25b-2ac8-4ed1-d8c7-0924e2910413"
      },
      "source": [
        "epochs = 1000\n",
        "\n",
        "train_losses = []\n",
        "val_losses = []\n",
        "\n",
        "\n",
        "for epoch in tqdm(range(epochs)):\n",
        "    start_time = time.time()\n",
        "\n",
        "\n",
        "    # Iterate over the batches of the dataset.\n",
        "    for step, (x_batch_train, y_batch_train) in enumerate(train_dataset):\n",
        "        loss_values = np.array(train_step(x_batch_train, y_batch_train))\n",
        "\n",
        "    train_losses.append(loss_values)\n",
        "\n",
        "\n",
        "    # Run a validation loop at the end of each epoch.\n",
        "    for x_batch_val, y_batch_val in val_dataset:\n",
        "        val_loss = np.array(val_step(x_batch_val, y_batch_val))\n",
        "\n",
        "    val_losses.append(val_loss)"
      ],
      "execution_count": null,
      "outputs": [
        {
          "output_type": "stream",
          "text": [
            "100%|██████████| 1000/1000 [01:23<00:00, 11.99it/s]\n"
          ],
          "name": "stderr"
        }
      ]
    },
    {
      "cell_type": "code",
      "metadata": {
        "id": "q5Q5JxFFwSHK",
        "outputId": "98171460-7b4b-4bfc-b266-3b50ef874ef8"
      },
      "source": [
        "plt.figure(figsize=(8,3.5))\n",
        "plt.subplot(131)\n",
        "plt.plot(np.array(train_losses).T[0], label='train')\n",
        "plt.plot(np.array(val_losses).T[0], label='val')\n",
        "plt.ylabel(r'$p(t\\ |\\ \\vartheta, w)$')\n",
        "\n",
        "plt.subplot(132)\n",
        "plt.plot(np.array(train_losses).T[1], label='train')\n",
        "plt.plot(np.array(val_losses).T[1], label='val')\n",
        "plt.ylabel(r'$p(t\\ |\\ \\vartheta, w)$')\n",
        "\n",
        "plt.subplot(133)\n",
        "plt.plot(np.array(train_losses).T[4], label='train')\n",
        "plt.plot(np.array(val_losses).T[4], label='val')\n",
        "plt.ylabel(r'$p(t\\ |\\ \\vartheta, w)$')\n",
        "plt.legend()\n",
        "\n",
        "plt.tight_layout()\n",
        "plt.show()"
      ],
      "execution_count": null,
      "outputs": [
        {
          "output_type": "display_data",
          "data": {
            "image/png": "[encoded data removed]",
            "text/plain": [
              "<Figure size 576x252 with 3 Axes>"
            ]
          },
          "metadata": {
            "tags": []
          }
        }
      ]
    },
    {
      "cell_type": "code",
      "metadata": {
        "id": "PJBbEMABwSHL",
        "outputId": "3f19e988-b661-4d0d-b4f5-a78315ad61e9"
      },
      "source": [
        "# get summaries for observed data from IMNN\n",
        "# δ_target is the 128x128 simulation\n",
        "\n",
        "\n",
        "# do for each model\n",
        "MAFs = []\n",
        "\n",
        "for m,cmaf_model in enumerate(cmaf_models):\n",
        "\n",
        "    @tf.function\n",
        "    def my_log_prob(y, x=estimates):\n",
        "\n",
        "        # here all cmafs are trained to draw from p(x|y) <=> p(t|ϑ)\n",
        "        # take the mean of the data likelihood p(x|y) over all cmafs\n",
        "        _like = cmaf_models[m].log_prob(x,y)\n",
        "        _prior = samp_prior.log_prob(y)\n",
        "\n",
        "        return _like + _prior\n",
        "\n",
        "    # sample using affine\n",
        "    n_steps = 2000\n",
        "    n_walkers = 500\n",
        "    burnin_steps = 1800\n",
        "    n_params = 2\n",
        "\n",
        "    # initialize walkers...\n",
        "    walkers1 = tf.random.normal([n_walkers, 2], 0.5, 0.5)\n",
        "    walkers2 = tf.random.normal([n_walkers, 2], 0.5, 0.5)\n",
        "\n",
        "    # walkers1 = tf.random.uniform([n_walkers, 2], 0.1, 1.25)\n",
        "    # walkers2 = tf.random.uniform([n_walkers, 2], 0.1, 1.25)\n",
        "\n",
        "    chain = affine_sample(my_log_prob, n_params, n_walkers, n_steps, walkers1, walkers2)\n",
        "\n",
        "    skip = 4\n",
        "\n",
        "    post = np.stack([chain.numpy()[burnin_steps::skip,:,0].flatten(), chain.numpy()[burnin_steps::skip,:,1].flatten()], axis=-1)\n",
        "\n",
        "    margs = ABC.get_marginals(accepted_parameters = [np.array(post)], smoothing=None, gridsize=400)\n",
        "\n",
        "\n",
        "    _MAF = imnn.lfi.LikelihoodFreeInference(\n",
        "        prior=prior,\n",
        "        gridsize=100)\n",
        "\n",
        "\n",
        "    _MAF.n_targets=2\n",
        "    _MAF.put_marginals(\n",
        "                    margs[1][0]);\n",
        "    \n",
        "    MAFs.append(_MAF)\n",
        "\n",
        "    _MAF.marginal_plot(\n",
        "        known=θ_target,          \n",
        "        label=\"Delfi estimate\",           \n",
        "        axis_labels=[\"A\", \"B\"]);"
      ],
      "execution_count": null,
      "outputs": [
        {
          "output_type": "stream",
          "text": [
            "100%|██████████| 1999/1999 [00:06<00:00, 299.63it/s]\n",
            "100%|██████████| 1999/1999 [00:06<00:00, 297.84it/s]\n",
            "100%|██████████| 1999/1999 [00:06<00:00, 312.26it/s]\n",
            "100%|██████████| 1999/1999 [00:06<00:00, 314.54it/s]\n"
          ],
          "name": "stderr"
        },
        {
          "output_type": "display_data",
          "data": {
            "image/png": "[encoded data removed]",
            "text/plain": [
              "<Figure size 720x720 with 4 Axes>"
            ]
          },
          "metadata": {
            "tags": []
          }
        },
        {
          "output_type": "display_data",
          "data": {
            "image/png": "[encoded data removed]",
            "text/plain": [
              "<Figure size 720x720 with 4 Axes>"
            ]
          },
          "metadata": {
            "tags": []
          }
        },
        {
          "output_type": "display_data",
          "data": {
            "image/png": "[encoded data removed]",
            "text/plain": [
              "<Figure size 720x720 with 4 Axes>"
            ]
          },
          "metadata": {
            "tags": []
          }
        },
        {
          "output_type": "display_data",
          "data": {
            "image/png": "[encoded data removed]",
            "text/plain": [
              "<Figure size 720x720 with 4 Axes>"
            ]
          },
          "metadata": {
            "tags": []
          }
        }
      ]
    },
    {
      "cell_type": "code",
      "metadata": {
        "id": "hKGymc92wSHL",
        "outputId": "0ec0d54e-961f-4c1b-edd9-baa938b1ff02"
      },
      "source": [
        "%%time\n",
        "rng, key = jax.random.split(rng)\n",
        "ABC(ϵ=0.1, rng=key, n_samples=10000, min_accepted=500, \n",
        "    smoothing=1., max_iterations=2000);"
      ],
      "execution_count": null,
      "outputs": [
        {
          "output_type": "stream",
          "text": [
            "[501] accepted in last  500 iterations  (5000000 simulations done).\n",
            "CPU times: user 2min 18s, sys: 1.37 s, total: 2min 20s\n",
            "Wall time: 2min 22s\n"
          ],
          "name": "stdout"
        },
        {
          "output_type": "execute_result",
          "data": {
            "text/plain": [
              "(<imnn.utils.container.container at 0x154f386f3df0>,\n",
              " <imnn.utils.container.container at 0x154f48f29ee0>,\n",
              " <imnn.utils.container.container at 0x154f48286130>)"
            ]
          },
          "metadata": {
            "tags": []
          },
          "execution_count": 87
        }
      ]
    },
    {
      "cell_type": "code",
      "metadata": {
        "id": "9zy4Ad6PwSHL"
      },
      "source": [
        "#np.save('./marginals/abc_distances', ABC.distances.accepted)"
      ],
      "execution_count": null,
      "outputs": []
    },
    {
      "cell_type": "code",
      "metadata": {
        "id": "nFiEi7RcwSHL",
        "outputId": "e4e433ba-90ec-4a2b-b96b-c6a3e73d09bb"
      },
      "source": [
        "# ax = GA.marginal_plot(\n",
        "#     known=np.array([1.0, 0.5]),          \n",
        "#     label=\"Gaussian approximation\",         \n",
        "#     axis_labels=[r\"$\\alpha$\", r\"$\\beta$\"],\n",
        "#     colours=\"C1\")\n",
        "\n",
        "# ABC contour plots\n",
        "ax = ABC.marginal_plot(ax=None, colours='C4', label='ABC with IMNN', known=θ_target)\n",
        "\n",
        "# ABC scatter plots\n",
        "ax[0,0].hist(ABC.parameters.accepted[0][:, 0], color='purple', histtype='step', density=True, label='ABC with IMNN')\n",
        "ax[1,0].scatter(ABC.parameters.accepted[0][:, 0], ABC.parameters.accepted[0][:, 1], s=8, alpha=0.6,\n",
        "                c=np.log(ABC.distances.accepted[0]), cmap='Purples', edgecolors=None, linewidths=0, marker='.')\n",
        "\n",
        "ax[1,1].hist(ABC.parameters.accepted[0][:, 1], color='purple', \n",
        "             histtype='step', density=True, orientation='horizontal')\n",
        "\n",
        "\n",
        "\n",
        "for m,_MAF in enumerate(MAFs):\n",
        "    if m == 0:\n",
        "        label = 'Delfi Estimate'\n",
        "    else:\n",
        "        label=None\n",
        "        \n",
        "    _MAF.marginal_plot(\n",
        "        ax=ax,\n",
        "        label=label,\n",
        "        colours=\"C1\", linestyle='solid');\n",
        "\n",
        "\n",
        "plt.savefig('/mnt/home/tmakinen/repositories/field-plots/LN_delfi_vs_abc.png', dpi=800)\n",
        "plt.legend()\n",
        "plt.show()\n"
      ],
      "execution_count": null,
      "outputs": [
        {
          "output_type": "stream",
          "text": [
            "WARNING:matplotlib.legend:No handles with labels found to put in legend.\n"
          ],
          "name": "stderr"
        },
        {
          "output_type": "display_data",
          "data": {
            "image/png": "[encoded data removed]",
            "text/plain": [
              "<Figure size 720x720 with 4 Axes>"
            ]
          },
          "metadata": {
            "tags": []
          }
        }
      ]
    },
    {
      "cell_type": "code",
      "metadata": {
        "id": "oVGfHCp7wSHM"
      },
      "source": [
        "# params for GA contour\n",
        "    row=1\n",
        "    column=0\n",
        "    target=0\n",
        "    levels=[0.68, 0.95]\n",
        "    all_margs = [GA.marginals for GA in [GA_1, GA_new]]\n",
        "    alphas = [0.75, 1.0]\n",
        "    linestyles = [':', 'solid']\n",
        "    GA_labels = ['initial GA', 'final GA']\n",
        "    ga_handles = []\n",
        "    \n",
        "    for m,margs in enumerate(all_margs):\n",
        "        cs = ax[1,t].contour(\n",
        "                                ranges[column],\n",
        "                                ranges[row],\n",
        "                                margs[row][column][target].T,\n",
        "                                colors='#00c133',\n",
        "                                linestyles=linestyles[m],\n",
        "                                levels=GA_new.get_levels(\n",
        "                                    margs[row][column][target],\n",
        "                                    [ranges[column], ranges[row]],\n",
        "                                    levels=levels), alpha=alphas[m],\n",
        "        )\n",
        "        # proxy for legend\n",
        "        _ga, = ax[1,t].plot(-1,2, color='#00c133', \n",
        "                     linestyle=linestyles[m], \n",
        "                     alpha=alphas[m],label=GA_labels[m])\n",
        "        \n",
        "        ga_handles.append(_ga)"
      ],
      "execution_count": null,
      "outputs": []
    },
    {
      "cell_type": "code",
      "metadata": {
        "id": "9GPiPM5IwSHM"
      },
      "source": [
        "ranges = ABC.ranges"
      ],
      "execution_count": null,
      "outputs": []
    },
    {
      "cell_type": "code",
      "metadata": {
        "id": "1P3Ic4lbwSHM"
      },
      "source": [
        "# save ABC marginals\n",
        "np.save('./marginals/abc_ranges.npy', ranges)"
      ],
      "execution_count": null,
      "outputs": []
    },
    {
      "cell_type": "code",
      "metadata": {
        "id": "O0uIxDfmwSHM"
      },
      "source": [
        "row=1\n",
        "column=0\n",
        "target=0\n",
        "levels=[0.68, 0.95, 0.99]\n",
        "margs = ABC.marginals\n",
        "\n",
        "abc_2d_marg = ABC.marginals[row][column][target]\n",
        "\n",
        "abc_levels = ABC.get_levels(margs[row][column][target],\n",
        "                                    [ranges[column], ranges[row]], levels=levels)\n",
        "\n",
        "maf_2d_margs = []\n",
        "maf_levels = []\n",
        "\n",
        "for i,m in enumerate(MAFs):\n",
        "\n",
        "    maf_2d_margs.append(m.marginals[row][column][target])\n",
        "\n",
        "    maf_levels.append(m.get_levels(margs[row][column][target],\n",
        "                                        [ranges[column], ranges[row]], levels=levels))\n"
      ],
      "execution_count": null,
      "outputs": []
    },
    {
      "cell_type": "code",
      "metadata": {
        "id": "VJAAsgNPwSHM",
        "outputId": "ed88f770-cadc-418b-a055-c3a4f41b2948"
      },
      "source": [
        "abc_levels"
      ],
      "execution_count": null,
      "outputs": [
        {
          "output_type": "execute_result",
          "data": {
            "text/plain": [
              "[DeviceArray(5.15118, dtype=float32),\n",
              " DeviceArray(5.15123, dtype=float32),\n",
              " DeviceArray(25.75615, dtype=float32)]"
            ]
          },
          "metadata": {
            "tags": []
          },
          "execution_count": 208
        }
      ]
    },
    {
      "cell_type": "code",
      "metadata": {
        "id": "Pg40u5SmwSHN"
      },
      "source": [
        "np.save('./marginals/abc_2d_marginal_field_%d.npy'%(dataid), abc_2d_marg)\n",
        "np.save('./marginals/abc_2d_marginal_field_levels_%d.npy'%(dataid), abc_levels)"
      ],
      "execution_count": null,
      "outputs": []
    },
    {
      "cell_type": "code",
      "metadata": {
        "id": "yt2_QS6ywSHN"
      },
      "source": [
        "for i,m in enumerate(maf_2d_margs):\n",
        "    np.save('./marginals/maf_%d_2d_marginal_field_%d.npy'%(i+1, dataid), maf_2d_margs[i])\n",
        "    np.save('./marginals/maf_%d_2d_marginal_field_levels_%d.npy'%(i + 1, dataid), maf_levels[i])"
      ],
      "execution_count": null,
      "outputs": []
    },
    {
      "cell_type": "code",
      "metadata": {
        "id": "BCGi--zAwSHN"
      },
      "source": [
        "np.save('./marginals/abc_marginal_field_%d.npy'%(dataid), ABC.parameters.accepted)"
      ],
      "execution_count": null,
      "outputs": []
    },
    {
      "cell_type": "code",
      "metadata": {
        "id": "hONbuDirwSHN"
      },
      "source": [
        "class ConditionalMaskedAutoregressiveFlow(tf.Module):\n",
        "    def __init__(self, n_dimensions=None, n_conditionals=None, n_mades=1, n_hidden=[50,50], input_order=\"random\",\n",
        "    activation=tf.keras.layers.LeakyReLU(0.01), \n",
        "    all_layers=True,\n",
        "    kernel_initializer=tf.keras.initializers.RandomNormal(mean=0.0, stddev=1e-5, seed=None), \n",
        "    bias_initializer=tf.keras.initializers.RandomNormal(mean=0.0, stddev=1e-5, seed=None),\n",
        "    kernel_regularizer=None, bias_regularizer=None, kernel_constraint=None,\n",
        "    bias_constraint=None):\n",
        "        # extract init parameters\n",
        "        self.n_dimensions = n_dimensions\n",
        "        self.n_conditionals = n_conditionals\n",
        "        self.n_mades = n_mades\n",
        "        # construct the base (normal) distribution\n",
        "        self.base_distribution = tfd.MultivariateNormalDiag(loc=tf.zeros(self.n_dimensions), scale_diag=tf.ones(self.n_dimensions))\n",
        "        # put the conditional inputs to all layers, or just the first layer?\n",
        "        if all_layers == True:\n",
        "            all_layers = \"all_layers\"\n",
        "        else:\n",
        "            all_layers = \"first_layer\"\n",
        "        # construct stack of conditional MADEs\n",
        "        self.MADEs = [tfb.AutoregressiveNetwork(\n",
        "                        params=2,\n",
        "                        hidden_units=n_hidden,\n",
        "                        activation=activation,\n",
        "                        event_shape=[n_dimensions],\n",
        "                        conditional=True,\n",
        "                        conditional_event_shape=[n_conditionals],\n",
        "                        conditional_input_layers=all_layers,\n",
        "                        input_order=input_order,\n",
        "                        kernel_initializer=kernel_initializer,\n",
        "                        bias_initializer=bias_initializer,\n",
        "                        kernel_regularizer=kernel_regularizer,\n",
        "                        bias_regularizer=bias_regularizer,\n",
        "                        kernel_constraint=kernel_constraint,\n",
        "                        bias_constraint=bias_constraint,\n",
        "                        name=\"MADE_{}\".format(i)) for i in range(n_mades)]\n",
        "    # bijector for x | y (chain the conditional MADEs together)\n",
        "    def bijector(self, y):\n",
        "        # start with an empty bijector\n",
        "        MAF = tfb.Identity() \n",
        "        # pass through the MADE layers (passing conditional inputs each time)\n",
        "        for i in range(self.n_mades):\n",
        "            MAF = tfb.MaskedAutoregressiveFlow(shift_and_log_scale_fn=lambda x: self.MADEs[i](x, conditional_input=y))(MAF)\n",
        "        return MAF\n",
        "    # construct distribution P(x | y)\n",
        "    def __call__(self, y):\n",
        "        return tfd.TransformedDistribution(\n",
        "            self.base_distribution,\n",
        "            bijector=self.bijector(y))\n",
        "    # log probability ln P(x | y)\n",
        "    def log_prob(self, x, y):\n",
        "        return self.__call__(y).log_prob(x)\n",
        "    # sample n samples from P(x | y)\n",
        "    def sample(self, n, y):\n",
        "        # base samples\n",
        "        base_samples = self.base_distribution.sample(n)\n",
        "        # biject the samples\n",
        "        return self.bijector(y).forward(base_samples)"
      ],
      "execution_count": null,
      "outputs": []
    }
  ]
}