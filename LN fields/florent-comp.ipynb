{
 "cells": [
  {
   "cell_type": "code",
   "execution_count": 1,
   "metadata": {},
   "outputs": [
    {
     "name": "stdout",
     "output_type": "stream",
     "text": [
      "jax version:  0.2.10\n"
     ]
    }
   ],
   "source": [
    "import jax\n",
    "print(\"jax version: \", jax.__version__)\n",
    "import jax.numpy as np\n",
    "import tensorflow_probability.substrates.jax as tfp\n",
    "tfd = tfp.distributions\n",
    "tfb = tfp.bijectors\n",
    "import matplotlib.pyplot as plt\n",
    "from scipy.linalg import toeplitz\n",
    "\n",
    "rng = jax.random.PRNGKey(2)"
   ]
  },
  {
   "cell_type": "code",
   "execution_count": 2,
   "metadata": {},
   "outputs": [],
   "source": [
    "# for model stuff\n",
    "import jax.experimental.optimizers as optimizers\n",
    "import jax.experimental.stax as stax\n",
    "from jax import jit\n",
    "\n",
    "# for imnn\n",
    "import imnn\n",
    "import imnn.lfi\n",
    "import jax\n",
    "import jax.numpy as np\n",
    "import jax_cosmo as jc\n",
    "import matplotlib.pyplot as plt\n",
    "import tensorflow_probability\n",
    "from jax.experimental import optimizers\n",
    "from jax.experimental import stax\n",
    "tfp = tensorflow_probability.substrates.jax\n",
    "rng = jax.random.PRNGKey(0)"
   ]
  },
  {
   "cell_type": "code",
   "execution_count": 3,
   "metadata": {},
   "outputs": [
    {
     "name": "stdout",
     "output_type": "stream",
     "text": [
      "gpu\n"
     ]
    }
   ],
   "source": [
    "from jax.lib import xla_bridge\n",
    "print(xla_bridge.get_backend().platform)"
   ]
  },
  {
   "cell_type": "code",
   "execution_count": 4,
   "metadata": {},
   "outputs": [],
   "source": [
    "N=20"
   ]
  },
  {
   "cell_type": "code",
   "execution_count": 5,
   "metadata": {},
   "outputs": [],
   "source": [
    "def scipy_compute_r2(N):\n",
    "    _Di = np.tile(toeplitz(np.arange(N)), (N, N))\n",
    "    _Dj = np.concatenate(\n",
    "        [np.concatenate(\n",
    "            [np.tile(np.abs(i - j),(N, N)) \n",
    "             for i in range(N)], \n",
    "            axis=0)\n",
    "         for j in range(N)],\n",
    "        axis=1)\n",
    "    _distance_squared = _Di * _Di + _Dj * _Dj\n",
    "    return _distance_squared\n",
    "\n",
    "def compute_r2(N):\n",
    "    _r2 = np.tile(np.abs(np.expand_dims(np.arange(N), 0) \n",
    "                    - np.expand_dims(np.arange(N), 1)), (N, N)) ** 2. + np.abs(np.expand_dims(np.repeat(np.arange(N), N), 0) \n",
    "                             - np.expand_dims(np.repeat(np.arange(N), N), 1)) ** 2.\n",
    "    return _r2\n",
    "\n",
    "r2 = compute_r2(N).astype(np.float32)\n",
    "\n",
    "def ξ_G(β):\n",
    "    return np.exp(\n",
    "        -np.expand_dims(r2, tuple(np.arange(β.ndim))) \n",
    "        / 4. / np.expand_dims(β, (-2, -1))**2.)\n",
    "\n",
    "def get_G_field(β):\n",
    "    pass\n",
    "\n",
    "def fill_zeros(k, value):\n",
    "    from functools import partial\n",
    "\n",
    "    def fnk(k):\n",
    "        return jax.lax.cond(np.less_equal(k, 1e-5), lambda _: value, lambda k: k+value, operand=k)\n",
    "\n",
    "    if len(k.shape) == 1:\n",
    "        return jax.vmap(fnk)(k)\n",
    "    else:\n",
    "        return jax.vmap(partial(fill_zeros, value=value))(k)\n",
    "\n",
    "\n",
    "def xi_LN(r, α, β, PixelNoise=0.01):\n",
    "\n",
    "    xi = 1/(np.power(α+1e-12,2)) * (np.exp(np.power(α,2)*np.exp(-0.25*np.power(r/β,2))) - 1)\n",
    "\n",
    "    # Add pixel noise at zero separation:\n",
    "\n",
    "    xi = fill_zeros(xi, PixelNoise**2)\n",
    "    #xi[np.where(r<1e-5)] += PixelNoise**2\n",
    "\n",
    "    return xi"
   ]
  },
  {
   "cell_type": "code",
   "execution_count": 6,
   "metadata": {},
   "outputs": [],
   "source": [
    "def dxi_LN_dalpha(r, α, β):\n",
    "\n",
    "    _deriv =  2/(α+1e-12) * np.exp(-0.25*np.power(r/β,2)) * np.exp(np.power(α,2)*np.exp(-0.25*np.power(r/β,2))) - 2/np.power(α+1e-12,3) * (np.exp(np.power(α,2)*np.exp(-0.25*np.power(r/β,2))) - 1)\n",
    "    return _deriv\n",
    "\n",
    "def dxi_LN_dbeta(r, β, α):\n",
    "\n",
    "    return (0.5*np.power(r, 2) * np.exp(np.power(α, 2) * np.exp(-0.25 * np.power(r/β,2)) - 0.25*np.power(r/β,2)))*np.power(1./β,3)"
   ]
  },
  {
   "cell_type": "code",
   "execution_count": 7,
   "metadata": {},
   "outputs": [],
   "source": [
    "θ_fid = np.array([1.0, 0.5], dtype='float32')\n",
    "\n",
    "r = np.sqrt(r2)\n",
    "Nsq=N**2"
   ]
  },
  {
   "cell_type": "code",
   "execution_count": 8,
   "metadata": {},
   "outputs": [],
   "source": [
    "def dξdβ(β):\n",
    "    return 0.5 * r2 *(1./β**3)* np.exp(-0.25 * r2 * (1/β)**2)\n",
    "def known_fisher(θ, Nsq):\n",
    "    α,β = θ\n",
    "    # get covariance\n",
    "    _ξ    = ξ_G(β)\n",
    "    # get derivative\n",
    "    dξ_dβ   = dξdβ(β) \n",
    "    \n",
    "    Cinv = np.linalg.inv(_ξ)        \n",
    "    \n",
    "    # fisher matrix entries\n",
    "    Faa = 2*Nsq / α**2\n",
    "    Fab = (1. / α) * np.trace(Cinv @ dξ_dβ)\n",
    "    Fba = Fab\n",
    "    Fbb = 0.5 * np.trace(Cinv @ dξ_dβ @ Cinv  @ dξ_dβ)\n",
    "\n",
    "    return np.array([[Faa, Fab], [Fba, Fbb]])"
   ]
  },
  {
   "cell_type": "code",
   "execution_count": 9,
   "metadata": {},
   "outputs": [
    {
     "name": "stdout",
     "output_type": "stream",
     "text": [
      "[[ -800.      1215.2694]\n",
      " [ 1215.2694 -5815.559 ]]\n",
      "3175567.2\n"
     ]
    }
   ],
   "source": [
    "f = - known_fisher(θ_fid, Nsq)\n",
    "print(f)\n",
    "\n",
    "analytic_detF = np.linalg.det(f)\n",
    "print(analytic_detF)"
   ]
  },
  {
   "cell_type": "code",
   "execution_count": 20,
   "metadata": {},
   "outputs": [
    {
     "data": {
      "text/plain": [
       "DeviceArray(15.043, dtype=float32)"
      ]
     },
     "execution_count": 20,
     "metadata": {},
     "output_type": "execute_result"
    }
   ],
   "source": [
    "analytic_detF / detF_expected"
   ]
  },
  {
   "cell_type": "code",
   "execution_count": 21,
   "metadata": {},
   "outputs": [
    {
     "data": {
      "text/plain": [
       "DeviceArray(4221987., dtype=float32)"
      ]
     },
     "execution_count": 21,
     "metadata": {},
     "output_type": "execute_result"
    }
   ],
   "source": [
    "detF_expected * N"
   ]
  },
  {
   "cell_type": "code",
   "execution_count": 109,
   "metadata": {},
   "outputs": [],
   "source": [
    "def _f_NL(α, β):\n",
    "    return tfd.TransformedDistribution(\n",
    "      distribution=tfd.MultivariateNormalTriL(\n",
    "          loc=np.zeros((N**2,)),\n",
    "          scale_tril=np.linalg.cholesky(ξ_G(β))),\n",
    "      bijector= tfb.Chain([\n",
    "#           tfb.Exp(),\n",
    "#           tfb.AffineScalar(\n",
    "#               shift=-0.5 * np.expand_dims(α, -1)**2.,\n",
    "#               scale=np.expand_dims(α, -1))]))\n",
    "                tfb.Scale(1. / np.expand_dims(α, (-1))), \n",
    "                tfb.Expm1(),\n",
    "                tfb.AffineScalar(\n",
    "                shift=-0.5 * np.expand_dims(α, -1)**2.,\n",
    "                scale=np.expand_dims(α, -1))]))\n",
    "          \n",
    "\n",
    "def loglike(α, β, key):\n",
    "    f_NL = _f_NL(α, β)\n",
    "    return f_NL.log_prob(f_NL.sample(seed=key))\n",
    "\n",
    "@jax.jit\n",
    "def dlnLdθ(α, β, key):\n",
    "    return jax.grad(loglike, argnums=(0, 1))(α, β, key)\n",
    "\n",
    "def numeric_F(α, β, key, n_samples):\n",
    "    keys = np.array(jax.random.split(key, num=n_samples))\n",
    "    return np.cov(np.array(jax.vmap(dlnLdθ)(np.repeat(α, n_samples), np.repeat(β, n_samples), keys)), rowvar=True)\n"
   ]
  },
  {
   "cell_type": "code",
   "execution_count": 110,
   "metadata": {},
   "outputs": [],
   "source": [
    "keys = jax.random.split(rng, num=1000)\n",
    "\n",
    "# Compile a function that computes the Hessian of the likelihood\n",
    "hessian_loglik = jax.jit(jax.hessian(loglike, argnums=(0,1)))\n",
    "\n",
    "# Evalauate the Hessian at fiductial cosmology to retrieve Fisher matrix\n",
    "# This is a bit slow at first....\n",
    "num_f = np.mean(np.array([-np.array(hessian_loglik(_a,_b, k)) for k in keys]), axis=0)"
   ]
  },
  {
   "cell_type": "code",
   "execution_count": 111,
   "metadata": {},
   "outputs": [
    {
     "data": {
      "text/plain": [
       "DeviceArray([[-4.0000006e+02,  2.3563945e+00],\n",
       "             [ 2.3563936e+00, -3.0462683e+03]], dtype=float32)"
      ]
     },
     "execution_count": 111,
     "metadata": {},
     "output_type": "execute_result"
    }
   ],
   "source": [
    "num_f"
   ]
  },
  {
   "cell_type": "code",
   "execution_count": 112,
   "metadata": {},
   "outputs": [
    {
     "data": {
      "text/plain": [
       "DeviceArray(1218502.4, dtype=float32)"
      ]
     },
     "execution_count": 112,
     "metadata": {},
     "output_type": "execute_result"
    }
   ],
   "source": [
    "det_num_f = np.linalg.det(num_f)\n",
    "det_num_f"
   ]
  },
  {
   "cell_type": "code",
   "execution_count": 113,
   "metadata": {},
   "outputs": [
    {
     "name": "stdout",
     "output_type": "stream",
     "text": [
      "expected F:  [[1286.6305 2137.2048]\n",
      " [2137.2048 3776.046 ]]\n",
      "expected det F:  290731.5\n"
     ]
    }
   ],
   "source": [
    "rng, key = jax.random.split(rng)\n",
    "_a,_b = θ_fid\n",
    "#F_expected = #np.mean(np.array([numeric_F(np.array(_a), np.array(_b), key, 20)\n",
    "              #                  for i in range(10)\n",
    "               #                   ]), axis=0)\n",
    "\n",
    "F_expected = numeric_F(np.array(_a), np.array(_b), key, 500)\n",
    "detF_expected = np.linalg.det(F_expected)\n",
    "\n",
    "print('expected F: ', F_expected)\n",
    "print('expected det F: ', (detF_expected))"
   ]
  },
  {
   "cell_type": "code",
   "execution_count": 122,
   "metadata": {},
   "outputs": [
    {
     "name": "stdout",
     "output_type": "stream",
     "text": [
      "% difference from analytic F:  10.922681\n"
     ]
    }
   ],
   "source": [
    "print('% difference from analytic F: ', np.abs(analytic_detF) / detF_expected)"
   ]
  },
  {
   "cell_type": "markdown",
   "metadata": {},
   "source": [
    "# define LN class"
   ]
  },
  {
   "cell_type": "code",
   "execution_count": 28,
   "metadata": {},
   "outputs": [],
   "source": [
    "# Define a log_normal field class (Florent's paper -> JAX)\n",
    "class LogNormalField:\n",
    "    @staticmethod\n",
    "    def compute_rsquared(nside):\n",
    "        \"\"\"\n",
    "        Compute the correlation function of the underlying gaussian field\n",
    "        \n",
    "        Parameters:\n",
    "            nside : int\n",
    "                Image is nside x nside pixels\n",
    "        \"\"\"\n",
    "        import jax.numpy as np\n",
    "        from scipy.linalg import toeplitz\n",
    "        \n",
    "        _Di = np.tile(toeplitz(np.arange(nside)),(nside,nside))\n",
    "        _Dj = np.concatenate(\n",
    "                            [np.concatenate(\n",
    "                                            [np.tile(np.abs(i-j),(nside,nside)) for i in range(nside)],\n",
    "                                            axis=0)\n",
    "                            for j in range(nside)],axis=1)\n",
    "        _distance_squared = _Di*_Di+_Dj*_Dj\n",
    "        \n",
    "        return _distance_squared\n",
    "\n",
    "    # The lognormal correlation function where the gaussian field has a gaussian power spectrum,\n",
    "    # and the gaussian correlation function xi_G.\n",
    "\n",
    "    @staticmethod\n",
    "    def xi_G(rsq, beta):\n",
    "        \"\"\"\n",
    "        Calculates the two-point correlation function of a gaussian field with gaussian power spectrum\n",
    "        \n",
    "        Parameters:\n",
    "        \n",
    "        rsq : float\n",
    "            separation^2\n",
    "        beta  : float\n",
    "            Gaussian smoothing width of gaussian field\n",
    "        \"\"\"\n",
    "        import jax.numpy as np\n",
    "        \n",
    "        # ADD IN SIGMA PARAM HERE\n",
    "        \n",
    "        xi = np.exp(-0.25*rsq/(beta**2))\n",
    "            \n",
    "        return xi\n",
    "    \n",
    "    @staticmethod\n",
    "    def fill_zeros(k, value):\n",
    "        from functools import partial\n",
    "        \n",
    "        def fnk(k):\n",
    "            return jax.lax.cond(np.less_equal(k, 1e-5), lambda _: 0., lambda k: k+value, operand=k)\n",
    "\n",
    "        if len(k.shape) == 1:\n",
    "            return jax.vmap(fnk)(k)\n",
    "        else:\n",
    "            return jax.vmap(partial(fill_zeros, value=value))(k)\n",
    "\n",
    "    @staticmethod\n",
    "    def xi_LN(r, beta, alpha, PixelNoise):\n",
    "        \"\"\"\n",
    "        Calculates the lognormal two-point correlation function\n",
    "        \n",
    "        Parameters:\n",
    "        \n",
    "        r : float\n",
    "            Pair separation\n",
    "        beta  : float\n",
    "            Gaussian smoothing width of underlying gaussian field\n",
    "        alpha : float\n",
    "            Nongaussianity parameter in lognormal transformation\n",
    "        PixelNoise : float\n",
    "            Standard deviation of added noise per pixel\n",
    "        \"\"\"\n",
    "        import jax.numpy as np\n",
    "        \n",
    "        xi = 1/(np.power(alpha+1e-12,2)) * (np.exp(np.power(alpha,2)*np.exp(-0.25*np.power(r/beta,2))) - 1)\n",
    "        \n",
    "        # Add pixel noise at zero separation:\n",
    "                \n",
    "        xi = self.fill_zeros(xi, PixelNoise**2)\n",
    "        #xi[np.where(r<1e-5)] += PixelNoise**2\n",
    "        \n",
    "        return xi\n",
    "    \n",
    "    @staticmethod\n",
    "    def dxi_LN_dalpha(r, beta, alpha, PixelNoise):\n",
    "        import jax.numpy as np\n",
    "        \n",
    "        return 2/(alpha+1e-12) * np.exp(-0.25*np.power(r/beta,2)) * np.exp(np.power(alpha,2)*np.exp(-0.25*np.power(r/beta,2))) - 2/np.power(alpha+1e-12,3) * (np.exp(np.power(alpha,2)*np.exp(-0.25*np.power(r/beta,2))) - 1)\n",
    "    \n",
    "    @staticmethod\n",
    "    def dxi_LN_dbeta(r, beta, alpha, PixelNoise):\n",
    "        import jax.numpy as np\n",
    "        \n",
    "        return (0.5*np.power(r,2)/np.power(beta,3)) * np.exp(-0.25*np.power(r/beta,2)) * np.exp(np.power(alpha,2)*np.exp(-0.25*np.power(r/beta,2)))\n",
    "\n",
    "\n",
    "    def __init__(self,Lside,rmax,nbin):\n",
    "        \"\"\"\n",
    "        \n",
    "        Parameters:\n",
    "            rmax : float\n",
    "                Maximum pair separation considered\n",
    "            nbin : int\n",
    "                Number of bins for shell-averaged correlation function\n",
    "        \"\"\"\n",
    "        import jax.numpy as np\n",
    "        \n",
    "        self.rmax       = rmax\n",
    "        self.nbin       = nbin\n",
    "        self.Lside      = Lside\n",
    "\n",
    "        # compute the separations and indices on a grid\n",
    "        self.rsq        = self.compute_rsquared(Lside)\n",
    "        self.r          = np.sqrt(self.rsq)\n",
    "        self.bins       = np.arange(nbin)*rmax/nbin\n",
    "        self.index      = np.digitize(self.r,self.bins)\n",
    "        self.average_r  = np.array([self.r[self.index == n].mean() for n in range(nbin) if np.sum(self.index == n)>0])\n",
    "    \n",
    "    @staticmethod\n",
    "    def G_to_LN(gaussian, alpha):\n",
    "        import jax.numpy as np\n",
    "        \n",
    "        # Make lognormal (variance of gaussian field is unity by construction)\n",
    "        # Divide by 1/alpha so that the signal-to-noise ratio is independent of alpha\n",
    "        return 1./alpha * (np.exp(alpha * gaussian-0.5*alpha**2)-1)\n",
    "    \n",
    "    def run_simulation(self, key, alpha, beta, PixelNoise=None):\n",
    "        \"\"\"\n",
    "        Create a lognormal field from a gaussian field with a Gaussian correlation function\n",
    "        \"\"\"\n",
    "        \n",
    "        # split keys, one for field and one for noise\n",
    "        key1,key2 = jax.random.split(key)\n",
    "        \n",
    "        Lside      = self.Lside\n",
    "        rsq        = self.rsq\n",
    "        \n",
    "        # Compute the Gaussian correlation function\n",
    "        xiG  = self.xi_G(rsq,beta)\n",
    "        \n",
    "        # Compute the Gaussian random field\n",
    "        field = (jax.random.multivariate_normal(key1, np.zeros(Lside*Lside), xiG)).reshape(Lside,Lside) \n",
    "        \n",
    "        # Make lognormal (variance of gaussian field is unity by construction)\n",
    "        field = self.G_to_LN(field, alpha)\n",
    "        \n",
    "        # Add noise\n",
    "        if PixelNoise is not None:\n",
    "            field += jax.random.normal(key2, shape=(Lside,Lside))*np.sqrt(PixelNoise)\n",
    "        \n",
    "        return field\n",
    "    \n",
    "    def pymc3_model(self, field_data, alphamin, alphamax, betamin, betamax, PixelNoise):\n",
    "        import numpy as np\n",
    "        import pymc3 as pm\n",
    "        LN_model = pm.Model()\n",
    "        \n",
    "        Lside              = self.Lside\n",
    "        rsq                = self.rsq\n",
    "        zero               = np.zeros(Lside*Lside)\n",
    "        PixelNoiseVector   = PixelNoise*np.ones(Lside*Lside)\n",
    "        InvNoiseCovariance = np.diag(1/(PixelNoiseVector**2))\n",
    "        field_data         = field_data.reshape(Lside*Lside)\n",
    "\n",
    "        with LN_model:\n",
    "            \n",
    "            # (TLM) TODO: add in μ,σ for full BHM\n",
    "\n",
    "            # Uniform priors for unknown model parameters (alpha,beta):\n",
    "\n",
    "            alpha_p   = pm.Uniform(\"alpha\", lower=alphamin, upper=alphamax)\n",
    "            beta_p    = pm.Uniform(\"beta\",  lower=betamin,  upper=betamax)\n",
    "\n",
    "            # Compute (beta-dependent) gaussian field correlation function:\n",
    "\n",
    "            xi = pm.math.exp(-0.25*rsq/(beta_p*beta_p))\n",
    "\n",
    "            # Gaussian field values are latent variables:\n",
    "            gaussian = pm.MvNormal(\"gaussian\",mu=zero,cov=xi,shape=Lside*Lside)\n",
    "\n",
    "            # Expected value of lognormal field, for given (alpha, beta, gaussian):\n",
    "\n",
    "            muLN = 1/alpha_p * (pm.math.exp(alpha_p * gaussian-0.5*alpha_p*alpha_p)-1)\n",
    "\n",
    "            # Likelihood (sampling distribution) of observations, given the mean lognormal field:\n",
    "\n",
    "            Y_obs = pm.MvNormal(\"Y_obs\", mu=muLN, tau=InvNoiseCovariance, observed=field_data)\n",
    "        \n",
    "        return LN_model\n",
    "    \n",
    "    def run_diff_simulation(self, alpha, beta, PixelNoise, step, seed):\n",
    "        \"\"\"\n",
    "        Run simulations for finite differencing\n",
    "        \"\"\"\n",
    "        import numpy as np\n",
    "        from scipy.stats import multivariate_normal\n",
    "        \n",
    "        Lside      = self.Lside\n",
    "        rsq        = self.rsq\n",
    "        \n",
    "        alphap     = alpha*(1+step)\n",
    "        alpham     = alpha*(1-step)\n",
    "        betap      = beta*(1+step)\n",
    "        betam      = beta*(1-step)\n",
    "        \n",
    "        # Compute the gaussian correlation function\n",
    "        xiG  = self.xi_G(rsq,beta)\n",
    "        xiG_betap = self.xi_G(rsq,betap)\n",
    "        xiG_betam = self.xi_G(rsq,betam)\n",
    "        \n",
    "        # Compute Gaussian random fields with the same phases\n",
    "        Gfield = multivariate_normal(mean=np.zeros(Lside*Lside), cov=xiG).rvs(random_state=seed).reshape(Lside,Lside)\n",
    "        Gfield_betap = multivariate_normal(mean=np.zeros(Lside*Lside), cov=xiG_betap).rvs(random_state=seed).reshape(Lside,Lside)\n",
    "        Gfield_betam = multivariate_normal(mean=np.zeros(Lside*Lside), cov=xiG_betam).rvs(random_state=seed).reshape(Lside,Lside)\n",
    "        \n",
    "        # Make lognormal (variance of gaussian field is unity by construction)\n",
    "        field = self.G_to_LN(Gfield, alpha)\n",
    "        field_betap = self.G_to_LN(Gfield_betap, alpha)\n",
    "        field_betam = self.G_to_LN(Gfield_betam, alpha)\n",
    "        field_alphap = self.G_to_LN(Gfield, alphap)\n",
    "        field_alpham = self.G_to_LN(Gfield, alpham)\n",
    "        \n",
    "        # Add noise\n",
    "        noise = np.random.normal(loc=0.0,scale=PixelNoise,size=(Lside,Lside))\n",
    "        field += noise\n",
    "        field_betap += noise\n",
    "        field_betam += noise\n",
    "        field_alphap += noise\n",
    "        field_alpham += noise\n",
    "        \n",
    "        return field, field_alphap, field_alpham, field_betap, field_betam\n",
    "    \n",
    "    def compute_corrfn(self,field):\n",
    "        \"\"\"\n",
    "        Compute two-point correlation function\n",
    "        \"\"\"       \n",
    "        import numpy as np\n",
    "        \n",
    "        index    = self.index\n",
    "        nbin     = self.nbin\n",
    "        \n",
    "        # compute the correlations\n",
    "        correlations = np.outer(field,field)\n",
    "        corrfn = np.array([correlations[index==n].mean() for n in range(nbin) if len(correlations[index==n])>0])\n",
    "        \n",
    "        return corrfn\n",
    "    \n",
    "    def compute_corrfn_derivatives(self, field, field_alphap, field_alpham, field_betap, field_betam, step):\n",
    "        \"\"\"\n",
    "        Compute derivatives of the two-point correlation function\n",
    "        \"\"\"\n",
    "        \n",
    "        # Compute correlation functions\n",
    "        corrfn         = self.compute_corrfn(field)\n",
    "        corrfn_dalphap = self.compute_corrfn(field_alphap)\n",
    "        corrfn_dalpham = self.compute_corrfn(field_alpham)\n",
    "        corrfn_dbetap  = self.compute_corrfn(field_betap)\n",
    "        corrfn_dbetam  = self.compute_corrfn(field_betam)\n",
    "        \n",
    "        # Compute derivatives by second-order central finite differences\n",
    "        dcorrfn_dalpha = (corrfn_dalpham - 2*corrfn + corrfn_dalphap)/(step**2)\n",
    "        dcorrfn_dbeta  = (corrfn_dbetam  - 2*corrfn + corrfn_dbetap )/(step**2)\n",
    "        \n",
    "        return dcorrfn_dalpha, dcorrfn_dbeta\n",
    "    \n",
    "    def covariance(self,fields):\n",
    "        \"\"\"\n",
    "        Compute covariance from a number of fields\n",
    "        \n",
    "        Parameter:\n",
    "            fields : int\n",
    "                lognormal field objects contributing to the covariance matrix\n",
    "        \"\"\"\n",
    "        import numpy as np\n",
    "        \n",
    "        nsims  = len(fields)\n",
    "        nbins  = self.nonzerobins\n",
    "        \n",
    "        print('Number of simulations',nsims)\n",
    "        print('Number of non-zero pair bins',nbins)\n",
    "        \n",
    "        corrfns = np.array([fields[i]['corrfn'] for i in range(nsims)])\n",
    "        meanxi = np.mean(corrfns,axis=0)\n",
    "        covxi = np.cov(corrfns.T)\n",
    "        \n",
    "        return meanxi, covxi\n",
    "    \n",
    "    # Utility properties\n",
    "    @staticmethod\n",
    "    def var_th(alpha, PixelNoise):\n",
    "        import numpy as np\n",
    "        return 1/np.power(alpha+1e-12,2)*(np.exp(alpha**2)-1)+PixelNoise**2\n",
    "    @staticmethod\n",
    "    def skew_th(alpha):\n",
    "        import numpy as np\n",
    "        return (np.exp(alpha**2)+2)*np.sqrt(np.exp(alpha**2)-1)\n",
    "    @staticmethod\n",
    "    def dskew_dalpha(alpha):\n",
    "        import numpy as np\n",
    "        return 2*alpha*np.exp(alpha**2) * ( np.sqrt(np.exp(alpha**2)-1) - 0.5*(np.exp(alpha**2)+2)/(np.sqrt(np.exp(alpha**2)-1)) )\n",
    "    @staticmethod\n",
    "    def kurtosis_th(alpha):\n",
    "        import numpy as np\n",
    "        return np.exp(4*alpha**2)+2*np.exp(3*alpha**2)+3*np.exp(2*alpha**2)-6\n",
    "    @staticmethod\n",
    "    def dkurtosis_dalpha(alpha):\n",
    "        import numpy as np\n",
    "        return 8*alpha*np.exp(4*alpha**2)+6*alpha*np.exp(3*alpha**2)+6*alpha*np.exp(2*alpha**2)\n",
    "    @staticmethod\n",
    "    def max(field):\n",
    "        import numpy as np\n",
    "        return np.max(field)\n",
    "    @staticmethod\n",
    "    def min(field):\n",
    "        import numpy as np\n",
    "        return np.min(field)\n",
    "    @staticmethod\n",
    "    def var(field):\n",
    "        import numpy as np\n",
    "        return np.var(field)\n",
    "    @staticmethod\n",
    "    def mean(field):\n",
    "        import numpy as np\n",
    "        return np.mean(field)\n",
    "    @staticmethod\n",
    "    def skew(field):\n",
    "        from scipy.stats import skew\n",
    "        return skew(field.flatten())\n",
    "    @staticmethod\n",
    "    def kurtosis(field):\n",
    "        from scipy.stats import kurtosis\n",
    "        return kurtosis(field.flatten())\n",
    "    \n",
    "    # xi has empty bins removed.  Note the number of non-empty elements\n",
    "    @property\n",
    "    def nonzerobins(self):\n",
    "        return len(self.average_r)\n",
    "    \n",
    "    @property\n",
    "    def dt(self):\n",
    "        import numpy as np\n",
    "        return np.dtype([('field', np.float, (self.Lside,self.Lside)), ('corrfn', np.float, (self.nonzerobins))])\n",
    "# end class LogNormalField\n"
   ]
  },
  {
   "cell_type": "markdown",
   "metadata": {},
   "source": [
    "# define simulator"
   ]
  },
  {
   "cell_type": "code",
   "execution_count": 29,
   "metadata": {},
   "outputs": [],
   "source": [
    "Lside       = N\n",
    "alpha       = 1.0\n",
    "beta        = 0.5\n",
    "PixelNoise  = 0.01\n",
    "\n",
    "\n",
    "# Setup for correlation function\n",
    "nbin        = 4*Lside\n",
    "ndata       = 4*Lside\n",
    "rmax        = Lside*np.sqrt(2)\n",
    "\n",
    "LN=LogNormalField(Lside,rmax,nbin)\n",
    "field = LN.run_simulation(key, 1.0, 0.5, PixelNoise=None)"
   ]
  },
  {
   "cell_type": "code",
   "execution_count": 30,
   "metadata": {},
   "outputs": [
    {
     "data": {
      "text/plain": [
       "<matplotlib.colorbar.Colorbar at 0x15537c01b730>"
      ]
     },
     "execution_count": 30,
     "metadata": {},
     "output_type": "execute_result"
    },
    {
     "data": {
      "image/png": "[encoded data removed]",
      "text/plain": [
       "<Figure size 432x288 with 2 Axes>"
      ]
     },
     "metadata": {
      "needs_background": "light"
     },
     "output_type": "display_data"
    }
   ],
   "source": [
    "plt.imshow(np.squeeze(field))\n",
    "plt.colorbar()"
   ]
  },
  {
   "cell_type": "code",
   "execution_count": 31,
   "metadata": {},
   "outputs": [],
   "source": [
    "# simulator args\n",
    "simulator_args = {'N': N, 'squeeze': False, 'pad': 2}"
   ]
  },
  {
   "cell_type": "code",
   "execution_count": 94,
   "metadata": {},
   "outputs": [],
   "source": [
    "# LN field distribution\n",
    "def _f_NL(α, β):\n",
    "    return tfd.TransformedDistribution(\n",
    "        distribution=tfd.MultivariateNormalTriL(\n",
    "            loc=np.zeros((N**2,)),\n",
    "            scale_tril=np.linalg.cholesky(ξ_G(β))),\n",
    "        bijector=tfb.Chain([\n",
    "            tfb.Scale(1. / np.expand_dims(α, (-1))), \n",
    "            tfb.Expm1(),\n",
    "            tfb.AffineScalar(\n",
    "                shift=-0.5 * np.expand_dims(α, -1)**2.,\n",
    "                scale=np.expand_dims(α, -1))]))\n",
    "\n",
    "\n",
    "# draw from the joint distribution\n",
    "def simulator(rng, n, α, β,):\n",
    "    dist = _f_NL(α, β)\n",
    "    if n is not None:\n",
    "        return dist.sample(n, seed=rng)\n",
    "    else: \n",
    "        return dist.sample(seed=rng)\n",
    "\n",
    "\n",
    "# simulator uses Florent's LN field simulator\n",
    "# wrapper for IMNN and ABC sampler\n",
    "def imnn_simulator(rng, θ, simulator_args=simulator_args):\n",
    "    \n",
    "    if isinstance(θ, tuple):\n",
    "        A, B = θ\n",
    "    else:\n",
    "        A = np.take(θ, 0, axis=-1)\n",
    "        B = np.take(θ, 1, axis=-1)\n",
    "        \n",
    "    N = simulator_args['N']\n",
    "    pad = simulator_args['pad']\n",
    "    #noise = 0.01\n",
    "    def fn(key, A, B):\n",
    "        if simulator_args['squeeze']:\n",
    "            return np.expand_dims(\n",
    "                np.pad(\n",
    "                    #simulator(key, None, A, B).reshape(N,N), \n",
    "                    LN.run_simulation(key, A, B),\n",
    "                    [pad,pad],\n",
    "                    ), \n",
    "                0)\n",
    "\n",
    "        else:\n",
    "            return (np.expand_dims(\n",
    "                        np.expand_dims(\n",
    "                            np.pad(\n",
    "                                #simulator(key, None, A, B).reshape(N,N),\n",
    "                                LN.run_simulation(key, A, B),\n",
    "                                [pad,pad]\n",
    "                                ),  \n",
    "                            0), \n",
    "                0))\n",
    "\n",
    "    if A.shape == B.shape:\n",
    "        if len(A.shape) == 0:\n",
    "            return fn(rng, A, B)\n",
    "        else:\n",
    "            keys = jax.random.split(rng, num=A.shape[0] + 1)\n",
    "            rng = keys[0]\n",
    "            keys = keys[1:]\n",
    "            return jax.vmap(\n",
    "                lambda key, A, B: imnn_simulator(key, (A,B), simulator_args=simulator_args)\n",
    "            )(keys, A, B)\n",
    "    else:\n",
    "        if len(A.shape) > 0:\n",
    "            keys = jax.random.split(rng, num=A.shape[0] + 1)\n",
    "            rng = keys[0]\n",
    "            keys = keys[1:]\n",
    "            return jax.vmap(\n",
    "                lambda key, A: imnn_simulator(key, (A,B), simulator_args=simulator_args)\n",
    "            )(keys, A)\n",
    "        elif len(B.shape) > 0:\n",
    "            keys = jax.random.split(rng, num=B.shape[0])\n",
    "            return jax.vmap(\n",
    "                lambda key, B: imnn_simulator(key, (A,B), simulator_args=simulator_args)\n",
    "            )(keys, B)\n",
    "    "
   ]
  },
  {
   "cell_type": "code",
   "execution_count": 33,
   "metadata": {},
   "outputs": [
    {
     "name": "stdout",
     "output_type": "stream",
     "text": [
      "input shape:  (1, 1, 24, 24)\n"
     ]
    }
   ],
   "source": [
    "pad = 2 #2**2\n",
    "input_shape = (1,1, N+pad*2,N+pad*2)\n",
    "print('input shape: ', input_shape)\n",
    "θ_fid = np.array([0.95, 0.55], dtype=np.float32)\n",
    "\n",
    "\n",
    "# IMNN params\n",
    "n_s = 5000\n",
    "n_d = 5000\n",
    "λ = 100.0\n",
    "ϵ = 0.1\n",
    "\n",
    "n_params = 2\n",
    "n_summaries = 2"
   ]
  },
  {
   "cell_type": "code",
   "execution_count": 34,
   "metadata": {},
   "outputs": [],
   "source": [
    "# define stax model\n",
    "from jax.nn.initializers import normal\n",
    "def InceptBlock2(filters, strides, do_5x5=True, do_3x3=True, \n",
    "                 padding=\"SAME\", W_init=None):\n",
    "    \"\"\"InceptNet convolutional striding block.\n",
    "    filters: tuple: (f1,f2,f3)\n",
    "    filters1: for conv1x1\n",
    "    filters2: for conv1x1,conv3x3\n",
    "    filters3L for conv1x1,conv5x5\"\"\"\n",
    "    \n",
    "    filters1, filters2, filters3 = filters\n",
    "    \n",
    "    conv1x1 = stax.serial(stax.Conv(filters1, (1,1), strides, padding=padding, W_init=W_init))\n",
    "    \n",
    "    filters4 = filters2\n",
    "    conv3x3 = stax.serial(stax.Conv(filters2, (1,1), strides=None, padding=padding, W_init=W_init),\n",
    "                        stax.Conv(filters4, (3,3), strides, padding=padding, W_init=W_init))\n",
    "                        \n",
    "    filters5 = filters3\n",
    "    conv5x5 = stax.serial(stax.Conv(filters3, (1,1), strides=None, padding=padding, W_init=W_init),\n",
    "                         stax.Conv(filters5, (5,5), strides, padding=padding, W_init=W_init))\n",
    "\n",
    "    maxpool = stax.serial(stax.MaxPool((3,3), padding=padding),\n",
    "                         stax.Conv(filters4, (1,1), strides, padding=padding, W_init=W_init))\n",
    "                            \n",
    "    if do_3x3:\n",
    "        if do_5x5:\n",
    "            return stax.serial(\n",
    "                  stax.FanOut(4),  # should num=3 or 2 here ?\n",
    "                  stax.parallel(conv1x1, conv3x3, conv5x5, maxpool),\n",
    "                  stax.FanInConcat(), \n",
    "                  stax.LeakyRelu)\n",
    "        else:\n",
    "            return stax.serial(\n",
    "                  stax.FanOut(3),  # should num=3 or 2 here ?\n",
    "                  stax.parallel(conv1x1, conv3x3, maxpool),\n",
    "                  stax.FanInConcat(), \n",
    "                  stax.LeakyRelu)\n",
    "            \n",
    "    else:\n",
    "        return stax.serial(\n",
    "              stax.FanOut(2),  # should num=3 or 2 here ?\n",
    "              stax.parallel(conv1x1, maxpool),\n",
    "              stax.FanInConcat(), \n",
    "              stax.LeakyRelu)\n",
    "    \n",
    "    \n",
    "def Reshape(newshape):\n",
    "    \"\"\"Layer function for a reshape layer.\"\"\"\n",
    "    init_fun = lambda rng, input_shape: (newshape,())\n",
    "    apply_fun = lambda params, inputs, **kwargs: np.reshape(inputs,newshape)\n",
    "    return init_fun, apply_fun\n",
    "\n",
    "\n",
    "from jax.nn.initializers import glorot_normal, normal, ones, zeros\n",
    "\n",
    "\n",
    "def LogLayer(a_init=ones, b_init=ones,\n",
    "              c_init=ones, d_init=ones, C=3., scalar=True):\n",
    "    \"\"\"custom layer for log-normalizing field inputs\"\"\"\n",
    "    _a_init = lambda rng,shape: a_init(rng, shape)\n",
    "    _b_init = lambda rng,shape: b_init(rng, shape)\n",
    "    _c_init = lambda rng,shape: c_init(rng, shape)\n",
    "    _d_init = lambda rng,shape: d_init(rng, shape)\n",
    "    \n",
    "    def init_fun(rng, input_shape):\n",
    "        \n",
    "        if scalar:\n",
    "            shape = ()\n",
    "        else:\n",
    "            shape = input_shape \n",
    "    \n",
    "        k1, rng = jax.random.split(rng)\n",
    "        k2, rng = jax.random.split(rng)\n",
    "        k3, rng = jax.random.split(rng)\n",
    "        k4, rng = jax.random.split(rng)\n",
    "        a,b = _a_init(k1, shape), _b_init(k2, shape)\n",
    "        c,d = _c_init(k3, shape)*C, _d_init(k4, shape)\n",
    "        return input_shape, (a,b,c,d)\n",
    "\n",
    "    def apply_fun(params, inputs, **kwargs):\n",
    "        a,b,c,d = params\n",
    "        \n",
    "        return a * np.log(np.abs(b)*inputs + c) + d\n",
    "    \n",
    "    return init_fun, apply_fun\n",
    "\n",
    "\n",
    "\n",
    "def AsinhLayer(a_init=ones, b_init=ones,\n",
    "              c_init=ones, d_init=ones, scalar=True):\n",
    "    \"\"\"custom layer for Asinh-normalizing field inputs\"\"\"\n",
    "    _a_init = lambda rng,shape: a_init(rng, shape)\n",
    "    _b_init = lambda rng,shape: b_init(rng, shape)\n",
    "    _c_init = lambda rng,shape: c_init(rng, shape)\n",
    "    _d_init = lambda rng,shape: d_init(rng, shape)\n",
    "    def init_fun(rng, input_shape):\n",
    "        if scalar:\n",
    "            shape = ()\n",
    "        else:\n",
    "            shape = input_shape \n",
    "        k1, rng = jax.random.split(rng)\n",
    "        k2, rng = jax.random.split(rng)\n",
    "        k3, rng = jax.random.split(rng)\n",
    "        k4, rng = jax.random.split(rng)\n",
    "        a,b = _a_init(k1, shape), _b_init(k2, shape)\n",
    "        c,d = _c_init(k3, shape), _d_init(k4, shape)\n",
    "        return input_shape, np.stack((a,b,c,d), 0)\n",
    "    def apply_fun(params, inputs, **kwargs):\n",
    "        a,b,c,d = params\n",
    "        return a * np.arcsinh(b*inputs + c) + d\n",
    "    return init_fun, apply_fun\n",
    "\n",
    "def ScalarLayer(C=None, c_init=ones):\n",
    "    \"\"\"Layer construction function for a reshape layer.\"\"\"\n",
    "    \n",
    "    if C is None:\n",
    "        C = 1.0\n",
    "    \n",
    "    _c_init = lambda rng,shape: c_init(rng, shape)*C\n",
    "    \n",
    "    def init_fun(rng, input_shape):\n",
    "        shape = input_shape\n",
    "        k1, rng = jax.random.split(rng)\n",
    "        constant = _c_init(k1, shape)\n",
    "        return input_shape, (constant)\n",
    "\n",
    "    def apply_fun(params, inputs, **kwargs):\n",
    "        cnst = params\n",
    "        return inputs*cnst\n",
    "    \n",
    "    \n",
    "    return init_fun, apply_fun\n",
    "\n"
   ]
  },
  {
   "cell_type": "code",
   "execution_count": 35,
   "metadata": {},
   "outputs": [],
   "source": [
    "# build model\n",
    "fs = 256\n",
    "\n",
    "model = stax.serial(\n",
    "        AsinhLayer(scalar=True),\n",
    "        InceptBlock2((fs,fs,fs), strides=(1,1)),\n",
    "        InceptBlock2((fs,fs,fs), strides=(2,2)),\n",
    "        #InceptBlock2((fs,fs,fs), strides=(1,1)),\n",
    "        InceptBlock2((fs,fs,fs), strides=(2,2)),\n",
    "        #InceptBlock2((fs,fs,fs), strides=(1,1)),\n",
    "        InceptBlock2((fs,fs,fs), strides=(2,2), do_5x5=False),\n",
    "        #InceptBlock2((fs,fs,fs), strides=(1,1), do_5x5=False),\n",
    "        InceptBlock2((fs,fs,fs), strides=(3,3), do_5x5=False, do_3x3=False),  # add in dense layers here ?\n",
    "        stax.Conv(n_summaries, (1,1), strides=(1,1), padding=\"SAME\"),\n",
    "        stax.Flatten,\n",
    "        Reshape((n_summaries,))\n",
    ")"
   ]
  },
  {
   "cell_type": "code",
   "execution_count": 36,
   "metadata": {},
   "outputs": [],
   "source": [
    "rng, initial_model_key = jax.random.split(rng)\n",
    "rng, fitting_key = jax.random.split(rng)"
   ]
  },
  {
   "cell_type": "code",
   "execution_count": 37,
   "metadata": {},
   "outputs": [],
   "source": [
    "optimiser = optimizers.adam(step_size=1e-3)"
   ]
  },
  {
   "cell_type": "code",
   "execution_count": 38,
   "metadata": {},
   "outputs": [
    {
     "name": "stdout",
     "output_type": "stream",
     "text": [
      "`simulator` provided, using SimulatorIMNN\n"
     ]
    }
   ],
   "source": [
    "rng, key = jax.random.split(rng)\n",
    "IMNN = imnn.IMNN(\n",
    "        n_s=2000,\n",
    "        n_d=2000,\n",
    "        n_params=n_params,\n",
    "        n_summaries=n_summaries,\n",
    "        input_shape=input_shape,\n",
    "        θ_fid=θ_fid,\n",
    "        model=model,\n",
    "        optimiser=optimiser,\n",
    "        key_or_state=key,\n",
    "        simulator=lambda rng, θ: imnn_simulator(\n",
    "            rng, θ, simulator_args={**simulator_args, **{\"squeeze\": False}}),\n",
    "        #host=jax.devices()[0],\n",
    "        #devices=[jax.devices()[0]],\n",
    "        #n_per_device=1000\n",
    "        )"
   ]
  },
  {
   "cell_type": "code",
   "execution_count": 130,
   "metadata": {},
   "outputs": [
    {
     "name": "stdout",
     "output_type": "stream",
     "text": [
      "CPU times: user 12min 37s, sys: 216 ms, total: 12min 37s\n",
      "Wall time: 12min 32s\n"
     ]
    }
   ],
   "source": [
    "%%time\n",
    "rng, key = jax.random.split(rng)\n",
    "IMNN.fit(λ=10., ϵ=0.1, rng=key, print_rate=None, min_iterations=500, best=True)"
   ]
  },
  {
   "cell_type": "code",
   "execution_count": 146,
   "metadata": {},
   "outputs": [
    {
     "data": {
      "image/png": "[encoded data removed]",
      "text/plain": [
       "<Figure size 360x1080 with 4 Axes>"
      ]
     },
     "metadata": {
      "needs_background": "light"
     },
     "output_type": "display_data"
    }
   ],
   "source": [
    "ax = IMNN.plot(expected_detF=detF_expected)\n",
    "ax[0].set_yscale('log')"
   ]
  },
  {
   "cell_type": "code",
   "execution_count": 132,
   "metadata": {},
   "outputs": [
    {
     "data": {
      "text/plain": [
       "DeviceArray(0.8289074, dtype=float32)"
      ]
     },
     "execution_count": 132,
     "metadata": {},
     "output_type": "execute_result"
    }
   ],
   "source": [
    "np.linalg.det(IMNN.F) / detF_expected"
   ]
  },
  {
   "cell_type": "markdown",
   "metadata": {},
   "source": [
    "# obtain target data from Florent's analysis"
   ]
  },
  {
   "cell_type": "code",
   "execution_count": 133,
   "metadata": {},
   "outputs": [],
   "source": [
    "dataid = 1 # for florent's sims as target data"
   ]
  },
  {
   "cell_type": "code",
   "execution_count": 134,
   "metadata": {},
   "outputs": [],
   "source": [
    "rng, key = jax.random.split(rng)\n",
    "target = dict(\n",
    "    f_NL=None,\n",
    "    α=np.array(1.0),\n",
    "    β=np.array(0.5))\n",
    "\n",
    "dat = np.load(\"/mnt/home/tmakinen/repositories/FieldIMNNs/fields/correlations_vs_field/data/Sims20_05_10_80_80_500_80_1_123456.npy\")\n",
    "target['f_NL'] = dat[dataid]['field'].flatten()"
   ]
  },
  {
   "cell_type": "code",
   "execution_count": 135,
   "metadata": {},
   "outputs": [
    {
     "data": {
      "text/plain": [
       "<matplotlib.colorbar.Colorbar at 0x154b90c623d0>"
      ]
     },
     "execution_count": 135,
     "metadata": {},
     "output_type": "execute_result"
    },
    {
     "data": {
      "image/png": "[encoded data removed]",
      "text/plain": [
       "<Figure size 432x288 with 2 Axes>"
      ]
     },
     "metadata": {
      "needs_background": "light"
     },
     "output_type": "display_data"
    }
   ],
   "source": [
    "plt.imshow(target[\"f_NL\"].reshape((N, N)))\n",
    "plt.colorbar()"
   ]
  },
  {
   "cell_type": "code",
   "execution_count": 73,
   "metadata": {},
   "outputs": [
    {
     "data": {
      "text/plain": [
       "(400,)"
      ]
     },
     "execution_count": 73,
     "metadata": {},
     "output_type": "execute_result"
    }
   ],
   "source": [
    "target['f_NL'].shape"
   ]
  },
  {
   "cell_type": "code",
   "execution_count": 76,
   "metadata": {},
   "outputs": [],
   "source": [
    "# put data in the proper shape for IMNN \n",
    "target_data = np.expand_dims(np.expand_dims(np.expand_dims(np.pad(target[\"f_NL\"].reshape((N, N)), [2,2]), 0), 0),0)\n",
    "estimates = IMNN.get_estimate(target_data)"
   ]
  },
  {
   "cell_type": "code",
   "execution_count": 82,
   "metadata": {},
   "outputs": [],
   "source": [
    "prior = tfp.distributions.Blockwise(\n",
    "    [tfp.distributions.Uniform(low=low, high=high)\n",
    "     for low, high in zip([0.1, 0.1], [1.25, 1.25])])\n",
    "prior.low = np.array([0.1, 0.2])\n",
    "prior.high = np.array([2.0, 0.8])"
   ]
  },
  {
   "cell_type": "code",
   "execution_count": 83,
   "metadata": {},
   "outputs": [],
   "source": [
    "GA = imnn.lfi.GaussianApproximation(\n",
    "    parameter_estimates=estimates, \n",
    "    invF=np.expand_dims(np.linalg.inv(IMNN.F), 0), \n",
    "    prior=prior, \n",
    "    gridsize=100)"
   ]
  },
  {
   "cell_type": "markdown",
   "metadata": {},
   "source": [
    "### run ABC"
   ]
  },
  {
   "cell_type": "code",
   "execution_count": 95,
   "metadata": {},
   "outputs": [],
   "source": [
    "ABC = imnn.lfi.ApproximateBayesianComputation(\n",
    "    target_data=target_data,\n",
    "    prior=prior,\n",
    "    simulator=lambda rng, θ : imnn_simulator(rng, θ, simulator_args={**simulator_args, **{'squeeze':False}}),\n",
    "    compressor=IMNN.get_estimate,\n",
    "    gridsize=100, \n",
    "    F=np.expand_dims(IMNN.F, 0))"
   ]
  },
  {
   "cell_type": "code",
   "execution_count": 96,
   "metadata": {},
   "outputs": [
    {
     "name": "stdout",
     "output_type": "stream",
     "text": [
      "[2287] accepted in last  5000 iterations  (50000000 simulations done).\n",
      "CPU times: user 35min 3s, sys: 2.88 s, total: 35min 6s\n",
      "Wall time: 35min 10s\n"
     ]
    },
    {
     "data": {
      "text/plain": [
       "(<imnn.utils.container.container at 0x154b999c0160>,\n",
       " <imnn.utils.container.container at 0x1553f01a9fd0>,\n",
       " <imnn.utils.container.container at 0x154b99658820>)"
      ]
     },
     "execution_count": 96,
     "metadata": {},
     "output_type": "execute_result"
    }
   ],
   "source": [
    "%%time\n",
    "rng, key = jax.random.split(rng)\n",
    "ABC(ϵ=0.1, rng=key, n_samples=10000, min_accepted=5000, \n",
    "    smoothing=0., max_iterations=5000);"
   ]
  },
  {
   "cell_type": "code",
   "execution_count": 144,
   "metadata": {},
   "outputs": [],
   "source": [
    "np.save('./marginals/abc_distances', ABC.distances.accepted)"
   ]
  },
  {
   "cell_type": "code",
   "execution_count": 143,
   "metadata": {},
   "outputs": [
    {
     "data": {
      "text/plain": [
       "(array([ 0.33315612,  1.17885806,  3.51095296,  7.91885086, 13.7875138 ,\n",
       "        14.60764   , 10.66097721,  4.94607837,  1.43513656,  0.23064614]),\n",
       " array([0.41849935, 0.43556133, 0.45262334, 0.46968532, 0.48674732,\n",
       "        0.50380933, 0.5208713 , 0.5379333 , 0.5549953 , 0.57205725,\n",
       "        0.58911926], dtype=float32),\n",
       " [<matplotlib.patches.Polygon at 0x154b9083e5b0>])"
      ]
     },
     "execution_count": 143,
     "metadata": {},
     "output_type": "execute_result"
    },
    {
     "data": {
      "image/png": "[encoded data removed]",
      "text/plain": [
       "<Figure size 720x720 with 4 Axes>"
      ]
     },
     "metadata": {
      "needs_background": "light"
     },
     "output_type": "display_data"
    }
   ],
   "source": [
    "ax = GA.marginal_plot(\n",
    "    known=np.array([1.0, 0.5]),          \n",
    "    label=\"Gaussian approximation\",         \n",
    "    axis_labels=[r\"$\\alpha$\", r\"$\\beta$\"],\n",
    "    colours=\"C1\")\n",
    "\n",
    "# ABC scatter plots\n",
    "ax[0,0].hist(ABC.parameters.accepted[0][:, 0], color='purple', histtype='step', density=True)\n",
    "ax[1,0].scatter(ABC.parameters.accepted[0][:, 0], ABC.parameters.accepted[0][:, 1], s=8, alpha=0.6,\n",
    "                c=np.log(ABC.distances.accepted[0]), cmap='Purples', edgecolors=None, linewidths=0, marker='.')\n",
    "\n",
    "ax[1,1].hist(ABC.parameters.accepted[0][:, 1], color='purple', \n",
    "             histtype='step', density=True, orientation='horizontal')"
   ]
  },
  {
   "cell_type": "code",
   "execution_count": 101,
   "metadata": {},
   "outputs": [
    {
     "data": {
      "text/plain": [
       "DeviceArray([0.95, 0.55], dtype=float32)"
      ]
     },
     "execution_count": 101,
     "metadata": {},
     "output_type": "execute_result"
    }
   ],
   "source": [
    "θ_fid"
   ]
  },
  {
   "cell_type": "code",
   "execution_count": 120,
   "metadata": {},
   "outputs": [],
   "source": [
    "np.save('./marginals/abc_marginal_field_%d.npy'%(dataid), ABC.parameters.accepted)"
   ]
  },
  {
   "cell_type": "code",
   "execution_count": null,
   "metadata": {},
   "outputs": [],
   "source": [
    "class ConditionalMaskedAutoregressiveFlow(tf.Module):\n",
    "    def __init__(self, n_dimensions=None, n_conditionals=None, n_mades=1, n_hidden=[50,50], input_order=\"random\",\n",
    "    activation=tf.keras.layers.LeakyReLU(0.01), \n",
    "    all_layers=True,\n",
    "    kernel_initializer=tf.keras.initializers.RandomNormal(mean=0.0, stddev=1e-5, seed=None), \n",
    "    bias_initializer=tf.keras.initializers.RandomNormal(mean=0.0, stddev=1e-5, seed=None),\n",
    "    kernel_regularizer=None, bias_regularizer=None, kernel_constraint=None,\n",
    "    bias_constraint=None):\n",
    "        # extract init parameters\n",
    "        self.n_dimensions = n_dimensions\n",
    "        self.n_conditionals = n_conditionals\n",
    "        self.n_mades = n_mades\n",
    "        # construct the base (normal) distribution\n",
    "        self.base_distribution = tfd.MultivariateNormalDiag(loc=tf.zeros(self.n_dimensions), scale_diag=tf.ones(self.n_dimensions))\n",
    "        # put the conditional inputs to all layers, or just the first layer?\n",
    "        if all_layers == True:\n",
    "            all_layers = \"all_layers\"\n",
    "        else:\n",
    "            all_layers = \"first_layer\"\n",
    "        # construct stack of conditional MADEs\n",
    "        self.MADEs = [tfb.AutoregressiveNetwork(\n",
    "                        params=2,\n",
    "                        hidden_units=n_hidden,\n",
    "                        activation=activation,\n",
    "                        event_shape=[n_dimensions],\n",
    "                        conditional=True,\n",
    "                        conditional_event_shape=[n_conditionals],\n",
    "                        conditional_input_layers=all_layers,\n",
    "                        input_order=input_order,\n",
    "                        kernel_initializer=kernel_initializer,\n",
    "                        bias_initializer=bias_initializer,\n",
    "                        kernel_regularizer=kernel_regularizer,\n",
    "                        bias_regularizer=bias_regularizer,\n",
    "                        kernel_constraint=kernel_constraint,\n",
    "                        bias_constraint=bias_constraint,\n",
    "                        name=\"MADE_{}\".format(i)) for i in range(n_mades)]\n",
    "    # bijector for x | y (chain the conditional MADEs together)\n",
    "    def bijector(self, y):\n",
    "        # start with an empty bijector\n",
    "        MAF = tfb.Identity() \n",
    "        # pass through the MADE layers (passing conditional inputs each time)\n",
    "        for i in range(self.n_mades):\n",
    "            MAF = tfb.MaskedAutoregressiveFlow(shift_and_log_scale_fn=lambda x: self.MADEs[i](x, conditional_input=y))(MAF)\n",
    "        return MAF\n",
    "    # construct distribution P(x | y)\n",
    "    def __call__(self, y):\n",
    "        return tfd.TransformedDistribution(\n",
    "            self.base_distribution,\n",
    "            bijector=self.bijector(y))\n",
    "    # log probability ln P(x | y)\n",
    "    def log_prob(self, x, y):\n",
    "        return self.__call__(y).log_prob(x)\n",
    "    # sample n samples from P(x | y)\n",
    "    def sample(self, n, y):\n",
    "        # base samples\n",
    "        base_samples = self.base_distribution.sample(n)\n",
    "        # biject the samples\n",
    "        return self.bijector(y).forward(base_samples)"
   ]
  }
 ],
 "metadata": {
  "kernelspec": {
   "display_name": "pyjax9",
   "language": "python",
   "name": "pyjax9"
  },
  "language_info": {
   "codemirror_mode": {
    "name": "ipython",
    "version": 3
   },
   "file_extension": ".py",
   "mimetype": "text/x-python",
   "name": "python",
   "nbconvert_exporter": "python",
   "pygments_lexer": "ipython3",
   "version": "3.8.8"
  }
 },
 "nbformat": 4,
 "nbformat_minor": 4
}
