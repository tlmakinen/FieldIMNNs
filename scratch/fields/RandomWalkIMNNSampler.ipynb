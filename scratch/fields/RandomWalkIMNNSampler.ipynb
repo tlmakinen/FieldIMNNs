{
 "cells": [
  {
   "cell_type": "code",
   "execution_count": 1,
   "metadata": {},
   "outputs": [],
   "source": [
    "!XLA_FLAGS=--xla_gpu_cuda_data_dir=/cm/shared/sw/pkg/devel/cuda/10.1.243_418.87.00"
   ]
  },
  {
   "cell_type": "code",
   "execution_count": 2,
   "metadata": {},
   "outputs": [
    {
     "name": "stdout",
     "output_type": "stream",
     "text": [
      "jax version:  0.2.10\n"
     ]
    }
   ],
   "source": [
    "import jax\n",
    "print(\"jax version: \", jax.__version__)\n",
    "import jax.numpy as np\n",
    "import tensorflow_probability.substrates.jax as tfp\n",
    "tfd = tfp.distributions\n",
    "tfb = tfp.bijectors\n",
    "import matplotlib.pyplot as plt\n",
    "from scipy.linalg import toeplitz\n",
    "\n",
    "rng = jax.random.PRNGKey(2)"
   ]
  },
  {
   "cell_type": "code",
   "execution_count": 3,
   "metadata": {},
   "outputs": [
    {
     "name": "stdout",
     "output_type": "stream",
     "text": [
      "/mnt/home/tmakinen/repositories/scratch/devinstall/imnn\n"
     ]
    }
   ],
   "source": [
    "cd ~/repositories/scratch/devinstall/imnn"
   ]
  },
  {
   "cell_type": "code",
   "execution_count": 4,
   "metadata": {},
   "outputs": [
    {
     "name": "stdout",
     "output_type": "stream",
     "text": [
      "M\timnn/imnn/_aggregated_imnn.py\n",
      "Already on 'dev'\n"
     ]
    }
   ],
   "source": [
    "!git checkout dev"
   ]
  },
  {
   "cell_type": "code",
   "execution_count": 6,
   "metadata": {
    "collapsed": true,
    "jupyter": {
     "outputs_hidden": true
    }
   },
   "outputs": [
    {
     "name": "stdout",
     "output_type": "stream",
     "text": [
      "remote: Counting objects: 66, done.\u001b[K\n",
      "remote: Compressing objects: 100% (66/66), done.\u001b[K\n",
      "remote: Total 66 (delta 32), reused 0 (delta 0)\u001b[K\n",
      "Unpacking objects: 100% (66/66), done.\n",
      "From https://bitbucket.org/tomcharnock/imnn\n",
      "   ac3f2a3..90cc311  dev        -> origin/dev\n",
      "Updating ac3f2a3..90cc311\n",
      "Fast-forward\n",
      " docs/pages/examples.rst                            |   1 +\n",
      " .../AggregatedGradientIMNN.rst                     |  39 +-\n",
      " .../AggregatedGradientIMNN.zip                     | Bin 0 -> 47156 bytes\n",
      " .../AggregatedGradientIMNN/output_27_0.png         | Bin 0 -> 45826 bytes\n",
      " .../AggregatedGradientIMNN/output_28_0.png         | Bin 45851 -> 0 bytes\n",
      " .../AggregatedNumericalGradientIMNN.rst            |  36 +-\n",
      " .../AggregatedNumericalGradientIMNN.zip            | Bin 0 -> 47273 bytes\n",
      " .../output_26_0.png                                | Bin 45573 -> 45494 bytes\n",
      " .../AggregatedSimulatorIMNN.rst                    |   2 +-\n",
      " .../AggregatedSimulatorIMNN.zip                    | Bin 0 -> 62288 bytes\n",
      " .../AggregatedSimulatorIMNN/output_23_0.png        | Bin 59212 -> 61005 bytes\n",
      " .../DatasetGradientIMNN/DatasetGradientIMNN.rst    | 539 ++++++++++++++++\n",
      " .../DatasetGradientIMNN/DatasetGradientIMNN.zip    | Bin 0 -> 47292 bytes\n",
      " .../examples/DatasetGradientIMNN/output_34_0.png   | Bin 0 -> 44175 bytes\n",
      " .../DatasetNumericalGradientIMNN.rst               | 119 ++--\n",
      " .../DatasetNumericalGradientIMNN.zip               | Bin 0 -> 48843 bytes\n",
      " .../DatasetNumericalGradientIMNN/output_31_0.png   | Bin 47691 -> 45494 bytes\n",
      " docs/pages/examples/GradientIMNN/GradientIMNN.rst  |   6 -\n",
      " docs/pages/examples/GradientIMNN/GradientIMNN.zip  | Bin 0 -> 48283 bytes\n",
      " docs/pages/examples/GradientIMNN/output_26_0.png   | Bin 47334 -> 47326 bytes\n",
      " .../NumericalGradientIMNN.zip                      | Bin 0 -> 45344 bytes\n",
      " .../examples/NumericalGradientIMNN/output_24_0.png | Bin 44255 -> 44244 bytes\n",
      " .../pages/examples/SimulatorIMNN/SimulatorIMNN.zip | Bin 0 -> 58727 bytes\n",
      " examples/AggregatedGradientIMNN.ipynb              |  71 +--\n",
      " examples/AggregatedNumericalGradientIMNN.ipynb     |  73 +--\n",
      " examples/AggregatedSimulatorIMNN.ipynb             |  28 +-\n",
      " examples/DatasetGradientIMNN.ipynb                 | 675 +++++++++++++++++++++\n",
      " examples/DatasetNumericalGradientIMNN.ipynb        |  34 +-\n",
      " examples/GradientIMNN.ipynb                        |  18 +-\n",
      " examples/NumericalGradientIMNN.ipynb               |   6 +-\n",
      " examples/SimulatorIMNN.ipynb                       |  14 +-\n",
      " imnn/__init__.py                                   |   6 +-\n",
      " imnn/imnn/__init__.py                              |   2 +\n",
      " imnn/imnn/_aggregated_imnn.py                      |  13 +-\n",
      " imnn/imnn/_imnn.py                                 |   2 +-\n",
      " imnn/imnn/aggregated_gradient_imnn.py              |  10 +-\n",
      " imnn/imnn/aggregated_numerical_gradient_imnn.py    |   8 +-\n",
      " imnn/imnn/aggregated_simulator_imnn.py             |  10 +-\n",
      " imnn/imnn/dataset_gradient_imnn.py                 | 673 ++++++++++++++++++++\n",
      " imnn/imnn/dataset_gradient_imnn_test.py            | 230 +++++++\n",
      " imnn/imnn/dataset_numerical_gradient_imnn_test.py  | 158 +++++\n",
      " imnn/utils/__init__.py                             |   4 +-\n",
      " imnn/utils/tfrecords.py                            |  26 +-\n",
      " imnn/utils/utils.py                                |  10 +-\n",
      " test/aggregated_defaults.py                        |  19 +-\n",
      " test/defaults.py                                   |  13 +-\n",
      " test/figures/dataset_gradient/README.rst           |   0\n",
      " test/figures/dataset_numerical_gradient/README.rst |   0\n",
      " test/gradient_defaults.py                          |  10 +-\n",
      " test/numerical_gradient_defaults.py                |  19 +-\n",
      " test/simulator_defaults.py                         |   9 +-\n",
      " 51 files changed, 2569 insertions(+), 314 deletions(-)\n",
      " create mode 100644 docs/pages/examples/AggregatedGradientIMNN/AggregatedGradientIMNN.zip\n",
      " create mode 100644 docs/pages/examples/AggregatedGradientIMNN/output_27_0.png\n",
      " delete mode 100644 docs/pages/examples/AggregatedGradientIMNN/output_28_0.png\n",
      " create mode 100644 docs/pages/examples/AggregatedNumericalGradientIMNN/AggregatedNumericalGradientIMNN.zip\n",
      " create mode 100644 docs/pages/examples/AggregatedSimulatorIMNN/AggregatedSimulatorIMNN.zip\n",
      " create mode 100644 docs/pages/examples/DatasetGradientIMNN/DatasetGradientIMNN.rst\n",
      " create mode 100644 docs/pages/examples/DatasetGradientIMNN/DatasetGradientIMNN.zip\n",
      " create mode 100644 docs/pages/examples/DatasetGradientIMNN/output_34_0.png\n",
      " create mode 100644 docs/pages/examples/DatasetNumericalGradientIMNN/DatasetNumericalGradientIMNN.zip\n",
      " create mode 100644 docs/pages/examples/GradientIMNN/GradientIMNN.zip\n",
      " create mode 100644 docs/pages/examples/NumericalGradientIMNN/NumericalGradientIMNN.zip\n",
      " create mode 100644 docs/pages/examples/SimulatorIMNN/SimulatorIMNN.zip\n",
      " create mode 100644 examples/DatasetGradientIMNN.ipynb\n",
      " create mode 100644 imnn/imnn/dataset_gradient_imnn.py\n",
      " create mode 100644 imnn/imnn/dataset_gradient_imnn_test.py\n",
      " create mode 100644 imnn/imnn/dataset_numerical_gradient_imnn_test.py\n",
      " create mode 100644 test/figures/dataset_gradient/README.rst\n",
      " create mode 100644 test/figures/dataset_numerical_gradient/README.rst\n"
     ]
    }
   ],
   "source": [
    "!git pull"
   ]
  },
  {
   "cell_type": "code",
   "execution_count": 7,
   "metadata": {},
   "outputs": [
    {
     "name": "stdout",
     "output_type": "stream",
     "text": [
      "Obtaining file:///mnt/home/tmakinen/repositories/scratch/devinstall/imnn\n",
      "Requirement already satisfied: jax>=0.2.10 in /mnt/home/tmakinen/anaconda3/envs/pyjax9/lib/python3.8/site-packages (from IMNN==0.3.dev0) (0.2.10)\n",
      "Requirement already satisfied: tensorflow>=2.1.0 in /mnt/home/tmakinen/anaconda3/envs/pyjax9/lib/python3.8/site-packages (from IMNN==0.3.dev0) (2.4.1)\n",
      "Requirement already satisfied: tqdm>=4.48.2 in /mnt/home/tmakinen/anaconda3/envs/pyjax9/lib/python3.8/site-packages/tqdm-4.59.0-py3.8.egg (from IMNN==0.3.dev0) (4.59.0)\n",
      "Requirement already satisfied: tensorflow_probability in /mnt/home/tmakinen/anaconda3/envs/pyjax9/lib/python3.8/site-packages/tensorflow_probability-0.12.1-py3.8.egg (from IMNN==0.3.dev0) (0.12.1)\n",
      "Requirement already satisfied: numpy in /mnt/home/tmakinen/anaconda3/envs/pyjax9/lib/python3.8/site-packages (from IMNN==0.3.dev0) (1.19.5)\n",
      "Requirement already satisfied: scipy in /mnt/home/tmakinen/anaconda3/envs/pyjax9/lib/python3.8/site-packages (from IMNN==0.3.dev0) (1.6.2)\n",
      "Requirement already satisfied: matplotlib in /mnt/home/tmakinen/anaconda3/envs/pyjax9/lib/python3.8/site-packages/matplotlib-3.4.1-py3.8-linux-x86_64.egg (from IMNN==0.3.dev0) (3.4.1)\n",
      "Requirement already satisfied: absl-py in /mnt/home/tmakinen/anaconda3/envs/pyjax9/lib/python3.8/site-packages (from jax>=0.2.10->IMNN==0.3.dev0) (0.12.0)\n",
      "Requirement already satisfied: opt-einsum in /mnt/home/tmakinen/anaconda3/envs/pyjax9/lib/python3.8/site-packages (from jax>=0.2.10->IMNN==0.3.dev0) (3.3.0)\n",
      "Requirement already satisfied: termcolor~=1.1.0 in /mnt/home/tmakinen/anaconda3/envs/pyjax9/lib/python3.8/site-packages (from tensorflow>=2.1.0->IMNN==0.3.dev0) (1.1.0)\n",
      "Requirement already satisfied: flatbuffers~=1.12.0 in /mnt/home/tmakinen/anaconda3/envs/pyjax9/lib/python3.8/site-packages (from tensorflow>=2.1.0->IMNN==0.3.dev0) (1.12)\n",
      "Requirement already satisfied: keras-preprocessing~=1.1.2 in /mnt/home/tmakinen/anaconda3/envs/pyjax9/lib/python3.8/site-packages (from tensorflow>=2.1.0->IMNN==0.3.dev0) (1.1.2)\n",
      "Requirement already satisfied: tensorboard~=2.4 in /mnt/home/tmakinen/anaconda3/envs/pyjax9/lib/python3.8/site-packages (from tensorflow>=2.1.0->IMNN==0.3.dev0) (2.4.1)\n",
      "Requirement already satisfied: grpcio~=1.32.0 in /mnt/home/tmakinen/anaconda3/envs/pyjax9/lib/python3.8/site-packages (from tensorflow>=2.1.0->IMNN==0.3.dev0) (1.32.0)\n",
      "Requirement already satisfied: wrapt~=1.12.1 in /mnt/home/tmakinen/anaconda3/envs/pyjax9/lib/python3.8/site-packages (from tensorflow>=2.1.0->IMNN==0.3.dev0) (1.12.1)\n",
      "Requirement already satisfied: h5py~=2.10.0 in /mnt/home/tmakinen/anaconda3/envs/pyjax9/lib/python3.8/site-packages (from tensorflow>=2.1.0->IMNN==0.3.dev0) (2.10.0)\n",
      "Requirement already satisfied: six~=1.15.0 in /mnt/home/tmakinen/anaconda3/envs/pyjax9/lib/python3.8/site-packages (from tensorflow>=2.1.0->IMNN==0.3.dev0) (1.15.0)\n",
      "Requirement already satisfied: google-pasta~=0.2 in /mnt/home/tmakinen/anaconda3/envs/pyjax9/lib/python3.8/site-packages (from tensorflow>=2.1.0->IMNN==0.3.dev0) (0.2.0)\n",
      "Requirement already satisfied: protobuf>=3.9.2 in /mnt/home/tmakinen/anaconda3/envs/pyjax9/lib/python3.8/site-packages (from tensorflow>=2.1.0->IMNN==0.3.dev0) (3.15.6)\n",
      "Requirement already satisfied: gast==0.3.3 in /mnt/home/tmakinen/anaconda3/envs/pyjax9/lib/python3.8/site-packages (from tensorflow>=2.1.0->IMNN==0.3.dev0) (0.3.3)\n",
      "Requirement already satisfied: wheel~=0.35 in /mnt/home/tmakinen/anaconda3/envs/pyjax9/lib/python3.8/site-packages (from tensorflow>=2.1.0->IMNN==0.3.dev0) (0.36.2)\n",
      "Requirement already satisfied: astunparse~=1.6.3 in /mnt/home/tmakinen/anaconda3/envs/pyjax9/lib/python3.8/site-packages (from tensorflow>=2.1.0->IMNN==0.3.dev0) (1.6.3)\n",
      "Requirement already satisfied: typing-extensions~=3.7.4 in /mnt/home/tmakinen/anaconda3/envs/pyjax9/lib/python3.8/site-packages (from tensorflow>=2.1.0->IMNN==0.3.dev0) (3.7.4.3)\n",
      "Requirement already satisfied: tensorflow-estimator<2.5.0,>=2.4.0 in /mnt/home/tmakinen/anaconda3/envs/pyjax9/lib/python3.8/site-packages (from tensorflow>=2.1.0->IMNN==0.3.dev0) (2.4.0)\n",
      "Requirement already satisfied: requests<3,>=2.21.0 in /mnt/home/tmakinen/anaconda3/envs/pyjax9/lib/python3.8/site-packages (from tensorboard~=2.4->tensorflow>=2.1.0->IMNN==0.3.dev0) (2.25.1)\n",
      "Requirement already satisfied: setuptools>=41.0.0 in /mnt/home/tmakinen/anaconda3/envs/pyjax9/lib/python3.8/site-packages (from tensorboard~=2.4->tensorflow>=2.1.0->IMNN==0.3.dev0) (54.2.0)\n",
      "Requirement already satisfied: tensorboard-plugin-wit>=1.6.0 in /mnt/home/tmakinen/anaconda3/envs/pyjax9/lib/python3.8/site-packages (from tensorboard~=2.4->tensorflow>=2.1.0->IMNN==0.3.dev0) (1.8.0)\n",
      "Requirement already satisfied: google-auth<2,>=1.6.3 in /mnt/home/tmakinen/anaconda3/envs/pyjax9/lib/python3.8/site-packages (from tensorboard~=2.4->tensorflow>=2.1.0->IMNN==0.3.dev0) (1.28.0)\n",
      "Requirement already satisfied: markdown>=2.6.8 in /mnt/home/tmakinen/anaconda3/envs/pyjax9/lib/python3.8/site-packages (from tensorboard~=2.4->tensorflow>=2.1.0->IMNN==0.3.dev0) (3.3.4)\n",
      "Requirement already satisfied: werkzeug>=0.11.15 in /mnt/home/tmakinen/anaconda3/envs/pyjax9/lib/python3.8/site-packages (from tensorboard~=2.4->tensorflow>=2.1.0->IMNN==0.3.dev0) (1.0.1)\n",
      "Requirement already satisfied: google-auth-oauthlib<0.5,>=0.4.1 in /mnt/home/tmakinen/anaconda3/envs/pyjax9/lib/python3.8/site-packages (from tensorboard~=2.4->tensorflow>=2.1.0->IMNN==0.3.dev0) (0.4.4)\n",
      "Requirement already satisfied: pyasn1-modules>=0.2.1 in /mnt/home/tmakinen/anaconda3/envs/pyjax9/lib/python3.8/site-packages (from google-auth<2,>=1.6.3->tensorboard~=2.4->tensorflow>=2.1.0->IMNN==0.3.dev0) (0.2.8)\n",
      "Requirement already satisfied: rsa<5,>=3.1.4 in /mnt/home/tmakinen/anaconda3/envs/pyjax9/lib/python3.8/site-packages (from google-auth<2,>=1.6.3->tensorboard~=2.4->tensorflow>=2.1.0->IMNN==0.3.dev0) (4.7.2)\n",
      "Requirement already satisfied: cachetools<5.0,>=2.0.0 in /mnt/home/tmakinen/anaconda3/envs/pyjax9/lib/python3.8/site-packages (from google-auth<2,>=1.6.3->tensorboard~=2.4->tensorflow>=2.1.0->IMNN==0.3.dev0) (4.2.1)\n",
      "Requirement already satisfied: requests-oauthlib>=0.7.0 in /mnt/home/tmakinen/anaconda3/envs/pyjax9/lib/python3.8/site-packages (from google-auth-oauthlib<0.5,>=0.4.1->tensorboard~=2.4->tensorflow>=2.1.0->IMNN==0.3.dev0) (1.3.0)\n",
      "Requirement already satisfied: pyasn1<0.5.0,>=0.4.6 in /mnt/home/tmakinen/anaconda3/envs/pyjax9/lib/python3.8/site-packages (from pyasn1-modules>=0.2.1->google-auth<2,>=1.6.3->tensorboard~=2.4->tensorflow>=2.1.0->IMNN==0.3.dev0) (0.4.8)\n",
      "Requirement already satisfied: chardet<5,>=3.0.2 in /mnt/home/tmakinen/anaconda3/envs/pyjax9/lib/python3.8/site-packages (from requests<3,>=2.21.0->tensorboard~=2.4->tensorflow>=2.1.0->IMNN==0.3.dev0) (4.0.0)\n",
      "Requirement already satisfied: urllib3<1.27,>=1.21.1 in /mnt/home/tmakinen/anaconda3/envs/pyjax9/lib/python3.8/site-packages (from requests<3,>=2.21.0->tensorboard~=2.4->tensorflow>=2.1.0->IMNN==0.3.dev0) (1.26.4)\n",
      "Requirement already satisfied: idna<3,>=2.5 in /mnt/home/tmakinen/anaconda3/envs/pyjax9/lib/python3.8/site-packages (from requests<3,>=2.21.0->tensorboard~=2.4->tensorflow>=2.1.0->IMNN==0.3.dev0) (2.10)\n",
      "Requirement already satisfied: certifi>=2017.4.17 in /mnt/home/tmakinen/anaconda3/envs/pyjax9/lib/python3.8/site-packages (from requests<3,>=2.21.0->tensorboard~=2.4->tensorflow>=2.1.0->IMNN==0.3.dev0) (2020.12.5)\n",
      "Requirement already satisfied: oauthlib>=3.0.0 in /mnt/home/tmakinen/anaconda3/envs/pyjax9/lib/python3.8/site-packages (from requests-oauthlib>=0.7.0->google-auth-oauthlib<0.5,>=0.4.1->tensorboard~=2.4->tensorflow>=2.1.0->IMNN==0.3.dev0) (3.1.0)\n",
      "Requirement already satisfied: cycler>=0.10 in /mnt/home/tmakinen/anaconda3/envs/pyjax9/lib/python3.8/site-packages/cycler-0.10.0-py3.8.egg (from matplotlib->IMNN==0.3.dev0) (0.10.0)\n",
      "Requirement already satisfied: kiwisolver>=1.0.1 in /mnt/home/tmakinen/anaconda3/envs/pyjax9/lib/python3.8/site-packages/kiwisolver-1.3.1-py3.8-linux-x86_64.egg (from matplotlib->IMNN==0.3.dev0) (1.3.1)\n",
      "Requirement already satisfied: pillow>=6.2.0 in /mnt/home/tmakinen/anaconda3/envs/pyjax9/lib/python3.8/site-packages/Pillow-8.1.2-py3.8-linux-x86_64.egg (from matplotlib->IMNN==0.3.dev0) (8.1.2)\n",
      "Requirement already satisfied: pyparsing>=2.2.1 in /mnt/home/tmakinen/anaconda3/envs/pyjax9/lib/python3.8/site-packages (from matplotlib->IMNN==0.3.dev0) (2.4.7)\n",
      "Requirement already satisfied: python-dateutil>=2.7 in /mnt/home/tmakinen/anaconda3/envs/pyjax9/lib/python3.8/site-packages (from matplotlib->IMNN==0.3.dev0) (2.8.1)\n",
      "Requirement already satisfied: cloudpickle>=1.3 in /mnt/home/tmakinen/anaconda3/envs/pyjax9/lib/python3.8/site-packages/cloudpickle-1.6.0-py3.8.egg (from tensorflow_probability->IMNN==0.3.dev0) (1.6.0)\n",
      "Requirement already satisfied: decorator in /mnt/home/tmakinen/anaconda3/envs/pyjax9/lib/python3.8/site-packages (from tensorflow_probability->IMNN==0.3.dev0) (4.4.2)\n",
      "Requirement already satisfied: dm-tree in /mnt/home/tmakinen/anaconda3/envs/pyjax9/lib/python3.8/site-packages/dm_tree-0.1.5-py3.8-linux-x86_64.egg (from tensorflow_probability->IMNN==0.3.dev0) (0.1.5)\n",
      "Installing collected packages: IMNN\n",
      "  Attempting uninstall: IMNN\n",
      "    Found existing installation: IMNN 0.3.dev0\n",
      "    Uninstalling IMNN-0.3.dev0:\n",
      "      Successfully uninstalled IMNN-0.3.dev0\n",
      "  Running setup.py develop for IMNN\n",
      "Successfully installed IMNN\n"
     ]
    }
   ],
   "source": [
    "!python -m pip install -e ."
   ]
  },
  {
   "cell_type": "code",
   "execution_count": 8,
   "metadata": {},
   "outputs": [
    {
     "name": "stdout",
     "output_type": "stream",
     "text": [
      "0.12.1\n"
     ]
    }
   ],
   "source": [
    "print(tfp.__version__)"
   ]
  },
  {
   "cell_type": "code",
   "execution_count": 9,
   "metadata": {},
   "outputs": [
    {
     "name": "stdout",
     "output_type": "stream",
     "text": [
      "gpu\n"
     ]
    }
   ],
   "source": [
    "from jax.lib import xla_bridge\n",
    "print(xla_bridge.get_backend().platform)"
   ]
  },
  {
   "cell_type": "code",
   "execution_count": 10,
   "metadata": {},
   "outputs": [],
   "source": [
    "import IMNN.experimental.jax.lfi"
   ]
  },
  {
   "cell_type": "code",
   "execution_count": 11,
   "metadata": {},
   "outputs": [
    {
     "name": "stdout",
     "output_type": "stream",
     "text": [
      "IMNN version:  0.3dev\n"
     ]
    }
   ],
   "source": [
    "# for model stuff\n",
    "import jax.experimental.optimizers as optimizers\n",
    "import jax.experimental.stax as stax\n",
    "from jax import jit\n",
    "\n",
    "# for imnn\n",
    "import imnn\n",
    "print(\"IMNN version: \", imnn.__version__)\n",
    "\n",
    "from imnn.imnn import (\n",
    "    AggregatedGradientIMNN,\n",
    "    AggregatedNumericalGradientIMNN,\n",
    "    AggregatedSimulatorIMNN,\n",
    "    GradientIMNN,\n",
    "    NumericalGradientIMNN,\n",
    "    SimulatorIMNN,\n",
    ")\n",
    "from imnn.lfi import (\n",
    "    ApproximateBayesianComputation,\n",
    "    GaussianApproximation,\n",
    ")\n",
    "from imnn.utils import value_and_jacrev, value_and_jacfwd\n",
    "\n",
    "rng = jax.random.PRNGKey(0)"
   ]
  },
  {
   "cell_type": "code",
   "execution_count": 12,
   "metadata": {},
   "outputs": [],
   "source": [
    "N = 20"
   ]
  },
  {
   "cell_type": "code",
   "execution_count": 13,
   "metadata": {},
   "outputs": [],
   "source": [
    "def scipy_compute_r2(N):\n",
    "    _Di = np.tile(toeplitz(np.arange(N)), (N, N))\n",
    "    _Dj = np.concatenate(\n",
    "        [np.concatenate(\n",
    "            [np.tile(np.abs(i - j),(N, N)) \n",
    "             for i in range(N)], \n",
    "            axis=0)\n",
    "         for j in range(N)],\n",
    "        axis=1)\n",
    "    _distance_squared = _Di * _Di + _Dj * _Dj\n",
    "    return _distance_squared\n",
    "\n",
    "def compute_r2(N):\n",
    "    _r2 = np.tile(np.abs(np.expand_dims(np.arange(N), 0) \n",
    "                    - np.expand_dims(np.arange(N), 1)), (N, N)) ** 2. + np.abs(np.expand_dims(np.repeat(np.arange(N), N), 0) \n",
    "                             - np.expand_dims(np.repeat(np.arange(N), N), 1)) ** 2.\n",
    "    return _r2\n",
    "\n",
    "r2 = compute_r2(N).astype(np.float32)\n",
    "\n",
    "def ξ_G(β):\n",
    "    return np.exp(\n",
    "        -np.expand_dims(r2, tuple(np.arange(β.ndim))) \n",
    "        / 4. / np.expand_dims(β, (-2, -1))**2.)\n",
    "\n",
    "def get_G_field(β):\n",
    "    pass\n",
    "\n",
    "def fill_zeros(k, value):\n",
    "    from functools import partial\n",
    "\n",
    "    def fnk(k):\n",
    "        return jax.lax.cond(np.less_equal(k, 1e-5), lambda _: value, lambda k: k+value, operand=k)\n",
    "\n",
    "    if len(k.shape) == 1:\n",
    "        return jax.vmap(fnk)(k)\n",
    "    else:\n",
    "        return jax.vmap(partial(fill_zeros, value=value))(k)\n",
    "\n",
    "\n",
    "def xi_LN(r, α, β, PixelNoise=0.01):\n",
    "\n",
    "    xi = 1/(np.power(α+1e-12,2)) * (np.exp(np.power(α,2)*np.exp(-0.25*np.power(r/β,2))) - 1)\n",
    "\n",
    "    # Add pixel noise at zero separation:\n",
    "\n",
    "    xi = fill_zeros(xi, PixelNoise**2)\n",
    "    #xi[np.where(r<1e-5)] += PixelNoise**2\n",
    "\n",
    "    return xi"
   ]
  },
  {
   "cell_type": "code",
   "execution_count": 14,
   "metadata": {},
   "outputs": [],
   "source": [
    "# derivatives of corr function"
   ]
  },
  {
   "cell_type": "code",
   "execution_count": 15,
   "metadata": {},
   "outputs": [],
   "source": [
    "def dxi_LN_dalpha(r, α, β):\n",
    "\n",
    "    _deriv =  2/(α+1e-12) * np.exp(-0.25*np.power(r/β,2)) * np.exp(np.power(α,2)*np.exp(-0.25*np.power(r/β,2))) - 2/np.power(α+1e-12,3) * (np.exp(np.power(α,2)*np.exp(-0.25*np.power(r/β,2))) - 1)\n",
    "    return _deriv\n",
    "\n",
    "def dxi_LN_dbeta(r, β, α):\n",
    "\n",
    "    return (0.5*np.power(r, 2) * np.exp(np.power(α, 2) * np.exp(-0.25 * np.power(r/β,2)) - 0.25*np.power(r/β,2)))*np.power(1./β,3)"
   ]
  },
  {
   "cell_type": "code",
   "execution_count": 16,
   "metadata": {},
   "outputs": [],
   "source": [
    "def simulator1(rng, n, \n",
    "        α, β, μ=np.zeros((N**2,), dtype=np.float32), \n",
    "        σ=np.ones((N**2 * (N**2 + 1) // 2,), dtype=np.float32)):\n",
    "    dist = tfd.TransformedDistribution(\n",
    "        #distribution=tfd.TransformedDistribution(\n",
    "            distribution=tfd.MultivariateNormalTriL(\n",
    "                loc=μ, \n",
    "                scale_tril=tfp.math.fill_triangular(σ) \n",
    "                    * np.linalg.cholesky(ξ_G(β))),\n",
    "            #bijector=tfb.Reshape((N, N))),\n",
    "              bijector=tfb.Chain([\n",
    "                    tfb.Scale(np.float32(1.) / np.expand_dims(α, (-1))),\n",
    "                    tfb.Expm1(),\n",
    "                    tfb.AffineScalar(shift=-np.float32(0.5) * np.expand_dims(α, -1)**np.float32(2.), scale=np.expand_dims(α, -1))]))\n",
    "    if n is not None:\n",
    "        return dist.sample(n, seed=rng)\n",
    "    else: \n",
    "        return dist.sample(seed=rng)"
   ]
  },
  {
   "cell_type": "code",
   "execution_count": 17,
   "metadata": {
    "jupyter": {
     "source_hidden": true
    }
   },
   "outputs": [],
   "source": [
    "# def _f_NL(\n",
    "#         α, β, \n",
    "#         μ=np.zeros((N**2,), dtype=np.float32), \n",
    "#         σ=np.ones((N**2 * (N**2 + 1) // 2,), dtype=np.float32)):\n",
    "#     return tfd.JointDistributionNamed(\n",
    "#         dict(\n",
    "#             α = tfd.Uniform(low=np.float32(0.), high=np.float32(2.)),\n",
    "#             β = tfd.Uniform(low=np.float32(0.2), high=np.float32(0.8)),\n",
    "#             f_NL = tfd.TransformedDistribution(\n",
    "#                 #distribution=tfd.TransformedDistribution(\n",
    "#                     distribution=tfd.MultivariateNormalTriL(\n",
    "#                         loc=μ, \n",
    "#                         scale_tril=tfp.math.fill_triangular(σ) \n",
    "#                             * np.linalg.cholesky(ξ_G(β))),\n",
    "#                     #bijector=tfb.Reshape((N, N))),\n",
    "#                 bijector=tfb.Chain([\n",
    "#                     tfb.Scale(np.expand_dims(α, (-1))),\n",
    "#                     tfb.Shift(-np.float32(0.5) * np.expand_dims(α, (-1))**np.float32(2.)),\n",
    "#                     tfb.Exp(),\n",
    "#                     tfb.Shift(-np.float32(1.)),\n",
    "#                     tfb.Scale(np.float32(1.) / np.expand_dims(α, (-1)))]))))"
   ]
  },
  {
   "cell_type": "code",
   "execution_count": 18,
   "metadata": {
    "jupyter": {
     "source_hidden": true
    }
   },
   "outputs": [],
   "source": [
    "# def _f_NL(\n",
    "#         _α, _β, \n",
    "#         μ=np.zeros((N**2,), dtype=np.float32), \n",
    "#         σ=np.ones((N**2 * (N**2 + 1) // 2,), dtype=np.float32)):\n",
    "#     return tfd.JointDistributionNamed(\n",
    "#         dict(\n",
    "#             α = tfd.Uniform(low=np.float32(0.), high=np.float32(2.)),\n",
    "#             β = tfd.Uniform(low=np.float32(0.2), high=np.float32(0.8)),\n",
    "#             f_NL = tfd.TransformedDistribution(\n",
    "#                 #distribution=tfd.TransformedDistribution(\n",
    "#                     distribution=tfd.MultivariateNormalTriL(\n",
    "#                         loc=μ, \n",
    "#                         scale_tril=tfp.math.fill_triangular(σ) \n",
    "#                             * np.linalg.cholesky(ξ_G(_β))),\n",
    "#                     #bijector=tfb.Reshape((N, N))),\n",
    "#                 bijector=tfb.Chain([\n",
    "#                     tfb.Scale(np.float32(1.) / np.expand_dims(_α, (-1))),\n",
    "#                     tfb.Expm1(),\n",
    "#                     tfb.AffineScalar(shift=-np.float32(0.5) * np.expand_dims(_α, -1)**np.float32(2.), scale=np.expand_dims(_α, -1))]))))"
   ]
  },
  {
   "cell_type": "code",
   "execution_count": 19,
   "metadata": {},
   "outputs": [],
   "source": [
    "def _f_NL(_α, _β):\n",
    "      return tfd.JointDistributionNamed(\n",
    "        dict(α = tfd.Uniform(low=0.0, high=2.0), β = tfd.Uniform(low=0.2, high=0.8),\n",
    "             f_NL = tfd.TransformedDistribution(\n",
    "               distribution=tfd.MultivariateNormalTriL(loc=np.zeros((N**2,)),\n",
    "                 scale_tril=np.linalg.cholesky(ξ_G(_β))),\n",
    "               bijector=tfb.Chain([tfb.Scale(1. / np.expand_dims(_α, (-1))), tfb.Expm1(),\n",
    "                                   tfb.AffineScalar(shift=-0.5 * np.expand_dims(_α, -1)**2.,\n",
    "                                                    scale=np.expand_dims(_α, -1))]))))"
   ]
  },
  {
   "cell_type": "code",
   "execution_count": 20,
   "metadata": {},
   "outputs": [],
   "source": [
    "def simulator1(rng, n, \n",
    "        α, β, μ=np.zeros((N**2,), dtype=np.float32), \n",
    "        σ=np.ones((N**2 * (N**2 + 1) // 2,), dtype=np.float32)):\n",
    "    dist = _f_NL(α, β)\n",
    "    if n is not None:\n",
    "        return dist.sample(n, seed=rng)\n",
    "    else: \n",
    "        return dist.sample(seed=rng)"
   ]
  },
  {
   "cell_type": "code",
   "execution_count": 21,
   "metadata": {},
   "outputs": [],
   "source": [
    "f_NL = tfd.JointDistributionNamed(\n",
    "    dict(\n",
    "        α = tfd.Uniform(low=np.float32(0.), high=np.float32(2.)),\n",
    "        β = tfd.Uniform(low=np.float32(0.2), high=np.float32(0.8)),\n",
    "        μ = tfd.Normal(\n",
    "            loc=np.zeros((N**2,), dtype=np.float32), \n",
    "            scale=np.ones((N**2,), dtype=np.float32)),                 \n",
    "        σ = tfp.distributions.Uniform(\n",
    "            low=np.zeros((N**2 * (N**2 + 1) // 2,), dtype=np.float32), \n",
    "            high=np.ones((N**2 * (N**2 + 1) // 2,), dtype=np.float32)),\n",
    "        f_NL = lambda α, β, μ, σ: tfd.TransformedDistribution(\n",
    "            #distribution=tfd.TransformedDistribution(\n",
    "                distribution=tfd.MultivariateNormalTriL(\n",
    "                    loc=μ, \n",
    "                    scale_tril=tfp.math.fill_triangular(σ) \n",
    "                        * np.linalg.cholesky(ξ_G(β))),\n",
    "                #bijector=tfb.Reshape((N, N))),\n",
    "#             bijector=tfb.Chain([\n",
    "#                 tfb.Scale(np.expand_dims(α, (-1))),\n",
    "#                 tfb.Shift(-np.float32(0.5) * np.expand_dims(α, (-1))**np.float32(2.)),\n",
    "#                 tfb.Exp(),\n",
    "#                 tfb.Shift(-np.float32(1.)),\n",
    "#                 tfb.Scale(np.float32(1.) / np.expand_dims(α, (-1)))]\n",
    "#                 ))))\n",
    "        bijector=tfb.Chain([\n",
    "                    tfb.Scale(np.float32(1.) / np.expand_dims(α, (-1))),\n",
    "                    tfb.Expm1(),\n",
    "                    tfb.AffineScalar(shift=-np.float32(0.5) * np.expand_dims(α, -1)**np.float32(2.), scale=np.expand_dims(α, -1))]))))"
   ]
  },
  {
   "cell_type": "code",
   "execution_count": 22,
   "metadata": {},
   "outputs": [
    {
     "data": {
      "text/plain": [
       "<matplotlib.colorbar.Colorbar at 0x1553f40cd6a0>"
      ]
     },
     "execution_count": 22,
     "metadata": {},
     "output_type": "execute_result"
    },
    {
     "data": {
      "image/png": "[encoded data removed]",
      "text/plain": [
       "<Figure size 720x288 with 11 Axes>"
      ]
     },
     "metadata": {
      "needs_background": "light"
     },
     "output_type": "display_data"
    }
   ],
   "source": [
    "rng, key = jax.random.split(rng)\n",
    "f_NLs = f_NL.sample(10, seed=key)[\"f_NL\"].reshape((10, N, N))\n",
    "fig, ax = plt.subplots(2, 5, figsize=(10, 4))\n",
    "plt.subplots_adjust(wspace=0, hspace=0)\n",
    "for i in range(2):\n",
    "    for j in range(5):\n",
    "        a = ax[i, j].imshow(f_NLs[j + i * 5])\n",
    "        ax[i, j].set(xticks=[], yticks=[])\n",
    "plt.colorbar(a)"
   ]
  },
  {
   "cell_type": "markdown",
   "metadata": {},
   "source": [
    "# set up IMNN for problem"
   ]
  },
  {
   "cell_type": "code",
   "execution_count": 23,
   "metadata": {},
   "outputs": [
    {
     "name": "stdout",
     "output_type": "stream",
     "text": [
      "input shape:  (1, 1, 24, 24)\n"
     ]
    }
   ],
   "source": [
    "pad = 2 #2**2\n",
    "input_shape = (1,1, N+pad*2,N+pad*2)\n",
    "print('input shape: ', input_shape)\n",
    "θ_fid = np.array([0.95, 0.55], dtype=np.float32)\n",
    "# IMNN params\n",
    "n_s = 5000\n",
    "n_d = 5000\n",
    "λ = 100.0\n",
    "ϵ = 0.1\n",
    "\n",
    "n_params = 2\n",
    "n_summaries = 2"
   ]
  },
  {
   "cell_type": "markdown",
   "metadata": {},
   "source": [
    "### compute known Fisher at fiducial "
   ]
  },
  {
   "cell_type": "code",
   "execution_count": 24,
   "metadata": {},
   "outputs": [],
   "source": [
    "Nsq = N**2\n",
    "r = np.sqrt(r2)#[:Nsq//2, :Nsq//2]\n",
    "\n",
    "\n",
    "def known_fisher(r, θ):\n",
    "    α,β = θ\n",
    "    \n",
    "    # extract diagonal from matrix\n",
    "    ξ_LN    = np.diag(xi_LN(r, α, β, PixelNoise=0.))\n",
    "    # get derivatives\n",
    "    dξ_dα   = dxi_LN_dalpha(r, α, β)\n",
    "    dξ_dβ   = dxi_LN_dbeta(r, α, β)\n",
    "    \n",
    "\n",
    "    # reassign to a diagnonal matrix with zeros on off-diag\n",
    "    Cinv = np.diag(1. / ξ_LN)          \n",
    "    Ca =  (dξ_dα)           # C_{,A}\n",
    "    Cb =  (dξ_dβ)           # C_{,B}\n",
    "    \n",
    "    # fisher matrix entries\n",
    "    Faa = 0.5 * np.trace((Ca @ Cinv @ Ca @ Cinv))\n",
    "    Fab = 0.5 * np.trace((Ca @ Cinv @ Cb @ Cinv))\n",
    "    Fba = 0.5 * np.trace((Cb @ Cinv @ Ca @ Cinv))\n",
    "    Fbb = 0.5 * np.trace((Cb @ Cinv @ Cb @ Cinv))\n",
    "\n",
    "    return np.array([[Faa, Fab], [Fba, Fbb]])"
   ]
  },
  {
   "cell_type": "code",
   "execution_count": 25,
   "metadata": {},
   "outputs": [
    {
     "name": "stdout",
     "output_type": "stream",
     "text": [
      "[[254.7555    47.028492]\n",
      " [ 47.02849  998.37646 ]]\n",
      "252130.06\n"
     ]
    }
   ],
   "source": [
    "f = known_fisher(r, θ_fid)\n",
    "print(f)\n",
    "\n",
    "analytic_detF = np.linalg.det(f)\n",
    "print(analytic_detF)"
   ]
  },
  {
   "cell_type": "markdown",
   "metadata": {},
   "source": [
    "## compute numerical fisher from distribution"
   ]
  },
  {
   "cell_type": "code",
   "execution_count": 26,
   "metadata": {},
   "outputs": [],
   "source": [
    "def _f_NL(α, β):\n",
    "    return tfd.TransformedDistribution(\n",
    "        distribution=tfd.MultivariateNormalTriL(\n",
    "            loc=np.zeros((N**2,)),\n",
    "            scale_tril=np.linalg.cholesky(ξ_G(β))),\n",
    "        bijector=tfb.Chain([\n",
    "            tfb.Scale(1. / np.expand_dims(α, (-1))), \n",
    "            tfb.Expm1(),\n",
    "            tfb.AffineScalar(\n",
    "                shift=-0.5 * np.expand_dims(α, -1)**2.,\n",
    "                scale=np.expand_dims(α, -1))]))\n",
    "\n",
    "def score(α, β, key):\n",
    "    f_NL = _f_NL(α, β)\n",
    "    return f_NL.log_prob(f_NL.sample(seed=key))\n",
    "\n",
    "@jax.jit\n",
    "def dlnLdθ(α, β, key):\n",
    "    return jax.grad(score, argnums=(0, 1))(α, β, key)\n",
    "\n",
    "def numeric_F(α, β, key, n_samples):\n",
    "    keys = np.array(jax.random.split(key, num=n_samples))\n",
    "    return np.cov(np.array(jax.vmap(dlnLdθ)(np.repeat(α, n_samples), np.repeat(β, n_samples), keys)))\n"
   ]
  },
  {
   "cell_type": "code",
   "execution_count": 27,
   "metadata": {},
   "outputs": [
    {
     "name": "stdout",
     "output_type": "stream",
     "text": [
      "expected F:  [[1497.5089 2342.6592]\n",
      " [2342.6592 3841.5527]]\n",
      "expected det F:  264707.47\n",
      "% difference from analytic F:  0.04751436\n"
     ]
    }
   ],
   "source": [
    "rng, key = jax.random.split(rng)\n",
    "F_expected = numeric_F(np.array(.95), np.array(0.55), key, 50)\n",
    "detF_expected = np.linalg.det(F_expected)\n",
    "\n",
    "print('expected F: ', F_expected)\n",
    "print('expected det F: ', detF_expected)\n",
    "\n",
    "print('% difference from analytic F: ', np.abs(detF_expected - analytic_detF) / detF_expected)"
   ]
  },
  {
   "cell_type": "markdown",
   "metadata": {},
   "source": [
    "### simulator for IMNN"
   ]
  },
  {
   "cell_type": "code",
   "execution_count": 28,
   "metadata": {
    "jupyter": {
     "source_hidden": true
    }
   },
   "outputs": [],
   "source": [
    "# Define a log_normal field class\n",
    "class LogNormalField:\n",
    "    @staticmethod\n",
    "    def compute_rsquared(nside):\n",
    "        \"\"\"\n",
    "        Compute the correlation function of the underlying gaussian field\n",
    "        \n",
    "        Parameters:\n",
    "            nside : int\n",
    "                Image is nside x nside pixels\n",
    "        \"\"\"\n",
    "        import jax.numpy as np\n",
    "        from scipy.linalg import toeplitz\n",
    "        \n",
    "        _Di = np.tile(toeplitz(np.arange(nside)),(nside,nside))\n",
    "        _Dj = np.concatenate(\n",
    "                            [np.concatenate(\n",
    "                                            [np.tile(np.abs(i-j),(nside,nside)) for i in range(nside)],\n",
    "                                            axis=0)\n",
    "                            for j in range(nside)],axis=1)\n",
    "        _distance_squared = _Di*_Di+_Dj*_Dj\n",
    "        \n",
    "        return _distance_squared\n",
    "\n",
    "    # The lognormal correlation function where the gaussian field has a gaussian power spectrum,\n",
    "    # and the gaussian correlation function xi_G.\n",
    "\n",
    "    @staticmethod\n",
    "    def xi_G(rsq, beta):\n",
    "        \"\"\"\n",
    "        Calculates the two-point correlation function of a gaussian field with gaussian power spectrum\n",
    "        \n",
    "        Parameters:\n",
    "        \n",
    "        rsq : float\n",
    "            separation^2\n",
    "        beta  : float\n",
    "            Gaussian smoothing width of gaussian field\n",
    "        \"\"\"\n",
    "        import jax.numpy as np\n",
    "        \n",
    "        # ADD IN SIGMA PARAM HERE\n",
    "        \n",
    "        xi = np.exp(-0.25*rsq/(beta**2))\n",
    "            \n",
    "        return xi\n",
    "    \n",
    "    @staticmethod\n",
    "    def fill_zeros(k, value):\n",
    "        from functools import partial\n",
    "        \n",
    "        def fnk(k):\n",
    "            return jax.lax.cond(np.less_equal(k, 1e-5), lambda _: 0., lambda k: k+value, operand=k)\n",
    "\n",
    "        if len(k.shape) == 1:\n",
    "            return jax.vmap(fnk)(k)\n",
    "        else:\n",
    "            return jax.vmap(partial(fill_zeros, value=value))(k)\n",
    "\n",
    "    @staticmethod\n",
    "    def xi_LN(r, beta, alpha, PixelNoise):\n",
    "        \"\"\"\n",
    "        Calculates the lognormal two-point correlation function\n",
    "        \n",
    "        Parameters:\n",
    "        \n",
    "        r : float\n",
    "            Pair separation\n",
    "        beta  : float\n",
    "            Gaussian smoothing width of underlying gaussian field\n",
    "        alpha : float\n",
    "            Nongaussianity parameter in lognormal transformation\n",
    "        PixelNoise : float\n",
    "            Standard deviation of added noise per pixel\n",
    "        \"\"\"\n",
    "        import jax.numpy as np\n",
    "        \n",
    "        xi = 1/(np.power(alpha+1e-12,2)) * (np.exp(np.power(alpha,2)*np.exp(-0.25*np.power(r/beta,2))) - 1)\n",
    "        \n",
    "        # Add pixel noise at zero separation:\n",
    "                \n",
    "        xi = self.fill_zeros(xi, PixelNoise**2)\n",
    "        #xi[np.where(r<1e-5)] += PixelNoise**2\n",
    "        \n",
    "        return xi\n",
    "    \n",
    "    @staticmethod\n",
    "    def dxi_LN_dalpha(r, beta, alpha, PixelNoise):\n",
    "        import jax.numpy as np\n",
    "        \n",
    "        return 2/(alpha+1e-12) * np.exp(-0.25*np.power(r/beta,2)) * np.exp(np.power(alpha,2)*np.exp(-0.25*np.power(r/beta,2))) - 2/np.power(alpha+1e-12,3) * (np.exp(np.power(alpha,2)*np.exp(-0.25*np.power(r/beta,2))) - 1)\n",
    "    \n",
    "    @staticmethod\n",
    "    def dxi_LN_dbeta(r, beta, alpha, PixelNoise):\n",
    "        import jax.numpy as np\n",
    "        \n",
    "        return (0.5*np.power(r,2)/np.power(beta,3)) * np.exp(-0.25*np.power(r/beta,2)) * np.exp(np.power(alpha,2)*np.exp(-0.25*np.power(r/beta,2)))\n",
    "\n",
    "\n",
    "    def __init__(self,Lside,rmax,nbin):\n",
    "        \"\"\"\n",
    "        \n",
    "        Parameters:\n",
    "            rmax : float\n",
    "                Maximum pair separation considered\n",
    "            nbin : int\n",
    "                Number of bins for shell-averaged correlation function\n",
    "        \"\"\"\n",
    "        import jax.numpy as np\n",
    "        \n",
    "        self.rmax       = rmax\n",
    "        self.nbin       = nbin\n",
    "        self.Lside      = Lside\n",
    "\n",
    "        # compute the separations and indices on a grid\n",
    "        self.rsq        = self.compute_rsquared(Lside)\n",
    "        self.r          = np.sqrt(self.rsq)\n",
    "        self.bins       = np.arange(nbin)*rmax/nbin\n",
    "        self.index      = np.digitize(self.r,self.bins)\n",
    "        self.average_r  = np.array([self.r[self.index == n].mean() for n in range(nbin) if np.sum(self.index == n)>0])\n",
    "    \n",
    "    @staticmethod\n",
    "    def G_to_LN(gaussian, alpha):\n",
    "        import jax.numpy as np\n",
    "        \n",
    "        # Make lognormal (variance of gaussian field is unity by construction)\n",
    "        # Divide by 1/alpha so that the signal-to-noise ratio is independent of alpha\n",
    "        return 1./alpha * (np.exp(alpha * gaussian-0.5*alpha**2)-1)\n",
    "    \n",
    "    def run_simulation(self, key, alpha, beta, PixelNoise=None):\n",
    "        \"\"\"\n",
    "        Create a lognormal field from a gaussian field with a Gaussian correlation function\n",
    "        \"\"\"\n",
    "        \n",
    "        # split keys, one for field and one for noise\n",
    "        key1,key2 = jax.random.split(key)\n",
    "        \n",
    "        Lside      = self.Lside\n",
    "        rsq        = self.rsq\n",
    "        \n",
    "        # Compute the Gaussian correlation function\n",
    "        xiG  = self.xi_G(rsq,beta)\n",
    "        \n",
    "        # Compute the Gaussian random field\n",
    "        field = (jax.random.multivariate_normal(key1, np.zeros(Lside*Lside), xiG)).reshape(Lside,Lside) \n",
    "        \n",
    "        # Make lognormal (variance of gaussian field is unity by construction)\n",
    "        field = self.G_to_LN(field, alpha)\n",
    "        \n",
    "        # Add noise\n",
    "        if PixelNoise is not None:\n",
    "            field += jax.random.normal(key2, shape=(Lside,Lside))*np.sqrt(PixelNoise)\n",
    "        \n",
    "        return field\n",
    "    \n",
    "    def pymc3_model(self, field_data, alphamin, alphamax, betamin, betamax, PixelNoise):\n",
    "        import numpy as np\n",
    "        import pymc3 as pm\n",
    "        LN_model = pm.Model()\n",
    "        \n",
    "        Lside              = self.Lside\n",
    "        rsq                = self.rsq\n",
    "        zero               = np.zeros(Lside*Lside)\n",
    "        PixelNoiseVector   = PixelNoise*np.ones(Lside*Lside)\n",
    "        InvNoiseCovariance = np.diag(1/(PixelNoiseVector**2))\n",
    "        field_data         = field_data.reshape(Lside*Lside)\n",
    "\n",
    "        with LN_model:\n",
    "            \n",
    "            # (TLM) TODO: add in μ,σ for full BHM\n",
    "\n",
    "            # Uniform priors for unknown model parameters (alpha,beta):\n",
    "\n",
    "            alpha_p   = pm.Uniform(\"alpha\", lower=alphamin, upper=alphamax)\n",
    "            beta_p    = pm.Uniform(\"beta\",  lower=betamin,  upper=betamax)\n",
    "\n",
    "            # Compute (beta-dependent) gaussian field correlation function:\n",
    "\n",
    "            xi = pm.math.exp(-0.25*rsq/(beta_p*beta_p))\n",
    "\n",
    "            # Gaussian field values are latent variables:\n",
    "            gaussian = pm.MvNormal(\"gaussian\",mu=zero,cov=xi,shape=Lside*Lside)\n",
    "\n",
    "            # Expected value of lognormal field, for given (alpha, beta, gaussian):\n",
    "\n",
    "            muLN = 1/alpha_p * (pm.math.exp(alpha_p * gaussian-0.5*alpha_p*alpha_p)-1)\n",
    "\n",
    "            # Likelihood (sampling distribution) of observations, given the mean lognormal field:\n",
    "\n",
    "            Y_obs = pm.MvNormal(\"Y_obs\", mu=muLN, tau=InvNoiseCovariance, observed=field_data)\n",
    "        \n",
    "        return LN_model\n",
    "    \n",
    "    def run_diff_simulation(self, alpha, beta, PixelNoise, step, seed):\n",
    "        \"\"\"\n",
    "        Run simulations for finite differencing\n",
    "        \"\"\"\n",
    "        import numpy as np\n",
    "        from scipy.stats import multivariate_normal\n",
    "        \n",
    "        Lside      = self.Lside\n",
    "        rsq        = self.rsq\n",
    "        \n",
    "        alphap     = alpha*(1+step)\n",
    "        alpham     = alpha*(1-step)\n",
    "        betap      = beta*(1+step)\n",
    "        betam      = beta*(1-step)\n",
    "        \n",
    "        # Compute the gaussian correlation function\n",
    "        xiG  = self.xi_G(rsq,beta)\n",
    "        xiG_betap = self.xi_G(rsq,betap)\n",
    "        xiG_betam = self.xi_G(rsq,betam)\n",
    "        \n",
    "        # Compute Gaussian random fields with the same phases\n",
    "        Gfield = multivariate_normal(mean=np.zeros(Lside*Lside), cov=xiG).rvs(random_state=seed).reshape(Lside,Lside)\n",
    "        Gfield_betap = multivariate_normal(mean=np.zeros(Lside*Lside), cov=xiG_betap).rvs(random_state=seed).reshape(Lside,Lside)\n",
    "        Gfield_betam = multivariate_normal(mean=np.zeros(Lside*Lside), cov=xiG_betam).rvs(random_state=seed).reshape(Lside,Lside)\n",
    "        \n",
    "        # Make lognormal (variance of gaussian field is unity by construction)\n",
    "        field = self.G_to_LN(Gfield, alpha)\n",
    "        field_betap = self.G_to_LN(Gfield_betap, alpha)\n",
    "        field_betam = self.G_to_LN(Gfield_betam, alpha)\n",
    "        field_alphap = self.G_to_LN(Gfield, alphap)\n",
    "        field_alpham = self.G_to_LN(Gfield, alpham)\n",
    "        \n",
    "        # Add noise\n",
    "        noise = np.random.normal(loc=0.0,scale=PixelNoise,size=(Lside,Lside))\n",
    "        field += noise\n",
    "        field_betap += noise\n",
    "        field_betam += noise\n",
    "        field_alphap += noise\n",
    "        field_alpham += noise\n",
    "        \n",
    "        return field, field_alphap, field_alpham, field_betap, field_betam\n",
    "    \n",
    "    def compute_corrfn(self,field):\n",
    "        \"\"\"\n",
    "        Compute two-point correlation function\n",
    "        \"\"\"       \n",
    "        import numpy as np\n",
    "        \n",
    "        index    = self.index\n",
    "        nbin     = self.nbin\n",
    "        \n",
    "        # compute the correlations\n",
    "        correlations = np.outer(field,field)\n",
    "        corrfn = np.array([correlations[index==n].mean() for n in range(nbin) if len(correlations[index==n])>0])\n",
    "        \n",
    "        return corrfn\n",
    "    \n",
    "    def compute_corrfn_derivatives(self, field, field_alphap, field_alpham, field_betap, field_betam, step):\n",
    "        \"\"\"\n",
    "        Compute derivatives of the two-point correlation function\n",
    "        \"\"\"\n",
    "        \n",
    "        # Compute correlation functions\n",
    "        corrfn         = self.compute_corrfn(field)\n",
    "        corrfn_dalphap = self.compute_corrfn(field_alphap)\n",
    "        corrfn_dalpham = self.compute_corrfn(field_alpham)\n",
    "        corrfn_dbetap  = self.compute_corrfn(field_betap)\n",
    "        corrfn_dbetam  = self.compute_corrfn(field_betam)\n",
    "        \n",
    "        # Compute derivatives by second-order central finite differences\n",
    "        dcorrfn_dalpha = (corrfn_dalpham - 2*corrfn + corrfn_dalphap)/(step**2)\n",
    "        dcorrfn_dbeta  = (corrfn_dbetam  - 2*corrfn + corrfn_dbetap )/(step**2)\n",
    "        \n",
    "        return dcorrfn_dalpha, dcorrfn_dbeta\n",
    "    \n",
    "    def covariance(self,fields):\n",
    "        \"\"\"\n",
    "        Compute covariance from a number of fields\n",
    "        \n",
    "        Parameter:\n",
    "            fields : int\n",
    "                lognormal field objects contributing to the covariance matrix\n",
    "        \"\"\"\n",
    "        import numpy as np\n",
    "        \n",
    "        nsims  = len(fields)\n",
    "        nbins  = self.nonzerobins\n",
    "        \n",
    "        print('Number of simulations',nsims)\n",
    "        print('Number of non-zero pair bins',nbins)\n",
    "        \n",
    "        corrfns = np.array([fields[i]['corrfn'] for i in range(nsims)])\n",
    "        meanxi = np.mean(corrfns,axis=0)\n",
    "        covxi = np.cov(corrfns.T)\n",
    "        \n",
    "        return meanxi, covxi\n",
    "    \n",
    "    # Utility properties\n",
    "    @staticmethod\n",
    "    def var_th(alpha, PixelNoise):\n",
    "        import numpy as np\n",
    "        return 1/np.power(alpha+1e-12,2)*(np.exp(alpha**2)-1)+PixelNoise**2\n",
    "    @staticmethod\n",
    "    def skew_th(alpha):\n",
    "        import numpy as np\n",
    "        return (np.exp(alpha**2)+2)*np.sqrt(np.exp(alpha**2)-1)\n",
    "    @staticmethod\n",
    "    def dskew_dalpha(alpha):\n",
    "        import numpy as np\n",
    "        return 2*alpha*np.exp(alpha**2) * ( np.sqrt(np.exp(alpha**2)-1) - 0.5*(np.exp(alpha**2)+2)/(np.sqrt(np.exp(alpha**2)-1)) )\n",
    "    @staticmethod\n",
    "    def kurtosis_th(alpha):\n",
    "        import numpy as np\n",
    "        return np.exp(4*alpha**2)+2*np.exp(3*alpha**2)+3*np.exp(2*alpha**2)-6\n",
    "    @staticmethod\n",
    "    def dkurtosis_dalpha(alpha):\n",
    "        import numpy as np\n",
    "        return 8*alpha*np.exp(4*alpha**2)+6*alpha*np.exp(3*alpha**2)+6*alpha*np.exp(2*alpha**2)\n",
    "    @staticmethod\n",
    "    def max(field):\n",
    "        import numpy as np\n",
    "        return np.max(field)\n",
    "    @staticmethod\n",
    "    def min(field):\n",
    "        import numpy as np\n",
    "        return np.min(field)\n",
    "    @staticmethod\n",
    "    def var(field):\n",
    "        import numpy as np\n",
    "        return np.var(field)\n",
    "    @staticmethod\n",
    "    def mean(field):\n",
    "        import numpy as np\n",
    "        return np.mean(field)\n",
    "    @staticmethod\n",
    "    def skew(field):\n",
    "        from scipy.stats import skew\n",
    "        return skew(field.flatten())\n",
    "    @staticmethod\n",
    "    def kurtosis(field):\n",
    "        from scipy.stats import kurtosis\n",
    "        return kurtosis(field.flatten())\n",
    "    \n",
    "    # xi has empty bins removed.  Note the number of non-empty elements\n",
    "    @property\n",
    "    def nonzerobins(self):\n",
    "        return len(self.average_r)\n",
    "    \n",
    "    @property\n",
    "    def dt(self):\n",
    "        import numpy as np\n",
    "        return np.dtype([('field', np.float, (self.Lside,self.Lside)), ('corrfn', np.float, (self.nonzerobins))])\n",
    "# end class LogNormalField\n"
   ]
  },
  {
   "cell_type": "code",
   "execution_count": 29,
   "metadata": {},
   "outputs": [],
   "source": [
    "#from libLNjax import LogNormalField\n",
    "\n",
    "Lside       = N\n",
    "alpha       = 1.0\n",
    "beta        = 0.5\n",
    "PixelNoise  = 0.01\n",
    "\n",
    "# Setup for correlation function\n",
    "nbin        = 4*Lside\n",
    "ndata       = 4*Lside\n",
    "rmax        = Lside*np.sqrt(2)\n",
    "\n",
    "LN=LogNormalField(Lside,rmax,nbin)\n",
    "field = LN.run_simulation(key, 1.0, 0.5, PixelNoise=None)"
   ]
  },
  {
   "cell_type": "code",
   "execution_count": 30,
   "metadata": {},
   "outputs": [],
   "source": [
    "# LN field distribution\n",
    "def _f_NL(α, β):\n",
    "    return tfd.TransformedDistribution(\n",
    "        distribution=tfd.MultivariateNormalTriL(\n",
    "            loc=np.zeros((N**2,)),\n",
    "            scale_tril=np.linalg.cholesky(ξ_G(β))),\n",
    "        bijector=tfb.Chain([\n",
    "            tfb.Scale(1. / np.expand_dims(α, (-1))), \n",
    "            tfb.Expm1(),\n",
    "            tfb.AffineScalar(\n",
    "                shift=-0.5 * np.expand_dims(α, -1)**2.,\n",
    "                scale=np.expand_dims(α, -1))]))\n",
    "#             bijector=tfb.Chain([\n",
    "#                 tfb.Scale(np.expand_dims(α, (-1))),\n",
    "#                 tfb.Shift(-np.float32(0.5) * np.expand_dims(α, (-1))**np.float32(2.)),\n",
    "#                 tfb.Exp(),\n",
    "#                 tfb.Shift(-np.float32(1.)),\n",
    "#                 tfb.Scale(np.float32(1.) / np.expand_dims(α, (-1)))]\n",
    "#                 ))\n",
    "\n",
    "\n",
    "# draw from the joint distribution\n",
    "def simulator(rng, n, α, β,):\n",
    "    dist = _f_NL(α, β)\n",
    "    if n is not None:\n",
    "        return dist.sample(n, seed=rng)\n",
    "    else: \n",
    "        return dist.sample(seed=rng)\n",
    "\n",
    "# simulator args\n",
    "simulator_args = {'N': N, 'squeeze': False, 'pad': pad}\n",
    "\n",
    "# wrapper for IMNN and ABC sampler\n",
    "def imnn_simulator(rng, θ, simulator_args=simulator_args):\n",
    "    A,B = θ\n",
    "    N = simulator_args['N']\n",
    "    pad = simulator_args['pad']\n",
    "    #noise = 0.01\n",
    "    def fn(key, A, B):\n",
    "        if simulator_args['squeeze']:\n",
    "            return np.expand_dims(\n",
    "                np.pad(\n",
    "                    #simulator(key, None, A, B).reshape(N,N), \n",
    "                    LN.run_simulation(key, A, B),\n",
    "                    [pad,pad],\n",
    "                    ), \n",
    "                0)\n",
    "\n",
    "        else:\n",
    "            return (np.expand_dims(\n",
    "                        np.expand_dims(\n",
    "                            np.pad(\n",
    "                                #simulator(key, None, A, B).reshape(N,N),\n",
    "                                LN.run_simulation(key, A, B),\n",
    "                                [pad,pad], \n",
    "                                ),  \n",
    "                            0), \n",
    "                0))\n",
    "\n",
    "    if A.shape == B.shape:\n",
    "        if len(A.shape) == 0:\n",
    "            return fn(rng, A, B)\n",
    "        else:\n",
    "            keys = jax.random.split(rng, num=A.shape[0] + 1)\n",
    "            rng = keys[0]\n",
    "            keys = keys[1:]\n",
    "            return jax.vmap(\n",
    "                lambda key, A, B: imnn_simulator(key, (A,B), simulator_args=simulator_args)\n",
    "            )(keys, A, B)\n",
    "    else:\n",
    "        if len(A.shape) > 0:\n",
    "            keys = jax.random.split(rng, num=A.shape[0] + 1)\n",
    "            rng = keys[0]\n",
    "            keys = keys[1:]\n",
    "            return jax.vmap(\n",
    "                lambda key, A: imnn_simulator(key, (A,B), simulator_args=simulator_args)\n",
    "            )(keys, A)\n",
    "        elif len(B.shape) > 0:\n",
    "            keys = jax.random.split(rng, num=B.shape[0])\n",
    "            return jax.vmap(\n",
    "                lambda key, B: imnn_simulator(key, (A,B), simulator_args=simulator_args)\n",
    "            )(keys, B)\n",
    "    "
   ]
  },
  {
   "cell_type": "code",
   "execution_count": 31,
   "metadata": {},
   "outputs": [],
   "source": [
    "def simulator_gradient(rng, θ, simulator_args=simulator_args):\n",
    "    return value_and_jacrev(imnn_simulator, argnums=1, allow_int=True, holomorphic=True)(rng, θ, simulator_args=simulator_args)"
   ]
  },
  {
   "cell_type": "code",
   "execution_count": 33,
   "metadata": {},
   "outputs": [],
   "source": [
    "# define stax model\n",
    "from jax.nn.initializers import normal\n",
    "def InceptBlock2(filters, strides, do_5x5=True, do_3x3=True, \n",
    "                 padding=\"SAME\", W_init=None):\n",
    "    \"\"\"InceptNet convolutional striding block.\n",
    "    filters: tuple: (f1,f2,f3)\n",
    "    filters1: for conv1x1\n",
    "    filters2: for conv1x1,conv3x3\n",
    "    filters3L for conv1x1,conv5x5\"\"\"\n",
    "    \n",
    "    filters1, filters2, filters3 = filters\n",
    "    \n",
    "    conv1x1 = stax.serial(stax.Conv(filters1, (1,1), strides, padding=padding, W_init=W_init))\n",
    "    \n",
    "    filters4 = filters2\n",
    "    conv3x3 = stax.serial(stax.Conv(filters2, (1,1), strides=None, padding=padding, W_init=W_init),\n",
    "                        stax.Conv(filters4, (3,3), strides, padding=padding, W_init=W_init))\n",
    "                        \n",
    "    filters5 = filters3\n",
    "    conv5x5 = stax.serial(stax.Conv(filters3, (1,1), strides=None, padding=padding, W_init=W_init),\n",
    "                         stax.Conv(filters5, (5,5), strides, padding=padding, W_init=W_init))\n",
    "\n",
    "    maxpool = stax.serial(stax.MaxPool((3,3), padding=padding),\n",
    "                         stax.Conv(filters4, (1,1), strides, padding=padding, W_init=W_init))\n",
    "                            \n",
    "    if do_3x3:\n",
    "        if do_5x5:\n",
    "            return stax.serial(\n",
    "                  stax.FanOut(4),  # should num=3 or 2 here ?\n",
    "                  stax.parallel(conv1x1, conv3x3, conv5x5, maxpool),\n",
    "                  stax.FanInConcat(), \n",
    "                  stax.LeakyRelu)\n",
    "        else:\n",
    "            return stax.serial(\n",
    "                  stax.FanOut(3),  # should num=3 or 2 here ?\n",
    "                  stax.parallel(conv1x1, conv3x3, maxpool),\n",
    "                  stax.FanInConcat(), \n",
    "                  stax.LeakyRelu)\n",
    "            \n",
    "    else:\n",
    "        return stax.serial(\n",
    "              stax.FanOut(2),  # should num=3 or 2 here ?\n",
    "              stax.parallel(conv1x1, maxpool),\n",
    "              stax.FanInConcat(), \n",
    "              stax.LeakyRelu)\n",
    "    \n",
    "    \n",
    "def Reshape(newshape):\n",
    "    \"\"\"Layer function for a reshape layer.\"\"\"\n",
    "    init_fun = lambda rng, input_shape: (newshape,())\n",
    "    apply_fun = lambda params, inputs, **kwargs: np.reshape(inputs,newshape)\n",
    "    return init_fun, apply_fun\n",
    "\n",
    "    \n",
    "def Scalar(cnst):\n",
    "    \"\"\"Layer construction function for a reshape layer.\"\"\"\n",
    "    init_fun = lambda rng, input_shape: (input_shape,())\n",
    "    #apply_fun = lambda params, inputs, **kwargs: inputs*cnst\n",
    "    def apply_fun(params, inputs, **kwargs):\n",
    "        return inputs*cnst\n",
    "    return init_fun, apply_fun\n",
    "\n",
    "from jax.nn.initializers import glorot_normal, normal, ones, zeros\n",
    "\n",
    "\n",
    "\n",
    "\n",
    "def LogLayer(a_init=ones, b_init=ones,\n",
    "              c_init=ones, d_init=ones, C=3., scalar=True):\n",
    "    \"\"\"custom layer for log-normalizing field inputs\"\"\"\n",
    "    _a_init = lambda rng,shape: a_init(rng, shape)\n",
    "    _b_init = lambda rng,shape: b_init(rng, shape)\n",
    "    _c_init = lambda rng,shape: c_init(rng, shape)\n",
    "    _d_init = lambda rng,shape: d_init(rng, shape)\n",
    "    \n",
    "    def init_fun(rng, input_shape):\n",
    "        \n",
    "        if scalar:\n",
    "            shape = ()\n",
    "        else:\n",
    "            shape = input_shape \n",
    "    \n",
    "        k1, rng = jax.random.split(rng)\n",
    "        k2, rng = jax.random.split(rng)\n",
    "        k3, rng = jax.random.split(rng)\n",
    "        k4, rng = jax.random.split(rng)\n",
    "        a,b = _a_init(k1, shape), _b_init(k2, shape)\n",
    "        c,d = _c_init(k3, shape)*C, _d_init(k4, shape)\n",
    "        return input_shape, (a,b,c,d)\n",
    "\n",
    "    def apply_fun(params, inputs, **kwargs):\n",
    "        a,b,c,d = params\n",
    "        \n",
    "        return a * np.log(np.abs(b)*inputs + c) + d\n",
    "    \n",
    "    return init_fun, apply_fun\n",
    "\n",
    "\n",
    "\n",
    "def AsinhLayer(a_init=ones, b_init=ones,\n",
    "              c_init=ones, d_init=ones, scalar=True):\n",
    "    \"\"\"custom layer for Asinh-normalizing field inputs\"\"\"\n",
    "    _a_init = lambda rng,shape: a_init(rng, shape)\n",
    "    _b_init = lambda rng,shape: b_init(rng, shape)\n",
    "    _c_init = lambda rng,shape: c_init(rng, shape)\n",
    "    _d_init = lambda rng,shape: d_init(rng, shape)\n",
    "    def init_fun(rng, input_shape):\n",
    "        if scalar:\n",
    "            shape = ()\n",
    "        else:\n",
    "            shape = input_shape \n",
    "        k1, rng = jax.random.split(rng)\n",
    "        k2, rng = jax.random.split(rng)\n",
    "        k3, rng = jax.random.split(rng)\n",
    "        k4, rng = jax.random.split(rng)\n",
    "        a,b = _a_init(k1, shape), _b_init(k2, shape)\n",
    "        c,d = _c_init(k3, shape), _d_init(k4, shape)\n",
    "        return input_shape, np.stack((a,b,c,d), 0)\n",
    "    def apply_fun(params, inputs, **kwargs):\n",
    "        a,b,c,d = params\n",
    "        return a * np.arcsinh(b*inputs + c) + d\n",
    "    return init_fun, apply_fun\n",
    "\n",
    "def ScalarLayer(C=None, c_init=ones):\n",
    "    \"\"\"Layer construction function for a reshape layer.\"\"\"\n",
    "    \n",
    "    if C is None:\n",
    "        C = 1.0\n",
    "    \n",
    "    _c_init = lambda rng,shape: c_init(rng, shape)*C\n",
    "    \n",
    "    def init_fun(rng, input_shape):\n",
    "        shape = input_shape\n",
    "        k1, rng = jax.random.split(rng)\n",
    "        constant = _c_init(k1, shape)\n",
    "        return input_shape, (constant)\n",
    "\n",
    "    def apply_fun(params, inputs, **kwargs):\n",
    "        cnst = params\n",
    "        return inputs*cnst\n",
    "    \n",
    "    \n",
    "    return init_fun, apply_fun\n",
    "\n"
   ]
  },
  {
   "cell_type": "code",
   "execution_count": 34,
   "metadata": {
    "jupyter": {
     "source_hidden": true
    }
   },
   "outputs": [],
   "source": [
    "# try resnet model \n",
    "def ConvBlock(kernel_size, filters, strides):\n",
    "    \"\"\"ResNet convolutional striding block.\"\"\"\n",
    "    ks = kernel_size\n",
    "    filters1, filters2, filters3 = filters\n",
    "    main = stax.serial(\n",
    "      stax.Conv(filters1, (1, 1), strides),\n",
    "      stax.BatchNorm(), stax.Relu,\n",
    "      stax.Conv(filters2, (ks, ks), padding='SAME'),\n",
    "      stax.BatchNorm(), stax.Relu,\n",
    "      stax.Conv(filters3, (1, 1)), stax.BatchNorm())\n",
    "    shortcut = stax.serial(\n",
    "      stax.Conv(filters3, (1, 1), strides),\n",
    "      stax.BatchNorm())\n",
    "    return stax.serial(\n",
    "      stax.FanOut(2),\n",
    "      stax.parallel(main, shortcut),\n",
    "      stax.FanInSum, stax.Relu)\n",
    "\n",
    "def IdentityBlock(kernel_size, filters):\n",
    "    \"\"\"ResNet identical size block.\"\"\"\n",
    "    ks = kernel_size\n",
    "    filters1, filters2 = filters\n",
    "    def MakeMain(input_shape):\n",
    "        # the number of output channels depends on the number of input channels\n",
    "        return stax.serial(\n",
    "            stax.Conv(filters1, (1, 1)),\n",
    "            stax.BatchNorm(), stax.Relu,\n",
    "            stax.Conv(filters2, (ks, ks), padding='SAME'),\n",
    "            stax.BatchNorm(), stax.Relu,\n",
    "            stax.Conv(input_shape[3], (1, 1)), stax.BatchNorm())\n",
    "    \n",
    "    main = stax.shape_dependent(MakeMain)\n",
    "    return stax.serial(\n",
    "      stax.FanOut(2),\n",
    "      stax.parallel(main, stax.Identity),\n",
    "      stax.FanInSum, stax.Relu)\n"
   ]
  },
  {
   "cell_type": "code",
   "execution_count": 65,
   "metadata": {},
   "outputs": [],
   "source": [
    "# fs = 256\n",
    "# padding=\"SAME\"\n",
    "# incept_model = stax.serial(\n",
    "#         AsinhLayer(),\n",
    "#         #stax.Conv(1, (1,1), strides=(1,1), padding='SAME'),\n",
    "#         #stax.LeakyRelu,\n",
    "#         #stax.Conv(fs, (1,1), strides=(1,1)),\n",
    "#         #stax.LeakyRelu,\n",
    "#         #Scalar(N),\n",
    "#         #InceptBlock2((fs,fs,fs), strides=(1,1)),\n",
    "#         #InceptBlock2((fs,fs,fs), strides=(1,1)),\n",
    "#         InceptBlock2((fs,fs,fs), strides=(2,2)),\n",
    "#         InceptBlock2((fs,fs,fs), strides=(2,2)),\n",
    "#         InceptBlock2((fs,fs,fs), strides=(2,2), do_5x5=False),\n",
    "#         InceptBlock2((fs,fs,fs), strides=(3,3), do_5x5=False, do_3x3=False),\n",
    "#         stax.Conv(n_summaries, (1,1), strides=(1,1), padding=\"SAME\"),\n",
    "#         stax.Flatten,\n",
    "#         Reshape((-1,))\n",
    "# )\n",
    "\n",
    "fs = 128\n",
    "# padding=\"SAME\"\n",
    "incept_model = stax.serial(\n",
    "        #LogLayer(scalar=False),\n",
    "        AsinhLayer(scalar=True),\n",
    "        #stax.Conv(1, (1,1), strides=(1,1), padding='SAME'),\n",
    "        #stax.LeakyRelu,\n",
    "        #stax.Conv(fs, (1,1), strides=(1,1)),\n",
    "        #stax.LeakyRelu,\n",
    "        #Scalar(N),\n",
    "        #InceptBlock2((fs,fs,fs), strides=(1,1)),\n",
    "        InceptBlock2((fs,fs,fs), strides=(1,1)),\n",
    "        InceptBlock2((fs,fs,fs), strides=(2,2)),\n",
    "        #InceptBlock2((fs,fs,fs), strides=(1,1)),\n",
    "        InceptBlock2((fs,fs,fs), strides=(2,2)),\n",
    "        #InceptBlock2((fs,fs,fs), strides=(1,1)),\n",
    "        InceptBlock2((fs,fs,fs), strides=(2,2), do_5x5=False),\n",
    "        InceptBlock2((fs,fs,fs), strides=(1,1), do_5x5=False),\n",
    "        InceptBlock2((fs,fs,fs), strides=(3,3), do_5x5=False, do_3x3=False),\n",
    "        stax.Conv(n_summaries, (1,1), strides=(1,1), padding=\"SAME\"),\n",
    "        stax.Flatten,\n",
    "        Reshape((n_summaries,))\n",
    ")\n"
   ]
  },
  {
   "cell_type": "code",
   "execution_count": null,
   "metadata": {},
   "outputs": [],
   "source": []
  },
  {
   "cell_type": "code",
   "execution_count": 66,
   "metadata": {},
   "outputs": [],
   "source": [
    "rng, initial_model_key = jax.random.split(rng)\n",
    "rng, fitting_key = jax.random.split(rng)"
   ]
  },
  {
   "cell_type": "code",
   "execution_count": 98,
   "metadata": {},
   "outputs": [],
   "source": [
    "optimiser = optimizers.adam(step_size=1e-3)"
   ]
  },
  {
   "cell_type": "code",
   "execution_count": 99,
   "metadata": {
    "jupyter": {
     "source_hidden": true
    }
   },
   "outputs": [],
   "source": [
    "from imnn.imnn._imnn import _IMNN\n",
    "from imnn.utils.utils import _check_simulator #, value_and_jacrev\n",
    "from imnn.utils.utils import _check_simulator\n",
    "\n",
    "class SimIMNN(_IMNN):\n",
    "    def __init__(self, n_s, n_d, n_params, n_summaries, input_shape, θ_fid,\n",
    "                 model, optimiser, key_or_state, simulator):\n",
    "        super().__init__(\n",
    "            n_s=n_s,\n",
    "            n_d=n_d,\n",
    "            n_params=n_params,\n",
    "            n_summaries=n_summaries,\n",
    "            input_shape=input_shape,\n",
    "            θ_fid=θ_fid,\n",
    "            model=model,\n",
    "            key_or_state=key_or_state,\n",
    "            optimiser=optimiser,\n",
    "            )\n",
    "        self.simulator = _check_simulator(simulator)\n",
    "        self.simulate = True\n",
    "\n",
    "    def get_fitting_keys(self, rng):\n",
    "        return jax.random.split(rng, num=3)\n",
    "\n",
    "    def get_summaries(self, w, key, validate=False):\n",
    "        def get_summary(key, θ):\n",
    "            return self.model(w, self.simulator(key, θ))\n",
    "\n",
    "        def get_derivatives(key):\n",
    "            return value_and_jacrev(get_summary, argnums=1)(key, self.θ_fid)\n",
    "\n",
    "        keys = np.array(jax.random.split(key, num=self.n_s))\n",
    "        summaries, derivatives = jax.vmap(get_derivatives)(keys[:self.n_d])\n",
    "        if self.n_s > self.n_d:\n",
    "            summaries = np.vstack([\n",
    "                summaries,\n",
    "                jax.vmap(partial(get_summary, θ=self.θ_fid))(keys[self.n_d:])])\n",
    "        return summaries, derivatives"
   ]
  },
  {
   "cell_type": "code",
   "execution_count": 105,
   "metadata": {},
   "outputs": [],
   "source": [
    "# SAVING IMNN ATTRIBUTES\n",
    "import cloudpickle as pickle\n",
    "import os\n",
    "\n",
    "def save_weights(IMNN, folder_name='./model', weights='final'):\n",
    "    \n",
    "    # create output directory\n",
    "    if not os.path.exists(folder_name): \n",
    "        os.mkdir(folder_name)\n",
    "    \n",
    "    def pckl_me(obj, path):\n",
    "        with open(path, 'wb') as file_pi:\n",
    "            pickle.dump(obj, file_pi)\n",
    "        file_pi.close()\n",
    "        \n",
    "    # save IMNN (optimiser) state:\n",
    "    savestate = jax.experimental.optimizers.unpack_optimizer_state(IMNN.state)\n",
    "    pckl_me(savestate, os.path.join(folder_name, 'IMNN_state'))\n",
    "    \n",
    "    # save weights\n",
    "    if weights == 'final':\n",
    "        np.save(os.path.join(folder_name, 'final_w'), IMNN.final_w)\n",
    "    \n",
    "    else:\n",
    "        np.save(os.path.join(folder_name, 'best_w'), IMNN.best_w)\n",
    "        \n",
    "    # save initial weights\n",
    "    np.save(os.path.join(folder_name, 'initial_w'), IMNN.initial_w)\n",
    "        \n",
    "    # save training history\n",
    "    pckl_me(IMNN.history, os.path.join(folder_name, 'history'))\n",
    "    \n",
    "    # save important attributes as a dict\n",
    "    imnn_attributes = {\n",
    "        'n_s': IMNN.n_s,\n",
    "        'n_d': IMNN.n_d,\n",
    "        'input_shape': IMNN.input_shape,\n",
    "        'n_params' : IMNN.n_params,            \n",
    "        'n_summaries': IMNN.n_summaries,\n",
    "        'θ_fid': IMNN.θ_fid,\n",
    "        'F': IMNN.F,   \n",
    "        'validate': IMNN.validate,\n",
    "        'simulate': IMNN.simulate,\n",
    "        \n",
    "    }\n",
    "    \n",
    "    pckl_me(imnn_attributes, os.path.join(folder_name, 'IMNN_attributes'))\n",
    "    \n",
    "    print('saved weights and attributes to the file ', folder_name)\n",
    "    \n",
    "    \n",
    "def load_weights(IMNN, folder_name='./model', weights='final', load_attributes=True):\n",
    "    \n",
    "    \n",
    "    def unpckl_me(path):\n",
    "        file = open(path, 'rb')\n",
    "        return pickle.load(file)\n",
    "    \n",
    "    # load and assign weights\n",
    "    if weights=='final':\n",
    "        weights = np.load(os.path.join(folder_name, 'final_w.npy'),  allow_pickle=True)\n",
    "        IMNN.final_w = weights\n",
    "    else:\n",
    "        weights = np.load(os.path.join(folder_name, 'best_w.npy'),  allow_pickle=True)\n",
    "        IMNN.best_w = weights\n",
    "        \n",
    "    # re-pack and load the optimiser state\n",
    "    loadstate = unpckl_me(os.path.join(folder_name, 'IMNN_state'))\n",
    "    IMNN.state = jax.experimental.optimizers.pack_optimizer_state(loadstate)\n",
    "    \n",
    "    \n",
    "    # load history\n",
    "    IMNN.history = unpckl_me(os.path.join(folder_name, 'history'))\n",
    "    \n",
    "    # load important attributes\n",
    "    if load_attributes:\n",
    "        IMNN.intial_w =  np.load(os.path.join(folder_name, 'initial_w.npy'), allow_pickle=True)\n",
    "        attributes = unpckl_me(os.path.join(folder_name, 'IMNN_attributes'))\n",
    "        IMNN.θ_fid = attributes['θ_fid']\n",
    "        IMNN.n_s = attributes['n_s']\n",
    "        IMNN.n_d = attributes['n_d']\n",
    "        IMNN.input_shape = attributes['input_shape']\n",
    "        \n",
    "    print('loaded IMNN with these attributes: ', attributes)\n",
    "    "
   ]
  },
  {
   "cell_type": "code",
   "execution_count": null,
   "metadata": {},
   "outputs": [],
   "source": []
  },
  {
   "cell_type": "code",
   "execution_count": 68,
   "metadata": {},
   "outputs": [],
   "source": [
    "IMNN = SimulatorIMNN(\n",
    "        n_s=2000,\n",
    "        n_d=2000,\n",
    "        n_params=n_params,\n",
    "        n_summaries=n_summaries,\n",
    "        input_shape=input_shape,\n",
    "        θ_fid=np.array([0.95, 0.55], dtype=np.float32),\n",
    "        model=incept_model,\n",
    "        optimiser=optimiser,\n",
    "        key_or_state=initial_model_key,\n",
    "        simulator=lambda rng, θ: imnn_simulator(rng, θ, simulator_args=simulator_args),\n",
    "        #host=jax.devices()[0],\n",
    "        #devices=[jax.devices()[0]],\n",
    "        #n_per_device=1000\n",
    "        )"
   ]
  },
  {
   "cell_type": "code",
   "execution_count": 106,
   "metadata": {},
   "outputs": [
    {
     "name": "stdout",
     "output_type": "stream",
     "text": [
      "loaded IMNN with these attributes:  {'n_s': 2000, 'n_d': 2000, 'input_shape': (1, 1, 24, 24), 'n_params': 2, 'n_summaries': 2, 'θ_fid': array([0.95, 0.55], dtype=float32), 'F': array([[ 113.47875,   68.25043],\n",
      "       [  68.25042, 1288.2351 ]], dtype=float32), 'validate': False, 'simulate': True}\n"
     ]
    }
   ],
   "source": [
    "# load previously-trained imnn\n",
    "load_weights(IMNN, folder_name='./model_filters128_LN')"
   ]
  },
  {
   "cell_type": "code",
   "execution_count": 69,
   "metadata": {},
   "outputs": [],
   "source": [
    "IMNN_rngs = 1 * [fitting_key] #+ 12 * [None]\n",
    "labels = [\n",
    "    \"Simulator, InceptNet\\n\"\n",
    "]"
   ]
  },
  {
   "cell_type": "code",
   "execution_count": 91,
   "metadata": {},
   "outputs": [
    {
     "name": "stdout",
     "output_type": "stream",
     "text": [
      "CPU times: user 7min 16s, sys: 535 ms, total: 7min 17s\n",
      "Wall time: 7min 11s\n"
     ]
    }
   ],
   "source": [
    "%%time\n",
    "for i in range(1):\n",
    "    rng,fit_rng = jax.random.split(rng)\n",
    "    IMNN.fit(λ=10., ϵ=ϵ, rng=fit_rng, min_iterations=500) #for IMNN, IMNN_rng in zip(IMNNs, IMNN_rngs);\n",
    "    \n",
    "#save_weights(IMNN, folder_name='./models-LN')"
   ]
  },
  {
   "cell_type": "code",
   "execution_count": 92,
   "metadata": {},
   "outputs": [
    {
     "data": {
      "text/plain": [
       "DeviceArray(141529.28, dtype=float32)"
      ]
     },
     "execution_count": 92,
     "metadata": {},
     "output_type": "execute_result"
    }
   ],
   "source": [
    "np.linalg.det(IMNN.F)"
   ]
  },
  {
   "cell_type": "code",
   "execution_count": 103,
   "metadata": {},
   "outputs": [
    {
     "name": "stdout",
     "output_type": "stream",
     "text": [
      "saved weights and attributes to the file  ./model_filters128_LN\n"
     ]
    },
    {
     "name": "stderr",
     "output_type": "stream",
     "text": [
      "/mnt/home/tmakinen/anaconda3/envs/pyjax9/lib/python3.8/site-packages/numpy/core/_asarray.py:136: VisibleDeprecationWarning: Creating an ndarray from ragged nested sequences (which is a list-or-tuple of lists-or-tuples-or ndarrays with different lengths or shapes) is deprecated. If you meant to do this, you must specify 'dtype=object' when creating the ndarray\n",
      "  return array(a, dtype, copy=False, order=order, subok=True)\n"
     ]
    }
   ],
   "source": [
    "save_weights(IMNN, folder_name='./model_filters128_LN')"
   ]
  },
  {
   "cell_type": "code",
   "execution_count": 93,
   "metadata": {},
   "outputs": [
    {
     "data": {
      "image/png": "[encoded data removed]",
      "text/plain": [
       "<Figure size 386.64x238.957 with 1 Axes>"
      ]
     },
     "metadata": {},
     "output_type": "display_data"
    }
   ],
   "source": [
    "latexify(fig_width=5.37)\n",
    "#plt.style.use('default')\n",
    "plt.plot(IMNN.history['detF'][:])\n",
    "plt.plot(np.ones(len(IMNN.history['detF'][:]))*detF_expected, c='k', linestyle='--')\n",
    "plt.ylim(1e-2, 5e12)\n",
    "plt.ylabel(r'$\\det \\textbf{F}$')\n",
    "plt.xlabel('number of epochs')\n",
    "plt.yscale('log')\n",
    "plt.tight_layout()\n",
    "#plt.savefig('/mnt/home/tmakinen/repositories/field-plots/LN-training-20x20.png', dpi=400)"
   ]
  },
  {
   "cell_type": "code",
   "execution_count": 94,
   "metadata": {},
   "outputs": [
    {
     "data": {
      "image/png": "[encoded data removed]",
      "text/plain": [
       "<Figure size 386.64x238.957 with 1 Axes>"
      ]
     },
     "metadata": {},
     "output_type": "display_data"
    }
   ],
   "source": [
    "latexify(fig_width=5.37)\n",
    "#plt.style.use('default')\n",
    "plt.plot(IMNN.history['detC'][:])\n",
    "#plt.plot(np.ones(len(IMNN.history['detC'][:]))*detF_expected, c='k', linestyle='--')\n",
    "#plt.ylim(1e-2, 5e12)\n",
    "plt.ylabel(r'$\\det \\textbf{C}$')\n",
    "plt.xlabel('number of epochs')\n",
    "plt.yscale('log')\n",
    "plt.tight_layout()\n",
    "#plt.savefig('/mnt/home/tmakinen/repositories/field-plots/LN-training-20x20.png', dpi=400)"
   ]
  },
  {
   "cell_type": "code",
   "execution_count": 96,
   "metadata": {},
   "outputs": [
    {
     "name": "stdout",
     "output_type": "stream",
     "text": [
      "detF_pred:  264707.47\n",
      "detF_IMNN:  141529.28\n",
      "detF_IMNN / detF_pred :  0.53466296\n"
     ]
    }
   ],
   "source": [
    "detf_imnn = np.linalg.det(IMNN.F)\n",
    "print('detF_pred: ', detF_expected)\n",
    "print('detF_IMNN: ', detf_imnn)\n",
    "print('detF_IMNN / detF_pred : ', detf_imnn / detF_expected)"
   ]
  },
  {
   "cell_type": "markdown",
   "metadata": {},
   "source": [
    "### using IMNN, create sampler that goes $f: \\textbf{d} \\mapsto \\textbf{x}$\n",
    "(outputs summaries via `get_estimate`)"
   ]
  },
  {
   "cell_type": "code",
   "execution_count": 266,
   "metadata": {},
   "outputs": [],
   "source": [
    "@jit #partial(jax.jit, static_argnums=0)\n",
    "def get_estimate(d):\n",
    "    if len(d.shape) == 1:\n",
    "        return IMNN.θ_fid + np.einsum(\n",
    "            \"ij,kj,kl,l->i\",\n",
    "            IMNN.invF,\n",
    "            IMNN.dμ_dθ,\n",
    "            IMNN.invC,\n",
    "            IMNN.model(IMNN.best_w, d, rng=rng) - IMNN.μ)\n",
    "    else:\n",
    "        return IMNN.θ_fid + np.einsum(\n",
    "            \"ij,kj,kl,ml->mi\",\n",
    "            IMNN.invF,\n",
    "            IMNN.dμ_dθ,\n",
    "            IMNN.invC,\n",
    "            IMNN.model(IMNN.w, d, rng=rng) - IMNN.μ)\n"
   ]
  },
  {
   "cell_type": "code",
   "execution_count": 107,
   "metadata": {},
   "outputs": [
    {
     "ename": "NameError",
     "evalue": "name 'target_data' is not defined",
     "output_type": "error",
     "traceback": [
      "\u001b[0;31m---------------------------------------------------------------------------\u001b[0m",
      "\u001b[0;31mNameError\u001b[0m                                 Traceback (most recent call last)",
      "\u001b[0;32m<ipython-input-107-0b5b1266da18>\u001b[0m in \u001b[0;36m<module>\u001b[0;34m\u001b[0m\n\u001b[0;32m----> 1\u001b[0;31m \u001b[0mIMNN\u001b[0m\u001b[0;34m.\u001b[0m\u001b[0mmodel\u001b[0m\u001b[0;34m(\u001b[0m\u001b[0mIMNN\u001b[0m\u001b[0;34m.\u001b[0m\u001b[0mw\u001b[0m\u001b[0;34m,\u001b[0m \u001b[0mtarget_data\u001b[0m\u001b[0;34m,\u001b[0m \u001b[0mrng\u001b[0m\u001b[0;34m=\u001b[0m\u001b[0mkey\u001b[0m\u001b[0;34m)\u001b[0m\u001b[0;34m\u001b[0m\u001b[0;34m\u001b[0m\u001b[0m\n\u001b[0m",
      "\u001b[0;31mNameError\u001b[0m: name 'target_data' is not defined"
     ]
    }
   ],
   "source": [
    "IMNN.model(IMNN.w, target_data, rng=key)"
   ]
  },
  {
   "cell_type": "markdown",
   "metadata": {},
   "source": [
    "### obtain target data from Florent's sims"
   ]
  },
  {
   "cell_type": "code",
   "execution_count": 267,
   "metadata": {},
   "outputs": [
    {
     "name": "stdout",
     "output_type": "stream",
     "text": [
      "/mnt/home/tmakinen/repositories/FieldIMNNs/fields\n"
     ]
    }
   ],
   "source": [
    "cd ~/repositories/FieldIMNNs/fields"
   ]
  },
  {
   "cell_type": "code",
   "execution_count": 268,
   "metadata": {},
   "outputs": [],
   "source": [
    "dataid = 1 # for florent's sims as target data"
   ]
  },
  {
   "cell_type": "code",
   "execution_count": 269,
   "metadata": {},
   "outputs": [],
   "source": [
    "rng, key = jax.random.split(rng)\n",
    "target = dict(\n",
    "    f_NL=None,\n",
    "    α=np.array(1.0),\n",
    "    β=np.array(0.5))\n",
    "\n",
    "dat = np.load(\"correlations_vs_field/data/Sims20_05_10_80_80_500_80_1_123456.npy\")\n",
    "target['f_NL'] = dat[dataid]['field'].flatten()"
   ]
  },
  {
   "cell_type": "code",
   "execution_count": 270,
   "metadata": {},
   "outputs": [
    {
     "data": {
      "text/plain": [
       "<matplotlib.colorbar.Colorbar at 0x154b59aa2040>"
      ]
     },
     "execution_count": 270,
     "metadata": {},
     "output_type": "execute_result"
    },
    {
     "data": {
      "image/png": "[encoded data removed]",
      "text/plain": [
       "<Figure size 386.64x238.957 with 2 Axes>"
      ]
     },
     "metadata": {},
     "output_type": "display_data"
    }
   ],
   "source": [
    "plt.imshow(target[\"f_NL\"].reshape((N, N)))\n",
    "plt.colorbar()"
   ]
  },
  {
   "cell_type": "code",
   "execution_count": 275,
   "metadata": {},
   "outputs": [],
   "source": [
    "# put data in the proper shape for IMNN \n",
    "target_data = np.expand_dims(np.expand_dims(np.expand_dims(np.pad(target[\"f_NL\"].reshape((N, N)), [2,2]), 0), 0), 0)\n",
    "estimates = IMNN.get_estimate(target_data)"
   ]
  },
  {
   "cell_type": "markdown",
   "metadata": {},
   "source": [
    "# prior"
   ]
  },
  {
   "cell_type": "code",
   "execution_count": 276,
   "metadata": {},
   "outputs": [],
   "source": [
    "class uniform:\n",
    "    def __init__(self, low, high):\n",
    "        self.low = np.array(low)\n",
    "        self.high = np.array(high)\n",
    "        self.event_shape = [[] for i in range(self.low.shape[0])]\n",
    "    def sample(self, n=None, seed=None):\n",
    "        if n is None:\n",
    "            n = 1\n",
    "        keys = np.array(jax.random.split(\n",
    "            seed, \n",
    "            num=len(self.event_shape)))\n",
    "        return jax.vmap(\n",
    "            lambda key, low, high : jax.random.uniform(\n",
    "                key, \n",
    "                shape=(n,), \n",
    "                minval=low, \n",
    "                maxval=high))(\n",
    "            keys, self.low, self.high)\n",
    "\n",
    "prior = uniform([0., 0.2], [2., 0.8])"
   ]
  },
  {
   "cell_type": "markdown",
   "metadata": {},
   "source": [
    "# ABC sampler"
   ]
  },
  {
   "cell_type": "code",
   "execution_count": 277,
   "metadata": {},
   "outputs": [],
   "source": [
    "GAs = [GaussianApproximation(IMNN.get_estimate(target_data), IMNN.invF, prior)]"
   ]
  },
  {
   "cell_type": "code",
   "execution_count": 278,
   "metadata": {},
   "outputs": [
    {
     "data": {
      "text/plain": [
       "DeviceArray([0.95, 0.55], dtype=float32)"
      ]
     },
     "execution_count": 278,
     "metadata": {},
     "output_type": "execute_result"
    }
   ],
   "source": [
    "θ_fid"
   ]
  },
  {
   "cell_type": "code",
   "execution_count": 279,
   "metadata": {},
   "outputs": [
    {
     "data": {
      "image/png": "[encoded data removed]",
      "text/plain": [
       "<Figure size 720x720 with 4 Axes>"
      ]
     },
     "metadata": {
      "needs_background": "light"
     },
     "output_type": "display_data"
    }
   ],
   "source": [
    "%matplotlib inline\n",
    "for i, (GA, label) in enumerate(zip(GAs, labels)):\n",
    "    if i == 0:\n",
    "        ax = GA.marginal_plot(\n",
    "            axis_labels=[r\"$\\alpha$\", r\"$\\beta$\"], label='on-the-fly IMNN', colours=\"C{}\".format(i)\n",
    "        )\n",
    "    else:\n",
    "        GA.marginal_plot(ax=ax, label=label, colours=\"C{}\".format(i), ncol=8)"
   ]
  },
  {
   "cell_type": "code",
   "execution_count": 280,
   "metadata": {},
   "outputs": [],
   "source": [
    "ABC = ApproximateBayesianComputation(\n",
    "        target_data, prior, \n",
    "     lambda A,B : imnn_simulator(A,B, simulator_args={**simulator_args, **{'squeeze':False}}), \n",
    "                                       IMNN.get_estimate, F=IMNN.F, gridsize=50\n",
    "    )"
   ]
  },
  {
   "cell_type": "code",
   "execution_count": 281,
   "metadata": {},
   "outputs": [
    {
     "data": {
      "text/plain": [
       "(1, 24, 24)"
      ]
     },
     "execution_count": 281,
     "metadata": {},
     "output_type": "execute_result"
    }
   ],
   "source": [
    "imnn_simulator(key, θ_fid, simulator_args={**simulator_args, **{'squeeze':True}}).shape"
   ]
  },
  {
   "cell_type": "code",
   "execution_count": 282,
   "metadata": {},
   "outputs": [
    {
     "name": "stdout",
     "output_type": "stream",
     "text": [
      "316 accepted in last  20000 iterations  (20000000 simulations done).\n",
      "CPU times: user 9min, sys: 2.77 s, total: 9min 3s\n",
      "Wall time: 9min 7s\n"
     ]
    },
    {
     "data": {
      "text/plain": [
       "(<imnn.utils.container.container at 0x154b59a815e0>,\n",
       " <imnn.utils.container.container at 0x154b59b358b0>,\n",
       " <imnn.utils.container.container at 0x154b784fc0a0>)"
      ]
     },
     "execution_count": 282,
     "metadata": {},
     "output_type": "execute_result"
    }
   ],
   "source": [
    "%%time\n",
    "rng,abc_key = jax.random.split(rng)\n",
    "ABC(rng=abc_key,\n",
    "        n_samples=int(1e3),\n",
    "        min_accepted=15000,\n",
    "        max_iterations=20000,\n",
    "        ϵ=0.05,\n",
    "        smoothing=0.);"
   ]
  },
  {
   "cell_type": "code",
   "execution_count": 283,
   "metadata": {},
   "outputs": [],
   "source": [
    "np.save('./marginals/abc_marginal_field_%d'%(dataid), ABC.parameters.accepted[0])"
   ]
  },
  {
   "cell_type": "code",
   "execution_count": 284,
   "metadata": {},
   "outputs": [],
   "source": [
    "#np.save('accepted_ABC_LN', ABC.parameters.accepted[0])"
   ]
  },
  {
   "cell_type": "code",
   "execution_count": 285,
   "metadata": {},
   "outputs": [
    {
     "data": {
      "text/plain": [
       "array([[<AxesSubplot:>, <AxesSubplot:>],\n",
       "       [<AxesSubplot:>, <AxesSubplot:>]], dtype=object)"
      ]
     },
     "execution_count": 285,
     "metadata": {},
     "output_type": "execute_result"
    },
    {
     "data": {
      "image/png": "[encoded data removed]",
      "text/plain": [
       "<Figure size 720x720 with 4 Axes>"
      ]
     },
     "metadata": {
      "needs_background": "light"
     },
     "output_type": "display_data"
    }
   ],
   "source": [
    "ax = ABC.scatter_plot()\n",
    "GA.marginal_plot(ax=ax)"
   ]
  },
  {
   "cell_type": "code",
   "execution_count": 157,
   "metadata": {},
   "outputs": [
    {
     "data": {
      "text/plain": [
       "1"
      ]
     },
     "execution_count": 157,
     "metadata": {},
     "output_type": "execute_result"
    }
   ],
   "source": [
    "dataid"
   ]
  },
  {
   "cell_type": "code",
   "execution_count": 123,
   "metadata": {},
   "outputs": [],
   "source": [
    "# get comparison to true posterior\n",
    "# prior = uniform([0., 0.2], [2., 0.8])\n",
    "# load marginals from Tom's code\n",
    "size = 250\n",
    "marginal = np.load('./marginals/marginal_field_%d_20x20_field.npy'%(dataid))\n",
    "arr = marginal[~np.isnan(marginal)]\n",
    "inds = np.argsort(arr)[::-1]\n",
    "cdf = np.cumsum(arr[inds] / arr.sum())\n",
    "levels = [arr[inds[np.argmin(np.abs(i - cdf))]] for i in [0.99, 0.95, 0.68, 0.]]\n"
   ]
  },
  {
   "cell_type": "code",
   "execution_count": 128,
   "metadata": {},
   "outputs": [
    {
     "data": {
      "text/plain": [
       "array([[nan,  0.,  0., ..., nan, nan, nan],\n",
       "       [nan,  0.,  0., ..., nan, nan, nan],\n",
       "       [nan,  0.,  0., ..., nan, nan, nan],\n",
       "       ...,\n",
       "       [nan,  0.,  0., ..., nan, nan, nan],\n",
       "       [nan,  0.,  0., ..., nan, nan, nan],\n",
       "       [nan,  0.,  0., ..., nan, nan, nan]])"
      ]
     },
     "execution_count": 128,
     "metadata": {},
     "output_type": "execute_result"
    }
   ],
   "source": [
    "marginal"
   ]
  },
  {
   "cell_type": "code",
   "execution_count": 124,
   "metadata": {
    "collapsed": true,
    "jupyter": {
     "outputs_hidden": true
    }
   },
   "outputs": [
    {
     "ename": "ValueError",
     "evalue": "Contour levels must be increasing",
     "output_type": "error",
     "traceback": [
      "\u001b[0;31m---------------------------------------------------------------------------\u001b[0m",
      "\u001b[0;31mValueError\u001b[0m                                Traceback (most recent call last)",
      "\u001b[0;32m<ipython-input-124-31cc1a396e5f>\u001b[0m in \u001b[0;36m<module>\u001b[0;34m\u001b[0m\n\u001b[1;32m      1\u001b[0m \u001b[0mplt\u001b[0m\u001b[0;34m.\u001b[0m\u001b[0mfigure\u001b[0m\u001b[0;34m(\u001b[0m\u001b[0mfigsize\u001b[0m\u001b[0;34m=\u001b[0m\u001b[0;34m(\u001b[0m\u001b[0;36m10\u001b[0m\u001b[0;34m,\u001b[0m \u001b[0;36m10\u001b[0m\u001b[0;34m)\u001b[0m\u001b[0;34m)\u001b[0m\u001b[0;34m\u001b[0m\u001b[0;34m\u001b[0m\u001b[0m\n\u001b[0;32m----> 2\u001b[0;31m \u001b[0mplt\u001b[0m\u001b[0;34m.\u001b[0m\u001b[0mcontourf\u001b[0m\u001b[0;34m(\u001b[0m\u001b[0mnp\u001b[0m\u001b[0;34m.\u001b[0m\u001b[0mlinspace\u001b[0m\u001b[0;34m(\u001b[0m\u001b[0;36m0.\u001b[0m\u001b[0;34m,\u001b[0m \u001b[0;36m2.\u001b[0m\u001b[0;34m,\u001b[0m \u001b[0msize\u001b[0m\u001b[0;34m)\u001b[0m\u001b[0;34m,\u001b[0m \u001b[0mnp\u001b[0m\u001b[0;34m.\u001b[0m\u001b[0mlinspace\u001b[0m\u001b[0;34m(\u001b[0m\u001b[0;36m0.2\u001b[0m\u001b[0;34m,\u001b[0m \u001b[0;36m0.8\u001b[0m\u001b[0;34m,\u001b[0m \u001b[0msize\u001b[0m\u001b[0;34m)\u001b[0m\u001b[0;34m,\u001b[0m \u001b[0mmarginal\u001b[0m\u001b[0;34m.\u001b[0m\u001b[0mT\u001b[0m\u001b[0;34m,\u001b[0m \u001b[0mlevels\u001b[0m\u001b[0;34m=\u001b[0m\u001b[0mlevels\u001b[0m\u001b[0;34m,\u001b[0m \u001b[0mcmap\u001b[0m\u001b[0;34m=\u001b[0m\u001b[0;34m\"Purples\"\u001b[0m\u001b[0;34m)\u001b[0m\u001b[0;34m\u001b[0m\u001b[0;34m\u001b[0m\u001b[0m\n\u001b[0m\u001b[1;32m      3\u001b[0m \u001b[0mplt\u001b[0m\u001b[0;34m.\u001b[0m\u001b[0mcontour\u001b[0m\u001b[0;34m(\u001b[0m\u001b[0mnp\u001b[0m\u001b[0;34m.\u001b[0m\u001b[0mlinspace\u001b[0m\u001b[0;34m(\u001b[0m\u001b[0;36m0.\u001b[0m\u001b[0;34m,\u001b[0m \u001b[0;36m2.\u001b[0m\u001b[0;34m,\u001b[0m \u001b[0msize\u001b[0m\u001b[0;34m)\u001b[0m\u001b[0;34m,\u001b[0m \u001b[0mnp\u001b[0m\u001b[0;34m.\u001b[0m\u001b[0mlinspace\u001b[0m\u001b[0;34m(\u001b[0m\u001b[0;36m0.2\u001b[0m\u001b[0;34m,\u001b[0m \u001b[0;36m0.8\u001b[0m\u001b[0;34m,\u001b[0m \u001b[0msize\u001b[0m\u001b[0;34m)\u001b[0m\u001b[0;34m,\u001b[0m \u001b[0mmarginal\u001b[0m\u001b[0;34m.\u001b[0m\u001b[0mT\u001b[0m\u001b[0;34m,\u001b[0m \u001b[0mlevels\u001b[0m\u001b[0;34m=\u001b[0m\u001b[0mlevels\u001b[0m\u001b[0;34m,\u001b[0m \u001b[0mlabel\u001b[0m\u001b[0;34m=\u001b[0m\u001b[0;34m'DA'\u001b[0m\u001b[0;34m)\u001b[0m\u001b[0;34m\u001b[0m\u001b[0;34m\u001b[0m\u001b[0m\n\u001b[1;32m      4\u001b[0m \u001b[0mplt\u001b[0m\u001b[0;34m.\u001b[0m\u001b[0mscatter\u001b[0m\u001b[0;34m(\u001b[0m\u001b[0mABC\u001b[0m\u001b[0;34m.\u001b[0m\u001b[0mparameters\u001b[0m\u001b[0;34m.\u001b[0m\u001b[0maccepted\u001b[0m\u001b[0;34m[\u001b[0m\u001b[0;36m0\u001b[0m\u001b[0;34m]\u001b[0m\u001b[0;34m,\u001b[0m \u001b[0mABC\u001b[0m\u001b[0;34m.\u001b[0m\u001b[0mparameters\u001b[0m\u001b[0;34m.\u001b[0m\u001b[0maccepted\u001b[0m\u001b[0;34m[\u001b[0m\u001b[0;36m1\u001b[0m\u001b[0;34m]\u001b[0m\u001b[0;34m)\u001b[0m\u001b[0;34m\u001b[0m\u001b[0;34m\u001b[0m\u001b[0m\n\u001b[1;32m      5\u001b[0m \u001b[0mplt\u001b[0m\u001b[0;34m.\u001b[0m\u001b[0mxlabel\u001b[0m\u001b[0;34m(\u001b[0m\u001b[0;34m\"α\"\u001b[0m\u001b[0;34m)\u001b[0m\u001b[0;34m\u001b[0m\u001b[0;34m\u001b[0m\u001b[0m\n",
      "\u001b[0;32m~/anaconda3/envs/pyjax9/lib/python3.8/site-packages/matplotlib-3.4.1-py3.8-linux-x86_64.egg/matplotlib/pyplot.py\u001b[0m in \u001b[0;36mcontourf\u001b[0;34m(data, *args, **kwargs)\u001b[0m\n\u001b[1;32m   2712\u001b[0m \u001b[0;34m@\u001b[0m\u001b[0m_copy_docstring_and_deprecators\u001b[0m\u001b[0;34m(\u001b[0m\u001b[0mAxes\u001b[0m\u001b[0;34m.\u001b[0m\u001b[0mcontourf\u001b[0m\u001b[0;34m)\u001b[0m\u001b[0;34m\u001b[0m\u001b[0;34m\u001b[0m\u001b[0m\n\u001b[1;32m   2713\u001b[0m \u001b[0;32mdef\u001b[0m \u001b[0mcontourf\u001b[0m\u001b[0;34m(\u001b[0m\u001b[0;34m*\u001b[0m\u001b[0margs\u001b[0m\u001b[0;34m,\u001b[0m \u001b[0mdata\u001b[0m\u001b[0;34m=\u001b[0m\u001b[0;32mNone\u001b[0m\u001b[0;34m,\u001b[0m \u001b[0;34m**\u001b[0m\u001b[0mkwargs\u001b[0m\u001b[0;34m)\u001b[0m\u001b[0;34m:\u001b[0m\u001b[0;34m\u001b[0m\u001b[0;34m\u001b[0m\u001b[0m\n\u001b[0;32m-> 2714\u001b[0;31m     __ret = gca().contourf(\n\u001b[0m\u001b[1;32m   2715\u001b[0m         \u001b[0;34m*\u001b[0m\u001b[0margs\u001b[0m\u001b[0;34m,\u001b[0m \u001b[0;34m**\u001b[0m\u001b[0;34m(\u001b[0m\u001b[0;34m{\u001b[0m\u001b[0;34m\"data\"\u001b[0m\u001b[0;34m:\u001b[0m \u001b[0mdata\u001b[0m\u001b[0;34m}\u001b[0m \u001b[0;32mif\u001b[0m \u001b[0mdata\u001b[0m \u001b[0;32mis\u001b[0m \u001b[0;32mnot\u001b[0m \u001b[0;32mNone\u001b[0m \u001b[0;32melse\u001b[0m \u001b[0;34m{\u001b[0m\u001b[0;34m}\u001b[0m\u001b[0;34m)\u001b[0m\u001b[0;34m,\u001b[0m\u001b[0;34m\u001b[0m\u001b[0;34m\u001b[0m\u001b[0m\n\u001b[1;32m   2716\u001b[0m         **kwargs)\n",
      "\u001b[0;32m~/anaconda3/envs/pyjax9/lib/python3.8/site-packages/matplotlib-3.4.1-py3.8-linux-x86_64.egg/matplotlib/__init__.py\u001b[0m in \u001b[0;36minner\u001b[0;34m(ax, data, *args, **kwargs)\u001b[0m\n\u001b[1;32m   1350\u001b[0m     \u001b[0;32mdef\u001b[0m \u001b[0minner\u001b[0m\u001b[0;34m(\u001b[0m\u001b[0max\u001b[0m\u001b[0;34m,\u001b[0m \u001b[0;34m*\u001b[0m\u001b[0margs\u001b[0m\u001b[0;34m,\u001b[0m \u001b[0mdata\u001b[0m\u001b[0;34m=\u001b[0m\u001b[0;32mNone\u001b[0m\u001b[0;34m,\u001b[0m \u001b[0;34m**\u001b[0m\u001b[0mkwargs\u001b[0m\u001b[0;34m)\u001b[0m\u001b[0;34m:\u001b[0m\u001b[0;34m\u001b[0m\u001b[0;34m\u001b[0m\u001b[0m\n\u001b[1;32m   1351\u001b[0m         \u001b[0;32mif\u001b[0m \u001b[0mdata\u001b[0m \u001b[0;32mis\u001b[0m \u001b[0;32mNone\u001b[0m\u001b[0;34m:\u001b[0m\u001b[0;34m\u001b[0m\u001b[0;34m\u001b[0m\u001b[0m\n\u001b[0;32m-> 1352\u001b[0;31m             \u001b[0;32mreturn\u001b[0m \u001b[0mfunc\u001b[0m\u001b[0;34m(\u001b[0m\u001b[0max\u001b[0m\u001b[0;34m,\u001b[0m \u001b[0;34m*\u001b[0m\u001b[0mmap\u001b[0m\u001b[0;34m(\u001b[0m\u001b[0msanitize_sequence\u001b[0m\u001b[0;34m,\u001b[0m \u001b[0margs\u001b[0m\u001b[0;34m)\u001b[0m\u001b[0;34m,\u001b[0m \u001b[0;34m**\u001b[0m\u001b[0mkwargs\u001b[0m\u001b[0;34m)\u001b[0m\u001b[0;34m\u001b[0m\u001b[0;34m\u001b[0m\u001b[0m\n\u001b[0m\u001b[1;32m   1353\u001b[0m \u001b[0;34m\u001b[0m\u001b[0m\n\u001b[1;32m   1354\u001b[0m         \u001b[0mbound\u001b[0m \u001b[0;34m=\u001b[0m \u001b[0mnew_sig\u001b[0m\u001b[0;34m.\u001b[0m\u001b[0mbind\u001b[0m\u001b[0;34m(\u001b[0m\u001b[0max\u001b[0m\u001b[0;34m,\u001b[0m \u001b[0;34m*\u001b[0m\u001b[0margs\u001b[0m\u001b[0;34m,\u001b[0m \u001b[0;34m**\u001b[0m\u001b[0mkwargs\u001b[0m\u001b[0;34m)\u001b[0m\u001b[0;34m\u001b[0m\u001b[0;34m\u001b[0m\u001b[0m\n",
      "\u001b[0;32m~/anaconda3/envs/pyjax9/lib/python3.8/site-packages/matplotlib-3.4.1-py3.8-linux-x86_64.egg/matplotlib/axes/_axes.py\u001b[0m in \u001b[0;36mcontourf\u001b[0;34m(self, *args, **kwargs)\u001b[0m\n\u001b[1;32m   6411\u001b[0m     \u001b[0;32mdef\u001b[0m \u001b[0mcontourf\u001b[0m\u001b[0;34m(\u001b[0m\u001b[0mself\u001b[0m\u001b[0;34m,\u001b[0m \u001b[0;34m*\u001b[0m\u001b[0margs\u001b[0m\u001b[0;34m,\u001b[0m \u001b[0;34m**\u001b[0m\u001b[0mkwargs\u001b[0m\u001b[0;34m)\u001b[0m\u001b[0;34m:\u001b[0m\u001b[0;34m\u001b[0m\u001b[0;34m\u001b[0m\u001b[0m\n\u001b[1;32m   6412\u001b[0m         \u001b[0mkwargs\u001b[0m\u001b[0;34m[\u001b[0m\u001b[0;34m'filled'\u001b[0m\u001b[0;34m]\u001b[0m \u001b[0;34m=\u001b[0m \u001b[0;32mTrue\u001b[0m\u001b[0;34m\u001b[0m\u001b[0;34m\u001b[0m\u001b[0m\n\u001b[0;32m-> 6413\u001b[0;31m         \u001b[0mcontours\u001b[0m \u001b[0;34m=\u001b[0m \u001b[0mmcontour\u001b[0m\u001b[0;34m.\u001b[0m\u001b[0mQuadContourSet\u001b[0m\u001b[0;34m(\u001b[0m\u001b[0mself\u001b[0m\u001b[0;34m,\u001b[0m \u001b[0;34m*\u001b[0m\u001b[0margs\u001b[0m\u001b[0;34m,\u001b[0m \u001b[0;34m**\u001b[0m\u001b[0mkwargs\u001b[0m\u001b[0;34m)\u001b[0m\u001b[0;34m\u001b[0m\u001b[0;34m\u001b[0m\u001b[0m\n\u001b[0m\u001b[1;32m   6414\u001b[0m         \u001b[0mself\u001b[0m\u001b[0;34m.\u001b[0m\u001b[0m_request_autoscale_view\u001b[0m\u001b[0;34m(\u001b[0m\u001b[0;34m)\u001b[0m\u001b[0;34m\u001b[0m\u001b[0;34m\u001b[0m\u001b[0m\n\u001b[1;32m   6415\u001b[0m         \u001b[0;32mreturn\u001b[0m \u001b[0mcontours\u001b[0m\u001b[0;34m\u001b[0m\u001b[0;34m\u001b[0m\u001b[0m\n",
      "\u001b[0;32m~/anaconda3/envs/pyjax9/lib/python3.8/site-packages/matplotlib-3.4.1-py3.8-linux-x86_64.egg/matplotlib/contour.py\u001b[0m in \u001b[0;36m__init__\u001b[0;34m(self, ax, levels, filled, linewidths, linestyles, hatches, alpha, origin, extent, cmap, colors, norm, vmin, vmax, extend, antialiased, nchunk, locator, transform, *args, **kwargs)\u001b[0m\n\u001b[1;32m    775\u001b[0m         \u001b[0mself\u001b[0m\u001b[0;34m.\u001b[0m\u001b[0m_transform\u001b[0m \u001b[0;34m=\u001b[0m \u001b[0mtransform\u001b[0m\u001b[0;34m\u001b[0m\u001b[0;34m\u001b[0m\u001b[0m\n\u001b[1;32m    776\u001b[0m \u001b[0;34m\u001b[0m\u001b[0m\n\u001b[0;32m--> 777\u001b[0;31m         \u001b[0mkwargs\u001b[0m \u001b[0;34m=\u001b[0m \u001b[0mself\u001b[0m\u001b[0;34m.\u001b[0m\u001b[0m_process_args\u001b[0m\u001b[0;34m(\u001b[0m\u001b[0;34m*\u001b[0m\u001b[0margs\u001b[0m\u001b[0;34m,\u001b[0m \u001b[0;34m**\u001b[0m\u001b[0mkwargs\u001b[0m\u001b[0;34m)\u001b[0m\u001b[0;34m\u001b[0m\u001b[0;34m\u001b[0m\u001b[0m\n\u001b[0m\u001b[1;32m    778\u001b[0m         \u001b[0mself\u001b[0m\u001b[0;34m.\u001b[0m\u001b[0m_process_levels\u001b[0m\u001b[0;34m(\u001b[0m\u001b[0;34m)\u001b[0m\u001b[0;34m\u001b[0m\u001b[0;34m\u001b[0m\u001b[0m\n\u001b[1;32m    779\u001b[0m \u001b[0;34m\u001b[0m\u001b[0m\n",
      "\u001b[0;32m~/anaconda3/envs/pyjax9/lib/python3.8/site-packages/matplotlib-3.4.1-py3.8-linux-x86_64.egg/matplotlib/contour.py\u001b[0m in \u001b[0;36m_process_args\u001b[0;34m(self, corner_mask, *args, **kwargs)\u001b[0m\n\u001b[1;32m   1364\u001b[0m             \u001b[0mself\u001b[0m\u001b[0;34m.\u001b[0m\u001b[0m_corner_mask\u001b[0m \u001b[0;34m=\u001b[0m \u001b[0mcorner_mask\u001b[0m\u001b[0;34m\u001b[0m\u001b[0;34m\u001b[0m\u001b[0m\n\u001b[1;32m   1365\u001b[0m \u001b[0;34m\u001b[0m\u001b[0m\n\u001b[0;32m-> 1366\u001b[0;31m             \u001b[0mx\u001b[0m\u001b[0;34m,\u001b[0m \u001b[0my\u001b[0m\u001b[0;34m,\u001b[0m \u001b[0mz\u001b[0m \u001b[0;34m=\u001b[0m \u001b[0mself\u001b[0m\u001b[0;34m.\u001b[0m\u001b[0m_contour_args\u001b[0m\u001b[0;34m(\u001b[0m\u001b[0margs\u001b[0m\u001b[0;34m,\u001b[0m \u001b[0mkwargs\u001b[0m\u001b[0;34m)\u001b[0m\u001b[0;34m\u001b[0m\u001b[0;34m\u001b[0m\u001b[0m\n\u001b[0m\u001b[1;32m   1367\u001b[0m \u001b[0;34m\u001b[0m\u001b[0m\n\u001b[1;32m   1368\u001b[0m             \u001b[0m_mask\u001b[0m \u001b[0;34m=\u001b[0m \u001b[0mma\u001b[0m\u001b[0;34m.\u001b[0m\u001b[0mgetmask\u001b[0m\u001b[0;34m(\u001b[0m\u001b[0mz\u001b[0m\u001b[0;34m)\u001b[0m\u001b[0;34m\u001b[0m\u001b[0;34m\u001b[0m\u001b[0m\n",
      "\u001b[0;32m~/anaconda3/envs/pyjax9/lib/python3.8/site-packages/matplotlib-3.4.1-py3.8-linux-x86_64.egg/matplotlib/contour.py\u001b[0m in \u001b[0;36m_contour_args\u001b[0;34m(self, args, kwargs)\u001b[0m\n\u001b[1;32m   1434\u001b[0m             \u001b[0m_api\u001b[0m\u001b[0;34m.\u001b[0m\u001b[0mwarn_external\u001b[0m\u001b[0;34m(\u001b[0m\u001b[0;34m'Log scale: values of z <= 0 have been masked'\u001b[0m\u001b[0;34m)\u001b[0m\u001b[0;34m\u001b[0m\u001b[0;34m\u001b[0m\u001b[0m\n\u001b[1;32m   1435\u001b[0m             \u001b[0mself\u001b[0m\u001b[0;34m.\u001b[0m\u001b[0mzmin\u001b[0m \u001b[0;34m=\u001b[0m \u001b[0mfloat\u001b[0m\u001b[0;34m(\u001b[0m\u001b[0mz\u001b[0m\u001b[0;34m.\u001b[0m\u001b[0mmin\u001b[0m\u001b[0;34m(\u001b[0m\u001b[0;34m)\u001b[0m\u001b[0;34m)\u001b[0m\u001b[0;34m\u001b[0m\u001b[0;34m\u001b[0m\u001b[0m\n\u001b[0;32m-> 1436\u001b[0;31m         \u001b[0mself\u001b[0m\u001b[0;34m.\u001b[0m\u001b[0m_process_contour_level_args\u001b[0m\u001b[0;34m(\u001b[0m\u001b[0margs\u001b[0m\u001b[0;34m)\u001b[0m\u001b[0;34m\u001b[0m\u001b[0;34m\u001b[0m\u001b[0m\n\u001b[0m\u001b[1;32m   1437\u001b[0m         \u001b[0;32mreturn\u001b[0m \u001b[0;34m(\u001b[0m\u001b[0mx\u001b[0m\u001b[0;34m,\u001b[0m \u001b[0my\u001b[0m\u001b[0;34m,\u001b[0m \u001b[0mz\u001b[0m\u001b[0;34m)\u001b[0m\u001b[0;34m\u001b[0m\u001b[0;34m\u001b[0m\u001b[0m\n\u001b[1;32m   1438\u001b[0m \u001b[0;34m\u001b[0m\u001b[0m\n",
      "\u001b[0;32m~/anaconda3/envs/pyjax9/lib/python3.8/site-packages/matplotlib-3.4.1-py3.8-linux-x86_64.egg/matplotlib/contour.py\u001b[0m in \u001b[0;36m_process_contour_level_args\u001b[0;34m(self, args)\u001b[0m\n\u001b[1;32m   1117\u001b[0m \u001b[0;34m\u001b[0m\u001b[0m\n\u001b[1;32m   1118\u001b[0m         \u001b[0;32mif\u001b[0m \u001b[0mlen\u001b[0m\u001b[0;34m(\u001b[0m\u001b[0mself\u001b[0m\u001b[0;34m.\u001b[0m\u001b[0mlevels\u001b[0m\u001b[0;34m)\u001b[0m \u001b[0;34m>\u001b[0m \u001b[0;36m1\u001b[0m \u001b[0;32mand\u001b[0m \u001b[0mnp\u001b[0m\u001b[0;34m.\u001b[0m\u001b[0mmin\u001b[0m\u001b[0;34m(\u001b[0m\u001b[0mnp\u001b[0m\u001b[0;34m.\u001b[0m\u001b[0mdiff\u001b[0m\u001b[0;34m(\u001b[0m\u001b[0mself\u001b[0m\u001b[0;34m.\u001b[0m\u001b[0mlevels\u001b[0m\u001b[0;34m)\u001b[0m\u001b[0;34m)\u001b[0m \u001b[0;34m<=\u001b[0m \u001b[0;36m0.0\u001b[0m\u001b[0;34m:\u001b[0m\u001b[0;34m\u001b[0m\u001b[0;34m\u001b[0m\u001b[0m\n\u001b[0;32m-> 1119\u001b[0;31m             \u001b[0;32mraise\u001b[0m \u001b[0mValueError\u001b[0m\u001b[0;34m(\u001b[0m\u001b[0;34m\"Contour levels must be increasing\"\u001b[0m\u001b[0;34m)\u001b[0m\u001b[0;34m\u001b[0m\u001b[0;34m\u001b[0m\u001b[0m\n\u001b[0m\u001b[1;32m   1120\u001b[0m \u001b[0;34m\u001b[0m\u001b[0m\n\u001b[1;32m   1121\u001b[0m     \u001b[0;32mdef\u001b[0m \u001b[0m_process_levels\u001b[0m\u001b[0;34m(\u001b[0m\u001b[0mself\u001b[0m\u001b[0;34m)\u001b[0m\u001b[0;34m:\u001b[0m\u001b[0;34m\u001b[0m\u001b[0;34m\u001b[0m\u001b[0m\n",
      "\u001b[0;31mValueError\u001b[0m: Contour levels must be increasing"
     ]
    },
    {
     "data": {
      "image/png": "[encoded data removed]",
      "text/plain": [
       "<Figure size 720x720 with 1 Axes>"
      ]
     },
     "metadata": {
      "needs_background": "light"
     },
     "output_type": "display_data"
    }
   ],
   "source": [
    "plt.figure(figsize=(10, 10))\n",
    "plt.contourf(np.linspace(0., 2., size), np.linspace(0.2, 0.8, size), marginal.T, levels=levels, cmap=\"Purples\")\n",
    "plt.contour(np.linspace(0., 2., size), np.linspace(0.2, 0.8, size), marginal.T, levels=levels, label='DA')\n",
    "plt.scatter(ABC.parameters.accepted[0], ABC.parameters.accepted[1])\n",
    "plt.xlabel(\"α\")\n",
    "plt.ylabel(\"β\")\n",
    "plt.ylim(0.4, 0.6)\n",
    "plt.xlim(0.5, 1.5)\n",
    "plt.axvline(target[\"α\"], linestyle=\"dashed\", color=\"black\")\n",
    "plt.axhline(target[\"β\"], linestyle=\"dashed\", color=\"black\");\n",
    "#plt.savefig(\"IMNN_vs_BHM_field_%d.svg\"%(dataid), bbox_inches=\"tight\", transparent=True)"
   ]
  },
  {
   "cell_type": "code",
   "execution_count": 393,
   "metadata": {},
   "outputs": [
    {
     "data": {
      "text/plain": [
       "(400,)"
      ]
     },
     "execution_count": 393,
     "metadata": {},
     "output_type": "execute_result"
    }
   ],
   "source": [
    "target['f_NL'].shape"
   ]
  },
  {
   "cell_type": "code",
   "execution_count": 287,
   "metadata": {},
   "outputs": [
    {
     "data": {
      "image/png": "[encoded data removed]",
      "text/plain": [
       "<Figure size 485.28x485.28 with 4 Axes>"
      ]
     },
     "metadata": {
      "needs_background": "light"
     },
     "output_type": "display_data"
    }
   ],
   "source": [
    "%matplotlib inline\n",
    "#plt.style.use('default')\n",
    "new_colors = [ '#2c0342', '#286d87', '#4fb49d', '#9af486']\n",
    "fig,ax = plt.subplots(nrows=2, ncols=2, figsize=(3.37*2, 3.37*2))\n",
    "latexify(fig_width=3.37, fig_height=3.37)\n",
    "\n",
    "ABC.scatter_plot(ax=ax,\n",
    "                      colours=new_colors[0], \n",
    "                      axis_labels=[r\"$\\alpha$\", r\"$\\beta$\"], \n",
    "                      s=8,\n",
    "                      label='ABC estimate')\n",
    "# ABC.marginal_plot(ax=ax,\n",
    "#             axis_labels=[r\"$A$\", r\"$B$\"], colours='green',\n",
    "#             label='ABC marginal plot')\n",
    "\n",
    "\n",
    "GAs[0].marginal_plot(ax=ax, colours=new_colors[2], axis_labels=[r\"$\\alpha$\", r\"$\\beta$\"], label=\"GA\", ncol=1)\n",
    "ax[0,1].imshow(np.squeeze(target_data[0, 0]))\n",
    "\n",
    "#ax[0,1].set_title(r'$\\theta_{\\rm target} = A,B = (%.2f,%.2f)$'%(θ_target[0], θ_target[1]))\n",
    "\n",
    "ax[0,0].axvline(target['α'], linestyle='--', c='k')\n",
    "ax[1,0].axvline(target['α'], linestyle='--', c='k')\n",
    "ax[1,0].axhline(target['β'], linestyle='--', c='k')\n",
    "ax[1,1].axhline(target['β'], linestyle='--', c='k', label=r'$\\theta_{\\rm target}$')\n",
    "\n",
    "ax[1,0].set_xlabel(r'$\\alpha$')\n",
    "ax[1,0].set_ylabel(r'$\\beta$')\n",
    "\n",
    "ax[0,0].axvline(θ_fid[0], linestyle='--', c='k', alpha=0.4)\n",
    "#ax[1,0].contourf(A_range, B_range, L1.reshape((size, size)))\n",
    "#ax[0, 0].plot(A_range, np.real(loglikeA), color='g', label='loglikeA')\n",
    "\n",
    "ax[1,0].axvline(θ_fid[0], linestyle='--', c='k', alpha=0.4)\n",
    "ax[1,0].axhline(θ_fid[1], linestyle='--', c='k', alpha=0.4)\n",
    "ax[1,1].axhline(θ_fid[1], linestyle='--', c='k', alpha=0.4, label=r'$\\theta_{\\rm fid}$')\n",
    "\n",
    "ax[1,1].legend(framealpha=0.)\n",
    "\n",
    "\n",
    "# add in the likelihood estimate\n",
    "# ax[0, 0].plot(A_range, likelihoodA, color='#FF8D33', label=None)\n",
    "# ax[0, 1].axis(\"off\")\n",
    "# ax[1, 0].contour(A_range, B_range, np.real(likelihood), levels=value, colors='#FF8D33')\n",
    "# ax[1, 1].plot(likelihoodB, B_range, color='#FF8D33', label='loglike')\n",
    "\n",
    "ax[0,0].legend(framealpha=0.)\n",
    "\n",
    "#plt.savefig('/mnt/home/tmakinen/repositories/field-plots/LN-20x20-contours.png', dpi=400)\n",
    "#plt.subplots_adjust(wspace=0, hspace=0)\n",
    "plt.show()"
   ]
  },
  {
   "cell_type": "code",
   "execution_count": 195,
   "metadata": {},
   "outputs": [],
   "source": [
    "num_burnin_steps = 100\n",
    "num_results = int(1e3)\n",
    "num_chains = 250"
   ]
  },
  {
   "cell_type": "code",
   "execution_count": 196,
   "metadata": {},
   "outputs": [],
   "source": [
    "rng, α_key, β_key = jax.random.split(rng, num=3)\n",
    "init_state = np.stack(\n",
    "    [tfd.Uniform(low=np.float32(0.), high=np.float32(2.)).sample(num_chains, seed=α_key),\n",
    "     tfd.Uniform(low=np.float32(0.2), high=np.float32(0.8)).sample(num_chains, seed=β_key)], \n",
    "    1)"
   ]
  },
  {
   "cell_type": "code",
   "execution_count": 197,
   "metadata": {},
   "outputs": [],
   "source": [
    "@jax.jit\n",
    "def run_mcmc(rng):\n",
    "    def fn(init_state):\n",
    "        return tfp.mcmc.sample_chain(\n",
    "            num_results=num_results,\n",
    "            current_state=tuple(init_state),\n",
    "            kernel = tfp.mcmc.RandomWalkMetropolis(\n",
    "                target_log_prob_fn=lambda α, β: _f_NL(α, β).log_prob(target)),\n",
    "            num_burnin_steps=num_burnin_steps,\n",
    "            num_steps_between_results=1,\n",
    "            trace_fn=lambda _, stats: stats.accepted_results.target_log_prob,\n",
    "            seed=rng)\n",
    "    return jax.vmap(fn)(init_state)"
   ]
  },
  {
   "cell_type": "code",
   "execution_count": 198,
   "metadata": {},
   "outputs": [],
   "source": [
    "@jax.jit\n",
    "def run_mcmc_imnn(rng):\n",
    "    def fn(init_state):\n",
    "        return tfp.mcmc.sample_chain(\n",
    "            num_results=num_results,\n",
    "            current_state=tuple(init_state),\n",
    "            kernel = tfp.mcmc.RandomWalkMetropolis(\n",
    "                target_log_prob_fn=lambda α, β: _f_NL_IMNN(α, β).log_prob(target)),\n",
    "            num_burnin_steps=num_burnin_steps,\n",
    "            num_steps_between_results=1,\n",
    "            trace_fn=lambda _, stats: stats.accepted_results.target_log_prob,\n",
    "            seed=rng)\n",
    "    return jax.vmap(fn)(init_state)"
   ]
  },
  {
   "cell_type": "code",
   "execution_count": 199,
   "metadata": {},
   "outputs": [],
   "source": [
    "states = np.zeros((2, num_chains, 0))\n",
    "stats = np.zeros((num_chains, 0))"
   ]
  },
  {
   "cell_type": "code",
   "execution_count": 200,
   "metadata": {},
   "outputs": [],
   "source": [
    "rng, key = jax.random.split(rng)\n",
    "_states, _stats = run_mcmc(key)\n",
    "states = np.concatenate([states, np.stack(_states)], -1)\n",
    "stats = np.concatenate([stats, _stats], -1)"
   ]
  },
  {
   "cell_type": "code",
   "execution_count": 201,
   "metadata": {},
   "outputs": [
    {
     "data": {
      "text/plain": [
       "<matplotlib.lines.Line2D at 0x154b5f459fd0>"
      ]
     },
     "execution_count": 201,
     "metadata": {},
     "output_type": "execute_result"
    },
    {
     "data": {
      "image/png": "[encoded data removed]",
      "text/plain": [
       "<Figure size 242.64x242.64 with 2 Axes>"
      ]
     },
     "metadata": {
      "needs_background": "light"
     },
     "output_type": "display_data"
    }
   ],
   "source": [
    "fig, ax = plt.subplots(1, 2)\n",
    "ax[0].plot(states[0].T)\n",
    "ax[0].axhline(target[\"α\"], linestyle=\"dashed\", color=\"black\")\n",
    "ax[1].plot(states[1].T)\n",
    "ax[1].axhline(target[\"β\"], linestyle=\"dashed\", color=\"black\")"
   ]
  },
  {
   "cell_type": "code",
   "execution_count": 203,
   "metadata": {},
   "outputs": [
    {
     "data": {
      "text/plain": [
       "<matplotlib.colorbar.Colorbar at 0x154b5f2636d0>"
      ]
     },
     "execution_count": 203,
     "metadata": {},
     "output_type": "execute_result"
    },
    {
     "data": {
      "image/png": "[encoded data removed]",
      "text/plain": [
       "<Figure size 242.64x242.64 with 2 Axes>"
      ]
     },
     "metadata": {
      "needs_background": "light"
     },
     "output_type": "display_data"
    }
   ],
   "source": [
    "plt.scatter(states[0].flatten(), states[1].flatten(), c=stats.flatten(), s=5)\n",
    "plt.axvline(target[\"α\"], color=\"black\", linestyle=\"dashed\")\n",
    "plt.axhline(target[\"β\"], color=\"black\", linestyle=\"dashed\")\n",
    "plt.xlabel(r\"$\\alpha$\")\n",
    "plt.ylabel(r\"$\\beta$\")\n",
    "plt.colorbar()"
   ]
  },
  {
   "cell_type": "code",
   "execution_count": 29,
   "metadata": {},
   "outputs": [
    {
     "data": {
      "text/plain": [
       "(2, 250, 1000)"
      ]
     },
     "execution_count": 29,
     "metadata": {},
     "output_type": "execute_result"
    }
   ],
   "source": [
    "states.shape"
   ]
  },
  {
   "cell_type": "code",
   "execution_count": 48,
   "metadata": {},
   "outputs": [],
   "source": [
    "# Create figures in Python that handle LaTeX, and save images to files in my\n",
    "# preferred formatting. I typically place this code in the root of each of my\n",
    "# projects, and import using:\n",
    "# from latexify import *\n",
    "# which will also run the latexify() function on the import.\n",
    "\n",
    "# Based on code from https://nipunbatra.github.io/blog/2014/latexify.html\n",
    "\n",
    "import matplotlib\n",
    "import matplotlib.pyplot as plt\n",
    "from math import sqrt\n",
    "\n",
    "#Back-end to use depends on the system\n",
    "from matplotlib.backends.backend_pgf import FigureCanvasPgf\n",
    "matplotlib.backend_bases.register_backend('pdf', FigureCanvasPgf)\n",
    "# matplotlib.use('pgf')\n",
    "# from matplotlib.backends.backend_pgf import FigureCanvasPgf\n",
    "# matplotlib.backend_bases.register_backend('ps', FigureCanvasPgf)\n",
    "\n",
    "import seaborn as sns\n",
    "sns.set_style(\"white\")\n",
    "\n",
    "#my preferred palette. From\n",
    "#https://seaborn.pydata.org/tutorial/color_palettes.html: \"The cubehelix color\n",
    "#palette system makes sequential palettes with a linear increase or decrease in\n",
    "#brightness and some variation in hue. This means that the information in your\n",
    "#colormap will be preserved when converted to black and white (for printing) or\n",
    "#when viewed by a colorblind individual.\"\n",
    "\n",
    "# I typically set the number of colors (below, 8) to the distinct colors I need\n",
    "# in a given plot, so as to use the full range.\n",
    "sns.set_palette(sns.color_palette(\"cubehelix\", 8))\n",
    "\n",
    "\n",
    "# The following is the latexify function. It allows you to create 2 column or 1\n",
    "# column figures. You may also wish to alter the height or width of the figure.\n",
    "# The default settings are good for most cases. You may also change the\n",
    "# parameters such as labelsize and fontsize based on your classfile.\n",
    "def latexify(fig_width=None, fig_height=None, columns=1):\n",
    "    \"\"\"Set up matplotlib's RC params for LaTeX plotting.\n",
    "    Call this before plotting a figure.\n",
    "    Parameters\n",
    "    ----------\n",
    "    fig_width : float, optional, inches\n",
    "    fig_height : float,  optional, inches\n",
    "    columns : {1, 2}\n",
    "    \"\"\"\n",
    "\n",
    "    # code adapted from http://www.scipy.org/Cookbook/Matplotlib/LaTeX_Examples\n",
    "    # Width and max height in inches for IEEE journals taken from\n",
    "    # computer.org/cms/Computer.org/Journal%20templates/transactions_art_guide.pdf\n",
    "\n",
    "    assert(columns in [1, 2])\n",
    "\n",
    "    if fig_width is None:\n",
    "        fig_width = 6.9 if columns == 1 else 13.8  # width in inches #3.39\n",
    "\n",
    "    if fig_height is None:\n",
    "        golden_mean = (sqrt(5) - 1.0) / 2.0    # Aesthetic ratio\n",
    "        fig_height = fig_width * golden_mean  # height in inches\n",
    "\n",
    "    MAX_HEIGHT_INCHES = 16.0\n",
    "    if fig_height > MAX_HEIGHT_INCHES:\n",
    "        print((\"WARNING: fig_height too large:\" + fig_height +\n",
    "              \"so will reduce to\" + MAX_HEIGHT_INCHES + \"inches.\"))\n",
    "        fig_height = MAX_HEIGHT_INCHES\n",
    "\n",
    "    params = {\n",
    "            # 'backend': 'ps',\n",
    "           #   'pgf.rcfonts': False,\n",
    "           #   'pgf.preamble': ['\\\\usepackage{gensymb}', '\\\\usepackage[dvipsnames]{xcolor}'],\n",
    "           #   \"pgf.texsystem\": \"pdflatex\",\n",
    "             # 'text.latex.preamble': ['\\\\usepackage{gensymb}', '\\\\usepackage[dvipsnames]{xcolor}'],\n",
    "              'text.latex.preamble': '\\\\usepackage{mathptmx}',\n",
    "              #values below are useful defaults. individual plot fontsizes are\n",
    "              #modified as necessary.\n",
    "              'axes.labelsize': 8,  # fontsize for x and y labels\n",
    "              'axes.titlesize': 8,\n",
    "              'font.size': 8,\n",
    "              'legend.fontsize': 8,\n",
    "              'xtick.labelsize': 6,\n",
    "              'ytick.labelsize': 6,\n",
    "              'text.usetex': True,\n",
    "              'figure.figsize': [fig_width, fig_height],\n",
    "              'font.family': 'serif',\n",
    "              'font.serif': 'Times',\n",
    "               'lines.linewidth': 1.5,\n",
    "               'lines.markersize':1,\n",
    "               'xtick.major.pad' : 2,\n",
    "               'ytick.major.pad' : 2,\n",
    "                'axes.xmargin' :  .0,  # x margin.  See `axes.Axes.margins`\n",
    "                'axes.ymargin' : .0,  # y margin See `axes.Axes.margins`\n",
    "              }\n",
    "\n",
    "    matplotlib.rcParams.update(params)\n",
    "\n",
    "def saveimage(name, fig = plt, extension = 'pdf', folder = 'plots/'):\n",
    "    sns.despine()\n",
    "\n",
    "    #Minor ticks off by default in matplotlib\n",
    "    # plt.minorticks_off()\n",
    "\n",
    "    #grid being off is the default for seaborn white style, so not needed.\n",
    "    # plt.grid(False, axis = \"x\")\n",
    "    # plt.grid(False, axis = \"y\")\n",
    "    \n",
    "    fig.savefig('{}{}.{}'.format(folder,name, extension), bbox_inches = 'tight')\n",
    "\n",
    "latexify()"
   ]
  },
  {
   "cell_type": "code",
   "execution_count": null,
   "metadata": {},
   "outputs": [],
   "source": []
  }
 ],
 "metadata": {
  "kernelspec": {
   "display_name": "pyjax9",
   "language": "python",
   "name": "pyjax9"
  },
  "language_info": {
   "codemirror_mode": {
    "name": "ipython",
    "version": 3
   },
   "file_extension": ".py",
   "mimetype": "text/x-python",
   "name": "python",
   "nbconvert_exporter": "python",
   "pygments_lexer": "ipython3",
   "version": "3.8.8"
  }
 },
 "nbformat": 4,
 "nbformat_minor": 4
}
