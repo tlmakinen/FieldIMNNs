{
 "cells": [
  {
   "cell_type": "code",
   "execution_count": 1,
   "metadata": {},
   "outputs": [],
   "source": [
    "!XLA_FLAGS=--xla_gpu_cuda_data_dir=/cm/shared/sw/pkg/devel/cuda/10.1.243_418.87.00"
   ]
  },
  {
   "cell_type": "code",
   "execution_count": 2,
   "metadata": {},
   "outputs": [
    {
     "name": "stdout",
     "output_type": "stream",
     "text": [
      "jax version:  0.2.10\n"
     ]
    }
   ],
   "source": [
    "import jax\n",
    "print(\"jax version: \", jax.__version__)\n",
    "import jax.numpy as np\n",
    "import tensorflow_probability.substrates.jax as tfp\n",
    "tfd = tfp.distributions\n",
    "tfb = tfp.bijectors\n",
    "import matplotlib.pyplot as plt\n",
    "from scipy.linalg import toeplitz\n",
    "\n",
    "rng = jax.random.PRNGKey(2)"
   ]
  },
  {
   "cell_type": "code",
   "execution_count": 3,
   "metadata": {},
   "outputs": [
    {
     "name": "stdout",
     "output_type": "stream",
     "text": [
      "gpu\n"
     ]
    }
   ],
   "source": [
    "from jax.lib import xla_bridge\n",
    "print(xla_bridge.get_backend().platform)"
   ]
  },
  {
   "cell_type": "code",
   "execution_count": 4,
   "metadata": {},
   "outputs": [
    {
     "name": "stdout",
     "output_type": "stream",
     "text": [
      "IMNN version:  0.3dev\n"
     ]
    }
   ],
   "source": [
    "# for model stuff\n",
    "import jax.experimental.optimizers as optimizers\n",
    "import jax.experimental.stax as stax\n",
    "from jax import jit\n",
    "\n",
    "# for imnn\n",
    "import imnn\n",
    "print(\"IMNN version: \", imnn.__version__)\n",
    "\n",
    "from imnn.imnn import (\n",
    "    AggregatedGradientIMNN,\n",
    "    AggregatedNumericalGradientIMNN,\n",
    "    AggregatedSimulatorIMNN,\n",
    "    GradientIMNN,\n",
    "    NumericalGradientIMNN,\n",
    "    SimulatorIMNN,\n",
    ")\n",
    "from imnn.lfi import (\n",
    "    ApproximateBayesianComputation,\n",
    "    GaussianApproximation,\n",
    ")\n",
    "from imnn.utils import value_and_jacrev, value_and_jacfwd\n",
    "\n",
    "rng = jax.random.PRNGKey(0)"
   ]
  },
  {
   "cell_type": "code",
   "execution_count": 5,
   "metadata": {},
   "outputs": [],
   "source": [
    "N = 32"
   ]
  },
  {
   "cell_type": "code",
   "execution_count": 67,
   "metadata": {},
   "outputs": [],
   "source": [
    "def scipy_compute_r2(N):\n",
    "    _Di = np.tile(toeplitz(np.arange(N)), (N, N))\n",
    "    _Dj = np.concatenate(\n",
    "        [np.concatenate(\n",
    "            [np.tile(np.abs(i - j),(N, N)) \n",
    "             for i in range(N)], \n",
    "            axis=0)\n",
    "         for j in range(N)],\n",
    "        axis=1)\n",
    "    _distance_squared = _Di * _Di + _Dj * _Dj\n",
    "    return _distance_squared\n",
    "\n",
    "def compute_r2(N):\n",
    "    _r2 = np.tile(np.abs(np.expand_dims(np.arange(N), 0) \n",
    "                    - np.expand_dims(np.arange(N), 1)), (N, N)) ** 2. + np.abs(np.expand_dims(np.repeat(np.arange(N), N), 0) \n",
    "                             - np.expand_dims(np.repeat(np.arange(N), N), 1)) ** 2.\n",
    "    return _r2\n",
    "\n",
    "r2 = compute_r2(N).astype(np.float32)\n",
    "\n",
    "def ξ_G(β):\n",
    "    return np.exp(\n",
    "        -np.expand_dims(r2, tuple(np.arange(β.ndim))) \n",
    "        / 4. / np.expand_dims(β, (-2, -1))**2.)\n",
    "\n",
    "def get_G_field(β):\n",
    "    pass\n",
    "\n",
    "def fill_zeros(k, value):\n",
    "    from functools import partial\n",
    "\n",
    "    def fnk(k):\n",
    "        return jax.lax.cond(np.less_equal(k, 1e-5), lambda _: value, lambda k: k+value, operand=k)\n",
    "\n",
    "    if len(k.shape) == 1:\n",
    "        return jax.vmap(fnk)(k)\n",
    "    else:\n",
    "        return jax.vmap(partial(fill_zeros, value=value))(k)\n",
    "\n",
    "\n",
    "def xi_LN(r, α, β, PixelNoise=0.01):\n",
    "\n",
    "    xi = 1/(np.power(α+1e-12,2)) * (np.exp(np.power(α,2)*np.exp(-0.25*np.power(r/β,2))) - 1)\n",
    "\n",
    "    # Add pixel noise at zero separation:\n",
    "\n",
    "    xi = fill_zeros(xi, PixelNoise**2)\n",
    "    #xi[np.where(r<1e-5)] += PixelNoise**2\n",
    "\n",
    "    return xi"
   ]
  },
  {
   "cell_type": "code",
   "execution_count": null,
   "metadata": {},
   "outputs": [],
   "source": [
    "# derivatives of corr function"
   ]
  },
  {
   "cell_type": "code",
   "execution_count": 39,
   "metadata": {},
   "outputs": [],
   "source": [
    "def dxi_LN_dalpha(r, α, β):\n",
    "\n",
    "    _deriv =  2/(α+1e-12) * np.exp(-0.25*np.power(r/β,2)) * np.exp(np.power(α,2)*np.exp(-0.25*np.power(r/β,2))) - 2/np.power(α+1e-12,3) * (np.exp(np.power(α,2)*np.exp(-0.25*np.power(r/β,2))) - 1)\n",
    "    return _deriv\n",
    "\n",
    "def dxi_LN_dbeta(r, β, α):\n",
    "\n",
    "    return (-0.5*r/np.power(β,2)) * np.exp(-0.25*np.power(r/β,2)) * np.exp(np.power(α,2)*np.exp(-0.25*np.power(r/β,2)))"
   ]
  },
  {
   "cell_type": "code",
   "execution_count": 9,
   "metadata": {},
   "outputs": [],
   "source": [
    "def simulator(rng, n, \n",
    "        α, β, μ=np.zeros((N**2,), dtype=np.float32), \n",
    "        σ=np.ones((N**2 * (N**2 + 1) // 2,), dtype=np.float32)):\n",
    "    dist = tfd.TransformedDistribution(\n",
    "        #distribution=tfd.TransformedDistribution(\n",
    "            distribution=tfd.MultivariateNormalTriL(\n",
    "                loc=μ, \n",
    "                scale_tril=tfp.math.fill_triangular(σ) \n",
    "                    * np.linalg.cholesky(ξ_G(β))),\n",
    "            #bijector=tfb.Reshape((N, N))),\n",
    "        bijector=tfb.Chain([\n",
    "            tfb.Scale(np.expand_dims(α, (-1))),\n",
    "            tfb.Shift(-np.float32(0.5) * np.expand_dims(α, (-1))**np.float32(2.)),\n",
    "            tfb.Exp(),\n",
    "            tfb.Shift(-np.float32(1.)),\n",
    "            tfb.Scale(np.float32(1.) / np.expand_dims(α, (-1)))]\n",
    "            ))\n",
    "    if n is not None:\n",
    "        return dist.sample(n, seed=rng)\n",
    "    else: \n",
    "        return dist.sample(seed=rng)"
   ]
  },
  {
   "cell_type": "code",
   "execution_count": 69,
   "metadata": {},
   "outputs": [],
   "source": [
    "# def _f_NL(\n",
    "#         α, β, \n",
    "#         μ=np.zeros((N**2,), dtype=np.float32), \n",
    "#         σ=np.ones((N**2 * (N**2 + 1) // 2,), dtype=np.float32)):\n",
    "#     return tfd.JointDistributionNamed(\n",
    "#         dict(\n",
    "#             α = tfd.Uniform(low=np.float32(0.), high=np.float32(2.)),\n",
    "#             β = tfd.Uniform(low=np.float32(0.2), high=np.float32(0.8)),\n",
    "#             f_NL = tfd.TransformedDistribution(\n",
    "#                 #distribution=tfd.TransformedDistribution(\n",
    "#                     distribution=tfd.MultivariateNormalTriL(\n",
    "#                         loc=μ, \n",
    "#                         scale_tril=tfp.math.fill_triangular(σ) \n",
    "#                             * np.linalg.cholesky(ξ_G(β))),\n",
    "#                     #bijector=tfb.Reshape((N, N))),\n",
    "#                 bijector=tfb.Chain([\n",
    "#                     tfb.Scale(np.expand_dims(α, (-1))),\n",
    "#                     tfb.Shift(-np.float32(0.5) * np.expand_dims(α, (-1))**np.float32(2.)),\n",
    "#                     tfb.Exp(),\n",
    "#                     tfb.Shift(-np.float32(1.)),\n",
    "#                     tfb.Scale(np.float32(1.) / np.expand_dims(α, (-1)))]))))"
   ]
  },
  {
   "cell_type": "code",
   "execution_count": 176,
   "metadata": {},
   "outputs": [],
   "source": [
    "def _f_NL(\n",
    "        _α, _β, \n",
    "        μ=np.zeros((N**2,), dtype=np.float32), \n",
    "        σ=np.ones((N**2 * (N**2 + 1) // 2,), dtype=np.float32)):\n",
    "    return tfd.JointDistributionNamed(\n",
    "        dict(\n",
    "            α = tfd.Uniform(low=np.float32(0.), high=np.float32(2.)),\n",
    "            β = tfd.Uniform(low=np.float32(0.2), high=np.float32(0.8)),\n",
    "            f_NL = tfd.TransformedDistribution(\n",
    "                #distribution=tfd.TransformedDistribution(\n",
    "                    distribution=tfd.MultivariateNormalTriL(\n",
    "                        loc=μ, \n",
    "                        scale_tril=tfp.math.fill_triangular(σ) \n",
    "                            * np.linalg.cholesky(ξ_G(_β))),\n",
    "                    #bijector=tfb.Reshape((N, N))),\n",
    "                bijector=tfb.Chain([\n",
    "                    tfb.Scale(np.float32(1.) / np.expand_dims(_α, (-1))),\n",
    "                    tfb.Expm1(),\n",
    "                    tfb.AffineScalar(shift=-np.float32(0.5) * np.expand_dims(_α, -1)**np.float32(2.), scale=np.expand_dims(_α, -1))]))))"
   ]
  },
  {
   "cell_type": "code",
   "execution_count": 12,
   "metadata": {},
   "outputs": [],
   "source": [
    "f_NL = tfd.JointDistributionNamed(\n",
    "    dict(\n",
    "        α = tfd.Uniform(low=np.float32(0.), high=np.float32(2.)),\n",
    "        β = tfd.Uniform(low=np.float32(0.2), high=np.float32(0.8)),\n",
    "        μ = tfd.Normal(\n",
    "            loc=np.zeros((N**2,), dtype=np.float32), \n",
    "            scale=np.ones((N**2,), dtype=np.float32)),                 \n",
    "        σ = tfp.distributions.Uniform(\n",
    "            low=np.zeros((N**2 * (N**2 + 1) // 2,), dtype=np.float32), \n",
    "            high=np.ones((N**2 * (N**2 + 1) // 2,), dtype=np.float32)),\n",
    "        f_NL = lambda α, β, μ, σ: tfd.TransformedDistribution(\n",
    "            #distribution=tfd.TransformedDistribution(\n",
    "                distribution=tfd.MultivariateNormalTriL(\n",
    "                    loc=μ, \n",
    "                    scale_tril=tfp.math.fill_triangular(σ) \n",
    "                        * np.linalg.cholesky(ξ_G(β))),\n",
    "                #bijector=tfb.Reshape((N, N))),\n",
    "            bijector=tfb.Chain([\n",
    "                tfb.Scale(np.expand_dims(α, (-1))),\n",
    "                tfb.Shift(-np.float32(0.5) * np.expand_dims(α, (-1))**np.float32(2.)),\n",
    "                tfb.Exp(),\n",
    "                tfb.Shift(-np.float32(1.)),\n",
    "                tfb.Scale(np.float32(1.) / np.expand_dims(α, (-1)))]\n",
    "                ))))"
   ]
  },
  {
   "cell_type": "code",
   "execution_count": 13,
   "metadata": {},
   "outputs": [
    {
     "data": {
      "text/plain": [
       "<matplotlib.colorbar.Colorbar at 0x155340639f70>"
      ]
     },
     "execution_count": 13,
     "metadata": {},
     "output_type": "execute_result"
    },
    {
     "data": {
      "image/png": "[encoded data removed]",
      "text/plain": [
       "<Figure size 720x288 with 11 Axes>"
      ]
     },
     "metadata": {
      "needs_background": "light"
     },
     "output_type": "display_data"
    }
   ],
   "source": [
    "rng, key = jax.random.split(rng)\n",
    "f_NLs = f_NL.sample(10, seed=key)[\"f_NL\"].reshape((10, N, N))\n",
    "fig, ax = plt.subplots(2, 5, figsize=(10, 4))\n",
    "plt.subplots_adjust(wspace=0, hspace=0)\n",
    "for i in range(2):\n",
    "    for j in range(5):\n",
    "        a = ax[i, j].imshow(f_NLs[j + i * 5])\n",
    "        ax[i, j].set(xticks=[], yticks=[])\n",
    "plt.colorbar(a)"
   ]
  },
  {
   "cell_type": "markdown",
   "metadata": {},
   "source": [
    "# set up IMNN for problem"
   ]
  },
  {
   "cell_type": "code",
   "execution_count": 77,
   "metadata": {},
   "outputs": [],
   "source": [
    "# need: vmapped simulator (take from florent), model, training loop \n",
    "# get theoretical fisher using dξ/dα, dξ/dβ and the fisher function (built in fn for getting derivs w/proper r in florent's code)\n",
    "# then: re-define tfp sampler model to use trained IMNN as compressor w/summaries as outputs\n",
    "# sample\n",
    "# compare to the full-field inference that uses all pixels as target values (RandomWalkSampler.ipynb)"
   ]
  },
  {
   "cell_type": "code",
   "execution_count": 14,
   "metadata": {},
   "outputs": [],
   "source": [
    "input_shape = (1,1, N,N)\n",
    "θ_fid = np.array([1.0, 0.5], dtype=np.float32)\n",
    "# IMNN params\n",
    "n_s = 5000\n",
    "n_d = 5000\n",
    "λ = 100.0\n",
    "ϵ = 0.1\n",
    "\n",
    "n_params = 2\n",
    "n_summaries = 2"
   ]
  },
  {
   "cell_type": "markdown",
   "metadata": {},
   "source": [
    "### compute known Fisher at fiducial "
   ]
  },
  {
   "cell_type": "code",
   "execution_count": 85,
   "metadata": {},
   "outputs": [
    {
     "data": {
      "text/plain": [
       "(1024, 1024)"
      ]
     },
     "execution_count": 85,
     "metadata": {},
     "output_type": "execute_result"
    }
   ],
   "source": [
    "r.shape"
   ]
  },
  {
   "cell_type": "code",
   "execution_count": 78,
   "metadata": {},
   "outputs": [],
   "source": [
    "α,β = θ_fid\n",
    "ξ_LN    = xi_LN(r, α, β, PixelNoise=1.0) \n",
    "dξ_dα   = dxi_LN_dalpha(r, α, β)\n",
    "dξ_dβ   = dxi_LN_dbeta(r, α, β)"
   ]
  },
  {
   "cell_type": "code",
   "execution_count": 119,
   "metadata": {},
   "outputs": [
    {
     "data": {
      "text/plain": [
       "<matplotlib.colorbar.Colorbar at 0x154b88986370>"
      ]
     },
     "execution_count": 119,
     "metadata": {},
     "output_type": "execute_result"
    },
    {
     "data": {
      "image/png": "[encoded data removed]",
      "text/plain": [
       "<Figure size 432x288 with 2 Axes>"
      ]
     },
     "metadata": {
      "needs_background": "light"
     },
     "output_type": "display_data"
    }
   ],
   "source": [
    "%matplotlib inline\n",
    "plt.imshow(ξ_LN)\n",
    "plt.colorbar()"
   ]
  },
  {
   "cell_type": "code",
   "execution_count": 122,
   "metadata": {},
   "outputs": [
    {
     "data": {
      "text/plain": [
       "(1024,)"
      ]
     },
     "execution_count": 122,
     "metadata": {},
     "output_type": "execute_result"
    }
   ],
   "source": [
    "np.diag(ξ_LN).shape"
   ]
  },
  {
   "cell_type": "code",
   "execution_count": 123,
   "metadata": {},
   "outputs": [],
   "source": [
    "Nsq = N**2\n",
    "r = np.sqrt(r2)#[:Nsq//2, :Nsq//2]\n",
    "\n",
    "\n",
    "def known_fisher(r, θ):\n",
    "    α,β = θ\n",
    "    \n",
    "    # extract diagonal from matrix\n",
    "    ξ_LN    = np.diag(xi_LN(r, α, β, PixelNoise=0.1))\n",
    "    # get derivatives\n",
    "    dξ_dα   = dxi_LN_dalpha(r, α, β)\n",
    "    dξ_dβ   = dxi_LN_dbeta(r, α, β)\n",
    "    \n",
    "\n",
    "    # reassign to a diagnonal matrix with zeros on off-diag\n",
    "    Cinv = np.diag(1. / ξ_LN)          \n",
    "    Ca =  (dξ_dα)           # C_{,A}\n",
    "    Cb =  (dξ_dβ)           # C_{,B}\n",
    "    \n",
    "    # fisher matrix entries\n",
    "    Faa = 0.5 * np.trace((Ca @ Cinv @ Ca @ Cinv))\n",
    "    Fab = 0.5 * np.trace((Ca @ Cinv @ Cb @ Cinv))\n",
    "    Fba = 0.5 * np.trace((Cb @ Cinv @ Ca @ Cinv))\n",
    "    Fbb = 0.5 * np.trace((Cb @ Cinv @ Cb @ Cinv))\n",
    "\n",
    "    return np.array([[Faa, Fab], [Fba, Fbb]])"
   ]
  },
  {
   "cell_type": "code",
   "execution_count": 124,
   "metadata": {},
   "outputs": [
    {
     "name": "stdout",
     "output_type": "stream",
     "text": [
      "[[705.9223   -61.09842 ]\n",
      " [-61.098427 630.36926 ]]\n",
      "441258.84\n"
     ]
    }
   ],
   "source": [
    "f = known_fisher(r, θ_fid)\n",
    "print(f)\n",
    "\n",
    "detf_expected = np.linalg.det(f)\n",
    "print(detf_expected)"
   ]
  },
  {
   "cell_type": "markdown",
   "metadata": {},
   "source": [
    "### simulator for IMNN"
   ]
  },
  {
   "cell_type": "code",
   "execution_count": 159,
   "metadata": {},
   "outputs": [],
   "source": [
    "simulator_args = {'N': 32, 'squeeze': False}\n",
    "def imnn_simulator(rng, θ, simulator_args=simulator_args):\n",
    "    A,B = θ\n",
    "    N = simulator_args['N']\n",
    "    #noise = 0.01\n",
    "    def fn(key, A,B):\n",
    "        if simulator_args['squeeze']:\n",
    "            #target[\"f_NL\"] = simulator(key, None, target[\"α\"], target[\"β\"])\n",
    "            return np.expand_dims(simulator(key, None, A, B).reshape(N,N), 0)\n",
    "\n",
    "        else:\n",
    "            return (np.expand_dims(np.expand_dims(simulator(key, None, A, B).reshape(N,N), 0), 0))\n",
    "\n",
    "    if A.shape == B.shape:\n",
    "        if len(A.shape) == 0:\n",
    "            return fn(rng, A, B)\n",
    "        else:\n",
    "            keys = jax.random.split(rng, num=A.shape[0] + 1)\n",
    "            rng = keys[0]\n",
    "            keys = keys[1:]\n",
    "            return jax.vmap(\n",
    "                lambda key, A, B: imnn_simulator(key, (A,B), simulator_args=simulator_args) #.reshape(N,N)\n",
    "            )(keys, A, B)\n",
    "    else:\n",
    "        if len(A.shape) > 0:\n",
    "            keys = jax.random.split(rng, num=A.shape[0] + 1)\n",
    "            rng = keys[0]\n",
    "            keys = keys[1:]\n",
    "            return jax.vmap(\n",
    "                lambda key, A: imnn_simulator(key, (A, B), simulator_args=simulator_args) #.reshape(N,N)\n",
    "            )(keys, A)\n",
    "        elif len(B.shape) > 0:\n",
    "            keys = jax.random.split(rng, num=B.shape[0])\n",
    "            return jax.vmap(\n",
    "                lambda key, B: imnn_simulator(key, (A, B), simulator_args=simulator_args) #.reshape(N,N)\n",
    "            )(keys, B)\n",
    "    "
   ]
  },
  {
   "cell_type": "code",
   "execution_count": 16,
   "metadata": {},
   "outputs": [],
   "source": [
    "def simulator_gradient(rng, θ, simulator_args=simulator_args):\n",
    "    return value_and_jacrev(imnn_simulator, argnums=1, allow_int=True, holomorphic=True)(rng, θ, simulator_args=simulator_args)"
   ]
  },
  {
   "cell_type": "code",
   "execution_count": 17,
   "metadata": {},
   "outputs": [],
   "source": [
    "# define stax model\n",
    "def InceptBlock2(filters, strides, do_5x5=True, do_3x3=True):\n",
    "    \"\"\"InceptNet convolutional striding block.\n",
    "    filters: tuple: (f1,f2,f3)\n",
    "    filters1: for conv1x1\n",
    "    filters2: for conv1x1,conv3x3\n",
    "    filters3L for conv1x1,conv5x5\"\"\"\n",
    "    \n",
    "    filters1, filters2, filters3 = filters\n",
    "    \n",
    "    conv1x1 = stax.serial(stax.Conv(filters1, (1,1), strides, padding=\"SAME\"))\n",
    "    \n",
    "    filters4 = filters2\n",
    "    conv3x3 = stax.serial(stax.Conv(filters2, (1,1), strides=None, padding=\"SAME\"),\n",
    "                        stax.Conv(filters4, (3,3), strides, padding=\"SAME\"))\n",
    "                        \n",
    "    filters5 = filters3\n",
    "    conv5x5 = stax.serial(stax.Conv(filters3, (1,1), strides=None, padding=\"SAME\"),\n",
    "                         stax.Conv(filters5, (5,5), strides, padding=\"SAME\"))\n",
    "\n",
    "    maxpool = stax.serial(stax.MaxPool((3,3), padding=\"SAME\"),\n",
    "                         stax.Conv(filters4, (1,1), strides, padding=\"SAME\"))\n",
    "                            \n",
    "    if do_3x3:\n",
    "        if do_5x5:\n",
    "            return stax.serial(\n",
    "                  stax.FanOut(4),  # should num=3 or 2 here ?\n",
    "                  stax.parallel(conv1x1, conv3x3, conv5x5, maxpool),\n",
    "                  stax.FanInConcat(), \n",
    "                  stax.LeakyRelu)\n",
    "        else:\n",
    "            return stax.serial(\n",
    "                  stax.FanOut(3),  # should num=3 or 2 here ?\n",
    "                  stax.parallel(conv1x1, conv3x3, maxpool),\n",
    "                  stax.FanInConcat(), \n",
    "                  stax.LeakyRelu)\n",
    "            \n",
    "    else:\n",
    "        return stax.serial(\n",
    "              stax.FanOut(2),  # should num=3 or 2 here ?\n",
    "              stax.parallel(conv1x1, maxpool),\n",
    "              stax.FanInConcat(), \n",
    "              stax.LeakyRelu)"
   ]
  },
  {
   "cell_type": "code",
   "execution_count": 18,
   "metadata": {},
   "outputs": [],
   "source": [
    "fs = 32\n",
    "model = stax.serial(\n",
    "        #InceptBlock2((fs,fs,fs), strides=(4,4)),\n",
    "        InceptBlock2((fs,fs,fs), strides=(4,4)),\n",
    "        InceptBlock2((fs,fs,fs), strides=(4,4)),\n",
    "        #InceptBlock2((fs,fs,fs), strides=(2,2), do_5x5=False, do_3x3=False),\n",
    "        InceptBlock2((fs,fs,fs), strides=(2,2), do_5x5=False, do_3x3=False),\n",
    "        stax.Conv(n_summaries, (1,1), strides=(1,1), padding=\"SAME\"),\n",
    "        stax.Flatten\n",
    ")"
   ]
  },
  {
   "cell_type": "code",
   "execution_count": 19,
   "metadata": {},
   "outputs": [],
   "source": [
    "rng, initial_model_key = jax.random.split(rng)\n",
    "rng, fitting_key = jax.random.split(rng)"
   ]
  },
  {
   "cell_type": "code",
   "execution_count": 20,
   "metadata": {},
   "outputs": [],
   "source": [
    "optimiser = optimizers.adam(step_size=1e-3)"
   ]
  },
  {
   "cell_type": "code",
   "execution_count": 21,
   "metadata": {},
   "outputs": [],
   "source": [
    "from imnn.imnn._imnn import _IMNN\n",
    "from imnn.utils.utils import _check_simulator #, value_and_jacrev\n",
    "from imnn.utils.utils import _check_simulator\n",
    "\n",
    "class SimIMNN(_IMNN):\n",
    "    def __init__(self, n_s, n_d, n_params, n_summaries, input_shape, θ_fid,\n",
    "                 model, optimiser, key_or_state, simulator):\n",
    "        super().__init__(\n",
    "            n_s=n_s,\n",
    "            n_d=n_d,\n",
    "            n_params=n_params,\n",
    "            n_summaries=n_summaries,\n",
    "            input_shape=input_shape,\n",
    "            θ_fid=θ_fid,\n",
    "            model=model,\n",
    "            key_or_state=key_or_state,\n",
    "            optimiser=optimiser,\n",
    "            )\n",
    "        self.simulator = _check_simulator(simulator)\n",
    "        self.simulate = True\n",
    "\n",
    "    def get_fitting_keys(self, rng):\n",
    "        return jax.random.split(rng, num=3)\n",
    "\n",
    "    def get_summaries(self, w, key, validate=False):\n",
    "        def get_summary(key, θ):\n",
    "            return self.model(w, self.simulator(key, θ))\n",
    "\n",
    "        def get_derivatives(key):\n",
    "            return value_and_jacrev(get_summary, argnums=1)(key, self.θ_fid)\n",
    "\n",
    "        keys = np.array(jax.random.split(key, num=self.n_s))\n",
    "        summaries, derivatives = jax.vmap(get_derivatives)(keys[:self.n_d])\n",
    "        if self.n_s > self.n_d:\n",
    "            summaries = np.vstack([\n",
    "                summaries,\n",
    "                jax.vmap(partial(get_summary, θ=self.θ_fid))(keys[self.n_d:])])\n",
    "        return np.squeeze(summaries), np.squeeze(derivatives)"
   ]
  },
  {
   "cell_type": "code",
   "execution_count": null,
   "metadata": {},
   "outputs": [],
   "source": []
  },
  {
   "cell_type": "code",
   "execution_count": 22,
   "metadata": {},
   "outputs": [],
   "source": [
    "from imnn.imnn._aggregated_imnn import _AggregatedIMNN\n",
    "from imnn.imnn import SimulatorIMNN\n",
    "from imnn.utils import jacrev, value_and_jacrev, add_nested_tuples\n",
    "\n",
    "\n",
    "class AggSimIMNN(_AggregatedIMNN, SimIMNN):\n",
    "    def __init__(self, n_s, n_d, n_params, n_summaries, input_shape, θ_fid,\n",
    "                 model, optimiser, key_or_state, simulator, devices,\n",
    "                 n_per_device):\n",
    "        SimIMNN.__init__(\n",
    "            self=self,\n",
    "            n_s=n_s,\n",
    "            n_d=n_d,\n",
    "            n_params=n_params,\n",
    "            n_summaries=n_summaries,\n",
    "            input_shape=input_shape,\n",
    "            θ_fid=θ_fid,\n",
    "            model=model,\n",
    "            key_or_state=key_or_state,\n",
    "            optimiser=optimiser,\n",
    "            simulator=simulator)\n",
    "        _AggregatedIMNN.__init__(\n",
    "            self=self,\n",
    "            host=devices,\n",
    "            devices=devices,\n",
    "            n_per_device=n_per_device)\n",
    "    \n",
    "    \n",
    "    def get_summary(self, input, w, θ, derivative=False, gradient=False):\n",
    "        \"\"\"Gets all network outputs and derivatives wrt model parameters\n",
    "\n",
    "        Methods\n",
    "        -------\n",
    "        fn:\n",
    "            The evaluated model\n",
    "        grad_fn:\n",
    "            Gradient of the outputs wrt the network parameters and model\n",
    "        \"\"\"\n",
    "        def fn(key, w, θ):\n",
    "            \"\"\"The evaluated model\n",
    "            \"\"\"\n",
    "            return self.model(w, self.simulator(key, θ))\n",
    "\n",
    "        def grad_fn(key, w, θ):\n",
    "            \"\"\"Gradient of the outputs wrt the network parameters and model\n",
    "            \"\"\"\n",
    "            dx_dw, dx_dθ = jacrev(fn, argnums=(1, 2))(key, w, θ)\n",
    "            return dx_dθ, dx_dw\n",
    "        if derivative and gradient:\n",
    "            dΛ_dx, key = input\n",
    "            dΛ_dx, d2Λ_dxdθ = dΛ_dx\n",
    "            d2x_dwdθ, dx_dw = jacrev(\n",
    "                grad_fn, argnums=1, has_aux=True)(key, w, θ)\n",
    "            return add_nested_tuples(\n",
    "                self.construct_gradient(dx_dw, aux=dΛ_dx, func=\"einsum\"),\n",
    "                self.construct_gradient(\n",
    "                    d2x_dwdθ, aux=d2Λ_dxdθ, func=\"derivative_einsum\"))\n",
    "        elif derivative:\n",
    "            return value_and_jacrev(fn, argnums=2)(input, w, θ)\n",
    "        elif gradient:\n",
    "            dΛ_dx, key = input\n",
    "            dx_dw = jacrev(fn, argnums=1)(key, w, θ)\n",
    "            return self.construct_gradient(dx_dw, aux=dΛ_dx, func=\"einsum\")\n",
    "        else:\n",
    "            return fn(input, w, θ)\n",
    "\n",
    "    def _collect_input(self, key, validate=False):\n",
    "        \"\"\"Returns the dataset to be interated over\n",
    "        \"\"\"\n",
    "        keys = np.array(jax.random.split(key, num=self.n_s))\n",
    "        remaining = keys[self.n_d:].reshape(self.remaining_batch_shape + (2,))\n",
    "        return keys[:self.n_d].reshape(self.batch_shape + (2,)), remaining\n",
    "    \n",
    "    def get_gradient(self, dΛ_dx, w, key=None):\n",
    "        \"\"\"Calculate the sum of the aggregated gradient of the loss function\n",
    "    \n",
    "        The precalculated derivative of the loss function is split into a part\n",
    "        with a gradient with respect to the derivative of the network output\n",
    "        with respect to the model parameters and part without. Corresponding\n",
    "        datasets (of keys or precalculated simulations depending on whether\n",
    "        :func:`~imnn.SimulatorIMNN` or :func:`~imnn.GradientIMNN` are being\n",
    "        used) are then collected and then the gradient of the loss function\n",
    "        with respect to the network parameters are aggregated via summation in\n",
    "        a scanned loop for both the gradient part and the non-gradient part.\n",
    "    \n",
    "        Parameters\n",
    "        ----------\n",
    "        dΛ_dx: tuple\n",
    "            - **dΛ_dx** *(float(n_s, n_summaries))* -- The derivative of the\n",
    "              loss function wrt the network outputs\n",
    "            - **d2Λ_dxdθ** *(float(n_d, n_summaries, n_params))* -- The\n",
    "              derivative of the loss function wrt the derivative of the network\n",
    "              outputs wrt the model parameters\n",
    "        w: list\n",
    "            The network parameters\n",
    "        key: int(2,) or None, default=None\n",
    "            A random number generator for generating on-the-fly simulations\n",
    "    \n",
    "        Returns\n",
    "        -------\n",
    "        list:\n",
    "            Gradient of the loss function wrt the network parameters\n",
    "        \"\"\"\n",
    "        dΛ_dx, remaining_dΛ_dx = self._split_dΛ_dx(dΛ_dx)\n",
    "        main, remaining = self._collect_input(key, validate=False)\n",
    "    \n",
    "        #gradient = self._construct_gradient(self.w, func=\"zeros\")\n",
    "        #gradient, _ = jax.lax.scan(\n",
    "        #    lambda gradient, input: self._gradient_scan(\n",
    "        #        gradient, input, w, self.θ_fid),\n",
    "        #    gradient,\n",
    "        #    (remaining_dΛ_dx, remaining))\n",
    "        #\n",
    "        #gradient, _ = jax.lax.scan(\n",
    "        #    lambda gradient, input: self._gradient_scan(\n",
    "        #        gradient, input, w, self.θ_fid, derivative=True),\n",
    "        #    gradient,\n",
    "        #    (dΛ_dx, main))\n",
    "        gradient = add_nested_tuples(\n",
    "            self._construct_gradient(\n",
    "                jax.lax.map(\n",
    "                    lambda _input: self._get_device_summaries(\n",
    "                        _input, w, self.θ_fid, gradient=True,\n",
    "                        derivative=False),\n",
    "                    (remaining_dΛ_dx, remaining)),\n",
    "                func=\"sum\"),\n",
    "            self._construct_gradient(\n",
    "                jax.lax.map(\n",
    "                    lambda _input: self._get_device_summaries(\n",
    "                        _input, w, self.θ_fid, gradient=True, derivative=True),\n",
    "                    (dΛ_dx, main)),\n",
    "                func=\"sum\"))\n",
    "    \n",
    "        return list(gradient)"
   ]
  },
  {
   "cell_type": "code",
   "execution_count": 24,
   "metadata": {},
   "outputs": [
    {
     "data": {
      "text/plain": [
       "(1, 1, 32, 32)"
      ]
     },
     "execution_count": 24,
     "metadata": {},
     "output_type": "execute_result"
    }
   ],
   "source": [
    "input_shape"
   ]
  },
  {
   "cell_type": "code",
   "execution_count": 25,
   "metadata": {},
   "outputs": [],
   "source": [
    "IMNN = SimIMNN(\n",
    "        n_s=500,\n",
    "        n_d=500,\n",
    "        n_params=n_params,\n",
    "        n_summaries=n_summaries,\n",
    "        input_shape=input_shape,\n",
    "        θ_fid=θ_fid,\n",
    "        model=model,\n",
    "        optimiser=optimiser,\n",
    "        key_or_state=initial_model_key,\n",
    "        simulator=lambda rng, θ: imnn_simulator(rng, θ, simulator_args=simulator_args),\n",
    "        #devices=[jax.devices()[0]],\n",
    "        #n_per_device=500\n",
    "        )"
   ]
  },
  {
   "cell_type": "code",
   "execution_count": 26,
   "metadata": {},
   "outputs": [],
   "source": [
    "IMNN_rngs = 1 * [fitting_key] #+ 12 * [None]\n",
    "labels = [\n",
    "    \"Simulator, InceptNet\\n\"\n",
    "]"
   ]
  },
  {
   "cell_type": "code",
   "execution_count": 132,
   "metadata": {},
   "outputs": [
    {
     "name": "stdout",
     "output_type": "stream",
     "text": [
      "CPU times: user 9min 1s, sys: 146 ms, total: 9min 1s\n",
      "Wall time: 9min 3s\n"
     ]
    }
   ],
   "source": [
    "%%time\n",
    "for i in range(1):\n",
    "    rng,fit_rng = jax.random.split(rng)\n",
    "    IMNN.fit(λ=10., ϵ=ϵ, rng=fit_rng, min_iterations=500) #for IMNN, IMNN_rng in zip(IMNNs, IMNN_rngs);\n",
    "    \n",
    "#save_weights(IMNN, folder_name='./big_incept128')"
   ]
  },
  {
   "cell_type": "code",
   "execution_count": 133,
   "metadata": {},
   "outputs": [
    {
     "data": {
      "text/plain": [
       "DeviceArray(441258.84, dtype=float32)"
      ]
     },
     "execution_count": 133,
     "metadata": {},
     "output_type": "execute_result"
    }
   ],
   "source": [
    "detf_expected"
   ]
  },
  {
   "cell_type": "code",
   "execution_count": 190,
   "metadata": {},
   "outputs": [
    {
     "data": {
      "image/png": "[encoded data removed]",
      "text/plain": [
       "<Figure size 386.64x238.957 with 1 Axes>"
      ]
     },
     "metadata": {
      "needs_background": "light"
     },
     "output_type": "display_data"
    }
   ],
   "source": [
    "latexify(fig_width=5.37)\n",
    "#plt.style.use('default')\n",
    "plt.plot(IMNN.history['detF'][:])\n",
    "plt.plot(np.ones(len(IMNN.history['detF'][:]))*detf_expected, c='k', linestyle='--')\n",
    "plt.ylim(1e-2, 5e12)\n",
    "plt.ylabel(r'$\\det \\textbf{F}$')\n",
    "plt.xlabel('number of epochs')\n",
    "plt.yscale('log')\n",
    "plt.tight_layout()\n",
    "plt.savefig('/mnt/home/tmakinen/repositories/field-plots/LN-training.png', dpi=400)"
   ]
  },
  {
   "cell_type": "code",
   "execution_count": 173,
   "metadata": {},
   "outputs": [
    {
     "data": {
      "text/plain": [
       "DeviceArray(259559.1, dtype=float32)"
      ]
     },
     "execution_count": 173,
     "metadata": {},
     "output_type": "execute_result"
    }
   ],
   "source": [
    "np.linalg.det(IMNN.F)"
   ]
  },
  {
   "cell_type": "markdown",
   "metadata": {},
   "source": [
    "### using IMNN, create sampler that goes $f: \\textbf{d} \\mapsto \\textbf{x}$\n",
    "(outputs summaries via `get_estimate`)"
   ]
  },
  {
   "cell_type": "code",
   "execution_count": 135,
   "metadata": {},
   "outputs": [],
   "source": [
    "@jit #partial(jax.jit, static_argnums=0)\n",
    "def get_estimate(d):\n",
    "    if len(d.shape) == 1:\n",
    "        return IMNN.θ_fid + np.einsum(\n",
    "            \"ij,kj,kl,l->i\",\n",
    "            IMNN.invF,\n",
    "            IMNN.dμ_dθ,\n",
    "            IMNN.invC,\n",
    "            IMNN.model(IMNN.best_w, d, rng=rng) - IMNN.μ)\n",
    "    else:\n",
    "        return IMNN.θ_fid + np.einsum(\n",
    "            \"ij,kj,kl,ml->mi\",\n",
    "            IMNN.invF,\n",
    "            IMNN.dμ_dθ,\n",
    "            IMNN.invC,\n",
    "            IMNN.model(IMNN.best_w, d, rng=rng) - IMNN.μ)\n",
    "\n",
    "def _f_NL_IMNN(\n",
    "        α, β, \n",
    "        μ=np.zeros((N**2,), dtype=np.float32), \n",
    "        σ=np.ones((N**2 * (N**2 + 1) // 2,), dtype=np.float32)):\n",
    "    return tfd.JointDistributionNamed(\n",
    "        dict(\n",
    "            α = tfd.Uniform(low=np.float32(0.), high=np.float32(2.)),\n",
    "            β = tfd.Uniform(low=np.float32(0.2), high=np.float32(0.8)),\n",
    "            f_NL = tfd.TransformedDistribution(\n",
    "                #distribution=tfd.TransformedDistribution(\n",
    "                    distribution=tfd.MultivariateNormalTriL(\n",
    "                        loc=μ, \n",
    "                        scale_tril=tfp.math.fill_triangular(σ) \n",
    "                            * np.linalg.cholesky(ξ_G(β))),\n",
    "                    #bijector=tfb.Reshape((N, N))),\n",
    "                bijector=tfb.Chain([\n",
    "                    tfb.Scale(np.expand_dims(α, (-1))),\n",
    "                    tfb.Shift(-np.float32(0.5) * np.expand_dims(α, (-1))**np.float32(2.)),\n",
    "                    tfb.Exp(),\n",
    "                    tfb.Shift(-np.float32(1.)),\n",
    "                    tfb.Scale(np.float32(1.) / np.expand_dims(α, (-1))),\n",
    "                    get_estimate()])) ) )"
   ]
  },
  {
   "cell_type": "code",
   "execution_count": 136,
   "metadata": {},
   "outputs": [
    {
     "data": {
      "text/plain": [
       "<matplotlib.colorbar.Colorbar at 0x154b8832b2e0>"
      ]
     },
     "execution_count": 136,
     "metadata": {},
     "output_type": "execute_result"
    },
    {
     "data": {
      "image/png": "[encoded data removed]",
      "text/plain": [
       "<Figure size 537x331.884 with 2 Axes>"
      ]
     },
     "metadata": {},
     "output_type": "display_data"
    }
   ],
   "source": [
    "rng, key = jax.random.split(rng)\n",
    "target = dict(\n",
    "    f_NL=None,\n",
    "    α=np.array(1.0),\n",
    "    β=np.array(0.5))\n",
    "target[\"f_NL\"] = simulator(key, None, target[\"α\"], target[\"β\"])\n",
    "plt.imshow(target[\"f_NL\"].reshape((N, N)))\n",
    "plt.colorbar()"
   ]
  },
  {
   "cell_type": "code",
   "execution_count": 142,
   "metadata": {},
   "outputs": [],
   "source": [
    "target_data = np.expand_dims(np.expand_dims(target[\"f_NL\"].reshape((N, N)), 0), 0)\n",
    "estimates = get_estimate(target_data)"
   ]
  },
  {
   "cell_type": "markdown",
   "metadata": {},
   "source": [
    "# prior"
   ]
  },
  {
   "cell_type": "code",
   "execution_count": 145,
   "metadata": {},
   "outputs": [],
   "source": [
    "class uniform:\n",
    "    def __init__(self, low, high):\n",
    "        self.low = np.array(low)\n",
    "        self.high = np.array(high)\n",
    "        self.event_shape = [[] for i in range(self.low.shape[0])]\n",
    "    def sample(self, n=None, seed=None):\n",
    "        if n is None:\n",
    "            n = 1\n",
    "        keys = np.array(jax.random.split(\n",
    "            seed, \n",
    "            num=len(self.event_shape)))\n",
    "        return jax.vmap(\n",
    "            lambda key, low, high : jax.random.uniform(\n",
    "                key, \n",
    "                shape=(n,), \n",
    "                minval=low, \n",
    "                maxval=high))(\n",
    "            keys, self.low, self.high)\n",
    "\n",
    "prior = uniform([0., 0.2], [2., 0.8])"
   ]
  },
  {
   "cell_type": "markdown",
   "metadata": {},
   "source": [
    "# ABC sampler"
   ]
  },
  {
   "cell_type": "code",
   "execution_count": 146,
   "metadata": {},
   "outputs": [],
   "source": [
    "GAs = [GaussianApproximation(get_estimate(target_data), IMNN.invF, prior)]"
   ]
  },
  {
   "cell_type": "code",
   "execution_count": null,
   "metadata": {},
   "outputs": [],
   "source": [
    "θ_fid"
   ]
  },
  {
   "cell_type": "code",
   "execution_count": 147,
   "metadata": {},
   "outputs": [
    {
     "data": {
      "image/png": "[encoded data removed]",
      "text/plain": [
       "<Figure size 720x720 with 4 Axes>"
      ]
     },
     "metadata": {
      "needs_background": "light"
     },
     "output_type": "display_data"
    }
   ],
   "source": [
    "%matplotlib inline\n",
    "for i, (GA, label) in enumerate(zip(GAs, labels)):\n",
    "    if i == 0:\n",
    "        ax = GA.marginal_plot(\n",
    "            axis_labels=[r\"$A$\", r\"$B$\"], label='on-the-fly IMNN', colours=\"C{}\".format(i)\n",
    "        )\n",
    "    else:\n",
    "        GA.marginal_plot(ax=ax, label=label, colours=\"C{}\".format(i), ncol=8)"
   ]
  },
  {
   "cell_type": "code",
   "execution_count": 160,
   "metadata": {},
   "outputs": [],
   "source": [
    "ABC = ApproximateBayesianComputation(\n",
    "        target_data, prior, \n",
    "     lambda A,B : imnn_simulator(A,B, simulator_args={**simulator_args, **{'squeeze':True}}), \n",
    "                                       get_estimate, F=IMNN.F, gridsize=50\n",
    "    )"
   ]
  },
  {
   "cell_type": "code",
   "execution_count": 161,
   "metadata": {},
   "outputs": [
    {
     "name": "stdout",
     "output_type": "stream",
     "text": [
      "245 accepted in last  20000 iterations  (20000000 simulations done).\n",
      "CPU times: user 1h 30min 38s, sys: 2.48 s, total: 1h 30min 40s\n",
      "Wall time: 1h 30min 44s\n"
     ]
    },
    {
     "data": {
      "text/plain": [
       "(<imnn.utils.container.container at 0x154b884cd1c0>,\n",
       " <imnn.utils.container.container at 0x154b7e1940a0>,\n",
       " <imnn.utils.container.container at 0x154b7e1948e0>)"
      ]
     },
     "execution_count": 161,
     "metadata": {},
     "output_type": "execute_result"
    }
   ],
   "source": [
    "%%time\n",
    "rng,abc_key = jax.random.split(rng)\n",
    "ABC(rng=abc_key,\n",
    "        n_samples=int(1e3),\n",
    "        min_accepted=15000,\n",
    "        max_iterations=20000,\n",
    "        ϵ=0.05,\n",
    "        smoothing=0.);"
   ]
  },
  {
   "cell_type": "code",
   "execution_count": 167,
   "metadata": {},
   "outputs": [
    {
     "data": {
      "text/plain": [
       "(245, 2)"
      ]
     },
     "execution_count": 167,
     "metadata": {},
     "output_type": "execute_result"
    }
   ],
   "source": [
    "ABC.parameters.accepted[0].shape"
   ]
  },
  {
   "cell_type": "code",
   "execution_count": 168,
   "metadata": {},
   "outputs": [],
   "source": [
    "np.save('accepted_ABC_LN', ABC.parameters.accepted[0])"
   ]
  },
  {
   "cell_type": "code",
   "execution_count": 169,
   "metadata": {},
   "outputs": [
    {
     "data": {
      "image/png": "[encoded data removed]",
      "text/plain": [
       "<Figure size 720x720 with 4 Axes>"
      ]
     },
     "metadata": {
      "needs_background": "light"
     },
     "output_type": "display_data"
    }
   ],
   "source": [
    "ax = ABC.scatter_plot()"
   ]
  },
  {
   "cell_type": "code",
   "execution_count": 188,
   "metadata": {},
   "outputs": [],
   "source": [
    "# get comparison to true posterior\n",
    "# prior = uniform([0., 0.2], [2., 0.8])\n",
    "α_range = np.linspace(0., 2., num=300)\n",
    "β_range = np.linspace(0.2, 0.8, num=300)\n",
    "\n",
    "distr = _f_NL(α_range, β_range).prob(target)"
   ]
  },
  {
   "cell_type": "code",
   "execution_count": 189,
   "metadata": {},
   "outputs": [
    {
     "data": {
      "text/plain": [
       "DeviceArray([nan,  0.,  0.,  0.,  0.,  0.,  0.,  0.,  0.,  0.,  0.,  0.,\n",
       "              0.,  0.,  0.,  0.,  0.,  0.,  0.,  0.,  0.,  0.,  0.,  0.,\n",
       "              0.,  0.,  0.,  0.,  0.,  0.,  0.,  0.,  0.,  0.,  0.,  0.,\n",
       "              0.,  0.,  0.,  0.,  0.,  0.,  0.,  0.,  0.,  0.,  0.,  0.,\n",
       "              0.,  0.,  0.,  0.,  0.,  0.,  0.,  0.,  0.,  0.,  0.,  0.,\n",
       "              0.,  0.,  0.,  0.,  0.,  0.,  0.,  0.,  0.,  0.,  0.,  0.,\n",
       "              0.,  0.,  0.,  0.,  0.,  0.,  0.,  0.,  0.,  0.,  0.,  0.,\n",
       "              0.,  0.,  0.,  0.,  0.,  0.,  0.,  0.,  0.,  0.,  0.,  0.,\n",
       "              0.,  0.,  0.,  0.,  0.,  0.,  0.,  0.,  0.,  0.,  0.,  0.,\n",
       "              0.,  0.,  0.,  0.,  0.,  0.,  0.,  0.,  0.,  0.,  0.,  0.,\n",
       "              0.,  0.,  0.,  0.,  0.,  0.,  0.,  0.,  0.,  0.,  0.,  0.,\n",
       "              0.,  0.,  0.,  0.,  0.,  0.,  0.,  0.,  0.,  0.,  0.,  0.,\n",
       "              0.,  0.,  0.,  0.,  0.,  0.,  0.,  0.,  0.,  0.,  0.,  0.,\n",
       "              0.,  0.,  0.,  0.,  0.,  0.,  0.,  0.,  0.,  0.,  0.,  0.,\n",
       "              0.,  0.,  0.,  0.,  0.,  0.,  0.,  0.,  0.,  0.,  0.,  0.,\n",
       "              0.,  0.,  0.,  0.,  0.,  0.,  0.,  0.,  0.,  0.,  0.,  0.,\n",
       "              0.,  0.,  0.,  0.,  0.,  0.,  0.,  0.,  0.,  0.,  0.,  0.,\n",
       "              0.,  0.,  0.,  0.,  0.,  0.,  0.,  0.,  0.,  0.,  0.,  0.,\n",
       "              0.,  0.,  0.,  0.,  0.,  0.,  0.,  0.,  0.,  0.,  0.,  0.,\n",
       "              0.,  0.,  0.,  0.,  0.,  0.,  0.,  0.,  0.,  0.,  0.,  0.,\n",
       "              0.,  0.,  0.,  0.,  0.,  0.,  0.,  0.,  0.,  0.,  0.,  0.,\n",
       "              0.,  0.,  0.,  0.,  0.,  0.,  0.,  0.,  0.,  0.,  0.,  0.,\n",
       "              0.,  0.,  0.,  0.,  0.,  0.,  0.,  0.,  0.,  0.,  0.,  0.,\n",
       "              0.,  0.,  0.,  0.,  0.,  0.,  0.,  0.,  0.,  0.,  0.,  0.,\n",
       "              0.,  0.,  0.,  0.,  0.,  0.,  0.,  0.,  0.,  0.,  0.,  0.],            dtype=float32)"
      ]
     },
     "execution_count": 189,
     "metadata": {},
     "output_type": "execute_result"
    }
   ],
   "source": [
    "distr"
   ]
  },
  {
   "cell_type": "code",
   "execution_count": 191,
   "metadata": {},
   "outputs": [
    {
     "name": "stderr",
     "output_type": "stream",
     "text": [
      "WARNING:matplotlib.legend:No handles with labels found to put in legend.\n"
     ]
    },
    {
     "data": {
      "image/png": "[encoded data removed]",
      "text/plain": [
       "<Figure size 485.28x485.28 with 4 Axes>"
      ]
     },
     "metadata": {
      "needs_background": "light"
     },
     "output_type": "display_data"
    }
   ],
   "source": [
    "%matplotlib inline\n",
    "#plt.style.use('default')\n",
    "new_colors = [ '#2c0342', '#286d87', '#4fb49d', '#9af486']\n",
    "fig,ax = plt.subplots(nrows=2, ncols=2, figsize=(3.37*2, 3.37*2))\n",
    "latexify(fig_width=3.37, fig_height=3.37)\n",
    "\n",
    "ABC.scatter_plot(ax=ax,\n",
    "                      colours=new_colors[0], \n",
    "                      axis_labels=[r\"$\\alpha$\", r\"$\\beta$\"], \n",
    "                      s=8,\n",
    "                      label='ABC estimate')\n",
    "# ABC.marginal_plot(ax=ax,\n",
    "#             axis_labels=[r\"$A$\", r\"$B$\"], colours='green',\n",
    "#             label='ABC marginal plot')\n",
    "\n",
    "\n",
    "GAs[0].marginal_plot(ax=ax, colours=new_colors[2], axis_labels=[r\"$\\alpha$\", r\"$\\beta$\"], label=None, ncol=1)\n",
    "ax[0,1].imshow(target_data[0, 0])\n",
    "\n",
    "#ax[0,1].set_title(r'$\\theta_{\\rm target} = A,B = (%.2f,%.2f)$'%(θ_target[0], θ_target[1]))\n",
    "\n",
    "ax[0,0].axvline(target['α'], linestyle='--', c='k')\n",
    "ax[1,0].axvline(target['α'], linestyle='--', c='k')\n",
    "ax[1,0].axhline(target['β'], linestyle='--', c='k')\n",
    "ax[1,1].axhline(target['β'], linestyle='--', c='k', label=r'$\\theta_{\\rm target}$')\n",
    "\n",
    "ax[1,0].set_xlabel(r'$\\alpha$')\n",
    "ax[1,0].set_ylabel(r'$\\beta$')\n",
    "\n",
    "ax[0,0].axvline(θ_fid[0], linestyle='--', c='k', alpha=0.4)\n",
    "#ax[1,0].contourf(A_range, B_range, L1.reshape((size, size)))\n",
    "#ax[0, 0].plot(A_range, np.real(loglikeA), color='g', label='loglikeA')\n",
    "\n",
    "#ax[1,0].axvline(θ_fid[0], linestyle='--', c='k', alpha=0.4)\n",
    "#ax[1,0].axhline(θ_fid[1], linestyle='--', c='k', alpha=0.4)\n",
    "#ax[1,1].axhline(θ_fid[1], linestyle='--', c='k', alpha=0.4, label=r'$\\theta_{\\rm fid}$')\n",
    "\n",
    "ax[1,1].legend(framealpha=0.)\n",
    "\n",
    "\n",
    "# add in the likelihood estimate\n",
    "# ax[0, 0].plot(A_range, likelihoodA, color='#FF8D33', label=None)\n",
    "# ax[0, 1].axis(\"off\")\n",
    "# ax[1, 0].contour(A_range, B_range, np.real(likelihood), levels=value, colors='#FF8D33')\n",
    "# ax[1, 1].plot(likelihoodB, B_range, color='#FF8D33', label='loglike')\n",
    "\n",
    "ax[0,0].legend(framealpha=0.)\n",
    "\n",
    "plt.savefig('/mnt/home/tmakinen/repositories/field-plots/LN-32x32-contours.png', dpi=400)\n",
    "#plt.subplots_adjust(wspace=0, hspace=0)\n",
    "plt.show()"
   ]
  },
  {
   "cell_type": "code",
   "execution_count": 195,
   "metadata": {},
   "outputs": [],
   "source": [
    "num_burnin_steps = 100\n",
    "num_results = int(1e3)\n",
    "num_chains = 250"
   ]
  },
  {
   "cell_type": "code",
   "execution_count": 196,
   "metadata": {},
   "outputs": [],
   "source": [
    "rng, α_key, β_key = jax.random.split(rng, num=3)\n",
    "init_state = np.stack(\n",
    "    [tfd.Uniform(low=np.float32(0.), high=np.float32(2.)).sample(num_chains, seed=α_key),\n",
    "     tfd.Uniform(low=np.float32(0.2), high=np.float32(0.8)).sample(num_chains, seed=β_key)], \n",
    "    1)"
   ]
  },
  {
   "cell_type": "code",
   "execution_count": 197,
   "metadata": {},
   "outputs": [],
   "source": [
    "@jax.jit\n",
    "def run_mcmc(rng):\n",
    "    def fn(init_state):\n",
    "        return tfp.mcmc.sample_chain(\n",
    "            num_results=num_results,\n",
    "            current_state=tuple(init_state),\n",
    "            kernel = tfp.mcmc.RandomWalkMetropolis(\n",
    "                target_log_prob_fn=lambda α, β: _f_NL(α, β).log_prob(target)),\n",
    "            num_burnin_steps=num_burnin_steps,\n",
    "            num_steps_between_results=1,\n",
    "            trace_fn=lambda _, stats: stats.accepted_results.target_log_prob,\n",
    "            seed=rng)\n",
    "    return jax.vmap(fn)(init_state)"
   ]
  },
  {
   "cell_type": "code",
   "execution_count": 198,
   "metadata": {},
   "outputs": [],
   "source": [
    "@jax.jit\n",
    "def run_mcmc_imnn(rng):\n",
    "    def fn(init_state):\n",
    "        return tfp.mcmc.sample_chain(\n",
    "            num_results=num_results,\n",
    "            current_state=tuple(init_state),\n",
    "            kernel = tfp.mcmc.RandomWalkMetropolis(\n",
    "                target_log_prob_fn=lambda α, β: _f_NL_IMNN(α, β).log_prob(target)),\n",
    "            num_burnin_steps=num_burnin_steps,\n",
    "            num_steps_between_results=1,\n",
    "            trace_fn=lambda _, stats: stats.accepted_results.target_log_prob,\n",
    "            seed=rng)\n",
    "    return jax.vmap(fn)(init_state)"
   ]
  },
  {
   "cell_type": "code",
   "execution_count": 199,
   "metadata": {},
   "outputs": [],
   "source": [
    "states = np.zeros((2, num_chains, 0))\n",
    "stats = np.zeros((num_chains, 0))"
   ]
  },
  {
   "cell_type": "code",
   "execution_count": 200,
   "metadata": {},
   "outputs": [],
   "source": [
    "rng, key = jax.random.split(rng)\n",
    "_states, _stats = run_mcmc(key)\n",
    "states = np.concatenate([states, np.stack(_states)], -1)\n",
    "stats = np.concatenate([stats, _stats], -1)"
   ]
  },
  {
   "cell_type": "code",
   "execution_count": 201,
   "metadata": {},
   "outputs": [
    {
     "data": {
      "text/plain": [
       "<matplotlib.lines.Line2D at 0x154b5f459fd0>"
      ]
     },
     "execution_count": 201,
     "metadata": {},
     "output_type": "execute_result"
    },
    {
     "data": {
      "image/png": "[encoded data removed]",
      "text/plain": [
       "<Figure size 242.64x242.64 with 2 Axes>"
      ]
     },
     "metadata": {
      "needs_background": "light"
     },
     "output_type": "display_data"
    }
   ],
   "source": [
    "fig, ax = plt.subplots(1, 2)\n",
    "ax[0].plot(states[0].T)\n",
    "ax[0].axhline(target[\"α\"], linestyle=\"dashed\", color=\"black\")\n",
    "ax[1].plot(states[1].T)\n",
    "ax[1].axhline(target[\"β\"], linestyle=\"dashed\", color=\"black\")"
   ]
  },
  {
   "cell_type": "code",
   "execution_count": 203,
   "metadata": {},
   "outputs": [
    {
     "data": {
      "text/plain": [
       "<matplotlib.colorbar.Colorbar at 0x154b5f2636d0>"
      ]
     },
     "execution_count": 203,
     "metadata": {},
     "output_type": "execute_result"
    },
    {
     "data": {
      "image/png": "[encoded data removed]",
      "text/plain": [
       "<Figure size 242.64x242.64 with 2 Axes>"
      ]
     },
     "metadata": {
      "needs_background": "light"
     },
     "output_type": "display_data"
    }
   ],
   "source": [
    "plt.scatter(states[0].flatten(), states[1].flatten(), c=stats.flatten(), s=5)\n",
    "plt.axvline(target[\"α\"], color=\"black\", linestyle=\"dashed\")\n",
    "plt.axhline(target[\"β\"], color=\"black\", linestyle=\"dashed\")\n",
    "plt.xlabel(r\"$\\alpha$\")\n",
    "plt.ylabel(r\"$\\beta$\")\n",
    "plt.colorbar()"
   ]
  },
  {
   "cell_type": "code",
   "execution_count": 29,
   "metadata": {},
   "outputs": [
    {
     "data": {
      "text/plain": [
       "(2, 250, 1000)"
      ]
     },
     "execution_count": 29,
     "metadata": {},
     "output_type": "execute_result"
    }
   ],
   "source": [
    "states.shape"
   ]
  },
  {
   "cell_type": "code",
   "execution_count": 29,
   "metadata": {},
   "outputs": [],
   "source": [
    "# Create figures in Python that handle LaTeX, and save images to files in my\n",
    "# preferred formatting. I typically place this code in the root of each of my\n",
    "# projects, and import using:\n",
    "# from latexify import *\n",
    "# which will also run the latexify() function on the import.\n",
    "\n",
    "# Based on code from https://nipunbatra.github.io/blog/2014/latexify.html\n",
    "\n",
    "import matplotlib\n",
    "import matplotlib.pyplot as plt\n",
    "from math import sqrt\n",
    "\n",
    "#Back-end to use depends on the system\n",
    "from matplotlib.backends.backend_pgf import FigureCanvasPgf\n",
    "matplotlib.backend_bases.register_backend('pdf', FigureCanvasPgf)\n",
    "# matplotlib.use('pgf')\n",
    "# from matplotlib.backends.backend_pgf import FigureCanvasPgf\n",
    "# matplotlib.backend_bases.register_backend('ps', FigureCanvasPgf)\n",
    "\n",
    "import seaborn as sns\n",
    "sns.set_style(\"white\")\n",
    "\n",
    "#my preferred palette. From\n",
    "#https://seaborn.pydata.org/tutorial/color_palettes.html: \"The cubehelix color\n",
    "#palette system makes sequential palettes with a linear increase or decrease in\n",
    "#brightness and some variation in hue. This means that the information in your\n",
    "#colormap will be preserved when converted to black and white (for printing) or\n",
    "#when viewed by a colorblind individual.\"\n",
    "\n",
    "# I typically set the number of colors (below, 8) to the distinct colors I need\n",
    "# in a given plot, so as to use the full range.\n",
    "sns.set_palette(sns.color_palette(\"cubehelix\", 8))\n",
    "\n",
    "\n",
    "# The following is the latexify function. It allows you to create 2 column or 1\n",
    "# column figures. You may also wish to alter the height or width of the figure.\n",
    "# The default settings are good for most cases. You may also change the\n",
    "# parameters such as labelsize and fontsize based on your classfile.\n",
    "def latexify(fig_width=None, fig_height=None, columns=1):\n",
    "    \"\"\"Set up matplotlib's RC params for LaTeX plotting.\n",
    "    Call this before plotting a figure.\n",
    "    Parameters\n",
    "    ----------\n",
    "    fig_width : float, optional, inches\n",
    "    fig_height : float,  optional, inches\n",
    "    columns : {1, 2}\n",
    "    \"\"\"\n",
    "\n",
    "    # code adapted from http://www.scipy.org/Cookbook/Matplotlib/LaTeX_Examples\n",
    "    # Width and max height in inches for IEEE journals taken from\n",
    "    # computer.org/cms/Computer.org/Journal%20templates/transactions_art_guide.pdf\n",
    "\n",
    "    assert(columns in [1, 2])\n",
    "\n",
    "    if fig_width is None:\n",
    "        fig_width = 6.9 if columns == 1 else 13.8  # width in inches #3.39\n",
    "\n",
    "    if fig_height is None:\n",
    "        golden_mean = (sqrt(5) - 1.0) / 2.0    # Aesthetic ratio\n",
    "        fig_height = fig_width * golden_mean  # height in inches\n",
    "\n",
    "    MAX_HEIGHT_INCHES = 16.0\n",
    "    if fig_height > MAX_HEIGHT_INCHES:\n",
    "        print((\"WARNING: fig_height too large:\" + fig_height +\n",
    "              \"so will reduce to\" + MAX_HEIGHT_INCHES + \"inches.\"))\n",
    "        fig_height = MAX_HEIGHT_INCHES\n",
    "\n",
    "    params = {\n",
    "            # 'backend': 'ps',\n",
    "           #   'pgf.rcfonts': False,\n",
    "           #   'pgf.preamble': ['\\\\usepackage{gensymb}', '\\\\usepackage[dvipsnames]{xcolor}'],\n",
    "           #   \"pgf.texsystem\": \"pdflatex\",\n",
    "             # 'text.latex.preamble': ['\\\\usepackage{gensymb}', '\\\\usepackage[dvipsnames]{xcolor}'],\n",
    "              'text.latex.preamble': '\\\\usepackage{mathptmx}',\n",
    "              #values below are useful defaults. individual plot fontsizes are\n",
    "              #modified as necessary.\n",
    "              'axes.labelsize': 8,  # fontsize for x and y labels\n",
    "              'axes.titlesize': 8,\n",
    "              'font.size': 8,\n",
    "              'legend.fontsize': 8,\n",
    "              'xtick.labelsize': 6,\n",
    "              'ytick.labelsize': 6,\n",
    "              'text.usetex': True,\n",
    "              'figure.figsize': [fig_width, fig_height],\n",
    "              'font.family': 'serif',\n",
    "              'font.serif': 'Times',\n",
    "               'lines.linewidth': 1.5,\n",
    "               'lines.markersize':1,\n",
    "               'xtick.major.pad' : 2,\n",
    "               'ytick.major.pad' : 2,\n",
    "                'axes.xmargin' :  .0,  # x margin.  See `axes.Axes.margins`\n",
    "                'axes.ymargin' : .0,  # y margin See `axes.Axes.margins`\n",
    "              }\n",
    "\n",
    "    matplotlib.rcParams.update(params)\n",
    "\n",
    "def saveimage(name, fig = plt, extension = 'pdf', folder = 'plots/'):\n",
    "    sns.despine()\n",
    "\n",
    "    #Minor ticks off by default in matplotlib\n",
    "    # plt.minorticks_off()\n",
    "\n",
    "    #grid being off is the default for seaborn white style, so not needed.\n",
    "    # plt.grid(False, axis = \"x\")\n",
    "    # plt.grid(False, axis = \"y\")\n",
    "    \n",
    "    fig.savefig('{}{}.{}'.format(folder,name, extension), bbox_inches = 'tight')\n",
    "\n",
    "latexify()"
   ]
  },
  {
   "cell_type": "code",
   "execution_count": null,
   "metadata": {},
   "outputs": [],
   "source": []
  }
 ],
 "metadata": {
  "kernelspec": {
   "display_name": "pyjax9",
   "language": "python",
   "name": "pyjax9"
  },
  "language_info": {
   "codemirror_mode": {
    "name": "ipython",
    "version": 3
   },
   "file_extension": ".py",
   "mimetype": "text/x-python",
   "name": "python",
   "nbconvert_exporter": "python",
   "pygments_lexer": "ipython3",
   "version": "3.8.8"
  }
 },
 "nbformat": 4,
 "nbformat_minor": 4
}
