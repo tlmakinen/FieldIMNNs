{
 "cells": [
  {
   "cell_type": "code",
   "execution_count": 1,
   "metadata": {
    "jupyter": {
     "source_hidden": true
    }
   },
   "outputs": [],
   "source": [
    "# Create figures in Python that handle LaTeX, and save images to files in my\n",
    "# preferred formatting. I typically place this code in the root of each of my\n",
    "# projects, and import using:\n",
    "# from latexify import *\n",
    "# which will also run the latexify() function on the import.\n",
    "\n",
    "# Based on code from https://nipunbatra.github.io/blog/2014/latexify.html\n",
    "\n",
    "import matplotlib\n",
    "import matplotlib.pyplot as plt\n",
    "from math import sqrt\n",
    "\n",
    "#Back-end to use depends on the system\n",
    "from matplotlib.backends.backend_pgf import FigureCanvasPgf\n",
    "matplotlib.backend_bases.register_backend('pdf', FigureCanvasPgf)\n",
    "# matplotlib.use('pgf')\n",
    "# from matplotlib.backends.backend_pgf import FigureCanvasPgf\n",
    "# matplotlib.backend_bases.register_backend('ps', FigureCanvasPgf)\n",
    "\n",
    "import seaborn as sns\n",
    "sns.set_style(\"white\")\n",
    "\n",
    "#my preferred palette. From\n",
    "#https://seaborn.pydata.org/tutorial/color_palettes.html: \"The cubehelix color\n",
    "#palette system makes sequential palettes with a linear increase or decrease in\n",
    "#brightness and some variation in hue. This means that the information in your\n",
    "#colormap will be preserved when converted to black and white (for printing) or\n",
    "#when viewed by a colorblind individual.\"\n",
    "\n",
    "# I typically set the number of colors (below, 8) to the distinct colors I need\n",
    "# in a given plot, so as to use the full range.\n",
    "sns.set_palette(sns.color_palette(\"cubehelix\", 8))\n",
    "\n",
    "\n",
    "# The following is the latexify function. It allows you to create 2 column or 1\n",
    "# column figures. You may also wish to alter the height or width of the figure.\n",
    "# The default settings are good for most cases. You may also change the\n",
    "# parameters such as labelsize and fontsize based on your classfile.\n",
    "def latexify(fig_width=None, fig_height=None, columns=1):\n",
    "    \"\"\"Set up matplotlib's RC params for LaTeX plotting.\n",
    "    Call this before plotting a figure.\n",
    "    Parameters\n",
    "    ----------\n",
    "    fig_width : float, optional, inches\n",
    "    fig_height : float,  optional, inches\n",
    "    columns : {1, 2}\n",
    "    \"\"\"\n",
    "\n",
    "    # code adapted from http://www.scipy.org/Cookbook/Matplotlib/LaTeX_Examples\n",
    "    # Width and max height in inches for IEEE journals taken from\n",
    "    # computer.org/cms/Computer.org/Journal%20templates/transactions_art_guide.pdf\n",
    "\n",
    "    assert(columns in [1, 2])\n",
    "\n",
    "    if fig_width is None:\n",
    "        fig_width = 6.9 if columns == 1 else 13.8  # width in inches #3.39\n",
    "\n",
    "    if fig_height is None:\n",
    "        golden_mean = (sqrt(5) - 1.0) / 2.0    # Aesthetic ratio\n",
    "        fig_height = fig_width * golden_mean  # height in inches\n",
    "\n",
    "    MAX_HEIGHT_INCHES = 16.0\n",
    "    if fig_height > MAX_HEIGHT_INCHES:\n",
    "        print((\"WARNING: fig_height too large:\" + fig_height +\n",
    "              \"so will reduce to\" + MAX_HEIGHT_INCHES + \"inches.\"))\n",
    "        fig_height = MAX_HEIGHT_INCHES\n",
    "\n",
    "    params = {\n",
    "            # 'backend': 'ps',\n",
    "           #   'pgf.rcfonts': False,\n",
    "           #   'pgf.preamble': ['\\\\usepackage{gensymb}', '\\\\usepackage[dvipsnames]{xcolor}'],\n",
    "           #   \"pgf.texsystem\": \"pdflatex\",\n",
    "             # 'text.latex.preamble': ['\\\\usepackage{gensymb}', '\\\\usepackage[dvipsnames]{xcolor}'],\n",
    "              'text.latex.preamble': '\\\\usepackage{mathptmx}',\n",
    "              #values below are useful defaults. individual plot fontsizes are\n",
    "              #modified as necessary.\n",
    "              'axes.labelsize': 8,  # fontsize for x and y labels\n",
    "              'axes.titlesize': 8,\n",
    "              'font.size': 8,\n",
    "              'legend.fontsize': 8,\n",
    "              'xtick.labelsize': 6,\n",
    "              'ytick.labelsize': 6,\n",
    "              'text.usetex': True,\n",
    "              'figure.figsize': [fig_width, fig_height],\n",
    "              'font.family': 'serif',\n",
    "              'font.serif': 'Times',\n",
    "               'lines.linewidth': 1.5,\n",
    "               'lines.markersize':1,\n",
    "               'xtick.major.pad' : 2,\n",
    "               'ytick.major.pad' : 2,\n",
    "                'axes.xmargin' :  .0,  # x margin.  See `axes.Axes.margins`\n",
    "                'axes.ymargin' : .0,  # y margin See `axes.Axes.margins`\n",
    "              }\n",
    "\n",
    "    matplotlib.rcParams.update(params)\n",
    "\n",
    "def saveimage(name, fig = plt, extension = 'pdf', folder = 'plots/'):\n",
    "    sns.despine()\n",
    "\n",
    "    #Minor ticks off by default in matplotlib\n",
    "    # plt.minorticks_off()\n",
    "\n",
    "    #grid being off is the default for seaborn white style, so not needed.\n",
    "    # plt.grid(False, axis = \"x\")\n",
    "    # plt.grid(False, axis = \"y\")\n",
    "    \n",
    "    fig.savefig('{}{}.{}'.format(folder,name, extension), bbox_inches = 'tight')\n",
    "\n",
    "latexify()"
   ]
  },
  {
   "cell_type": "code",
   "execution_count": 2,
   "metadata": {},
   "outputs": [],
   "source": [
    "import numpy as np"
   ]
  },
  {
   "cell_type": "code",
   "execution_count": 3,
   "metadata": {},
   "outputs": [
    {
     "name": "stdout",
     "output_type": "stream",
     "text": [
      "jax-cosmo version: 0.1rc7\n"
     ]
    }
   ],
   "source": [
    "import jax_cosmo as jc\n",
    "print(\"jax-cosmo version:\", jc.__version__)\n"
   ]
  },
  {
   "cell_type": "code",
   "execution_count": 4,
   "metadata": {},
   "outputs": [],
   "source": [
    "# first define whacky fiducial cosmology\n",
    "# omega_m = 2.1, sigma8 = 0.75 < 0.8\n",
    "cosmo_fid = jc.Planck15(Omega_c=0.9, sigma8=0.75)"
   ]
  },
  {
   "cell_type": "code",
   "execution_count": 5,
   "metadata": {},
   "outputs": [],
   "source": [
    "def P(k, A=1, B=1):\n",
    "    # define cosmology with parameters\n",
    "    cosmo = jc.Planck15(Omega_c=A, sigma8=B)\n",
    "    return jc.power.linear_matter_power(cosmo, k)"
   ]
  },
  {
   "cell_type": "code",
   "execution_count": 6,
   "metadata": {},
   "outputs": [],
   "source": [
    "shape = (128,128)\n",
    "\n",
    "k = np.sqrt(np.sum(np.array(np.meshgrid(*(\n",
    "    (np.hstack((np.arange(0, _shape//2 + 1), \n",
    "        np.arange(-_shape//2 + 1, 0))) * 2*np.pi / _shape)**2\n",
    "        for _shape in shape))), axis=0))"
   ]
  },
  {
   "cell_type": "code",
   "execution_count": 7,
   "metadata": {},
   "outputs": [],
   "source": [
    "L = 1.\n",
    "N = 128.\n",
    "kmax = 1.0\n",
    "kmin = 0.5 / (N)\n",
    "\n",
    "kbin = np.linspace(kmin, kmax, num=100)"
   ]
  },
  {
   "cell_type": "code",
   "execution_count": 8,
   "metadata": {},
   "outputs": [
    {
     "name": "stderr",
     "output_type": "stream",
     "text": [
      "/mnt/home/tmakinen/anaconda3/envs/pyjax9/lib/python3.8/site-packages/jax/_src/numpy/lax_numpy.py:5179: UserWarning: Explicitly requested dtype <class 'jax._src.numpy.lax_numpy.int64'> requested in astype is not available, and will be truncated to dtype int32. To enable more dtypes, set the jax_enable_x64 configuration option or the JAX_ENABLE_X64 shell environment variable. See https://github.com/google/jax#current-gotchas for more.\n",
      "  lax._check_user_dtype_supported(dtype, \"astype\")\n"
     ]
    }
   ],
   "source": [
    "power_spec = P(kbin, A=cosmo_fid.Omega_c, B=cosmo_fid.sigma8)"
   ]
  },
  {
   "cell_type": "code",
   "execution_count": 24,
   "metadata": {},
   "outputs": [
    {
     "data": {
      "image/png": "[encoded data removed]",
      "text/plain": [
       "<Figure size 496.8x307.039 with 1 Axes>"
      ]
     },
     "metadata": {},
     "output_type": "display_data"
    }
   ],
   "source": [
    "params = {\"ytick.color\" : \"w\",\n",
    "          \"xtick.color\" : \"w\",\n",
    "          \"axes.labelcolor\" : \"w\",\n",
    "          \"axes.edgecolor\" : \"w\"}\n",
    "plt.rcParams.update(params)\n",
    "\n",
    "plt.style.use('dark_background')\n",
    "\n",
    "plt.plot(kbin, power_spec, linewidth=4)\n",
    "plt.xlabel(r'$k\\ \\rm [h\\ Mpc^{-1}]$', fontsize=14)\n",
    "plt.ylabel(r'$P(k)\\ \\rm$', fontsize=14)\n",
    "plt.ylim((1e2, 1e4))\n",
    "plt.xscale('log')\n",
    "plt.yscale('log')\n",
    "plt.savefig('/mnt/home/tmakinen/repositories/field-plots/eis-hu-pk.png', dpi=400, transparent=True)"
   ]
  },
  {
   "cell_type": "code",
   "execution_count": 32,
   "metadata": {},
   "outputs": [
    {
     "data": {
      "text/plain": [
       "0.002"
      ]
     },
     "execution_count": 32,
     "metadata": {},
     "output_type": "execute_result"
    }
   ],
   "source": [
    "kmin"
   ]
  },
  {
   "cell_type": "code",
   "execution_count": null,
   "metadata": {},
   "outputs": [],
   "source": []
  }
 ],
 "metadata": {
  "kernelspec": {
   "display_name": "pyjax9",
   "language": "python",
   "name": "pyjax9"
  },
  "language_info": {
   "codemirror_mode": {
    "name": "ipython",
    "version": 3
   },
   "file_extension": ".py",
   "mimetype": "text/x-python",
   "name": "python",
   "nbconvert_exporter": "python",
   "pygments_lexer": "ipython3",
   "version": "3.8.8"
  }
 },
 "nbformat": 4,
 "nbformat_minor": 4
}
