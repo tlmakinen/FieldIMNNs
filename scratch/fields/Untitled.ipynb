{
 "cells": [
  {
   "cell_type": "code",
   "execution_count": 1,
   "metadata": {},
   "outputs": [
    {
     "name": "stdout",
     "output_type": "stream",
     "text": [
      "jax version:  0.2.8\n",
      "IMNN version:  0.2dev\n"
     ]
    }
   ],
   "source": [
    "from jax.config import config\n",
    "config.update(\"jax_enable_x64\", True)\n",
    "import jax\n",
    "import jax.numpy as np\n",
    "import tensorflow_probability.substrates.jax as tfp\n",
    "tfd = tfp.distributions\n",
    "tfb = tfp.bijectors\n",
    "import matplotlib.pyplot as plt\n",
    "from mpl_toolkits.axes_grid1.axes_divider import make_axes_locatable\n",
    "import tqdm.auto as tqdm\n",
    "from PIL import Image, ImageOps\n",
    "rng = jax.random.PRNGKey(2)"
   ]
  },
  {
   "cell_type": "code",
   "execution_count": 1,
   "metadata": {},
   "outputs": [],
   "source": [
    "# pull in Florent's marginals\n",
    "dataid = 1\n",
    "marginal = np.load('./marginals/marginal_field_%d_20x20_field.npy'%(dataid))\n",
    "\n",
    "# pull in abc marginals\n",
    "abc_marginal = np.load('./marginals/abc_marginal_field_%d.npy'%(dataid))"
   ]
  },
  {
   "cell_type": "code",
   "execution_count": null,
   "metadata": {},
   "outputs": [],
   "source": [
    "arr = marginal[~np.isnan(marginal)]\n",
    "inds = np.argsort(arr)[::-1]\n",
    "cdf = np.cumsum(arr[inds] / arr.sum())\n",
    "levels = [arr[inds[np.argmin(np.abs(i - cdf))]] for i in [0.99, 0.95, 0.68, 0.]]"
   ]
  }
 ],
 "metadata": {
  "kernelspec": {
   "display_name": "pyjax",
   "language": "python",
   "name": "pyjax"
  },
  "language_info": {
   "codemirror_mode": {
    "name": "ipython",
    "version": 3
   },
   "file_extension": ".py",
   "mimetype": "text/x-python",
   "name": "python",
   "nbconvert_exporter": "python",
   "pygments_lexer": "ipython3",
   "version": "3.6.9"
  }
 },
 "nbformat": 4,
 "nbformat_minor": 4
}
