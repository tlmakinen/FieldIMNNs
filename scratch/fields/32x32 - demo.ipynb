{
 "cells": [
  {
   "cell_type": "code",
   "execution_count": null,
   "metadata": {},
   "outputs": [],
   "source": [
    "%load_ext autoreload\n",
    "%autoreload 2"
   ]
  },
  {
   "cell_type": "code",
   "execution_count": null,
   "metadata": {
    "jupyter": {
     "source_hidden": true
    }
   },
   "outputs": [],
   "source": [
    "!python -m pip install --upgrade jax==0.2.10 jaxlib==0.1.62+cuda101 -f https://storage.googleapis.com/jax-releases/jax_releases.html"
   ]
  },
  {
   "cell_type": "code",
   "execution_count": null,
   "metadata": {},
   "outputs": [],
   "source": [
    "cd /mnt/home/tmakinen/repositories/scratch/gitinstall/imnn"
   ]
  },
  {
   "cell_type": "code",
   "execution_count": 3,
   "metadata": {},
   "outputs": [
    {
     "name": "stdout",
     "output_type": "stream",
     "text": [
      "D\texamples/2D sims - IMNN.ipynb\n",
      "M\texamples/IMNN - JAX.ipynb\n",
      "Already on 'dev'\n",
      "Your branch is ahead of 'origin/dev' by 3 commits.\n",
      "  (use \"git push\" to publish your local commits)\n"
     ]
    }
   ],
   "source": [
    "!git checkout dev;"
   ]
  },
  {
   "cell_type": "code",
   "execution_count": 8,
   "metadata": {},
   "outputs": [
    {
     "name": "stdout",
     "output_type": "stream",
     "text": [
      "Already up-to-date.\n"
     ]
    }
   ],
   "source": [
    "!python -m pip install ."
   ]
  },
  {
   "cell_type": "code",
   "execution_count": 6,
   "metadata": {},
   "outputs": [
    {
     "data": {
      "text/plain": [
       "'/mnt/home/tmakinen/repositories/scratch/dev-imnn/imnn'"
      ]
     },
     "execution_count": 6,
     "metadata": {},
     "output_type": "execute_result"
    }
   ],
   "source": [
    "pwd"
   ]
  },
  {
   "cell_type": "code",
   "execution_count": 11,
   "metadata": {
    "collapsed": true,
    "jupyter": {
     "outputs_hidden": true
    }
   },
   "outputs": [
    {
     "name": "stdout",
     "output_type": "stream",
     "text": [
      "/mnt/home/tmakinen/anaconda3/envs/pyjax/lib/python3.6/site-packages/setuptools/dist.py:458: UserWarning: Normalizing '0.3dev' to '0.3.dev0'\n",
      "  warnings.warn(tmpl.format(**locals()))\n",
      "running install\n",
      "running bdist_egg\n",
      "running egg_info\n",
      "writing IMNN.egg-info/PKG-INFO\n",
      "writing dependency_links to IMNN.egg-info/dependency_links.txt\n",
      "writing requirements to IMNN.egg-info/requires.txt\n",
      "writing top-level names to IMNN.egg-info/top_level.txt\n",
      "reading manifest file 'IMNN.egg-info/SOURCES.txt'\n",
      "writing manifest file 'IMNN.egg-info/SOURCES.txt'\n",
      "installing library code to build/bdist.linux-x86_64/egg\n",
      "running install_lib\n",
      "running build_py\n",
      "copying IMNN/experimental/jax/imnn/imnn.py -> build/lib/IMNN/experimental/jax/imnn\n",
      "creating build/bdist.linux-x86_64/egg\n",
      "creating build/bdist.linux-x86_64/egg/IMNN\n",
      "creating build/bdist.linux-x86_64/egg/IMNN/LFI\n",
      "copying build/lib/IMNN/LFI/LFI.py -> build/bdist.linux-x86_64/egg/IMNN/LFI\n",
      "copying build/lib/IMNN/LFI/__init__.py -> build/bdist.linux-x86_64/egg/IMNN/LFI\n",
      "copying build/lib/IMNN/IMNN.py -> build/bdist.linux-x86_64/egg/IMNN\n",
      "copying build/lib/IMNN/tfIMNN.py -> build/bdist.linux-x86_64/egg/IMNN\n",
      "copying build/lib/IMNN/__init__.py -> build/bdist.linux-x86_64/egg/IMNN\n",
      "creating build/bdist.linux-x86_64/egg/IMNN/utils\n",
      "copying build/lib/IMNN/utils/__init__.py -> build/bdist.linux-x86_64/egg/IMNN/utils\n",
      "copying build/lib/IMNN/utils/utils.py -> build/bdist.linux-x86_64/egg/IMNN/utils\n",
      "copying build/lib/IMNN/utils/TFRecords.py -> build/bdist.linux-x86_64/egg/IMNN/utils\n",
      "creating build/bdist.linux-x86_64/egg/IMNN/experimental\n",
      "copying build/lib/IMNN/experimental/__init__.py -> build/bdist.linux-x86_64/egg/IMNN/experimental\n",
      "creating build/bdist.linux-x86_64/egg/IMNN/experimental/jax\n",
      "creating build/bdist.linux-x86_64/egg/IMNN/experimental/jax/imnn\n",
      "copying build/lib/IMNN/experimental/jax/imnn/_tensorflow_imnn.py -> build/bdist.linux-x86_64/egg/IMNN/experimental/jax/imnn\n",
      "copying build/lib/IMNN/experimental/jax/imnn/tensorflow_gradient_imnn.py -> build/bdist.linux-x86_64/egg/IMNN/experimental/jax/imnn\n",
      "copying build/lib/IMNN/experimental/jax/imnn/aggregated_gradient_imnn_test.py -> build/bdist.linux-x86_64/egg/IMNN/experimental/jax/imnn\n",
      "copying build/lib/IMNN/experimental/jax/imnn/gradient_imnn_test.py -> build/bdist.linux-x86_64/egg/IMNN/experimental/jax/imnn\n",
      "copying build/lib/IMNN/experimental/jax/imnn/numerical_gradient_imnn_test.py -> build/bdist.linux-x86_64/egg/IMNN/experimental/jax/imnn\n",
      "copying build/lib/IMNN/experimental/jax/imnn/_imnn.py -> build/bdist.linux-x86_64/egg/IMNN/experimental/jax/imnn\n",
      "copying build/lib/IMNN/experimental/jax/imnn/aggregated_numerical_gradient_imnn_test.py -> build/bdist.linux-x86_64/egg/IMNN/experimental/jax/imnn\n",
      "copying build/lib/IMNN/experimental/jax/imnn/imnn.py -> build/bdist.linux-x86_64/egg/IMNN/experimental/jax/imnn\n",
      "copying build/lib/IMNN/experimental/jax/imnn/aggregated_numerical_gradient_imnn.py -> build/bdist.linux-x86_64/egg/IMNN/experimental/jax/imnn\n",
      "copying build/lib/IMNN/experimental/jax/imnn/gradient_imnn.py -> build/bdist.linux-x86_64/egg/IMNN/experimental/jax/imnn\n",
      "copying build/lib/IMNN/experimental/jax/imnn/__init__.py -> build/bdist.linux-x86_64/egg/IMNN/experimental/jax/imnn\n",
      "copying build/lib/IMNN/experimental/jax/imnn/_imnn_test.py -> build/bdist.linux-x86_64/egg/IMNN/experimental/jax/imnn\n",
      "copying build/lib/IMNN/experimental/jax/imnn/simulator_imnn_test.py -> build/bdist.linux-x86_64/egg/IMNN/experimental/jax/imnn\n",
      "copying build/lib/IMNN/experimental/jax/imnn/aggregated_simulator_imnn.py -> build/bdist.linux-x86_64/egg/IMNN/experimental/jax/imnn\n",
      "copying build/lib/IMNN/experimental/jax/imnn/tensorflow_numerical_gradient_imnn.py -> build/bdist.linux-x86_64/egg/IMNN/experimental/jax/imnn\n",
      "copying build/lib/IMNN/experimental/jax/imnn/simulator_imnn.py -> build/bdist.linux-x86_64/egg/IMNN/experimental/jax/imnn\n",
      "copying build/lib/IMNN/experimental/jax/imnn/_tensorflow_imnn_test.py -> build/bdist.linux-x86_64/egg/IMNN/experimental/jax/imnn\n",
      "copying build/lib/IMNN/experimental/jax/imnn/aggregated_gradient_imnn.py -> build/bdist.linux-x86_64/egg/IMNN/experimental/jax/imnn\n",
      "copying build/lib/IMNN/experimental/jax/imnn/numerical_gradient_imnn.py -> build/bdist.linux-x86_64/egg/IMNN/experimental/jax/imnn\n",
      "copying build/lib/IMNN/experimental/jax/imnn/aggregated_simulator_imnn_test.py -> build/bdist.linux-x86_64/egg/IMNN/experimental/jax/imnn\n",
      "creating build/bdist.linux-x86_64/egg/IMNN/experimental/jax/lfi\n",
      "copying build/lib/IMNN/experimental/jax/lfi/gaussian_approximation.py -> build/bdist.linux-x86_64/egg/IMNN/experimental/jax/lfi\n",
      "copying build/lib/IMNN/experimental/jax/lfi/lfi.py -> build/bdist.linux-x86_64/egg/IMNN/experimental/jax/lfi\n",
      "copying build/lib/IMNN/experimental/jax/lfi/__init__.py -> build/bdist.linux-x86_64/egg/IMNN/experimental/jax/lfi\n",
      "copying build/lib/IMNN/experimental/jax/lfi/approximate_bayesian_computation.py -> build/bdist.linux-x86_64/egg/IMNN/experimental/jax/lfi\n",
      "copying build/lib/IMNN/experimental/jax/__init__.py -> build/bdist.linux-x86_64/egg/IMNN/experimental/jax\n",
      "creating build/bdist.linux-x86_64/egg/IMNN/experimental/jax/utils\n",
      "copying build/lib/IMNN/experimental/jax/utils/__init__.py -> build/bdist.linux-x86_64/egg/IMNN/experimental/jax/utils\n",
      "copying build/lib/IMNN/experimental/jax/utils/utils.py -> build/bdist.linux-x86_64/egg/IMNN/experimental/jax/utils\n",
      "copying build/lib/IMNN/experimental/jax/utils/keras_utils.py -> build/bdist.linux-x86_64/egg/IMNN/experimental/jax/utils\n",
      "copying build/lib/IMNN/experimental/jax/utils/container.py -> build/bdist.linux-x86_64/egg/IMNN/experimental/jax/utils\n",
      "copying build/lib/IMNN/experimental/jax/utils/jac.py -> build/bdist.linux-x86_64/egg/IMNN/experimental/jax/utils\n",
      "creating build/bdist.linux-x86_64/egg/test\n",
      "copying build/lib/test/tensorflow_defaults.py -> build/bdist.linux-x86_64/egg/test\n",
      "copying build/lib/test/simulator_defaults.py -> build/bdist.linux-x86_64/egg/test\n",
      "copying build/lib/test/numerical_gradient_defaults.py -> build/bdist.linux-x86_64/egg/test\n",
      "copying build/lib/test/__init__.py -> build/bdist.linux-x86_64/egg/test\n",
      "copying build/lib/test/gradient_defaults.py -> build/bdist.linux-x86_64/egg/test\n",
      "copying build/lib/test/defaults.py -> build/bdist.linux-x86_64/egg/test\n",
      "byte-compiling build/bdist.linux-x86_64/egg/IMNN/LFI/LFI.py to LFI.cpython-36.pyc\n",
      "byte-compiling build/bdist.linux-x86_64/egg/IMNN/LFI/__init__.py to __init__.cpython-36.pyc\n",
      "byte-compiling build/bdist.linux-x86_64/egg/IMNN/IMNN.py to IMNN.cpython-36.pyc\n",
      "byte-compiling build/bdist.linux-x86_64/egg/IMNN/tfIMNN.py to tfIMNN.cpython-36.pyc\n",
      "byte-compiling build/bdist.linux-x86_64/egg/IMNN/__init__.py to __init__.cpython-36.pyc\n",
      "byte-compiling build/bdist.linux-x86_64/egg/IMNN/utils/__init__.py to __init__.cpython-36.pyc\n",
      "byte-compiling build/bdist.linux-x86_64/egg/IMNN/utils/utils.py to utils.cpython-36.pyc\n",
      "byte-compiling build/bdist.linux-x86_64/egg/IMNN/utils/TFRecords.py to TFRecords.cpython-36.pyc\n",
      "byte-compiling build/bdist.linux-x86_64/egg/IMNN/experimental/__init__.py to __init__.cpython-36.pyc\n",
      "byte-compiling build/bdist.linux-x86_64/egg/IMNN/experimental/jax/imnn/_tensorflow_imnn.py to _tensorflow_imnn.cpython-36.pyc\n",
      "byte-compiling build/bdist.linux-x86_64/egg/IMNN/experimental/jax/imnn/tensorflow_gradient_imnn.py to tensorflow_gradient_imnn.cpython-36.pyc\n",
      "byte-compiling build/bdist.linux-x86_64/egg/IMNN/experimental/jax/imnn/aggregated_gradient_imnn_test.py to aggregated_gradient_imnn_test.cpython-36.pyc\n",
      "byte-compiling build/bdist.linux-x86_64/egg/IMNN/experimental/jax/imnn/gradient_imnn_test.py to gradient_imnn_test.cpython-36.pyc\n",
      "byte-compiling build/bdist.linux-x86_64/egg/IMNN/experimental/jax/imnn/numerical_gradient_imnn_test.py to numerical_gradient_imnn_test.cpython-36.pyc\n",
      "byte-compiling build/bdist.linux-x86_64/egg/IMNN/experimental/jax/imnn/_imnn.py to _imnn.cpython-36.pyc\n",
      "byte-compiling build/bdist.linux-x86_64/egg/IMNN/experimental/jax/imnn/aggregated_numerical_gradient_imnn_test.py to aggregated_numerical_gradient_imnn_test.cpython-36.pyc\n",
      "byte-compiling build/bdist.linux-x86_64/egg/IMNN/experimental/jax/imnn/imnn.py to imnn.cpython-36.pyc\n",
      "byte-compiling build/bdist.linux-x86_64/egg/IMNN/experimental/jax/imnn/aggregated_numerical_gradient_imnn.py to aggregated_numerical_gradient_imnn.cpython-36.pyc\n",
      "byte-compiling build/bdist.linux-x86_64/egg/IMNN/experimental/jax/imnn/gradient_imnn.py to gradient_imnn.cpython-36.pyc\n",
      "byte-compiling build/bdist.linux-x86_64/egg/IMNN/experimental/jax/imnn/__init__.py to __init__.cpython-36.pyc\n",
      "byte-compiling build/bdist.linux-x86_64/egg/IMNN/experimental/jax/imnn/_imnn_test.py to _imnn_test.cpython-36.pyc\n",
      "byte-compiling build/bdist.linux-x86_64/egg/IMNN/experimental/jax/imnn/simulator_imnn_test.py to simulator_imnn_test.cpython-36.pyc\n",
      "byte-compiling build/bdist.linux-x86_64/egg/IMNN/experimental/jax/imnn/aggregated_simulator_imnn.py to aggregated_simulator_imnn.cpython-36.pyc\n",
      "byte-compiling build/bdist.linux-x86_64/egg/IMNN/experimental/jax/imnn/tensorflow_numerical_gradient_imnn.py to tensorflow_numerical_gradient_imnn.cpython-36.pyc\n",
      "byte-compiling build/bdist.linux-x86_64/egg/IMNN/experimental/jax/imnn/simulator_imnn.py to simulator_imnn.cpython-36.pyc\n",
      "byte-compiling build/bdist.linux-x86_64/egg/IMNN/experimental/jax/imnn/_tensorflow_imnn_test.py to _tensorflow_imnn_test.cpython-36.pyc\n",
      "byte-compiling build/bdist.linux-x86_64/egg/IMNN/experimental/jax/imnn/aggregated_gradient_imnn.py to aggregated_gradient_imnn.cpython-36.pyc\n",
      "byte-compiling build/bdist.linux-x86_64/egg/IMNN/experimental/jax/imnn/numerical_gradient_imnn.py to numerical_gradient_imnn.cpython-36.pyc\n",
      "byte-compiling build/bdist.linux-x86_64/egg/IMNN/experimental/jax/imnn/aggregated_simulator_imnn_test.py to aggregated_simulator_imnn_test.cpython-36.pyc\n",
      "byte-compiling build/bdist.linux-x86_64/egg/IMNN/experimental/jax/lfi/gaussian_approximation.py to gaussian_approximation.cpython-36.pyc\n",
      "byte-compiling build/bdist.linux-x86_64/egg/IMNN/experimental/jax/lfi/lfi.py to lfi.cpython-36.pyc\n",
      "byte-compiling build/bdist.linux-x86_64/egg/IMNN/experimental/jax/lfi/__init__.py to __init__.cpython-36.pyc\n",
      "byte-compiling build/bdist.linux-x86_64/egg/IMNN/experimental/jax/lfi/approximate_bayesian_computation.py to approximate_bayesian_computation.cpython-36.pyc\n",
      "byte-compiling build/bdist.linux-x86_64/egg/IMNN/experimental/jax/__init__.py to __init__.cpython-36.pyc\n",
      "byte-compiling build/bdist.linux-x86_64/egg/IMNN/experimental/jax/utils/__init__.py to __init__.cpython-36.pyc\n",
      "byte-compiling build/bdist.linux-x86_64/egg/IMNN/experimental/jax/utils/utils.py to utils.cpython-36.pyc\n",
      "byte-compiling build/bdist.linux-x86_64/egg/IMNN/experimental/jax/utils/keras_utils.py to keras_utils.cpython-36.pyc\n",
      "byte-compiling build/bdist.linux-x86_64/egg/IMNN/experimental/jax/utils/container.py to container.cpython-36.pyc\n",
      "byte-compiling build/bdist.linux-x86_64/egg/IMNN/experimental/jax/utils/jac.py to jac.cpython-36.pyc\n",
      "byte-compiling build/bdist.linux-x86_64/egg/test/tensorflow_defaults.py to tensorflow_defaults.cpython-36.pyc\n",
      "byte-compiling build/bdist.linux-x86_64/egg/test/simulator_defaults.py to simulator_defaults.cpython-36.pyc\n",
      "byte-compiling build/bdist.linux-x86_64/egg/test/numerical_gradient_defaults.py to numerical_gradient_defaults.cpython-36.pyc\n",
      "byte-compiling build/bdist.linux-x86_64/egg/test/__init__.py to __init__.cpython-36.pyc\n",
      "byte-compiling build/bdist.linux-x86_64/egg/test/gradient_defaults.py to gradient_defaults.cpython-36.pyc\n",
      "byte-compiling build/bdist.linux-x86_64/egg/test/defaults.py to defaults.cpython-36.pyc\n",
      "creating build/bdist.linux-x86_64/egg/EGG-INFO\n",
      "copying IMNN.egg-info/PKG-INFO -> build/bdist.linux-x86_64/egg/EGG-INFO\n",
      "copying IMNN.egg-info/SOURCES.txt -> build/bdist.linux-x86_64/egg/EGG-INFO\n",
      "copying IMNN.egg-info/dependency_links.txt -> build/bdist.linux-x86_64/egg/EGG-INFO\n",
      "copying IMNN.egg-info/requires.txt -> build/bdist.linux-x86_64/egg/EGG-INFO\n",
      "copying IMNN.egg-info/top_level.txt -> build/bdist.linux-x86_64/egg/EGG-INFO\n",
      "zip_safe flag not set; analyzing archive contents...\n",
      "creating 'dist/IMNN-0.3.dev0-py3.6.egg' and adding 'build/bdist.linux-x86_64/egg' to it\n",
      "removing 'build/bdist.linux-x86_64/egg' (and everything under it)\n",
      "Processing IMNN-0.3.dev0-py3.6.egg\n",
      "Removing /mnt/home/tmakinen/anaconda3/envs/pyjax/lib/python3.6/site-packages/IMNN-0.3.dev0-py3.6.egg\n",
      "Copying IMNN-0.3.dev0-py3.6.egg to /mnt/home/tmakinen/anaconda3/envs/pyjax/lib/python3.6/site-packages\n",
      "IMNN 0.3.dev0 is already the active version in easy-install.pth\n",
      "\n",
      "Installed /mnt/home/tmakinen/anaconda3/envs/pyjax/lib/python3.6/site-packages/IMNN-0.3.dev0-py3.6.egg\n",
      "Processing dependencies for IMNN==0.3.dev0\n",
      "Searching for matplotlib==3.3.2\n",
      "Best match: matplotlib 3.3.2\n",
      "Adding matplotlib 3.3.2 to easy-install.pth file\n",
      "\n",
      "Using /mnt/home/tmakinen/anaconda3/envs/pyjax/lib/python3.6/site-packages\n",
      "Searching for scipy==1.5.3\n",
      "Best match: scipy 1.5.3\n",
      "Adding scipy 1.5.3 to easy-install.pth file\n",
      "\n",
      "Using /mnt/home/tmakinen/anaconda3/envs/pyjax/lib/python3.6/site-packages\n",
      "Searching for numpy==1.19.4\n",
      "Best match: numpy 1.19.4\n",
      "Adding numpy 1.19.4 to easy-install.pth file\n",
      "Installing f2py script to /mnt/home/tmakinen/anaconda3/envs/pyjax/bin\n",
      "Installing f2py3 script to /mnt/home/tmakinen/anaconda3/envs/pyjax/bin\n",
      "Installing f2py3.6 script to /mnt/home/tmakinen/anaconda3/envs/pyjax/bin\n",
      "\n",
      "Using /mnt/home/tmakinen/anaconda3/envs/pyjax/lib/python3.6/site-packages\n",
      "Searching for tqdm==4.55.1\n",
      "Best match: tqdm 4.55.1\n",
      "Processing tqdm-4.55.1-py3.6.egg\n",
      "tqdm 4.55.1 is already the active version in easy-install.pth\n",
      "Installing tqdm script to /mnt/home/tmakinen/anaconda3/envs/pyjax/bin\n",
      "\n",
      "Using /mnt/home/tmakinen/anaconda3/envs/pyjax/lib/python3.6/site-packages/tqdm-4.55.1-py3.6.egg\n",
      "Searching for jax==0.2.8\n",
      "Best match: jax 0.2.8\n",
      "Processing jax-0.2.8-py3.6.egg\n",
      "jax 0.2.8 is already the active version in easy-install.pth\n",
      "\n",
      "Using /mnt/home/tmakinen/anaconda3/envs/pyjax/lib/python3.6/site-packages/jax-0.2.8-py3.6.egg\n",
      "Searching for jaxlib==0.1.57+cuda101\n",
      "Best match: jaxlib 0.1.57+cuda101\n",
      "Removing jaxlib 0.1.59 from easy-install.pth file\n",
      "Adding jaxlib 0.1.57+cuda101 to easy-install.pth file\n",
      "\n",
      "Using /mnt/home/tmakinen/anaconda3/envs/pyjax/lib/python3.6/site-packages\n",
      "Searching for tensorflow==2.4.0\n",
      "Best match: tensorflow 2.4.0\n",
      "Processing tensorflow-2.4.0-py3.6-linux-x86_64.egg\n",
      "tensorflow 2.4.0 is already the active version in easy-install.pth\n",
      "Installing estimator_ckpt_converter script to /mnt/home/tmakinen/anaconda3/envs/pyjax/bin\n",
      "Installing import_pb_to_tensorboard script to /mnt/home/tmakinen/anaconda3/envs/pyjax/bin\n",
      "Installing saved_model_cli script to /mnt/home/tmakinen/anaconda3/envs/pyjax/bin\n",
      "Installing tensorboard script to /mnt/home/tmakinen/anaconda3/envs/pyjax/bin\n",
      "Installing tf_upgrade_v2 script to /mnt/home/tmakinen/anaconda3/envs/pyjax/bin\n",
      "Installing tflite_convert script to /mnt/home/tmakinen/anaconda3/envs/pyjax/bin\n",
      "Installing toco script to /mnt/home/tmakinen/anaconda3/envs/pyjax/bin\n",
      "Installing toco_from_protos script to /mnt/home/tmakinen/anaconda3/envs/pyjax/bin\n",
      "\n",
      "Using /mnt/home/tmakinen/anaconda3/envs/pyjax/lib/python3.6/site-packages/tensorflow-2.4.0-py3.6-linux-x86_64.egg\n",
      "Searching for certifi==2020.12.5\n",
      "Best match: certifi 2020.12.5\n",
      "Adding certifi 2020.12.5 to easy-install.pth file\n",
      "\n",
      "Using /mnt/home/tmakinen/anaconda3/envs/pyjax/lib/python3.6/site-packages\n",
      "Searching for Pillow==8.1.0\n",
      "Best match: Pillow 8.1.0\n",
      "Adding Pillow 8.1.0 to easy-install.pth file\n",
      "\n",
      "Using /mnt/home/tmakinen/anaconda3/envs/pyjax/lib/python3.6/site-packages\n",
      "Searching for python-dateutil==2.8.1\n",
      "Best match: python-dateutil 2.8.1\n",
      "Adding python-dateutil 2.8.1 to easy-install.pth file\n",
      "\n",
      "Using /mnt/home/tmakinen/anaconda3/envs/pyjax/lib/python3.6/site-packages\n",
      "Searching for kiwisolver==1.3.1\n",
      "Best match: kiwisolver 1.3.1\n",
      "Adding kiwisolver 1.3.1 to easy-install.pth file\n",
      "\n",
      "Using /mnt/home/tmakinen/anaconda3/envs/pyjax/lib/python3.6/site-packages\n",
      "Searching for cycler==0.10.0\n",
      "Best match: cycler 0.10.0\n",
      "Adding cycler 0.10.0 to easy-install.pth file\n",
      "\n",
      "Using /mnt/home/tmakinen/anaconda3/envs/pyjax/lib/python3.6/site-packages\n",
      "Searching for pyparsing==2.4.7\n",
      "Best match: pyparsing 2.4.7\n",
      "Adding pyparsing 2.4.7 to easy-install.pth file\n",
      "\n",
      "Using /mnt/home/tmakinen/anaconda3/envs/pyjax/lib/python3.6/site-packages\n",
      "Searching for opt-einsum==3.3.0\n",
      "Best match: opt-einsum 3.3.0\n",
      "Adding opt-einsum 3.3.0 to easy-install.pth file\n",
      "\n",
      "Using /mnt/home/tmakinen/anaconda3/envs/pyjax/lib/python3.6/site-packages\n",
      "Searching for absl-py==0.11.0\n",
      "Best match: absl-py 0.11.0\n",
      "Adding absl-py 0.11.0 to easy-install.pth file\n",
      "\n",
      "Using /mnt/home/tmakinen/anaconda3/envs/pyjax/lib/python3.6/site-packages\n",
      "Searching for flatbuffers==1.12\n",
      "Best match: flatbuffers 1.12\n",
      "Adding flatbuffers 1.12 to easy-install.pth file\n",
      "\n",
      "Using /mnt/home/tmakinen/anaconda3/envs/pyjax/lib/python3.6/site-packages\n",
      "Searching for wrapt==1.12.1\n",
      "Best match: wrapt 1.12.1\n",
      "Processing wrapt-1.12.1-py3.6-linux-x86_64.egg\n",
      "wrapt 1.12.1 is already the active version in easy-install.pth\n",
      "\n",
      "Using /mnt/home/tmakinen/anaconda3/envs/pyjax/lib/python3.6/site-packages/wrapt-1.12.1-py3.6-linux-x86_64.egg\n",
      "Searching for wheel==0.36.2\n",
      "Best match: wheel 0.36.2\n",
      "Adding wheel 0.36.2 to easy-install.pth file\n",
      "Installing wheel script to /mnt/home/tmakinen/anaconda3/envs/pyjax/bin\n",
      "\n",
      "Using /mnt/home/tmakinen/anaconda3/envs/pyjax/lib/python3.6/site-packages\n",
      "Searching for typing-extensions==3.7.4.3\n",
      "Best match: typing-extensions 3.7.4.3\n",
      "Processing typing_extensions-3.7.4.3-py3.6.egg\n",
      "typing-extensions 3.7.4.3 is already the active version in easy-install.pth\n",
      "\n",
      "Using /mnt/home/tmakinen/anaconda3/envs/pyjax/lib/python3.6/site-packages/typing_extensions-3.7.4.3-py3.6.egg\n",
      "Searching for termcolor==1.1.0\n",
      "Best match: termcolor 1.1.0\n",
      "Processing termcolor-1.1.0-py3.6.egg\n",
      "termcolor 1.1.0 is already the active version in easy-install.pth\n",
      "\n",
      "Using /mnt/home/tmakinen/anaconda3/envs/pyjax/lib/python3.6/site-packages/termcolor-1.1.0-py3.6.egg\n",
      "Searching for tensorflow-estimator==2.4.0\n",
      "Best match: tensorflow-estimator 2.4.0\n",
      "Processing tensorflow_estimator-2.4.0-py3.6.egg\n",
      "tensorflow-estimator 2.4.0 is already the active version in easy-install.pth\n",
      "\n",
      "Using /mnt/home/tmakinen/anaconda3/envs/pyjax/lib/python3.6/site-packages/tensorflow_estimator-2.4.0-py3.6.egg\n",
      "Searching for tensorboard==2.4.0\n",
      "Best match: tensorboard 2.4.0\n",
      "Processing tensorboard-2.4.0-py3.6.egg\n",
      "tensorboard 2.4.0 is already the active version in easy-install.pth\n",
      "Installing tensorboard script to /mnt/home/tmakinen/anaconda3/envs/pyjax/bin\n",
      "\n",
      "Using /mnt/home/tmakinen/anaconda3/envs/pyjax/lib/python3.6/site-packages/tensorboard-2.4.0-py3.6.egg\n",
      "Searching for six==1.15.0\n",
      "Best match: six 1.15.0\n",
      "Adding six 1.15.0 to easy-install.pth file\n",
      "\n",
      "Using /mnt/home/tmakinen/anaconda3/envs/pyjax/lib/python3.6/site-packages\n",
      "Searching for protobuf==4.0.0rc2\n",
      "Best match: protobuf 4.0.0rc2\n",
      "Processing protobuf-4.0.0rc2-py3.6.egg\n",
      "protobuf 4.0.0rc2 is already the active version in easy-install.pth\n",
      "\n",
      "Using /mnt/home/tmakinen/anaconda3/envs/pyjax/lib/python3.6/site-packages/protobuf-4.0.0rc2-py3.6.egg\n",
      "Searching for Keras-Preprocessing==1.1.2\n",
      "Best match: Keras-Preprocessing 1.1.2\n",
      "Processing Keras_Preprocessing-1.1.2-py3.6.egg\n",
      "Keras-Preprocessing 1.1.2 is already the active version in easy-install.pth\n",
      "\n",
      "Using /mnt/home/tmakinen/anaconda3/envs/pyjax/lib/python3.6/site-packages/Keras_Preprocessing-1.1.2-py3.6.egg\n",
      "Searching for h5py==2.10.0\n",
      "Best match: h5py 2.10.0\n",
      "Processing h5py-2.10.0-py3.6-linux-x86_64.egg\n",
      "h5py 2.10.0 is already the active version in easy-install.pth\n",
      "\n",
      "Using /mnt/home/tmakinen/anaconda3/envs/pyjax/lib/python3.6/site-packages/h5py-2.10.0-py3.6-linux-x86_64.egg\n",
      "Searching for grpcio==1.32.0\n",
      "Best match: grpcio 1.32.0\n",
      "Processing grpcio-1.32.0-py3.6-linux-x86_64.egg\n",
      "grpcio 1.32.0 is already the active version in easy-install.pth\n",
      "\n",
      "Using /mnt/home/tmakinen/anaconda3/envs/pyjax/lib/python3.6/site-packages/grpcio-1.32.0-py3.6-linux-x86_64.egg\n",
      "Searching for google-pasta==0.2.0\n",
      "Best match: google-pasta 0.2.0\n",
      "Processing google_pasta-0.2.0-py3.6.egg\n",
      "google-pasta 0.2.0 is already the active version in easy-install.pth\n",
      "\n",
      "Using /mnt/home/tmakinen/anaconda3/envs/pyjax/lib/python3.6/site-packages/google_pasta-0.2.0-py3.6.egg\n",
      "Searching for gast==0.3.3\n",
      "Best match: gast 0.3.3\n",
      "Processing gast-0.3.3-py3.6.egg\n",
      "gast 0.3.3 is already the active version in easy-install.pth\n",
      "\n",
      "Using /mnt/home/tmakinen/anaconda3/envs/pyjax/lib/python3.6/site-packages/gast-0.3.3-py3.6.egg\n",
      "Searching for astunparse==1.6.3\n",
      "Best match: astunparse 1.6.3\n",
      "Processing astunparse-1.6.3-py3.6.egg\n",
      "astunparse 1.6.3 is already the active version in easy-install.pth\n",
      "\n",
      "Using /mnt/home/tmakinen/anaconda3/envs/pyjax/lib/python3.6/site-packages/astunparse-1.6.3-py3.6.egg\n",
      "Searching for Werkzeug==1.0.1\n",
      "Best match: Werkzeug 1.0.1\n",
      "Processing Werkzeug-1.0.1-py3.6.egg\n",
      "Werkzeug 1.0.1 is already the active version in easy-install.pth\n",
      "\n",
      "Using /mnt/home/tmakinen/anaconda3/envs/pyjax/lib/python3.6/site-packages/Werkzeug-1.0.1-py3.6.egg\n",
      "Searching for tensorboard-plugin-wit==1.7.0\n",
      "Best match: tensorboard-plugin-wit 1.7.0\n",
      "Processing tensorboard_plugin_wit-1.7.0-py3.6.egg\n",
      "tensorboard-plugin-wit 1.7.0 is already the active version in easy-install.pth\n",
      "\n",
      "Using /mnt/home/tmakinen/anaconda3/envs/pyjax/lib/python3.6/site-packages/tensorboard_plugin_wit-1.7.0-py3.6.egg\n",
      "Searching for setuptools==49.6.0.post20201009\n",
      "Best match: setuptools 49.6.0.post20201009\n",
      "Adding setuptools 49.6.0.post20201009 to easy-install.pth file\n",
      "Installing easy_install script to /mnt/home/tmakinen/anaconda3/envs/pyjax/bin\n",
      "\n",
      "Using /mnt/home/tmakinen/anaconda3/envs/pyjax/lib/python3.6/site-packages\n",
      "Searching for requests==2.25.1\n",
      "Best match: requests 2.25.1\n",
      "Processing requests-2.25.1-py3.6.egg\n",
      "requests 2.25.1 is already the active version in easy-install.pth\n",
      "\n",
      "Using /mnt/home/tmakinen/anaconda3/envs/pyjax/lib/python3.6/site-packages/requests-2.25.1-py3.6.egg\n",
      "Searching for Markdown==3.3.3\n",
      "Best match: Markdown 3.3.3\n",
      "Processing Markdown-3.3.3-py3.6.egg\n",
      "Markdown 3.3.3 is already the active version in easy-install.pth\n",
      "Installing markdown_py script to /mnt/home/tmakinen/anaconda3/envs/pyjax/bin\n",
      "\n",
      "Using /mnt/home/tmakinen/anaconda3/envs/pyjax/lib/python3.6/site-packages/Markdown-3.3.3-py3.6.egg\n",
      "Searching for google-auth==1.24.0\n",
      "Best match: google-auth 1.24.0\n",
      "Processing google_auth-1.24.0-py3.6.egg\n",
      "google-auth 1.24.0 is already the active version in easy-install.pth\n",
      "\n",
      "Using /mnt/home/tmakinen/anaconda3/envs/pyjax/lib/python3.6/site-packages/google_auth-1.24.0-py3.6.egg\n",
      "Searching for google-auth-oauthlib==0.4.2\n",
      "Best match: google-auth-oauthlib 0.4.2\n",
      "Processing google_auth_oauthlib-0.4.2-py3.6.egg\n",
      "google-auth-oauthlib 0.4.2 is already the active version in easy-install.pth\n",
      "Installing google-oauthlib-tool script to /mnt/home/tmakinen/anaconda3/envs/pyjax/bin\n",
      "\n",
      "Using /mnt/home/tmakinen/anaconda3/envs/pyjax/lib/python3.6/site-packages/google_auth_oauthlib-0.4.2-py3.6.egg\n",
      "Searching for urllib3==1.26.2\n",
      "Best match: urllib3 1.26.2\n",
      "Processing urllib3-1.26.2-py3.6.egg\n",
      "urllib3 1.26.2 is already the active version in easy-install.pth\n",
      "\n",
      "Using /mnt/home/tmakinen/anaconda3/envs/pyjax/lib/python3.6/site-packages/urllib3-1.26.2-py3.6.egg\n",
      "Searching for idna==2.10\n",
      "Best match: idna 2.10\n",
      "Processing idna-2.10-py3.6.egg\n",
      "idna 2.10 is already the active version in easy-install.pth\n",
      "\n",
      "Using /mnt/home/tmakinen/anaconda3/envs/pyjax/lib/python3.6/site-packages/idna-2.10-py3.6.egg\n",
      "Searching for chardet==4.0.0\n",
      "Best match: chardet 4.0.0\n",
      "Processing chardet-4.0.0-py3.6.egg\n",
      "chardet 4.0.0 is already the active version in easy-install.pth\n",
      "Installing chardetect script to /mnt/home/tmakinen/anaconda3/envs/pyjax/bin\n",
      "\n",
      "Using /mnt/home/tmakinen/anaconda3/envs/pyjax/lib/python3.6/site-packages/chardet-4.0.0-py3.6.egg\n",
      "Searching for importlib-metadata==3.3.0\n",
      "Best match: importlib-metadata 3.3.0\n",
      "Processing importlib_metadata-3.3.0-py3.6.egg\n",
      "importlib-metadata 3.3.0 is already the active version in easy-install.pth\n",
      "\n",
      "Using /mnt/home/tmakinen/anaconda3/envs/pyjax/lib/python3.6/site-packages/importlib_metadata-3.3.0-py3.6.egg\n",
      "Searching for rsa==4.6\n",
      "Best match: rsa 4.6\n",
      "Processing rsa-4.6-py3.6.egg\n",
      "rsa 4.6 is already the active version in easy-install.pth\n",
      "Installing pyrsa-decrypt script to /mnt/home/tmakinen/anaconda3/envs/pyjax/bin\n",
      "Installing pyrsa-encrypt script to /mnt/home/tmakinen/anaconda3/envs/pyjax/bin\n",
      "Installing pyrsa-keygen script to /mnt/home/tmakinen/anaconda3/envs/pyjax/bin\n",
      "Installing pyrsa-priv2pub script to /mnt/home/tmakinen/anaconda3/envs/pyjax/bin\n",
      "Installing pyrsa-sign script to /mnt/home/tmakinen/anaconda3/envs/pyjax/bin\n",
      "Installing pyrsa-verify script to /mnt/home/tmakinen/anaconda3/envs/pyjax/bin\n",
      "\n",
      "Using /mnt/home/tmakinen/anaconda3/envs/pyjax/lib/python3.6/site-packages/rsa-4.6-py3.6.egg\n",
      "Searching for pyasn1-modules==0.2.8\n",
      "Best match: pyasn1-modules 0.2.8\n",
      "Processing pyasn1_modules-0.2.8-py3.6.egg\n",
      "pyasn1-modules 0.2.8 is already the active version in easy-install.pth\n",
      "\n",
      "Using /mnt/home/tmakinen/anaconda3/envs/pyjax/lib/python3.6/site-packages/pyasn1_modules-0.2.8-py3.6.egg\n",
      "Searching for cachetools==4.2.0\n",
      "Best match: cachetools 4.2.0\n",
      "Processing cachetools-4.2.0-py3.6.egg\n",
      "cachetools 4.2.0 is already the active version in easy-install.pth\n",
      "\n",
      "Using /mnt/home/tmakinen/anaconda3/envs/pyjax/lib/python3.6/site-packages/cachetools-4.2.0-py3.6.egg\n",
      "Searching for requests-oauthlib==1.3.0\n",
      "Best match: requests-oauthlib 1.3.0\n",
      "Processing requests_oauthlib-1.3.0-py3.6.egg\n",
      "requests-oauthlib 1.3.0 is already the active version in easy-install.pth\n",
      "\n",
      "Using /mnt/home/tmakinen/anaconda3/envs/pyjax/lib/python3.6/site-packages/requests_oauthlib-1.3.0-py3.6.egg\n",
      "Searching for zipp==3.4.0\n",
      "Best match: zipp 3.4.0\n",
      "Processing zipp-3.4.0-py3.6.egg\n",
      "zipp 3.4.0 is already the active version in easy-install.pth\n",
      "\n",
      "Using /mnt/home/tmakinen/anaconda3/envs/pyjax/lib/python3.6/site-packages/zipp-3.4.0-py3.6.egg\n",
      "Searching for pyasn1==0.4.8\n",
      "Best match: pyasn1 0.4.8\n",
      "Processing pyasn1-0.4.8-py3.6.egg\n",
      "pyasn1 0.4.8 is already the active version in easy-install.pth\n",
      "\n",
      "Using /mnt/home/tmakinen/anaconda3/envs/pyjax/lib/python3.6/site-packages/pyasn1-0.4.8-py3.6.egg\n",
      "Searching for oauthlib==3.1.0\n",
      "Best match: oauthlib 3.1.0\n",
      "Processing oauthlib-3.1.0-py3.6.egg\n",
      "oauthlib 3.1.0 is already the active version in easy-install.pth\n",
      "\n",
      "Using /mnt/home/tmakinen/anaconda3/envs/pyjax/lib/python3.6/site-packages/oauthlib-3.1.0-py3.6.egg\n",
      "Finished processing dependencies for IMNN==0.3.dev0\n",
      "/mnt/home/tmakinen/anaconda3/envs/pyjax/bin/python: Error while finding module specification for 'setup.py' (AttributeError: module 'setup' has no attribute '__path__')\n"
     ]
    }
   ],
   "source": [
    "!python -m setup.py install"
   ]
  },
  {
   "cell_type": "markdown",
   "metadata": {},
   "source": [
    "### plot setup (run cell)"
   ]
  },
  {
   "cell_type": "code",
   "execution_count": 32,
   "metadata": {
    "jupyter": {
     "source_hidden": true
    }
   },
   "outputs": [],
   "source": [
    "# Create figures in Python that handle LaTeX, and save images to files in my\n",
    "# preferred formatting. I typically place this code in the root of each of my\n",
    "# projects, and import using:\n",
    "# from latexify import *\n",
    "# which will also run the latexify() function on the import.\n",
    "\n",
    "# Based on code from https://nipunbatra.github.io/blog/2014/latexify.html\n",
    "\n",
    "import matplotlib\n",
    "import matplotlib.pyplot as plt\n",
    "from math import sqrt\n",
    "\n",
    "#Back-end to use depends on the system\n",
    "from matplotlib.backends.backend_pgf import FigureCanvasPgf\n",
    "matplotlib.backend_bases.register_backend('pdf', FigureCanvasPgf)\n",
    "# matplotlib.use('pgf')\n",
    "# from matplotlib.backends.backend_pgf import FigureCanvasPgf\n",
    "# matplotlib.backend_bases.register_backend('ps', FigureCanvasPgf)\n",
    "\n",
    "import seaborn as sns\n",
    "sns.set_style(\"white\")\n",
    "\n",
    "#my preferred palette. From\n",
    "#https://seaborn.pydata.org/tutorial/color_palettes.html: \"The cubehelix color\n",
    "#palette system makes sequential palettes with a linear increase or decrease in\n",
    "#brightness and some variation in hue. This means that the information in your\n",
    "#colormap will be preserved when converted to black and white (for printing) or\n",
    "#when viewed by a colorblind individual.\"\n",
    "\n",
    "# I typically set the number of colors (below, 8) to the distinct colors I need\n",
    "# in a given plot, so as to use the full range.\n",
    "sns.set_palette(sns.color_palette(\"cubehelix\", 8))\n",
    "\n",
    "\n",
    "# The following is the latexify function. It allows you to create 2 column or 1\n",
    "# column figures. You may also wish to alter the height or width of the figure.\n",
    "# The default settings are good for most cases. You may also change the\n",
    "# parameters such as labelsize and fontsize based on your classfile.\n",
    "def latexify(fig_width=None, fig_height=None, columns=1):\n",
    "    \"\"\"Set up matplotlib's RC params for LaTeX plotting.\n",
    "    Call this before plotting a figure.\n",
    "    Parameters\n",
    "    ----------\n",
    "    fig_width : float, optional, inches\n",
    "    fig_height : float,  optional, inches\n",
    "    columns : {1, 2}\n",
    "    \"\"\"\n",
    "\n",
    "    # code adapted from http://www.scipy.org/Cookbook/Matplotlib/LaTeX_Examples\n",
    "    # Width and max height in inches for IEEE journals taken from\n",
    "    # computer.org/cms/Computer.org/Journal%20templates/transactions_art_guide.pdf\n",
    "\n",
    "    assert(columns in [1, 2])\n",
    "\n",
    "    if fig_width is None:\n",
    "        fig_width = 6.9 if columns == 1 else 13.8  # width in inches #3.39\n",
    "\n",
    "    if fig_height is None:\n",
    "        golden_mean = (sqrt(5) - 1.0) / 2.0    # Aesthetic ratio\n",
    "        fig_height = fig_width * golden_mean  # height in inches\n",
    "\n",
    "    MAX_HEIGHT_INCHES = 16.0\n",
    "    if fig_height > MAX_HEIGHT_INCHES:\n",
    "        print((\"WARNING: fig_height too large:\" + fig_height +\n",
    "              \"so will reduce to\" + MAX_HEIGHT_INCHES + \"inches.\"))\n",
    "        fig_height = MAX_HEIGHT_INCHES\n",
    "\n",
    "    params = {\n",
    "            # 'backend': 'ps',\n",
    "           #   'pgf.rcfonts': False,\n",
    "           #   'pgf.preamble': ['\\\\usepackage{gensymb}', '\\\\usepackage[dvipsnames]{xcolor}'],\n",
    "           #   \"pgf.texsystem\": \"pdflatex\",\n",
    "             # 'text.latex.preamble': ['\\\\usepackage{gensymb}', '\\\\usepackage[dvipsnames]{xcolor}'],\n",
    "              'text.latex.preamble': '\\\\usepackage{mathptmx}',\n",
    "              #values below are useful defaults. individual plot fontsizes are\n",
    "              #modified as necessary.\n",
    "              'axes.labelsize': 8,  # fontsize for x and y labels\n",
    "              'axes.titlesize': 8,\n",
    "              'font.size': 8,\n",
    "              'legend.fontsize': 8,\n",
    "              'xtick.labelsize': 8,\n",
    "              'ytick.labelsize': 8,\n",
    "              'text.usetex': True,\n",
    "              'figure.figsize': [fig_width, fig_height],\n",
    "              'font.family': 'serif',\n",
    "              'font.serif': 'Times',\n",
    "               'lines.linewidth': 1.5,\n",
    "               'lines.markersize':1,\n",
    "               'xtick.major.pad' : 2,\n",
    "               'ytick.major.pad' : 2,\n",
    "                'axes.xmargin' :  .0,  # x margin.  See `axes.Axes.margins`\n",
    "                'axes.ymargin' : .0,  # y margin See `axes.Axes.margins`\n",
    "              }\n",
    "\n",
    "    matplotlib.rcParams.update(params)\n",
    "\n",
    "def saveimage(name, fig = plt, extension = 'pdf', folder = 'plots/'):\n",
    "    sns.despine()\n",
    "\n",
    "    #Minor ticks off by default in matplotlib\n",
    "    # plt.minorticks_off()\n",
    "\n",
    "    #grid being off is the default for seaborn white style, so not needed.\n",
    "    # plt.grid(False, axis = \"x\")\n",
    "    # plt.grid(False, axis = \"y\")\n",
    "    \n",
    "    fig.savefig('{}{}.{}'.format(folder,name, extension), bbox_inches = 'tight')\n",
    "\n",
    "latexify()"
   ]
  },
  {
   "cell_type": "code",
   "execution_count": 1,
   "metadata": {},
   "outputs": [],
   "source": [
    "!XLA_FLAGS=--xla_gpu_cuda_data_dir=/cm/shared/sw/pkg/devel/cuda/10.1.243_418.87.00\n",
    "from jax.config import config\n",
    "config.update(\"jax_debug_nans\", True)\n",
    "config.update('jax_enable_x64', True)\n"
   ]
  },
  {
   "cell_type": "code",
   "execution_count": 2,
   "metadata": {},
   "outputs": [
    {
     "name": "stdout",
     "output_type": "stream",
     "text": [
      "jax version:  0.2.10\n",
      "IMNN version:  0.3dev\n"
     ]
    }
   ],
   "source": [
    "import itertools\n",
    "import math\n",
    "from functools import partial\n",
    "\n",
    "import numpy as onp\n",
    "\n",
    "import jax\n",
    "print(\"jax version: \", jax.__version__)\n",
    "import jax.experimental.optimizers as optimizers\n",
    "import jax.experimental.stax as stax\n",
    "import jax.numpy as np\n",
    "from jax import jit\n",
    "import matplotlib.pyplot as plt\n",
    "import scipy\n",
    "\n",
    "import imnn\n",
    "print(\"IMNN version: \", imnn.__version__)\n",
    "\n",
    "from imnn.imnn import (\n",
    "    AggregatedGradientIMNN,\n",
    "    AggregatedNumericalGradientIMNN,\n",
    "    AggregatedSimulatorIMNN,\n",
    "    GradientIMNN,\n",
    "    NumericalGradientIMNN,\n",
    "    SimulatorIMNN,\n",
    ")\n",
    "from imnn.lfi import (\n",
    "    ApproximateBayesianComputation,\n",
    "    GaussianApproximation,\n",
    ")\n",
    "from imnn.utils import value_and_jacrev, value_and_jacfwd\n",
    "\n",
    "rng = jax.random.PRNGKey(0)\n"
   ]
  },
  {
   "cell_type": "code",
   "execution_count": 3,
   "metadata": {},
   "outputs": [],
   "source": [
    "!XLA_FLAGS=--xla_cpu_enable_fast_math=false"
   ]
  },
  {
   "cell_type": "code",
   "execution_count": 4,
   "metadata": {},
   "outputs": [
    {
     "name": "stdout",
     "output_type": "stream",
     "text": [
      "gpu\n"
     ]
    }
   ],
   "source": [
    "from jax.lib import xla_bridge\n",
    "print(xla_bridge.get_backend().platform)"
   ]
  },
  {
   "cell_type": "markdown",
   "metadata": {},
   "source": [
    "# Model in STAX"
   ]
  },
  {
   "cell_type": "code",
   "execution_count": 5,
   "metadata": {},
   "outputs": [],
   "source": [
    "n_summaries = 2\n",
    "n_s = 5000\n",
    "n_d = 5000\n",
    "λ = 100.0\n",
    "ϵ = 0.1"
   ]
  },
  {
   "cell_type": "code",
   "execution_count": 6,
   "metadata": {},
   "outputs": [],
   "source": [
    "# define inception block layer\n",
    "\n",
    "def InceptBlock2(filters, strides, do_5x5=True, do_3x3=True):\n",
    "    \"\"\"InceptNet convolutional striding block.\n",
    "    filters: tuple: (f1,f2,f3)\n",
    "    filters1: for conv1x1\n",
    "    filters2: for conv1x1,conv3x3\n",
    "    filters3L for conv1x1,conv5x5\"\"\"\n",
    "    \n",
    "    filters1, filters2, filters3 = filters\n",
    "    \n",
    "    conv1x1 = stax.serial(stax.Conv(filters1, (1,1), strides, padding=\"SAME\"))\n",
    "    \n",
    "    filters4 = filters2\n",
    "    conv3x3 = stax.serial(stax.Conv(filters2, (1,1), strides=None, padding=\"SAME\"),\n",
    "                        stax.Conv(filters4, (3,3), strides, padding=\"SAME\"))\n",
    "                        \n",
    "    filters5 = filters3\n",
    "    conv5x5 = stax.serial(stax.Conv(filters3, (1,1), strides=None, padding=\"SAME\"),\n",
    "                         stax.Conv(filters5, (5,5), strides, padding=\"SAME\")) \n",
    "    \n",
    "    maxpool = stax.serial(stax.MaxPool((3,3), padding=\"SAME\"),\n",
    "                         stax.Conv(filters4, (1,1), strides, padding=\"SAME\"))\n",
    "                            \n",
    "    if do_3x3:\n",
    "        if do_5x5:\n",
    "            return stax.serial(\n",
    "                  stax.FanOut(4),  # should num=3 or 2 here ?\n",
    "                  stax.parallel(conv1x1, conv3x3, conv5x5, maxpool),\n",
    "                  stax.FanInConcat(), \n",
    "                  stax.LeakyRelu)\n",
    "        else:\n",
    "            return stax.serial(\n",
    "                  stax.FanOut(3),  # should num=3 or 2 here ?\n",
    "                  stax.parallel(conv1x1, conv3x3, maxpool),\n",
    "                  stax.FanInConcat(), \n",
    "                  stax.LeakyRelu)\n",
    "            \n",
    "    else:\n",
    "        return stax.serial(\n",
    "              stax.FanOut(2),  # should num=3 or 2 here ?\n",
    "              stax.parallel(conv1x1, maxpool),\n",
    "              stax.FanInConcat(), \n",
    "              stax.LeakyRelu)\n",
    "    \n",
    "    \n",
    "def Reshape(newshape):\n",
    "    \"\"\"Layer function for a reshape layer.\"\"\"\n",
    "    init_fun = lambda rng, input_shape: (newshape,())\n",
    "    apply_fun = lambda params, inputs, **kwargs: np.reshape(inputs,newshape)\n",
    "    return init_fun, apply_fun    \n"
   ]
  },
  {
   "cell_type": "code",
   "execution_count": 7,
   "metadata": {},
   "outputs": [],
   "source": [
    "rng,drop_rng = jax.random.split(rng)\n",
    "fs = 32 #for 128x128 sims\n",
    "               \n",
    "\n",
    "model = stax.serial(\n",
    "        InceptBlock2((fs,fs,fs), strides=(4,4)),\n",
    "        InceptBlock2((fs,fs,fs), strides=(4,4)),\n",
    "        InceptBlock2((fs,fs,fs), strides=(2,2), do_5x5=False, do_3x3=False),\n",
    "        stax.Conv(n_summaries, (1,1), strides=(1,1), padding=\"SAME\"),\n",
    "        stax.Flatten,\n",
    "        Reshape((n_summaries,))\n",
    ")"
   ]
  },
  {
   "cell_type": "code",
   "execution_count": 8,
   "metadata": {},
   "outputs": [],
   "source": [
    "optimiser = optimizers.adam(step_size=1e-3)"
   ]
  },
  {
   "cell_type": "markdown",
   "metadata": {},
   "source": [
    "# Random seeds for IMNN"
   ]
  },
  {
   "cell_type": "code",
   "execution_count": 9,
   "metadata": {},
   "outputs": [],
   "source": [
    "rng, initial_model_key = jax.random.split(rng)\n",
    "rng, fitting_key = jax.random.split(rng)"
   ]
  },
  {
   "cell_type": "markdown",
   "metadata": {},
   "source": [
    "# Random seeds for ABC"
   ]
  },
  {
   "cell_type": "code",
   "execution_count": 10,
   "metadata": {},
   "outputs": [],
   "source": [
    "rng, abc_key = jax.random.split(rng)"
   ]
  },
  {
   "cell_type": "markdown",
   "metadata": {},
   "source": [
    "# 2D Gaussian Field Simulator in JAX"
   ]
  },
  {
   "cell_type": "markdown",
   "metadata": {},
   "source": [
    "Steps to creating $(N \\times N)$ 2D Gaussian field for IMNN:\n",
    "1. Generate a $(N\\times N)$ white noise field $\\varphi$ such that $\\langle \\varphi_k \\varphi_{-k} \\rangle' = 1$\n",
    "2. Fourier Transform $\\varphi$ to real space: $R_{\\rm white}(\\textbf{x}) \\rightarrow R_{\\rm white}(\\textbf{k})$\n",
    "    - note: NumPy's DFT Fourier convention is:\n",
    "    $$\\phi_{ab}^{\\textbf{k}} = \\sum_{c,d = 0}^{N-1} \\exp{(-i x_c k_a - i x_d k_b) \\phi^{\\textbf{x}}_{cd}}$$\n",
    "    $$\\phi_{ab}^{\\textbf{x}} = \\frac{1}{N^2}\\sum_{c,d = 0}^{N-1} \\exp{(-i x_c k_a - i x_d k_b) \\phi^{\\textbf{k}}_{cd}}$$    \n",
    "3. Scale white noise $R_{\\rm white}(\\textbf{k})$ by the chosen power spectrum evaluated over a field of $k$ values:\n",
    "$$ R_P(\\textbf{k}) = P^{1/2}(k) R_{\\rm white}(\\textbf{k}) $$\n",
    "    - note: here we need to ensure that this array of amplitudes is Hermitian, e.g. $\\phi^{* \\textbf{k}}_{a(N/2 + b)} = \\phi^{\\textbf{k}}_{a(N/2 - b)}$. This is accomplished by choosing indexes $k_a = k_b = \\frac{2\\pi}{N} (0, \\dots, N/2, -N/2+1, \\dots, -1)$ and then evaluating the square root of the outer product of the meshgrid between the two: $k = \\sqrt{k^2_a + k^2_b}$. We can then evaluate $P^{1/2}(k)$.\n",
    "    \n",
    "4. Fourier Transform $R_{P}(\\textbf{k})$ to real space: $ R_P(\\textbf{x}) = \\int d^d \\tilde{k} e^{i\\textbf{k} \\cdot \\textbf{x}} R_p(\\textbf{k}) $:\n",
    "\n",
    "$$R_{ab}^{\\textbf{x}} = \\frac{1}{N^2}\\sum_{c,d = 0}^{N-1} \\exp{(-i x_c k_a - i x_d k_b) R^{\\textbf{k}}_{cd}}$$"
   ]
  },
  {
   "cell_type": "code",
   "execution_count": 11,
   "metadata": {},
   "outputs": [],
   "source": [
    "# SET 32-BiT floats for model !\n",
    "θ_fid = np.array([1.0, 0.5], dtype=np.float32)\n",
    "δθ = np.array([0.1, 0.1], dtype=np.float32)\n",
    "n_params = 2\n",
    "N = 32\n",
    "dim = 2\n",
    "L = 32\n",
    "\n",
    "field_shape = (N,N)\n",
    "input_shape = (1,1, N,N)\n",
    "simulator_args = {\"N\": N, \"L\": L, \"dim\": dim, \"shape\": field_shape, 'vol_norm': False, \"N_scale\": True, \"squeeze\": False}"
   ]
  },
  {
   "cell_type": "markdown",
   "metadata": {},
   "source": [
    "# simulator class for a Powerbox in Jax\n",
    "Attributes:\n",
    "- simulator for Gaussian fields from input power spectrum\n",
    "- analytic Fisher information computation at a given $\\theta$"
   ]
  },
  {
   "cell_type": "code",
   "execution_count": 12,
   "metadata": {},
   "outputs": [],
   "source": [
    "rng,fg_key = jax.random.split(rng)\n",
    "foregrounds = jax.random.normal(fg_key, (1000, 1,) + simulator_args['shape'])*0\n",
    "\n",
    "\n",
    "def default_P(k, A, B):\n",
    "    return A*k**-B\n",
    "\n",
    "\n",
    "class powerBoxJax:\n",
    "    def __init__(self, shape, pk=None, k=None):\n",
    "        \n",
    "        if pk is None:\n",
    "            self.pk = default_P\n",
    "        else:\n",
    "            self.pk = pk\n",
    "            \n",
    "        if k is None:\n",
    "            self.k = np.sqrt(np.sum(np.array(np.meshgrid(*(\n",
    "                (np.hstack((np.arange(0, _shape//2 + 1), \n",
    "                    np.arange(-_shape//2 + 1, 0))) * 2*np.pi / _shape)**2\n",
    "                    for _shape in shape))), axis=0))\n",
    "        else:\n",
    "            self.k = k\n",
    "            \n",
    "        self.shape = shape\n",
    "        self.N = shape[0]\n",
    "        \n",
    "    def simulator(self, rng, θ, simulator_args=simulator_args, add_foregrounds=False):\n",
    "        def P(k, A=1, B=1):\n",
    "            return self.pk(k, A, B)\n",
    "\n",
    "        def fn(key, A, B):\n",
    "            shape = self.shape #simulator_args[\"shape\"]\n",
    "\n",
    "            k = self.k\n",
    "\n",
    "            new_shape = ()\n",
    "            for _shape in shape:\n",
    "                if _shape % 2 == 0:\n",
    "                    new_shape += (_shape+1,)\n",
    "                else:\n",
    "                    new_shape += (_shape,)\n",
    "\n",
    "\n",
    "            key1,key2 = jax.random.split(key)\n",
    "    \n",
    "            if add_foregrounds:\n",
    "                foreground = foregrounds[jax.random.randint(key2, \n",
    "                                            minval=0, maxval=1000, shape=())]\n",
    "            else:\n",
    "                foreground = 0.\n",
    "\n",
    "            # L is in length units, like Gpc\n",
    "            L = simulator_args['L']\n",
    "            dim = simulator_args['dim']\n",
    "\n",
    "            if np.isscalar(L):\n",
    "                L = [L]*int(dim)\n",
    "\n",
    "            else:\n",
    "                L = np.array(L)\n",
    "\n",
    "\n",
    "            V = np.prod(np.array(L))\n",
    "\n",
    "            scale = V**(1./dim)\n",
    "\n",
    "            Lk = ()\n",
    "\n",
    "            _N = 1\n",
    "            for i,_shape in enumerate(shape):\n",
    "                _N *= _shape\n",
    "                Lk += (_shape / L[i],) # 1 / dx\n",
    "\n",
    "\n",
    "            fft_norm = np.prod(np.array(Lk))\n",
    "\n",
    "            _dims = len(shape)\n",
    "            tpl = ()\n",
    "            for _d in range(_dims):\n",
    "                tpl += (_d,)\n",
    "\n",
    "            # POWERBOX IMPLEMENTATION\n",
    "\n",
    "            mag = jax.random.normal(key1, shape=tuple(N for N in new_shape))\n",
    "            \n",
    "            # random phases\n",
    "            pha = 2 * np.pi * jax.random.uniform(key1, shape=tuple(N for N in new_shape))\n",
    "            \n",
    "            # now make hermitian field (reality condition)\n",
    "            revidx = (slice(None, None, -1),) * len(mag.shape)\n",
    "            mag = (mag + mag[revidx]) / np.sqrt(2) \n",
    "            pha = (pha - pha[revidx]) / 2 + np.pi\n",
    "            dk = mag * (np.cos(pha) + 1j * np.sin(pha)) # output is complex\n",
    "\n",
    "            cutidx = (slice(None, -1),) * len(new_shape)\n",
    "\n",
    "            dk = dk[cutidx]\n",
    "            powers = np.concatenate((np.zeros(1), \n",
    "                        np.sqrt(P(k.flatten()[1:], A=A, B=B)))).reshape(k.shape)\n",
    "\n",
    "            # normalize power by volume\n",
    "            if simulator_args['vol_norm']:\n",
    "                powers = powers/V\n",
    "\n",
    "            fourier_field = powers * dk\n",
    "\n",
    "            fourier_field = jax.ops.index_update(\n",
    "                fourier_field,\n",
    "                np.zeros(len(shape), dtype=int),\n",
    "                np.zeros((1,)))\n",
    "            \n",
    "            field = np.real(np.fft.ifftn(fourier_field) * fft_norm * V)\n",
    "            \n",
    "            if simulator_args[\"N_scale\"]:\n",
    "                field *= scale\n",
    "\n",
    "            field = np.expand_dims(field + foreground, (0,))\n",
    "\n",
    "\n",
    "            if not simulator_args[\"squeeze\"]:\n",
    "                field = np.expand_dims(field, (0,))\n",
    "\n",
    "            return np.array(field, dtype='float32')\n",
    "\n",
    "        shape = self.shape\n",
    "        A, B = θ\n",
    "\n",
    "\n",
    "        if A.shape == B.shape:\n",
    "            if len(A.shape) == 0:\n",
    "                return fn(rng, A, B)\n",
    "            else:\n",
    "                keys = jax.random.split(rng, num=A.shape[0] + 1)\n",
    "                rng = keys[0]\n",
    "                keys = keys[1:]\n",
    "                return jax.vmap(\n",
    "                    lambda key, A, B: simulator(key, (A, B), simulator_args=simulator_args)\n",
    "                )(keys, A, B)\n",
    "        else:\n",
    "            if len(A.shape) > 0:\n",
    "                keys = jax.random.split(rng, num=A.shape[0] + 1)\n",
    "                rng = keys[0]\n",
    "                keys = keys[1:]\n",
    "                return jax.vmap(\n",
    "                    lambda key, A: simulator(key, (A, B), simulator_args=simulator_args)\n",
    "                )(keys, A)\n",
    "            elif len(B.shape) > 0:\n",
    "                keys = jax.random.split(rng, num=B.shape[0])\n",
    "                return jax.vmap(\n",
    "                    lambda key, B: simulator(key, (A, B), simulator_args=simulator_args)\n",
    "                )(keys, B)\n",
    "\n",
    "\n",
    "\n",
    "    def AnalyticFisher(self, \n",
    "               θ, \n",
    "               kvec=None,\n",
    "               N=None\n",
    "              ):\n",
    "        \"\"\"\n",
    "        Code for computing the Analytic Fisher for a Gaussian\n",
    "        Field with power spectrum P(k) = Ak^-B\n",
    "        \"\"\"\n",
    "        A,B = θ\n",
    "        if N is None:\n",
    "            N = self.N\n",
    "        \n",
    "        # we want all UNIQUE fourier modes\n",
    "        if kvec is None:\n",
    "            kvec = self.k[1:N//2, 1:N//2]\n",
    "\n",
    "        pk = lambda k : A*(k**-B)             # P(k) = Ak^(-B)\n",
    "        p_a = lambda k : k**-B                # deriv w.r.t. A\n",
    "        p_b = lambda k : -A*(k**-B)*np.log(k) # deriv w.r.t. B\n",
    "\n",
    "\n",
    "        powers = (pk(kvec.flatten()[:]))#np.concatenate((np.ones(1), \n",
    "            \n",
    "\n",
    "        powera =  (p_a(kvec.flatten()[:])) #np.concatenate((np.zeros(1), \n",
    "           \n",
    "\n",
    "        powerb = (p_b(kvec.flatten()[:])) #np.concatenate((np.zeros(1), \n",
    "            \n",
    "\n",
    "\n",
    "        Cinv = np.diag(1. / powers)          # diagonal inv. covariance\n",
    "        Ca =  np.diag(powera / 1.)           # C_{,A}\n",
    "        Cb =  np.diag(powerb / 1.)           # C_{,B}\n",
    "\n",
    "        Faa = 0.5 * np.trace((Ca @ Cinv @ Ca @ Cinv))\n",
    "        Fab = 0.5 * np.trace((Ca @ Cinv @ Cb @ Cinv))\n",
    "        Fba = 0.5 * np.trace((Cb @ Cinv @ Ca @ Cinv))\n",
    "        Fbb = 0.5 * np.trace((Cb @ Cinv @ Cb @ Cinv))\n",
    "\n",
    "        return np.array([[Faa, Fab], [Fba, Fbb]])\n",
    "\n"
   ]
  },
  {
   "cell_type": "markdown",
   "metadata": {},
   "source": [
    "# analytic likelihood class\n",
    "- return the log-likelihood (computed on a grid) for power spectrum parameters for Gaussian Fields\n",
    "- takes in a PowerboxJax simulator object `PBJ` and fourier-transformed field target data `Δ_target`\n",
    "methods:\n",
    "- `get_likelihood`: return likelihood marginal on a grid\n",
    "- `plot_contours`: plot likelihood contours on a meshgrid\n",
    "- `plot_corner`: plot liklihood contours, target crosshairs, and image data on a 2x2 corner plot"
   ]
  },
  {
   "cell_type": "code",
   "execution_count": 116,
   "metadata": {},
   "outputs": [],
   "source": [
    "class analyticFieldLikelihood:\n",
    "\n",
    "    def __init__(self,\n",
    "                 PBJ, \n",
    "                 field_shape,\n",
    "                 Δ_target,\n",
    "                 prior,\n",
    "                 k=None,\n",
    "                 pk=None,\n",
    "                 gridsize=20, \n",
    "                 tiling=2):\n",
    "\n",
    "        \"\"\"code for computing a gaussian field's likelihood for power spectrum parameters\n",
    "            PBJ :         powerBox simulator object\n",
    "            field_shape : list. shape of field input\n",
    "            Δ :           array-like. FFT of the real-space field\n",
    "            prior :       array-like. range over which to compute the likelihood\n",
    "            k :           array-like. fourier modes over which to compute P(k)\n",
    "            tiling :      list or int. tiling=2 means likelihood will be computed as 2x2 grid\n",
    "            gridsize :    how large to make the likelihood surface\n",
    "        \"\"\"\n",
    "        \n",
    "        \n",
    "        if k is None:\n",
    "            self.k = PBJ.k\n",
    "\n",
    "        if pk is None:\n",
    "            self.pk = PBJ.pk\n",
    "\n",
    "        self.field_shape = field_shape\n",
    "        self.gridsize = gridsize\n",
    "        if np.isscalar(tiling):\n",
    "            self.tiling = [tiling]*2\n",
    "        else:\n",
    "            self.tiling = tiling    \n",
    "        #self.tilesize = gridsize // tiling\n",
    "        self.N = np.sqrt(np.prod(np.array(field_shape)))  # should just be N for NxN grid\n",
    "        self.prior = prior\n",
    "\n",
    "        self.k = k\n",
    "        self.Δ = Δ_target\n",
    "\n",
    "    def Pk(self, k, A=1, B=0.5):\n",
    "        return self.pk(k, A, B)\n",
    "\n",
    "\n",
    "        return np.diag(pk)\n",
    "    def log_likelihood(self, k, A, B, Δ):\n",
    "        Δ = Δ.flatten()[:]\n",
    "        k = k\n",
    "\n",
    "        dlength = len(k.flatten())\n",
    "\n",
    "        def fn(_A, _B):\n",
    "\n",
    "            nrm = np.pad(np.ones(dlength-2)*2, (1,1), constant_values=1.)\n",
    "            nrm = jax.ops.index_update(\n",
    "              nrm, np.array([[0],[(dlength-2)]]), np.array([[1],[1]]))\n",
    "            nrm = 1\n",
    "\n",
    "            powers = self.Pk(k.flatten()[:], A=_A, B=_B)\n",
    "\n",
    "            # covariance is P(k)\n",
    "            C = powers * nrm\n",
    "            invC = 1./self.Pk(k.flatten()[:], A=_A, B=_B)\n",
    "\n",
    "            logdetC = np.sum(np.log(C))\n",
    "            pi2 = np.pi * 2.\n",
    "            m_half_size = -0.5 * len(Δ)\n",
    "            exponent = - 0.5 * np.sum(np.conj(Δ) * invC * Δ)\n",
    "            norm = -0.5 * logdetC + m_half_size*np.log(pi2) \n",
    "            return (exponent + norm)\n",
    "        return jax.vmap(fn)(A, B)\n",
    "\n",
    "    def get_likelihood(self, return_grid=False, shift=None):\n",
    "        A_start = self.prior[0][0]\n",
    "        A_end = self.prior[1][0]\n",
    "        B_start = self.prior[0][1]\n",
    "        B_end = self.prior[1][1]\n",
    "\n",
    "        region_size = [self.gridsize // self.tiling[i] for i in range(len(self.tiling))]\n",
    "\n",
    "        print(\"computing likelihood on a %dx%d grid \\n \\\n",
    "        in tiles of size %dx%d\"%(self.gridsize, self.gridsize, region_size[0], region_size[1]))\n",
    "\n",
    "\n",
    "        def get_like_region(A0, A1, B0, B1, qsize):\n",
    "            A_range = np.linspace(A0, A1, qsize)\n",
    "            B_range = np.linspace(B0, B1, qsize)\n",
    "            A, B = np.meshgrid(A_range, B_range)\n",
    "\n",
    "            return (self.log_likelihood(self.k,\n",
    "                A.ravel(), B.ravel(), self.Δ).reshape(qsize,qsize))\n",
    "\n",
    "\n",
    "\n",
    "        A_incr = (A_end - A_start) / self.tiling[0]\n",
    "        B_incr = (B_end - B_start) / self.tiling[1]\n",
    "\n",
    "        # marks the ends of linspace\n",
    "        A_starts = [A_start + (i)*A_incr for i in range(self.tiling[0])]\n",
    "        A_ends = [A_start + (i+1)*A_incr for i in range(self.tiling[0])]\n",
    "        B_starts = [B_start + (i)*B_incr for i in range(self.tiling[1])]\n",
    "        B_ends = [B_start + (i+1)*B_incr for i in range(self.tiling[1])]\n",
    "\n",
    "        _like_cols = []\n",
    "        for _col in range(self.tiling[0]):\n",
    "            # slide horizontally in A\n",
    "            _like_row = []\n",
    "            for _row in range(self.tiling[1]):\n",
    "                # slide vertically in B\n",
    "\n",
    "                _like = get_like_region(A_starts[_row], \n",
    "                                        A_ends[_row], \n",
    "                                        B_starts[_col], \n",
    "                                        B_ends[_col],\n",
    "                                        region_size[0],\n",
    "                                        )\n",
    "                _like_row.append(_like)\n",
    "\n",
    "            _like_cols.append(np.concatenate(_like_row, axis=1))\n",
    "\n",
    "        _log_likelihood = np.real(np.concatenate(_like_cols, axis=0))\n",
    "\n",
    "        if shift is None:\n",
    "            shift = np.max(_log_likelihood)\n",
    "\n",
    "        #print('shift', shift)\n",
    "        print('loglike mean', np.mean(_log_likelihood))\n",
    "\n",
    "        #_log_likelihood = _log_likelihood - shift\n",
    "\n",
    "        if return_grid:\n",
    "            _A_range = np.linspace(self.prior[0,0], self.prior[1,0], self.gridsize)\n",
    "            _B_range = np.linspace(self.prior[0,0], self.prior[1,0], self.gridsize)\n",
    "            return (_log_likelihood), _A_range, _B_range\n",
    "\n",
    "        return (_log_likelihood)\n",
    "\n",
    "\n",
    "\n",
    "    def plot_contours(self, ax=None, \n",
    "                      θ_ref=None, shift=None, \n",
    "                      xlabel='A', ylabel='B', \n",
    "                      return_like=True):\n",
    "\n",
    "        _like, _A, _B = self.get_likelihood(return_grid=True, shift=shift)\n",
    "        _like = scipy.special.softmax(np.real(_like))\n",
    "\n",
    "        _A, _B = np.meshgrid(_A, _B)\n",
    "\n",
    "        if ax is None:\n",
    "            fig,ax = plt.subplots(figsize=(10,10))\n",
    "\n",
    "        mesh = ax.contourf(_A, _B, _like)\n",
    "        plt.colorbar(mesh, ax=ax)\n",
    "\n",
    "        if θ_ref is not None:\n",
    "            ax.scatter(θ_ref[0], θ_ref[1], zorder=10, marker='+', s=100, color='r')\n",
    "\n",
    "        ax.set_xlabel('A')\n",
    "        ax.set_ylabel('B')\n",
    "\n",
    "        if return_like:\n",
    "            return _like, ax\n",
    "\n",
    "        else:\n",
    "            return ax\n",
    "        \n",
    "\n",
    "    def plot_corner(self, ax=None, θ_ref=None, label=\"Analytic likelihood\", \n",
    "                    image_data=None, return_like=False, color=None):\n",
    "\n",
    "        _like, _A_range, _B_range = self.get_likelihood(return_grid=True)\n",
    "\n",
    "        likelihoodA = scipy.special.softmax(np.real(_like)).sum(0) #np.real(likelihood).sum(0)\n",
    "        likelihoodA /= likelihoodA.sum() * (_A_range[1] -  _A_range[0])\n",
    "        likelihoodB =  scipy.special.softmax(np.real(_like)).sum(1) #np.real(likelihood).sum(1)\n",
    "        likelihoodB /= likelihoodB.sum() * (_B_range[1] -  _B_range[0])\n",
    "\n",
    "        _like = scipy.special.softmax(np.real(_like))\n",
    "        sorted_marginal = np.sort(_like.flatten())[::-1]\n",
    "        cdf = np.cumsum(sorted_marginal / sorted_marginal.sum())\n",
    "        value = []\n",
    "        for level in [0.997, 0.95, 0.68]:\n",
    "            this_value = sorted_marginal[np.argmin(np.abs(cdf - level))]\n",
    "            if len(value) == 0:\n",
    "                value.append(this_value)\n",
    "            elif this_value <= value[-1]:\n",
    "                break\n",
    "            else:\n",
    "                value.append(this_value)\n",
    "\n",
    "        if ax is None:\n",
    "            fig,ax = plt.subplots(nrows=2, ncols=2)\n",
    "            \n",
    "        if color is None:\n",
    "            color = 'C2'\n",
    "\n",
    "        ax[1,0].contour(_A_range, _B_range, _like, levels=value, colors=color, alpha=0.7)\n",
    "        ax[0,0].plot(_A_range, likelihoodA, color=color, label=None, alpha=0.7)\n",
    "        ax[1,1].plot(likelihoodB, _B_range, color=color, label='loglike', alpha=0.7)\n",
    "        \n",
    "        if image_data is not None:\n",
    "            ax[0,1].imshow(np.squeeze(image_data))\n",
    "        else:\n",
    "            ax[0,1].axis(\"off\")\n",
    "\n",
    "        if θ_ref is not None:\n",
    "            ax[0,0].axvline(θ_ref[0], linestyle='--', c='k')\n",
    "            ax[1,0].axvline(θ_ref[0], linestyle='--', c='k')\n",
    "            ax[1,0].axhline(θ_ref[1], linestyle='--', c='k')\n",
    "            ax[1,1].axhline(θ_ref[1], linestyle='--', c='k', label=r'$\\theta_{\\rm ref}$')\n",
    "\n",
    "        ax[1,0].set_xlabel(r'$A$')\n",
    "        ax[1,0].set_ylabel(r'$B$')\n",
    "        \n",
    "        if return_like:\n",
    "            return ax,_like\n",
    "\n",
    "        else:\n",
    "            return ax"
   ]
  },
  {
   "cell_type": "code",
   "execution_count": 14,
   "metadata": {},
   "outputs": [],
   "source": [
    "PBJ = powerBoxJax(simulator_args['shape'])\n",
    "simulator = PBJ.simulator"
   ]
  },
  {
   "cell_type": "markdown",
   "metadata": {},
   "source": [
    "## sim and gradient"
   ]
  },
  {
   "cell_type": "code",
   "execution_count": 15,
   "metadata": {},
   "outputs": [],
   "source": [
    "def simulator_gradient(rng, θ, simulator_args=simulator_args):\n",
    "    return value_and_jacrev(simulator, argnums=1, allow_int=True, holomorphic=True)(rng, θ, simulator_args=simulator_args)"
   ]
  },
  {
   "cell_type": "code",
   "execution_count": 16,
   "metadata": {},
   "outputs": [],
   "source": [
    "rng, key = jax.random.split(rng)"
   ]
  },
  {
   "cell_type": "code",
   "execution_count": 17,
   "metadata": {},
   "outputs": [
    {
     "data": {
      "text/plain": [
       "(32, 32)"
      ]
     },
     "execution_count": 17,
     "metadata": {},
     "output_type": "execute_result"
    }
   ],
   "source": [
    "field_shape"
   ]
  },
  {
   "cell_type": "code",
   "execution_count": 18,
   "metadata": {},
   "outputs": [
    {
     "data": {
      "image/png": "[encoded data removed]",
      "text/plain": [
       "<Figure size 432x288 with 2 Axes>"
      ]
     },
     "metadata": {
      "needs_background": "light"
     },
     "output_type": "display_data"
    },
    {
     "data": {
      "image/png": "[encoded data removed]",
      "text/plain": [
       "<Figure size 432x288 with 2 Axes>"
      ]
     },
     "metadata": {
      "needs_background": "light"
     },
     "output_type": "display_data"
    }
   ],
   "source": [
    "# plot example simulation and derivative\n",
    "deriv_args = {\"N\": N, \"L\": L, \"dim\": dim, \"shape\": field_shape, \"vol_norm\": True, \"N_scale\": True, \"squeeze\": False}\n",
    "simulation, simulation_gradient = value_and_jacfwd(simulator, argnums=1)(rng, θ_fid, simulator_args=deriv_args)\n",
    "\n",
    "plt.imshow(np.squeeze(simulation[0]), extent=(0,1,0,1))\n",
    "plt.colorbar()\n",
    "plt.title('example simulation')\n",
    "plt.show()\n",
    "\n",
    "plt.imshow(np.squeeze(simulation_gradient[0].T[0].T), extent=(0,1,0,1))\n",
    "plt.title('gradient of simulation')\n",
    "plt.colorbar()\n",
    "plt.show()"
   ]
  },
  {
   "cell_type": "code",
   "execution_count": 19,
   "metadata": {},
   "outputs": [],
   "source": [
    "def get_simulations(rng, n_s, θ, simulator_args=simulator_args):\n",
    "    def get_simulator(key):\n",
    "        return simulator(key, θ, simulator_args=simulator_args)\n",
    "\n",
    "    keys = jax.random.split(rng, num=n_s)\n",
    "    return jax.vmap(get_simulator)(np.array(keys))\n",
    "\n",
    "\n",
    "def get_simulation_gradients(rng, n_s, n_d, θ, simulator_args=simulator_args):\n",
    "    def get_batch_gradient(key):\n",
    "        return simulator_gradient(key, θ, simulator_args=simulator_args)\n",
    "\n",
    "    keys = jax.random.split(rng, num=n_s)\n",
    "    return jax.vmap(get_batch_gradient)(np.array(keys)[:n_d])"
   ]
  },
  {
   "cell_type": "markdown",
   "metadata": {},
   "source": [
    "# known analytic Fisher information"
   ]
  },
  {
   "cell_type": "markdown",
   "metadata": {},
   "source": [
    "For a gaussian field, the likelihood is written\n",
    "$$     \\mathcal{L}(\\Delta | \\theta) = \\frac{1}{(2\\pi)^{N_p / 2} \\det(C)^{1/2}}\\exp{\\left(-\\frac{1}{2} \\Delta C^{-1} \\Delta \\right)}$$\n",
    "\n",
    "Where $\\Delta \\in \\mathbb{R}^{N_p},\\ N_p=N_k=V=N\\times N$ is the Fourier Transform of the observed real-space field.\n",
    "This yields a Fisher information matrix of\n",
    "\n",
    "$$F_{\\alpha \\beta} = \\langle -\\frac{\\partial^2 \\ln \\mathcal{L}}{\\partial \\lambda_\\alpha \\partial \\lambda_\\beta} \\rangle= \\frac{1}{2} {\\rm Tr} (C_{, \\alpha} C^{-1} C_{, \\beta} C^{-1}) $$\n",
    "where the covariance is\n",
    "$$ C_{k_i, k_j} =  P(k_i)\\delta_{ij}$$\n",
    "The associated derivatives for a power law $P(k) = Ak^{-B}$ are\n",
    "$$\\begin{align}\n",
    "    C_{,A} &= \\left( k^{-B} \\right)\\delta_{ij} \\\\\n",
    "    C_{,B} &= \\left( -Ak^{-B}\\ln k \\right) \\delta_{ij}\n",
    "\\end{align} $$\n",
    "\n",
    "We notice that the Fisher information is *only* a function of the power spectrum parameters. It tells us the curvature of the chosen model (likelihood function) at a given $\\theta$. The analytic Fisher information is the maximum amount of information we can expect the IMNN to extract from our simulations.\n"
   ]
  },
  {
   "cell_type": "markdown",
   "metadata": {},
   "source": [
    "<!-- Alternatively, we can explore a volume integral analytically from the definition of C :\n",
    "where the Fisher matrix is given by\n",
    "$$ F_{\\alpha \\beta} = \\sum_k \\frac{1}{(\\delta P_k)^2} \\frac{\\partial P_k}{\\partial \\lambda_\\alpha} \\frac{\\partial P_k}{\\partial \\lambda_\\beta}$$\n",
    "and the error on $P_k$ is given (for a square, 2D box) as\n",
    "$$ \\delta P_k = \\sqrt{\\frac{2}{k (\\Delta k) V} } \\left( P_k + \\frac{1}{\\bar{n}} \\right) $$ -->"
   ]
  },
  {
   "cell_type": "markdown",
   "metadata": {},
   "source": [
    "<!-- For a gaussian field, the likelihood is written\n",
    "$$ \\ln \\mathcal{L}(\\theta | \\vec{d}) = \\ln \\mathcal{L}(\\theta | \\Delta) = \\sqrt{\\frac{1}{2\\pi C}} \\exp{\\frac{-{\\Delta}^2}{2C}}$$\n",
    "\n",
    "where $\\vec{d} = \\Delta$ is the overdensity field (in a cosmological context this is the measured temperature or galaxy count in a sky survey). Given that the power spectrum describes the correlations at different scales $k$, we can define the correlation via the power spectrum $C = P(k) = Ak^{-B}$ to compute the log-likelihood. The Fisher information matrix, given as \n",
    "$$ F_{\\alpha \\beta} = \\langle - \\frac{\\partial^2 \\ln \\mathcal{L}}{\\partial \\theta_\\alpha \\partial \\theta_\\beta} \\rangle $$\n",
    "can then be computed analytically for our likelihood:\n",
    "$$ F_{\\alpha \\beta} = \\sum_k \\frac{1}{(\\delta P_k)^2} \\frac{\\partial P_k}{\\partial \\theta_\\alpha} \\frac{\\partial P_k}{\\partial \\theta_\\beta} $$\n",
    "\n",
    "where $\\delta P_k = \\sqrt{\\frac{2}{4\\pi \\Delta k V k_{\\rm tot}^2}} (P_k + \\frac{1}{\\bar{n}})$ is the error on $P_k$ with survey volume $V$, sampling interval $\\Delta k$, and shot noise $1/\\bar{n}$. Using the fact that $d\\ln P_k = \\frac{d P_k}{P_k}$, we can rewrite the sum as an integral:\n",
    "$$ F_{\\alpha \\beta} = 2 \\pi \\left( \\frac{V_{\\rm eff}}{\\lambda^3} \\right) \\int_{k_{\\rm min}}^{k_{\\rm max}} d \\ln k  \\frac{\\partial \\ln P_k}{\\partial \\theta_\\alpha} \\frac{\\partial \\ln P_k}{\\partial \\theta_\\beta}$$\n",
    "\n",
    "Where $V_{\\rm eff}$ and $\\lambda^3$ are our effective windowed survey size and survey extent, respectively (set to 1 for now). Doing the integration explicitly, we obtain the Fisher matrix for parameters $\\theta = (A, B)$:\n",
    "$$ F = 2 \\pi \\left( \\frac{V_{\\rm eff}}{\\lambda^3} \\right) \\begin{bmatrix}\n",
    "    \\frac{1}{A^2} \\ln (\\frac{k_{\\rm max}}{k_{\\rm min}}) & \\frac{1}{2A} ((\\ln k_{\\rm min})^2 - (\\ln k_{\\rm max})^2)  \\\\\n",
    "     \\frac{1}{2A} ((\\ln k_{\\rm min})^2 - (\\ln k_{\\rm max})^2) & \\frac{1}{3}((\\ln k_{\\rm max})^3 - (\\ln k_{\\rm min})^3)   \\\\\n",
    "\\end{bmatrix}$$\n",
    " -->\n"
   ]
  },
  {
   "cell_type": "markdown",
   "metadata": {},
   "source": [
    "For our fiducial model with our data vector of size $128^2$, our $\\rm det|F|$ reads:"
   ]
  },
  {
   "cell_type": "code",
   "execution_count": 20,
   "metadata": {},
   "outputs": [
    {
     "data": {
      "text/plain": [
       "DeviceArray([1. , 0.5], dtype=float32)"
      ]
     },
     "execution_count": 20,
     "metadata": {},
     "output_type": "execute_result"
    }
   ],
   "source": [
    "θ_fid"
   ]
  },
  {
   "cell_type": "code",
   "execution_count": 21,
   "metadata": {},
   "outputs": [
    {
     "name": "stdout",
     "output_type": "stream",
     "text": [
      "analytic F(θ_fid):  [[112.5        -88.08135241]\n",
      " [-88.08135241  92.25651195]]\n",
      "analytic det(F(θ_fid)):  2620.5329515016588\n"
     ]
    }
   ],
   "source": [
    "N = simulator_args[\"N\"]\n",
    "shape = simulator_args[\"shape\"]\n",
    "\n",
    "kbin = np.sqrt(np.sum(np.array(np.meshgrid(*(\n",
    "    np.hstack((np.arange(0, _shape//2 + 1), \n",
    "        np.arange(-_shape//2 + 1, 0))) *2* np.pi / _shape\n",
    "        for _shape in shape)))**2, axis=0))\n",
    "\n",
    "\n",
    "f_expected = PBJ.AnalyticFisher(θ_fid, kvec=None, N=N)\n",
    "print(\"analytic F(θ_fid): \", f_expected)\n",
    "\n",
    "detf_expected = np.linalg.det(f_expected)\n",
    "print(\"analytic det(F(θ_fid)): \", detf_expected)"
   ]
  },
  {
   "cell_type": "code",
   "execution_count": 22,
   "metadata": {},
   "outputs": [],
   "source": [
    "# MAKE SIMULATION\n",
    "N = simulator_args[\"N\"]\n",
    "shape = (N,N)\n",
    "\n",
    "θ_sim = np.array([0.7, 0.8])\n",
    "simulator_args = {\"N\": N, \"L\": L, \"dim\": dim, \"shape\": shape, \"vol_norm\": True, \"N_scale\": False, \"squeeze\": True}\n",
    "simulator_args[\"shape\"] = (N,N)\n",
    "simkey,rng = jax.random.split(rng)\n",
    "#sim = np.squeeze(target_data)#\n",
    "sim = np.squeeze(simulator(simkey, θ_sim, simulator_args=simulator_args))\n",
    "sim_fft = (np.fft.fft2(sim)) #/ (N**2)"
   ]
  },
  {
   "cell_type": "code",
   "execution_count": 23,
   "metadata": {},
   "outputs": [],
   "source": [
    "# PLOT ANALYTIC POSTERIOR\n",
    "# IGNORE FIRST FOURIER MODE -- no information here !\n",
    "gridsize = 100                # for likelihood gridding\n",
    "Δ = sim_fft[1:N//2, 1:N//2]\n",
    "k = kbin[1:N//2, 1:N//2]  \n",
    "prior_range = np.array([[0.1, 0.1], [1.25, 1.25]])\n",
    "AL = analyticFieldLikelihood(PBJ, shape, Δ, prior_range, k=k, gridsize=gridsize, tiling=[5,5])"
   ]
  },
  {
   "cell_type": "code",
   "execution_count": 24,
   "metadata": {},
   "outputs": [
    {
     "name": "stdout",
     "output_type": "stream",
     "text": [
      "computing likelihood on a 100x100 grid \n",
      "         in tiles of size 20x20\n",
      "loglike mean -257.24222926224957\n"
     ]
    },
    {
     "data": {
      "image/png": "[encoded data removed]",
      "text/plain": [
       "<Figure size 432x288 with 4 Axes>"
      ]
     },
     "metadata": {
      "needs_background": "light"
     },
     "output_type": "display_data"
    }
   ],
   "source": [
    "#plt.style.use('default')\n",
    "ax = AL.plot_corner(θ_ref=θ_sim, image_data=sim)"
   ]
  },
  {
   "cell_type": "code",
   "execution_count": 25,
   "metadata": {},
   "outputs": [
    {
     "data": {
      "text/plain": [
       "{'N': 32,\n",
       " 'L': 32,\n",
       " 'dim': 2,\n",
       " 'shape': (32, 32),\n",
       " 'vol_norm': True,\n",
       " 'N_scale': False,\n",
       " 'squeeze': True}"
      ]
     },
     "execution_count": 25,
     "metadata": {},
     "output_type": "execute_result"
    }
   ],
   "source": [
    "simulator_args"
   ]
  },
  {
   "cell_type": "code",
   "execution_count": 26,
   "metadata": {
    "jupyter": {
     "source_hidden": true
    }
   },
   "outputs": [],
   "source": [
    "def sanity_check(gridsize=50, num=20):\n",
    "    likes = []\n",
    "    likeAs = []\n",
    "    likeBs = []\n",
    "    rng1 = jax.random.PRNGKey(13)\n",
    "    values = []\n",
    "    θ_target = np.array([0.8, 0.8], dtype=np.float32)\n",
    "\n",
    "    for t in range(num):\n",
    "        key, rng1 = jax.random.split(rng1)\n",
    "        targ = simulator(\n",
    "            key,\n",
    "            θ_target)\n",
    "\n",
    "        gridsize = 50                # for likelihood gridding\n",
    "        Δ = np.fft.fftn(np.squeeze(targ))[1:N//2, 1:N//2] / N\n",
    "        k = kbin[1:N//2, 1:N//2]  \n",
    "        prior_range = np.array([[0.1, 0.1], [1.25, 1.25]])\n",
    "        AL = analyticFieldLikelihood(PBJ, shape, Δ, prior_range, k=k, \n",
    "                                     gridsize=gridsize, tiling=[5,5])\n",
    "\n",
    "        likelihood,A_range,B_range = AL.get_likelihood(shift=None, return_grid=True)\n",
    "\n",
    "\n",
    "        _A_range = A_range#*np.exp(shift)\n",
    "        _B_range = B_range#*np.exp(shift)\n",
    "\n",
    "        likelihoodA = scipy.special.softmax(np.real(likelihood)).sum(0) #np.real(likelihood).sum(0)\n",
    "        likelihoodA /= likelihoodA.sum() * (_A_range[1] -  _A_range[0])\n",
    "        likelihoodB =  scipy.special.softmax(np.real(likelihood)).sum(1) #np.real(likelihood).sum(1)\n",
    "        likelihoodB /= likelihoodB.sum() * (_B_range[1] -  _B_range[0])\n",
    "\n",
    "        likelihood = scipy.special.softmax(np.real(likelihood))\n",
    "        sorted_marginal = np.sort(likelihood.flatten())[::-1]\n",
    "        cdf = np.cumsum(sorted_marginal / sorted_marginal.sum())\n",
    "        value = []\n",
    "        for level in [0.997, 0.95, 0.68]:\n",
    "            this_value = sorted_marginal[np.argmin(np.abs(cdf - level))]\n",
    "            if len(value) == 0:\n",
    "                value.append(this_value)\n",
    "            elif this_value <= value[-1]:\n",
    "                break\n",
    "            else:\n",
    "                value.append(this_value)\n",
    "        #fig, ax = plt.subplots(2, 2, figsize=(10, 10))\n",
    "\n",
    "        #likelihood /= likelihood.sum()\n",
    "\n",
    "        likes.append(likelihood)\n",
    "        likeAs.append(likelihoodA)\n",
    "        likeBs.append(likelihoodB)\n",
    "\n",
    "        values.append(value)\n",
    "        \n",
    "        return likes,likeAs,likeBs,values"
   ]
  },
  {
   "cell_type": "code",
   "execution_count": 26,
   "metadata": {
    "collapsed": true,
    "jupyter": {
     "outputs_hidden": true,
     "source_hidden": true
    }
   },
   "outputs": [
    {
     "name": "stdout",
     "output_type": "stream",
     "text": [
      "computing likelihood on a 50x50 grid \n",
      "         in tiles of size 10x10\n",
      "shift -204802937697.98566\n",
      "loglike mean -859104641710.4711\n"
     ]
    },
    {
     "ename": "NameError",
     "evalue": "name 'A_range' is not defined",
     "output_type": "error",
     "traceback": [
      "\u001b[0;31m---------------------------------------------------------------------------\u001b[0m",
      "\u001b[0;31mNameError\u001b[0m                                 Traceback (most recent call last)",
      "\u001b[0;32m<ipython-input-26-612272fdae80>\u001b[0m in \u001b[0;36m<module>\u001b[0;34m\u001b[0m\n\u001b[1;32m      3\u001b[0m \u001b[0;34m\u001b[0m\u001b[0m\n\u001b[1;32m      4\u001b[0m \u001b[0;32mfor\u001b[0m \u001b[0ml\u001b[0m\u001b[0;34m,\u001b[0m\u001b[0mlike\u001b[0m \u001b[0;32min\u001b[0m \u001b[0menumerate\u001b[0m\u001b[0;34m(\u001b[0m\u001b[0mlikes\u001b[0m\u001b[0;34m)\u001b[0m\u001b[0;34m:\u001b[0m\u001b[0;34m\u001b[0m\u001b[0;34m\u001b[0m\u001b[0m\n\u001b[0;32m----> 5\u001b[0;31m     \u001b[0max\u001b[0m\u001b[0;34m[\u001b[0m\u001b[0;36m1\u001b[0m\u001b[0;34m,\u001b[0m\u001b[0;36m0\u001b[0m\u001b[0;34m]\u001b[0m\u001b[0;34m.\u001b[0m\u001b[0mcontour\u001b[0m\u001b[0;34m(\u001b[0m\u001b[0mA_range\u001b[0m\u001b[0;34m,\u001b[0m \u001b[0mB_range\u001b[0m\u001b[0;34m,\u001b[0m \u001b[0mlike\u001b[0m\u001b[0;34m,\u001b[0m \u001b[0mlevels\u001b[0m\u001b[0;34m=\u001b[0m\u001b[0mvalue\u001b[0m\u001b[0;34m,\u001b[0m \u001b[0mcolors\u001b[0m\u001b[0;34m=\u001b[0m\u001b[0;34m'#FF8D33'\u001b[0m\u001b[0;34m,\u001b[0m \u001b[0malpha\u001b[0m\u001b[0;34m=\u001b[0m\u001b[0;36m0.5\u001b[0m\u001b[0;34m)\u001b[0m\u001b[0;34m\u001b[0m\u001b[0;34m\u001b[0m\u001b[0m\n\u001b[0m\u001b[1;32m      6\u001b[0m     \u001b[0max\u001b[0m\u001b[0;34m[\u001b[0m\u001b[0;36m0\u001b[0m\u001b[0;34m,\u001b[0m \u001b[0;36m0\u001b[0m\u001b[0;34m]\u001b[0m\u001b[0;34m.\u001b[0m\u001b[0mplot\u001b[0m\u001b[0;34m(\u001b[0m\u001b[0mA_range\u001b[0m\u001b[0;34m,\u001b[0m \u001b[0mlikeAs\u001b[0m\u001b[0;34m[\u001b[0m\u001b[0ml\u001b[0m\u001b[0;34m]\u001b[0m\u001b[0;34m,\u001b[0m \u001b[0mcolor\u001b[0m\u001b[0;34m=\u001b[0m\u001b[0;34m'#FF8D33'\u001b[0m\u001b[0;34m,\u001b[0m \u001b[0mlabel\u001b[0m\u001b[0;34m=\u001b[0m\u001b[0;32mNone\u001b[0m\u001b[0;34m,\u001b[0m \u001b[0malpha\u001b[0m\u001b[0;34m=\u001b[0m\u001b[0;36m0.5\u001b[0m\u001b[0;34m)\u001b[0m\u001b[0;34m\u001b[0m\u001b[0;34m\u001b[0m\u001b[0m\n\u001b[1;32m      7\u001b[0m     \u001b[0max\u001b[0m\u001b[0;34m[\u001b[0m\u001b[0;36m0\u001b[0m\u001b[0;34m,\u001b[0m \u001b[0;36m1\u001b[0m\u001b[0;34m]\u001b[0m\u001b[0;34m.\u001b[0m\u001b[0maxis\u001b[0m\u001b[0;34m(\u001b[0m\u001b[0;34m\"off\"\u001b[0m\u001b[0;34m)\u001b[0m\u001b[0;34m\u001b[0m\u001b[0;34m\u001b[0m\u001b[0m\n",
      "\u001b[0;31mNameError\u001b[0m: name 'A_range' is not defined"
     ]
    },
    {
     "data": {
      "image/png": "[encoded data removed]",
      "text/plain": [
       "<Figure size 432x288 with 4 Axes>"
      ]
     },
     "metadata": {
      "needs_background": "light"
     },
     "output_type": "display_data"
    }
   ],
   "source": [
    "likes,likeAs,likeBs,values = sanity_check()\n",
    "fig,ax = plt.subplots(nrows=2, ncols=2)\n",
    "\n",
    "for l,like in enumerate(likes):\n",
    "    ax[1,0].contour(A_range, B_range, like, levels=value, colors='#FF8D33', alpha=0.5)\n",
    "    ax[0, 0].plot(A_range, likeAs[l], color='#FF8D33', label=None, alpha=0.5)\n",
    "    ax[0, 1].axis(\"off\")\n",
    "    ax[1, 1].plot(likeBs[l], B_range, color='#FF8D33', label='loglike', alpha=0.5)\n",
    "    \n",
    "ax[1,0].scatter(θ_target[0], θ_target[1], marker='+', s=50, color='blue', zorder=20)\n",
    "ax[0,0].axvline(θ_target[0], linestyle='--', c='k')\n",
    "ax[1,0].axvline(θ_target[0], linestyle='--', c='k')\n",
    "ax[1,0].axhline(θ_target[1], linestyle='--', c='k')\n",
    "ax[1,1].axhline(θ_target[1], linestyle='--', c='k', label=r'$\\theta_{\\rm target}$')\n",
    "\n",
    "ax[1,0].set_xlabel(r'$A$')\n",
    "ax[1,0].set_ylabel(r'$B$')"
   ]
  },
  {
   "cell_type": "markdown",
   "metadata": {},
   "source": [
    "# Initialise IMNN"
   ]
  },
  {
   "cell_type": "code",
   "execution_count": 26,
   "metadata": {},
   "outputs": [],
   "source": [
    "simulator_args[\"squeeze\"] = False"
   ]
  },
  {
   "cell_type": "code",
   "execution_count": 27,
   "metadata": {},
   "outputs": [],
   "source": [
    "simulator_args['vol_norm'] = True\n",
    "simulator_args['N_scale'] = True # false \n",
    "simulator_args['L'] = L"
   ]
  },
  {
   "cell_type": "code",
   "execution_count": 28,
   "metadata": {},
   "outputs": [
    {
     "data": {
      "text/plain": [
       "{'N': 32,\n",
       " 'L': 32,\n",
       " 'dim': 2,\n",
       " 'shape': (32, 32),\n",
       " 'vol_norm': True,\n",
       " 'N_scale': True,\n",
       " 'squeeze': False}"
      ]
     },
     "execution_count": 28,
     "metadata": {},
     "output_type": "execute_result"
    }
   ],
   "source": [
    "simulator_args"
   ]
  },
  {
   "cell_type": "code",
   "execution_count": 29,
   "metadata": {},
   "outputs": [],
   "source": [
    "IMNN = SimulatorIMNN(\n",
    "        n_s=5000,\n",
    "        n_d=5000,\n",
    "        n_params=n_params,\n",
    "        n_summaries=n_summaries,\n",
    "        input_shape=input_shape,\n",
    "        θ_fid=θ_fid,\n",
    "        model=model,\n",
    "        optimiser=optimiser,\n",
    "        key_or_state=initial_model_key,\n",
    "        simulator=lambda rng, θ: simulator(rng, θ, simulator_args=simulator_args),\n",
    "#         devices=[jax.devices()[0]],\n",
    "#         n_per_device=1000\n",
    "        )"
   ]
  },
  {
   "cell_type": "markdown",
   "metadata": {},
   "source": [
    "# Fit"
   ]
  },
  {
   "cell_type": "code",
   "execution_count": 325,
   "metadata": {
    "jupyter": {
     "source_hidden": true
    }
   },
   "outputs": [],
   "source": [
    "# SAVING IMNN ATTRIBUTES\n",
    "import cloudpickle as pickle\n",
    "import os\n",
    "\n",
    "def save_weights(IMNN, folder_name='./model', weights='final'):\n",
    "    \n",
    "    # create output directory\n",
    "    if not os.path.exists(folder_name): \n",
    "        os.mkdir(folder_name)\n",
    "    \n",
    "    def pckl_me(obj, path):\n",
    "        with open(path, 'wb') as file_pi:\n",
    "            pickle.dump(obj, file_pi)\n",
    "        file_pi.close()\n",
    "        \n",
    "    # save IMNN (optimiser) state:\n",
    "    savestate = jax.experimental.optimizers.unpack_optimizer_state(IMNN.state)\n",
    "    pckl_me(savestate, os.path.join(folder_name, 'IMNN_state'))\n",
    "    \n",
    "    # save weights\n",
    "    if weights == 'final':\n",
    "        np.save(os.path.join(folder_name, 'final_w'), IMNN.final_w)\n",
    "    \n",
    "    else:\n",
    "        np.save(os.path.join(folder_name, 'best_w'), IMNN.best_w)\n",
    "        \n",
    "    # save initial weights\n",
    "    np.save(os.path.join(folder_name, 'initial_w'), IMNN.initial_w)\n",
    "        \n",
    "    # save training history\n",
    "    pckl_me(IMNN.history, os.path.join(folder_name, 'history'))\n",
    "    \n",
    "    # save important attributes as a dict\n",
    "    imnn_attributes = {\n",
    "        'n_s': IMNN.n_s,\n",
    "        'n_d': IMNN.n_d,\n",
    "        'input_shape': IMNN.input_shape,\n",
    "        'n_params' : IMNN.n_params,            \n",
    "        'n_summaries': IMNN.n_summaries,\n",
    "        'θ_fid': IMNN.θ_fid,\n",
    "        'F': IMNN.F,   \n",
    "        'validate': IMNN.validate,\n",
    "        'simulate': IMNN.simulate,\n",
    "        \n",
    "    }\n",
    "    \n",
    "    pckl_me(imnn_attributes, os.path.join(folder_name, 'IMNN_attributes'))\n",
    "    \n",
    "    print('saved weights and attributes to the file ', folder_name)\n",
    "    \n",
    "    \n",
    "def load_weights(IMNN, folder_name='./model', weights='final', load_attributes=True):\n",
    "    \n",
    "    \n",
    "    def unpckl_me(path):\n",
    "        file = open(path, 'rb')\n",
    "        return pickle.load(file)\n",
    "    \n",
    "    # load and assign weights\n",
    "    if weights=='final':\n",
    "        weights = np.load(os.path.join(folder_name, 'final_w.npy'),  allow_pickle=True)\n",
    "        IMNN.final_w = weights\n",
    "    else:\n",
    "        weights = np.load(os.path.join(folder_name, 'best_w.npy'),  allow_pickle=True)\n",
    "        IMNN.best_w = weights\n",
    "        \n",
    "    # re-pack and load the optimiser state\n",
    "    loadstate = unpckl_me(os.path.join(folder_name, 'IMNN_state'))\n",
    "    IMNN.state = jax.experimental.optimizers.pack_optimizer_state(loadstate)\n",
    "    \n",
    "    \n",
    "    # load history\n",
    "    IMNN.history = unpckl_me(os.path.join(folder_name, 'history'))\n",
    "    \n",
    "    # load important attributes\n",
    "    if load_attributes:\n",
    "        IMNN.intial_w =  np.load(os.path.join(folder_name, 'initial_w.npy'), allow_pickle=True)\n",
    "        attributes = unpckl_me(os.path.join('test_model', 'IMNN_attributes'))\n",
    "        IMNN.θ_fid = attributes['θ_fid']\n",
    "        IMNN.n_s = attributes['n_s']\n",
    "        IMNN.n_d = attributes['n_d']\n",
    "        IMNN.input_shape = attributes['input_shape']\n",
    "        \n",
    "    print('loaded IMNN with these attributes: ', attributes)\n",
    "    "
   ]
  },
  {
   "cell_type": "code",
   "execution_count": 326,
   "metadata": {
    "jupyter": {
     "source_hidden": true
    }
   },
   "outputs": [],
   "source": [
    "# # test save functions\n",
    "# save_weights(IMNN, folder_name='./model')\n",
    "\n",
    "# # test load functions\n",
    "\n",
    "# # initialize a new imnn with different attributes and then load the old file\n",
    "# # to overwrite them\n",
    "\n",
    "# my_new_IMNN = SimIMNN(\n",
    "#         n_s=300,\n",
    "#         n_d=100,\n",
    "#         n_params=n_params,\n",
    "#         n_summaries=n_summaries,\n",
    "#         input_shape=input_shape,\n",
    "#         θ_fid=np.array([1.0,1.0]),\n",
    "#         key=initial_model_key,\n",
    "#         model=model,\n",
    "#         optimiser=optimiser,\n",
    "#         simulator=lambda rng, θ: simulator(rng, θ, simulator_args=simulator_args),\n",
    "#         )\n",
    "\n",
    "# load_weights(my_new_IMNN, folder_name='./model', load_attributes=True)\n",
    "# my_new_IMNN.set_F_statistics(rng, my_new_IMNN.best_w, my_new_IMNN.θ_fid, my_new_IMNN.n_s, my_new_IMNN.n_d, validate=True)"
   ]
  },
  {
   "cell_type": "code",
   "execution_count": 30,
   "metadata": {},
   "outputs": [
    {
     "data": {
      "text/plain": [
       "DeviceArray([1. , 0.5], dtype=float32)"
      ]
     },
     "execution_count": 30,
     "metadata": {},
     "output_type": "execute_result"
    }
   ],
   "source": [
    "θ_fid"
   ]
  },
  {
   "cell_type": "code",
   "execution_count": 31,
   "metadata": {},
   "outputs": [
    {
     "name": "stdout",
     "output_type": "stream",
     "text": [
      "CPU times: user 2min, sys: 6.43 s, total: 2min 7s\n",
      "Wall time: 2min 11s\n"
     ]
    }
   ],
   "source": [
    "%%time\n",
    "for i in range(1):\n",
    "    rng,fit_rng = jax.random.split(rng)\n",
    "    IMNN.fit(λ=10., ϵ=ϵ, rng=fit_rng, min_iterations=500) #for IMNN, IMNN_rng in zip(IMNNs, IMNN_rngs);\n",
    "    \n",
    "#save_weights(IMNN, folder_name='./big_incept128')"
   ]
  },
  {
   "cell_type": "code",
   "execution_count": 33,
   "metadata": {},
   "outputs": [],
   "source": [
    "IMNNs = [IMNN]"
   ]
  },
  {
   "cell_type": "code",
   "execution_count": 34,
   "metadata": {},
   "outputs": [
    {
     "data": {
      "image/png": "[encoded data removed]",
      "text/plain": [
       "<Figure size 242.64x149.96 with 1 Axes>"
      ]
     },
     "metadata": {},
     "output_type": "display_data"
    }
   ],
   "source": [
    "latexify(fig_width=3.37)\n",
    "plt.plot(IMNN.history['detF'][:])\n",
    "plt.plot(np.ones(len(IMNN.history['detF'][:]))*detf_expected, c='k', linestyle='--')\n",
    "plt.ylim(1e-2, 1e7)\n",
    "plt.ylabel(r'$\\det \\textbf{F}$')\n",
    "plt.xlabel('number of epochs')\n",
    "plt.yscale('log')\n",
    "plt.tight_layout()"
   ]
  },
  {
   "cell_type": "code",
   "execution_count": 35,
   "metadata": {},
   "outputs": [
    {
     "data": {
      "text/plain": [
       "DeviceArray(4823.0605, dtype=float32)"
      ]
     },
     "execution_count": 35,
     "metadata": {},
     "output_type": "execute_result"
    }
   ],
   "source": [
    "np.linalg.det(IMNNs[0].F) #/ (detf_expected)"
   ]
  },
  {
   "cell_type": "code",
   "execution_count": 36,
   "metadata": {},
   "outputs": [
    {
     "data": {
      "text/plain": [
       "DeviceArray([[ 169.01195, -124.12768],\n",
       "             [-124.12768,  119.70005]], dtype=float32)"
      ]
     },
     "execution_count": 36,
     "metadata": {},
     "output_type": "execute_result"
    }
   ],
   "source": [
    "IMNNs[0].F"
   ]
  },
  {
   "cell_type": "code",
   "execution_count": 37,
   "metadata": {},
   "outputs": [
    {
     "name": "stdout",
     "output_type": "stream",
     "text": [
      "IMNN F: [[ 169.01195 -124.12768]\n",
      " [-124.12768  119.70005]]\n",
      "IMNN det F: 4823.0605\n",
      "IMNN F / analytic det F:  1.840488418247599\n"
     ]
    }
   ],
   "source": [
    "print('IMNN F:', IMNN.F)\n",
    "\n",
    "print('IMNN det F:', np.linalg.det(IMNN.F))\n",
    "\n",
    "print('IMNN F / analytic det F: ', (np.linalg.det(IMNN.F)) / detf_expected)"
   ]
  },
  {
   "cell_type": "markdown",
   "metadata": {},
   "source": [
    "# Data for ABC example"
   ]
  },
  {
   "cell_type": "code",
   "execution_count": 38,
   "metadata": {},
   "outputs": [],
   "source": [
    "class uniform:\n",
    "    def __init__(self, low, high):\n",
    "        self.low = np.array(low)\n",
    "        self.high = np.array(high)\n",
    "        self.event_shape = [[] for i in range(self.low.shape[0])]\n",
    "    def sample(self, n=None, seed=None):\n",
    "        if n is None:\n",
    "            n = 1\n",
    "        keys = np.array(jax.random.split(\n",
    "            seed, \n",
    "            num=len(self.event_shape)))\n",
    "        return jax.vmap(\n",
    "            lambda key, low, high : jax.random.uniform(\n",
    "                key, \n",
    "                shape=(n,), \n",
    "                minval=low, \n",
    "                maxval=high))(\n",
    "            keys, self.low, self.high)\n"
   ]
  },
  {
   "cell_type": "code",
   "execution_count": 86,
   "metadata": {},
   "outputs": [],
   "source": [
    "prior = uniform([0.05, 0.05], [2.0, 2.0])"
   ]
  },
  {
   "cell_type": "code",
   "execution_count": 82,
   "metadata": {},
   "outputs": [
    {
     "data": {
      "text/plain": [
       "{'N': 32,\n",
       " 'L': 32,\n",
       " 'dim': 2,\n",
       " 'shape': (32, 32),\n",
       " 'N_scale': True,\n",
       " 'vol_norm': True,\n",
       " 'squeeze': True}"
      ]
     },
     "execution_count": 82,
     "metadata": {},
     "output_type": "execute_result"
    }
   ],
   "source": [
    "simulator_args"
   ]
  },
  {
   "cell_type": "markdown",
   "metadata": {},
   "source": [
    "# generate multiple field targets"
   ]
  },
  {
   "cell_type": "code",
   "execution_count": 103,
   "metadata": {},
   "outputs": [],
   "source": [
    "simulator_args = {\"N\": N, \"L\": L, \"dim\": dim, \"shape\": shape, \"N_scale\": True, \"vol_norm\": True, \"squeeze\": True}\n",
    "\n",
    "target_keys = jax.random.split(rng, num=2)\n",
    "θ_targets = [np.array([0.9, 0.6]), \n",
    "             np.array([0.3, 1.0])]\n",
    "\n",
    "targets = np.array([simulator(\n",
    "    target_keys[l],\n",
    "    θ_targets[l],\n",
    "    simulator_args={**simulator_args, **{'squeeze':True}}) for l in range(2)])"
   ]
  },
  {
   "cell_type": "code",
   "execution_count": 104,
   "metadata": {},
   "outputs": [
    {
     "data": {
      "text/plain": [
       "(2, 1, 32, 32)"
      ]
     },
     "execution_count": 104,
     "metadata": {},
     "output_type": "execute_result"
    }
   ],
   "source": [
    "targets.shape"
   ]
  },
  {
   "cell_type": "code",
   "execution_count": 105,
   "metadata": {},
   "outputs": [
    {
     "data": {
      "text/plain": [
       "(2, 1, 1, 1, 32, 32)"
      ]
     },
     "execution_count": 105,
     "metadata": {},
     "output_type": "execute_result"
    }
   ],
   "source": [
    "targets = np.expand_dims(np.expand_dims(targets,1),1)\n",
    "targets.shape"
   ]
  },
  {
   "cell_type": "code",
   "execution_count": 106,
   "metadata": {},
   "outputs": [
    {
     "data": {
      "text/plain": [
       "<matplotlib.image.AxesImage at 0x1554a3ab1580>"
      ]
     },
     "execution_count": 106,
     "metadata": {},
     "output_type": "execute_result"
    },
    {
     "data": {
      "image/png": "[encoded data removed]",
      "text/plain": [
       "<Figure size 432x288 with 2 Axes>"
      ]
     },
     "metadata": {
      "needs_background": "light"
     },
     "output_type": "display_data"
    }
   ],
   "source": [
    "%matplotlib inline\n",
    "fig,ax = plt.subplots(nrows=1, ncols=2)\n",
    "ax[0].imshow(np.squeeze(targets[0]))\n",
    "ax[1].imshow(np.squeeze(targets[1]))"
   ]
  },
  {
   "cell_type": "markdown",
   "metadata": {},
   "source": [
    "# analytic likelihood calculation"
   ]
  },
  {
   "cell_type": "code",
   "execution_count": 117,
   "metadata": {},
   "outputs": [],
   "source": [
    "gridsize = 100                # for likelihood gridding\n",
    "ALs = []\n",
    "for t,targ in enumerate(targets):\n",
    "    Δ = np.fft.fftn(np.squeeze(targ))[1:N//2, 1:N//2] / N\n",
    "    k = kbin[1:N//2, 1:N//2]  \n",
    "    prior_range = np.array([[0.01, 0.01], [1.5, 1.5]])\n",
    "    ALs.append(analyticFieldLikelihood(PBJ, shape, Δ, prior_range, k=k, gridsize=gridsize, tiling=[5,5]))"
   ]
  },
  {
   "cell_type": "code",
   "execution_count": null,
   "metadata": {},
   "outputs": [],
   "source": []
  },
  {
   "cell_type": "code",
   "execution_count": 119,
   "metadata": {},
   "outputs": [
    {
     "name": "stdout",
     "output_type": "stream",
     "text": [
      "computing likelihood on a 100x100 grid \n",
      "         in tiles of size 20x20\n",
      "loglike mean -608.5116505829035\n",
      "computing likelihood on a 100x100 grid \n",
      "         in tiles of size 20x20\n",
      "loglike mean -178.67224149545186\n"
     ]
    },
    {
     "data": {
      "image/png": "[encoded data removed]",
      "text/plain": [
       "<Figure size 432x288 with 4 Axes>"
      ]
     },
     "metadata": {
      "needs_background": "light"
     },
     "output_type": "display_data"
    },
    {
     "name": "stdout",
     "output_type": "stream",
     "text": [
      "CPU times: user 2.12 s, sys: 491 ms, total: 2.61 s\n",
      "Wall time: 1.93 s\n"
     ]
    }
   ],
   "source": [
    "%%time\n",
    "%matplotlib inline\n",
    "colors = new_colors\n",
    "fig,ax = plt.subplots(nrows=2, ncols=2)\n",
    "\n",
    "for t,targ in enumerate(targets):\n",
    "    ax = ALs[t].plot_corner(ax=ax, θ_ref=θ_targets[t], image_data=targ, return_like=False, color=colors[t])\n",
    "    \n",
    "#latexify(fig_height=5.37)\n",
    "plt.show()"
   ]
  },
  {
   "cell_type": "code",
   "execution_count": 120,
   "metadata": {},
   "outputs": [
    {
     "data": {
      "text/plain": [
       "(1, 1, 1, 32, 32)"
      ]
     },
     "execution_count": 120,
     "metadata": {},
     "output_type": "execute_result"
    }
   ],
   "source": [
    "target_data.shape"
   ]
  },
  {
   "cell_type": "markdown",
   "metadata": {},
   "source": [
    "# Gaussian approximation"
   ]
  },
  {
   "cell_type": "code",
   "execution_count": 121,
   "metadata": {},
   "outputs": [],
   "source": [
    "@jit #partial(jax.jit, static_argnums=0)\n",
    "def get_estimate(d):\n",
    "    if len(d.shape) == 1:\n",
    "        return IMNN.θ_fid + np.einsum(\n",
    "            \"ij,kj,kl,l->i\",\n",
    "            IMNN.invF,\n",
    "            IMNN.dμ_dθ,\n",
    "            IMNN.invC,\n",
    "            IMNN.model(IMNN.best_w, d, rng=rng) - IMNN.μ)\n",
    "    else:\n",
    "        return IMNN.θ_fid + np.einsum(\n",
    "            \"ij,kj,kl,ml->mi\",\n",
    "            IMNN.invF,\n",
    "            IMNN.dμ_dθ,\n",
    "            IMNN.invC,\n",
    "            IMNN.model(IMNN.best_w, d, rng=rng) - IMNN.μ)"
   ]
  },
  {
   "cell_type": "code",
   "execution_count": 122,
   "metadata": {},
   "outputs": [],
   "source": [
    "estimates = [IMNN.get_estimate(targ) for targ in targets] #[i.get_estimate(target_data) for i in IMNNs];"
   ]
  },
  {
   "cell_type": "code",
   "execution_count": 123,
   "metadata": {},
   "outputs": [
    {
     "data": {
      "text/plain": [
       "[DeviceArray([[0.91767865, 0.66451627]], dtype=float32),\n",
       " DeviceArray([[0.10112476, 0.7683722 ]], dtype=float32)]"
      ]
     },
     "execution_count": 123,
     "metadata": {},
     "output_type": "execute_result"
    }
   ],
   "source": [
    "estimates"
   ]
  },
  {
   "cell_type": "code",
   "execution_count": 124,
   "metadata": {},
   "outputs": [],
   "source": [
    "GAs = [GaussianApproximation(IMNN.get_estimate(targ), IMNN.invF, prior) for targ in targets]\n",
    "       #GaussianApproximation(get_estimate(target_data), np.linalg.inv(f_expected), prior)]"
   ]
  },
  {
   "cell_type": "code",
   "execution_count": 126,
   "metadata": {},
   "outputs": [
    {
     "data": {
      "image/png": "[encoded data removed]",
      "text/plain": [
       "<Figure size 720x720 with 4 Axes>"
      ]
     },
     "metadata": {
      "needs_background": "light"
     },
     "output_type": "display_data"
    }
   ],
   "source": [
    "%matplotlib inline\n",
    "for i, (GA, label) in enumerate(zip(GAs, ['target 1', 'target 2'])):\n",
    "    if i == 0:\n",
    "        ax = GA.marginal_plot(\n",
    "            axis_labels=[r\"$A$\", r\"$B$\"], label='on-the-fly IMNN', colours=\"C{}\".format(i)\n",
    "        )\n",
    "    else:\n",
    "        GA.marginal_plot(ax=ax, label='sim IMNN', colours=\"C{}\".format(i), ncol=8)"
   ]
  },
  {
   "cell_type": "markdown",
   "metadata": {},
   "source": [
    "# ABC"
   ]
  },
  {
   "cell_type": "code",
   "execution_count": 129,
   "metadata": {},
   "outputs": [
    {
     "data": {
      "text/plain": [
       "{'N': 32,\n",
       " 'L': 32,\n",
       " 'dim': 2,\n",
       " 'shape': (32, 32),\n",
       " 'N_scale': True,\n",
       " 'vol_norm': True,\n",
       " 'squeeze': False}"
      ]
     },
     "execution_count": 129,
     "metadata": {},
     "output_type": "execute_result"
    }
   ],
   "source": [
    "{**simulator_args, **{'squeeze':False}}"
   ]
  },
  {
   "cell_type": "code",
   "execution_count": 133,
   "metadata": {},
   "outputs": [],
   "source": [
    "ABCs = [ApproximateBayesianComputation(\n",
    "        targ, prior, \n",
    "     lambda A,B : simulator(A,B, simulator_args={**simulator_args, **{'squeeze':False}}), \n",
    "                                       IMNN.get_estimate, F=IMNN.F, gridsize=50\n",
    "    ) for targ in targets]"
   ]
  },
  {
   "cell_type": "code",
   "execution_count": 134,
   "metadata": {},
   "outputs": [
    {
     "name": "stdout",
     "output_type": "stream",
     "text": [
      "1561 accepted in last  50000 iterations  (50000000 simulations done).\n",
      "2068 accepted in last  50000 iterations  (50000000 simulations done).\n",
      "CPU times: user 3min 14s, sys: 6.28 s, total: 3min 21s\n",
      "Wall time: 3min 23s\n"
     ]
    }
   ],
   "source": [
    "%%time\n",
    "rng,abc_key = jax.random.split(rng)\n",
    "for ABC in ABCs:\n",
    "    ABC(rng=abc_key,\n",
    "            n_samples=int(1e3),\n",
    "            min_accepted=15000,\n",
    "            max_iterations=50000,\n",
    "            ϵ=0.05,\n",
    "            smoothing=0.);"
   ]
  },
  {
   "cell_type": "code",
   "execution_count": 93,
   "metadata": {},
   "outputs": [
    {
     "data": {
      "text/plain": [
       "DeviceArray([0.80957455, 0.32823556], dtype=float64)"
      ]
     },
     "execution_count": 93,
     "metadata": {},
     "output_type": "execute_result"
    }
   ],
   "source": [
    "ABC.parameters.accepted[0][0]"
   ]
  },
  {
   "cell_type": "code",
   "execution_count": 94,
   "metadata": {},
   "outputs": [],
   "source": [
    "#np.save(\"accepted.npy\", ABC.parameters.accepted)"
   ]
  },
  {
   "cell_type": "code",
   "execution_count": 136,
   "metadata": {},
   "outputs": [
    {
     "name": "stdout",
     "output_type": "stream",
     "text": [
      "computing likelihood on a 100x100 grid \n",
      "         in tiles of size 20x20\n",
      "loglike mean -608.5116505829035\n",
      "computing likelihood on a 100x100 grid \n",
      "         in tiles of size 20x20\n",
      "loglike mean -178.67224149545186\n"
     ]
    }
   ],
   "source": [
    "values = []\n",
    "likes = []\n",
    "likeAs = []\n",
    "likeBs = []\n",
    "\n",
    "for a,AL in enumerate(ALs):\n",
    "    likelihood, A_range, B_range = AL.get_likelihood(return_grid=True)\n",
    "\n",
    "    likelihoodA = scipy.special.softmax(np.real(likelihood)).sum(0) #np.real(likelihood).sum(0)\n",
    "    likelihoodA /= likelihoodA.sum() * (A_range[1] -  A_range[0])\n",
    "    likelihoodB =  scipy.special.softmax(np.real(likelihood)).sum(1) #np.real(likelihood).sum(1)\n",
    "    likelihoodB /= likelihoodB.sum() * (B_range[1] -  B_range[0])\n",
    "\n",
    "    likelihood = scipy.special.softmax(np.real(likelihood))\n",
    "    sorted_marginal = np.sort(likelihood.flatten())[::-1]\n",
    "    cdf = np.cumsum(sorted_marginal / sorted_marginal.sum())\n",
    "    value = []\n",
    "    for level in [0.997, 0.95, 0.68]:\n",
    "        this_value = sorted_marginal[np.argmin(np.abs(cdf - level))]\n",
    "        if len(value) == 0:\n",
    "            value.append(this_value)\n",
    "        elif this_value <= value[-1]:\n",
    "            break\n",
    "        else:\n",
    "            value.append(this_value)\n",
    "        \n",
    "    likes.append(likelihood)\n",
    "    likeAs.append(likelihoodA)\n",
    "    likeBs.append(likelihoodB)\n",
    "    values.append(value)"
   ]
  },
  {
   "cell_type": "code",
   "execution_count": 164,
   "metadata": {},
   "outputs": [
    {
     "data": {
      "image/png": "[encoded data removed]",
      "text/plain": [
       "<Figure size 736.56x491.04 with 6 Axes>"
      ]
     },
     "metadata": {
      "needs_background": "light"
     },
     "output_type": "display_data"
    }
   ],
   "source": [
    "%matplotlib inline\n",
    "#plt.style.use('default')\n",
    "new_colors = [ '#2c0342', '#286d87', '#4fb49d', '#9af486']\n",
    "#fig = plt.figure(constrained_layout=True, figsize=(3.41*1., 3.41*1.))\n",
    "#fig,ax = plt.subplots(nrows=2, ncols=2, figsize=(3.37*2, 3.37*2))\n",
    "#ax = fig.subplots(nrows=2, ncols=2)\n",
    "fig,ax = plt.subplots(nrows=2, ncols=3, figsize=(3.41*3., 3.41*2.), \n",
    "                      gridspec_kw={'height_ratios': [1, 1], 'width_ratios':[1,1,1]})\n",
    "\n",
    "#latexify(fig_width=5.41, fig_height=5.41)\n",
    "\n",
    "# just to fiddle with the label\n",
    "ax[0,0].plot(0.3, 0., color=new_colors[0],\n",
    "           marker='o', label='ABC')\n",
    "\n",
    "cmap_reversed = matplotlib.cm.get_cmap('viridis_r')\n",
    "\n",
    "for t,targ in enumerate(targets):\n",
    "    \n",
    "    # plot labels\n",
    "    if t == 1:\n",
    "        al_label = 'Analytic Likelihood'\n",
    "        ga_label = \"Gaussian Approximation\"\n",
    "        theta_lab = r'$\\theta_{\\rm fid}$'\n",
    "    else:\n",
    "        al_label = None\n",
    "        ga_label = None\n",
    "        theta_lab = None\n",
    "\n",
    "    ax[0,0].legend(framealpha=0.)\n",
    "    ax[0,t+1].imshow(np.squeeze(targ), cmap='viridis')\n",
    "\n",
    "\n",
    "#     ax[0,0].axvline(θ_targets[t][0], linestyle='--', c='k')\n",
    "#     ax[1,0].axvline(θ_targets[t][0], linestyle='--', c='k')\n",
    "#     ax[1,0].axhline(θ_targets[t][1], linestyle='--', c='k')\n",
    "#     ax[1,1].axhline(θ_targets[t][1], linestyle='--', c='k', label=r'$\\theta_{\\rm target, %d}$'%(t+1))\n",
    "\n",
    "    ax[1,0].set_xlabel(r'$A$')\n",
    "    ax[1,0].set_ylabel(r'$B$')\n",
    "\n",
    "    ax[0,0].axvline(θ_fid[0], linestyle='--', c='k', alpha=0.4)\n",
    "    ax[1,0].axvline(θ_fid[0], linestyle='--', c='k', alpha=0.4)\n",
    "    ax[1,0].axhline(θ_fid[1], linestyle='--', c='k', alpha=0.4)\n",
    "    ax[1,1].axhline(θ_fid[1], linestyle='--', c='k', alpha=0.4, label=theta_lab)\n",
    "\n",
    "    if t == 1:\n",
    "        ax[1,1].legend(framealpha=0.)\n",
    "        \n",
    "    ax = GAs[t].marginal_plot(ax=ax, colours='#00c133', #new_colors[1], \n",
    "                              axis_labels=[r\"$A$\", r\"$B$\"], label=ga_label, ncol=1,\n",
    "                                linestyle='solid')\n",
    "\n",
    "\n",
    "    # add in the likelihood estimate\n",
    "\n",
    "    ax[0, 0].plot(A_range, likeAs[t], color='#FF8D33', label=al_label, linestyle='--')\n",
    "    #ax[0,0].legend(framealpha=0.)\n",
    "    ax[0, 1].axis(\"off\")\n",
    "    ax[1, 0].contour(A_range, B_range, likes[t], levels=values[t], colors='#FF8D33', linestyles='--')\n",
    "    ax[1, 1].plot(likeBs[t], B_range, color='#FF8D33', label=al_label, linestyle='--')\n",
    "\n",
    "    # ax = ABC.scatter_plot(ax=ax,\n",
    "    #                       colours=new_colors[0], \n",
    "    #                       axis_labels=[r\"$A$\", r\"$B$\"], \n",
    "    #                       s=8,\n",
    "    #                       label='ABC', bbox_to_anchor=None)\n",
    "\n",
    "    # ABC scatter plots\n",
    "    ax[0,0].hist(ABCs[t].parameters.accepted[0][:, 0], color=new_colors[0], histtype='step', density=True)\n",
    "    ax[1,0].scatter(ABCs[t].parameters.accepted[0][:, 0], ABCs[t].parameters.accepted[0][:, 1], s=10, alpha=0.6,\n",
    "                    c=np.log(ABCs[t].distances.accepted[0]), cmap='Purples', edgecolors=None, linewidths=0, marker='.')\n",
    "\n",
    "    ax[1,1].hist(ABCs[t].parameters.accepted[0][:, 1], color=new_colors[0], \n",
    "                 histtype='step', density=True, orientation='horizontal')\n",
    "\n",
    "\n",
    "#ax[1,0].legend(framealpha=0.)\n",
    "\n",
    "\n",
    "\n",
    "ax[0,0].set_xlim(0.05, 1.1)\n",
    "#ax[0,0].set_ylim(0., 10.1)\n",
    "ax[1,0].set_xlim(0.05, 1.1)\n",
    "ax[1,0].set_ylim(0.05, 1.25)\n",
    "ax[1,1].set_ylim(0.05, 1.25)\n",
    "\n",
    "ax[0,0].legend(framealpha=0., bbox_to_anchor=(0.75, 1.3), frameon=False)\n",
    "\n",
    "\n",
    "ax[1,1].set_yticks([])\n",
    "ax[1,1].set_xticks([])\n",
    "ax[0,0].set_xticks([])\n",
    "ax[0,0].set_yticks([])\n",
    "ax[0,2].set_yticks([])\n",
    "ax[0,2].set_xticks([])\n",
    "\n",
    "ax[1, 2].axis(\"off\")\n",
    "\n",
    "#ax[0,0].set_ylabel(r'$\\mathit{P}(A|\\textbf{x})$')\n",
    "#ax[1,1].set_xlabel(r'$\\mathit{P}(B|\\textbf{x})$')\n",
    "\n",
    "plt.subplots_adjust(wspace=0.1, hspace=0.1)\n",
    "#plt.tight_layout()\n",
    "plt.savefig('/mnt/home/tmakinen/repositories/field-plots/32x32-double')\n",
    "#plt.subplots_adjust(wspace=0, hspace=0)\n",
    "plt.show()"
   ]
  },
  {
   "cell_type": "code",
   "execution_count": null,
   "metadata": {},
   "outputs": [],
   "source": []
  }
 ],
 "metadata": {
  "kernelspec": {
   "display_name": "pyjax9",
   "language": "python",
   "name": "pyjax9"
  },
  "language_info": {
   "codemirror_mode": {
    "name": "ipython",
    "version": 3
   },
   "file_extension": ".py",
   "mimetype": "text/x-python",
   "name": "python",
   "nbconvert_exporter": "python",
   "pygments_lexer": "ipython3",
   "version": "3.8.8"
  }
 },
 "nbformat": 4,
 "nbformat_minor": 4
}
