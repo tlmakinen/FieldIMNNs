{
 "cells": [
  {
   "cell_type": "code",
   "execution_count": 1,
   "metadata": {},
   "outputs": [
    {
     "name": "stdout",
     "output_type": "stream",
     "text": [
      "jax version:  0.2.8\n"
     ]
    }
   ],
   "source": [
    "import jax\n",
    "print(\"jax version: \", jax.__version__)\n",
    "import jax.numpy as np\n",
    "import tensorflow_probability.substrates.jax as tfp\n",
    "tfd = tfp.distributions\n",
    "tfb = tfp.bijectors\n",
    "import matplotlib.pyplot as plt\n",
    "from scipy.linalg import toeplitz\n",
    "\n",
    "rng = jax.random.PRNGKey(2)"
   ]
  },
  {
   "cell_type": "code",
   "execution_count": 52,
   "metadata": {},
   "outputs": [
    {
     "name": "stdout",
     "output_type": "stream",
     "text": [
      "Switched to branch 'dev'\n",
      "Your branch is ahead of 'origin/dev' by 3 commits.\n",
      "  (use \"git push\" to publish your local commits)\n"
     ]
    }
   ],
   "source": []
  },
  {
   "cell_type": "code",
   "execution_count": 49,
   "metadata": {},
   "outputs": [
    {
     "name": "stdout",
     "output_type": "stream",
     "text": [
      "M\tIMNN.egg-info/PKG-INFO\n",
      "M\tIMNN.egg-info/SOURCES.txt\n",
      "M\tIMNN.egg-info/requires.txt\n",
      "M\tsetup.py\n",
      "Switched to a new branch 'master'\n"
     ]
    }
   ],
   "source": [
    "!git checkout -b master"
   ]
  },
  {
   "cell_type": "code",
   "execution_count": 50,
   "metadata": {},
   "outputs": [
    {
     "name": "stdout",
     "output_type": "stream",
     "text": [
      "Saved working directory and index state WIP on master: 71557b6 Merge branch 'dev' of https://bitbucket.org/tomcharnock/imnn into dev\n",
      "HEAD is now at 71557b6 Merge branch 'dev' of https://bitbucket.org/tomcharnock/imnn into dev\n"
     ]
    }
   ],
   "source": [
    "!git stash"
   ]
  },
  {
   "cell_type": "code",
   "execution_count": 51,
   "metadata": {},
   "outputs": [
    {
     "name": "stdout",
     "output_type": "stream",
     "text": [
      "There is no tracking information for the current branch.\n",
      "Please specify which branch you want to merge with.\n",
      "See git-pull(1) for details\n",
      "\n",
      "    git pull <remote> <branch>\n",
      "\n",
      "If you wish to set tracking information for this branch you can do so with:\n",
      "\n",
      "    git branch --set-upstream-to=<remote>/<branch> master\n",
      "\n"
     ]
    }
   ],
   "source": [
    "git pull master "
   ]
  },
  {
   "cell_type": "code",
   "execution_count": 41,
   "metadata": {},
   "outputs": [
    {
     "name": "stdout",
     "output_type": "stream",
     "text": [
      "/mnt/home/tmakinen/repositories/scratch/dev-imnn/imnn\n"
     ]
    }
   ],
   "source": [
    "cd .."
   ]
  },
  {
   "cell_type": "code",
   "execution_count": 43,
   "metadata": {
    "collapsed": true,
    "jupyter": {
     "outputs_hidden": true
    }
   },
   "outputs": [
    {
     "name": "stdout",
     "output_type": "stream",
     "text": [
      "Obtaining file:///mnt/home/tmakinen/repositories/scratch/dev-imnn/imnn\n",
      "Requirement already satisfied: tensorflow>=2.1.0 in /mnt/home/tmakinen/anaconda3/envs/pyjax/lib/python3.6/site-packages/tensorflow-2.4.0-py3.6-linux-x86_64.egg (from IMNN==0.3.dev0) (2.4.0)\n",
      "Requirement already satisfied: jaxlib==0.1.57 in /mnt/home/tmakinen/anaconda3/envs/pyjax/lib/python3.6/site-packages (from IMNN==0.3.dev0) (0.1.57+cuda101)\n",
      "Requirement already satisfied: jax>=0.2.5 in /mnt/home/tmakinen/anaconda3/envs/pyjax/lib/python3.6/site-packages (from IMNN==0.3.dev0) (0.2.8)\n",
      "Requirement already satisfied: tqdm>=4.31.0 in /mnt/home/tmakinen/anaconda3/envs/pyjax/lib/python3.6/site-packages/tqdm-4.55.1-py3.6.egg (from IMNN==0.3.dev0) (4.55.1)\n",
      "Requirement already satisfied: numpy>=1.16.0 in /mnt/home/tmakinen/anaconda3/envs/pyjax/lib/python3.6/site-packages (from IMNN==0.3.dev0) (1.19.4)\n",
      "Requirement already satisfied: scipy>=1.4.1 in /mnt/home/tmakinen/anaconda3/envs/pyjax/lib/python3.6/site-packages (from IMNN==0.3.dev0) (1.5.3)\n",
      "Requirement already satisfied: matplotlib in /mnt/home/tmakinen/anaconda3/envs/pyjax/lib/python3.6/site-packages (from IMNN==0.3.dev0) (3.3.2)\n",
      "Requirement already satisfied: absl-py in /mnt/home/tmakinen/anaconda3/envs/pyjax/lib/python3.6/site-packages (from jaxlib==0.1.57->IMNN==0.3.dev0) (0.11.0)\n",
      "Requirement already satisfied: flatbuffers in /mnt/home/tmakinen/anaconda3/envs/pyjax/lib/python3.6/site-packages (from jaxlib==0.1.57->IMNN==0.3.dev0) (1.12)\n",
      "Requirement already satisfied: opt-einsum in /mnt/home/tmakinen/anaconda3/envs/pyjax/lib/python3.6/site-packages (from jax>=0.2.5->IMNN==0.3.dev0) (3.3.0)\n",
      "Requirement already satisfied: astunparse~=1.6.3 in /mnt/home/tmakinen/anaconda3/envs/pyjax/lib/python3.6/site-packages/astunparse-1.6.3-py3.6.egg (from tensorflow>=2.1.0->IMNN==0.3.dev0) (1.6.3)\n",
      "Requirement already satisfied: gast==0.3.3 in /mnt/home/tmakinen/anaconda3/envs/pyjax/lib/python3.6/site-packages/gast-0.3.3-py3.6.egg (from tensorflow>=2.1.0->IMNN==0.3.dev0) (0.3.3)\n",
      "Requirement already satisfied: google-pasta~=0.2 in /mnt/home/tmakinen/anaconda3/envs/pyjax/lib/python3.6/site-packages/google_pasta-0.2.0-py3.6.egg (from tensorflow>=2.1.0->IMNN==0.3.dev0) (0.2.0)\n",
      "Requirement already satisfied: grpcio~=1.32.0 in /mnt/home/tmakinen/anaconda3/envs/pyjax/lib/python3.6/site-packages/grpcio-1.32.0-py3.6-linux-x86_64.egg (from tensorflow>=2.1.0->IMNN==0.3.dev0) (1.32.0)\n",
      "Requirement already satisfied: h5py~=2.10.0 in /mnt/home/tmakinen/anaconda3/envs/pyjax/lib/python3.6/site-packages/h5py-2.10.0-py3.6-linux-x86_64.egg (from tensorflow>=2.1.0->IMNN==0.3.dev0) (2.10.0)\n",
      "Requirement already satisfied: keras-preprocessing~=1.1.2 in /mnt/home/tmakinen/anaconda3/envs/pyjax/lib/python3.6/site-packages/Keras_Preprocessing-1.1.2-py3.6.egg (from tensorflow>=2.1.0->IMNN==0.3.dev0) (1.1.2)\n",
      "Requirement already satisfied: protobuf>=3.9.2 in /mnt/home/tmakinen/anaconda3/envs/pyjax/lib/python3.6/site-packages/protobuf-4.0.0rc2-py3.6.egg (from tensorflow>=2.1.0->IMNN==0.3.dev0) (4.0.0rc2)\n",
      "Requirement already satisfied: six~=1.15.0 in /mnt/home/tmakinen/anaconda3/envs/pyjax/lib/python3.6/site-packages (from tensorflow>=2.1.0->IMNN==0.3.dev0) (1.15.0)\n",
      "Requirement already satisfied: tensorboard~=2.4 in /mnt/home/tmakinen/anaconda3/envs/pyjax/lib/python3.6/site-packages/tensorboard-2.4.0-py3.6.egg (from tensorflow>=2.1.0->IMNN==0.3.dev0) (2.4.0)\n",
      "Requirement already satisfied: tensorflow-estimator<2.5.0,>=2.4.0rc0 in /mnt/home/tmakinen/anaconda3/envs/pyjax/lib/python3.6/site-packages/tensorflow_estimator-2.4.0-py3.6.egg (from tensorflow>=2.1.0->IMNN==0.3.dev0) (2.4.0)\n",
      "Requirement already satisfied: termcolor~=1.1.0 in /mnt/home/tmakinen/anaconda3/envs/pyjax/lib/python3.6/site-packages/termcolor-1.1.0-py3.6.egg (from tensorflow>=2.1.0->IMNN==0.3.dev0) (1.1.0)\n",
      "Requirement already satisfied: typing-extensions~=3.7.4 in /mnt/home/tmakinen/anaconda3/envs/pyjax/lib/python3.6/site-packages/typing_extensions-3.7.4.3-py3.6.egg (from tensorflow>=2.1.0->IMNN==0.3.dev0) (3.7.4.3)\n",
      "Requirement already satisfied: wheel~=0.35 in /mnt/home/tmakinen/anaconda3/envs/pyjax/lib/python3.6/site-packages (from tensorflow>=2.1.0->IMNN==0.3.dev0) (0.36.2)\n",
      "Requirement already satisfied: wrapt~=1.12.1 in /mnt/home/tmakinen/anaconda3/envs/pyjax/lib/python3.6/site-packages/wrapt-1.12.1-py3.6-linux-x86_64.egg (from tensorflow>=2.1.0->IMNN==0.3.dev0) (1.12.1)\n",
      "Requirement already satisfied: setuptools in /mnt/home/tmakinen/anaconda3/envs/pyjax/lib/python3.6/site-packages (from protobuf>=3.9.2->tensorflow>=2.1.0->IMNN==0.3.dev0) (54.2.0)\n",
      "Requirement already satisfied: google-auth-oauthlib<0.5,>=0.4.1 in /mnt/home/tmakinen/anaconda3/envs/pyjax/lib/python3.6/site-packages/google_auth_oauthlib-0.4.2-py3.6.egg (from tensorboard~=2.4->tensorflow>=2.1.0->IMNN==0.3.dev0) (0.4.2)\n",
      "Requirement already satisfied: google-auth<2,>=1.6.3 in /mnt/home/tmakinen/anaconda3/envs/pyjax/lib/python3.6/site-packages/google_auth-1.24.0-py3.6.egg (from tensorboard~=2.4->tensorflow>=2.1.0->IMNN==0.3.dev0) (1.24.0)\n",
      "Requirement already satisfied: markdown>=2.6.8 in /mnt/home/tmakinen/anaconda3/envs/pyjax/lib/python3.6/site-packages/Markdown-3.3.3-py3.6.egg (from tensorboard~=2.4->tensorflow>=2.1.0->IMNN==0.3.dev0) (3.3.3)\n",
      "Requirement already satisfied: requests<3,>=2.21.0 in /mnt/home/tmakinen/anaconda3/envs/pyjax/lib/python3.6/site-packages/requests-2.25.1-py3.6.egg (from tensorboard~=2.4->tensorflow>=2.1.0->IMNN==0.3.dev0) (2.25.1)\n",
      "Requirement already satisfied: tensorboard-plugin-wit>=1.6.0 in /mnt/home/tmakinen/anaconda3/envs/pyjax/lib/python3.6/site-packages/tensorboard_plugin_wit-1.7.0-py3.6.egg (from tensorboard~=2.4->tensorflow>=2.1.0->IMNN==0.3.dev0) (1.7.0)\n",
      "Requirement already satisfied: werkzeug>=0.11.15 in /mnt/home/tmakinen/anaconda3/envs/pyjax/lib/python3.6/site-packages/Werkzeug-1.0.1-py3.6.egg (from tensorboard~=2.4->tensorflow>=2.1.0->IMNN==0.3.dev0) (1.0.1)\n",
      "Requirement already satisfied: cachetools<5.0,>=2.0.0 in /mnt/home/tmakinen/anaconda3/envs/pyjax/lib/python3.6/site-packages/cachetools-4.2.0-py3.6.egg (from google-auth<2,>=1.6.3->tensorboard~=2.4->tensorflow>=2.1.0->IMNN==0.3.dev0) (4.2.0)\n",
      "Requirement already satisfied: pyasn1-modules>=0.2.1 in /mnt/home/tmakinen/anaconda3/envs/pyjax/lib/python3.6/site-packages/pyasn1_modules-0.2.8-py3.6.egg (from google-auth<2,>=1.6.3->tensorboard~=2.4->tensorflow>=2.1.0->IMNN==0.3.dev0) (0.2.8)\n",
      "Requirement already satisfied: rsa<5,>=3.1.4 in /mnt/home/tmakinen/anaconda3/envs/pyjax/lib/python3.6/site-packages/rsa-4.6-py3.6.egg (from google-auth<2,>=1.6.3->tensorboard~=2.4->tensorflow>=2.1.0->IMNN==0.3.dev0) (4.6)\n",
      "Requirement already satisfied: requests-oauthlib>=0.7.0 in /mnt/home/tmakinen/anaconda3/envs/pyjax/lib/python3.6/site-packages/requests_oauthlib-1.3.0-py3.6.egg (from google-auth-oauthlib<0.5,>=0.4.1->tensorboard~=2.4->tensorflow>=2.1.0->IMNN==0.3.dev0) (1.3.0)\n",
      "Requirement already satisfied: importlib-metadata in /mnt/home/tmakinen/anaconda3/envs/pyjax/lib/python3.6/site-packages/importlib_metadata-3.3.0-py3.6.egg (from markdown>=2.6.8->tensorboard~=2.4->tensorflow>=2.1.0->IMNN==0.3.dev0) (3.3.0)\n",
      "Requirement already satisfied: pyasn1<0.5.0,>=0.4.6 in /mnt/home/tmakinen/anaconda3/envs/pyjax/lib/python3.6/site-packages/pyasn1-0.4.8-py3.6.egg (from pyasn1-modules>=0.2.1->google-auth<2,>=1.6.3->tensorboard~=2.4->tensorflow>=2.1.0->IMNN==0.3.dev0) (0.4.8)\n",
      "Requirement already satisfied: certifi>=2017.4.17 in /mnt/home/tmakinen/anaconda3/envs/pyjax/lib/python3.6/site-packages (from requests<3,>=2.21.0->tensorboard~=2.4->tensorflow>=2.1.0->IMNN==0.3.dev0) (2020.12.5)\n",
      "Requirement already satisfied: chardet<5,>=3.0.2 in /mnt/home/tmakinen/anaconda3/envs/pyjax/lib/python3.6/site-packages/chardet-4.0.0-py3.6.egg (from requests<3,>=2.21.0->tensorboard~=2.4->tensorflow>=2.1.0->IMNN==0.3.dev0) (4.0.0)\n",
      "Requirement already satisfied: idna<3,>=2.5 in /mnt/home/tmakinen/anaconda3/envs/pyjax/lib/python3.6/site-packages/idna-2.10-py3.6.egg (from requests<3,>=2.21.0->tensorboard~=2.4->tensorflow>=2.1.0->IMNN==0.3.dev0) (2.10)\n",
      "Requirement already satisfied: urllib3<1.27,>=1.21.1 in /mnt/home/tmakinen/anaconda3/envs/pyjax/lib/python3.6/site-packages/urllib3-1.26.2-py3.6.egg (from requests<3,>=2.21.0->tensorboard~=2.4->tensorflow>=2.1.0->IMNN==0.3.dev0) (1.26.2)\n",
      "Requirement already satisfied: oauthlib>=3.0.0 in /mnt/home/tmakinen/anaconda3/envs/pyjax/lib/python3.6/site-packages/oauthlib-3.1.0-py3.6.egg (from requests-oauthlib>=0.7.0->google-auth-oauthlib<0.5,>=0.4.1->tensorboard~=2.4->tensorflow>=2.1.0->IMNN==0.3.dev0) (3.1.0)\n",
      "Requirement already satisfied: zipp>=0.5 in /mnt/home/tmakinen/anaconda3/envs/pyjax/lib/python3.6/site-packages/zipp-3.4.0-py3.6.egg (from importlib-metadata->markdown>=2.6.8->tensorboard~=2.4->tensorflow>=2.1.0->IMNN==0.3.dev0) (3.4.0)\n",
      "Requirement already satisfied: cycler>=0.10 in /mnt/home/tmakinen/anaconda3/envs/pyjax/lib/python3.6/site-packages (from matplotlib->IMNN==0.3.dev0) (0.10.0)\n",
      "Requirement already satisfied: pillow>=6.2.0 in /mnt/home/tmakinen/anaconda3/envs/pyjax/lib/python3.6/site-packages (from matplotlib->IMNN==0.3.dev0) (8.1.0)\n",
      "Requirement already satisfied: kiwisolver>=1.0.1 in /mnt/home/tmakinen/anaconda3/envs/pyjax/lib/python3.6/site-packages (from matplotlib->IMNN==0.3.dev0) (1.3.1)\n",
      "Requirement already satisfied: python-dateutil>=2.1 in /mnt/home/tmakinen/anaconda3/envs/pyjax/lib/python3.6/site-packages (from matplotlib->IMNN==0.3.dev0) (2.8.1)\n",
      "Requirement already satisfied: pyparsing!=2.0.4,!=2.1.2,!=2.1.6,>=2.0.3 in /mnt/home/tmakinen/anaconda3/envs/pyjax/lib/python3.6/site-packages (from matplotlib->IMNN==0.3.dev0) (2.4.7)\n",
      "Installing collected packages: IMNN\n",
      "  Attempting uninstall: IMNN\n",
      "    Found existing installation: IMNN 0.3.dev0\n",
      "    Uninstalling IMNN-0.3.dev0:\n",
      "      Successfully uninstalled IMNN-0.3.dev0\n",
      "  Running setup.py develop for IMNN\n",
      "Successfully installed IMNN\n"
     ]
    }
   ],
   "source": [
    "!pip install -e ."
   ]
  },
  {
   "cell_type": "code",
   "execution_count": 80,
   "metadata": {},
   "outputs": [
    {
     "name": "stdout",
     "output_type": "stream",
     "text": [
      "/mnt/home/tmakinen/repositories/scratch/dev-imnn/imnn/examples/fields\n"
     ]
    }
   ],
   "source": [
    "cd examples/fields"
   ]
  },
  {
   "cell_type": "code",
   "execution_count": 44,
   "metadata": {},
   "outputs": [
    {
     "name": "stdout",
     "output_type": "stream",
     "text": [
      "IMNN version:  0.2dev\n"
     ]
    }
   ],
   "source": [
    "# for model stuff\n",
    "import jax.experimental.optimizers as optimizers\n",
    "import jax.experimental.stax as stax\n",
    "from jax import jit\n",
    "\n",
    "import IMNN\n",
    "print(\"IMNN version: \", IMNN.__version__)\n",
    "\n",
    "from IMNN.experimental.jax.imnn import (\n",
    "    AggregatedGradientIMNN,\n",
    "    AggregatedNumericalGradientIMNN,\n",
    "    AggregatedSimulatorIMNN,\n",
    "    GradientIMNN,\n",
    "    NumericalGradientIMNN,\n",
    "    SimulatorIMNN,\n",
    ")\n",
    "from IMNN.experimental.jax.lfi import (\n",
    "    ApproximateBayesianComputation,\n",
    "    GaussianApproximation,\n",
    ")\n",
    "from IMNN.experimental.jax.utils import value_and_jacrev, value_and_jacfwd"
   ]
  },
  {
   "cell_type": "code",
   "execution_count": null,
   "metadata": {},
   "outputs": [],
   "source": [
    "SimulatorIMNN()"
   ]
  },
  {
   "cell_type": "code",
   "execution_count": 6,
   "metadata": {},
   "outputs": [],
   "source": [
    "N = 32"
   ]
  },
  {
   "cell_type": "code",
   "execution_count": 7,
   "metadata": {},
   "outputs": [],
   "source": [
    "def compute_r2(N):\n",
    "    _Di = np.tile(toeplitz(np.arange(N)), (N, N))\n",
    "    _Dj = np.concatenate(\n",
    "        [np.concatenate(\n",
    "            [np.tile(np.abs(i - j),(N, N)) \n",
    "             for i in range(N)], \n",
    "            axis=0)\n",
    "         for j in range(N)],\n",
    "        axis=1)\n",
    "    _distance_squared = _Di * _Di + _Dj * _Dj\n",
    "    return _distance_squared\n",
    "\n",
    "r2 = compute_r2(N).astype(np.float32)\n",
    "\n",
    "def ξ_G(β):\n",
    "    return np.exp(\n",
    "        -np.expand_dims(r2, tuple(np.arange(β.ndim))) \n",
    "        / 4. / np.expand_dims(β, (-2, -1))**2.)"
   ]
  },
  {
   "cell_type": "code",
   "execution_count": 8,
   "metadata": {},
   "outputs": [],
   "source": [
    "def simulator(rng, n, \n",
    "        α, β, μ=np.zeros((N**2,), dtype=np.float32), \n",
    "        σ=np.ones((N**2 * (N**2 + 1) // 2,), dtype=np.float32)):\n",
    "    dist = tfd.TransformedDistribution(\n",
    "        #distribution=tfd.TransformedDistribution(\n",
    "            distribution=tfd.MultivariateNormalTriL(\n",
    "                loc=μ, \n",
    "                scale_tril=tfp.math.fill_triangular(σ) \n",
    "                    * np.linalg.cholesky(ξ_G(β))),\n",
    "            #bijector=tfb.Reshape((N, N))),\n",
    "        bijector=tfb.Chain([\n",
    "            tfb.Scale(np.expand_dims(α, (-1))),\n",
    "            tfb.Shift(-np.float32(0.5) * np.expand_dims(α, (-1))**np.float32(2.)),\n",
    "            tfb.Exp(),\n",
    "            tfb.Scale(-np.float32(1.)),\n",
    "            tfb.Scale(np.float32(1.) / np.expand_dims(α, (-1)))]\n",
    "            ))\n",
    "    if n is not None:\n",
    "        return dist.sample(n, seed=rng)\n",
    "    else: \n",
    "        return dist.sample(seed=rng)"
   ]
  },
  {
   "cell_type": "code",
   "execution_count": 9,
   "metadata": {},
   "outputs": [],
   "source": [
    "def _f_NL(\n",
    "        α, β, \n",
    "        μ=np.zeros((N**2,), dtype=np.float32), \n",
    "        σ=np.ones((N**2 * (N**2 + 1) // 2,), dtype=np.float32)):\n",
    "    return tfd.JointDistributionNamed(\n",
    "        dict(\n",
    "            α = tfd.Uniform(low=np.float32(0.), high=np.float32(2.)),\n",
    "            β = tfd.Uniform(low=np.float32(0.2), high=np.float32(0.8)),\n",
    "            f_NL = tfd.TransformedDistribution(\n",
    "                #distribution=tfd.TransformedDistribution(\n",
    "                    distribution=tfd.MultivariateNormalTriL(\n",
    "                        loc=μ, \n",
    "                        scale_tril=tfp.math.fill_triangular(σ) \n",
    "                            * np.linalg.cholesky(ξ_G(β))),\n",
    "                    #bijector=tfb.Reshape((N, N))),\n",
    "                bijector=tfb.Chain([\n",
    "                    tfb.Scale(np.expand_dims(α, (-1))),\n",
    "                    tfb.Shift(-np.float32(0.5) * np.expand_dims(α, (-1))**np.float32(2.)),\n",
    "                    tfb.Exp(),\n",
    "                    tfb.Scale(-np.float32(1.)),\n",
    "                    tfb.Scale(np.float32(1.) / np.expand_dims(α, (-1)))]))))"
   ]
  },
  {
   "cell_type": "code",
   "execution_count": 10,
   "metadata": {},
   "outputs": [],
   "source": [
    "f_NL = tfd.JointDistributionNamed(\n",
    "    dict(\n",
    "        α = tfd.Uniform(low=np.float32(0.), high=np.float32(2.)),\n",
    "        β = tfd.Uniform(low=np.float32(0.2), high=np.float32(0.8)),\n",
    "        μ = tfd.Normal(\n",
    "            loc=np.zeros((N**2,), dtype=np.float32), \n",
    "            scale=np.ones((N**2,), dtype=np.float32)),                 \n",
    "        σ = tfp.distributions.Uniform(\n",
    "            low=np.zeros((N**2 * (N**2 + 1) // 2,), dtype=np.float32), \n",
    "            high=np.ones((N**2 * (N**2 + 1) // 2,), dtype=np.float32)),\n",
    "        f_NL = lambda α, β, μ, σ: tfd.TransformedDistribution(\n",
    "            #distribution=tfd.TransformedDistribution(\n",
    "                distribution=tfd.MultivariateNormalTriL(\n",
    "                    loc=μ, \n",
    "                    scale_tril=tfp.math.fill_triangular(σ) \n",
    "                        * np.linalg.cholesky(ξ_G(β))),\n",
    "                #bijector=tfb.Reshape((N, N))),\n",
    "            bijector=tfb.Chain([\n",
    "                tfb.Scale(np.expand_dims(α, (-1))),\n",
    "                tfb.Shift(-np.float32(0.5) * np.expand_dims(α, (-1))**np.float32(2.)),\n",
    "                tfb.Exp(),\n",
    "                tfb.Scale(-np.float32(1.)),\n",
    "                tfb.Scale(np.float32(1.) / np.expand_dims(α, (-1)))]\n",
    "                ))))"
   ]
  },
  {
   "cell_type": "code",
   "execution_count": 11,
   "metadata": {},
   "outputs": [
    {
     "data": {
      "text/plain": [
       "<matplotlib.colorbar.Colorbar at 0x1553f250f390>"
      ]
     },
     "execution_count": 11,
     "metadata": {},
     "output_type": "execute_result"
    },
    {
     "data": {
      "image/png": "[encoded data removed]",
      "text/plain": [
       "<Figure size 720x288 with 11 Axes>"
      ]
     },
     "metadata": {
      "needs_background": "light"
     },
     "output_type": "display_data"
    }
   ],
   "source": [
    "rng, key = jax.random.split(rng)\n",
    "f_NLs = f_NL.sample(10, seed=key)[\"f_NL\"].reshape((10, N, N))\n",
    "fig, ax = plt.subplots(2, 5, figsize=(10, 4))\n",
    "plt.subplots_adjust(wspace=0, hspace=0)\n",
    "for i in range(2):\n",
    "    for j in range(5):\n",
    "        a = ax[i, j].imshow(f_NLs[j + i * 5])\n",
    "        ax[i, j].set(xticks=[], yticks=[])\n",
    "plt.colorbar(a)"
   ]
  },
  {
   "cell_type": "markdown",
   "metadata": {},
   "source": [
    "# set up IMNN for problem"
   ]
  },
  {
   "cell_type": "code",
   "execution_count": null,
   "metadata": {},
   "outputs": [],
   "source": [
    "# need: vmapped simulator (take from florent), model, training loop \n",
    "# get theoretical fisher using dξ/dα, dξ/dβ and the fisher function (built in fn for getting derivs w/proper r in florent's code)\n",
    "# then: re-define tfp sampler model to use trained IMNN as compressor w/summaries as outputs\n",
    "# sample\n",
    "# compare to the full-field inference that uses all pixels as target values (RandomWalkSampler.ipynb)"
   ]
  },
  {
   "cell_type": "code",
   "execution_count": 12,
   "metadata": {},
   "outputs": [],
   "source": [
    "input_shape = (1,1, N,N)\n",
    "θ_fid = np.array([1.0, 0.5], dtype=np.float32)\n",
    "# IMNN params\n",
    "n_s = 5000\n",
    "n_d = 5000\n",
    "λ = 100.0\n",
    "ϵ = 0.1\n",
    "\n",
    "n_params = 2\n",
    "n_summaries = 2"
   ]
  },
  {
   "cell_type": "code",
   "execution_count": 13,
   "metadata": {},
   "outputs": [],
   "source": [
    "simulator_args = {'N': 32, 'squeeze': False}\n",
    "def imnn_simulator(rng, θ, simulator_args=simulator_args):\n",
    "    A,B = θ\n",
    "    noise = 0.01\n",
    "    def fn(key, A,B):\n",
    "        if simulator_args['squeeze']:\n",
    "            #target[\"f_NL\"] = simulator(key, None, target[\"α\"], target[\"β\"])\n",
    "            return np.expand_dims(simulator(key, None, A, B), 0)\n",
    "\n",
    "        else:\n",
    "            return (np.expand_dims(np.expand_dims(simulator(key, None, A, B), 0), 0))\n",
    "\n",
    "    if A.shape == B.shape:\n",
    "        if len(A.shape) == 0:\n",
    "            return fn(rng, A, B)\n",
    "        else:\n",
    "            keys = jax.random.split(rng, num=A.shape[0] + 1)\n",
    "            rng = keys[0]\n",
    "            keys = keys[1:]\n",
    "            return jax.vmap(\n",
    "                lambda key, A, B: simulator(key, (A, B), simulator_args=simulator_args)\n",
    "            )(keys, A, B)\n",
    "    else:\n",
    "        if len(A.shape) > 0:\n",
    "            keys = jax.random.split(rng, num=A.shape[0] + 1)\n",
    "            rng = keys[0]\n",
    "            keys = keys[1:]\n",
    "            return jax.vmap(\n",
    "                lambda key, A: simulator(key, (A, B), simulator_args=simulator_args)\n",
    "            )(keys, A)\n",
    "        elif len(B.shape) > 0:\n",
    "            keys = jax.random.split(rng, num=B.shape[0])\n",
    "            return jax.vmap(\n",
    "                lambda key, B: simulator(key, (A, B), simulator_args=simulator_args)\n",
    "            )(keys, B)\n",
    "    "
   ]
  },
  {
   "cell_type": "code",
   "execution_count": 14,
   "metadata": {},
   "outputs": [],
   "source": [
    "def simulator_gradient(rng, θ, simulator_args=simulator_args):\n",
    "    return value_and_jacrev(simulator, argnums=1, allow_int=True, holomorphic=True)(rng, θ, simulator_args=simulator_args)"
   ]
  },
  {
   "cell_type": "code",
   "execution_count": 15,
   "metadata": {},
   "outputs": [],
   "source": [
    "# define stax model\n",
    "def InceptBlock2(filters, strides, do_5x5=True, do_3x3=True):\n",
    "    \"\"\"InceptNet convolutional striding block.\n",
    "    filters: tuple: (f1,f2,f3)\n",
    "    filters1: for conv1x1\n",
    "    filters2: for conv1x1,conv3x3\n",
    "    filters3L for conv1x1,conv5x5\"\"\"\n",
    "    \n",
    "    filters1, filters2, filters3 = filters\n",
    "    \n",
    "    conv1x1 = stax.serial(stax.Conv(filters1, (1,1), strides, padding=\"SAME\"))\n",
    "    \n",
    "    filters4 = filters2\n",
    "    conv3x3 = stax.serial(stax.Conv(filters2, (1,1), strides=None, padding=\"SAME\"),\n",
    "                        stax.Conv(filters4, (3,3), strides, padding=\"SAME\"))\n",
    "                        \n",
    "    filters5 = filters3\n",
    "    conv5x5 = stax.serial(stax.Conv(filters3, (1,1), strides=None, padding=\"SAME\"),\n",
    "                         stax.Conv(filters5, (5,5), strides, padding=\"SAME\"))\n",
    "\n",
    "    maxpool = stax.serial(stax.MaxPool((3,3), padding=\"SAME\"),\n",
    "                         stax.Conv(filters4, (1,1), strides, padding=\"SAME\"))\n",
    "                            \n",
    "    if do_3x3:\n",
    "        if do_5x5:\n",
    "            return stax.serial(\n",
    "                  stax.FanOut(4),  # should num=3 or 2 here ?\n",
    "                  stax.parallel(conv1x1, conv3x3, conv5x5, maxpool),\n",
    "                  stax.FanInConcat(), \n",
    "                  stax.LeakyRelu)\n",
    "        else:\n",
    "            return stax.serial(\n",
    "                  stax.FanOut(3),  # should num=3 or 2 here ?\n",
    "                  stax.parallel(conv1x1, conv3x3, maxpool),\n",
    "                  stax.FanInConcat(), \n",
    "                  stax.LeakyRelu)\n",
    "            \n",
    "    else:\n",
    "        return stax.serial(\n",
    "              stax.FanOut(2),  # should num=3 or 2 here ?\n",
    "              stax.parallel(conv1x1, maxpool),\n",
    "              stax.FanInConcat(), \n",
    "              stax.LeakyRelu)"
   ]
  },
  {
   "cell_type": "code",
   "execution_count": 16,
   "metadata": {},
   "outputs": [],
   "source": [
    "fs = 32\n",
    "model = stax.serial(\n",
    "        #InceptBlock2((fs,fs,fs), strides=(4,4)),\n",
    "        #InceptBlock2((fs,fs,fs), strides=(4,4)),\n",
    "        InceptBlock2((fs,fs,fs), strides=(4,4)),\n",
    "        InceptBlock2((fs,fs,fs), strides=(2,2), do_5x5=False, do_3x3=False),\n",
    "        InceptBlock2((fs,fs,fs), strides=(2,2), do_5x5=False, do_3x3=False),\n",
    "        stax.Conv(n_summaries, (1,1), strides=(1,1), padding=\"SAME\"),\n",
    "        stax.Flatten\n",
    ")"
   ]
  },
  {
   "cell_type": "code",
   "execution_count": 17,
   "metadata": {},
   "outputs": [],
   "source": [
    "rng, initial_model_key = jax.random.split(rng)\n",
    "rng, fitting_key = jax.random.split(rng)"
   ]
  },
  {
   "cell_type": "code",
   "execution_count": 18,
   "metadata": {},
   "outputs": [],
   "source": [
    "optimiser = optimizers.adam(step_size=1e-3)"
   ]
  },
  {
   "cell_type": "code",
   "execution_count": 28,
   "metadata": {},
   "outputs": [],
   "source": [
    "from IMNN.experimental.jax.imnn.imnn import IMNN\n",
    "from IMNN.experimental.jax.utils import check_simulator, value_and_jacrev\n",
    "\n",
    "\n",
    "class SimIMNN(IMNN):\n",
    "    def __init__(self, n_s, n_d, n_params, n_summaries, input_shape, θ_fid,\n",
    "                 model, optimiser, key, simulator, verbose=True):\n",
    "        super().__init__(\n",
    "            n_s=n_s,\n",
    "            n_d=n_d,\n",
    "            n_params=n_params,\n",
    "            n_summaries=n_summaries,\n",
    "            input_shape=input_shape,\n",
    "            θ_fid=θ_fid,\n",
    "            model=model,\n",
    "            key=key,\n",
    "            optimiser=optimiser,\n",
    "            verbose=verbose)\n",
    "        self.simulator = check_simulator(simulator)\n",
    "        self.simulate = True\n",
    "\n",
    "    def get_fitting_keys(self, rng):\n",
    "        return jax.random.split(rng, num=3)\n",
    "\n",
    "    def get_summaries(self, w, key, validate=False):\n",
    "        def get_summary(key, θ):\n",
    "            return self.model(w, self.simulator(key, θ))\n",
    "\n",
    "        def get_derivatives(key):\n",
    "            return value_and_jacrev(get_summary, argnums=1)(key, self.θ_fid)\n",
    "\n",
    "        keys = np.array(jax.random.split(key, num=self.n_s))\n",
    "        summaries, derivatives = jax.vmap(get_derivatives)(keys[:self.n_d])\n",
    "        if self.n_s > self.n_d:\n",
    "            summaries = np.vstack([\n",
    "                summaries,\n",
    "                jax.vmap(partial(get_summary, θ=self.θ_fid))(keys[self.n_d:])])\n",
    "        return np.squeeze(summaries), np.squeeze(derivatives)"
   ]
  },
  {
   "cell_type": "code",
   "execution_count": 29,
   "metadata": {},
   "outputs": [],
   "source": [
    "IMNN = SimIMNN(\n",
    "        n_s=5000,\n",
    "        n_d=5000,\n",
    "        n_params=n_params,\n",
    "        n_summaries=n_summaries,\n",
    "        input_shape=input_shape,\n",
    "        θ_fid=θ_fid,\n",
    "        model=model,\n",
    "        optimiser=optimiser,\n",
    "        key=initial_model_key,\n",
    "        simulator=lambda rng, θ: simulator(rng, θ, simulator_args=simulator_args),\n",
    "#         devices=[jax.devices()[0]],\n",
    "#         n_per_device=1000\n",
    "        )"
   ]
  },
  {
   "cell_type": "code",
   "execution_count": 33,
   "metadata": {},
   "outputs": [
    {
     "data": {
      "text/plain": [
       "<matplotlib.colorbar.Colorbar at 0x1553f1c01f28>"
      ]
     },
     "execution_count": 33,
     "metadata": {},
     "output_type": "execute_result"
    },
    {
     "data": {
      "image/png": "[encoded data removed]",
      "text/plain": [
       "<Figure size 432x288 with 2 Axes>"
      ]
     },
     "metadata": {
      "needs_background": "light"
     },
     "output_type": "display_data"
    }
   ],
   "source": [
    "rng, key = jax.random.split(rng)\n",
    "target = dict(\n",
    "    f_NL=None,\n",
    "    α=np.array(1.0),\n",
    "    β=np.array(0.5))\n",
    "target[\"f_NL\"] = simulator(key, None, target[\"α\"], target[\"β\"])\n",
    "plt.imshow(target[\"f_NL\"].reshape((N, N)))\n",
    "plt.colorbar()"
   ]
  },
  {
   "cell_type": "code",
   "execution_count": 34,
   "metadata": {},
   "outputs": [
    {
     "data": {
      "text/plain": [
       "(1024,)"
      ]
     },
     "execution_count": 34,
     "metadata": {},
     "output_type": "execute_result"
    }
   ],
   "source": [
    "target[\"f_NL\"].shape"
   ]
  },
  {
   "cell_type": "code",
   "execution_count": 60,
   "metadata": {},
   "outputs": [],
   "source": [
    "num_burnin_steps = 100\n",
    "num_results = int(1e3)\n",
    "num_chains = 250"
   ]
  },
  {
   "cell_type": "code",
   "execution_count": 61,
   "metadata": {},
   "outputs": [],
   "source": [
    "rng, α_key, β_key = jax.random.split(rng, num=3)\n",
    "init_state = np.stack(\n",
    "    [tfd.Uniform(low=np.float32(0.), high=np.float32(2.)).sample(num_chains, seed=α_key),\n",
    "     tfd.Uniform(low=np.float32(0.2), high=np.float32(0.8)).sample(num_chains, seed=β_key)], \n",
    "    1)"
   ]
  },
  {
   "cell_type": "code",
   "execution_count": 62,
   "metadata": {},
   "outputs": [],
   "source": [
    "@jax.jit\n",
    "def run_mcmc(rng):\n",
    "    def fn(init_state):\n",
    "        return tfp.mcmc.sample_chain(\n",
    "            num_results=num_results,\n",
    "            current_state=tuple(init_state),\n",
    "            kernel = tfp.mcmc.RandomWalkMetropolis(\n",
    "                target_log_prob_fn=lambda α, β: _f_NL(α, β).log_prob(target)),\n",
    "            num_burnin_steps=num_burnin_steps,\n",
    "            num_steps_between_results=1,\n",
    "            trace_fn=lambda _, stats: stats.accepted_results.target_log_prob,\n",
    "            seed=rng)\n",
    "    return jax.vmap(fn)(init_state)"
   ]
  },
  {
   "cell_type": "code",
   "execution_count": 63,
   "metadata": {},
   "outputs": [],
   "source": [
    "states = np.zeros((2, num_chains, 0))\n",
    "stats = np.zeros((num_chains, 0))"
   ]
  },
  {
   "cell_type": "code",
   "execution_count": 64,
   "metadata": {},
   "outputs": [],
   "source": [
    "rng, key = jax.random.split(rng)\n",
    "_states, _stats = run_mcmc(key)\n",
    "states = np.concatenate([states, np.stack(_states)], -1)\n",
    "stats = np.concatenate([stats, _stats], -1)"
   ]
  },
  {
   "cell_type": "code",
   "execution_count": 65,
   "metadata": {},
   "outputs": [
    {
     "data": {
      "text/plain": [
       "<matplotlib.lines.Line2D at 0x1553b4ed5198>"
      ]
     },
     "execution_count": 65,
     "metadata": {},
     "output_type": "execute_result"
    },
    {
     "data": {
      "image/png": "[encoded data removed]",
      "text/plain": [
       "<Figure size 432x288 with 2 Axes>"
      ]
     },
     "metadata": {
      "needs_background": "light"
     },
     "output_type": "display_data"
    }
   ],
   "source": [
    "fig, ax = plt.subplots(1, 2)\n",
    "ax[0].plot(states[0].T)\n",
    "ax[0].axhline(target[\"α\"], linestyle=\"dashed\", color=\"black\")\n",
    "ax[1].plot(states[1].T)\n",
    "ax[1].axhline(target[\"β\"], linestyle=\"dashed\", color=\"black\")"
   ]
  },
  {
   "cell_type": "code",
   "execution_count": 66,
   "metadata": {},
   "outputs": [
    {
     "data": {
      "text/plain": [
       "<matplotlib.colorbar.Colorbar at 0x1553b42f7c18>"
      ]
     },
     "execution_count": 66,
     "metadata": {},
     "output_type": "execute_result"
    },
    {
     "data": {
      "image/png": "[encoded data removed]",
      "text/plain": [
       "<Figure size 432x288 with 2 Axes>"
      ]
     },
     "metadata": {
      "needs_background": "light"
     },
     "output_type": "display_data"
    }
   ],
   "source": [
    "plt.scatter(states[0].flatten(), states[1].flatten(), c=stats.flatten(), s=5)\n",
    "plt.axvline(target[\"α\"], color=\"black\", linestyle=\"dashed\")\n",
    "plt.axhline(target[\"β\"], color=\"black\", linestyle=\"dashed\")\n",
    "plt.xlabel(r\"$\\alpha$\")\n",
    "plt.ylabel(r\"$\\beta$\")\n",
    "plt.colorbar()"
   ]
  },
  {
   "cell_type": "code",
   "execution_count": 29,
   "metadata": {},
   "outputs": [
    {
     "data": {
      "text/plain": [
       "(2, 250, 1000)"
      ]
     },
     "execution_count": 29,
     "metadata": {},
     "output_type": "execute_result"
    }
   ],
   "source": [
    "states.shape"
   ]
  },
  {
   "cell_type": "code",
   "execution_count": null,
   "metadata": {},
   "outputs": [],
   "source": []
  }
 ],
 "metadata": {
  "kernelspec": {
   "display_name": "pyjax",
   "language": "python",
   "name": "pyjax"
  },
  "language_info": {
   "codemirror_mode": {
    "name": "ipython",
    "version": 3
   },
   "file_extension": ".py",
   "mimetype": "text/x-python",
   "name": "python",
   "nbconvert_exporter": "python",
   "pygments_lexer": "ipython3",
   "version": "3.6.9"
  }
 },
 "nbformat": 4,
 "nbformat_minor": 4
}
